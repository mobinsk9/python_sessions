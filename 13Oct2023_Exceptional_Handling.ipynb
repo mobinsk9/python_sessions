{
 "cells": [
  {
   "cell_type": "markdown",
   "id": "02ba9637",
   "metadata": {},
   "source": [
    "$try$ $except$"
   ]
  },
  {
   "cell_type": "code",
   "execution_count": 2,
   "id": "65e7497e",
   "metadata": {
    "ExecuteTime": {
     "end_time": "2023-10-13T14:32:33.016547Z",
     "start_time": "2023-10-13T14:32:28.042209Z"
    }
   },
   "outputs": [
    {
     "name": "stdout",
     "output_type": "stream",
     "text": [
      "Enter n1 Value:Mobin\n",
      "Entered value is not numeric\n"
     ]
    }
   ],
   "source": [
    "try:\n",
    "    n1=eval(input(\"Enter n1 Value:\"))\n",
    "    n2=100\n",
    "    add=n1+n2\n",
    "    print(add)\n",
    "except:\n",
    "    print(\"Entered value is not numeric\")"
   ]
  },
  {
   "cell_type": "code",
   "execution_count": 4,
   "id": "88ce284b",
   "metadata": {
    "ExecuteTime": {
     "end_time": "2023-10-13T14:50:38.897701Z",
     "start_time": "2023-10-13T14:50:36.775721Z"
    }
   },
   "outputs": [
    {
     "name": "stdout",
     "output_type": "stream",
     "text": [
      "Enter n1 Value:o\n",
      "name 'o' is not defined\n"
     ]
    }
   ],
   "source": [
    "try:\n",
    "    n1=eval(input(\"Enter n1 Value:\"))\n",
    "    n2=100\n",
    "    add=n1+n2\n",
    "    print(add)\n",
    "except Exception as e:\n",
    "    print(e)"
   ]
  },
  {
   "cell_type": "code",
   "execution_count": 5,
   "id": "8c683c5f",
   "metadata": {
    "ExecuteTime": {
     "end_time": "2023-10-13T14:57:38.227100Z",
     "start_time": "2023-10-13T14:57:34.967247Z"
    }
   },
   "outputs": [
    {
     "name": "stdout",
     "output_type": "stream",
     "text": [
      "Enter a Value:10\n",
      "Enter b value:P\n",
      "name 'P' is not defined\n"
     ]
    }
   ],
   "source": [
    "try:\n",
    "    n1=eval(input(\"Enter a Value:\"))\n",
    "    n2=eval(input(\"Enter b value:\"))\n",
    "    print(n1+n2)\n",
    "except Exception as e:\n",
    "    print(e)"
   ]
  },
  {
   "cell_type": "code",
   "execution_count": 6,
   "id": "c9301251",
   "metadata": {
    "ExecuteTime": {
     "end_time": "2023-10-13T14:58:11.605046Z",
     "start_time": "2023-10-13T14:58:09.326327Z"
    }
   },
   "outputs": [
    {
     "name": "stdout",
     "output_type": "stream",
     "text": [
      "Enter a value:p\n",
      "name 'p' is not defined\n"
     ]
    }
   ],
   "source": [
    "try:\n",
    "    a=eval(input(\"Enter a value:\"))\n",
    "    print(\"The Square of {} is {}\".format(a,a*a),'.',sep='')\n",
    "except Exception as e:\n",
    "    print(e)"
   ]
  },
  {
   "cell_type": "code",
   "execution_count": 7,
   "id": "9a71b129",
   "metadata": {
    "ExecuteTime": {
     "end_time": "2023-10-13T14:58:44.171202Z",
     "start_time": "2023-10-13T14:58:42.577429Z"
    }
   },
   "outputs": [
    {
     "name": "stdout",
     "output_type": "stream",
     "text": [
      "Enter weight in kgsP\n",
      "name 'P' is not defined\n"
     ]
    }
   ],
   "source": [
    "try:\n",
    "    w=eval(input(\"Enter weight in kgs\"))\n",
    "    p=round(w*2.2)\n",
    "    print(\"Enetered weight in {} kgs and {} pounds\".format(w,p))\n",
    "except Exception as e:\n",
    "    print(e) "
   ]
  },
  {
   "cell_type": "code",
   "execution_count": 8,
   "id": "319f59e3",
   "metadata": {
    "ExecuteTime": {
     "end_time": "2023-10-13T14:59:14.794881Z",
     "start_time": "2023-10-13T14:59:10.064857Z"
    }
   },
   "outputs": [
    {
     "name": "stdout",
     "output_type": "stream",
     "text": [
      "Please enter n1 value:100\n",
      "Please enter n2 value:200\n",
      "Please enter n3 value:Py\n",
      "name 'Py' is not defined\n"
     ]
    }
   ],
   "source": [
    "try:\n",
    "    n1=eval(input(\"Please enter n1 value:\"))\n",
    "    n2=eval(input(\"Please enter n2 value:\"))\n",
    "    n3=eval(input(\"Please enter n3 value:\"))\n",
    "    sum=n1+n2+n3\n",
    "    avg=round(sum/3)\n",
    "    print(\"Entered {},{} and {}numbers SUM is {} and AVG is {}\".format(n1,n2,n3,sum,avg))\n",
    "except Exception as e:\n",
    "    print(e)"
   ]
  },
  {
   "cell_type": "code",
   "execution_count": 9,
   "id": "402b52ba",
   "metadata": {
    "ExecuteTime": {
     "end_time": "2023-10-13T14:59:41.284386Z",
     "start_time": "2023-10-13T14:59:40.121065Z"
    }
   },
   "outputs": [
    {
     "name": "stdout",
     "output_type": "stream",
     "text": [
      "Enter Meal price:p\n",
      "name 'p' is not defined\n"
     ]
    }
   ],
   "source": [
    "try:\n",
    "    mp=eval(input(\"Enter Meal price:\"))\n",
    "    tip=eval(input(\"Please let me know the tip in %\"))\n",
    "    t_amount=(mp*tip)/100\n",
    "    tot=mp+t_amount\n",
    "    print(\"The tip amount is {} and total amount is {}\".format(t_amount,tot))\n",
    "except Exception as e:\n",
    "    print(e)"
   ]
  },
  {
   "cell_type": "code",
   "execution_count": 11,
   "id": "fa5cb8c6",
   "metadata": {
    "ExecuteTime": {
     "end_time": "2023-10-13T15:02:52.632437Z",
     "start_time": "2023-10-13T15:02:51.029745Z"
    }
   },
   "outputs": [
    {
     "name": "stdout",
     "output_type": "stream",
     "text": [
      "Enter Meal price:p\n",
      "Line 1 has error \n",
      "          Still want to execute or not?\n"
     ]
    }
   ],
   "source": [
    "try:\n",
    "    mp=eval(input(\"Enter Meal price:\"))\n",
    "    tip=eval(input(\"Please let me know the tip in %\"))\n",
    "    t_amount=(mp*tip)/100\n",
    "    tot=mp+t_amount\n",
    "    print(\"The tip amount is {} and total amount is {}\".format(t_amount,tot))\n",
    "except:\n",
    "    print(\"\"\"Line 1 has error \n",
    "          Still want to execute or not?\"\"\")"
   ]
  },
  {
   "cell_type": "code",
   "execution_count": null,
   "id": "334048dd",
   "metadata": {},
   "outputs": [],
   "source": []
  },
  {
   "cell_type": "code",
   "execution_count": null,
   "id": "823f0d6c",
   "metadata": {},
   "outputs": [],
   "source": []
  },
  {
   "cell_type": "code",
   "execution_count": null,
   "id": "920c3c3a",
   "metadata": {},
   "outputs": [],
   "source": []
  },
  {
   "cell_type": "code",
   "execution_count": null,
   "id": "8f3332f1",
   "metadata": {},
   "outputs": [],
   "source": []
  },
  {
   "cell_type": "code",
   "execution_count": null,
   "id": "08c16377",
   "metadata": {},
   "outputs": [],
   "source": []
  },
  {
   "cell_type": "code",
   "execution_count": null,
   "id": "59294aa3",
   "metadata": {},
   "outputs": [],
   "source": []
  }
 ],
 "metadata": {
  "kernelspec": {
   "display_name": "Python 3 (ipykernel)",
   "language": "python",
   "name": "python3"
  },
  "language_info": {
   "codemirror_mode": {
    "name": "ipython",
    "version": 3
   },
   "file_extension": ".py",
   "mimetype": "text/x-python",
   "name": "python",
   "nbconvert_exporter": "python",
   "pygments_lexer": "ipython3",
   "version": "3.9.7"
  }
 },
 "nbformat": 4,
 "nbformat_minor": 5
}
