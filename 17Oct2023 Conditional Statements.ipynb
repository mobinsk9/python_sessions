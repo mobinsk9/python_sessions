{
 "cells": [
  {
   "cell_type": "code",
   "execution_count": 5,
   "id": "1f2639ab",
   "metadata": {
    "ExecuteTime": {
     "end_time": "2023-10-17T14:29:58.851339Z",
     "start_time": "2023-10-17T14:29:56.269712Z"
    }
   },
   "outputs": [
    {
     "name": "stdout",
     "output_type": "stream",
     "text": [
      "Enter number of KMs:6\n",
      "Distance morethan 6km fare is 1000RS\n"
     ]
    }
   ],
   "source": [
    "try:\n",
    "    km=eval(input(\"Enter number of KMs:\"))\n",
    "    if km <2:\n",
    "        print(\"Distance between 0 and 2km fare is 20RS\")\n",
    "    elif km >=2 and km<4:\n",
    "        print(\"Distance between 2 and 4km fare is 40RS\")\n",
    "    elif km >=4 and km<6:\n",
    "        print(\"Distance between 4 and 6km fare is 60RS\")\n",
    "    else:\n",
    "        print(\"Distance morethan 6km fare is 1000RS\")\n",
    "except Exception as e:\n",
    "    print(e)"
   ]
  },
  {
   "cell_type": "code",
   "execution_count": 9,
   "id": "945a5a94",
   "metadata": {
    "ExecuteTime": {
     "end_time": "2023-10-17T14:45:06.601587Z",
     "start_time": "2023-10-17T14:45:03.916024Z"
    }
   },
   "outputs": [
    {
     "name": "stdout",
     "output_type": "stream",
     "text": [
      "Enter the student percentage:40\n",
      "Grade D\n"
     ]
    }
   ],
   "source": [
    "try:\n",
    "    p=eval(input(\"Enter the student percentage:\"))\n",
    "    if p >= 90:\n",
    "        print(\"Grade A\")\n",
    "    elif p>=70:\n",
    "        print(\"Grade B\")\n",
    "    elif p>=50:\n",
    "        print(\"Grade C\")\n",
    "    else:\n",
    "        print(\"Grade D\")\n",
    "except Exception as e:\n",
    "    print(e)"
   ]
  },
  {
   "cell_type": "code",
   "execution_count": 12,
   "id": "7dde7fe2",
   "metadata": {
    "ExecuteTime": {
     "end_time": "2023-10-17T14:52:47.246229Z",
     "start_time": "2023-10-17T14:52:45.938171Z"
    }
   },
   "outputs": [
    {
     "name": "stdout",
     "output_type": "stream",
     "text": [
      "Enter n Value:100\n",
      "Enetered number is Positive!!!\n"
     ]
    }
   ],
   "source": [
    "try:\n",
    "    n=eval(input(\"Enter n Value:\"))\n",
    "    if n>=0:\n",
    "        if n==0:\n",
    "            print(\"Entered number is Zero!!!\")\n",
    "        else:\n",
    "            print(\"Enetered number is Positive!!!\")\n",
    "    else:\n",
    "        print(\"Entered number is Negative!!!\")\n",
    "except Exception as e:\n",
    "    print(e)"
   ]
  },
  {
   "cell_type": "code",
   "execution_count": 14,
   "id": "9fb2b932",
   "metadata": {
    "ExecuteTime": {
     "end_time": "2023-10-17T15:08:15.326188Z",
     "start_time": "2023-10-17T15:08:13.306091Z"
    }
   },
   "outputs": [
    {
     "name": "stdout",
     "output_type": "stream",
     "text": [
      "Please enter the value:100\n",
      "Out of range\n"
     ]
    }
   ],
   "source": [
    "try:\n",
    "    n=eval(input(\"Please enter the value:\"))\n",
    "    if n==0:\n",
    "        print(\"Zero!!!\")\n",
    "    elif n>=1 and n<100:\n",
    "        print(\"Between 1 and 99\")\n",
    "    else:\n",
    "        print(\"Out of range\")\n",
    "except Exception as e:\n",
    "    print(e)"
   ]
  },
  {
   "cell_type": "code",
   "execution_count": null,
   "id": "a5da4675",
   "metadata": {},
   "outputs": [],
   "source": [
    "try:\n",
    "    n=eval(input(\"Please enter the value:\"))\n",
    "    if n0:\n",
    "        print(\"Zero!!!\")\n",
    "    elif n>=1 and n<100:\n",
    "        print(\"Between 1 and 99\")\n",
    "    else:\n",
    "        print(\"Out of range\")\n",
    "except Exception as e:\n",
    "    print(e)"
   ]
  },
  {
   "cell_type": "code",
   "execution_count": 19,
   "id": "89970b33",
   "metadata": {
    "ExecuteTime": {
     "end_time": "2023-10-17T15:25:16.988574Z",
     "start_time": "2023-10-17T15:25:13.360330Z"
    }
   },
   "outputs": [
    {
     "name": "stdout",
     "output_type": "stream",
     "text": [
      "Enter the Gender:Girl\n",
      "Enter age:14\n",
      "She is a girl\n"
     ]
    }
   ],
   "source": [
    "try:\n",
    "    g=input(\"Enter the Gender:\")\n",
    "    if g=='Male':\n",
    "        a=eval(input(\"Enter age:\"))\n",
    "        if a>25:\n",
    "            print(\"He is a man\")\n",
    "        else:\n",
    "            print(\"He is a boy\")\n",
    "    else:\n",
    "        a=eval(input(\"Enter age:\"))\n",
    "        if a>25:\n",
    "            print(\"She is a women\")\n",
    "        else:\n",
    "            print(\"She is a girl\")\n",
    "except Exception as e:\n",
    "    print(e)"
   ]
  },
  {
   "cell_type": "code",
   "execution_count": 25,
   "id": "6c5a0c22",
   "metadata": {
    "ExecuteTime": {
     "end_time": "2023-10-17T16:07:08.171754Z",
     "start_time": "2023-10-17T16:06:57.541941Z"
    }
   },
   "outputs": [
    {
     "name": "stdout",
     "output_type": "stream",
     "text": [
      "Enter a value:1111111111111111\n",
      "Enter a value:222222222222222222222222\n",
      "Enter a value:777777777777777777777777777777777\n",
      "Greatest number is: 777777777777777777777777777777777\n"
     ]
    }
   ],
   "source": [
    "try:\n",
    "    n1=eval(input(\"Enter a value:\"))\n",
    "    n2=eval(input(\"Enter a value:\"))\n",
    "    n3=eval(input(\"Enter a value:\"))\n",
    "    if n1>n2 and n1>n3:\n",
    "        print(\"Greatest number is: {}\".format(n1))\n",
    "    elif n2>n3:\n",
    "        print(\"Greatest number is: {}\".format(n2))\n",
    "    else:\n",
    "        print(\"Greatest number is: {}\".format(n3))\n",
    "except Exception as e:\n",
    "    print(e)"
   ]
  },
  {
   "cell_type": "code",
   "execution_count": 2,
   "id": "a433798e",
   "metadata": {
    "ExecuteTime": {
     "end_time": "2023-10-18T08:15:35.350821Z",
     "start_time": "2023-10-18T08:15:34.304204Z"
    }
   },
   "outputs": [
    {
     "name": "stdout",
     "output_type": "stream",
     "text": [
      "3\n",
      "0\n",
      "1\n",
      "4\n"
     ]
    }
   ],
   "source": [
    "try:\n",
    "    n = int(input())\n",
    "    i=0\n",
    "    if i>=0:\n",
    "        while i<n:\n",
    "            print(i*i)\n",
    "            i=i+1\n",
    "except Exception as e:\n",
    "    print(e)"
   ]
  },
  {
   "cell_type": "code",
   "execution_count": 44,
   "id": "b40974a4",
   "metadata": {
    "ExecuteTime": {
     "end_time": "2023-10-18T09:12:29.900250Z",
     "start_time": "2023-10-18T09:12:29.887258Z"
    }
   },
   "outputs": [],
   "source": [
    "def is_leap(year):\n",
    "    leap = False\n",
    "    if (year % 400 == 0) and (year % 4 == 0):\n",
    "        leap = True\n",
    "\n",
    "    elif (year % 4 ==0) and (year % 100 != 0):\n",
    "        leap = True\n",
    "    \n",
    "    return leap"
   ]
  },
  {
   "cell_type": "code",
   "execution_count": 47,
   "id": "db89ab2c",
   "metadata": {
    "ExecuteTime": {
     "end_time": "2023-10-18T09:12:41.255474Z",
     "start_time": "2023-10-18T09:12:41.240486Z"
    }
   },
   "outputs": [
    {
     "data": {
      "text/plain": [
       "False"
      ]
     },
     "execution_count": 47,
     "metadata": {},
     "output_type": "execute_result"
    }
   ],
   "source": [
    "is_leap(1800)"
   ]
  },
  {
   "cell_type": "code",
   "execution_count": 37,
   "id": "464aa7ea",
   "metadata": {
    "ExecuteTime": {
     "end_time": "2023-10-18T09:09:39.388378Z",
     "start_time": "2023-10-18T09:09:39.372388Z"
    }
   },
   "outputs": [],
   "source": [
    "def is_leap(year):\n",
    "    leap = False\n",
    "    \n",
    "    if (year%4==0) and (year%100==0):\n",
    "        leap=True\n",
    "    elif (year%4==0) and (year%100!=0):\n",
    "        leap=True\n",
    "    else:\n",
    "        pass\n",
    "    return leap"
   ]
  },
  {
   "cell_type": "code",
   "execution_count": 51,
   "id": "295c5ac0",
   "metadata": {
    "ExecuteTime": {
     "end_time": "2023-10-18T09:14:02.361442Z",
     "start_time": "2023-10-18T09:14:02.341454Z"
    }
   },
   "outputs": [],
   "source": [
    "def is_leap(year):\n",
    "    leap = False\n",
    "    \n",
    "    # Write your logic here\n",
    "    \n",
    "    if (year%4==0) and (year%400==0):\n",
    "        leap=True\n",
    "    elif (year%4==0) and (year%100!=0):\n",
    "        leap=False\n",
    "    return leap"
   ]
  },
  {
   "cell_type": "code",
   "execution_count": 53,
   "id": "b1720e04",
   "metadata": {
    "ExecuteTime": {
     "end_time": "2023-10-18T09:14:07.656656Z",
     "start_time": "2023-10-18T09:14:07.635129Z"
    }
   },
   "outputs": [
    {
     "data": {
      "text/plain": [
       "True"
      ]
     },
     "execution_count": 53,
     "metadata": {},
     "output_type": "execute_result"
    }
   ],
   "source": [
    "is_leap(2400)"
   ]
  },
  {
   "cell_type": "code",
   "execution_count": 54,
   "id": "d191a924",
   "metadata": {
    "ExecuteTime": {
     "end_time": "2023-10-18T09:22:34.145917Z",
     "start_time": "2023-10-18T09:22:32.374273Z"
    }
   },
   "outputs": [
    {
     "name": "stdout",
     "output_type": "stream",
     "text": [
      "5\n",
      "12345"
     ]
    }
   ],
   "source": [
    "n=int(input())\n",
    "for i in range(1,n+1):\n",
    "    print(i,end='')"
   ]
  }
 ],
 "metadata": {
  "kernelspec": {
   "display_name": "Python 3 (ipykernel)",
   "language": "python",
   "name": "python3"
  },
  "language_info": {
   "codemirror_mode": {
    "name": "ipython",
    "version": 3
   },
   "file_extension": ".py",
   "mimetype": "text/x-python",
   "name": "python",
   "nbconvert_exporter": "python",
   "pygments_lexer": "ipython3",
   "version": "3.9.7"
  }
 },
 "nbformat": 4,
 "nbformat_minor": 5
}
