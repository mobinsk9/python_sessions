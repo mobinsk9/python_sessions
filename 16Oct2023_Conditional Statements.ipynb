{
 "cells": [
  {
   "cell_type": "code",
   "execution_count": 1,
   "id": "ce852aac",
   "metadata": {
    "ExecuteTime": {
     "end_time": "2023-10-16T14:56:19.960838Z",
     "start_time": "2023-10-16T14:56:18.300236Z"
    }
   },
   "outputs": [
    {
     "name": "stdout",
     "output_type": "stream",
     "text": [
      "Enter n Value:10\n",
      "Entered number is Even\n"
     ]
    }
   ],
   "source": [
    "try:\n",
    "    n=eval(input(\"Enter n Value:\"))\n",
    "    if n%2==0:\n",
    "        print(\"Entered number is Even\")\n",
    "    else:\n",
    "        print(\"Entered number is Odd\")\n",
    "except Exception as e:\n",
    "    print(e)"
   ]
  },
  {
   "cell_type": "code",
   "execution_count": 8,
   "id": "65b9cc9b",
   "metadata": {
    "ExecuteTime": {
     "end_time": "2023-10-16T15:05:56.617055Z",
     "start_time": "2023-10-16T15:05:56.607062Z"
    }
   },
   "outputs": [
    {
     "name": "stdout",
     "output_type": "stream",
     "text": [
      "Entered number is Even\n"
     ]
    }
   ],
   "source": [
    "try:\n",
    "    import random\n",
    "    n=random.randint(1,1000)\n",
    "    if n%2==0:\n",
    "        print(\"Entered number is Even\")\n",
    "    else:\n",
    "        print(\"Entered number is Odd\")\n",
    "except Exception as e:\n",
    "    print(e)"
   ]
  },
  {
   "cell_type": "code",
   "execution_count": 11,
   "id": "00fdafd2",
   "metadata": {
    "ExecuteTime": {
     "end_time": "2023-10-16T15:20:02.532818Z",
     "start_time": "2023-10-16T15:20:00.849253Z"
    }
   },
   "outputs": [
    {
     "name": "stdout",
     "output_type": "stream",
     "text": [
      "Enter n value:10\n",
      "Entered values is Positive number 10\n"
     ]
    }
   ],
   "source": [
    "try:\n",
    "    n=eval(input(\"Enter n value:\"))\n",
    "    if n==0:\n",
    "        print(\"Entered value is Zero\")\n",
    "    elif n>0:\n",
    "        print(\"Entered values is Positive number {}\".format(n))\n",
    "    else:\n",
    "        print(\"Entered values is Negative number {}\".format(n))\n",
    "except Exception as e:print(e)"
   ]
  },
  {
   "cell_type": "code",
   "execution_count": 18,
   "id": "37c3cb75",
   "metadata": {
    "ExecuteTime": {
     "end_time": "2023-10-16T15:29:38.762085Z",
     "start_time": "2023-10-16T15:29:37.319882Z"
    }
   },
   "outputs": [
    {
     "name": "stdout",
     "output_type": "stream",
     "text": [
      "Enter n value:10\n",
      "Entered values is 1234\n"
     ]
    }
   ],
   "source": [
    "try:\n",
    "    n=eval(input(\"Enter n value:\"))\n",
    "    if n==1:\n",
    "        print(\"Entered value is One\")\n",
    "    elif n==2:\n",
    "        print(\"Entered values is Two\")\n",
    "    elif n==3:\n",
    "        print(\"Entered values is Three\")\n",
    "    elif n==4:\n",
    "        print(\"Entered values is Four\")\n",
    "    else:\n",
    "        print(\"Entered values is 1234\")\n",
    "except Exception as e:print(e)"
   ]
  },
  {
   "cell_type": "code",
   "execution_count": null,
   "id": "0238afca",
   "metadata": {},
   "outputs": [],
   "source": []
  },
  {
   "cell_type": "code",
   "execution_count": null,
   "id": "97c78b3d",
   "metadata": {},
   "outputs": [],
   "source": []
  },
  {
   "cell_type": "code",
   "execution_count": null,
   "id": "9bbf1f6f",
   "metadata": {},
   "outputs": [],
   "source": []
  },
  {
   "cell_type": "code",
   "execution_count": null,
   "id": "3cd1a78c",
   "metadata": {},
   "outputs": [],
   "source": []
  },
  {
   "cell_type": "code",
   "execution_count": 7,
   "id": "bf44ccd0",
   "metadata": {
    "ExecuteTime": {
     "end_time": "2023-10-16T15:05:49.786862Z",
     "start_time": "2023-10-16T15:05:49.448054Z"
    }
   },
   "outputs": [
    {
     "ename": "TypeError",
     "evalue": "randint() missing 2 required positional arguments: 'a' and 'b'",
     "output_type": "error",
     "traceback": [
      "\u001b[1;31m---------------------------------------------------------------------------\u001b[0m",
      "\u001b[1;31mTypeError\u001b[0m                                 Traceback (most recent call last)",
      "\u001b[1;32m~\\AppData\\Local\\Temp/ipykernel_16204/3490375205.py\u001b[0m in \u001b[0;36m<module>\u001b[1;34m\u001b[0m\n\u001b[0;32m      1\u001b[0m \u001b[1;32mimport\u001b[0m \u001b[0mrandom\u001b[0m\u001b[1;33m\u001b[0m\u001b[1;33m\u001b[0m\u001b[0m\n\u001b[1;32m----> 2\u001b[1;33m \u001b[0mrandom\u001b[0m\u001b[1;33m.\u001b[0m\u001b[0mrandint\u001b[0m\u001b[1;33m(\u001b[0m\u001b[1;33m)\u001b[0m\u001b[1;33m\u001b[0m\u001b[1;33m\u001b[0m\u001b[0m\n\u001b[0m",
      "\u001b[1;31mTypeError\u001b[0m: randint() missing 2 required positional arguments: 'a' and 'b'"
     ]
    }
   ],
   "source": [
    "import random\n",
    "random.randint()"
   ]
  },
  {
   "cell_type": "code",
   "execution_count": null,
   "id": "fe0ecc86",
   "metadata": {},
   "outputs": [],
   "source": []
  },
  {
   "cell_type": "code",
   "execution_count": null,
   "id": "09c59fe5",
   "metadata": {},
   "outputs": [],
   "source": []
  },
  {
   "cell_type": "code",
   "execution_count": null,
   "id": "d5ee6baf",
   "metadata": {},
   "outputs": [],
   "source": []
  }
 ],
 "metadata": {
  "kernelspec": {
   "display_name": "Python 3 (ipykernel)",
   "language": "python",
   "name": "python3"
  },
  "language_info": {
   "codemirror_mode": {
    "name": "ipython",
    "version": 3
   },
   "file_extension": ".py",
   "mimetype": "text/x-python",
   "name": "python",
   "nbconvert_exporter": "python",
   "pygments_lexer": "ipython3",
   "version": "3.9.7"
  }
 },
 "nbformat": 4,
 "nbformat_minor": 5
}
