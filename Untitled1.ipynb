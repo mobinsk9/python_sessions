{
 "cells": [
  {
   "cell_type": "code",
   "execution_count": 2,
   "id": "6ae52633",
   "metadata": {
    "ExecuteTime": {
     "end_time": "2023-10-12T14:28:46.902849Z",
     "start_time": "2023-10-12T14:28:43.354732Z"
    }
   },
   "outputs": [
    {
     "name": "stdout",
     "output_type": "stream",
     "text": [
      "Please enter a distance in km?10\n",
      "Please enter the fare in Ruppes?20\n",
      "For 2kms the fare is 20rs.\n"
     ]
    }
   ],
   "source": [
    "distance=eval(input(\"Please enter a distance in km?\"))\n",
    "fare=eval(input(\"Please enter the fare in Ruppes?\"))\n",
    "print(\"For 2kms the fare is 20rs.\")"
   ]
  },
  {
   "cell_type": "code",
   "execution_count": 10,
   "id": "e3f6076a",
   "metadata": {
    "ExecuteTime": {
     "end_time": "2023-10-12T14:43:06.612490Z",
     "start_time": "2023-10-12T14:43:04.537422Z"
    }
   },
   "outputs": [
    {
     "name": "stdout",
     "output_type": "stream",
     "text": [
      "Enter distance in KMs10\n",
      "Enter fare in RS2\n",
      "For 10 KM the fare is 20 rs.\n"
     ]
    }
   ],
   "source": [
    "dis=eval(input(\"Enter distance in KMs\"))\n",
    "fare=eval(input(\"Enter fare in RS\"))\n",
    "tot=dis*fare\n",
    "o1=print(\"For {} KM the fare is {} rs\".format(dis,tot),'.',sep='')"
   ]
  },
  {
   "cell_type": "code",
   "execution_count": 7,
   "id": "0eb82f7c",
   "metadata": {
    "ExecuteTime": {
     "end_time": "2023-10-12T14:39:56.662083Z",
     "start_time": "2023-10-12T14:39:56.646093Z"
    }
   },
   "outputs": [
    {
     "name": "stdout",
     "output_type": "stream",
     "text": [
      "None\n"
     ]
    }
   ],
   "source": [
    "print(o1)"
   ]
  },
  {
   "cell_type": "code",
   "execution_count": 11,
   "id": "74866354",
   "metadata": {
    "ExecuteTime": {
     "end_time": "2023-10-12T14:48:14.983538Z",
     "start_time": "2023-10-12T14:48:13.199669Z"
    }
   },
   "outputs": [
    {
     "name": "stdout",
     "output_type": "stream",
     "text": [
      "Enter a value:5\n",
      "The Square of 5 is 25.\n"
     ]
    }
   ],
   "source": [
    "a=eval(input(\"Enter a value:\"))\n",
    "print(\"The Square of {} is {}\".format(a,a*a),'.',sep='')"
   ]
  },
  {
   "cell_type": "code",
   "execution_count": 14,
   "id": "de6a4f21",
   "metadata": {
    "ExecuteTime": {
     "end_time": "2023-10-12T14:50:31.022209Z",
     "start_time": "2023-10-12T14:50:29.431689Z"
    }
   },
   "outputs": [
    {
     "name": "stdout",
     "output_type": "stream",
     "text": [
      "Enter x value:7\n",
      "7===14===21===28===35\n"
     ]
    }
   ],
   "source": [
    "x=eval(input(\"Enter x value:\"))\n",
    "print(x*1,x*2,x*3,x*4,x*5,sep='===')"
   ]
  },
  {
   "cell_type": "code",
   "execution_count": 15,
   "id": "1f49d978",
   "metadata": {
    "ExecuteTime": {
     "end_time": "2023-10-12T14:53:37.956092Z",
     "start_time": "2023-10-12T14:53:34.050552Z"
    }
   },
   "outputs": [
    {
     "name": "stdout",
     "output_type": "stream",
     "text": [
      "Enter weight in kgs10\n",
      "Enetered weight in 10 kgs and 22.0 pounds\n"
     ]
    }
   ],
   "source": [
    "w=eval(input(\"Enter weight in kgs\"))\n",
    "p=w*2.2\n",
    "print(\"Enetered weight in {} kgs and {} pounds\".format(w,p))"
   ]
  },
  {
   "cell_type": "code",
   "execution_count": 18,
   "id": "d12c6abe",
   "metadata": {
    "ExecuteTime": {
     "end_time": "2023-10-12T14:56:57.875856Z",
     "start_time": "2023-10-12T14:56:54.738521Z"
    }
   },
   "outputs": [
    {
     "name": "stdout",
     "output_type": "stream",
     "text": [
      "Please enter n1 value:10\n",
      "Please enter n2 value:20\n",
      "Please enter n3 value:30\n",
      "Entered 10,20 and 30numbers SUM is 60 and AVG is 20.0\n"
     ]
    }
   ],
   "source": [
    "n1=eval(input(\"Please enter n1 value:\"))\n",
    "n2=eval(input(\"Please enter n2 value:\"))\n",
    "n3=eval(input(\"Please enter n3 value:\"))\n",
    "sum=n1+n2+n3\n",
    "avg=round(sum/3)\n",
    "print(\"Entered {},{} and {}numbers SUM is {} and AVG is {}\".format(n1,n2,n3,sum,avg))"
   ]
  },
  {
   "cell_type": "code",
   "execution_count": 19,
   "id": "a5791948",
   "metadata": {
    "ExecuteTime": {
     "end_time": "2023-10-12T15:00:47.525304Z",
     "start_time": "2023-10-12T15:00:42.890762Z"
    }
   },
   "outputs": [
    {
     "name": "stdout",
     "output_type": "stream",
     "text": [
      "Enter Meal price:100\n",
      "Please let me know the tip in %10\n",
      "The tip amount is 10.0 and total amount is 110.0\n"
     ]
    }
   ],
   "source": [
    "mp=eval(input(\"Enter Meal price:\"))\n",
    "tip=eval(input(\"Please let me know the tip in %\"))\n",
    "t_amount=(mp*tip)/100\n",
    "tot=mp+t_amount\n",
    "print(\"The tip amount is {} and total amount is {}\".format(t_amount,tot))"
   ]
  }
 ],
 "metadata": {
  "kernelspec": {
   "display_name": "Python 3 (ipykernel)",
   "language": "python",
   "name": "python3"
  },
  "language_info": {
   "codemirror_mode": {
    "name": "ipython",
    "version": 3
   },
   "file_extension": ".py",
   "mimetype": "text/x-python",
   "name": "python",
   "nbconvert_exporter": "python",
   "pygments_lexer": "ipython3",
   "version": "3.9.7"
  }
 },
 "nbformat": 4,
 "nbformat_minor": 5
}
