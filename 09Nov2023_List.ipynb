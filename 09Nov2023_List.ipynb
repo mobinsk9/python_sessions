{
 "cells": [
  {
   "cell_type": "markdown",
   "id": "3df0d4b6",
   "metadata": {},
   "source": [
    "List Slicing"
   ]
  },
  {
   "cell_type": "code",
   "execution_count": 1,
   "id": "a59c43eb",
   "metadata": {
    "ExecuteTime": {
     "end_time": "2023-11-09T14:08:46.109834Z",
     "start_time": "2023-11-09T14:08:46.090843Z"
    }
   },
   "outputs": [],
   "source": [
    "l1=['A','B','C','D','E','F',1,2,3,4,5,6]"
   ]
  },
  {
   "cell_type": "code",
   "execution_count": 3,
   "id": "42faea28",
   "metadata": {
    "ExecuteTime": {
     "end_time": "2023-11-09T14:09:22.084266Z",
     "start_time": "2023-11-09T14:09:22.049268Z"
    }
   },
   "outputs": [
    {
     "data": {
      "text/plain": [
       "['C', 'E', 1, 3, 5]"
      ]
     },
     "execution_count": 3,
     "metadata": {},
     "output_type": "execute_result"
    }
   ],
   "source": [
    "l1[2:11:2]"
   ]
  },
  {
   "cell_type": "code",
   "execution_count": 5,
   "id": "3051ced7",
   "metadata": {
    "ExecuteTime": {
     "end_time": "2023-11-09T14:10:01.596137Z",
     "start_time": "2023-11-09T14:10:01.580150Z"
    }
   },
   "outputs": [
    {
     "data": {
      "text/plain": [
       "[]"
      ]
     },
     "execution_count": 5,
     "metadata": {},
     "output_type": "execute_result"
    }
   ],
   "source": [
    "l1[2:11:-2]"
   ]
  },
  {
   "cell_type": "code",
   "execution_count": 6,
   "id": "7246741e",
   "metadata": {
    "ExecuteTime": {
     "end_time": "2023-11-09T14:10:12.884909Z",
     "start_time": "2023-11-09T14:10:12.863921Z"
    }
   },
   "outputs": [
    {
     "data": {
      "text/plain": [
       "[]"
      ]
     },
     "execution_count": 6,
     "metadata": {},
     "output_type": "execute_result"
    }
   ],
   "source": [
    "l1[2:-11:2]"
   ]
  },
  {
   "cell_type": "code",
   "execution_count": 7,
   "id": "6b00dbe4",
   "metadata": {
    "ExecuteTime": {
     "end_time": "2023-11-09T14:10:24.427422Z",
     "start_time": "2023-11-09T14:10:24.415429Z"
    }
   },
   "outputs": [
    {
     "data": {
      "text/plain": [
       "['C']"
      ]
     },
     "execution_count": 7,
     "metadata": {},
     "output_type": "execute_result"
    }
   ],
   "source": [
    "l1[2:-11:-2]"
   ]
  },
  {
   "cell_type": "code",
   "execution_count": 8,
   "id": "92c7a5b4",
   "metadata": {
    "ExecuteTime": {
     "end_time": "2023-11-09T14:10:43.613430Z",
     "start_time": "2023-11-09T14:10:43.604433Z"
    }
   },
   "outputs": [
    {
     "data": {
      "text/plain": [
       "[5]"
      ]
     },
     "execution_count": 8,
     "metadata": {},
     "output_type": "execute_result"
    }
   ],
   "source": [
    "l1[-2:11:2]"
   ]
  },
  {
   "cell_type": "code",
   "execution_count": 9,
   "id": "a1135ffa",
   "metadata": {
    "ExecuteTime": {
     "end_time": "2023-11-09T14:11:02.097409Z",
     "start_time": "2023-11-09T14:11:02.078420Z"
    }
   },
   "outputs": [
    {
     "data": {
      "text/plain": [
       "[]"
      ]
     },
     "execution_count": 9,
     "metadata": {},
     "output_type": "execute_result"
    }
   ],
   "source": [
    "l1[-2:-11:2]"
   ]
  },
  {
   "cell_type": "code",
   "execution_count": 10,
   "id": "1f6d8f04",
   "metadata": {
    "ExecuteTime": {
     "end_time": "2023-11-09T14:11:12.628114Z",
     "start_time": "2023-11-09T14:11:12.607150Z"
    }
   },
   "outputs": [
    {
     "data": {
      "text/plain": [
       "[5, 3, 1, 'E', 'C']"
      ]
     },
     "execution_count": 10,
     "metadata": {},
     "output_type": "execute_result"
    }
   ],
   "source": [
    "l1[-2:-11:-2]"
   ]
  },
  {
   "cell_type": "code",
   "execution_count": 11,
   "id": "967b695d",
   "metadata": {
    "ExecuteTime": {
     "end_time": "2023-11-09T14:11:29.198118Z",
     "start_time": "2023-11-09T14:11:29.184129Z"
    }
   },
   "outputs": [
    {
     "data": {
      "text/plain": [
       "[]"
      ]
     },
     "execution_count": 11,
     "metadata": {},
     "output_type": "execute_result"
    }
   ],
   "source": [
    "l1[-2:11:-2]"
   ]
  },
  {
   "cell_type": "code",
   "execution_count": 13,
   "id": "5b8924a9",
   "metadata": {
    "ExecuteTime": {
     "end_time": "2023-11-09T14:14:33.713362Z",
     "start_time": "2023-11-09T14:14:33.690379Z"
    }
   },
   "outputs": [
    {
     "name": "stdout",
     "output_type": "stream",
     "text": [
      "Hyderabad\n",
      "Chennai\n",
      "Delhi\n"
     ]
    }
   ],
   "source": [
    "l1=['Hyderabad','Chennai','Delhi','Blr']\n",
    "for i in l1:\n",
    "    if len(i)>4:\n",
    "        print(i)"
   ]
  },
  {
   "cell_type": "code",
   "execution_count": 14,
   "id": "c7ac83ff",
   "metadata": {
    "ExecuteTime": {
     "end_time": "2023-11-09T14:15:58.334197Z",
     "start_time": "2023-11-09T14:15:58.321182Z"
    }
   },
   "outputs": [
    {
     "name": "stdout",
     "output_type": "stream",
     "text": [
      "Hyderabad\n",
      "Chennai\n",
      "Delhi\n"
     ]
    }
   ],
   "source": [
    "for i in range(len(l1)):\n",
    "    if len(l1[i])>4:\n",
    "        print(l1[i])"
   ]
  },
  {
   "cell_type": "code",
   "execution_count": 19,
   "id": "62d7cc53",
   "metadata": {
    "ExecuteTime": {
     "end_time": "2023-11-09T14:24:42.254220Z",
     "start_time": "2023-11-09T14:24:42.244226Z"
    }
   },
   "outputs": [
    {
     "name": "stdout",
     "output_type": "stream",
     "text": [
      "Hyderab#d\n",
      "Chenn#i\n"
     ]
    }
   ],
   "source": [
    "l2=['Hyderab#d','Chenn#i','Delhi','Blr']\n",
    "for i in l2:\n",
    "    if '#' in i:\n",
    "        print(i)"
   ]
  },
  {
   "cell_type": "code",
   "execution_count": 24,
   "id": "5d9a8333",
   "metadata": {
    "ExecuteTime": {
     "end_time": "2023-11-09T14:30:38.791369Z",
     "start_time": "2023-11-09T14:30:38.784374Z"
    }
   },
   "outputs": [
    {
     "name": "stdout",
     "output_type": "stream",
     "text": [
      "Hyderab#d\n",
      "Haryana\n"
     ]
    }
   ],
   "source": [
    "l3=['Hyderab#d','Chenn#i','Delhi','Blr','Haryana']\n",
    "for i in l3:\n",
    "    if i.startswith('H'):\n",
    "        print(i)"
   ]
  },
  {
   "cell_type": "code",
   "execution_count": 28,
   "id": "bee929be",
   "metadata": {
    "ExecuteTime": {
     "end_time": "2023-11-09T14:34:49.965488Z",
     "start_time": "2023-11-09T14:34:49.945500Z"
    }
   },
   "outputs": [
    {
     "name": "stdout",
     "output_type": "stream",
     "text": [
      "Hyderab#d\n",
      "haryana\n"
     ]
    }
   ],
   "source": [
    "l3=['Hyderab#d','Chenn#i','Delhi','Blr','haryana']\n",
    "for i in l3:\n",
    "    if i.lower().startswith('h'):\n",
    "        print(i)"
   ]
  },
  {
   "cell_type": "code",
   "execution_count": 33,
   "id": "9130881d",
   "metadata": {
    "ExecuteTime": {
     "end_time": "2023-11-09T14:40:26.502673Z",
     "start_time": "2023-11-09T14:40:26.489687Z"
    }
   },
   "outputs": [
    {
     "name": "stdout",
     "output_type": "stream",
     "text": [
      "nallagoni\n",
      "pasha\n",
      "kadam\n"
     ]
    }
   ],
   "source": [
    "l4=['omkar.nallagoni@gmail.com','karim.pasha@gmail.com','Santosh.kadam@gmail.com']\n",
    "for i in l4:\n",
    "    j=i.split('.')\n",
    "    k=j[1].split('@')\n",
    "    print(k[0])"
   ]
  },
  {
   "cell_type": "code",
   "execution_count": 35,
   "id": "44a8315e",
   "metadata": {
    "ExecuteTime": {
     "end_time": "2023-11-09T14:44:06.416532Z",
     "start_time": "2023-11-09T14:44:06.405563Z"
    }
   },
   "outputs": [
    {
     "name": "stdout",
     "output_type": "stream",
     "text": [
      "nallagoni\n",
      "pasha\n",
      "kadam\n"
     ]
    }
   ],
   "source": [
    "l4=['omkar.nallagoni@gmail.com','karim.pasha@gmail.com','Santosh.kadam@gmail.com']\n",
    "for i in l4:\n",
    "    print(i[i.find('.')+1:i.find('@')])"
   ]
  },
  {
   "cell_type": "markdown",
   "id": "dfb48471",
   "metadata": {},
   "source": [
    "$list-methods$"
   ]
  },
  {
   "cell_type": "code",
   "execution_count": 36,
   "id": "e9716341",
   "metadata": {
    "ExecuteTime": {
     "end_time": "2023-11-09T14:53:21.705430Z",
     "start_time": "2023-11-09T14:53:21.691438Z"
    }
   },
   "outputs": [
    {
     "data": {
      "text/plain": [
       "['__add__',\n",
       " '__class__',\n",
       " '__class_getitem__',\n",
       " '__contains__',\n",
       " '__delattr__',\n",
       " '__delitem__',\n",
       " '__dir__',\n",
       " '__doc__',\n",
       " '__eq__',\n",
       " '__format__',\n",
       " '__ge__',\n",
       " '__getattribute__',\n",
       " '__getitem__',\n",
       " '__gt__',\n",
       " '__hash__',\n",
       " '__iadd__',\n",
       " '__imul__',\n",
       " '__init__',\n",
       " '__init_subclass__',\n",
       " '__iter__',\n",
       " '__le__',\n",
       " '__len__',\n",
       " '__lt__',\n",
       " '__mul__',\n",
       " '__ne__',\n",
       " '__new__',\n",
       " '__reduce__',\n",
       " '__reduce_ex__',\n",
       " '__repr__',\n",
       " '__reversed__',\n",
       " '__rmul__',\n",
       " '__setattr__',\n",
       " '__setitem__',\n",
       " '__sizeof__',\n",
       " '__str__',\n",
       " '__subclasshook__',\n",
       " 'append',\n",
       " 'clear',\n",
       " 'copy',\n",
       " 'count',\n",
       " 'extend',\n",
       " 'index',\n",
       " 'insert',\n",
       " 'pop',\n",
       " 'remove',\n",
       " 'reverse',\n",
       " 'sort']"
      ]
     },
     "execution_count": 36,
     "metadata": {},
     "output_type": "execute_result"
    }
   ],
   "source": [
    "dir([])"
   ]
  },
  {
   "cell_type": "code",
   "execution_count": 38,
   "id": "27300f5b",
   "metadata": {
    "ExecuteTime": {
     "end_time": "2023-11-09T14:55:47.080310Z",
     "start_time": "2023-11-09T14:55:47.060324Z"
    }
   },
   "outputs": [
    {
     "data": {
      "text/plain": [
       "[100, 200, 300, 400]"
      ]
     },
     "execution_count": 38,
     "metadata": {},
     "output_type": "execute_result"
    }
   ],
   "source": [
    "l1=[100,200,300]\n",
    "l1.append(400)\n",
    "l1"
   ]
  },
  {
   "cell_type": "code",
   "execution_count": 42,
   "id": "15b50a50",
   "metadata": {
    "ExecuteTime": {
     "end_time": "2023-11-09T15:01:57.540835Z",
     "start_time": "2023-11-09T15:01:57.523846Z"
    }
   },
   "outputs": [
    {
     "data": {
      "text/plain": [
       "[[100, 200, 300, 400, 500, 500, 500]]"
      ]
     },
     "execution_count": 42,
     "metadata": {},
     "output_type": "execute_result"
    }
   ],
   "source": [
    "l2=[]\n",
    "l2.append(l1)\n",
    "l2"
   ]
  },
  {
   "cell_type": "code",
   "execution_count": 43,
   "id": "87c5268e",
   "metadata": {
    "ExecuteTime": {
     "end_time": "2023-11-09T15:02:46.374365Z",
     "start_time": "2023-11-09T15:02:46.356372Z"
    }
   },
   "outputs": [],
   "source": [
    "city=[]\n",
    "l2=['Hyderab#d','Chenn#i','Delhi','Blr']\n",
    "for i in l2:\n",
    "    if '#' in i:\n",
    "        city.append(i)"
   ]
  },
  {
   "cell_type": "code",
   "execution_count": 44,
   "id": "08dac38d",
   "metadata": {
    "ExecuteTime": {
     "end_time": "2023-11-09T15:02:50.829105Z",
     "start_time": "2023-11-09T15:02:50.815136Z"
    }
   },
   "outputs": [
    {
     "data": {
      "text/plain": [
       "['Hyderab#d', 'Chenn#i']"
      ]
     },
     "execution_count": 44,
     "metadata": {},
     "output_type": "execute_result"
    }
   ],
   "source": [
    "city"
   ]
  },
  {
   "cell_type": "code",
   "execution_count": 45,
   "id": "8caf0242",
   "metadata": {
    "ExecuteTime": {
     "end_time": "2023-11-09T15:03:42.511839Z",
     "start_time": "2023-11-09T15:03:42.491850Z"
    }
   },
   "outputs": [],
   "source": [
    "city=[]\n",
    "l3=['Hyderab#d','Chenn#i','Delhi','Blr','Haryana']\n",
    "for i in l3:\n",
    "    if i.startswith('H'):\n",
    "        city.append(i)"
   ]
  },
  {
   "cell_type": "code",
   "execution_count": 46,
   "id": "b621598e",
   "metadata": {
    "ExecuteTime": {
     "end_time": "2023-11-09T15:03:47.998892Z",
     "start_time": "2023-11-09T15:03:47.981900Z"
    }
   },
   "outputs": [
    {
     "data": {
      "text/plain": [
       "['Hyderab#d', 'Haryana']"
      ]
     },
     "execution_count": 46,
     "metadata": {},
     "output_type": "execute_result"
    }
   ],
   "source": [
    "city"
   ]
  },
  {
   "cell_type": "code",
   "execution_count": 54,
   "id": "743f9456",
   "metadata": {
    "ExecuteTime": {
     "end_time": "2023-11-09T15:08:28.893993Z",
     "start_time": "2023-11-09T15:08:28.866024Z"
    }
   },
   "outputs": [
    {
     "data": {
      "text/plain": [
       "(['omkar', 'karim', 'Santosh'], ['nallagoni', 'pasha', 'kadam'])"
      ]
     },
     "execution_count": 54,
     "metadata": {},
     "output_type": "execute_result"
    }
   ],
   "source": [
    "fname=[]\n",
    "sname=[]\n",
    "l4=['omkar.nallagoni@gmail.com','karim.pasha@gmail.com','Santosh.kadam@gmail.com']\n",
    "for i in l4:\n",
    "    fname.append(i.split('.')[0])\n",
    "    sname.append(i[i.find('.')+1:i.find('@')])\n",
    "fname,sname"
   ]
  },
  {
   "cell_type": "code",
   "execution_count": 55,
   "id": "93b5c4f6",
   "metadata": {
    "ExecuteTime": {
     "end_time": "2023-11-09T15:10:00.825640Z",
     "start_time": "2023-11-09T15:10:00.815645Z"
    }
   },
   "outputs": [],
   "source": [
    "def names(list4):\n",
    "    fname=[]\n",
    "    sname=[]\n",
    "    for i in l4:\n",
    "        fname.append(i.split('.')[0])\n",
    "        sname.append(i[i.find('.')+1:i.find('@')])\n",
    "    return(fname,sname)"
   ]
  },
  {
   "cell_type": "code",
   "execution_count": 57,
   "id": "e87e112c",
   "metadata": {
    "ExecuteTime": {
     "end_time": "2023-11-09T15:10:19.523827Z",
     "start_time": "2023-11-09T15:10:19.503838Z"
    }
   },
   "outputs": [
    {
     "data": {
      "text/plain": [
       "(['omkar', 'karim', 'Santosh'], ['nallagoni', 'pasha', 'kadam'])"
      ]
     },
     "execution_count": 57,
     "metadata": {},
     "output_type": "execute_result"
    }
   ],
   "source": [
    "list4=['omkar.nallagoni@gmail.com','karim.pasha@gmail.com','Santosh.kadam@gmail.com']\n",
    "names(list4)"
   ]
  },
  {
   "cell_type": "code",
   "execution_count": 61,
   "id": "33b123db",
   "metadata": {
    "ExecuteTime": {
     "end_time": "2023-11-09T15:15:34.052473Z",
     "start_time": "2023-11-09T15:15:34.034483Z"
    }
   },
   "outputs": [
    {
     "data": {
      "text/plain": [
       "([24, 22, 48, 46], [15, 31, 13, 49, 45, 41])"
      ]
     },
     "execution_count": 61,
     "metadata": {},
     "output_type": "execute_result"
    }
   ],
   "source": [
    "even_list=[]\n",
    "odd_list=[]\n",
    "import random\n",
    "for i in range(10):\n",
    "    n=random.randint(10,50)\n",
    "    if n%2==0:\n",
    "        even_list.append(n)\n",
    "    else:\n",
    "        odd_list.append(n)\n",
    "even_list,odd_list"
   ]
  },
  {
   "cell_type": "code",
   "execution_count": 60,
   "id": "45fa8b62",
   "metadata": {
    "ExecuteTime": {
     "end_time": "2023-11-09T15:15:26.559507Z",
     "start_time": "2023-11-09T15:15:26.535543Z"
    }
   },
   "outputs": [
    {
     "data": {
      "text/plain": [
       "([40, 16, 24, 48, 28, 18, 34], [23, 43, 27])"
      ]
     },
     "execution_count": 60,
     "metadata": {},
     "output_type": "execute_result"
    }
   ],
   "source": [
    "even_list,odd_list=[],[]\n",
    "import random\n",
    "for i in range(10):\n",
    "    n=random.randint(10,50)\n",
    "    if n%2==0:\n",
    "        even_list.append(n)\n",
    "    else:\n",
    "        odd_list.append(n)\n",
    "even_list,odd_list"
   ]
  },
  {
   "cell_type": "markdown",
   "id": "a2c1968d",
   "metadata": {},
   "source": [
    "*List Comprehenshion*"
   ]
  },
  {
   "cell_type": "code",
   "execution_count": 63,
   "id": "953de7fb",
   "metadata": {
    "ExecuteTime": {
     "end_time": "2023-11-09T15:21:27.107293Z",
     "start_time": "2023-11-09T15:21:27.091300Z"
    }
   },
   "outputs": [
    {
     "data": {
      "text/plain": [
       "['hyderabad', 'chennai']"
      ]
     },
     "execution_count": 63,
     "metadata": {},
     "output_type": "execute_result"
    }
   ],
   "source": [
    "list5=['hyderabad','chennai','blr']\n",
    "output=[i for i in list5 if len(i)>4]\n",
    "output\n",
    "#Output for_loop  If_condition"
   ]
  },
  {
   "cell_type": "code",
   "execution_count": 64,
   "id": "6ef9ecbe",
   "metadata": {
    "ExecuteTime": {
     "end_time": "2023-11-09T15:23:08.615078Z",
     "start_time": "2023-11-09T15:23:08.593090Z"
    }
   },
   "outputs": [
    {
     "name": "stdout",
     "output_type": "stream",
     "text": [
      "nallagoni\n",
      "pasha\n",
      "kadam\n"
     ]
    }
   ],
   "source": [
    "l4=['omkar.nallagoni@gmail.com','karim.pasha@gmail.com','Santosh.kadam@gmail.com']\n",
    "for i in l4:\n",
    "    print(i[i.find('.')+1:i.find('@')])"
   ]
  },
  {
   "cell_type": "code",
   "execution_count": 68,
   "id": "1dd8f54a",
   "metadata": {
    "ExecuteTime": {
     "end_time": "2023-11-09T15:26:44.798791Z",
     "start_time": "2023-11-09T15:26:44.780803Z"
    }
   },
   "outputs": [
    {
     "data": {
      "text/plain": [
       "['nallagoni', 'pasha', 'kadam']"
      ]
     },
     "execution_count": 68,
     "metadata": {},
     "output_type": "execute_result"
    }
   ],
   "source": [
    "output=[i[i.find('.')+1:i.find('@')] for i in l4 ]\n",
    "output"
   ]
  },
  {
   "cell_type": "code",
   "execution_count": 73,
   "id": "90569e5a",
   "metadata": {
    "ExecuteTime": {
     "end_time": "2023-11-09T15:35:14.132093Z",
     "start_time": "2023-11-09T15:35:14.116103Z"
    }
   },
   "outputs": [],
   "source": [
    "output3=[\"even:{}\".format(i) if i%2==0 else \"odd:{}\".format(i) for i in range(10)]"
   ]
  },
  {
   "cell_type": "code",
   "execution_count": 74,
   "id": "a5bb7159",
   "metadata": {
    "ExecuteTime": {
     "end_time": "2023-11-09T15:35:15.820221Z",
     "start_time": "2023-11-09T15:35:15.802230Z"
    }
   },
   "outputs": [
    {
     "data": {
      "text/plain": [
       "['even:0',\n",
       " 'odd:1',\n",
       " 'even:2',\n",
       " 'odd:3',\n",
       " 'even:4',\n",
       " 'odd:5',\n",
       " 'even:6',\n",
       " 'odd:7',\n",
       " 'even:8',\n",
       " 'odd:9']"
      ]
     },
     "execution_count": 74,
     "metadata": {},
     "output_type": "execute_result"
    }
   ],
   "source": [
    "output3"
   ]
  },
  {
   "cell_type": "code",
   "execution_count": 77,
   "id": "7403843b",
   "metadata": {
    "ExecuteTime": {
     "end_time": "2023-11-09T15:42:25.275636Z",
     "start_time": "2023-11-09T15:42:25.262663Z"
    }
   },
   "outputs": [
    {
     "ename": "SyntaxError",
     "evalue": "invalid syntax (Temp/ipykernel_1644/2888560466.py, line 1)",
     "output_type": "error",
     "traceback": [
      "\u001b[1;36m  File \u001b[1;32m\"C:\\Users\\admin\\AppData\\Local\\Temp/ipykernel_1644/2888560466.py\"\u001b[1;36m, line \u001b[1;32m1\u001b[0m\n\u001b[1;33m    output3=[\"Zero:0\" if i==0 else \"odd:{}\".format(i) \"even:{}\".format(i) elif i%2==0  for i in range(10)]\u001b[0m\n\u001b[1;37m                                                      ^\u001b[0m\n\u001b[1;31mSyntaxError\u001b[0m\u001b[1;31m:\u001b[0m invalid syntax\n"
     ]
    }
   ],
   "source": [
    "output3=[\"Zero:0\" if i==0 else \"odd:{}\".format(i) \"even:{}\".format(i) elif i%2==0  for i in range(10)]"
   ]
  }
 ],
 "metadata": {
  "kernelspec": {
   "display_name": "Python 3 (ipykernel)",
   "language": "python",
   "name": "python3"
  },
  "language_info": {
   "codemirror_mode": {
    "name": "ipython",
    "version": 3
   },
   "file_extension": ".py",
   "mimetype": "text/x-python",
   "name": "python",
   "nbconvert_exporter": "python",
   "pygments_lexer": "ipython3",
   "version": "3.9.7"
  }
 },
 "nbformat": 4,
 "nbformat_minor": 5
}
