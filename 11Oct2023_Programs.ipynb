{
 "cells": [
  {
   "cell_type": "markdown",
   "id": "6c9076f2",
   "metadata": {},
   "source": [
    "$eval$"
   ]
  },
  {
   "cell_type": "code",
   "execution_count": 4,
   "id": "9e5985fe",
   "metadata": {
    "ExecuteTime": {
     "end_time": "2023-10-11T14:29:38.916128Z",
     "start_time": "2023-10-11T14:29:33.825533Z"
    }
   },
   "outputs": [
    {
     "name": "stdout",
     "output_type": "stream",
     "text": [
      "Enter a Value:1.5\n",
      "Enter b value:2.5\n"
     ]
    },
    {
     "data": {
      "text/plain": [
       "4.0"
      ]
     },
     "execution_count": 4,
     "metadata": {},
     "output_type": "execute_result"
    }
   ],
   "source": [
    "n1=eval(input(\"Enter a Value:\"))\n",
    "n2=eval(input(\"Enter b value:\"))\n",
    "n1+n2"
   ]
  },
  {
   "cell_type": "code",
   "execution_count": 7,
   "id": "39940d99",
   "metadata": {
    "ExecuteTime": {
     "end_time": "2023-10-11T14:42:49.730070Z",
     "start_time": "2023-10-11T14:42:46.636659Z"
    }
   },
   "outputs": [
    {
     "name": "stdout",
     "output_type": "stream",
     "text": [
      "Enter n1 Value:100\n",
      "Enter n2 Value:200\n",
      "The addition of 100 and 200 is 300\n",
      "The Substraction of 100 and 200 is -100\n",
      "The Multiplication of 100 and 200 is 20000\n",
      "The Division of 100 and 200 is 0.5\n"
     ]
    }
   ],
   "source": [
    "n1=eval(input(\"Enter n1 Value:\"))\n",
    "n2=eval(input(\"Enter n2 Value:\"))\n",
    "print(\"The addition of {} and {} is {}\".format(n1,n2,n1+n2))\n",
    "print(\"The Substraction of {} and {} is {}\".format(n1,n2,n1-n2))\n",
    "print(\"The Multiplication of {} and {} is {}\".format(n1,n2,n1*n2))\n",
    "print(\"The Division of {} and {} is {}\".format(n1,n2,n1/n2))\n",
    "\n"
   ]
  },
  {
   "cell_type": "code",
   "execution_count": 15,
   "id": "f110913a",
   "metadata": {
    "ExecuteTime": {
     "end_time": "2023-10-11T14:55:56.057208Z",
     "start_time": "2023-10-11T14:55:53.142089Z"
    }
   },
   "outputs": [
    {
     "name": "stdout",
     "output_type": "stream",
     "text": [
      "Enter n1 Value:10\n",
      "Enter n2 Value:20\n",
      "Enter n3 Value:30\n",
      "The average of 10 , 20 and 30 is: 20.0\n"
     ]
    }
   ],
   "source": [
    "n1=eval(input(\"Enter n1 Value:\"))\n",
    "n2=eval(input(\"Enter n2 Value:\"))\n",
    "n3=eval(input(\"Enter n3 Value:\"))\n",
    "#avg=(n1+n2+n3)/3\n",
    "print(\"The average of {} , {} and {} is: {}\".format(n1,n2,n3,(n1+n2+n3)/3))"
   ]
  },
  {
   "cell_type": "code",
   "execution_count": 16,
   "id": "98ed750d",
   "metadata": {
    "ExecuteTime": {
     "end_time": "2023-10-11T15:09:50.141818Z",
     "start_time": "2023-10-11T15:09:45.461470Z"
    }
   },
   "outputs": [
    {
     "name": "stdout",
     "output_type": "stream",
     "text": [
      "Enter bm Value:200\n",
      "Enter tm Value:300\n",
      "500\n"
     ]
    }
   ],
   "source": [
    "bm=eval(input(\"Enter bm Value:\"))\n",
    "tm=eval(input(\"Enter tm Value:\"))\n",
    "print(bm+tm)"
   ]
  },
  {
   "cell_type": "code",
   "execution_count": 23,
   "id": "0953c3d8",
   "metadata": {
    "ExecuteTime": {
     "end_time": "2023-10-11T15:18:19.919666Z",
     "start_time": "2023-10-11T15:18:16.225657Z"
    }
   },
   "outputs": [
    {
     "name": "stdout",
     "output_type": "stream",
     "text": [
      "Enter bm Value:200\n",
      "Enter tm percentage Value:10\n",
      "220.0\n"
     ]
    }
   ],
   "source": [
    "bm=eval(input(\"Enter bm Value:\"))\n",
    "tm=eval(input(\"Enter tm percentage Value:\"))\n",
    "print(bm+((bm*tm)/100))"
   ]
  },
  {
   "cell_type": "code",
   "execution_count": 24,
   "id": "ed7a1cb0",
   "metadata": {
    "ExecuteTime": {
     "end_time": "2023-10-11T15:32:21.658327Z",
     "start_time": "2023-10-11T15:32:16.729535Z"
    }
   },
   "outputs": [
    {
     "name": "stdout",
     "output_type": "stream",
     "text": [
      "How many dollars to pay:100\n",
      "User says: I have dollors\n",
      "Bar guy: Dollars are not accepted\n",
      "Then What will accept?\n",
      "Only Indian Ruppes will accept\n",
      "one dollar value in Rupees:80\n",
      "Total amount is 8000\n"
     ]
    }
   ],
   "source": [
    "bill_amount=eval(input(\"How many dollars to pay:\"))\n",
    "print(\"User says: I have dollors\")\n",
    "print(\"Bar guy: Dollars are not accepted\")\n",
    "print(\"Then What will accept?\")\n",
    "print(\"Only Indian Ruppes will accept\")\n",
    "rs=eval(input(\"one dollar value in Rupees:\"))\n",
    "total_amount=bill_amount*rs\n",
    "print(\"Total amount is\",total_amount)\n",
    "\n"
   ]
  },
  {
   "cell_type": "code",
   "execution_count": null,
   "id": "1ef22a3d",
   "metadata": {},
   "outputs": [],
   "source": []
  },
  {
   "cell_type": "code",
   "execution_count": null,
   "id": "9a73bd25",
   "metadata": {},
   "outputs": [],
   "source": []
  },
  {
   "cell_type": "code",
   "execution_count": null,
   "id": "a2376f8e",
   "metadata": {},
   "outputs": [],
   "source": []
  },
  {
   "cell_type": "code",
   "execution_count": null,
   "id": "24ff5a96",
   "metadata": {},
   "outputs": [],
   "source": []
  },
  {
   "cell_type": "code",
   "execution_count": null,
   "id": "0cf6831b",
   "metadata": {},
   "outputs": [],
   "source": []
  },
  {
   "cell_type": "code",
   "execution_count": null,
   "id": "8c84e706",
   "metadata": {},
   "outputs": [],
   "source": []
  }
 ],
 "metadata": {
  "kernelspec": {
   "display_name": "Python 3 (ipykernel)",
   "language": "python",
   "name": "python3"
  },
  "language_info": {
   "codemirror_mode": {
    "name": "ipython",
    "version": 3
   },
   "file_extension": ".py",
   "mimetype": "text/x-python",
   "name": "python",
   "nbconvert_exporter": "python",
   "pygments_lexer": "ipython3",
   "version": "3.9.7"
  }
 },
 "nbformat": 4,
 "nbformat_minor": 5
}
