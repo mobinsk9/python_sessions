{
 "cells": [
  {
   "cell_type": "code",
   "execution_count": 14,
   "id": "54a12b86",
   "metadata": {
    "ExecuteTime": {
     "end_time": "2023-11-08T14:14:17.713261Z",
     "start_time": "2023-11-08T14:14:17.680298Z"
    }
   },
   "outputs": [
    {
     "data": {
      "text/plain": [
       "[1, 2, 3, 4]"
      ]
     },
     "execution_count": 14,
     "metadata": {},
     "output_type": "execute_result"
    }
   ],
   "source": [
    "list1=[1,2,3,4]   # Array of elements stored in square brackets\n",
    "list1             # is a heterogenius"
   ]
  },
  {
   "cell_type": "code",
   "execution_count": 22,
   "id": "818fdcf3",
   "metadata": {
    "ExecuteTime": {
     "end_time": "2023-11-08T14:17:53.563017Z",
     "start_time": "2023-11-08T14:17:53.552025Z"
    }
   },
   "outputs": [
    {
     "data": {
      "text/plain": [
       "['a', 'b', 'c', 'd']"
      ]
     },
     "execution_count": 22,
     "metadata": {},
     "output_type": "execute_result"
    }
   ],
   "source": [
    "list2=['a','b','c','d']\n",
    "list2"
   ]
  },
  {
   "cell_type": "code",
   "execution_count": 21,
   "id": "a56f81b6",
   "metadata": {
    "ExecuteTime": {
     "end_time": "2023-11-08T14:17:48.492194Z",
     "start_time": "2023-11-08T14:17:48.471184Z"
    }
   },
   "outputs": [
    {
     "data": {
      "text/plain": [
       "['a', 1, 2, 3, 'c']"
      ]
     },
     "execution_count": 21,
     "metadata": {},
     "output_type": "execute_result"
    }
   ],
   "source": [
    "list3=['a',1,2,3,'c']\n",
    "list3"
   ]
  },
  {
   "cell_type": "code",
   "execution_count": 20,
   "id": "1188fa23",
   "metadata": {
    "ExecuteTime": {
     "end_time": "2023-11-08T14:17:44.345966Z",
     "start_time": "2023-11-08T14:17:44.338970Z"
    }
   },
   "outputs": [
    {
     "data": {
      "text/plain": [
       "['a', 1, 'apple', 10.4, (10+5j)]"
      ]
     },
     "execution_count": 20,
     "metadata": {},
     "output_type": "execute_result"
    }
   ],
   "source": [
    "list4=['a',1,'apple',10.4,10+5j]\n",
    "list4"
   ]
  },
  {
   "cell_type": "code",
   "execution_count": 19,
   "id": "758fc8d4",
   "metadata": {
    "ExecuteTime": {
     "end_time": "2023-11-08T14:17:39.611933Z",
     "start_time": "2023-11-08T14:17:39.590943Z"
    }
   },
   "outputs": [
    {
     "data": {
      "text/plain": [
       "[100, 100]"
      ]
     },
     "execution_count": 19,
     "metadata": {},
     "output_type": "execute_result"
    }
   ],
   "source": [
    "list5=[100,100]   # elements can be accepted\n",
    "list5"
   ]
  },
  {
   "cell_type": "code",
   "execution_count": 24,
   "id": "11a35673",
   "metadata": {
    "ExecuteTime": {
     "end_time": "2023-11-08T14:19:09.264179Z",
     "start_time": "2023-11-08T14:19:09.247187Z"
    }
   },
   "outputs": [
    {
     "data": {
      "text/plain": [
       "['how are you', 'Hi hello']"
      ]
     },
     "execution_count": 24,
     "metadata": {},
     "output_type": "execute_result"
    }
   ],
   "source": [
    "l1=[\"how are you\",\"Hi hello\"]\n",
    "l1"
   ]
  },
  {
   "cell_type": "code",
   "execution_count": 26,
   "id": "8c020775",
   "metadata": {
    "ExecuteTime": {
     "end_time": "2023-11-08T14:19:37.207176Z",
     "start_time": "2023-11-08T14:19:37.196185Z"
    }
   },
   "outputs": [
    {
     "data": {
      "text/plain": [
       "[1, 2, ['a', 'b', 'c'], 3, 4]"
      ]
     },
     "execution_count": 26,
     "metadata": {},
     "output_type": "execute_result"
    }
   ],
   "source": [
    "l2=[1,2,['a','b','c'],3,4]\n",
    "l2"
   ]
  },
  {
   "cell_type": "code",
   "execution_count": 27,
   "id": "5cb0262b",
   "metadata": {
    "ExecuteTime": {
     "end_time": "2023-11-08T14:20:27.915780Z",
     "start_time": "2023-11-08T14:20:27.907785Z"
    }
   },
   "outputs": [
    {
     "data": {
      "text/plain": [
       "list"
      ]
     },
     "execution_count": 27,
     "metadata": {},
     "output_type": "execute_result"
    }
   ],
   "source": [
    "type(l1)"
   ]
  },
  {
   "cell_type": "code",
   "execution_count": 28,
   "id": "36eb797a",
   "metadata": {
    "ExecuteTime": {
     "end_time": "2023-11-08T14:22:30.192067Z",
     "start_time": "2023-11-08T14:22:30.184072Z"
    }
   },
   "outputs": [],
   "source": [
    "l10=[1,2,10,6,7,4,9]"
   ]
  },
  {
   "cell_type": "code",
   "execution_count": 30,
   "id": "4c6ab39a",
   "metadata": {
    "ExecuteTime": {
     "end_time": "2023-11-08T14:22:44.696905Z",
     "start_time": "2023-11-08T14:22:44.679914Z"
    }
   },
   "outputs": [
    {
     "data": {
      "text/plain": [
       "list"
      ]
     },
     "execution_count": 30,
     "metadata": {},
     "output_type": "execute_result"
    }
   ],
   "source": [
    "type(l10)"
   ]
  },
  {
   "cell_type": "code",
   "execution_count": 31,
   "id": "cbf2e343",
   "metadata": {
    "ExecuteTime": {
     "end_time": "2023-11-08T14:22:53.045754Z",
     "start_time": "2023-11-08T14:22:53.035759Z"
    }
   },
   "outputs": [
    {
     "data": {
      "text/plain": [
       "7"
      ]
     },
     "execution_count": 31,
     "metadata": {},
     "output_type": "execute_result"
    }
   ],
   "source": [
    "len(l10)"
   ]
  },
  {
   "cell_type": "code",
   "execution_count": 32,
   "id": "84ed28e8",
   "metadata": {
    "ExecuteTime": {
     "end_time": "2023-11-08T14:23:01.024341Z",
     "start_time": "2023-11-08T14:23:01.002355Z"
    }
   },
   "outputs": [
    {
     "data": {
      "text/plain": [
       "10"
      ]
     },
     "execution_count": 32,
     "metadata": {},
     "output_type": "execute_result"
    }
   ],
   "source": [
    "max(l10)"
   ]
  },
  {
   "cell_type": "code",
   "execution_count": 33,
   "id": "a12f9525",
   "metadata": {
    "ExecuteTime": {
     "end_time": "2023-11-08T14:23:06.694891Z",
     "start_time": "2023-11-08T14:23:06.675903Z"
    }
   },
   "outputs": [
    {
     "data": {
      "text/plain": [
       "1"
      ]
     },
     "execution_count": 33,
     "metadata": {},
     "output_type": "execute_result"
    }
   ],
   "source": [
    "min(l10)"
   ]
  },
  {
   "cell_type": "code",
   "execution_count": 35,
   "id": "16aadcc8",
   "metadata": {
    "ExecuteTime": {
     "end_time": "2023-11-08T14:23:52.036528Z",
     "start_time": "2023-11-08T14:23:52.024534Z"
    }
   },
   "outputs": [
    {
     "data": {
      "text/plain": [
       "(list, 7, 10, 1, 39)"
      ]
     },
     "execution_count": 35,
     "metadata": {},
     "output_type": "execute_result"
    }
   ],
   "source": [
    "type(l10),len(l10),max(l10),min(l10),sum(l10)"
   ]
  },
  {
   "cell_type": "code",
   "execution_count": 36,
   "id": "baeef1ee",
   "metadata": {
    "ExecuteTime": {
     "end_time": "2023-11-08T14:24:27.827440Z",
     "start_time": "2023-11-08T14:24:27.804452Z"
    }
   },
   "outputs": [
    {
     "ename": "TypeError",
     "evalue": "unsupported operand type(s) for +: 'int' and 'str'",
     "output_type": "error",
     "traceback": [
      "\u001b[1;31m---------------------------------------------------------------------------\u001b[0m",
      "\u001b[1;31mTypeError\u001b[0m                                 Traceback (most recent call last)",
      "\u001b[1;32m~\\AppData\\Local\\Temp/ipykernel_5820/3249459269.py\u001b[0m in \u001b[0;36m<module>\u001b[1;34m\u001b[0m\n\u001b[0;32m      1\u001b[0m \u001b[0ml11\u001b[0m\u001b[1;33m=\u001b[0m\u001b[1;33m[\u001b[0m\u001b[1;36m1\u001b[0m\u001b[1;33m,\u001b[0m\u001b[1;36m2\u001b[0m\u001b[1;33m,\u001b[0m\u001b[1;36m3\u001b[0m\u001b[1;33m,\u001b[0m\u001b[1;34m'A'\u001b[0m\u001b[1;33m,\u001b[0m\u001b[1;34m'B'\u001b[0m\u001b[1;33m]\u001b[0m\u001b[1;33m\u001b[0m\u001b[1;33m\u001b[0m\u001b[0m\n\u001b[1;32m----> 2\u001b[1;33m \u001b[0msum\u001b[0m\u001b[1;33m(\u001b[0m\u001b[0ml11\u001b[0m\u001b[1;33m)\u001b[0m\u001b[1;33m\u001b[0m\u001b[1;33m\u001b[0m\u001b[0m\n\u001b[0m",
      "\u001b[1;31mTypeError\u001b[0m: unsupported operand type(s) for +: 'int' and 'str'"
     ]
    }
   ],
   "source": [
    "l11=[1,2,3,'A','B']\n",
    "sum(l11)"
   ]
  },
  {
   "cell_type": "code",
   "execution_count": 37,
   "id": "9e80df4d",
   "metadata": {
    "ExecuteTime": {
     "end_time": "2023-11-08T14:24:44.434523Z",
     "start_time": "2023-11-08T14:24:44.408534Z"
    }
   },
   "outputs": [
    {
     "ename": "TypeError",
     "evalue": "unsupported operand type(s) for +: 'int' and 'list'",
     "output_type": "error",
     "traceback": [
      "\u001b[1;31m---------------------------------------------------------------------------\u001b[0m",
      "\u001b[1;31mTypeError\u001b[0m                                 Traceback (most recent call last)",
      "\u001b[1;32m~\\AppData\\Local\\Temp/ipykernel_5820/1177689240.py\u001b[0m in \u001b[0;36m<module>\u001b[1;34m\u001b[0m\n\u001b[0;32m      1\u001b[0m \u001b[0ml12\u001b[0m\u001b[1;33m=\u001b[0m\u001b[1;33m[\u001b[0m\u001b[1;36m1\u001b[0m\u001b[1;33m,\u001b[0m\u001b[1;36m2\u001b[0m\u001b[1;33m,\u001b[0m\u001b[1;36m3\u001b[0m\u001b[1;33m,\u001b[0m\u001b[1;33m[\u001b[0m\u001b[1;36m4\u001b[0m\u001b[1;33m,\u001b[0m\u001b[1;36m5\u001b[0m\u001b[1;33m,\u001b[0m\u001b[1;36m6\u001b[0m\u001b[1;33m]\u001b[0m\u001b[1;33m]\u001b[0m\u001b[1;33m\u001b[0m\u001b[1;33m\u001b[0m\u001b[0m\n\u001b[1;32m----> 2\u001b[1;33m \u001b[0msum\u001b[0m\u001b[1;33m(\u001b[0m\u001b[0ml12\u001b[0m\u001b[1;33m)\u001b[0m\u001b[1;33m\u001b[0m\u001b[1;33m\u001b[0m\u001b[0m\n\u001b[0m",
      "\u001b[1;31mTypeError\u001b[0m: unsupported operand type(s) for +: 'int' and 'list'"
     ]
    }
   ],
   "source": [
    "l12=[1,2,3,[4,5,6]]\n",
    "sum(l12)"
   ]
  },
  {
   "cell_type": "code",
   "execution_count": 40,
   "id": "f7e0e588",
   "metadata": {
    "ExecuteTime": {
     "end_time": "2023-11-08T14:25:46.996217Z",
     "start_time": "2023-11-08T14:25:46.971231Z"
    }
   },
   "outputs": [
    {
     "ename": "TypeError",
     "evalue": "sum() can't sum strings [use ''.join(seq) instead]",
     "output_type": "error",
     "traceback": [
      "\u001b[1;31m---------------------------------------------------------------------------\u001b[0m",
      "\u001b[1;31mTypeError\u001b[0m                                 Traceback (most recent call last)",
      "\u001b[1;32m~\\AppData\\Local\\Temp/ipykernel_5820/1403110494.py\u001b[0m in \u001b[0;36m<module>\u001b[1;34m\u001b[0m\n\u001b[1;32m----> 1\u001b[1;33m \u001b[0msum\u001b[0m\u001b[1;33m(\u001b[0m\u001b[1;34m'a'\u001b[0m\u001b[1;33m,\u001b[0m\u001b[1;34m'b'\u001b[0m\u001b[1;33m)\u001b[0m\u001b[1;33m\u001b[0m\u001b[1;33m\u001b[0m\u001b[0m\n\u001b[0m",
      "\u001b[1;31mTypeError\u001b[0m: sum() can't sum strings [use ''.join(seq) instead]"
     ]
    }
   ],
   "source": [
    "sum('a','b')"
   ]
  },
  {
   "cell_type": "code",
   "execution_count": 41,
   "id": "26549031",
   "metadata": {
    "ExecuteTime": {
     "end_time": "2023-11-08T14:35:43.678362Z",
     "start_time": "2023-11-08T14:35:43.668369Z"
    }
   },
   "outputs": [],
   "source": [
    "l1=[1,2,3,4]\n",
    "l2=['A','B',\"C\",'D']"
   ]
  },
  {
   "cell_type": "code",
   "execution_count": 43,
   "id": "3801f51e",
   "metadata": {
    "ExecuteTime": {
     "end_time": "2023-11-08T14:35:52.325950Z",
     "start_time": "2023-11-08T14:35:52.303960Z"
    }
   },
   "outputs": [
    {
     "data": {
      "text/plain": [
       "[1, 2, 3, 4, 'A', 'B', 'C', 'D']"
      ]
     },
     "execution_count": 43,
     "metadata": {},
     "output_type": "execute_result"
    }
   ],
   "source": [
    "l1+l2"
   ]
  },
  {
   "cell_type": "code",
   "execution_count": 44,
   "id": "bdea1be4",
   "metadata": {
    "ExecuteTime": {
     "end_time": "2023-11-08T14:38:06.553698Z",
     "start_time": "2023-11-08T14:38:06.523702Z"
    }
   },
   "outputs": [
    {
     "ename": "TypeError",
     "evalue": "unsupported operand type(s) for -: 'list' and 'list'",
     "output_type": "error",
     "traceback": [
      "\u001b[1;31m---------------------------------------------------------------------------\u001b[0m",
      "\u001b[1;31mTypeError\u001b[0m                                 Traceback (most recent call last)",
      "\u001b[1;32m~\\AppData\\Local\\Temp/ipykernel_5820/3102790556.py\u001b[0m in \u001b[0;36m<module>\u001b[1;34m\u001b[0m\n\u001b[1;32m----> 1\u001b[1;33m \u001b[0ml1\u001b[0m\u001b[1;33m-\u001b[0m\u001b[0ml2\u001b[0m\u001b[1;33m\u001b[0m\u001b[1;33m\u001b[0m\u001b[0m\n\u001b[0m",
      "\u001b[1;31mTypeError\u001b[0m: unsupported operand type(s) for -: 'list' and 'list'"
     ]
    }
   ],
   "source": [
    "l1-l2"
   ]
  },
  {
   "cell_type": "code",
   "execution_count": 45,
   "id": "000c4879",
   "metadata": {
    "ExecuteTime": {
     "end_time": "2023-11-08T14:38:28.493030Z",
     "start_time": "2023-11-08T14:38:28.471045Z"
    }
   },
   "outputs": [
    {
     "ename": "TypeError",
     "evalue": "can't multiply sequence by non-int of type 'list'",
     "output_type": "error",
     "traceback": [
      "\u001b[1;31m---------------------------------------------------------------------------\u001b[0m",
      "\u001b[1;31mTypeError\u001b[0m                                 Traceback (most recent call last)",
      "\u001b[1;32m~\\AppData\\Local\\Temp/ipykernel_5820/923220197.py\u001b[0m in \u001b[0;36m<module>\u001b[1;34m\u001b[0m\n\u001b[1;32m----> 1\u001b[1;33m \u001b[0ml1\u001b[0m\u001b[1;33m*\u001b[0m\u001b[0ml2\u001b[0m\u001b[1;33m\u001b[0m\u001b[1;33m\u001b[0m\u001b[0m\n\u001b[0m",
      "\u001b[1;31mTypeError\u001b[0m: can't multiply sequence by non-int of type 'list'"
     ]
    }
   ],
   "source": [
    "l1*l2"
   ]
  },
  {
   "cell_type": "code",
   "execution_count": 46,
   "id": "2e2fe56c",
   "metadata": {
    "ExecuteTime": {
     "end_time": "2023-11-08T14:38:34.720525Z",
     "start_time": "2023-11-08T14:38:34.701536Z"
    }
   },
   "outputs": [
    {
     "ename": "TypeError",
     "evalue": "unsupported operand type(s) for /: 'list' and 'list'",
     "output_type": "error",
     "traceback": [
      "\u001b[1;31m---------------------------------------------------------------------------\u001b[0m",
      "\u001b[1;31mTypeError\u001b[0m                                 Traceback (most recent call last)",
      "\u001b[1;32m~\\AppData\\Local\\Temp/ipykernel_5820/3107226488.py\u001b[0m in \u001b[0;36m<module>\u001b[1;34m\u001b[0m\n\u001b[1;32m----> 1\u001b[1;33m \u001b[0ml1\u001b[0m\u001b[1;33m/\u001b[0m\u001b[0ml2\u001b[0m\u001b[1;33m\u001b[0m\u001b[1;33m\u001b[0m\u001b[0m\n\u001b[0m",
      "\u001b[1;31mTypeError\u001b[0m: unsupported operand type(s) for /: 'list' and 'list'"
     ]
    }
   ],
   "source": [
    "l1/l2"
   ]
  },
  {
   "cell_type": "code",
   "execution_count": 47,
   "id": "5393331b",
   "metadata": {
    "ExecuteTime": {
     "end_time": "2023-11-08T14:39:00.591291Z",
     "start_time": "2023-11-08T14:39:00.572325Z"
    }
   },
   "outputs": [
    {
     "data": {
      "text/plain": [
       "[1, 2, 3, 4, 1, 2, 3, 4]"
      ]
     },
     "execution_count": 47,
     "metadata": {},
     "output_type": "execute_result"
    }
   ],
   "source": [
    "l1*2"
   ]
  },
  {
   "cell_type": "markdown",
   "id": "df644a87",
   "metadata": {},
   "source": [
    "in"
   ]
  },
  {
   "cell_type": "code",
   "execution_count": 48,
   "id": "ba75be4c",
   "metadata": {
    "ExecuteTime": {
     "end_time": "2023-11-08T14:40:26.584322Z",
     "start_time": "2023-11-08T14:40:26.573327Z"
    }
   },
   "outputs": [
    {
     "data": {
      "text/plain": [
       "['A', 'B', 'C', 'D']"
      ]
     },
     "execution_count": 48,
     "metadata": {},
     "output_type": "execute_result"
    }
   ],
   "source": [
    "l2"
   ]
  },
  {
   "cell_type": "code",
   "execution_count": 49,
   "id": "85fd46a0",
   "metadata": {
    "ExecuteTime": {
     "end_time": "2023-11-08T14:40:35.104080Z",
     "start_time": "2023-11-08T14:40:35.093106Z"
    }
   },
   "outputs": [
    {
     "data": {
      "text/plain": [
       "True"
      ]
     },
     "execution_count": 49,
     "metadata": {},
     "output_type": "execute_result"
    }
   ],
   "source": [
    "'A' in l2"
   ]
  },
  {
   "cell_type": "code",
   "execution_count": 50,
   "id": "fc2426be",
   "metadata": {
    "ExecuteTime": {
     "end_time": "2023-11-08T14:41:16.534297Z",
     "start_time": "2023-11-08T14:41:16.522305Z"
    }
   },
   "outputs": [
    {
     "data": {
      "text/plain": [
       "False"
      ]
     },
     "execution_count": 50,
     "metadata": {},
     "output_type": "execute_result"
    }
   ],
   "source": [
    "'AA' in l2"
   ]
  },
  {
   "cell_type": "code",
   "execution_count": 52,
   "id": "53f96cc8",
   "metadata": {
    "ExecuteTime": {
     "end_time": "2023-11-08T14:43:52.264152Z",
     "start_time": "2023-11-08T14:43:52.242170Z"
    }
   },
   "outputs": [
    {
     "name": "stdout",
     "output_type": "stream",
     "text": [
      "A\n",
      "B\n",
      "C\n",
      "D\n"
     ]
    }
   ],
   "source": [
    "for i in l2:\n",
    "    print(i)"
   ]
  },
  {
   "cell_type": "code",
   "execution_count": 70,
   "id": "2aa1cb0f",
   "metadata": {
    "ExecuteTime": {
     "end_time": "2023-11-08T14:59:02.416612Z",
     "start_time": "2023-11-08T14:59:02.406619Z"
    }
   },
   "outputs": [
    {
     "name": "stdout",
     "output_type": "stream",
     "text": [
      "The Positive index of A is 0\n",
      "The Positive index of B is 1\n",
      "The Positive index of C is 2\n",
      "The Positive index of D is 3\n"
     ]
    }
   ],
   "source": [
    "i=0\n",
    "while i<len(l2):\n",
    "    print(\"The Positive index of\",l2[i],\"is\",i)\n",
    "    i+=1"
   ]
  },
  {
   "cell_type": "code",
   "execution_count": 69,
   "id": "88c4e248",
   "metadata": {
    "ExecuteTime": {
     "end_time": "2023-11-08T14:58:44.535651Z",
     "start_time": "2023-11-08T14:58:44.515662Z"
    }
   },
   "outputs": [
    {
     "name": "stdout",
     "output_type": "stream",
     "text": [
      "The Positive index of A is 0\n",
      "The Positive index of B is 1\n",
      "The Positive index of C is 2\n",
      "The Positive index of D is 3\n"
     ]
    }
   ],
   "source": [
    "for i in range(len(l2)):\n",
    "    print(\"The Positive index of\",l2[i],\"is\",i)"
   ]
  },
  {
   "cell_type": "code",
   "execution_count": 73,
   "id": "a2a914e3",
   "metadata": {
    "ExecuteTime": {
     "end_time": "2023-11-08T15:01:53.654786Z",
     "start_time": "2023-11-08T15:01:53.631802Z"
    }
   },
   "outputs": [
    {
     "name": "stdout",
     "output_type": "stream",
     "text": [
      "The Negative index of A is -4\n",
      "The Negative index of B is -3\n",
      "The Negative index of C is -2\n",
      "The Negative index of D is -1\n"
     ]
    }
   ],
   "source": [
    "i=0\n",
    "while i<len(l2):\n",
    "    print(\"The Negative index of\",l2[i],\"is\",i-len(l2))\n",
    "    i+=1"
   ]
  },
  {
   "cell_type": "code",
   "execution_count": 74,
   "id": "83b131d3",
   "metadata": {
    "ExecuteTime": {
     "end_time": "2023-11-08T15:02:45.233492Z",
     "start_time": "2023-11-08T15:02:45.226495Z"
    }
   },
   "outputs": [
    {
     "name": "stdout",
     "output_type": "stream",
     "text": [
      "The Negative index of A is -4\n",
      "The Negative index of B is -3\n",
      "The Negative index of C is -2\n",
      "The Negative index of D is -1\n"
     ]
    }
   ],
   "source": [
    "for i in range(len(l2)):\n",
    "    print(\"The Negative index of\",l2[i],\"is\",i-len(l2))"
   ]
  },
  {
   "cell_type": "code",
   "execution_count": 75,
   "id": "bc089edc",
   "metadata": {
    "ExecuteTime": {
     "end_time": "2023-11-08T15:08:01.597024Z",
     "start_time": "2023-11-08T15:08:01.574037Z"
    }
   },
   "outputs": [
    {
     "data": {
      "text/plain": [
       "['A', 'B', 'C', 'Mobin']"
      ]
     },
     "execution_count": 75,
     "metadata": {},
     "output_type": "execute_result"
    }
   ],
   "source": [
    "l2[3]='Mobin'\n",
    "l2"
   ]
  },
  {
   "cell_type": "code",
   "execution_count": 76,
   "id": "07193141",
   "metadata": {
    "ExecuteTime": {
     "end_time": "2023-11-08T15:11:34.489928Z",
     "start_time": "2023-11-08T15:11:34.471920Z"
    }
   },
   "outputs": [],
   "source": [
    "l1=[[[[[1,2,3,4]]]]]"
   ]
  },
  {
   "cell_type": "code",
   "execution_count": 98,
   "id": "ba68177b",
   "metadata": {
    "ExecuteTime": {
     "end_time": "2023-11-08T15:15:38.994876Z",
     "start_time": "2023-11-08T15:15:38.976887Z"
    }
   },
   "outputs": [
    {
     "data": {
      "text/plain": [
       "4"
      ]
     },
     "execution_count": 98,
     "metadata": {},
     "output_type": "execute_result"
    }
   ],
   "source": [
    "l1[0][0][0][0][3]"
   ]
  },
  {
   "cell_type": "code",
   "execution_count": 99,
   "id": "3987e254",
   "metadata": {
    "ExecuteTime": {
     "end_time": "2023-11-08T15:16:44.934140Z",
     "start_time": "2023-11-08T15:16:44.914130Z"
    }
   },
   "outputs": [
    {
     "data": {
      "text/plain": [
       "1"
      ]
     },
     "execution_count": 99,
     "metadata": {},
     "output_type": "execute_result"
    }
   ],
   "source": [
    "len(l1)"
   ]
  },
  {
   "cell_type": "code",
   "execution_count": 100,
   "id": "728e2bf7",
   "metadata": {
    "ExecuteTime": {
     "end_time": "2023-11-08T15:20:29.099266Z",
     "start_time": "2023-11-08T15:20:29.087273Z"
    }
   },
   "outputs": [],
   "source": [
    "l2=[[[[['A','B',[1,2,3,['Cherry']]]]]]]"
   ]
  },
  {
   "cell_type": "code",
   "execution_count": 109,
   "id": "b5532832",
   "metadata": {
    "ExecuteTime": {
     "end_time": "2023-11-08T15:21:09.238414Z",
     "start_time": "2023-11-08T15:21:09.231420Z"
    }
   },
   "outputs": [
    {
     "data": {
      "text/plain": [
       "['Cherry']"
      ]
     },
     "execution_count": 109,
     "metadata": {},
     "output_type": "execute_result"
    }
   ],
   "source": [
    "l2[0][0][0][0][2][3]"
   ]
  },
  {
   "cell_type": "code",
   "execution_count": 110,
   "id": "7f3e0833",
   "metadata": {
    "ExecuteTime": {
     "end_time": "2023-11-08T15:22:50.156519Z",
     "start_time": "2023-11-08T15:22:50.145524Z"
    }
   },
   "outputs": [],
   "source": [
    "l3=[[[[['A','B',[1,2,3,['Cherry']]]]]]]"
   ]
  },
  {
   "cell_type": "code",
   "execution_count": 113,
   "id": "a0c69cca",
   "metadata": {
    "ExecuteTime": {
     "end_time": "2023-11-08T15:24:29.850848Z",
     "start_time": "2023-11-08T15:24:29.829857Z"
    }
   },
   "outputs": [
    {
     "data": {
      "text/plain": [
       "'Cherry'"
      ]
     },
     "execution_count": 113,
     "metadata": {},
     "output_type": "execute_result"
    }
   ],
   "source": [
    "l3[0][0][0][0][2][3][0]"
   ]
  },
  {
   "cell_type": "code",
   "execution_count": 112,
   "id": "6b59dd59",
   "metadata": {
    "ExecuteTime": {
     "end_time": "2023-11-08T15:23:04.112609Z",
     "start_time": "2023-11-08T15:23:04.099618Z"
    }
   },
   "outputs": [
    {
     "data": {
      "text/plain": [
       "1"
      ]
     },
     "execution_count": 112,
     "metadata": {},
     "output_type": "execute_result"
    }
   ],
   "source": [
    "len(l3)"
   ]
  },
  {
   "cell_type": "code",
   "execution_count": 115,
   "id": "821cb1f4",
   "metadata": {
    "ExecuteTime": {
     "end_time": "2023-11-08T15:27:21.676334Z",
     "start_time": "2023-11-08T15:27:21.654346Z"
    }
   },
   "outputs": [
    {
     "name": "stdout",
     "output_type": "stream",
     "text": [
      "1\n",
      "2\n",
      "3\n"
     ]
    }
   ],
   "source": [
    "l1=[[1,2,3]]\n",
    "for i in l1[0]:\n",
    "    print(i)"
   ]
  },
  {
   "cell_type": "code",
   "execution_count": 116,
   "id": "addff664",
   "metadata": {
    "ExecuteTime": {
     "end_time": "2023-11-08T16:38:23.431954Z",
     "start_time": "2023-11-08T16:38:23.418942Z"
    }
   },
   "outputs": [
    {
     "data": {
      "text/plain": [
       "'5Mobin'"
      ]
     },
     "execution_count": 116,
     "metadata": {},
     "output_type": "execute_result"
    }
   ],
   "source": [
    "str(5)+'Mobin'"
   ]
  },
  {
   "cell_type": "code",
   "execution_count": 118,
   "id": "5642c74e",
   "metadata": {
    "ExecuteTime": {
     "end_time": "2023-11-08T16:39:32.927270Z",
     "start_time": "2023-11-08T16:39:32.910257Z"
    }
   },
   "outputs": [
    {
     "data": {
      "text/plain": [
       "'I saidhayhayHey!'"
      ]
     },
     "execution_count": 118,
     "metadata": {},
     "output_type": "execute_result"
    }
   ],
   "source": [
    "\"I said\"+(\"hay\"*2)+\"Hey!\""
   ]
  },
  {
   "cell_type": "code",
   "execution_count": 119,
   "id": "11320077",
   "metadata": {
    "ExecuteTime": {
     "end_time": "2023-11-08T16:40:25.611591Z",
     "start_time": "2023-11-08T16:40:25.587604Z"
    }
   },
   "outputs": [
    {
     "ename": "TypeError",
     "evalue": "can only concatenate str (not \"int\") to str",
     "output_type": "error",
     "traceback": [
      "\u001b[1;31m---------------------------------------------------------------------------\u001b[0m",
      "\u001b[1;31mTypeError\u001b[0m                                 Traceback (most recent call last)",
      "\u001b[1;32m~\\AppData\\Local\\Temp/ipykernel_5820/2984755479.py\u001b[0m in \u001b[0;36m<module>\u001b[1;34m\u001b[0m\n\u001b[1;32m----> 1\u001b[1;33m \u001b[1;34m\"The\"\u001b[0m\u001b[1;33m+\u001b[0m\u001b[1;36m2\u001b[0m\u001b[1;33m\u001b[0m\u001b[1;33m\u001b[0m\u001b[0m\n\u001b[0m",
      "\u001b[1;31mTypeError\u001b[0m: can only concatenate str (not \"int\") to str"
     ]
    }
   ],
   "source": [
    "\"The\"+2"
   ]
  },
  {
   "cell_type": "code",
   "execution_count": 120,
   "id": "3327f32b",
   "metadata": {
    "ExecuteTime": {
     "end_time": "2023-11-08T16:40:35.944595Z",
     "start_time": "2023-11-08T16:40:35.936597Z"
    }
   },
   "outputs": [
    {
     "data": {
      "text/plain": [
       "1"
      ]
     },
     "execution_count": 120,
     "metadata": {},
     "output_type": "execute_result"
    }
   ],
   "source": [
    "True+False"
   ]
  },
  {
   "cell_type": "code",
   "execution_count": 121,
   "id": "4e7216c7",
   "metadata": {
    "ExecuteTime": {
     "end_time": "2023-11-08T17:36:55.287497Z",
     "start_time": "2023-11-08T17:36:36.887997Z"
    }
   },
   "outputs": [
    {
     "name": "stdout",
     "output_type": "stream",
     "text": [
      "Enter the String:My Name Is Mobin\n",
      "Enter at which location need to change the character5\n",
      "Enter the Characterk\n"
     ]
    },
    {
     "ename": "TypeError",
     "evalue": "'str' object does not support item assignment",
     "output_type": "error",
     "traceback": [
      "\u001b[1;31m---------------------------------------------------------------------------\u001b[0m",
      "\u001b[1;31mTypeError\u001b[0m                                 Traceback (most recent call last)",
      "\u001b[1;32m~\\AppData\\Local\\Temp/ipykernel_5820/1802924490.py\u001b[0m in \u001b[0;36m<module>\u001b[1;34m\u001b[0m\n\u001b[0;32m      2\u001b[0m \u001b[0mposition\u001b[0m\u001b[1;33m=\u001b[0m\u001b[0meval\u001b[0m\u001b[1;33m(\u001b[0m\u001b[0minput\u001b[0m\u001b[1;33m(\u001b[0m\u001b[1;34m\"Enter at which location need to change the character\"\u001b[0m\u001b[1;33m)\u001b[0m\u001b[1;33m)\u001b[0m\u001b[1;33m\u001b[0m\u001b[1;33m\u001b[0m\u001b[0m\n\u001b[0;32m      3\u001b[0m \u001b[0mcharacter\u001b[0m\u001b[1;33m=\u001b[0m\u001b[0minput\u001b[0m\u001b[1;33m(\u001b[0m\u001b[1;34m\"Enter the Character\"\u001b[0m\u001b[1;33m)\u001b[0m\u001b[1;33m\u001b[0m\u001b[1;33m\u001b[0m\u001b[0m\n\u001b[1;32m----> 4\u001b[1;33m \u001b[0mstring\u001b[0m\u001b[1;33m[\u001b[0m\u001b[0mposition\u001b[0m\u001b[1;33m]\u001b[0m\u001b[1;33m=\u001b[0m\u001b[0mcharacter\u001b[0m\u001b[1;33m\u001b[0m\u001b[1;33m\u001b[0m\u001b[0m\n\u001b[0m\u001b[0;32m      5\u001b[0m \u001b[0mprint\u001b[0m\u001b[1;33m(\u001b[0m\u001b[0mstring\u001b[0m\u001b[1;33m)\u001b[0m\u001b[1;33m\u001b[0m\u001b[1;33m\u001b[0m\u001b[0m\n",
      "\u001b[1;31mTypeError\u001b[0m: 'str' object does not support item assignment"
     ]
    }
   ],
   "source": [
    "string=input(\"Enter the String:\")\n",
    "position=eval(input(\"Enter at which location need to change the character\"))\n",
    "character=input(\"Enter the Character\")\n",
    "string[position]='k'\n",
    "print(string)"
   ]
  },
  {
   "cell_type": "code",
   "execution_count": 125,
   "id": "407c8f5e",
   "metadata": {
    "ExecuteTime": {
     "end_time": "2023-11-08T17:40:44.477328Z",
     "start_time": "2023-11-08T17:40:44.462312Z"
    }
   },
   "outputs": [
    {
     "data": {
      "text/plain": [
       "'abrackdabra'"
      ]
     },
     "execution_count": 125,
     "metadata": {},
     "output_type": "execute_result"
    }
   ],
   "source": [
    "string='abracadabra'\n",
    "string[:5]+'k'+string[6:]"
   ]
  },
  {
   "cell_type": "code",
   "execution_count": 126,
   "id": "fdd0fb36",
   "metadata": {
    "ExecuteTime": {
     "end_time": "2023-11-08T17:42:21.921184Z",
     "start_time": "2023-11-08T17:42:21.913187Z"
    }
   },
   "outputs": [],
   "source": [
    "def mutate_string(string, position, character):\n",
    "    return string[:5]+'k'+string[6:]"
   ]
  },
  {
   "cell_type": "code",
   "execution_count": 127,
   "id": "eca0675d",
   "metadata": {
    "ExecuteTime": {
     "end_time": "2023-11-08T17:42:42.127809Z",
     "start_time": "2023-11-08T17:42:42.118814Z"
    }
   },
   "outputs": [
    {
     "data": {
      "text/plain": [
       "'abrackdabra'"
      ]
     },
     "execution_count": 127,
     "metadata": {},
     "output_type": "execute_result"
    }
   ],
   "source": [
    "mutate_string('abracadabra',5,'k')"
   ]
  },
  {
   "cell_type": "code",
   "execution_count": 128,
   "id": "aebf7609",
   "metadata": {
    "ExecuteTime": {
     "end_time": "2023-11-08T17:54:28.302880Z",
     "start_time": "2023-11-08T17:54:19.332657Z"
    }
   },
   "outputs": [
    {
     "name": "stdout",
     "output_type": "stream",
     "text": [
      "Enter the Stringabracadabra\n",
      "Eter the Position5\n",
      "Enter Characterk\n"
     ]
    },
    {
     "data": {
      "text/plain": [
       "'abrackdabra'"
      ]
     },
     "execution_count": 128,
     "metadata": {},
     "output_type": "execute_result"
    }
   ],
   "source": [
    "string=input(\"Enter the String\")\n",
    "position,character=eval(input(\"Eter the Position\")),input(\"Enter Character\")\n",
    "string[:5]+\"k\"+string[6:]"
   ]
  },
  {
   "cell_type": "code",
   "execution_count": 130,
   "id": "3fc7546d",
   "metadata": {
    "ExecuteTime": {
     "end_time": "2023-11-08T18:04:16.715370Z",
     "start_time": "2023-11-08T18:04:16.701377Z"
    }
   },
   "outputs": [
    {
     "name": "stdout",
     "output_type": "stream",
     "text": [
      "abrackdabra\n"
     ]
    }
   ],
   "source": [
    "string='abracadabra'\n",
    "string_out=''\n",
    "for i in range(len(string)):\n",
    "    if i==5:\n",
    "        string_out+='k'\n",
    "    else:\n",
    "        string_out+=string[i]\n",
    "print(string_out)"
   ]
  },
  {
   "cell_type": "code",
   "execution_count": 131,
   "id": "563ffaa6",
   "metadata": {
    "ExecuteTime": {
     "end_time": "2023-11-08T18:17:23.311661Z",
     "start_time": "2023-11-08T18:17:23.300665Z"
    }
   },
   "outputs": [],
   "source": [
    "l1=[1,2,3,4,5,6,7,8,9]"
   ]
  },
  {
   "cell_type": "code",
   "execution_count": 132,
   "id": "731ebd3e",
   "metadata": {
    "ExecuteTime": {
     "end_time": "2023-11-08T18:17:30.453547Z",
     "start_time": "2023-11-08T18:17:30.436535Z"
    }
   },
   "outputs": [
    {
     "data": {
      "text/plain": [
       "[1, 2, 3, 4]"
      ]
     },
     "execution_count": 132,
     "metadata": {},
     "output_type": "execute_result"
    }
   ],
   "source": [
    "l1[0:4]"
   ]
  },
  {
   "cell_type": "code",
   "execution_count": 133,
   "id": "948f1aef",
   "metadata": {
    "ExecuteTime": {
     "end_time": "2023-11-08T18:20:55.192372Z",
     "start_time": "2023-11-08T18:20:55.183376Z"
    }
   },
   "outputs": [],
   "source": [
    "areas = [\"hallway\", 11.25, \"kitchen\", 18.0, \"living room\", 20.0, \"bedroom\", 10.75, \"bathroom\", 9.50]"
   ]
  },
  {
   "cell_type": "code",
   "execution_count": 134,
   "id": "32f917fd",
   "metadata": {
    "ExecuteTime": {
     "end_time": "2023-11-08T18:21:05.951968Z",
     "start_time": "2023-11-08T18:21:05.930981Z"
    }
   },
   "outputs": [
    {
     "data": {
      "text/plain": [
       "['hallway', 11.25, 'kitchen', 18.0, 'living room', 20.0]"
      ]
     },
     "execution_count": 134,
     "metadata": {},
     "output_type": "execute_result"
    }
   ],
   "source": [
    "downstairs=areas[:6]\n",
    "downstairs"
   ]
  },
  {
   "cell_type": "code",
   "execution_count": 136,
   "id": "2d29282e",
   "metadata": {
    "ExecuteTime": {
     "end_time": "2023-11-08T18:21:43.934451Z",
     "start_time": "2023-11-08T18:21:43.918463Z"
    }
   },
   "outputs": [
    {
     "data": {
      "text/plain": [
       "['bedroom', 10.75, 'bathroom', 9.5]"
      ]
     },
     "execution_count": 136,
     "metadata": {},
     "output_type": "execute_result"
    }
   ],
   "source": [
    "upstairs=areas[6:]\n",
    "upstairs"
   ]
  },
  {
   "cell_type": "code",
   "execution_count": null,
   "id": "4540ef6c",
   "metadata": {},
   "outputs": [],
   "source": [
    "areas = [\"hallway\", 11.25, \"kitchen\", 18.0, \"living room\", 20.0, \"bedroom\", 10.75, \"bathroom\", 9.50]"
   ]
  },
  {
   "cell_type": "code",
   "execution_count": 165,
   "id": "88102502",
   "metadata": {
    "ExecuteTime": {
     "end_time": "2023-11-08T18:42:52.906998Z",
     "start_time": "2023-11-08T18:42:52.897002Z"
    }
   },
   "outputs": [],
   "source": [
    "l1=[1,2,3,4]"
   ]
  },
  {
   "cell_type": "code",
   "execution_count": 166,
   "id": "6a494a11",
   "metadata": {
    "ExecuteTime": {
     "end_time": "2023-11-08T18:42:54.541765Z",
     "start_time": "2023-11-08T18:42:54.530775Z"
    }
   },
   "outputs": [
    {
     "data": {
      "text/plain": [
       "[1, 2, 3, 4, 5]"
      ]
     },
     "execution_count": 166,
     "metadata": {},
     "output_type": "execute_result"
    }
   ],
   "source": [
    "l1=l1+[5]\n",
    "l1"
   ]
  },
  {
   "cell_type": "code",
   "execution_count": 167,
   "id": "d49cc596",
   "metadata": {
    "ExecuteTime": {
     "end_time": "2023-11-08T18:43:02.200324Z",
     "start_time": "2023-11-08T18:43:02.182357Z"
    }
   },
   "outputs": [],
   "source": [
    "del(l1[-3]);del(l1[-2])"
   ]
  },
  {
   "cell_type": "code",
   "execution_count": 168,
   "id": "af07c787",
   "metadata": {
    "ExecuteTime": {
     "end_time": "2023-11-08T18:43:04.467109Z",
     "start_time": "2023-11-08T18:43:04.453117Z"
    }
   },
   "outputs": [
    {
     "data": {
      "text/plain": [
       "[1, 2, 5]"
      ]
     },
     "execution_count": 168,
     "metadata": {},
     "output_type": "execute_result"
    }
   ],
   "source": [
    "l1"
   ]
  },
  {
   "cell_type": "code",
   "execution_count": 170,
   "id": "b8ab43db",
   "metadata": {
    "ExecuteTime": {
     "end_time": "2023-11-08T18:49:28.157482Z",
     "start_time": "2023-11-08T18:49:28.135473Z"
    }
   },
   "outputs": [
    {
     "name": "stdout",
     "output_type": "stream",
     "text": [
      "[5.0, 18.0, 20.0, 10.75, 9.5]\n",
      "[5.0, 18.0, 20.0, 10.75, 9.5]\n"
     ]
    }
   ],
   "source": [
    "# Create list areas\n",
    "areas = [11.25, 18.0, 20.0, 10.75, 9.50]\n",
    "\n",
    "# Create areas_copy\n",
    "areas_copy = areas\n",
    "\n",
    "# Change areas_copy\n",
    "areas_copy[0] = 5.0\n",
    "\n",
    "# Print areas\n",
    "print(areas)\n",
    "print(areas_copy)"
   ]
  },
  {
   "cell_type": "code",
   "execution_count": 178,
   "id": "f529a743",
   "metadata": {
    "ExecuteTime": {
     "end_time": "2023-11-08T19:23:55.968697Z",
     "start_time": "2023-11-08T19:23:55.949685Z"
    }
   },
   "outputs": [
    {
     "name": "stdout",
     "output_type": "stream",
     "text": [
      "Help on built-in function sorted in module builtins:\n",
      "\n",
      "sorted(iterable, /, *, key=None, reverse=False)\n",
      "    Return a new list containing all items from the iterable in ascending order.\n",
      "    \n",
      "    A custom key function can be supplied to customize the sort order, and the\n",
      "    reverse flag can be set to request the result in descending order.\n",
      "\n"
     ]
    }
   ],
   "source": [
    "help(sorted)"
   ]
  },
  {
   "cell_type": "code",
   "execution_count": 179,
   "id": "bd40181a",
   "metadata": {
    "ExecuteTime": {
     "end_time": "2023-11-08T19:24:34.356980Z",
     "start_time": "2023-11-08T19:24:34.350983Z"
    }
   },
   "outputs": [],
   "source": [
    "l1=[7,6,9,10,1,2,7]"
   ]
  },
  {
   "cell_type": "code",
   "execution_count": 182,
   "id": "2953857e",
   "metadata": {
    "ExecuteTime": {
     "end_time": "2023-11-08T19:25:00.942615Z",
     "start_time": "2023-11-08T19:25:00.922603Z"
    }
   },
   "outputs": [
    {
     "data": {
      "text/plain": [
       "[10, 9, 7, 7, 6, 2, 1]"
      ]
     },
     "execution_count": 182,
     "metadata": {},
     "output_type": "execute_result"
    }
   ],
   "source": [
    "sorted(l1,reverse=True)"
   ]
  },
  {
   "cell_type": "code",
   "execution_count": 190,
   "id": "ff00459f",
   "metadata": {
    "ExecuteTime": {
     "end_time": "2023-11-08T19:42:17.681938Z",
     "start_time": "2023-11-08T19:42:17.663948Z"
    }
   },
   "outputs": [
    {
     "ename": "NameError",
     "evalue": "name 'upper' is not defined",
     "output_type": "error",
     "traceback": [
      "\u001b[1;31m---------------------------------------------------------------------------\u001b[0m",
      "\u001b[1;31mNameError\u001b[0m                                 Traceback (most recent call last)",
      "\u001b[1;32m~\\AppData\\Local\\Temp/ipykernel_5820/953010817.py\u001b[0m in \u001b[0;36m<module>\u001b[1;34m\u001b[0m\n\u001b[0;32m      1\u001b[0m \u001b[1;32mimport\u001b[0m \u001b[0mstring\u001b[0m\u001b[1;33m\u001b[0m\u001b[1;33m\u001b[0m\u001b[0m\n\u001b[0;32m      2\u001b[0m \u001b[0ml1\u001b[0m\u001b[1;33m=\u001b[0m\u001b[1;34m'swimming pool'\u001b[0m\u001b[1;33m\u001b[0m\u001b[1;33m\u001b[0m\u001b[0m\n\u001b[1;32m----> 3\u001b[1;33m \u001b[0mupper\u001b[0m\u001b[1;33m(\u001b[0m\u001b[0ml1\u001b[0m\u001b[1;33m)\u001b[0m\u001b[1;33m\u001b[0m\u001b[1;33m\u001b[0m\u001b[0m\n\u001b[0m",
      "\u001b[1;31mNameError\u001b[0m: name 'upper' is not defined"
     ]
    }
   ],
   "source": [
    "import string\n",
    "l1='swimming pool'\n",
    "upper(l1)"
   ]
  },
  {
   "cell_type": "code",
   "execution_count": 191,
   "id": "6d6a28d4",
   "metadata": {
    "ExecuteTime": {
     "end_time": "2023-11-08T19:43:41.709836Z",
     "start_time": "2023-11-08T19:43:41.698864Z"
    }
   },
   "outputs": [
    {
     "data": {
      "text/plain": [
       "'SWIMMING POOL'"
      ]
     },
     "execution_count": 191,
     "metadata": {},
     "output_type": "execute_result"
    }
   ],
   "source": [
    "l1.upper()"
   ]
  },
  {
   "cell_type": "code",
   "execution_count": 192,
   "id": "59c6edc8",
   "metadata": {
    "ExecuteTime": {
     "end_time": "2023-11-08T19:46:14.656930Z",
     "start_time": "2023-11-08T19:46:14.642938Z"
    }
   },
   "outputs": [
    {
     "name": "stdout",
     "output_type": "stream",
     "text": [
      "2\n"
     ]
    }
   ],
   "source": [
    "areas = [11.25, 18.0, 20.0, 10.75, 9.50]\n",
    "\n",
    "# Print out the index of the element 20.0\n",
    "for i in range(len(areas)):\n",
    "    if areas[i]==20.0:\n",
    "        print(i)"
   ]
  },
  {
   "cell_type": "code",
   "execution_count": 193,
   "id": "68aee568",
   "metadata": {
    "ExecuteTime": {
     "end_time": "2023-11-08T19:48:37.557415Z",
     "start_time": "2023-11-08T19:48:37.538424Z"
    }
   },
   "outputs": [
    {
     "name": "stdout",
     "output_type": "stream",
     "text": [
      "2\n"
     ]
    }
   ],
   "source": [
    "# Create list areas\n",
    "areas = [11.25, 18.0, 20.0, 10.75, 9.50]\n",
    "\n",
    "# Print out the index of the element 20.0\n",
    "print(areas.index(20.0))"
   ]
  },
  {
   "cell_type": "code",
   "execution_count": 196,
   "id": "be8bb9f9",
   "metadata": {
    "ExecuteTime": {
     "end_time": "2023-11-08T19:49:40.926143Z",
     "start_time": "2023-11-08T19:49:40.905133Z"
    }
   },
   "outputs": [
    {
     "name": "stdout",
     "output_type": "stream",
     "text": [
      "2\n",
      "2\n"
     ]
    }
   ],
   "source": [
    "# Create list areas\n",
    "areas = [11.25, 18.0, 20.0,9.50, 10.75, 9.50]\n",
    "\n",
    "# Print out the index of the element 20.0\n",
    "print(areas.index(20.0))\n",
    "\n",
    "\n",
    "# Print out how often 9.50 appears in areas\n",
    "print(areas.count(9.50))"
   ]
  },
  {
   "cell_type": "code",
   "execution_count": 201,
   "id": "c76b7abc",
   "metadata": {
    "ExecuteTime": {
     "end_time": "2023-11-08T19:53:39.571835Z",
     "start_time": "2023-11-08T19:53:39.553866Z"
    }
   },
   "outputs": [],
   "source": [
    "areas.reverse()"
   ]
  },
  {
   "cell_type": "code",
   "execution_count": 199,
   "id": "4d65e80d",
   "metadata": {
    "ExecuteTime": {
     "end_time": "2023-11-08T19:51:54.945379Z",
     "start_time": "2023-11-08T19:51:54.934385Z"
    }
   },
   "outputs": [],
   "source": [
    "l1"
   ]
  },
  {
   "cell_type": "code",
   "execution_count": 204,
   "id": "88d6c1ec",
   "metadata": {
    "ExecuteTime": {
     "end_time": "2023-11-08T20:02:51.979446Z",
     "start_time": "2023-11-08T20:02:51.967456Z"
    }
   },
   "outputs": [
    {
     "data": {
      "text/plain": [
       "['__doc__',\n",
       " '__loader__',\n",
       " '__name__',\n",
       " '__package__',\n",
       " '__spec__',\n",
       " 'acos',\n",
       " 'acosh',\n",
       " 'asin',\n",
       " 'asinh',\n",
       " 'atan',\n",
       " 'atan2',\n",
       " 'atanh',\n",
       " 'ceil',\n",
       " 'comb',\n",
       " 'copysign',\n",
       " 'cos',\n",
       " 'cosh',\n",
       " 'degrees',\n",
       " 'dist',\n",
       " 'e',\n",
       " 'erf',\n",
       " 'erfc',\n",
       " 'exp',\n",
       " 'expm1',\n",
       " 'fabs',\n",
       " 'factorial',\n",
       " 'floor',\n",
       " 'fmod',\n",
       " 'frexp',\n",
       " 'fsum',\n",
       " 'gamma',\n",
       " 'gcd',\n",
       " 'hypot',\n",
       " 'inf',\n",
       " 'isclose',\n",
       " 'isfinite',\n",
       " 'isinf',\n",
       " 'isnan',\n",
       " 'isqrt',\n",
       " 'lcm',\n",
       " 'ldexp',\n",
       " 'lgamma',\n",
       " 'log',\n",
       " 'log10',\n",
       " 'log1p',\n",
       " 'log2',\n",
       " 'modf',\n",
       " 'nan',\n",
       " 'nextafter',\n",
       " 'perm',\n",
       " 'pi',\n",
       " 'pow',\n",
       " 'prod',\n",
       " 'radians',\n",
       " 'remainder',\n",
       " 'sin',\n",
       " 'sinh',\n",
       " 'sqrt',\n",
       " 'tan',\n",
       " 'tanh',\n",
       " 'tau',\n",
       " 'trunc',\n",
       " 'ulp']"
      ]
     },
     "execution_count": 204,
     "metadata": {},
     "output_type": "execute_result"
    }
   ],
   "source": [
    "import math\n",
    "dir(math)"
   ]
  },
  {
   "cell_type": "code",
   "execution_count": 205,
   "id": "3a887c98",
   "metadata": {
    "ExecuteTime": {
     "end_time": "2023-11-08T20:18:28.894531Z",
     "start_time": "2023-11-08T20:18:28.354771Z"
    }
   },
   "outputs": [
    {
     "ename": "NameError",
     "evalue": "name 'height_in' is not defined",
     "output_type": "error",
     "traceback": [
      "\u001b[1;31m---------------------------------------------------------------------------\u001b[0m",
      "\u001b[1;31mNameError\u001b[0m                                 Traceback (most recent call last)",
      "\u001b[1;32m~\\AppData\\Local\\Temp/ipykernel_5820/1478356951.py\u001b[0m in \u001b[0;36m<module>\u001b[1;34m\u001b[0m\n\u001b[0;32m      3\u001b[0m \u001b[1;33m\u001b[0m\u001b[0m\n\u001b[0;32m      4\u001b[0m \u001b[1;31m# Create a numpy array from height_in: np_height_in\u001b[0m\u001b[1;33m\u001b[0m\u001b[1;33m\u001b[0m\u001b[0m\n\u001b[1;32m----> 5\u001b[1;33m \u001b[0mnp_height_in\u001b[0m\u001b[1;33m=\u001b[0m\u001b[0mnp\u001b[0m\u001b[1;33m.\u001b[0m\u001b[0marray\u001b[0m\u001b[1;33m(\u001b[0m\u001b[0mheight_in\u001b[0m\u001b[1;33m)\u001b[0m\u001b[1;33m\u001b[0m\u001b[1;33m\u001b[0m\u001b[0m\n\u001b[0m\u001b[0;32m      6\u001b[0m \u001b[1;33m\u001b[0m\u001b[0m\n\u001b[0;32m      7\u001b[0m \u001b[1;31m# Print out np_height_in\u001b[0m\u001b[1;33m\u001b[0m\u001b[1;33m\u001b[0m\u001b[0m\n",
      "\u001b[1;31mNameError\u001b[0m: name 'height_in' is not defined"
     ]
    }
   ],
   "source": [
    "# Import numpy\n",
    "import numpy as np\n",
    "\n",
    "# Create a numpy array from height_in: np_height_in\n",
    "np_height_in=np.array(height_in)\n",
    "\n",
    "# Print out np_height_in\n",
    "print(np_height_in)\n",
    "\n",
    "# Convert np_height_in to m: np_height_m\n",
    "np_height_m=np_height_in*0.0254\n",
    "\n",
    "# Print np_height_m\n",
    "print(np_height_m)"
   ]
  },
  {
   "cell_type": "code",
   "execution_count": 206,
   "id": "b687105b",
   "metadata": {
    "ExecuteTime": {
     "end_time": "2023-11-08T20:57:49.507787Z",
     "start_time": "2023-11-08T20:57:49.500791Z"
    }
   },
   "outputs": [],
   "source": [
    "import numpy as np"
   ]
  },
  {
   "cell_type": "code",
   "execution_count": 207,
   "id": "b86ca661",
   "metadata": {
    "ExecuteTime": {
     "end_time": "2023-11-08T20:58:13.145439Z",
     "start_time": "2023-11-08T20:58:13.129426Z"
    }
   },
   "outputs": [
    {
     "data": {
      "text/plain": [
       "array([1, 1, 2, 3, 4, 0])"
      ]
     },
     "execution_count": 207,
     "metadata": {},
     "output_type": "execute_result"
    }
   ],
   "source": [
    "np.array([True,1,2,3,4,False])"
   ]
  },
  {
   "cell_type": "code",
   "execution_count": 208,
   "id": "4f6fa684",
   "metadata": {
    "ExecuteTime": {
     "end_time": "2023-11-08T21:07:00.827305Z",
     "start_time": "2023-11-08T21:07:00.809314Z"
    }
   },
   "outputs": [
    {
     "data": {
      "text/plain": [
       "array([4, 5, 2])"
      ]
     },
     "execution_count": 208,
     "metadata": {},
     "output_type": "execute_result"
    }
   ],
   "source": [
    "np.array([4,3,0])+np.array([0,2,2])"
   ]
  },
  {
   "cell_type": "code",
   "execution_count": 209,
   "id": "bc9ce724",
   "metadata": {
    "ExecuteTime": {
     "end_time": "2023-11-08T21:09:58.887348Z",
     "start_time": "2023-11-08T21:09:58.869356Z"
    }
   },
   "outputs": [
    {
     "data": {
      "text/plain": [
       "array([4, 5, 2])"
      ]
     },
     "execution_count": 209,
     "metadata": {},
     "output_type": "execute_result"
    }
   ],
   "source": [
    "np.array([True, 1, 2]) + np.array([3, 4, False])"
   ]
  },
  {
   "cell_type": "code",
   "execution_count": null,
   "id": "e076aa2d",
   "metadata": {},
   "outputs": [],
   "source": []
  },
  {
   "cell_type": "code",
   "execution_count": null,
   "id": "4c24586a",
   "metadata": {},
   "outputs": [],
   "source": []
  },
  {
   "cell_type": "code",
   "execution_count": null,
   "id": "5e9bf479",
   "metadata": {},
   "outputs": [],
   "source": []
  }
 ],
 "metadata": {
  "kernelspec": {
   "display_name": "Python 3 (ipykernel)",
   "language": "python",
   "name": "python3"
  },
  "language_info": {
   "codemirror_mode": {
    "name": "ipython",
    "version": 3
   },
   "file_extension": ".py",
   "mimetype": "text/x-python",
   "name": "python",
   "nbconvert_exporter": "python",
   "pygments_lexer": "ipython3",
   "version": "3.9.7"
  }
 },
 "nbformat": 4,
 "nbformat_minor": 5
}
