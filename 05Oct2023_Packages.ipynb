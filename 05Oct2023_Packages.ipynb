{
 "cells": [
  {
   "cell_type": "markdown",
   "id": "ca5ab4e1",
   "metadata": {},
   "source": [
    "Every programming language will depends on \n",
    "\n",
    "    packages or modules or libraries\n",
    "all are same"
   ]
  },
  {
   "cell_type": "markdown",
   "id": "8c1faabb",
   "metadata": {},
   "source": [
    "# import <package_name>\n",
    "\n",
    "## dir(<package_name>)\n",
    "\n",
    "## help(<package_name>.<method_name>)\n",
    "\n",
    "## <package_name>.<method_name>(<parameters)"
   ]
  },
  {
   "cell_type": "code",
   "execution_count": 1,
   "id": "8206dd2e",
   "metadata": {
    "ExecuteTime": {
     "end_time": "2023-10-07T14:27:07.519227Z",
     "start_time": "2023-10-07T14:27:07.499244Z"
    }
   },
   "outputs": [],
   "source": [
    "import random  # import <package name>"
   ]
  },
  {
   "cell_type": "code",
   "execution_count": 2,
   "id": "99ae30d7",
   "metadata": {
    "ExecuteTime": {
     "end_time": "2023-10-07T14:27:07.550209Z",
     "start_time": "2023-10-07T14:27:07.523223Z"
    }
   },
   "outputs": [
    {
     "data": {
      "text/plain": [
       "['BPF',\n",
       " 'LOG4',\n",
       " 'NV_MAGICCONST',\n",
       " 'RECIP_BPF',\n",
       " 'Random',\n",
       " 'SG_MAGICCONST',\n",
       " 'SystemRandom',\n",
       " 'TWOPI',\n",
       " '_Sequence',\n",
       " '_Set',\n",
       " '__all__',\n",
       " '__builtins__',\n",
       " '__cached__',\n",
       " '__doc__',\n",
       " '__file__',\n",
       " '__loader__',\n",
       " '__name__',\n",
       " '__package__',\n",
       " '__spec__',\n",
       " '_accumulate',\n",
       " '_acos',\n",
       " '_bisect',\n",
       " '_ceil',\n",
       " '_cos',\n",
       " '_e',\n",
       " '_exp',\n",
       " '_floor',\n",
       " '_inst',\n",
       " '_log',\n",
       " '_os',\n",
       " '_pi',\n",
       " '_random',\n",
       " '_repeat',\n",
       " '_sha512',\n",
       " '_sin',\n",
       " '_sqrt',\n",
       " '_test',\n",
       " '_test_generator',\n",
       " '_urandom',\n",
       " '_warn',\n",
       " 'betavariate',\n",
       " 'choice',\n",
       " 'choices',\n",
       " 'expovariate',\n",
       " 'gammavariate',\n",
       " 'gauss',\n",
       " 'getrandbits',\n",
       " 'getstate',\n",
       " 'lognormvariate',\n",
       " 'normalvariate',\n",
       " 'paretovariate',\n",
       " 'randbytes',\n",
       " 'randint',\n",
       " 'random',\n",
       " 'randrange',\n",
       " 'sample',\n",
       " 'seed',\n",
       " 'setstate',\n",
       " 'shuffle',\n",
       " 'triangular',\n",
       " 'uniform',\n",
       " 'vonmisesvariate',\n",
       " 'weibullvariate']"
      ]
     },
     "execution_count": 2,
     "metadata": {},
     "output_type": "execute_result"
    }
   ],
   "source": [
    "#I want to know use case of random\n",
    "dir(random)    #dir(<package name>)"
   ]
  },
  {
   "cell_type": "markdown",
   "id": "ed437ac4",
   "metadata": {},
   "source": [
    "- random is a package\n",
    "- in that random, randint is method"
   ]
  },
  {
   "cell_type": "code",
   "execution_count": 3,
   "id": "a8a957fd",
   "metadata": {
    "ExecuteTime": {
     "end_time": "2023-10-07T14:27:07.580191Z",
     "start_time": "2023-10-07T14:27:07.561205Z"
    }
   },
   "outputs": [
    {
     "name": "stdout",
     "output_type": "stream",
     "text": [
      "Help on method randint in module random:\n",
      "\n",
      "randint(a, b) method of random.Random instance\n",
      "    Return random integer in range [a, b], including both end points.\n",
      "\n"
     ]
    }
   ],
   "source": [
    "help(random.randint)"
   ]
  },
  {
   "cell_type": "code",
   "execution_count": 4,
   "id": "38506c20",
   "metadata": {
    "ExecuteTime": {
     "end_time": "2023-10-07T14:27:07.596182Z",
     "start_time": "2023-10-07T14:27:07.585189Z"
    }
   },
   "outputs": [
    {
     "data": {
      "text/plain": [
       "1"
      ]
     },
     "execution_count": 4,
     "metadata": {},
     "output_type": "execute_result"
    }
   ],
   "source": [
    "random.randint(1,20)"
   ]
  },
  {
   "cell_type": "code",
   "execution_count": 5,
   "id": "e77f95fc",
   "metadata": {
    "ExecuteTime": {
     "end_time": "2023-10-07T14:27:07.628164Z",
     "start_time": "2023-10-07T14:27:07.607176Z"
    }
   },
   "outputs": [
    {
     "name": "stdout",
     "output_type": "stream",
     "text": [
      "Help on built-in function sqrt in module math:\n",
      "\n",
      "sqrt(x, /)\n",
      "    Return the square root of x.\n",
      "\n"
     ]
    }
   ],
   "source": [
    "help(random._sqrt)"
   ]
  },
  {
   "cell_type": "code",
   "execution_count": 6,
   "id": "5ddd0300",
   "metadata": {
    "ExecuteTime": {
     "end_time": "2023-10-07T14:27:07.998955Z",
     "start_time": "2023-10-07T14:27:07.638159Z"
    }
   },
   "outputs": [
    {
     "ename": "TypeError",
     "evalue": "math.sqrt() takes exactly one argument (2 given)",
     "output_type": "error",
     "traceback": [
      "\u001b[1;31m---------------------------------------------------------------------------\u001b[0m",
      "\u001b[1;31mTypeError\u001b[0m                                 Traceback (most recent call last)",
      "\u001b[1;32m~\\AppData\\Local\\Temp/ipykernel_9300/2435824582.py\u001b[0m in \u001b[0;36m<module>\u001b[1;34m\u001b[0m\n\u001b[1;32m----> 1\u001b[1;33m \u001b[0mrandom\u001b[0m\u001b[1;33m.\u001b[0m\u001b[0m_sqrt\u001b[0m\u001b[1;33m(\u001b[0m\u001b[1;36m2\u001b[0m\u001b[1;33m,\u001b[0m\u001b[1;36m5\u001b[0m\u001b[1;33m)\u001b[0m\u001b[1;33m\u001b[0m\u001b[1;33m\u001b[0m\u001b[0m\n\u001b[0m",
      "\u001b[1;31mTypeError\u001b[0m: math.sqrt() takes exactly one argument (2 given)"
     ]
    }
   ],
   "source": [
    "random._sqrt(2,5)"
   ]
  },
  {
   "cell_type": "markdown",
   "id": "95bd405b",
   "metadata": {},
   "source": [
    "- importing package       # import math\n",
    "- checking the methods    # dir(math)\n",
    "- help                    # math.sin(90)"
   ]
  },
  {
   "cell_type": "code",
   "execution_count": null,
   "id": "0389ce2c",
   "metadata": {
    "ExecuteTime": {
     "end_time": "2023-10-07T14:27:08.004950Z",
     "start_time": "2023-10-07T14:27:08.004950Z"
    }
   },
   "outputs": [],
   "source": [
    "import pandas\n",
    "dir(pandas)"
   ]
  },
  {
   "cell_type": "code",
   "execution_count": null,
   "id": "ded3ad91",
   "metadata": {
    "ExecuteTime": {
     "end_time": "2023-10-07T14:27:08.007946Z",
     "start_time": "2023-10-07T14:27:08.007946Z"
    }
   },
   "outputs": [],
   "source": [
    "random   # Location of package"
   ]
  },
  {
   "cell_type": "code",
   "execution_count": null,
   "id": "7e5f6f42",
   "metadata": {
    "ExecuteTime": {
     "end_time": "2023-10-07T14:27:08.010946Z",
     "start_time": "2023-10-07T14:27:08.010946Z"
    }
   },
   "outputs": [],
   "source": [
    "import keyword as kw"
   ]
  },
  {
   "cell_type": "code",
   "execution_count": null,
   "id": "c5446cb4",
   "metadata": {
    "ExecuteTime": {
     "end_time": "2023-10-07T14:27:08.015944Z",
     "start_time": "2023-10-07T14:27:08.015944Z"
    }
   },
   "outputs": [],
   "source": [
    "dir(keyword)"
   ]
  },
  {
   "cell_type": "code",
   "execution_count": null,
   "id": "fefa5412",
   "metadata": {
    "ExecuteTime": {
     "end_time": "2023-10-07T14:27:08.026939Z",
     "start_time": "2023-10-07T14:27:08.026939Z"
    }
   },
   "outputs": [],
   "source": [
    "help(kw.kwlist)"
   ]
  },
  {
   "cell_type": "code",
   "execution_count": null,
   "id": "712737b2",
   "metadata": {
    "ExecuteTime": {
     "end_time": "2023-10-07T14:27:08.028937Z",
     "start_time": "2023-10-07T14:27:08.028937Z"
    }
   },
   "outputs": [],
   "source": [
    "kw.kwlist"
   ]
  },
  {
   "cell_type": "code",
   "execution_count": null,
   "id": "fb7b68c9",
   "metadata": {
    "ExecuteTime": {
     "end_time": "2023-10-07T14:27:08.032934Z",
     "start_time": "2023-10-07T14:27:08.032934Z"
    }
   },
   "outputs": [],
   "source": [
    "len(kw.kwlist)"
   ]
  },
  {
   "cell_type": "code",
   "execution_count": null,
   "id": "91767002",
   "metadata": {
    "ExecuteTime": {
     "end_time": "2023-10-07T14:27:08.035932Z",
     "start_time": "2023-10-07T14:27:08.035932Z"
    }
   },
   "outputs": [],
   "source": [
    "import math\n",
    "dir(math)\n",
    "math.pi"
   ]
  },
  {
   "cell_type": "code",
   "execution_count": null,
   "id": "73e431e3",
   "metadata": {
    "ExecuteTime": {
     "end_time": "2023-10-07T14:27:08.038932Z",
     "start_time": "2023-10-07T14:27:08.038932Z"
    }
   },
   "outputs": [],
   "source": [
    "round(math.pi,2)"
   ]
  },
  {
   "cell_type": "code",
   "execution_count": null,
   "id": "f139b970",
   "metadata": {
    "ExecuteTime": {
     "end_time": "2023-10-07T14:27:08.041928Z",
     "start_time": "2023-10-07T14:27:08.041928Z"
    }
   },
   "outputs": [],
   "source": [
    "val=math.pi\n",
    "val"
   ]
  },
  {
   "cell_type": "code",
   "execution_count": null,
   "id": "bbe6619e",
   "metadata": {
    "ExecuteTime": {
     "end_time": "2023-10-07T14:27:08.046928Z",
     "start_time": "2023-10-07T14:27:08.046928Z"
    }
   },
   "outputs": [],
   "source": [
    "round(val)"
   ]
  },
  {
   "cell_type": "code",
   "execution_count": null,
   "id": "885be37a",
   "metadata": {
    "ExecuteTime": {
     "end_time": "2023-10-07T14:27:08.054925Z",
     "start_time": "2023-10-07T14:27:08.054925Z"
    }
   },
   "outputs": [],
   "source": [
    "round(val,2)"
   ]
  },
  {
   "cell_type": "code",
   "execution_count": null,
   "id": "75ee2360",
   "metadata": {
    "ExecuteTime": {
     "end_time": "2023-10-07T14:27:08.057918Z",
     "start_time": "2023-10-07T14:27:08.057918Z"
    }
   },
   "outputs": [],
   "source": [
    "Useful packages\n",
    "-For EDA\n",
    "numpy  -----------  numerical python\n",
    "pandas -----------  Data Frame\n",
    "matpotlib --------  For visualization\n",
    "seaborn   --------  For visualization\n",
    "sklearn   --------  sikit - learn \n",
    "\n",
    "tensorflow ------  DL\n",
    "keras      ------  DL\n",
    "pytorch    ------- DL\n",
    "nltk       ------  natural language tool kit (NLP)\n",
    "scipy      ------  NLP"
   ]
  },
  {
   "cell_type": "code",
   "execution_count": null,
   "id": "e0e5ac99",
   "metadata": {
    "ExecuteTime": {
     "end_time": "2023-10-07T14:27:08.061917Z",
     "start_time": "2023-10-07T14:27:08.061917Z"
    }
   },
   "outputs": [],
   "source": [
    "import cv2  #Computer Vision used for image analytics"
   ]
  },
  {
   "cell_type": "code",
   "execution_count": null,
   "id": "dd6d9336",
   "metadata": {
    "ExecuteTime": {
     "end_time": "2023-10-07T14:27:08.066914Z",
     "start_time": "2023-10-07T14:27:08.066914Z"
    }
   },
   "outputs": [],
   "source": [
    "#In python always error will be availble in the bottom"
   ]
  },
  {
   "cell_type": "markdown",
   "id": "de0fae46",
   "metadata": {},
   "source": [
    "#When ever a module is not found \n",
    "#We need to install the module\n",
    "pip install <module_name> #Sytax to install the module \n",
    "To find the correct module name python organisation will help (pypi.org)\n",
    "https://pypi.org/project/opencv-python/"
   ]
  },
  {
   "cell_type": "markdown",
   "id": "158b61c8",
   "metadata": {},
   "source": [
    "# How to install\n",
    "1. In jupyter notebook\n",
    "2. In Anaconda prompt"
   ]
  },
  {
   "cell_type": "code",
   "execution_count": null,
   "id": "5b537c2a",
   "metadata": {
    "ExecuteTime": {
     "end_time": "2023-10-07T14:27:08.069910Z",
     "start_time": "2023-10-07T14:27:08.069910Z"
    }
   },
   "outputs": [],
   "source": [
    "pip install opencv-python"
   ]
  },
  {
   "cell_type": "code",
   "execution_count": null,
   "id": "d83d4c11",
   "metadata": {
    "ExecuteTime": {
     "end_time": "2023-10-07T14:27:08.073910Z",
     "start_time": "2023-10-07T14:27:08.073910Z"
    }
   },
   "outputs": [],
   "source": [
    "import cv2"
   ]
  },
  {
   "cell_type": "markdown",
   "id": "7aa36ea4",
   "metadata": {},
   "source": [
    "#How many packages are available\n",
    "pip freeze  # in Anaconda prompt\n",
    "pip == preferred installer program"
   ]
  },
  {
   "cell_type": "code",
   "execution_count": null,
   "id": "b89c0cb8",
   "metadata": {},
   "outputs": [],
   "source": []
  },
  {
   "cell_type": "code",
   "execution_count": null,
   "id": "5f2de9bf",
   "metadata": {},
   "outputs": [],
   "source": []
  },
  {
   "cell_type": "code",
   "execution_count": null,
   "id": "fa750155",
   "metadata": {},
   "outputs": [],
   "source": []
  },
  {
   "cell_type": "code",
   "execution_count": null,
   "id": "dce427ea",
   "metadata": {},
   "outputs": [],
   "source": []
  }
 ],
 "metadata": {
  "kernelspec": {
   "display_name": "Python 3 (ipykernel)",
   "language": "python",
   "name": "python3"
  },
  "language_info": {
   "codemirror_mode": {
    "name": "ipython",
    "version": 3
   },
   "file_extension": ".py",
   "mimetype": "text/x-python",
   "name": "python",
   "nbconvert_exporter": "python",
   "pygments_lexer": "ipython3",
   "version": "3.9.7"
  }
 },
 "nbformat": 4,
 "nbformat_minor": 5
}
