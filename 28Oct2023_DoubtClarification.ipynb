{
 "cells": [
  {
   "cell_type": "code",
   "execution_count": 17,
   "id": "5430e9fe",
   "metadata": {
    "ExecuteTime": {
     "end_time": "2023-10-28T14:28:34.655694Z",
     "start_time": "2023-10-28T14:28:34.642703Z"
    }
   },
   "outputs": [],
   "source": [
    "def get_values():\n",
    "    start=eval(input(\"Enter Start Value:\"))\n",
    "    stop=eval(input(\"Enter Stop Value:\"))\n",
    "    return(start,stop)\n",
    "def nat_add():\n",
    "    try:\n",
    "        sum=0\n",
    "        start,stop=get_values()\n",
    "        for i in range(start,stop):\n",
    "            sum+=i\n",
    "        print(sum)\n",
    "    except Exception as e:\n",
    "        print(e)"
   ]
  },
  {
   "cell_type": "code",
   "execution_count": 18,
   "id": "6a58ab88",
   "metadata": {
    "ExecuteTime": {
     "end_time": "2023-10-28T14:28:38.716354Z",
     "start_time": "2023-10-28T14:28:36.497494Z"
    }
   },
   "outputs": [
    {
     "name": "stdout",
     "output_type": "stream",
     "text": [
      "Enter Start Value:1\n",
      "Enter Stop Value:11\n",
      "55\n"
     ]
    }
   ],
   "source": [
    "nat_add()"
   ]
  },
  {
   "cell_type": "code",
   "execution_count": 25,
   "id": "d0dcf8eb",
   "metadata": {
    "ExecuteTime": {
     "end_time": "2023-10-28T14:38:18.782777Z",
     "start_time": "2023-10-28T14:38:18.769781Z"
    }
   },
   "outputs": [],
   "source": [
    "def even_odd():\n",
    "    try:\n",
    "        even_sum=0\n",
    "        odd_sum=0\n",
    "        for i in range(1,101):\n",
    "            if i%2==0:\n",
    "                even_sum+=i\n",
    "            else:\n",
    "                odd_sum+=i\n",
    "        print(\"Enven numbers Sum between 1 to 100 is: {}\".format(even_sum))\n",
    "        print(\"Odd numbers Sum between 1 to 100 is:\",odd_sum)\n",
    "    except Exception as e:\n",
    "        print(e)"
   ]
  },
  {
   "cell_type": "code",
   "execution_count": 26,
   "id": "41e40970",
   "metadata": {
    "ExecuteTime": {
     "end_time": "2023-10-28T14:38:20.693161Z",
     "start_time": "2023-10-28T14:38:20.675170Z"
    }
   },
   "outputs": [
    {
     "name": "stdout",
     "output_type": "stream",
     "text": [
      "Enven numbers Sum between 1 to 100 is: 2550\n",
      "Odd numbers Sum between 1 to 100 is: 2500\n"
     ]
    }
   ],
   "source": [
    "even_odd()"
   ]
  },
  {
   "cell_type": "code",
   "execution_count": 31,
   "id": "b0453774",
   "metadata": {
    "ExecuteTime": {
     "end_time": "2023-10-28T15:02:11.900725Z",
     "start_time": "2023-10-28T15:02:11.881735Z"
    }
   },
   "outputs": [],
   "source": [
    "def random_count50to90():\n",
    "    try:\n",
    "        import random\n",
    "        count=0\n",
    "        for i in range(21):\n",
    "            n=random.randint(1,101)\n",
    "            if n>=50 and n<90:\n",
    "                #print(n)\n",
    "                count+=1\n",
    "        print(count)\n",
    "    except Exception as e:\n",
    "        print(e)"
   ]
  },
  {
   "cell_type": "code",
   "execution_count": 32,
   "id": "21d41cb6",
   "metadata": {
    "ExecuteTime": {
     "end_time": "2023-10-28T15:02:18.136462Z",
     "start_time": "2023-10-28T15:02:18.124490Z"
    }
   },
   "outputs": [
    {
     "name": "stdout",
     "output_type": "stream",
     "text": [
      "10\n"
     ]
    }
   ],
   "source": [
    "random_count50to90()"
   ]
  },
  {
   "cell_type": "code",
   "execution_count": 36,
   "id": "a749030b",
   "metadata": {
    "ExecuteTime": {
     "end_time": "2023-10-28T15:13:51.523143Z",
     "start_time": "2023-10-28T15:13:51.506172Z"
    }
   },
   "outputs": [
    {
     "data": {
      "text/plain": [
       "False"
      ]
     },
     "execution_count": 36,
     "metadata": {},
     "output_type": "execute_result"
    }
   ],
   "source": [
    "'mn' in 'mobinnnn'\n"
   ]
  },
  {
   "cell_type": "code",
   "execution_count": 38,
   "id": "7e3991cd",
   "metadata": {
    "ExecuteTime": {
     "end_time": "2023-10-28T15:16:56.532484Z",
     "start_time": "2023-10-28T15:16:56.513495Z"
    }
   },
   "outputs": [
    {
     "name": "stdout",
     "output_type": "stream",
     "text": [
      "p\n",
      "y\n",
      "t\n",
      "h\n",
      "o\n",
      "n\n"
     ]
    }
   ],
   "source": [
    "name ='python'\n",
    "for i in name:\n",
    "    print(i)"
   ]
  },
  {
   "cell_type": "code",
   "execution_count": 41,
   "id": "d4cd3302",
   "metadata": {
    "ExecuteTime": {
     "end_time": "2023-10-28T15:23:49.333933Z",
     "start_time": "2023-10-28T15:23:49.322964Z"
    }
   },
   "outputs": [],
   "source": [
    "def name_length():\n",
    "    try:\n",
    "        name=input(\"Enter you name:\")\n",
    "        count=0\n",
    "        for i in name:\n",
    "            count+=1\n",
    "        if count>5:\n",
    "            print(\"Lengthy\")\n",
    "        else:\n",
    "            print(\"Small\")\n",
    "    except Exception as e:\n",
    "        print(e)"
   ]
  },
  {
   "cell_type": "code",
   "execution_count": 43,
   "id": "fede2f64",
   "metadata": {
    "ExecuteTime": {
     "end_time": "2023-10-28T15:24:05.806891Z",
     "start_time": "2023-10-28T15:24:03.987887Z"
    }
   },
   "outputs": [
    {
     "name": "stdout",
     "output_type": "stream",
     "text": [
      "Enter you name:mobin\n",
      "Small\n"
     ]
    }
   ],
   "source": [
    "name_length()"
   ]
  },
  {
   "cell_type": "code",
   "execution_count": null,
   "id": "4e79b8b1",
   "metadata": {},
   "outputs": [],
   "source": [
    "def name_length(name):\n",
    "    try:\n",
    "        count=0\n",
    "        for i in name:\n",
    "            count+=1\n",
    "        if count>5:\n",
    "            print(\"Lengthy\")\n",
    "        else:\n",
    "            print(\"Small\")\n",
    "    except Exception as e:\n",
    "        print(e)"
   ]
  },
  {
   "cell_type": "code",
   "execution_count": 49,
   "id": "49778b7e",
   "metadata": {
    "ExecuteTime": {
     "end_time": "2023-10-28T15:30:23.993505Z",
     "start_time": "2023-10-28T15:30:21.694099Z"
    }
   },
   "outputs": [
    {
     "name": "stdout",
     "output_type": "stream",
     "text": [
      "Enter you name:mobin\n",
      "Small\n"
     ]
    }
   ],
   "source": [
    "name_length()"
   ]
  },
  {
   "cell_type": "code",
   "execution_count": 51,
   "id": "fb904af1",
   "metadata": {
    "ExecuteTime": {
     "end_time": "2023-10-28T15:32:26.446916Z",
     "start_time": "2023-10-28T15:32:24.374648Z"
    }
   },
   "outputs": [
    {
     "name": "stdout",
     "output_type": "stream",
     "text": [
      "Enter the name:mobin\n",
      "0\n"
     ]
    }
   ],
   "source": [
    "name=input(\"Enter the name:\")\n",
    "count=0\n",
    "for i in name:\n",
    "    if i=='a':\n",
    "        count+=1\n",
    "print(count)"
   ]
  },
  {
   "cell_type": "code",
   "execution_count": null,
   "id": "05a4b5ec",
   "metadata": {},
   "outputs": [],
   "source": []
  },
  {
   "cell_type": "code",
   "execution_count": null,
   "id": "544413b4",
   "metadata": {},
   "outputs": [],
   "source": []
  },
  {
   "cell_type": "code",
   "execution_count": null,
   "id": "c293e6e5",
   "metadata": {},
   "outputs": [],
   "source": []
  }
 ],
 "metadata": {
  "kernelspec": {
   "display_name": "Python 3 (ipykernel)",
   "language": "python",
   "name": "python3"
  },
  "language_info": {
   "codemirror_mode": {
    "name": "ipython",
    "version": 3
   },
   "file_extension": ".py",
   "mimetype": "text/x-python",
   "name": "python",
   "nbconvert_exporter": "python",
   "pygments_lexer": "ipython3",
   "version": "3.9.7"
  }
 },
 "nbformat": 4,
 "nbformat_minor": 5
}
