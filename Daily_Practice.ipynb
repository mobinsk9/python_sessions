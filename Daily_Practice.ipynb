{
 "cells": [
  {
   "cell_type": "code",
   "execution_count": 1,
   "id": "1e9662f8",
   "metadata": {
    "ExecuteTime": {
     "end_time": "2023-10-10T00:36:34.265166Z",
     "start_time": "2023-10-10T00:36:34.248169Z"
    }
   },
   "outputs": [],
   "source": [
    "import random"
   ]
  },
  {
   "cell_type": "code",
   "execution_count": 2,
   "id": "baf8dc92",
   "metadata": {
    "ExecuteTime": {
     "end_time": "2023-10-10T00:36:44.581501Z",
     "start_time": "2023-10-10T00:36:44.551519Z"
    }
   },
   "outputs": [
    {
     "data": {
      "text/plain": [
       "['BPF',\n",
       " 'LOG4',\n",
       " 'NV_MAGICCONST',\n",
       " 'RECIP_BPF',\n",
       " 'Random',\n",
       " 'SG_MAGICCONST',\n",
       " 'SystemRandom',\n",
       " 'TWOPI',\n",
       " '_Sequence',\n",
       " '_Set',\n",
       " '__all__',\n",
       " '__builtins__',\n",
       " '__cached__',\n",
       " '__doc__',\n",
       " '__file__',\n",
       " '__loader__',\n",
       " '__name__',\n",
       " '__package__',\n",
       " '__spec__',\n",
       " '_accumulate',\n",
       " '_acos',\n",
       " '_bisect',\n",
       " '_ceil',\n",
       " '_cos',\n",
       " '_e',\n",
       " '_exp',\n",
       " '_floor',\n",
       " '_inst',\n",
       " '_log',\n",
       " '_os',\n",
       " '_pi',\n",
       " '_random',\n",
       " '_repeat',\n",
       " '_sha512',\n",
       " '_sin',\n",
       " '_sqrt',\n",
       " '_test',\n",
       " '_test_generator',\n",
       " '_urandom',\n",
       " '_warn',\n",
       " 'betavariate',\n",
       " 'choice',\n",
       " 'choices',\n",
       " 'expovariate',\n",
       " 'gammavariate',\n",
       " 'gauss',\n",
       " 'getrandbits',\n",
       " 'getstate',\n",
       " 'lognormvariate',\n",
       " 'normalvariate',\n",
       " 'paretovariate',\n",
       " 'randbytes',\n",
       " 'randint',\n",
       " 'random',\n",
       " 'randrange',\n",
       " 'sample',\n",
       " 'seed',\n",
       " 'setstate',\n",
       " 'shuffle',\n",
       " 'triangular',\n",
       " 'uniform',\n",
       " 'vonmisesvariate',\n",
       " 'weibullvariate']"
      ]
     },
     "execution_count": 2,
     "metadata": {},
     "output_type": "execute_result"
    }
   ],
   "source": [
    "dir(random)"
   ]
  },
  {
   "cell_type": "code",
   "execution_count": 3,
   "id": "514e60cb",
   "metadata": {
    "ExecuteTime": {
     "end_time": "2023-10-10T00:37:09.850168Z",
     "start_time": "2023-10-10T00:37:09.834178Z"
    }
   },
   "outputs": [
    {
     "name": "stdout",
     "output_type": "stream",
     "text": [
      "Help on method randint in module random:\n",
      "\n",
      "randint(a, b) method of random.Random instance\n",
      "    Return random integer in range [a, b], including both end points.\n",
      "\n"
     ]
    }
   ],
   "source": [
    "help(random.randint)"
   ]
  },
  {
   "cell_type": "code",
   "execution_count": 6,
   "id": "3edcc34a",
   "metadata": {
    "ExecuteTime": {
     "end_time": "2023-10-10T00:37:40.466886Z",
     "start_time": "2023-10-10T00:37:40.446898Z"
    }
   },
   "outputs": [
    {
     "data": {
      "text/plain": [
       "18"
      ]
     },
     "execution_count": 6,
     "metadata": {},
     "output_type": "execute_result"
    }
   ],
   "source": [
    "random.randint(2,20)"
   ]
  },
  {
   "cell_type": "code",
   "execution_count": 7,
   "id": "527558dc",
   "metadata": {
    "ExecuteTime": {
     "end_time": "2023-10-10T00:42:30.610908Z",
     "start_time": "2023-10-10T00:42:30.601909Z"
    }
   },
   "outputs": [
    {
     "name": "stdout",
     "output_type": "stream",
     "text": [
      "['False', 'None', 'True', '__peg_parser__', 'and', 'as', 'assert', 'async', 'await', 'break', 'class', 'continue', 'def', 'del', 'elif', 'else', 'except', 'finally', 'for', 'from', 'global', 'if', 'import', 'in', 'is', 'lambda', 'nonlocal', 'not', 'or', 'pass', 'raise', 'return', 'try', 'while', 'with', 'yield']\n"
     ]
    }
   ],
   "source": [
    "import keyword as kw\n",
    "print(kw.kwlist)"
   ]
  },
  {
   "cell_type": "code",
   "execution_count": 9,
   "id": "495cb5ef",
   "metadata": {
    "ExecuteTime": {
     "end_time": "2023-10-10T00:43:40.808675Z",
     "start_time": "2023-10-10T00:43:40.802699Z"
    }
   },
   "outputs": [
    {
     "name": "stdout",
     "output_type": "stream",
     "text": [
      "36\n"
     ]
    }
   ],
   "source": [
    "print(len(kw.kwlist))"
   ]
  },
  {
   "cell_type": "code",
   "execution_count": 12,
   "id": "876d9d35",
   "metadata": {
    "ExecuteTime": {
     "end_time": "2023-10-10T00:44:43.664769Z",
     "start_time": "2023-10-10T00:44:43.619816Z"
    }
   },
   "outputs": [
    {
     "name": "stdout",
     "output_type": "stream",
     "text": [
      "Help on float object:\n",
      "\n",
      "class float(object)\n",
      " |  float(x=0, /)\n",
      " |  \n",
      " |  Convert a string or number to a floating point number, if possible.\n",
      " |  \n",
      " |  Methods defined here:\n",
      " |  \n",
      " |  __abs__(self, /)\n",
      " |      abs(self)\n",
      " |  \n",
      " |  __add__(self, value, /)\n",
      " |      Return self+value.\n",
      " |  \n",
      " |  __bool__(self, /)\n",
      " |      self != 0\n",
      " |  \n",
      " |  __ceil__(self, /)\n",
      " |      Return the ceiling as an Integral.\n",
      " |  \n",
      " |  __divmod__(self, value, /)\n",
      " |      Return divmod(self, value).\n",
      " |  \n",
      " |  __eq__(self, value, /)\n",
      " |      Return self==value.\n",
      " |  \n",
      " |  __float__(self, /)\n",
      " |      float(self)\n",
      " |  \n",
      " |  __floor__(self, /)\n",
      " |      Return the floor as an Integral.\n",
      " |  \n",
      " |  __floordiv__(self, value, /)\n",
      " |      Return self//value.\n",
      " |  \n",
      " |  __format__(self, format_spec, /)\n",
      " |      Formats the float according to format_spec.\n",
      " |  \n",
      " |  __ge__(self, value, /)\n",
      " |      Return self>=value.\n",
      " |  \n",
      " |  __getattribute__(self, name, /)\n",
      " |      Return getattr(self, name).\n",
      " |  \n",
      " |  __getnewargs__(self, /)\n",
      " |  \n",
      " |  __gt__(self, value, /)\n",
      " |      Return self>value.\n",
      " |  \n",
      " |  __hash__(self, /)\n",
      " |      Return hash(self).\n",
      " |  \n",
      " |  __int__(self, /)\n",
      " |      int(self)\n",
      " |  \n",
      " |  __le__(self, value, /)\n",
      " |      Return self<=value.\n",
      " |  \n",
      " |  __lt__(self, value, /)\n",
      " |      Return self<value.\n",
      " |  \n",
      " |  __mod__(self, value, /)\n",
      " |      Return self%value.\n",
      " |  \n",
      " |  __mul__(self, value, /)\n",
      " |      Return self*value.\n",
      " |  \n",
      " |  __ne__(self, value, /)\n",
      " |      Return self!=value.\n",
      " |  \n",
      " |  __neg__(self, /)\n",
      " |      -self\n",
      " |  \n",
      " |  __pos__(self, /)\n",
      " |      +self\n",
      " |  \n",
      " |  __pow__(self, value, mod=None, /)\n",
      " |      Return pow(self, value, mod).\n",
      " |  \n",
      " |  __radd__(self, value, /)\n",
      " |      Return value+self.\n",
      " |  \n",
      " |  __rdivmod__(self, value, /)\n",
      " |      Return divmod(value, self).\n",
      " |  \n",
      " |  __repr__(self, /)\n",
      " |      Return repr(self).\n",
      " |  \n",
      " |  __rfloordiv__(self, value, /)\n",
      " |      Return value//self.\n",
      " |  \n",
      " |  __rmod__(self, value, /)\n",
      " |      Return value%self.\n",
      " |  \n",
      " |  __rmul__(self, value, /)\n",
      " |      Return value*self.\n",
      " |  \n",
      " |  __round__(self, ndigits=None, /)\n",
      " |      Return the Integral closest to x, rounding half toward even.\n",
      " |      \n",
      " |      When an argument is passed, work like built-in round(x, ndigits).\n",
      " |  \n",
      " |  __rpow__(self, value, mod=None, /)\n",
      " |      Return pow(value, self, mod).\n",
      " |  \n",
      " |  __rsub__(self, value, /)\n",
      " |      Return value-self.\n",
      " |  \n",
      " |  __rtruediv__(self, value, /)\n",
      " |      Return value/self.\n",
      " |  \n",
      " |  __sub__(self, value, /)\n",
      " |      Return self-value.\n",
      " |  \n",
      " |  __truediv__(self, value, /)\n",
      " |      Return self/value.\n",
      " |  \n",
      " |  __trunc__(self, /)\n",
      " |      Return the Integral closest to x between 0 and x.\n",
      " |  \n",
      " |  as_integer_ratio(self, /)\n",
      " |      Return integer ratio.\n",
      " |      \n",
      " |      Return a pair of integers, whose ratio is exactly equal to the original float\n",
      " |      and with a positive denominator.\n",
      " |      \n",
      " |      Raise OverflowError on infinities and a ValueError on NaNs.\n",
      " |      \n",
      " |      >>> (10.0).as_integer_ratio()\n",
      " |      (10, 1)\n",
      " |      >>> (0.0).as_integer_ratio()\n",
      " |      (0, 1)\n",
      " |      >>> (-.25).as_integer_ratio()\n",
      " |      (-1, 4)\n",
      " |  \n",
      " |  conjugate(self, /)\n",
      " |      Return self, the complex conjugate of any float.\n",
      " |  \n",
      " |  hex(self, /)\n",
      " |      Return a hexadecimal representation of a floating-point number.\n",
      " |      \n",
      " |      >>> (-0.1).hex()\n",
      " |      '-0x1.999999999999ap-4'\n",
      " |      >>> 3.14159.hex()\n",
      " |      '0x1.921f9f01b866ep+1'\n",
      " |  \n",
      " |  is_integer(self, /)\n",
      " |      Return True if the float is an integer.\n",
      " |  \n",
      " |  ----------------------------------------------------------------------\n",
      " |  Class methods defined here:\n",
      " |  \n",
      " |  __getformat__(typestr, /) from builtins.type\n",
      " |      You probably don't want to use this function.\n",
      " |      \n",
      " |        typestr\n",
      " |          Must be 'double' or 'float'.\n",
      " |      \n",
      " |      It exists mainly to be used in Python's test suite.\n",
      " |      \n",
      " |      This function returns whichever of 'unknown', 'IEEE, big-endian' or 'IEEE,\n",
      " |      little-endian' best describes the format of floating point numbers used by the\n",
      " |      C type named by typestr.\n",
      " |  \n",
      " |  __set_format__(typestr, fmt, /) from builtins.type\n",
      " |      You probably don't want to use this function.\n",
      " |      \n",
      " |        typestr\n",
      " |          Must be 'double' or 'float'.\n",
      " |        fmt\n",
      " |          Must be one of 'unknown', 'IEEE, big-endian' or 'IEEE, little-endian',\n",
      " |          and in addition can only be one of the latter two if it appears to\n",
      " |          match the underlying C reality.\n",
      " |      \n",
      " |      It exists mainly to be used in Python's test suite.\n",
      " |      \n",
      " |      Override the automatic determination of C-level floating point type.\n",
      " |      This affects how floats are converted to and from binary strings.\n",
      " |  \n",
      " |  fromhex(string, /) from builtins.type\n",
      " |      Create a floating-point number from a hexadecimal string.\n",
      " |      \n",
      " |      >>> float.fromhex('0x1.ffffp10')\n",
      " |      2047.984375\n",
      " |      >>> float.fromhex('-0x1p-1074')\n",
      " |      -5e-324\n",
      " |  \n",
      " |  ----------------------------------------------------------------------\n",
      " |  Static methods defined here:\n",
      " |  \n",
      " |  __new__(*args, **kwargs) from builtins.type\n",
      " |      Create and return a new object.  See help(type) for accurate signature.\n",
      " |  \n",
      " |  ----------------------------------------------------------------------\n",
      " |  Data descriptors defined here:\n",
      " |  \n",
      " |  imag\n",
      " |      the imaginary part of a complex number\n",
      " |  \n",
      " |  real\n",
      " |      the real part of a complex number\n",
      "\n",
      "3.141592653589793\n"
     ]
    }
   ],
   "source": [
    "import math\n",
    "dir(math)\n",
    "help(math.pi)\n",
    "print(math.pi)"
   ]
  },
  {
   "cell_type": "code",
   "execution_count": 13,
   "id": "084da05a",
   "metadata": {
    "ExecuteTime": {
     "end_time": "2023-10-10T00:45:01.232214Z",
     "start_time": "2023-10-10T00:45:01.221223Z"
    }
   },
   "outputs": [
    {
     "data": {
      "text/plain": [
       "3"
      ]
     },
     "execution_count": 13,
     "metadata": {},
     "output_type": "execute_result"
    }
   ],
   "source": [
    "round(math.pi)"
   ]
  },
  {
   "cell_type": "code",
   "execution_count": 14,
   "id": "12f4ab01",
   "metadata": {
    "ExecuteTime": {
     "end_time": "2023-10-10T00:45:19.588007Z",
     "start_time": "2023-10-10T00:45:19.576032Z"
    }
   },
   "outputs": [
    {
     "data": {
      "text/plain": [
       "3.142"
      ]
     },
     "execution_count": 14,
     "metadata": {},
     "output_type": "execute_result"
    }
   ],
   "source": [
    "round(math.pi,3)"
   ]
  },
  {
   "cell_type": "code",
   "execution_count": 15,
   "id": "e5187eca",
   "metadata": {
    "ExecuteTime": {
     "end_time": "2023-10-10T00:54:53.657010Z",
     "start_time": "2023-10-10T00:54:50.212593Z"
    }
   },
   "outputs": [
    {
     "name": "stdout",
     "output_type": "stream",
     "text": [
      "alabaster @ file:///home/ktietz/src/ci/alabaster_1611921544520/work\n",
      "anaconda-client @ file:///C:/ci/anaconda-client_1635342725944/work\n",
      "anaconda-navigator==2.1.1\n",
      "anaconda-project @ file:///tmp/build/80754af9/anaconda-project_1626085644852/work\n",
      "anyio @ file:///C:/ci/anyio_1620153135622/work/dist\n",
      "appdirs==1.4.4\n",
      "argh==0.26.2\n",
      "argon2-cffi @ file:///C:/ci/argon2-cffi_1613037869401/work\n",
      "arrow @ file:///C:/ci/arrow_1617738834352/work\n",
      "asn1crypto @ file:///tmp/build/80754af9/asn1crypto_1596577642040/work\n",
      "astroid @ file:///C:/ci/astroid_1628063282661/work\n",
      "astropy @ file:///C:/ci/astropy_1629829318700/work\n",
      "async-generator @ file:///home/ktietz/src/ci/async_generator_1611927993394/work\n",
      "atomicwrites==1.4.0\n",
      "attrs @ file:///tmp/build/80754af9/attrs_1620827162558/work\n",
      "autopep8 @ file:///tmp/build/80754af9/autopep8_1620866417880/work\n",
      "Babel @ file:///tmp/build/80754af9/babel_1620871417480/work\n",
      "backcall @ file:///home/ktietz/src/ci/backcall_1611930011877/work\n",
      "backports.functools-lru-cache @ file:///tmp/build/80754af9/backports.functools_lru_cache_1618170165463/work\n",
      "backports.shutil-get-terminal-size @ file:///tmp/build/80754af9/backports.shutil_get_terminal_size_1608222128777/work\n",
      "backports.tempfile @ file:///home/linux1/recipes/ci/backports.tempfile_1610991236607/work\n",
      "backports.weakref==1.0.post1\n",
      "bcrypt @ file:///C:/ci/bcrypt_1607022693089/work\n",
      "beautifulsoup4 @ file:///tmp/build/80754af9/beautifulsoup4_1631874778482/work\n",
      "binaryornot @ file:///tmp/build/80754af9/binaryornot_1617751525010/work\n",
      "bitarray @ file:///C:/ci/bitarray_1629133068652/work\n",
      "bkcharts==0.2\n",
      "black==19.10b0\n",
      "bleach @ file:///tmp/build/80754af9/bleach_1628110601003/work\n",
      "bokeh @ file:///C:/ci/bokeh_1635306491714/work\n",
      "boto==2.49.0\n",
      "Bottleneck @ file:///C:/ci/bottleneck_1607557040328/work\n",
      "brotlipy==0.7.0\n",
      "cached-property @ file:///tmp/build/80754af9/cached-property_1600785575025/work\n",
      "certifi==2021.10.8\n",
      "cffi @ file:///C:/ci/cffi_1625831756778/work\n",
      "chardet @ file:///C:/ci/chardet_1607706937985/work\n",
      "charset-normalizer @ file:///tmp/build/80754af9/charset-normalizer_1630003229654/work\n",
      "click==8.0.3\n",
      "cloudpickle @ file:///tmp/build/80754af9/cloudpickle_1632508026186/work\n",
      "clyent==1.2.2\n",
      "colorama @ file:///tmp/build/80754af9/colorama_1607707115595/work\n",
      "comtypes==1.1.10\n",
      "conda==4.10.3\n",
      "conda-build==3.21.6\n",
      "conda-content-trust @ file:///tmp/build/80754af9/conda-content-trust_1617045594566/work\n",
      "conda-pack @ file:///tmp/build/80754af9/conda-pack_1611163042455/work\n",
      "conda-package-handling @ file:///C:/b/abs_44a2d5ajjt/croot/conda-package-handling_1666940385350/work\n",
      "conda-repo-cli @ file:///tmp/build/80754af9/conda-repo-cli_1620168426516/work\n",
      "conda-token @ file:///tmp/build/80754af9/conda-token_1620076980546/work\n",
      "conda-verify==3.4.2\n",
      "confuse @ file:///tmp/build/80754af9/confuse_1625132948033/work\n",
      "contextlib2 @ file:///Users/ktietz/demo/mc3/conda-bld/contextlib2_1630668244042/work\n",
      "cookiecutter @ file:///tmp/build/80754af9/cookiecutter_1617748928239/work\n",
      "cryptography @ file:///C:/ci/cryptography_1633520531101/work\n",
      "cycler==0.10.0\n",
      "Cython @ file:///C:/ci/cython_1636018292912/work\n",
      "cytoolz==0.11.0\n",
      "daal4py==2021.3.0\n",
      "dask==2021.10.0\n",
      "debugpy @ file:///C:/ci/debugpy_1629222819322/work\n",
      "decorator @ file:///tmp/build/80754af9/decorator_1632776554403/work\n",
      "defusedxml @ file:///tmp/build/80754af9/defusedxml_1615228127516/work\n",
      "diff-match-patch @ file:///Users/ktietz/demo/mc3/conda-bld/diff-match-patch_1630511840874/work\n",
      "distributed @ file:///C:/ci/distributed_1635968318313/work\n",
      "docutils @ file:///C:/ci/docutils_1620828264669/work\n",
      "entrypoints==0.3\n",
      "et-xmlfile==1.1.0\n",
      "fastcache @ file:///C:/ci/fastcache_1607571310570/work\n",
      "filelock @ file:///tmp/build/80754af9/filelock_1635402558181/work\n",
      "flake8 @ file:///tmp/build/80754af9/flake8_1620776156532/work\n",
      "Flask @ file:///home/ktietz/src/ci/flask_1611932660458/work\n",
      "fonttools==4.25.0\n",
      "fsspec @ file:///tmp/build/80754af9/fsspec_1636116461911/work\n",
      "future @ file:///C:/ci/future_1607568713721/work\n",
      "gevent @ file:///C:/ci/gevent_1628273776273/work\n",
      "glob2 @ file:///home/linux1/recipes/ci/glob2_1610991677669/work\n",
      "greenlet @ file:///C:/ci/greenlet_1628888275363/work\n",
      "h5py @ file:///C:/ci/h5py_1622088609188/work\n",
      "HeapDict @ file:///Users/ktietz/demo/mc3/conda-bld/heapdict_1630598515714/work\n",
      "html5lib @ file:///Users/ktietz/demo/mc3/conda-bld/html5lib_1629144453894/work\n",
      "htmlmin @ file:///tmp/build/80754af9/htmlmin_1605825795554/work\n",
      "idna @ file:///tmp/build/80754af9/idna_1622654382723/work\n",
      "imagecodecs @ file:///C:/ci/imagecodecs_1635511087451/work\n",
      "ImageHash @ file:///tmp/build/80754af9/imagehash_1626443409618/work\n",
      "imageio @ file:///tmp/build/80754af9/imageio_1617700267927/work\n",
      "imagesize @ file:///Users/ktietz/demo/mc3/conda-bld/imagesize_1628863108022/work\n",
      "importlib-metadata @ file:///C:/ci/importlib-metadata_1631916826748/work\n",
      "inflection==0.5.1\n",
      "iniconfig @ file:///home/linux1/recipes/ci/iniconfig_1610983019677/work\n",
      "intervaltree @ file:///Users/ktietz/demo/mc3/conda-bld/intervaltree_1630511889664/work\n",
      "ipykernel @ file:///C:/ci/ipykernel_1633545585502/work/dist/ipykernel-6.4.1-py3-none-any.whl\n",
      "ipython @ file:///C:/ci/ipython_1635944283918/work\n",
      "ipython-genutils @ file:///tmp/build/80754af9/ipython_genutils_1606773439826/work\n",
      "ipywidgets @ file:///tmp/build/80754af9/ipywidgets_1634143127070/work\n",
      "isort @ file:///tmp/build/80754af9/isort_1628603791788/work\n",
      "itsdangerous @ file:///tmp/build/80754af9/itsdangerous_1621432558163/work\n",
      "jdcal @ file:///Users/ktietz/demo/mc3/conda-bld/jdcal_1630584345063/work\n",
      "jedi @ file:///C:/ci/jedi_1611341083684/work\n",
      "Jinja2 @ file:///tmp/build/80754af9/jinja2_1612213139570/work\n",
      "jinja2-time @ file:///tmp/build/80754af9/jinja2-time_1617751524098/work\n",
      "joblib @ file:///tmp/build/80754af9/joblib_1635411271373/work\n",
      "json5 @ file:///tmp/build/80754af9/json5_1624432770122/work\n",
      "jsonschema @ file:///Users/ktietz/demo/mc3/conda-bld/jsonschema_1630511932244/work\n",
      "jupyter @ file:///C:/ci/jupyter_1607685287094/work\n",
      "jupyter-client @ file:///tmp/build/80754af9/jupyter_client_1616770841739/work\n",
      "jupyter-console @ file:///tmp/build/80754af9/jupyter_console_1616615302928/work\n",
      "jupyter-contrib-core==0.4.0\n",
      "jupyter-contrib-nbextensions==0.5.1\n",
      "jupyter-core @ file:///C:/ci/jupyter_core_1633420716440/work\n",
      "jupyter-highlight-selected-word==0.2.0\n",
      "jupyter-latex-envs==1.4.6\n",
      "jupyter-nbextensions-configurator==0.5.0\n",
      "jupyter-server @ file:///C:/ci/jupyter_server_1616084298419/work\n",
      "jupyterlab @ file:///tmp/build/80754af9/jupyterlab_1635799997693/work\n",
      "jupyterlab-pygments @ file:///tmp/build/80754af9/jupyterlab_pygments_1601490720602/work\n",
      "jupyterlab-server @ file:///tmp/build/80754af9/jupyterlab_server_1633419203660/work\n",
      "jupyterlab-widgets @ file:///tmp/build/80754af9/jupyterlab_widgets_1609884341231/work\n",
      "keyring @ file:///C:/ci/keyring_1629321702436/work\n",
      "kiwisolver @ file:///C:/ci/kiwisolver_1612282555033/work\n",
      "lazy-object-proxy @ file:///C:/ci/lazy-object-proxy_1616529288960/work\n",
      "libarchive-c @ file:///tmp/build/80754af9/python-libarchive-c_1617780486945/work\n",
      "llvmlite==0.37.0\n",
      "locket==0.2.1\n",
      "lxml @ file:///C:/ci/lxml_1616443418777/work\n",
      "MarkupSafe @ file:///C:/ci/markupsafe_1607027406824/work\n",
      "matplotlib @ file:///C:/ci/matplotlib-suite_1634667159685/work\n",
      "matplotlib-inline @ file:///tmp/build/80754af9/matplotlib-inline_1628242447089/work\n",
      "mccabe==0.6.1\n",
      "menuinst @ file:///C:/ci/menuinst_1631733438520/work\n",
      "missingno @ file:///tmp/build/80754af9/missingno_1605824147679/work\n",
      "mistune @ file:///C:/ci/mistune_1607359457024/work\n",
      "mkl-fft==1.3.1\n",
      "mkl-random @ file:///C:/ci/mkl_random_1626186184308/work\n",
      "mkl-service==2.4.0\n",
      "mock @ file:///tmp/build/80754af9/mock_1607622725907/work\n",
      "more-itertools @ file:///tmp/build/80754af9/more-itertools_1635423142362/work\n",
      "mpmath==1.2.1\n",
      "msgpack @ file:///C:/ci/msgpack-python_1612287350784/work\n",
      "multipledispatch @ file:///C:/ci/multipledispatch_1607574329826/work\n",
      "munkres==1.1.4\n",
      "mypy-extensions==0.4.3\n",
      "navigator-updater==0.2.1\n",
      "nbclassic @ file:///tmp/build/80754af9/nbclassic_1616085367084/work\n",
      "nbclient @ file:///tmp/build/80754af9/nbclient_1614364831625/work\n",
      "nbconvert @ file:///C:/ci/nbconvert_1624479160025/work\n",
      "nbformat @ file:///tmp/build/80754af9/nbformat_1617383369282/work\n",
      "nest-asyncio @ file:///tmp/build/80754af9/nest-asyncio_1613680548246/work\n",
      "networkx @ file:///tmp/build/80754af9/networkx_1633639043937/work\n",
      "nltk==3.6.5\n",
      "nose @ file:///tmp/build/80754af9/nose_1606773131901/work\n",
      "notebook @ file:///C:/ci/notebook_1635393701545/work\n",
      "numba @ file:///C:/ci/numba_1635186062888/work\n",
      "numexpr @ file:///C:/ci/numexpr_1618856728739/work\n",
      "numpy @ file:///C:/ci/numpy_and_numpy_base_1626271900803/work\n",
      "numpydoc @ file:///tmp/build/80754af9/numpydoc_1605117425582/work\n",
      "olefile @ file:///Users/ktietz/demo/mc3/conda-bld/olefile_1629805411829/work\n",
      "opencv-python==4.8.1.78\n",
      "openpyxl @ file:///tmp/build/80754af9/openpyxl_1632777717936/work\n",
      "packaging @ file:///tmp/build/80754af9/packaging_1625611678980/work\n",
      "pandas @ file:///C:/ci/pandas_1635506685681/work\n",
      "pandas-profiling @ file:///tmp/build/80754af9/pandas-profiling_1605884833955/work\n",
      "pandocfilters @ file:///C:/ci/pandocfilters_1605114832805/work\n",
      "paramiko @ file:///tmp/build/80754af9/paramiko_1598886428689/work\n",
      "parso @ file:///tmp/build/80754af9/parso_1617223946239/work\n",
      "partd @ file:///tmp/build/80754af9/partd_1618000087440/work\n",
      "path @ file:///C:/ci/path_1624287837534/work\n",
      "pathlib2 @ file:///C:/ci/pathlib2_1625585796814/work\n",
      "pathspec==0.7.0\n",
      "patsy==0.5.2\n",
      "pep8==1.7.1\n",
      "pexpect @ file:///tmp/build/80754af9/pexpect_1605563209008/work\n",
      "phik @ file:///C:/b/abs_23ct5j8bmg/croot/phik_1668544677248/work\n",
      "pickleshare @ file:///tmp/build/80754af9/pickleshare_1606932040724/work\n",
      "Note: you may need to restart the kernel to use updated packages.\n"
     ]
    },
    {
     "name": "stdout",
     "output_type": "stream",
     "text": [
      "Pillow==8.4.0\n",
      "pkginfo==1.7.1\n",
      "plotly==5.11.0\n",
      "pluggy @ file:///C:/ci/pluggy_1615976440052/work\n",
      "ply==3.11\n",
      "poyo @ file:///tmp/build/80754af9/poyo_1617751526755/work\n",
      "prometheus-client @ file:///tmp/build/80754af9/prometheus_client_1623189609245/work\n",
      "prompt-toolkit @ file:///tmp/build/80754af9/prompt-toolkit_1633440160888/work\n",
      "psutil @ file:///C:/ci/psutil_1612298199233/work\n",
      "ptyprocess @ file:///tmp/build/80754af9/ptyprocess_1609355006118/work/dist/ptyprocess-0.7.0-py2.py3-none-any.whl\n",
      "py @ file:///tmp/build/80754af9/py_1607971587848/work\n",
      "pycodestyle @ file:///tmp/build/80754af9/pycodestyle_1615748559966/work\n",
      "pycosat==0.6.3\n",
      "pycparser @ file:///tmp/build/80754af9/pycparser_1594388511720/work\n",
      "pycurl==7.44.1\n",
      "pydocstyle @ file:///tmp/build/80754af9/pydocstyle_1621600989141/work\n",
      "pyerfa @ file:///C:/ci/pyerfa_1621560974055/work\n",
      "pyflakes @ file:///tmp/build/80754af9/pyflakes_1617200973297/work\n",
      "Pygments @ file:///tmp/build/80754af9/pygments_1629234116488/work\n",
      "PyJWT @ file:///C:/ci/pyjwt_1657511236979/work\n",
      "pylint @ file:///C:/ci/pylint_1627536884966/work\n",
      "pyls-spyder==0.4.0\n",
      "PyNaCl @ file:///C:/ci/pynacl_1607612759007/work\n",
      "pyodbc===4.0.0-unsupported\n",
      "pyOpenSSL @ file:///tmp/build/80754af9/pyopenssl_1635333100036/work\n",
      "pyparsing @ file:///tmp/build/80754af9/pyparsing_1635766073266/work\n",
      "pyreadline==2.1\n",
      "pyrsistent @ file:///C:/ci/pyrsistent_1636093225342/work\n",
      "PySocks @ file:///C:/ci/pysocks_1605307512533/work\n",
      "pytest==6.2.4\n",
      "python-dateutil @ file:///tmp/build/80754af9/python-dateutil_1626374649649/work\n",
      "python-lsp-black @ file:///tmp/build/80754af9/python-lsp-black_1634232156041/work\n",
      "python-lsp-jsonrpc==1.0.0\n",
      "python-lsp-server==1.2.4\n",
      "python-slugify @ file:///tmp/build/80754af9/python-slugify_1620405669636/work\n",
      "pytz==2021.3\n",
      "PyWavelets @ file:///C:/ci/pywavelets_1607645631519/work\n",
      "pywin32==228\n",
      "pywin32-ctypes @ file:///C:/ci/pywin32-ctypes_1607553594546/work\n",
      "pywinpty @ file:///C:/ci/pywinpty_1607419945780/work\n",
      "PyYAML==6.0\n",
      "pyzmq @ file:///C:/ci/pyzmq_1628276105793/work\n",
      "QDarkStyle @ file:///tmp/build/80754af9/qdarkstyle_1617386714626/work\n",
      "qstylizer @ file:///tmp/build/80754af9/qstylizer_1617713584600/work/dist/qstylizer-0.1.10-py2.py3-none-any.whl\n",
      "QtAwesome @ file:///tmp/build/80754af9/qtawesome_1615991616277/work\n",
      "qtconsole @ file:///tmp/build/80754af9/qtconsole_1632739723211/work\n",
      "QtPy @ file:///tmp/build/80754af9/qtpy_1629397026935/work\n",
      "regex @ file:///C:/ci/regex_1628063427816/work\n",
      "requests @ file:///tmp/build/80754af9/requests_1629994808627/work\n",
      "rope @ file:///tmp/build/80754af9/rope_1623703006312/work\n",
      "Rtree @ file:///C:/ci/rtree_1618421015405/work\n",
      "ruamel-yaml-conda @ file:///C:/ci/ruamel_yaml_1616016898638/work\n",
      "scikit-image==0.18.3\n",
      "scikit-learn @ file:///C:/ci/scikit-learn_1622739499047/work\n",
      "scikit-learn-intelex==2021.20210714.120553\n",
      "scipy @ file:///C:/ci/scipy_1630606917240/work\n",
      "seaborn @ file:///tmp/build/80754af9/seaborn_1629307859561/work\n",
      "Send2Trash @ file:///tmp/build/80754af9/send2trash_1632406701022/work\n",
      "simplegeneric==0.8.1\n",
      "singledispatch @ file:///tmp/build/80754af9/singledispatch_1629321204894/work\n",
      "sip==4.19.13\n",
      "six @ file:///tmp/build/80754af9/six_1623709665295/work\n",
      "sniffio @ file:///C:/ci/sniffio_1614030527509/work\n",
      "snowballstemmer @ file:///tmp/build/80754af9/snowballstemmer_1611258885636/work\n",
      "sortedcollections @ file:///tmp/build/80754af9/sortedcollections_1611172717284/work\n",
      "sortedcontainers @ file:///tmp/build/80754af9/sortedcontainers_1623949099177/work\n",
      "soupsieve @ file:///tmp/build/80754af9/soupsieve_1616183228191/work\n",
      "Sphinx==4.2.0\n",
      "sphinxcontrib-applehelp @ file:///home/ktietz/src/ci/sphinxcontrib-applehelp_1611920841464/work\n",
      "sphinxcontrib-devhelp @ file:///home/ktietz/src/ci/sphinxcontrib-devhelp_1611920923094/work\n",
      "sphinxcontrib-htmlhelp @ file:///tmp/build/80754af9/sphinxcontrib-htmlhelp_1623945626792/work\n",
      "sphinxcontrib-jsmath @ file:///home/ktietz/src/ci/sphinxcontrib-jsmath_1611920942228/work\n",
      "sphinxcontrib-qthelp @ file:///home/ktietz/src/ci/sphinxcontrib-qthelp_1611921055322/work\n",
      "sphinxcontrib-serializinghtml @ file:///tmp/build/80754af9/sphinxcontrib-serializinghtml_1624451540180/work\n",
      "sphinxcontrib-websupport @ file:///tmp/build/80754af9/sphinxcontrib-websupport_1597081412696/work\n",
      "spyder @ file:///C:/ci/spyder_1636480369575/work\n",
      "spyder-kernels @ file:///C:/ci/spyder-kernels_1634237096710/work\n",
      "SQLAlchemy @ file:///C:/ci/sqlalchemy_1626948551162/work\n",
      "statsmodels==0.12.2\n",
      "sympy @ file:///C:/ci/sympy_1635219088507/work\n",
      "tables==3.6.1\n",
      "tangled-up-in-unicode @ file:///C:/b/abs_90dymc0t9h/croot/tangled-up-in-unicode_1668545233574/work\n",
      "TBB==0.2\n",
      "tblib @ file:///Users/ktietz/demo/mc3/conda-bld/tblib_1629402031467/work\n",
      "tenacity==8.1.0\n",
      "terminado==0.9.4\n",
      "testpath @ file:///tmp/build/80754af9/testpath_1624638946665/work\n",
      "text-unidecode @ file:///Users/ktietz/demo/mc3/conda-bld/text-unidecode_1629401354553/work\n",
      "textdistance @ file:///tmp/build/80754af9/textdistance_1612461398012/work\n",
      "threadpoolctl @ file:///Users/ktietz/demo/mc3/conda-bld/threadpoolctl_1629802263681/work\n",
      "three-merge @ file:///tmp/build/80754af9/three-merge_1607553261110/work\n",
      "tifffile @ file:///tmp/build/80754af9/tifffile_1627275862826/work\n",
      "tinycss @ file:///tmp/build/80754af9/tinycss_1617713798712/work\n",
      "toml @ file:///tmp/build/80754af9/toml_1616166611790/work\n",
      "toolz @ file:///home/linux1/recipes/ci/toolz_1610987900194/work\n",
      "tornado @ file:///C:/ci/tornado_1606924294691/work\n",
      "tqdm @ file:///tmp/build/80754af9/tqdm_1635330843403/work\n",
      "traitlets @ file:///tmp/build/80754af9/traitlets_1632522747050/work\n",
      "typed-ast @ file:///C:/ci/typed-ast_1624953797214/work\n",
      "typing-extensions @ file:///tmp/build/80754af9/typing_extensions_1631814937681/work\n",
      "ujson @ file:///C:/ci/ujson_1611259568517/work\n",
      "unicodecsv==0.14.1\n",
      "Unidecode @ file:///tmp/build/80754af9/unidecode_1614712377438/work\n",
      "urllib3==1.26.7\n",
      "visions @ file:///tmp/build/80754af9/visions_1605827793510/work\n",
      "watchdog @ file:///C:/ci/watchdog_1624955113064/work\n",
      "wcwidth @ file:///Users/ktietz/demo/mc3/conda-bld/wcwidth_1629357192024/work\n",
      "webencodings==0.5.1\n",
      "Werkzeug @ file:///tmp/build/80754af9/werkzeug_1635505089296/work\n",
      "whichcraft @ file:///tmp/build/80754af9/whichcraft_1617751293875/work\n",
      "widgetsnbextension @ file:///C:/ci/widgetsnbextension_1607531582688/work\n",
      "win-inet-pton @ file:///C:/ci/win_inet_pton_1605306162074/work\n",
      "win-unicode-console==0.5\n",
      "wincertstore==0.2\n",
      "wrapt @ file:///C:/ci/wrapt_1607574570428/work\n",
      "xlrd @ file:///tmp/build/80754af9/xlrd_1608072521494/work\n",
      "XlsxWriter @ file:///tmp/build/80754af9/xlsxwriter_1628603415431/work\n",
      "xlwings==0.24.9\n",
      "xlwt==1.3.0\n",
      "xmltodict @ file:///Users/ktietz/demo/mc3/conda-bld/xmltodict_1629301980723/work\n",
      "yapf @ file:///tmp/build/80754af9/yapf_1615749224965/work\n",
      "zict==2.0.0\n",
      "zipp @ file:///tmp/build/80754af9/zipp_1633618647012/work\n",
      "zope.event==4.5.0\n",
      "zope.interface @ file:///C:/ci/zope.interface_1625036252485/work\n"
     ]
    }
   ],
   "source": [
    "pip freeze"
   ]
  },
  {
   "cell_type": "markdown",
   "id": "f395fe25",
   "metadata": {},
   "source": [
    "# Variables\n",
    "## variables is nothing but that will vary"
   ]
  },
  {
   "cell_type": "code",
   "execution_count": 16,
   "id": "1abec559",
   "metadata": {
    "ExecuteTime": {
     "end_time": "2023-10-10T01:03:53.531482Z",
     "start_time": "2023-10-10T01:03:53.519485Z"
    }
   },
   "outputs": [
    {
     "name": "stdout",
     "output_type": "stream",
     "text": [
      "10\n",
      "20\n"
     ]
    }
   ],
   "source": [
    "a=10\n",
    "print(a)\n",
    "a=20\n",
    "print(a)"
   ]
  },
  {
   "cell_type": "markdown",
   "id": "664e7f70",
   "metadata": {},
   "source": [
    "## Rules to write variables\n",
    "1. Variables are case sensitive\n",
    "2. Both Upper and Lower case letters used to initialize the variables\n",
    "3. Letters as prefix and Numbers as suffix will work\n",
    "4. Numbers as suffix and Letters as prfix will not work\n",
    "5. _symbol will work (other than _ remaining will not work)\n",
    "6. Keywords not used as Variables"
   ]
  },
  {
   "cell_type": "code",
   "execution_count": 17,
   "id": "21dce73d",
   "metadata": {
    "ExecuteTime": {
     "end_time": "2023-10-10T01:07:36.696809Z",
     "start_time": "2023-10-10T01:07:36.675819Z"
    }
   },
   "outputs": [
    {
     "name": "stdout",
     "output_type": "stream",
     "text": [
      "10\n",
      "50\n"
     ]
    }
   ],
   "source": [
    "a=10\n",
    "print(a)\n",
    "A=50\n",
    "print(A)"
   ]
  },
  {
   "cell_type": "code",
   "execution_count": 18,
   "id": "ef40070d",
   "metadata": {
    "ExecuteTime": {
     "end_time": "2023-10-10T01:07:50.760426Z",
     "start_time": "2023-10-10T01:07:50.751430Z"
    }
   },
   "outputs": [
    {
     "name": "stdout",
     "output_type": "stream",
     "text": [
      "100\n"
     ]
    }
   ],
   "source": [
    "Number=100\n",
    "print(Number)"
   ]
  },
  {
   "cell_type": "code",
   "execution_count": 19,
   "id": "dc876143",
   "metadata": {
    "ExecuteTime": {
     "end_time": "2023-10-10T01:08:04.459744Z",
     "start_time": "2023-10-10T01:08:04.452750Z"
    }
   },
   "outputs": [
    {
     "name": "stdout",
     "output_type": "stream",
     "text": [
      "100\n"
     ]
    }
   ],
   "source": [
    "num123=100\n",
    "print(num123)"
   ]
  },
  {
   "cell_type": "code",
   "execution_count": 20,
   "id": "9b7df9d3",
   "metadata": {
    "ExecuteTime": {
     "end_time": "2023-10-10T01:08:21.925745Z",
     "start_time": "2023-10-10T01:08:21.912749Z"
    }
   },
   "outputs": [
    {
     "ename": "SyntaxError",
     "evalue": "invalid syntax (Temp/ipykernel_12708/83471570.py, line 1)",
     "output_type": "error",
     "traceback": [
      "\u001b[1;36m  File \u001b[1;32m\"C:\\Users\\admin\\AppData\\Local\\Temp/ipykernel_12708/83471570.py\"\u001b[1;36m, line \u001b[1;32m1\u001b[0m\n\u001b[1;33m    123num=100\u001b[0m\n\u001b[1;37m       ^\u001b[0m\n\u001b[1;31mSyntaxError\u001b[0m\u001b[1;31m:\u001b[0m invalid syntax\n"
     ]
    }
   ],
   "source": [
    "123num=100\n",
    "print(123num)"
   ]
  },
  {
   "cell_type": "code",
   "execution_count": 22,
   "id": "216aae25",
   "metadata": {
    "ExecuteTime": {
     "end_time": "2023-10-10T01:09:07.379143Z",
     "start_time": "2023-10-10T01:09:07.361154Z"
    }
   },
   "outputs": [
    {
     "name": "stdout",
     "output_type": "stream",
     "text": [
      "10\n"
     ]
    }
   ],
   "source": [
    "_123num=10\n",
    "print(_123num)"
   ]
  },
  {
   "cell_type": "code",
   "execution_count": 21,
   "id": "271fb6e1",
   "metadata": {
    "ExecuteTime": {
     "end_time": "2023-10-10T01:08:43.198816Z",
     "start_time": "2023-10-10T01:08:43.188823Z"
    }
   },
   "outputs": [
    {
     "ename": "SyntaxError",
     "evalue": "invalid syntax (Temp/ipykernel_12708/4208525404.py, line 1)",
     "output_type": "error",
     "traceback": [
      "\u001b[1;36m  File \u001b[1;32m\"C:\\Users\\admin\\AppData\\Local\\Temp/ipykernel_12708/4208525404.py\"\u001b[1;36m, line \u001b[1;32m1\u001b[0m\n\u001b[1;33m    if=100\u001b[0m\n\u001b[1;37m      ^\u001b[0m\n\u001b[1;31mSyntaxError\u001b[0m\u001b[1;31m:\u001b[0m invalid syntax\n"
     ]
    }
   ],
   "source": [
    "if=100\n",
    "print(if)"
   ]
  },
  {
   "cell_type": "markdown",
   "id": "38235a32",
   "metadata": {},
   "source": [
    "# Data types"
   ]
  },
  {
   "cell_type": "markdown",
   "id": "37e9ff0a",
   "metadata": {
    "ExecuteTime": {
     "end_time": "2023-10-10T01:14:56.643001Z",
     "start_time": "2023-10-10T01:14:56.625034Z"
    }
   },
   "source": [
    "int              integer\n",
    "\n",
    "float            float\n",
    "\n",
    "str              string\n",
    "\n",
    "bool             boolean\n",
    "\n",
    "complex          complex conjugate"
   ]
  },
  {
   "cell_type": "code",
   "execution_count": 24,
   "id": "184e8533",
   "metadata": {
    "ExecuteTime": {
     "end_time": "2023-10-10T01:15:42.696347Z",
     "start_time": "2023-10-10T01:15:42.683354Z"
    }
   },
   "outputs": [
    {
     "name": "stdout",
     "output_type": "stream",
     "text": [
      "10\n",
      "<class 'int'>\n"
     ]
    }
   ],
   "source": [
    "a=10\n",
    "print(a)\n",
    "print(type(a))"
   ]
  },
  {
   "cell_type": "markdown",
   "id": "89fe62ed",
   "metadata": {},
   "source": [
    "In math different number system will available\n",
    "1. binary\n",
    "2. decimal\n",
    "3. octa\n",
    "4. hexa"
   ]
  },
  {
   "cell_type": "markdown",
   "id": "d73274f5",
   "metadata": {},
   "source": [
    "# binary\n",
    "1. For binary the base is 2\n",
    "2. Base 2 means require 2 digits and those two digits are 0 and 1\n",
    "3. The representation of binary is 0b<combination of 0 and 1>\n",
    "\n",
    "Eg: 0b010101 or 0B010101"
   ]
  },
  {
   "cell_type": "markdown",
   "id": "fb9cc06c",
   "metadata": {},
   "source": [
    "input is binary format\n",
    "\n",
    "output is decimal"
   ]
  },
  {
   "cell_type": "code",
   "execution_count": 25,
   "id": "257541c9",
   "metadata": {
    "ExecuteTime": {
     "end_time": "2023-10-10T01:24:42.910657Z",
     "start_time": "2023-10-10T01:24:42.894643Z"
    }
   },
   "outputs": [
    {
     "data": {
      "text/plain": [
       "7"
      ]
     },
     "execution_count": 25,
     "metadata": {},
     "output_type": "execute_result"
    }
   ],
   "source": [
    "0b111"
   ]
  },
  {
   "cell_type": "code",
   "execution_count": 26,
   "id": "463d084b",
   "metadata": {
    "ExecuteTime": {
     "end_time": "2023-10-10T01:24:53.985683Z",
     "start_time": "2023-10-10T01:24:53.973686Z"
    }
   },
   "outputs": [
    {
     "data": {
      "text/plain": [
       "7"
      ]
     },
     "execution_count": 26,
     "metadata": {},
     "output_type": "execute_result"
    }
   ],
   "source": [
    "0B111"
   ]
  },
  {
   "cell_type": "markdown",
   "id": "3ba283ec",
   "metadata": {},
   "source": [
    "1. If we have three digits(2^2) i.e. 4 2 1 1 (2power2, 2power1, 2power0)\n",
    "2. If we have four digits (2^3) i.e. 8 4 2 1 (2power3, 2power2, 2power1, 2power0)\n",
    "3. If we have five digits (2^4) i.e. 16 8 4 2 1\n",
    "\n",
    "Like that"
   ]
  },
  {
   "cell_type": "markdown",
   "id": "92d9f240",
   "metadata": {},
   "source": [
    "# Octa"
   ]
  },
  {
   "cell_type": "markdown",
   "id": "655609e8",
   "metadata": {},
   "source": [
    "1. for octa the base is 8\n",
    "2. base 8 means 8 digits require those digits are 0  1 2 3 4 5 6 7\n",
    "3. the representation of octa is 0O<combination of 0 and 7> or 0o<combination of 0 and 7>\n",
    "\n",
    "ex: 0o010101 or 0O010101"
   ]
  },
  {
   "cell_type": "markdown",
   "id": "78aa0579",
   "metadata": {},
   "source": [
    "# Hexa\n",
    "1. for octa the base is 16\n",
    "2. base 16 means 16 digits require those digits are 0 1 2 3 4 5 6 7 8 9 A B C D E F G\n",
    "3. the representation of Hexa is 0X<combination of0 1 2 3 4 5 6 7 8 9 A B C D E F G> or 0x<0 1 2 3 4 5 6 7 8 9 A B C D E F G>\n",
    "\n",
    "ex: 0X010101 or 0x010101"
   ]
  },
  {
   "cell_type": "markdown",
   "id": "a0649a7d",
   "metadata": {},
   "source": [
    "# float"
   ]
  },
  {
   "cell_type": "code",
   "execution_count": 28,
   "id": "cd6f760b",
   "metadata": {
    "ExecuteTime": {
     "end_time": "2023-10-10T01:39:06.819020Z",
     "start_time": "2023-10-10T01:39:06.799054Z"
    }
   },
   "outputs": [
    {
     "name": "stdout",
     "output_type": "stream",
     "text": [
      "123.567\n"
     ]
    },
    {
     "data": {
      "text/plain": [
       "float"
      ]
     },
     "execution_count": 28,
     "metadata": {},
     "output_type": "execute_result"
    }
   ],
   "source": [
    "a=123.567\n",
    "print(a)\n",
    "type(a)"
   ]
  },
  {
   "cell_type": "markdown",
   "id": "95465230",
   "metadata": {},
   "source": [
    "2e4 means 2*10000\n",
    "\n",
    "1e2 means 1*100\n",
    "\n",
    "2e-4 means 2/10000\n",
    "\n",
    "2e-2 means 2/100"
   ]
  },
  {
   "cell_type": "code",
   "execution_count": 29,
   "id": "9632488f",
   "metadata": {
    "ExecuteTime": {
     "end_time": "2023-10-10T01:41:39.364268Z",
     "start_time": "2023-10-10T01:41:39.349276Z"
    }
   },
   "outputs": [
    {
     "data": {
      "text/plain": [
       "20000.0"
      ]
     },
     "execution_count": 29,
     "metadata": {},
     "output_type": "execute_result"
    }
   ],
   "source": [
    "2e4"
   ]
  },
  {
   "cell_type": "code",
   "execution_count": 30,
   "id": "d1df3ad8",
   "metadata": {
    "ExecuteTime": {
     "end_time": "2023-10-10T01:41:45.030921Z",
     "start_time": "2023-10-10T01:41:45.022928Z"
    }
   },
   "outputs": [
    {
     "data": {
      "text/plain": [
       "0.0002"
      ]
     },
     "execution_count": 30,
     "metadata": {},
     "output_type": "execute_result"
    }
   ],
   "source": [
    "2e-4"
   ]
  },
  {
   "cell_type": "markdown",
   "id": "cfaed3aa",
   "metadata": {},
   "source": [
    "# boolean"
   ]
  },
  {
   "cell_type": "code",
   "execution_count": 31,
   "id": "10aa0f4d",
   "metadata": {
    "ExecuteTime": {
     "end_time": "2023-10-10T01:42:17.311641Z",
     "start_time": "2023-10-10T01:42:17.296626Z"
    }
   },
   "outputs": [
    {
     "name": "stdout",
     "output_type": "stream",
     "text": [
      "True\n"
     ]
    },
    {
     "data": {
      "text/plain": [
       "bool"
      ]
     },
     "execution_count": 31,
     "metadata": {},
     "output_type": "execute_result"
    }
   ],
   "source": [
    "a=True\n",
    "print(a)\n",
    "type(a)"
   ]
  },
  {
   "cell_type": "markdown",
   "id": "3505b547",
   "metadata": {},
   "source": [
    "# Strings\n",
    "\n",
    "- Strings means characters"
   ]
  },
  {
   "cell_type": "code",
   "execution_count": 32,
   "id": "9000a5f5",
   "metadata": {
    "ExecuteTime": {
     "end_time": "2023-10-10T01:43:56.715808Z",
     "start_time": "2023-10-10T01:43:56.692762Z"
    }
   },
   "outputs": [
    {
     "name": "stdout",
     "output_type": "stream",
     "text": [
      "python\n"
     ]
    },
    {
     "data": {
      "text/plain": [
       "str"
      ]
     },
     "execution_count": 32,
     "metadata": {},
     "output_type": "execute_result"
    }
   ],
   "source": [
    "name='python'\n",
    "print(name)\n",
    "type(name)"
   ]
  },
  {
   "cell_type": "code",
   "execution_count": 33,
   "id": "ae664c38",
   "metadata": {
    "ExecuteTime": {
     "end_time": "2023-10-10T01:44:49.658876Z",
     "start_time": "2023-10-10T01:44:49.648882Z"
    }
   },
   "outputs": [
    {
     "name": "stdout",
     "output_type": "stream",
     "text": [
      "Python\n"
     ]
    },
    {
     "data": {
      "text/plain": [
       "str"
      ]
     },
     "execution_count": 33,
     "metadata": {},
     "output_type": "execute_result"
    }
   ],
   "source": [
    "name2=\"Python\"\n",
    "print(name2)\n",
    "type(name2)"
   ]
  },
  {
   "cell_type": "code",
   "execution_count": 34,
   "id": "80a5f94a",
   "metadata": {
    "ExecuteTime": {
     "end_time": "2023-10-10T01:45:30.884073Z",
     "start_time": "2023-10-10T01:45:30.868100Z"
    }
   },
   "outputs": [
    {
     "name": "stdout",
     "output_type": "stream",
     "text": [
      "hi \n",
      "how are you\n"
     ]
    },
    {
     "data": {
      "text/plain": [
       "str"
      ]
     },
     "execution_count": 34,
     "metadata": {},
     "output_type": "execute_result"
    }
   ],
   "source": [
    "name3='''hi \n",
    "how are you'''\n",
    "print(name3)\n",
    "type(name3)"
   ]
  },
  {
   "cell_type": "code",
   "execution_count": 35,
   "id": "8e20078a",
   "metadata": {
    "ExecuteTime": {
     "end_time": "2023-10-10T01:46:05.957799Z",
     "start_time": "2023-10-10T01:46:05.944784Z"
    }
   },
   "outputs": [
    {
     "ename": "SyntaxError",
     "evalue": "EOL while scanning string literal (Temp/ipykernel_12708/2216300118.py, line 1)",
     "output_type": "error",
     "traceback": [
      "\u001b[1;36m  File \u001b[1;32m\"C:\\Users\\admin\\AppData\\Local\\Temp/ipykernel_12708/2216300118.py\"\u001b[1;36m, line \u001b[1;32m1\u001b[0m\n\u001b[1;33m    name4='hi\u001b[0m\n\u001b[1;37m              ^\u001b[0m\n\u001b[1;31mSyntaxError\u001b[0m\u001b[1;31m:\u001b[0m EOL while scanning string literal\n"
     ]
    }
   ],
   "source": [
    "name4='hi \n",
    "how are you'\n",
    "print(name4)\n",
    "type(name4)"
   ]
  },
  {
   "cell_type": "markdown",
   "id": "d99b3b65",
   "metadata": {},
   "source": [
    "black color always a variable\n",
    "\n",
    "red color always a string"
   ]
  },
  {
   "cell_type": "markdown",
   "id": "b360ec48",
   "metadata": {},
   "source": [
    "# Complex Conjugate\n",
    "1. It represents in the form of a+bj\n",
    "2. a means real number\n",
    "3. b means imaginery number\n",
    "4. j =sqrt(-1)"
   ]
  },
  {
   "cell_type": "code",
   "execution_count": 36,
   "id": "d27466a9",
   "metadata": {
    "ExecuteTime": {
     "end_time": "2023-10-10T01:49:46.964201Z",
     "start_time": "2023-10-10T01:49:46.942189Z"
    }
   },
   "outputs": [
    {
     "data": {
      "text/plain": [
       "0j"
      ]
     },
     "execution_count": 36,
     "metadata": {},
     "output_type": "execute_result"
    }
   ],
   "source": [
    "complex()  #Real=0 and Imaginary=0\n",
    "# Cursor should be inside the braces\n",
    "# Shift+tab for parameters\n",
    "#If we are not providing inside the bracket, default value will apply\n",
    "#0+0j python output is 0j"
   ]
  },
  {
   "cell_type": "code",
   "execution_count": 37,
   "id": "c4ae9193",
   "metadata": {
    "ExecuteTime": {
     "end_time": "2023-10-10T01:50:09.380535Z",
     "start_time": "2023-10-10T01:50:09.359549Z"
    }
   },
   "outputs": [
    {
     "data": {
      "text/plain": [
       "(3+5j)"
      ]
     },
     "execution_count": 37,
     "metadata": {},
     "output_type": "execute_result"
    }
   ],
   "source": [
    "num=3+5j\n",
    "num"
   ]
  },
  {
   "cell_type": "code",
   "execution_count": 38,
   "id": "f24c27fb",
   "metadata": {
    "ExecuteTime": {
     "end_time": "2023-10-10T01:50:16.656218Z",
     "start_time": "2023-10-10T01:50:16.645224Z"
    }
   },
   "outputs": [
    {
     "data": {
      "text/plain": [
       "3.0"
      ]
     },
     "execution_count": 38,
     "metadata": {},
     "output_type": "execute_result"
    }
   ],
   "source": [
    "num.real"
   ]
  },
  {
   "cell_type": "code",
   "execution_count": 40,
   "id": "60c93da8",
   "metadata": {
    "ExecuteTime": {
     "end_time": "2023-10-10T01:50:30.240656Z",
     "start_time": "2023-10-10T01:50:30.219424Z"
    }
   },
   "outputs": [
    {
     "data": {
      "text/plain": [
       "5.0"
      ]
     },
     "execution_count": 40,
     "metadata": {},
     "output_type": "execute_result"
    }
   ],
   "source": [
    "num.imag"
   ]
  },
  {
   "cell_type": "markdown",
   "id": "45f51832",
   "metadata": {},
   "source": [
    "# Datatype Convertions"
   ]
  },
  {
   "cell_type": "markdown",
   "id": "e5a721f7",
   "metadata": {},
   "source": [
    "## Type casting is known as Datatype convertions\n",
    "\n",
    "converting one datatype to another is known as Datatype converton"
   ]
  },
  {
   "cell_type": "markdown",
   "id": "dabc79f5",
   "metadata": {},
   "source": [
    "## int to other datatypes"
   ]
  },
  {
   "cell_type": "code",
   "execution_count": 42,
   "id": "a667a8b2",
   "metadata": {
    "ExecuteTime": {
     "end_time": "2023-10-10T02:30:22.148799Z",
     "start_time": "2023-10-10T02:30:22.130809Z"
    }
   },
   "outputs": [
    {
     "name": "stdout",
     "output_type": "stream",
     "text": [
      "10\n",
      "<class 'int'>\n",
      "10.0\n",
      "<class 'float'>\n"
     ]
    }
   ],
   "source": [
    "#int to float\n",
    "f=10\n",
    "f1=float(f)\n",
    "print(f)\n",
    "print(type(f))\n",
    "print(f1)\n",
    "print(type(f1))"
   ]
  },
  {
   "cell_type": "code",
   "execution_count": 44,
   "id": "f75cb035",
   "metadata": {
    "ExecuteTime": {
     "end_time": "2023-10-10T02:31:13.052461Z",
     "start_time": "2023-10-10T02:31:13.037486Z"
    }
   },
   "outputs": [
    {
     "name": "stdout",
     "output_type": "stream",
     "text": [
      "100 <class 'int'>\n",
      "100 <class 'str'>\n"
     ]
    }
   ],
   "source": [
    "#into to string\n",
    "s=100\n",
    "s1=str(s)\n",
    "print(s,type(s))\n",
    "print(s1,type(s1))"
   ]
  },
  {
   "cell_type": "code",
   "execution_count": 45,
   "id": "c96be3a4",
   "metadata": {
    "ExecuteTime": {
     "end_time": "2023-10-10T02:31:55.401599Z",
     "start_time": "2023-10-10T02:31:55.395623Z"
    }
   },
   "outputs": [
    {
     "name": "stdout",
     "output_type": "stream",
     "text": [
      "100 <class 'int'>\n",
      "True <class 'bool'>\n"
     ]
    }
   ],
   "source": [
    "#int to boolean\n",
    "b=100\n",
    "b1=bool(b)\n",
    "print(b,type(b))\n",
    "print(b1,type(b1))"
   ]
  },
  {
   "cell_type": "code",
   "execution_count": 47,
   "id": "e94f3b34",
   "metadata": {
    "ExecuteTime": {
     "end_time": "2023-10-10T02:32:41.328974Z",
     "start_time": "2023-10-10T02:32:41.322973Z"
    }
   },
   "outputs": [
    {
     "name": "stdout",
     "output_type": "stream",
     "text": [
      "10 <class 'int'>\n",
      "(10+0j) <class 'complex'>\n"
     ]
    }
   ],
   "source": [
    "#int to complex\n",
    "c=10\n",
    "c1=complex(c)\n",
    "print(c,type(c))\n",
    "print(c1,type(c1))"
   ]
  },
  {
   "cell_type": "markdown",
   "id": "971a6826",
   "metadata": {},
   "source": [
    "## float to other datatypes"
   ]
  },
  {
   "cell_type": "code",
   "execution_count": 48,
   "id": "35939c78",
   "metadata": {
    "ExecuteTime": {
     "end_time": "2023-10-10T02:33:56.838313Z",
     "start_time": "2023-10-10T02:33:56.828315Z"
    }
   },
   "outputs": [
    {
     "name": "stdout",
     "output_type": "stream",
     "text": [
      "10.23 <class 'float'>\n",
      "10 <class 'int'>\n"
     ]
    }
   ],
   "source": [
    "#float to int\n",
    "i=10.23\n",
    "i1=int(i)\n",
    "print(i,type(i))\n",
    "print(i1,type(i1))"
   ]
  },
  {
   "cell_type": "code",
   "execution_count": 49,
   "id": "7fa3a7eb",
   "metadata": {
    "ExecuteTime": {
     "end_time": "2023-10-10T02:34:37.331441Z",
     "start_time": "2023-10-10T02:34:37.323446Z"
    }
   },
   "outputs": [
    {
     "name": "stdout",
     "output_type": "stream",
     "text": [
      "10.53 <class 'float'>\n",
      "10.53 <class 'str'>\n"
     ]
    }
   ],
   "source": [
    "#float to String\n",
    "s=10.53\n",
    "s1=str(s)\n",
    "print(s,type(s))\n",
    "print(s1,type(s1))"
   ]
  },
  {
   "cell_type": "code",
   "execution_count": 50,
   "id": "2625e570",
   "metadata": {
    "ExecuteTime": {
     "end_time": "2023-10-10T02:35:18.773081Z",
     "start_time": "2023-10-10T02:35:18.762087Z"
    }
   },
   "outputs": [
    {
     "name": "stdout",
     "output_type": "stream",
     "text": [
      "10.44 <class 'float'>\n",
      "True <class 'bool'>\n"
     ]
    }
   ],
   "source": [
    "#float to bool\n",
    "b=10.44\n",
    "b1=bool(b)\n",
    "print(b,type(b))\n",
    "print(b1,type(b1))"
   ]
  },
  {
   "cell_type": "code",
   "execution_count": 51,
   "id": "33980437",
   "metadata": {
    "ExecuteTime": {
     "end_time": "2023-10-10T02:36:10.656918Z",
     "start_time": "2023-10-10T02:36:10.641922Z"
    }
   },
   "outputs": [
    {
     "name": "stdout",
     "output_type": "stream",
     "text": [
      "100.99 <class 'float'>\n",
      "(100.99+0j) <class 'complex'>\n"
     ]
    }
   ],
   "source": [
    "#float to complex\n",
    "c=100.99\n",
    "c1=complex(c)\n",
    "print(c,type(c))\n",
    "print(c1,type(c1))"
   ]
  },
  {
   "cell_type": "code",
   "execution_count": 52,
   "id": "732edfa8",
   "metadata": {
    "ExecuteTime": {
     "end_time": "2023-10-10T02:36:54.480926Z",
     "start_time": "2023-10-10T02:36:54.461938Z"
    }
   },
   "outputs": [
    {
     "ename": "ValueError",
     "evalue": "invalid literal for int() with base 10: 'abc'",
     "output_type": "error",
     "traceback": [
      "\u001b[1;31m---------------------------------------------------------------------------\u001b[0m",
      "\u001b[1;31mValueError\u001b[0m                                Traceback (most recent call last)",
      "\u001b[1;32m~\\AppData\\Local\\Temp/ipykernel_12708/2059734697.py\u001b[0m in \u001b[0;36m<module>\u001b[1;34m\u001b[0m\n\u001b[0;32m      1\u001b[0m \u001b[1;31m# String to int\u001b[0m\u001b[1;33m\u001b[0m\u001b[1;33m\u001b[0m\u001b[0m\n\u001b[0;32m      2\u001b[0m \u001b[0mi\u001b[0m\u001b[1;33m=\u001b[0m\u001b[1;34m'abc'\u001b[0m\u001b[1;33m\u001b[0m\u001b[1;33m\u001b[0m\u001b[0m\n\u001b[1;32m----> 3\u001b[1;33m \u001b[0mi1\u001b[0m\u001b[1;33m=\u001b[0m\u001b[0mint\u001b[0m\u001b[1;33m(\u001b[0m\u001b[0mi\u001b[0m\u001b[1;33m)\u001b[0m\u001b[1;33m\u001b[0m\u001b[1;33m\u001b[0m\u001b[0m\n\u001b[0m\u001b[0;32m      4\u001b[0m \u001b[0mprint\u001b[0m\u001b[1;33m(\u001b[0m\u001b[0mi\u001b[0m\u001b[1;33m,\u001b[0m\u001b[0mtype\u001b[0m\u001b[1;33m(\u001b[0m\u001b[0mi\u001b[0m\u001b[1;33m)\u001b[0m\u001b[1;33m)\u001b[0m\u001b[1;33m\u001b[0m\u001b[1;33m\u001b[0m\u001b[0m\n\u001b[0;32m      5\u001b[0m \u001b[0mprint\u001b[0m\u001b[1;33m(\u001b[0m\u001b[0mi1\u001b[0m\u001b[1;33m,\u001b[0m\u001b[0mtype\u001b[0m\u001b[1;33m(\u001b[0m\u001b[0mi1\u001b[0m\u001b[1;33m)\u001b[0m\u001b[1;33m)\u001b[0m\u001b[1;33m\u001b[0m\u001b[1;33m\u001b[0m\u001b[0m\n",
      "\u001b[1;31mValueError\u001b[0m: invalid literal for int() with base 10: 'abc'"
     ]
    }
   ],
   "source": [
    "# String to int\n",
    "i='abc'\n",
    "i1=int(i)\n",
    "print(i,type(i))\n",
    "print(i1,type(i1))\n",
    "# English to math is not possible"
   ]
  },
  {
   "cell_type": "code",
   "execution_count": 53,
   "id": "0ec996b0",
   "metadata": {
    "ExecuteTime": {
     "end_time": "2023-10-10T02:38:22.575127Z",
     "start_time": "2023-10-10T02:38:22.555135Z"
    }
   },
   "outputs": [
    {
     "ename": "ValueError",
     "evalue": "could not convert string to float: 'aba'",
     "output_type": "error",
     "traceback": [
      "\u001b[1;31m---------------------------------------------------------------------------\u001b[0m",
      "\u001b[1;31mValueError\u001b[0m                                Traceback (most recent call last)",
      "\u001b[1;32m~\\AppData\\Local\\Temp/ipykernel_12708/663687840.py\u001b[0m in \u001b[0;36m<module>\u001b[1;34m\u001b[0m\n\u001b[0;32m      1\u001b[0m \u001b[1;31m# String to float\u001b[0m\u001b[1;33m\u001b[0m\u001b[1;33m\u001b[0m\u001b[0m\n\u001b[0;32m      2\u001b[0m \u001b[0mf\u001b[0m\u001b[1;33m=\u001b[0m\u001b[1;34m'aba'\u001b[0m\u001b[1;33m\u001b[0m\u001b[1;33m\u001b[0m\u001b[0m\n\u001b[1;32m----> 3\u001b[1;33m \u001b[0mf1\u001b[0m\u001b[1;33m=\u001b[0m\u001b[0mfloat\u001b[0m\u001b[1;33m(\u001b[0m\u001b[0mf\u001b[0m\u001b[1;33m)\u001b[0m\u001b[1;33m\u001b[0m\u001b[1;33m\u001b[0m\u001b[0m\n\u001b[0m\u001b[0;32m      4\u001b[0m \u001b[0mprint\u001b[0m\u001b[1;33m(\u001b[0m\u001b[0mf\u001b[0m\u001b[1;33m,\u001b[0m\u001b[0mtype\u001b[0m\u001b[1;33m(\u001b[0m\u001b[0mf\u001b[0m\u001b[1;33m)\u001b[0m\u001b[1;33m)\u001b[0m\u001b[1;33m\u001b[0m\u001b[1;33m\u001b[0m\u001b[0m\n\u001b[0;32m      5\u001b[0m \u001b[0mprint\u001b[0m\u001b[1;33m(\u001b[0m\u001b[0mf1\u001b[0m\u001b[1;33m,\u001b[0m\u001b[0mtype\u001b[0m\u001b[1;33m(\u001b[0m\u001b[0mf1\u001b[0m\u001b[1;33m)\u001b[0m\u001b[1;33m)\u001b[0m\u001b[1;33m\u001b[0m\u001b[1;33m\u001b[0m\u001b[0m\n",
      "\u001b[1;31mValueError\u001b[0m: could not convert string to float: 'aba'"
     ]
    }
   ],
   "source": [
    "# String to float\n",
    "f='aba'\n",
    "f1=float(f)\n",
    "print(f,type(f))\n",
    "print(f1,type(f1))\n",
    "#English to math is not possible"
   ]
  },
  {
   "cell_type": "code",
   "execution_count": 54,
   "id": "3355c52b",
   "metadata": {
    "ExecuteTime": {
     "end_time": "2023-10-10T02:39:29.984784Z",
     "start_time": "2023-10-10T02:39:29.974789Z"
    }
   },
   "outputs": [
    {
     "name": "stdout",
     "output_type": "stream",
     "text": [
      "abc <class 'str'>\n",
      "True <class 'bool'>\n"
     ]
    }
   ],
   "source": [
    "# String to boolean\n",
    "b='abc'\n",
    "b1=bool(a)\n",
    "print(b,type(b))\n",
    "print(b1,type(b1))"
   ]
  },
  {
   "cell_type": "code",
   "execution_count": 55,
   "id": "66a60d1d",
   "metadata": {
    "ExecuteTime": {
     "end_time": "2023-10-10T02:40:19.101878Z",
     "start_time": "2023-10-10T02:40:19.079868Z"
    }
   },
   "outputs": [
    {
     "ename": "ValueError",
     "evalue": "complex() arg is a malformed string",
     "output_type": "error",
     "traceback": [
      "\u001b[1;31m---------------------------------------------------------------------------\u001b[0m",
      "\u001b[1;31mValueError\u001b[0m                                Traceback (most recent call last)",
      "\u001b[1;32m~\\AppData\\Local\\Temp/ipykernel_12708/1781278949.py\u001b[0m in \u001b[0;36m<module>\u001b[1;34m\u001b[0m\n\u001b[0;32m      1\u001b[0m \u001b[1;31m# String to Complex\u001b[0m\u001b[1;33m\u001b[0m\u001b[1;33m\u001b[0m\u001b[0m\n\u001b[0;32m      2\u001b[0m \u001b[0mc\u001b[0m\u001b[1;33m=\u001b[0m\u001b[1;34m'xyz'\u001b[0m\u001b[1;33m\u001b[0m\u001b[1;33m\u001b[0m\u001b[0m\n\u001b[1;32m----> 3\u001b[1;33m \u001b[0mc1\u001b[0m\u001b[1;33m=\u001b[0m\u001b[0mcomplex\u001b[0m\u001b[1;33m(\u001b[0m\u001b[0mc\u001b[0m\u001b[1;33m)\u001b[0m\u001b[1;33m\u001b[0m\u001b[1;33m\u001b[0m\u001b[0m\n\u001b[0m\u001b[0;32m      4\u001b[0m \u001b[0mprint\u001b[0m\u001b[1;33m(\u001b[0m\u001b[0mc\u001b[0m\u001b[1;33m,\u001b[0m\u001b[0mtype\u001b[0m\u001b[1;33m(\u001b[0m\u001b[0mc\u001b[0m\u001b[1;33m)\u001b[0m\u001b[1;33m)\u001b[0m\u001b[1;33m\u001b[0m\u001b[1;33m\u001b[0m\u001b[0m\n\u001b[0;32m      5\u001b[0m \u001b[0mprint\u001b[0m\u001b[1;33m(\u001b[0m\u001b[0mc1\u001b[0m\u001b[1;33m,\u001b[0m\u001b[0mtype\u001b[0m\u001b[1;33m(\u001b[0m\u001b[0mc1\u001b[0m\u001b[1;33m)\u001b[0m\u001b[1;33m)\u001b[0m\u001b[1;33m\u001b[0m\u001b[1;33m\u001b[0m\u001b[0m\n",
      "\u001b[1;31mValueError\u001b[0m: complex() arg is a malformed string"
     ]
    }
   ],
   "source": [
    "# String to Complex \n",
    "c='xyz'\n",
    "c1=complex(c)\n",
    "print(c,type(c))\n",
    "print(c1,type(c1))"
   ]
  },
  {
   "cell_type": "code",
   "execution_count": 56,
   "id": "cf0946ff",
   "metadata": {
    "ExecuteTime": {
     "end_time": "2023-10-10T02:41:01.300839Z",
     "start_time": "2023-10-10T02:41:01.285825Z"
    }
   },
   "outputs": [
    {
     "name": "stdout",
     "output_type": "stream",
     "text": [
      "10 <class 'str'>\n",
      "10 <class 'int'>\n"
     ]
    }
   ],
   "source": [
    "# String to int\n",
    "i='10'\n",
    "i1=int(i)\n",
    "print(i,type(i))\n",
    "print(i1,type(i1))"
   ]
  },
  {
   "cell_type": "code",
   "execution_count": 57,
   "id": "17ec23a0",
   "metadata": {
    "ExecuteTime": {
     "end_time": "2023-10-10T02:42:25.173143Z",
     "start_time": "2023-10-10T02:42:25.157128Z"
    }
   },
   "outputs": [
    {
     "name": "stdout",
     "output_type": "stream",
     "text": [
      "10.33 <class 'str'>\n",
      "10.33 <class 'float'>\n"
     ]
    }
   ],
   "source": [
    "# String to float\n",
    "f='10.33'\n",
    "f1=float(f)\n",
    "print(f,type(f))\n",
    "print(f1,type(f1))"
   ]
  },
  {
   "cell_type": "code",
   "execution_count": 58,
   "id": "6f1dfac0",
   "metadata": {
    "ExecuteTime": {
     "end_time": "2023-10-10T02:43:11.252564Z",
     "start_time": "2023-10-10T02:43:11.241573Z"
    }
   },
   "outputs": [
    {
     "name": "stdout",
     "output_type": "stream",
     "text": [
      "12.49 <class 'str'>\n",
      "True <class 'bool'>\n"
     ]
    }
   ],
   "source": [
    "# String to bool\n",
    "b='12.49'\n",
    "b1=bool(b)\n",
    "print(b,type(b))\n",
    "print(b1,type(b1))"
   ]
  },
  {
   "cell_type": "code",
   "execution_count": 59,
   "id": "8becae03",
   "metadata": {
    "ExecuteTime": {
     "end_time": "2023-10-10T02:43:56.390469Z",
     "start_time": "2023-10-10T02:43:56.383471Z"
    }
   },
   "outputs": [
    {
     "name": "stdout",
     "output_type": "stream",
     "text": [
      "123 <class 'str'>\n",
      "(123+0j) <class 'complex'>\n"
     ]
    }
   ],
   "source": [
    "# String to Complex\n",
    "c='123'\n",
    "c1=complex(c)\n",
    "print(c,type(c))\n",
    "print(c1,type(c1))"
   ]
  },
  {
   "cell_type": "code",
   "execution_count": 60,
   "id": "c60dc355",
   "metadata": {
    "ExecuteTime": {
     "end_time": "2023-10-10T02:46:11.759554Z",
     "start_time": "2023-10-10T02:46:11.732567Z"
    }
   },
   "outputs": [
    {
     "ename": "TypeError",
     "evalue": "can't convert complex to int",
     "output_type": "error",
     "traceback": [
      "\u001b[1;31m---------------------------------------------------------------------------\u001b[0m",
      "\u001b[1;31mTypeError\u001b[0m                                 Traceback (most recent call last)",
      "\u001b[1;32m~\\AppData\\Local\\Temp/ipykernel_12708/3259917464.py\u001b[0m in \u001b[0;36m<module>\u001b[1;34m\u001b[0m\n\u001b[0;32m      1\u001b[0m \u001b[1;31m# String to int\u001b[0m\u001b[1;33m\u001b[0m\u001b[1;33m\u001b[0m\u001b[0m\n\u001b[0;32m      2\u001b[0m \u001b[0mi\u001b[0m\u001b[1;33m=\u001b[0m\u001b[1;36m12\u001b[0m\u001b[1;33m+\u001b[0m\u001b[1;36m49j\u001b[0m\u001b[1;33m\u001b[0m\u001b[1;33m\u001b[0m\u001b[0m\n\u001b[1;32m----> 3\u001b[1;33m \u001b[0mi1\u001b[0m\u001b[1;33m=\u001b[0m\u001b[0mint\u001b[0m\u001b[1;33m(\u001b[0m\u001b[0mi\u001b[0m\u001b[1;33m)\u001b[0m\u001b[1;33m\u001b[0m\u001b[1;33m\u001b[0m\u001b[0m\n\u001b[0m\u001b[0;32m      4\u001b[0m \u001b[0mprint\u001b[0m\u001b[1;33m(\u001b[0m\u001b[0mi\u001b[0m\u001b[1;33m,\u001b[0m\u001b[0mtype\u001b[0m\u001b[1;33m(\u001b[0m\u001b[0mi\u001b[0m\u001b[1;33m)\u001b[0m\u001b[1;33m)\u001b[0m\u001b[1;33m\u001b[0m\u001b[1;33m\u001b[0m\u001b[0m\n\u001b[0;32m      5\u001b[0m \u001b[0mprint\u001b[0m\u001b[1;33m(\u001b[0m\u001b[0mi1\u001b[0m\u001b[1;33m,\u001b[0m\u001b[0mtype\u001b[0m\u001b[1;33m(\u001b[0m\u001b[0mi1\u001b[0m\u001b[1;33m)\u001b[0m\u001b[1;33m)\u001b[0m\u001b[1;33m\u001b[0m\u001b[1;33m\u001b[0m\u001b[0m\n",
      "\u001b[1;31mTypeError\u001b[0m: can't convert complex to int"
     ]
    }
   ],
   "source": [
    "# String to int\n",
    "i=12+49j\n",
    "i1=int(i)\n",
    "print(i,type(i))\n",
    "print(i1,type(i1))"
   ]
  },
  {
   "cell_type": "code",
   "execution_count": 61,
   "id": "926ffd09",
   "metadata": {
    "ExecuteTime": {
     "end_time": "2023-10-10T02:46:50.817732Z",
     "start_time": "2023-10-10T02:46:50.796753Z"
    }
   },
   "outputs": [
    {
     "ename": "TypeError",
     "evalue": "can't convert complex to float",
     "output_type": "error",
     "traceback": [
      "\u001b[1;31m---------------------------------------------------------------------------\u001b[0m",
      "\u001b[1;31mTypeError\u001b[0m                                 Traceback (most recent call last)",
      "\u001b[1;32m~\\AppData\\Local\\Temp/ipykernel_12708/1961219103.py\u001b[0m in \u001b[0;36m<module>\u001b[1;34m\u001b[0m\n\u001b[0;32m      1\u001b[0m \u001b[1;31m# String to float\u001b[0m\u001b[1;33m\u001b[0m\u001b[1;33m\u001b[0m\u001b[0m\n\u001b[0;32m      2\u001b[0m \u001b[0mf\u001b[0m\u001b[1;33m=\u001b[0m\u001b[1;36m12\u001b[0m\u001b[1;33m+\u001b[0m\u001b[1;36m49j\u001b[0m\u001b[1;33m\u001b[0m\u001b[1;33m\u001b[0m\u001b[0m\n\u001b[1;32m----> 3\u001b[1;33m \u001b[0mf1\u001b[0m\u001b[1;33m=\u001b[0m\u001b[0mfloat\u001b[0m\u001b[1;33m(\u001b[0m\u001b[0mf\u001b[0m\u001b[1;33m)\u001b[0m\u001b[1;33m\u001b[0m\u001b[1;33m\u001b[0m\u001b[0m\n\u001b[0m\u001b[0;32m      4\u001b[0m \u001b[0mprint\u001b[0m\u001b[1;33m(\u001b[0m\u001b[0mf\u001b[0m\u001b[1;33m,\u001b[0m\u001b[0mtype\u001b[0m\u001b[1;33m(\u001b[0m\u001b[0mf\u001b[0m\u001b[1;33m)\u001b[0m\u001b[1;33m)\u001b[0m\u001b[1;33m\u001b[0m\u001b[1;33m\u001b[0m\u001b[0m\n\u001b[0;32m      5\u001b[0m \u001b[0mprint\u001b[0m\u001b[1;33m(\u001b[0m\u001b[0mf1\u001b[0m\u001b[1;33m,\u001b[0m\u001b[0mtype\u001b[0m\u001b[1;33m(\u001b[0m\u001b[0mf1\u001b[0m\u001b[1;33m)\u001b[0m\u001b[1;33m)\u001b[0m\u001b[1;33m\u001b[0m\u001b[1;33m\u001b[0m\u001b[0m\n",
      "\u001b[1;31mTypeError\u001b[0m: can't convert complex to float"
     ]
    }
   ],
   "source": [
    "# String to float\n",
    "f=12+49j\n",
    "f1=float(f)\n",
    "print(f,type(f))\n",
    "print(f1,type(f1))"
   ]
  },
  {
   "cell_type": "code",
   "execution_count": 62,
   "id": "2c7af390",
   "metadata": {
    "ExecuteTime": {
     "end_time": "2023-10-10T02:47:38.554306Z",
     "start_time": "2023-10-10T02:47:38.536293Z"
    }
   },
   "outputs": [
    {
     "name": "stdout",
     "output_type": "stream",
     "text": [
      "(12+49j) <class 'complex'>\n",
      "True <class 'bool'>\n"
     ]
    }
   ],
   "source": [
    "# String to bool\n",
    "b=12+49j\n",
    "b1=bool(b)\n",
    "print(b,type(b))\n",
    "print(b1,type(b1))"
   ]
  },
  {
   "cell_type": "code",
   "execution_count": 63,
   "id": "781b1808",
   "metadata": {
    "ExecuteTime": {
     "end_time": "2023-10-10T02:48:20.749277Z",
     "start_time": "2023-10-10T02:48:20.732264Z"
    }
   },
   "outputs": [
    {
     "name": "stdout",
     "output_type": "stream",
     "text": [
      "12+49j <class 'str'>\n",
      "(12+49j) <class 'complex'>\n"
     ]
    }
   ],
   "source": [
    "# String to complex\n",
    "c='12+49j'\n",
    "c1=complex(c)\n",
    "print(c,type(c))\n",
    "print(c1,type(c1))"
   ]
  },
  {
   "cell_type": "markdown",
   "id": "89130e1d",
   "metadata": {},
   "source": [
    "## Complex to Other Datatypes"
   ]
  },
  {
   "cell_type": "code",
   "execution_count": 64,
   "id": "0787bcb0",
   "metadata": {
    "ExecuteTime": {
     "end_time": "2023-10-10T02:49:34.139608Z",
     "start_time": "2023-10-10T02:49:34.113642Z"
    }
   },
   "outputs": [
    {
     "ename": "TypeError",
     "evalue": "can't convert complex to int",
     "output_type": "error",
     "traceback": [
      "\u001b[1;31m---------------------------------------------------------------------------\u001b[0m",
      "\u001b[1;31mTypeError\u001b[0m                                 Traceback (most recent call last)",
      "\u001b[1;32m~\\AppData\\Local\\Temp/ipykernel_12708/3971879107.py\u001b[0m in \u001b[0;36m<module>\u001b[1;34m\u001b[0m\n\u001b[0;32m      1\u001b[0m \u001b[1;31m# Complex to int\u001b[0m\u001b[1;33m\u001b[0m\u001b[1;33m\u001b[0m\u001b[0m\n\u001b[0;32m      2\u001b[0m \u001b[0mi\u001b[0m\u001b[1;33m=\u001b[0m\u001b[1;36m10\u001b[0m\u001b[1;33m+\u001b[0m\u001b[1;36m20j\u001b[0m\u001b[1;33m\u001b[0m\u001b[1;33m\u001b[0m\u001b[0m\n\u001b[1;32m----> 3\u001b[1;33m \u001b[0mi1\u001b[0m\u001b[1;33m=\u001b[0m\u001b[0mint\u001b[0m\u001b[1;33m(\u001b[0m\u001b[0mi\u001b[0m\u001b[1;33m)\u001b[0m\u001b[1;33m\u001b[0m\u001b[1;33m\u001b[0m\u001b[0m\n\u001b[0m\u001b[0;32m      4\u001b[0m \u001b[0mprint\u001b[0m\u001b[1;33m(\u001b[0m\u001b[0mi\u001b[0m\u001b[1;33m,\u001b[0m\u001b[0mtype\u001b[0m\u001b[1;33m(\u001b[0m\u001b[0mi\u001b[0m\u001b[1;33m)\u001b[0m\u001b[1;33m)\u001b[0m\u001b[1;33m\u001b[0m\u001b[1;33m\u001b[0m\u001b[0m\n\u001b[0;32m      5\u001b[0m \u001b[0mprint\u001b[0m\u001b[1;33m(\u001b[0m\u001b[0mi1\u001b[0m\u001b[1;33m,\u001b[0m\u001b[0mtype\u001b[0m\u001b[1;33m(\u001b[0m\u001b[0mi1\u001b[0m\u001b[1;33m)\u001b[0m\u001b[1;33m)\u001b[0m\u001b[1;33m\u001b[0m\u001b[1;33m\u001b[0m\u001b[0m\n",
      "\u001b[1;31mTypeError\u001b[0m: can't convert complex to int"
     ]
    }
   ],
   "source": [
    "# Complex to int\n",
    "i=10+20j\n",
    "i1=int(i)\n",
    "print(i,type(i))\n",
    "print(i1,type(i1))"
   ]
  },
  {
   "cell_type": "code",
   "execution_count": 65,
   "id": "1e45691d",
   "metadata": {
    "ExecuteTime": {
     "end_time": "2023-10-10T02:50:20.641114Z",
     "start_time": "2023-10-10T02:50:20.619126Z"
    }
   },
   "outputs": [
    {
     "ename": "TypeError",
     "evalue": "can't convert complex to float",
     "output_type": "error",
     "traceback": [
      "\u001b[1;31m---------------------------------------------------------------------------\u001b[0m",
      "\u001b[1;31mTypeError\u001b[0m                                 Traceback (most recent call last)",
      "\u001b[1;32m~\\AppData\\Local\\Temp/ipykernel_12708/2229566514.py\u001b[0m in \u001b[0;36m<module>\u001b[1;34m\u001b[0m\n\u001b[0;32m      1\u001b[0m \u001b[1;31m#Complex to float\u001b[0m\u001b[1;33m\u001b[0m\u001b[1;33m\u001b[0m\u001b[0m\n\u001b[0;32m      2\u001b[0m \u001b[0mf\u001b[0m\u001b[1;33m=\u001b[0m\u001b[1;36m12\u001b[0m\u001b[1;33m+\u001b[0m\u001b[1;36m49j\u001b[0m\u001b[1;33m\u001b[0m\u001b[1;33m\u001b[0m\u001b[0m\n\u001b[1;32m----> 3\u001b[1;33m \u001b[0mf1\u001b[0m\u001b[1;33m=\u001b[0m\u001b[0mfloat\u001b[0m\u001b[1;33m(\u001b[0m\u001b[0mf\u001b[0m\u001b[1;33m)\u001b[0m\u001b[1;33m\u001b[0m\u001b[1;33m\u001b[0m\u001b[0m\n\u001b[0m\u001b[0;32m      4\u001b[0m \u001b[0mprint\u001b[0m\u001b[1;33m(\u001b[0m\u001b[0mf\u001b[0m\u001b[1;33m,\u001b[0m\u001b[0mtype\u001b[0m\u001b[1;33m(\u001b[0m\u001b[0mf\u001b[0m\u001b[1;33m)\u001b[0m\u001b[1;33m)\u001b[0m\u001b[1;33m\u001b[0m\u001b[1;33m\u001b[0m\u001b[0m\n\u001b[0;32m      5\u001b[0m \u001b[0mprint\u001b[0m\u001b[1;33m(\u001b[0m\u001b[0mf1\u001b[0m\u001b[1;33m,\u001b[0m\u001b[0mtype\u001b[0m\u001b[1;33m(\u001b[0m\u001b[0mf1\u001b[0m\u001b[1;33m)\u001b[0m\u001b[1;33m)\u001b[0m\u001b[1;33m\u001b[0m\u001b[1;33m\u001b[0m\u001b[0m\n",
      "\u001b[1;31mTypeError\u001b[0m: can't convert complex to float"
     ]
    }
   ],
   "source": [
    "#Complex to float \n",
    "f=12+49j\n",
    "f1=float(f)\n",
    "print(f,type(f))\n",
    "print(f1,type(f1))"
   ]
  },
  {
   "cell_type": "code",
   "execution_count": 66,
   "id": "9c977b54",
   "metadata": {
    "ExecuteTime": {
     "end_time": "2023-10-10T02:51:05.291853Z",
     "start_time": "2023-10-10T02:51:05.277882Z"
    }
   },
   "outputs": [
    {
     "name": "stdout",
     "output_type": "stream",
     "text": [
      "(12+49j) <class 'complex'>\n",
      "(12+49j) <class 'str'>\n"
     ]
    }
   ],
   "source": [
    "# Complex to String\n",
    "s=12+49j\n",
    "s1=str(s)\n",
    "print(s,type(s))\n",
    "print(s1,type(s1))"
   ]
  },
  {
   "cell_type": "code",
   "execution_count": 67,
   "id": "31ccbc5a",
   "metadata": {
    "ExecuteTime": {
     "end_time": "2023-10-10T02:51:42.170192Z",
     "start_time": "2023-10-10T02:51:42.155200Z"
    }
   },
   "outputs": [
    {
     "name": "stdout",
     "output_type": "stream",
     "text": [
      "(12+49j) <class 'complex'>\n",
      "True <class 'bool'>\n"
     ]
    }
   ],
   "source": [
    "# Complex to bool\n",
    "b=12+49j\n",
    "b1=bool(b)\n",
    "print(b,type(b))\n",
    "print(b1,type(b1))"
   ]
  },
  {
   "cell_type": "markdown",
   "id": "ffcd5646",
   "metadata": {},
   "source": [
    "### Other than Zero everything is true under the bool operation"
   ]
  }
 ],
 "metadata": {
  "kernelspec": {
   "display_name": "Python 3 (ipykernel)",
   "language": "python",
   "name": "python3"
  },
  "language_info": {
   "codemirror_mode": {
    "name": "ipython",
    "version": 3
   },
   "file_extension": ".py",
   "mimetype": "text/x-python",
   "name": "python",
   "nbconvert_exporter": "python",
   "pygments_lexer": "ipython3",
   "version": "3.9.7"
  }
 },
 "nbformat": 4,
 "nbformat_minor": 5
}
