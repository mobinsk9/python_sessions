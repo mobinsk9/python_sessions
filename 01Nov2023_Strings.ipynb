{
 "cells": [
  {
   "cell_type": "code",
   "execution_count": 9,
   "id": "3fa1d039",
   "metadata": {
    "ExecuteTime": {
     "end_time": "2023-11-01T14:31:32.001655Z",
     "start_time": "2023-11-01T14:31:18.831792Z"
    }
   },
   "outputs": [
    {
     "name": "stdout",
     "output_type": "stream",
     "text": [
      "Enter number of chances!!!5\n",
      "Enter the password:aaa\n",
      "You are out!!!\n",
      "4 chances are available, please enter the password!!!\n",
      "Enter the password:bbb\n",
      "You are out!!!\n",
      "3 chances are available, please enter the password!!!\n",
      "Enter the password:cccc\n",
      "You are out!!!\n",
      "2 chances are available, please enter the password!!!\n",
      "Enter the password:dddd\n",
      "You are out!!!\n",
      "1 chances are available, please enter the password!!!\n",
      "Enter the password:ffff\n",
      "Chances are over!!!\n"
     ]
    }
   ],
   "source": [
    "i=0\n",
    "chance=eval(input(\"Enter number of chances!!!\"))\n",
    "while i<chance:\n",
    "    p=input(\"Enter the password:\")\n",
    "    if p=='python':\n",
    "        print('You are in!!!')\n",
    "        break\n",
    "    elif chance-i-1==0:\n",
    "            print(\"Chances are over!!!\")\n",
    "    else:\n",
    "        print('You are out!!!')\n",
    "        print('{} chances are available, please enter the password!!!'.format(chance-i-1))\n",
    "    i+=1"
   ]
  },
  {
   "cell_type": "code",
   "execution_count": 17,
   "id": "1be67643",
   "metadata": {
    "ExecuteTime": {
     "end_time": "2023-11-01T14:51:58.792239Z",
     "start_time": "2023-11-01T14:51:56.673854Z"
    }
   },
   "outputs": [
    {
     "name": "stdout",
     "output_type": "stream",
     "text": [
      "Enter value between 1 to 105\n",
      "The password is wrong\n",
      "The password is wrong\n",
      "The password is wrong\n",
      "The password is wrong\n",
      "The password is wrong\n",
      "The password is wrong\n",
      "The password is wrong\n",
      "The password is wrong\n",
      "The password is wrong\n",
      "The password is wrong\n",
      "Numbers are matched\n",
      "Time taken to execute the code is: 0.0009963512420654297\n",
      "Number of chances are: 10\n"
     ]
    }
   ],
   "source": [
    "import random\n",
    "import time\n",
    "chance=0\n",
    "un=eval(input(\"Enter value between 1 to 10\"))\n",
    "i=0\n",
    "start=time.time()\n",
    "while True:\n",
    "    n=random.randint(1,10)\n",
    "    if n==un:\n",
    "        print(\"Numbers are matched\")\n",
    "        break\n",
    "    else:\n",
    "        print(\"The password is wrong\")\n",
    "    chance+=1\n",
    "end=time.time()\n",
    "print(\"Time taken to execute the code is:\" ,end-start)\n",
    "print(\"Number of chances are:\",chance)"
   ]
  },
  {
   "cell_type": "code",
   "execution_count": 35,
   "id": "10a0f05a",
   "metadata": {
    "ExecuteTime": {
     "end_time": "2023-11-01T15:34:31.679844Z",
     "start_time": "2023-11-01T15:33:46.255112Z"
    }
   },
   "outputs": [
    {
     "name": "stdout",
     "output_type": "stream",
     "text": [
      "Display the current balance:100\n",
      "Display the e-wallet balance200\n",
      "You don't have sufficient balance to play the game, please withdraw money from e-wallet!!!\n",
      "Not having sufficient balance in wallet, please add money to wallet!!!\n",
      "Enter amount to add money to e-wallet!!!100\n",
      "Enter the withdraw amount from e-wallet to play the game:100\n",
      "You don't have sufficient balance to play the game, please withdraw money from e-wallet!!!\n",
      "Not having sufficient balance in wallet, please add money to wallet!!!\n",
      "Enter amount to add money to e-wallet!!!200\n",
      "Enter the withdraw amount from e-wallet to play the game:100\n",
      "You don't have sufficient balance to play the game, please withdraw money from e-wallet!!!\n",
      "Not having sufficient balance in wallet, please add money to wallet!!!\n",
      "Enter amount to add money to e-wallet!!!100\n",
      "Enter the withdraw amount from e-wallet to play the game:100\n",
      "You don't have sufficient balance to play the game, please withdraw money from e-wallet!!!\n",
      "Not having sufficient balance in wallet, please add money to wallet!!!\n",
      "Enter amount to add money to e-wallet!!!100\n",
      "Enter the withdraw amount from e-wallet to play the game:100\n",
      "You don't have sufficient balance to play the game, please withdraw money from e-wallet!!!\n",
      "Not having sufficient balance in wallet, please add money to wallet!!!\n"
     ]
    },
    {
     "ename": "KeyboardInterrupt",
     "evalue": "Interrupted by user",
     "output_type": "error",
     "traceback": [
      "\u001b[1;31m---------------------------------------------------------------------------\u001b[0m",
      "\u001b[1;31mKeyboardInterrupt\u001b[0m                         Traceback (most recent call last)",
      "\u001b[1;32m~\\AppData\\Local\\Temp/ipykernel_15048/1469451848.py\u001b[0m in \u001b[0;36m<module>\u001b[1;34m\u001b[0m\n\u001b[0;32m     12\u001b[0m             \u001b[1;32mif\u001b[0m \u001b[0mwallet_balance\u001b[0m\u001b[1;33m>=\u001b[0m\u001b[0mwithdraw_amount\u001b[0m\u001b[1;33m:\u001b[0m\u001b[1;33m\u001b[0m\u001b[1;33m\u001b[0m\u001b[0m\n\u001b[0;32m     13\u001b[0m                 \u001b[0mprint\u001b[0m\u001b[1;33m(\u001b[0m\u001b[1;34m\"Not having sufficient balance in wallet, please add money to wallet!!!\"\u001b[0m\u001b[1;33m)\u001b[0m\u001b[1;33m\u001b[0m\u001b[1;33m\u001b[0m\u001b[0m\n\u001b[1;32m---> 14\u001b[1;33m                 \u001b[0mwallet_amount\u001b[0m\u001b[1;33m=\u001b[0m\u001b[0meval\u001b[0m\u001b[1;33m(\u001b[0m\u001b[0minput\u001b[0m\u001b[1;33m(\u001b[0m\u001b[1;34m\"Enter amount to add money to e-wallet!!!\"\u001b[0m\u001b[1;33m)\u001b[0m\u001b[1;33m)\u001b[0m\u001b[1;33m\u001b[0m\u001b[1;33m\u001b[0m\u001b[0m\n\u001b[0m\u001b[0;32m     15\u001b[0m                 \u001b[0mwallet_balance\u001b[0m\u001b[1;33m+=\u001b[0m\u001b[0mwallet_amount\u001b[0m\u001b[1;33m\u001b[0m\u001b[1;33m\u001b[0m\u001b[0m\n\u001b[0;32m     16\u001b[0m                 \u001b[1;32mbreak\u001b[0m\u001b[1;33m\u001b[0m\u001b[1;33m\u001b[0m\u001b[0m\n",
      "\u001b[1;32m~\\anaconda3\\lib\\site-packages\\ipykernel\\kernelbase.py\u001b[0m in \u001b[0;36mraw_input\u001b[1;34m(self, prompt)\u001b[0m\n\u001b[0;32m   1004\u001b[0m                 \u001b[1;34m\"raw_input was called, but this frontend does not support input requests.\"\u001b[0m\u001b[1;33m\u001b[0m\u001b[1;33m\u001b[0m\u001b[0m\n\u001b[0;32m   1005\u001b[0m             )\n\u001b[1;32m-> 1006\u001b[1;33m         return self._input_request(\n\u001b[0m\u001b[0;32m   1007\u001b[0m             \u001b[0mstr\u001b[0m\u001b[1;33m(\u001b[0m\u001b[0mprompt\u001b[0m\u001b[1;33m)\u001b[0m\u001b[1;33m,\u001b[0m\u001b[1;33m\u001b[0m\u001b[1;33m\u001b[0m\u001b[0m\n\u001b[0;32m   1008\u001b[0m             \u001b[0mself\u001b[0m\u001b[1;33m.\u001b[0m\u001b[0m_parent_ident\u001b[0m\u001b[1;33m[\u001b[0m\u001b[1;34m\"shell\"\u001b[0m\u001b[1;33m]\u001b[0m\u001b[1;33m,\u001b[0m\u001b[1;33m\u001b[0m\u001b[1;33m\u001b[0m\u001b[0m\n",
      "\u001b[1;32m~\\anaconda3\\lib\\site-packages\\ipykernel\\kernelbase.py\u001b[0m in \u001b[0;36m_input_request\u001b[1;34m(self, prompt, ident, parent, password)\u001b[0m\n\u001b[0;32m   1049\u001b[0m             \u001b[1;32mexcept\u001b[0m \u001b[0mKeyboardInterrupt\u001b[0m\u001b[1;33m:\u001b[0m\u001b[1;33m\u001b[0m\u001b[1;33m\u001b[0m\u001b[0m\n\u001b[0;32m   1050\u001b[0m                 \u001b[1;31m# re-raise KeyboardInterrupt, to truncate traceback\u001b[0m\u001b[1;33m\u001b[0m\u001b[1;33m\u001b[0m\u001b[0m\n\u001b[1;32m-> 1051\u001b[1;33m                 \u001b[1;32mraise\u001b[0m \u001b[0mKeyboardInterrupt\u001b[0m\u001b[1;33m(\u001b[0m\u001b[1;34m\"Interrupted by user\"\u001b[0m\u001b[1;33m)\u001b[0m \u001b[1;32mfrom\u001b[0m \u001b[1;32mNone\u001b[0m\u001b[1;33m\u001b[0m\u001b[1;33m\u001b[0m\u001b[0m\n\u001b[0m\u001b[0;32m   1052\u001b[0m             \u001b[1;32mexcept\u001b[0m \u001b[0mException\u001b[0m\u001b[1;33m:\u001b[0m\u001b[1;33m\u001b[0m\u001b[1;33m\u001b[0m\u001b[0m\n\u001b[0;32m   1053\u001b[0m                 \u001b[0mself\u001b[0m\u001b[1;33m.\u001b[0m\u001b[0mlog\u001b[0m\u001b[1;33m.\u001b[0m\u001b[0mwarning\u001b[0m\u001b[1;33m(\u001b[0m\u001b[1;34m\"Invalid Message:\"\u001b[0m\u001b[1;33m,\u001b[0m \u001b[0mexc_info\u001b[0m\u001b[1;33m=\u001b[0m\u001b[1;32mTrue\u001b[0m\u001b[1;33m)\u001b[0m\u001b[1;33m\u001b[0m\u001b[1;33m\u001b[0m\u001b[0m\n",
      "\u001b[1;31mKeyboardInterrupt\u001b[0m: Interrupted by user"
     ]
    }
   ],
   "source": []
  },
  {
   "cell_type": "code",
   "execution_count": 22,
   "id": "78ac03f2",
   "metadata": {
    "ExecuteTime": {
     "end_time": "2023-11-01T15:10:00.809218Z",
     "start_time": "2023-11-01T15:10:00.793226Z"
    }
   },
   "outputs": [
    {
     "data": {
      "text/plain": [
       "str"
      ]
     },
     "execution_count": 22,
     "metadata": {},
     "output_type": "execute_result"
    }
   ],
   "source": [
    "name='python'\n",
    "type(name)"
   ]
  },
  {
   "cell_type": "code",
   "execution_count": 23,
   "id": "a17c8f09",
   "metadata": {
    "ExecuteTime": {
     "end_time": "2023-11-01T15:10:09.376371Z",
     "start_time": "2023-11-01T15:10:09.355381Z"
    }
   },
   "outputs": [
    {
     "data": {
      "text/plain": [
       "'python'"
      ]
     },
     "execution_count": 23,
     "metadata": {},
     "output_type": "execute_result"
    }
   ],
   "source": [
    "name"
   ]
  },
  {
   "cell_type": "code",
   "execution_count": 24,
   "id": "8a5293e0",
   "metadata": {
    "ExecuteTime": {
     "end_time": "2023-11-01T15:10:31.607534Z",
     "start_time": "2023-11-01T15:10:31.584547Z"
    }
   },
   "outputs": [
    {
     "data": {
      "text/plain": [
       "'python'"
      ]
     },
     "execution_count": 24,
     "metadata": {},
     "output_type": "execute_result"
    }
   ],
   "source": [
    "name1=\"python\"\n",
    "name1"
   ]
  },
  {
   "cell_type": "code",
   "execution_count": 25,
   "id": "607d8960",
   "metadata": {
    "ExecuteTime": {
     "end_time": "2023-11-01T15:10:41.362484Z",
     "start_time": "2023-11-01T15:10:41.351506Z"
    }
   },
   "outputs": [
    {
     "name": "stdout",
     "output_type": "stream",
     "text": [
      "python\n"
     ]
    }
   ],
   "source": [
    "print(name)"
   ]
  },
  {
   "cell_type": "code",
   "execution_count": 29,
   "id": "8118eeb5",
   "metadata": {
    "ExecuteTime": {
     "end_time": "2023-11-01T15:24:12.121293Z",
     "start_time": "2023-11-01T15:24:12.101299Z"
    }
   },
   "outputs": [
    {
     "data": {
      "text/plain": [
       "6"
      ]
     },
     "execution_count": 29,
     "metadata": {},
     "output_type": "execute_result"
    }
   ],
   "source": [
    "len('python')"
   ]
  },
  {
   "cell_type": "code",
   "execution_count": 30,
   "id": "3b9976e5",
   "metadata": {
    "ExecuteTime": {
     "end_time": "2023-11-01T15:24:20.046511Z",
     "start_time": "2023-11-01T15:24:20.026534Z"
    }
   },
   "outputs": [
    {
     "data": {
      "text/plain": [
       "'y'"
      ]
     },
     "execution_count": 30,
     "metadata": {},
     "output_type": "execute_result"
    }
   ],
   "source": [
    "max('python')"
   ]
  },
  {
   "cell_type": "code",
   "execution_count": 31,
   "id": "fb5e388d",
   "metadata": {
    "ExecuteTime": {
     "end_time": "2023-11-01T15:24:30.429911Z",
     "start_time": "2023-11-01T15:24:30.417920Z"
    }
   },
   "outputs": [
    {
     "data": {
      "text/plain": [
       "'h'"
      ]
     },
     "execution_count": 31,
     "metadata": {},
     "output_type": "execute_result"
    }
   ],
   "source": [
    "min('python')"
   ]
  },
  {
   "cell_type": "code",
   "execution_count": 33,
   "id": "64a6baf4",
   "metadata": {
    "ExecuteTime": {
     "end_time": "2023-11-01T15:26:21.575885Z",
     "start_time": "2023-11-01T15:26:21.567890Z"
    }
   },
   "outputs": [
    {
     "name": "stdout",
     "output_type": "stream",
     "text": [
      "p 112\n",
      "y 121\n",
      "t 116\n",
      "h 104\n",
      "o 111\n",
      "n 110\n"
     ]
    }
   ],
   "source": [
    "for i in 'python':\n",
    "    print(i,ord(i))"
   ]
  },
  {
   "cell_type": "code",
   "execution_count": 36,
   "id": "bfd07c27",
   "metadata": {
    "ExecuteTime": {
     "end_time": "2023-11-01T15:35:04.115497Z",
     "start_time": "2023-11-01T15:35:04.100506Z"
    }
   },
   "outputs": [],
   "source": [
    "str1='hi'\n",
    "str2='hello'"
   ]
  },
  {
   "cell_type": "code",
   "execution_count": 37,
   "id": "d462186f",
   "metadata": {
    "ExecuteTime": {
     "end_time": "2023-11-01T15:35:12.464975Z",
     "start_time": "2023-11-01T15:35:12.457979Z"
    }
   },
   "outputs": [
    {
     "data": {
      "text/plain": [
       "'hihello'"
      ]
     },
     "execution_count": 37,
     "metadata": {},
     "output_type": "execute_result"
    }
   ],
   "source": [
    "str1+str2"
   ]
  },
  {
   "cell_type": "code",
   "execution_count": 38,
   "id": "c7b7dede",
   "metadata": {
    "ExecuteTime": {
     "end_time": "2023-11-01T15:35:23.716501Z",
     "start_time": "2023-11-01T15:35:23.689519Z"
    }
   },
   "outputs": [
    {
     "ename": "TypeError",
     "evalue": "unsupported operand type(s) for -: 'str' and 'str'",
     "output_type": "error",
     "traceback": [
      "\u001b[1;31m---------------------------------------------------------------------------\u001b[0m",
      "\u001b[1;31mTypeError\u001b[0m                                 Traceback (most recent call last)",
      "\u001b[1;32m~\\AppData\\Local\\Temp/ipykernel_15048/533321809.py\u001b[0m in \u001b[0;36m<module>\u001b[1;34m\u001b[0m\n\u001b[1;32m----> 1\u001b[1;33m \u001b[0mstr1\u001b[0m\u001b[1;33m-\u001b[0m\u001b[0mstr2\u001b[0m\u001b[1;33m\u001b[0m\u001b[1;33m\u001b[0m\u001b[0m\n\u001b[0m",
      "\u001b[1;31mTypeError\u001b[0m: unsupported operand type(s) for -: 'str' and 'str'"
     ]
    }
   ],
   "source": [
    "str1-str2"
   ]
  },
  {
   "cell_type": "code",
   "execution_count": 39,
   "id": "0b69d23d",
   "metadata": {
    "ExecuteTime": {
     "end_time": "2023-11-01T15:35:46.017679Z",
     "start_time": "2023-11-01T15:35:45.992690Z"
    }
   },
   "outputs": [
    {
     "ename": "TypeError",
     "evalue": "can't multiply sequence by non-int of type 'str'",
     "output_type": "error",
     "traceback": [
      "\u001b[1;31m---------------------------------------------------------------------------\u001b[0m",
      "\u001b[1;31mTypeError\u001b[0m                                 Traceback (most recent call last)",
      "\u001b[1;32m~\\AppData\\Local\\Temp/ipykernel_15048/4199405932.py\u001b[0m in \u001b[0;36m<module>\u001b[1;34m\u001b[0m\n\u001b[1;32m----> 1\u001b[1;33m \u001b[0mstr1\u001b[0m\u001b[1;33m*\u001b[0m\u001b[0mstr2\u001b[0m\u001b[1;33m\u001b[0m\u001b[1;33m\u001b[0m\u001b[0m\n\u001b[0m",
      "\u001b[1;31mTypeError\u001b[0m: can't multiply sequence by non-int of type 'str'"
     ]
    }
   ],
   "source": [
    "str1*str2"
   ]
  },
  {
   "cell_type": "code",
   "execution_count": 40,
   "id": "c370ee1c",
   "metadata": {
    "ExecuteTime": {
     "end_time": "2023-11-01T15:36:01.808594Z",
     "start_time": "2023-11-01T15:36:01.790604Z"
    }
   },
   "outputs": [
    {
     "ename": "TypeError",
     "evalue": "unsupported operand type(s) for /: 'str' and 'str'",
     "output_type": "error",
     "traceback": [
      "\u001b[1;31m---------------------------------------------------------------------------\u001b[0m",
      "\u001b[1;31mTypeError\u001b[0m                                 Traceback (most recent call last)",
      "\u001b[1;32m~\\AppData\\Local\\Temp/ipykernel_15048/3996127809.py\u001b[0m in \u001b[0;36m<module>\u001b[1;34m\u001b[0m\n\u001b[1;32m----> 1\u001b[1;33m \u001b[0mstr1\u001b[0m\u001b[1;33m/\u001b[0m\u001b[0mstr2\u001b[0m\u001b[1;33m\u001b[0m\u001b[1;33m\u001b[0m\u001b[0m\n\u001b[0m",
      "\u001b[1;31mTypeError\u001b[0m: unsupported operand type(s) for /: 'str' and 'str'"
     ]
    }
   ],
   "source": [
    "str1/str2"
   ]
  },
  {
   "cell_type": "code",
   "execution_count": 43,
   "id": "6892abad",
   "metadata": {
    "ExecuteTime": {
     "end_time": "2023-11-01T15:39:43.003677Z",
     "start_time": "2023-11-01T15:39:42.982690Z"
    }
   },
   "outputs": [
    {
     "data": {
      "text/plain": [
       "'pythonpythonpython'"
      ]
     },
     "execution_count": 43,
     "metadata": {},
     "output_type": "execute_result"
    }
   ],
   "source": [
    "3*'python'"
   ]
  },
  {
   "cell_type": "code",
   "execution_count": 46,
   "id": "d27fe6d3",
   "metadata": {
    "ExecuteTime": {
     "end_time": "2023-11-01T15:47:35.425562Z",
     "start_time": "2023-11-01T15:47:31.690563Z"
    }
   },
   "outputs": [
    {
     "name": "stdout",
     "output_type": "stream",
     "text": [
      "enter a number:10\n",
      "Enter number of chances:3\n",
      "the time taken is : 3.726027727127075\n"
     ]
    }
   ],
   "source": [
    "import time\n",
    "import random\n",
    "start=time.time()\n",
    "i=0\n",
    "number=input('enter a number:')\n",
    "ch=eval(input(\"Enter number of chances:\"))\n",
    "\n",
    "while (i>ch):\n",
    "    num=random.randint(1,10)\n",
    "    if(number==num):\n",
    "        print('you won')\n",
    "        break\n",
    "    else:\n",
    "        print('enter again {}:'.format(ch-i+1))\n",
    "        i+=1\n",
    "end=time.time()\n",
    "\n",
    "print('the time taken is :',end-start)"
   ]
  }
 ],
 "metadata": {
  "kernelspec": {
   "display_name": "Python 3 (ipykernel)",
   "language": "python",
   "name": "python3"
  },
  "language_info": {
   "codemirror_mode": {
    "name": "ipython",
    "version": 3
   },
   "file_extension": ".py",
   "mimetype": "text/x-python",
   "name": "python",
   "nbconvert_exporter": "python",
   "pygments_lexer": "ipython3",
   "version": "3.9.7"
  }
 },
 "nbformat": 4,
 "nbformat_minor": 5
}
