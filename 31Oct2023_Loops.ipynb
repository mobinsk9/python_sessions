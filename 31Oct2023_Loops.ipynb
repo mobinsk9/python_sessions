{
 "cells": [
  {
   "cell_type": "markdown",
   "id": "647ea831",
   "metadata": {
    "ExecuteTime": {
     "end_time": "2023-10-31T14:08:13.295878Z",
     "start_time": "2023-10-31T14:08:13.272870Z"
    }
   },
   "source": [
    "## Without arguments"
   ]
  },
  {
   "cell_type": "code",
   "execution_count": 4,
   "id": "de98ff0e",
   "metadata": {
    "ExecuteTime": {
     "end_time": "2023-10-31T14:40:21.199176Z",
     "start_time": "2023-10-31T14:40:21.179187Z"
    }
   },
   "outputs": [],
   "source": [
    "def square():\n",
    "    try:\n",
    "        n=eval(input(\"Enter a number:\"))\n",
    "        print(\"The Square of entered number {} is {}\".format(n,n*n))\n",
    "    except Exception as e:\n",
    "        print(e)"
   ]
  },
  {
   "cell_type": "code",
   "execution_count": 5,
   "id": "eea01f49",
   "metadata": {
    "ExecuteTime": {
     "end_time": "2023-10-31T14:40:34.705433Z",
     "start_time": "2023-10-31T14:40:30.196963Z"
    }
   },
   "outputs": [
    {
     "name": "stdout",
     "output_type": "stream",
     "text": [
      "Enter a number:10\n",
      "The Square of entered number 10 is 100\n"
     ]
    }
   ],
   "source": [
    "square()"
   ]
  },
  {
   "cell_type": "markdown",
   "id": "ffc4e9f6",
   "metadata": {},
   "source": [
    "## With arguments"
   ]
  },
  {
   "cell_type": "code",
   "execution_count": 6,
   "id": "fdd3cd97",
   "metadata": {
    "ExecuteTime": {
     "end_time": "2023-10-31T14:41:01.919084Z",
     "start_time": "2023-10-31T14:41:01.897099Z"
    }
   },
   "outputs": [],
   "source": [
    "def square(n):\n",
    "    try:\n",
    "        print(\"Entered number {} Square is {}\".format(n,n*n))\n",
    "    except Exception as e:\n",
    "        print(e)"
   ]
  },
  {
   "cell_type": "code",
   "execution_count": 7,
   "id": "24f47acb",
   "metadata": {
    "ExecuteTime": {
     "end_time": "2023-10-31T14:41:07.124144Z",
     "start_time": "2023-10-31T14:41:03.832263Z"
    }
   },
   "outputs": [
    {
     "name": "stdout",
     "output_type": "stream",
     "text": [
      "Enter n value to find the Square!19\n",
      "Entered number 19 Square is 361\n"
     ]
    }
   ],
   "source": [
    "square(n=eval(input(\"Enter n value to find the Square!\")))"
   ]
  },
  {
   "cell_type": "markdown",
   "id": "4c45dbfc",
   "metadata": {},
   "source": [
    "## Default arguments"
   ]
  },
  {
   "cell_type": "code",
   "execution_count": 8,
   "id": "7fb5f2b5",
   "metadata": {
    "ExecuteTime": {
     "end_time": "2023-10-31T14:42:26.434349Z",
     "start_time": "2023-10-31T14:42:26.420359Z"
    }
   },
   "outputs": [],
   "source": [
    "def tot_aver(n1,n2,n3=10):\n",
    "    try:\n",
    "        n3=100\n",
    "        total=n1+n2+n3\n",
    "        average=total/3\n",
    "        print(\"Sum of entered three numbers: {} and Average of entered three numbers: {}\".format(total,average))\n",
    "    except Exception as e:\n",
    "        print(e)"
   ]
  },
  {
   "cell_type": "code",
   "execution_count": 9,
   "id": "9065f433",
   "metadata": {
    "ExecuteTime": {
     "end_time": "2023-10-31T14:42:28.335642Z",
     "start_time": "2023-10-31T14:42:28.319651Z"
    }
   },
   "outputs": [
    {
     "name": "stdout",
     "output_type": "stream",
     "text": [
      "Sum of entered three numbers: 130 and Average of entered three numbers: 43.333333333333336\n"
     ]
    }
   ],
   "source": [
    "tot_aver(10,20)"
   ]
  },
  {
   "cell_type": "markdown",
   "id": "ab5b72f4",
   "metadata": {},
   "source": [
    "## Return "
   ]
  },
  {
   "cell_type": "code",
   "execution_count": 10,
   "id": "b948a5c3",
   "metadata": {
    "ExecuteTime": {
     "end_time": "2023-10-31T14:43:38.254450Z",
     "start_time": "2023-10-31T14:43:38.236460Z"
    }
   },
   "outputs": [],
   "source": [
    "def square(n):\n",
    "    try:\n",
    "        return n*n\n",
    "    except Exception as e:\n",
    "        print(e)"
   ]
  },
  {
   "cell_type": "code",
   "execution_count": 11,
   "id": "86bb35fd",
   "metadata": {
    "ExecuteTime": {
     "end_time": "2023-10-31T14:43:43.488488Z",
     "start_time": "2023-10-31T14:43:41.776547Z"
    }
   },
   "outputs": [
    {
     "name": "stdout",
     "output_type": "stream",
     "text": [
      "Enter n value to find the Square!10\n"
     ]
    },
    {
     "data": {
      "text/plain": [
       "100"
      ]
     },
     "execution_count": 11,
     "metadata": {},
     "output_type": "execute_result"
    }
   ],
   "source": [
    "square(n=eval(input(\"Enter n value to find the Square!\")))"
   ]
  },
  {
   "cell_type": "markdown",
   "id": "3a0ed5ab",
   "metadata": {},
   "source": [
    "## Local Variable"
   ]
  },
  {
   "cell_type": "code",
   "execution_count": null,
   "id": "028acd24",
   "metadata": {},
   "outputs": [],
   "source": [
    "a=20\n",
    "def val():\n",
    "    a=30\n",
    "    print(a)"
   ]
  },
  {
   "cell_type": "code",
   "execution_count": null,
   "id": "7860665d",
   "metadata": {},
   "outputs": [],
   "source": [
    "val()"
   ]
  },
  {
   "cell_type": "markdown",
   "id": "6e8407a1",
   "metadata": {},
   "source": [
    "## Global Variable"
   ]
  },
  {
   "cell_type": "code",
   "execution_count": null,
   "id": "55c96323",
   "metadata": {},
   "outputs": [],
   "source": [
    "a=20\n",
    "def val():\n",
    "    global a\n",
    "    a=30\n",
    "    print(a)"
   ]
  },
  {
   "cell_type": "code",
   "execution_count": null,
   "id": "9feb58b8",
   "metadata": {},
   "outputs": [],
   "source": [
    "val()"
   ]
  },
  {
   "cell_type": "markdown",
   "id": "0faf7767",
   "metadata": {},
   "source": [
    "## Function with in Functions"
   ]
  },
  {
   "cell_type": "code",
   "execution_count": null,
   "id": "959a4e50",
   "metadata": {},
   "outputs": [],
   "source": [
    "def get_values():\n",
    "    start=eval(input(\"Enter Start Value:\"))\n",
    "    stop=eval(input(\"Enter Stop Value:\"))\n",
    "    return(start,stop)\n",
    "def even_odd():\n",
    "    start,stop=get_values()\n",
    "    for n in range(start,stop):\n",
    "        if n%2==0:\n",
    "            print(\"{} is even number!!!\".format(n))\n",
    "        else:\n",
    "            print(\"{} is odd number!\".format(n))"
   ]
  },
  {
   "cell_type": "code",
   "execution_count": null,
   "id": "6eeb4912",
   "metadata": {},
   "outputs": [],
   "source": [
    "even_odd()"
   ]
  },
  {
   "cell_type": "code",
   "execution_count": 12,
   "id": "797998aa",
   "metadata": {
    "ExecuteTime": {
     "end_time": "2023-10-31T14:52:05.323882Z",
     "start_time": "2023-10-31T14:52:05.304891Z"
    }
   },
   "outputs": [
    {
     "name": "stdout",
     "output_type": "stream",
     "text": [
      "0123456789"
     ]
    }
   ],
   "source": [
    "i=0\n",
    "while i>=0:\n",
    "    print(i,end='')\n",
    "    i+=1\n",
    "    if i==10:\n",
    "        break"
   ]
  },
  {
   "cell_type": "code",
   "execution_count": 15,
   "id": "9941529d",
   "metadata": {
    "ExecuteTime": {
     "end_time": "2023-10-31T14:59:57.207245Z",
     "start_time": "2023-10-31T14:59:57.188255Z"
    }
   },
   "outputs": [
    {
     "name": "stdout",
     "output_type": "stream",
     "text": [
      "012"
     ]
    }
   ],
   "source": [
    "i=0\n",
    "while True:\n",
    "    print(i,end='')\n",
    "    i+=1\n",
    "    if i==3:\n",
    "        break"
   ]
  },
  {
   "cell_type": "markdown",
   "id": "8170e9ae",
   "metadata": {},
   "source": [
    "EVEN OR ODD NUMBER"
   ]
  },
  {
   "cell_type": "code",
   "execution_count": 16,
   "id": "7087849f",
   "metadata": {
    "ExecuteTime": {
     "end_time": "2023-10-31T15:11:32.785928Z",
     "start_time": "2023-10-31T15:11:32.763939Z"
    }
   },
   "outputs": [
    {
     "name": "stdout",
     "output_type": "stream",
     "text": [
      "39 is odd number\n",
      "98 is even number\n",
      "38 is even number\n",
      "18 is even number\n",
      "31 is odd number\n",
      "51 is odd number\n",
      "3 is odd number\n",
      "30 is even number\n",
      "18 is even number\n",
      "6 is even number\n",
      "2 is even number\n"
     ]
    }
   ],
   "source": [
    "import random\n",
    "for i in range(10):\n",
    "    n=random.randint(1,100)\n",
    "    if n%2==0:\n",
    "        print(\"{} is even number\".format(n))\n",
    "    else:\n",
    "        print(\"{} is odd number\".format(n))"
   ]
  },
  {
   "cell_type": "code",
   "execution_count": 18,
   "id": "2c305fa4",
   "metadata": {
    "ExecuteTime": {
     "end_time": "2023-10-31T15:13:11.573730Z",
     "start_time": "2023-10-31T15:13:11.549747Z"
    }
   },
   "outputs": [
    {
     "name": "stdout",
     "output_type": "stream",
     "text": [
      "52 is even number\n",
      "54 is even number\n",
      "26 is even number\n",
      "98 is even number\n",
      "25 is odd number\n",
      "16 is even number\n",
      "96 is even number\n",
      "12 is even number\n",
      "19 is odd number\n",
      "89 is odd number\n",
      "78 is even number\n"
     ]
    }
   ],
   "source": [
    "import random\n",
    "i=0\n",
    "while i<11:\n",
    "    n=random.randint(1,100)\n",
    "    if n%2==0:\n",
    "        print(\"{} is even number\".format(n))\n",
    "    else:\n",
    "        print(\"{} is odd number\".format(n))\n",
    "    i+=1"
   ]
  },
  {
   "cell_type": "code",
   "execution_count": 19,
   "id": "4d531af7",
   "metadata": {
    "ExecuteTime": {
     "end_time": "2023-10-31T15:23:04.891854Z",
     "start_time": "2023-10-31T15:23:00.678030Z"
    }
   },
   "outputs": [
    {
     "name": "stdout",
     "output_type": "stream",
     "text": [
      "Enter n Value:10\n",
      "Square of 10 is 100\n",
      "Enter n Value:100\n",
      "Square of 100 is 10000\n",
      "Enter n Value:2\n",
      "Square of 2 is 4\n"
     ]
    }
   ],
   "source": [
    "for i in range(3):\n",
    "    n=eval(input(\"Enter n Value:\"))\n",
    "    print(\"Square of {} is {}\".format(n,n*n))"
   ]
  },
  {
   "cell_type": "code",
   "execution_count": 21,
   "id": "82f00448",
   "metadata": {
    "ExecuteTime": {
     "end_time": "2023-10-31T15:23:40.156613Z",
     "start_time": "2023-10-31T15:23:36.576712Z"
    }
   },
   "outputs": [
    {
     "name": "stdout",
     "output_type": "stream",
     "text": [
      "Enter n Value:10\n",
      "Square of 10 is 100\n",
      "Enter n Value:20\n",
      "Square of 20 is 400\n",
      "Enter n Value:30\n",
      "Square of 30 is 900\n"
     ]
    }
   ],
   "source": [
    "i=1\n",
    "while i<4:\n",
    "    n=eval(input(\"Enter n Value:\"))\n",
    "    print(\"Square of {} is {}\".format(n,n*n))\n",
    "    i+=1"
   ]
  },
  {
   "cell_type": "code",
   "execution_count": 24,
   "id": "5a55118c",
   "metadata": {
    "ExecuteTime": {
     "end_time": "2023-10-31T15:31:59.531425Z",
     "start_time": "2023-10-31T15:31:57.589512Z"
    }
   },
   "outputs": [
    {
     "name": "stdout",
     "output_type": "stream",
     "text": [
      "Enter n Value:1\n",
      "Square of 1 is 1\n",
      "Enter n Value:2\n",
      "Square of 2 is 4\n",
      "Enter n Value:3\n",
      "Square of 3 is 9\n",
      "Time taken= 1.9229202270507812 in seconds\n"
     ]
    }
   ],
   "source": [
    "import time\n",
    "start=time.time()\n",
    "i=1\n",
    "while i<4:\n",
    "    n=eval(input(\"Enter n Value:\"))\n",
    "    print(\"Square of {} is {}\".format(n,n*n))\n",
    "    i+=1\n",
    "end=time.time()\n",
    "print(\"Time taken= {} in seconds\".format(end-start))\n"
   ]
  },
  {
   "cell_type": "code",
   "execution_count": 27,
   "id": "5c1f906a",
   "metadata": {
    "ExecuteTime": {
     "end_time": "2023-10-31T15:36:27.692865Z",
     "start_time": "2023-10-31T15:36:21.729835Z"
    }
   },
   "outputs": [
    {
     "name": "stdout",
     "output_type": "stream",
     "text": [
      "Hi!\n",
      "Hello!!\n",
      "Enter num value:10\n"
     ]
    }
   ],
   "source": [
    "print(\"Hi!\") \n",
    "time.sleep(2) \n",
    "print(\"Hello!!\") \n",
    "time.sleep(3) \n",
    "num=eval(input(\"Enter num value:\"))"
   ]
  },
  {
   "cell_type": "code",
   "execution_count": 31,
   "id": "6a111378",
   "metadata": {
    "ExecuteTime": {
     "end_time": "2023-10-31T15:43:28.500247Z",
     "start_time": "2023-10-31T15:43:28.481235Z"
    }
   },
   "outputs": [
    {
     "name": "stdout",
     "output_type": "stream",
     "text": [
      "Ten natural numbers count is: 55\n"
     ]
    }
   ],
   "source": [
    "sum1=0\n",
    "for i in range(11):\n",
    "    sum1+=i\n",
    "print(\"Ten natural numbers count is:\",sum1)"
   ]
  },
  {
   "cell_type": "code",
   "execution_count": 32,
   "id": "6b4f3f12",
   "metadata": {
    "ExecuteTime": {
     "end_time": "2023-10-31T15:43:30.689940Z",
     "start_time": "2023-10-31T15:43:30.669930Z"
    }
   },
   "outputs": [
    {
     "name": "stdout",
     "output_type": "stream",
     "text": [
      "Ten natural numbers count is: 55\n"
     ]
    }
   ],
   "source": [
    "sum1=0\n",
    "i=0\n",
    "while i<11:\n",
    "    sum1+=i\n",
    "    i+=1\n",
    "print(\"Ten natural numbers count is:\",sum1)"
   ]
  },
  {
   "cell_type": "code",
   "execution_count": 34,
   "id": "312d8a15",
   "metadata": {
    "ExecuteTime": {
     "end_time": "2023-10-31T16:58:12.612591Z",
     "start_time": "2023-10-31T16:58:12.590602Z"
    }
   },
   "outputs": [
    {
     "name": "stdout",
     "output_type": "stream",
     "text": [
      "1 1 10 1\n",
      "2 1 10 1\n",
      "3 1 10 1\n",
      "4 1 10 1\n",
      "5 1 10 1\n",
      "6 1 10 1\n",
      "7 1 10 1\n",
      "8 1 10 1\n",
      "9 1 10 1\n"
     ]
    }
   ],
   "source": [
    "start=1\n",
    "stop=10\n",
    "incr=1\n",
    "for i in range(start,stop,incr):\n",
    "    print(i,start,stop,incr)"
   ]
  },
  {
   "cell_type": "code",
   "execution_count": null,
   "id": "da4ca59c",
   "metadata": {},
   "outputs": [],
   "source": []
  },
  {
   "cell_type": "code",
   "execution_count": null,
   "id": "22cd1404",
   "metadata": {},
   "outputs": [],
   "source": []
  }
 ],
 "metadata": {
  "kernelspec": {
   "display_name": "Python 3 (ipykernel)",
   "language": "python",
   "name": "python3"
  },
  "language_info": {
   "codemirror_mode": {
    "name": "ipython",
    "version": 3
   },
   "file_extension": ".py",
   "mimetype": "text/x-python",
   "name": "python",
   "nbconvert_exporter": "python",
   "pygments_lexer": "ipython3",
   "version": "3.9.7"
  }
 },
 "nbformat": 4,
 "nbformat_minor": 5
}
