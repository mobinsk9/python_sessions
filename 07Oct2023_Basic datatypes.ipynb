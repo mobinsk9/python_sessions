{
 "cells": [
  {
   "cell_type": "markdown",
   "id": "6574e5e9",
   "metadata": {},
   "source": [
    "##### Level1\n",
    "1. Basic syntax\n",
    "2. First program\n",
    "3. Conditional Statements\n",
    "4. Functions\n",
    "5. Loops\n",
    "6. Exceptional handling\n",
    "7. Packages\n",
    "\n",
    "#### Leve2\n",
    "8. Strings\n",
    "9. List\n",
    "10. Dictionary\n",
    "11. Tuples\n",
    "12. Sets\n",
    "13. File handling sessions\n",
    "\n",
    "### Level3\n",
    "14. OOPS Concept\n",
    "15. EDA\n",
    "16. ML\n",
    "17. DL\n",
    "18. NLP\n",
    "19. Flask"
   ]
  },
  {
   "cell_type": "markdown",
   "id": "39164cb6",
   "metadata": {},
   "source": [
    "Data types\n",
    "  1. Integer\n",
    "  2. float\n",
    "  3. string\n",
    "  4. boolean\n",
    "  5. complex conjugate"
   ]
  },
  {
   "cell_type": "code",
   "execution_count": 1,
   "id": "33607eec",
   "metadata": {
    "ExecuteTime": {
     "end_time": "2023-10-07T14:44:45.529446Z",
     "start_time": "2023-10-07T14:44:45.491469Z"
    }
   },
   "outputs": [
    {
     "data": {
      "text/plain": [
       "int"
      ]
     },
     "execution_count": 1,
     "metadata": {},
     "output_type": "execute_result"
    }
   ],
   "source": [
    "a=100\n",
    "type(a)"
   ]
  },
  {
   "cell_type": "markdown",
   "id": "53f1019e",
   "metadata": {},
   "source": [
    "in math different number system will available\n",
    "1. binary\n",
    "2. decimal\n",
    "3. octal\n",
    "4. hexa"
   ]
  },
  {
   "cell_type": "markdown",
   "id": "f2322eb8",
   "metadata": {
    "ExecuteTime": {
     "end_time": "2023-10-07T14:47:50.839421Z",
     "start_time": "2023-10-07T14:47:50.818436Z"
    }
   },
   "source": [
    "- binary number system   base=2\n",
    "- base 2 means two digits are required and the two digits are 0 and 1\n",
    "- Ther representation is 0b<the combination of two digits are 0 and 1>\n",
    "- example: 0b0001 or 0B000011"
   ]
  },
  {
   "cell_type": "markdown",
   "id": "8eb8009c",
   "metadata": {},
   "source": [
    "0b111 # here the input is binary format\n",
    "      \n",
    "      # default output is decimal"
   ]
  },
  {
   "cell_type": "code",
   "execution_count": 3,
   "id": "88938c7b",
   "metadata": {
    "ExecuteTime": {
     "end_time": "2023-10-07T14:58:35.949054Z",
     "start_time": "2023-10-07T14:58:35.930065Z"
    }
   },
   "outputs": [
    {
     "data": {
      "text/plain": [
       "7"
      ]
     },
     "execution_count": 3,
     "metadata": {},
     "output_type": "execute_result"
    }
   ],
   "source": [
    "0b111 # 111   base is 2   so  2power2 , 2power1 and 2power0\n",
    "#2^2*1 +2^1*1+2^0*1 =7"
   ]
  },
  {
   "cell_type": "markdown",
   "id": "3e5f629f",
   "metadata": {},
   "source": [
    "4 2 1 code\n",
    "2^2    2^1    2^0\n",
    "4       2      1\n",
    "0       0      0\n",
    "0       0      1\n",
    "0       1      0\n",
    "0       1      1\n",
    "1       0      0\n",
    "1       0      1\n",
    "1       1      0\n",
    "1       1      1\n",
    "\n",
    "\n",
    "8 4 2 1 code\n",
    "\n",
    "Three Digits(2^2) are there         4  2 1\n",
    "FOUR Digits (2^3) are there      8  4  2 1\n",
    "Five Digits (2^4) are there   16 8  4  2 1\n",
    "Six Digits(2^5) are there  32 16 8  4  2 1"
   ]
  },
  {
   "cell_type": "markdown",
   "id": "62c45a52",
   "metadata": {},
   "source": [
    "Octal\n",
    "Octa number system base=8\n",
    "base 8 means 8 digits are required and the 8 digits are 0 1 2 3 4 5 6 7 \n",
    "Ther representation is 0o<the combination of 8 digits are 0 1 2 3 4 5 6 7>\n",
    "example: 0o0001 or 0O000011\n"
   ]
  },
  {
   "cell_type": "markdown",
   "id": "03c4e3ad",
   "metadata": {},
   "source": [
    "Hexa\n",
    "Hexa number system base=16\n",
    "base 16 means 16 digits are required and the 16 digits are 0 1 2 3 4 5 6 7 8 9 A B C D E F\n",
    "Ther representation is 0x<the combination of 16 digits are 0 1 2 3 4 5 6 7 8 9 A B C D E F>\n",
    "example: 0xABC or 0XabcF"
   ]
  },
  {
   "cell_type": "markdown",
   "id": "ac56d7e9",
   "metadata": {},
   "source": [
    "**Float**"
   ]
  },
  {
   "cell_type": "markdown",
   "id": "2be5e195",
   "metadata": {},
   "source": [
    "#markdown short cut  esc+m"
   ]
  },
  {
   "cell_type": "code",
   "execution_count": 4,
   "id": "25e716ff",
   "metadata": {
    "ExecuteTime": {
     "end_time": "2023-10-07T15:18:54.334593Z",
     "start_time": "2023-10-07T15:18:54.319602Z"
    }
   },
   "outputs": [
    {
     "data": {
      "text/plain": [
       "float"
      ]
     },
     "execution_count": 4,
     "metadata": {},
     "output_type": "execute_result"
    }
   ],
   "source": [
    "num=0.123\n",
    "type(num)"
   ]
  },
  {
   "cell_type": "markdown",
   "id": "87d71c1e",
   "metadata": {},
   "source": [
    "2e4 # 2*10000\n",
    "2e6 # 2*1000000\n",
    "2e-3 # 2/1000\n",
    "1.00000e-14  # 1/100000000000000"
   ]
  },
  {
   "cell_type": "code",
   "execution_count": 5,
   "id": "f8c89867",
   "metadata": {
    "ExecuteTime": {
     "end_time": "2023-10-07T15:24:58.723898Z",
     "start_time": "2023-10-07T15:24:58.713904Z"
    }
   },
   "outputs": [
    {
     "data": {
      "text/plain": [
       "2000.0"
      ]
     },
     "execution_count": 5,
     "metadata": {},
     "output_type": "execute_result"
    }
   ],
   "source": [
    "2e+3     # 2e+3 and 2e3 both are same"
   ]
  },
  {
   "cell_type": "code",
   "execution_count": 6,
   "id": "ee240d04",
   "metadata": {
    "ExecuteTime": {
     "end_time": "2023-10-07T15:25:09.429223Z",
     "start_time": "2023-10-07T15:25:09.409225Z"
    }
   },
   "outputs": [
    {
     "data": {
      "text/plain": [
       "2000.0"
      ]
     },
     "execution_count": 6,
     "metadata": {},
     "output_type": "execute_result"
    }
   ],
   "source": [
    "2e3"
   ]
  },
  {
   "cell_type": "code",
   "execution_count": 8,
   "id": "538c3a8c",
   "metadata": {
    "ExecuteTime": {
     "end_time": "2023-10-07T15:26:04.901355Z",
     "start_time": "2023-10-07T15:26:04.881352Z"
    }
   },
   "outputs": [
    {
     "data": {
      "text/plain": [
       "1000.0"
      ]
     },
     "execution_count": 8,
     "metadata": {},
     "output_type": "execute_result"
    }
   ],
   "source": [
    "1e+3"
   ]
  },
  {
   "cell_type": "code",
   "execution_count": 9,
   "id": "1e19c40f",
   "metadata": {
    "ExecuteTime": {
     "end_time": "2023-10-07T15:26:08.750470Z",
     "start_time": "2023-10-07T15:26:08.731482Z"
    }
   },
   "outputs": [
    {
     "data": {
      "text/plain": [
       "1000.0"
      ]
     },
     "execution_count": 9,
     "metadata": {},
     "output_type": "execute_result"
    }
   ],
   "source": [
    "1e3"
   ]
  },
  {
   "cell_type": "markdown",
   "id": "d126b496",
   "metadata": {},
   "source": [
    "$Boolean$\n"
   ]
  },
  {
   "cell_type": "code",
   "execution_count": 10,
   "id": "a9c6ffbf",
   "metadata": {
    "ExecuteTime": {
     "end_time": "2023-10-07T15:28:36.092850Z",
     "start_time": "2023-10-07T15:28:36.076859Z"
    }
   },
   "outputs": [
    {
     "data": {
      "text/plain": [
       "bool"
      ]
     },
     "execution_count": 10,
     "metadata": {},
     "output_type": "execute_result"
    }
   ],
   "source": [
    "a=True   # internally number = 1\n",
    "type(a)"
   ]
  },
  {
   "cell_type": "code",
   "execution_count": 11,
   "id": "83fe8342",
   "metadata": {
    "ExecuteTime": {
     "end_time": "2023-10-07T15:30:52.903322Z",
     "start_time": "2023-10-07T15:30:52.891327Z"
    }
   },
   "outputs": [
    {
     "data": {
      "text/plain": [
       "bool"
      ]
     },
     "execution_count": 11,
     "metadata": {},
     "output_type": "execute_result"
    }
   ],
   "source": [
    "a=False   # internally number = 0\n",
    "type(a)"
   ]
  },
  {
   "cell_type": "code",
   "execution_count": 12,
   "id": "a0bdabed",
   "metadata": {
    "ExecuteTime": {
     "end_time": "2023-10-07T15:34:44.934772Z",
     "start_time": "2023-10-07T15:34:44.900790Z"
    }
   },
   "outputs": [
    {
     "ename": "NameError",
     "evalue": "name 'true' is not defined",
     "output_type": "error",
     "traceback": [
      "\u001b[1;31m---------------------------------------------------------------------------\u001b[0m",
      "\u001b[1;31mNameError\u001b[0m                                 Traceback (most recent call last)",
      "\u001b[1;32m~\\AppData\\Local\\Temp/ipykernel_10948/1020317504.py\u001b[0m in \u001b[0;36m<module>\u001b[1;34m\u001b[0m\n\u001b[1;32m----> 1\u001b[1;33m \u001b[0ma\u001b[0m\u001b[1;33m=\u001b[0m\u001b[0mtrue\u001b[0m\u001b[1;33m\u001b[0m\u001b[1;33m\u001b[0m\u001b[0m\n\u001b[0m\u001b[0;32m      2\u001b[0m \u001b[0ma\u001b[0m\u001b[1;33m\u001b[0m\u001b[1;33m\u001b[0m\u001b[0m\n",
      "\u001b[1;31mNameError\u001b[0m: name 'true' is not defined"
     ]
    }
   ],
   "source": [
    "a=true\n",
    "a"
   ]
  },
  {
   "cell_type": "code",
   "execution_count": null,
   "id": "38a72304",
   "metadata": {},
   "outputs": [],
   "source": []
  },
  {
   "cell_type": "code",
   "execution_count": null,
   "id": "4d9d4a76",
   "metadata": {},
   "outputs": [],
   "source": []
  },
  {
   "cell_type": "code",
   "execution_count": null,
   "id": "02ae46e7",
   "metadata": {},
   "outputs": [],
   "source": []
  },
  {
   "cell_type": "code",
   "execution_count": null,
   "id": "13801390",
   "metadata": {},
   "outputs": [],
   "source": []
  },
  {
   "cell_type": "code",
   "execution_count": null,
   "id": "07ea966c",
   "metadata": {},
   "outputs": [],
   "source": []
  }
 ],
 "metadata": {
  "kernelspec": {
   "display_name": "Python 3 (ipykernel)",
   "language": "python",
   "name": "python3"
  },
  "language_info": {
   "codemirror_mode": {
    "name": "ipython",
    "version": 3
   },
   "file_extension": ".py",
   "mimetype": "text/x-python",
   "name": "python",
   "nbconvert_exporter": "python",
   "pygments_lexer": "ipython3",
   "version": "3.9.7"
  }
 },
 "nbformat": 4,
 "nbformat_minor": 5
}
