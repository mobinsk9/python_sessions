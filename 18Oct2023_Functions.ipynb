{
 "cells": [
  {
   "cell_type": "code",
   "execution_count": 1,
   "id": "eb1dc822",
   "metadata": {
    "ExecuteTime": {
     "end_time": "2023-10-18T14:24:46.799512Z",
     "start_time": "2023-10-18T14:24:46.788518Z"
    }
   },
   "outputs": [],
   "source": [
    "def salary():\n",
    "    try:\n",
    "        b_sal=eval(input(\"Enter Base Sal:\"))\n",
    "        da=eval(input(\"Enter DA:\"))\n",
    "        t_sal=b_sal+da\n",
    "        print(t_sal)\n",
    "    except Exception as e:\n",
    "        print(e)"
   ]
  },
  {
   "cell_type": "code",
   "execution_count": 2,
   "id": "6b57b703",
   "metadata": {
    "ExecuteTime": {
     "end_time": "2023-10-18T14:25:01.220843Z",
     "start_time": "2023-10-18T14:24:58.599716Z"
    }
   },
   "outputs": [
    {
     "name": "stdout",
     "output_type": "stream",
     "text": [
      "Enter Base Sal:10\n",
      "Enter DA:20\n",
      "30\n"
     ]
    }
   ],
   "source": [
    "salary()"
   ]
  },
  {
   "cell_type": "code",
   "execution_count": 3,
   "id": "57da0222",
   "metadata": {
    "ExecuteTime": {
     "end_time": "2023-10-18T14:27:19.633800Z",
     "start_time": "2023-10-18T14:27:19.615829Z"
    }
   },
   "outputs": [],
   "source": [
    "def average():\n",
    "    try:\n",
    "        n1=eval(input(\"Enter a value:\"))\n",
    "        n2=eval(input(\"Enter a value:\"))\n",
    "        n3=eval(input(\"Enter a value:\"))\n",
    "        t=n1+n2+n3\n",
    "        average=t/3\n",
    "        print(average)\n",
    "    except exception as e:\n",
    "        print(e)"
   ]
  },
  {
   "cell_type": "code",
   "execution_count": 4,
   "id": "40d57094",
   "metadata": {
    "ExecuteTime": {
     "end_time": "2023-10-18T14:27:27.725800Z",
     "start_time": "2023-10-18T14:27:24.697298Z"
    }
   },
   "outputs": [
    {
     "name": "stdout",
     "output_type": "stream",
     "text": [
      "Enter a value:10\n",
      "Enter a value:20\n",
      "Enter a value:30\n",
      "20.0\n"
     ]
    }
   ],
   "source": [
    "average()"
   ]
  },
  {
   "cell_type": "code",
   "execution_count": 5,
   "id": "6f572805",
   "metadata": {
    "ExecuteTime": {
     "end_time": "2023-10-18T14:33:48.023587Z",
     "start_time": "2023-10-18T14:33:48.003597Z"
    }
   },
   "outputs": [],
   "source": [
    "def bill_amount():\n",
    "    try:\n",
    "        amount=eval(input(\"Enter bill amount:\"))\n",
    "        tip=eval(input(\"Enter tip:\"))\n",
    "        t=(amount*tip)/100\n",
    "        bill_amount=amount+t\n",
    "        print(bill_amount)\n",
    "    except exception as e:\n",
    "        print(e)"
   ]
  },
  {
   "cell_type": "code",
   "execution_count": 6,
   "id": "9f5933a0",
   "metadata": {
    "ExecuteTime": {
     "end_time": "2023-10-18T14:34:04.363325Z",
     "start_time": "2023-10-18T14:33:58.969315Z"
    }
   },
   "outputs": [
    {
     "name": "stdout",
     "output_type": "stream",
     "text": [
      "Enter bill amount:1000\n",
      "Enter tip:10\n",
      "1100.0\n"
     ]
    }
   ],
   "source": [
    "bill_amount()"
   ]
  },
  {
   "cell_type": "code",
   "execution_count": 7,
   "id": "222864ed",
   "metadata": {
    "ExecuteTime": {
     "end_time": "2023-10-18T14:44:10.103740Z",
     "start_time": "2023-10-18T14:44:10.085751Z"
    }
   },
   "outputs": [],
   "source": [
    "def odd_even():\n",
    "    try:\n",
    "        n=eval(input(\"Enter n value:\"))\n",
    "        if n%2==0:\n",
    "            print(\"Eneter number is Even!!!\")\n",
    "        else:\n",
    "            print(\"Enter number is Odd!!!\")\n",
    "    except exception as e:\n",
    "        print(e)"
   ]
  },
  {
   "cell_type": "code",
   "execution_count": 8,
   "id": "9933d70a",
   "metadata": {
    "ExecuteTime": {
     "end_time": "2023-10-18T14:44:20.113671Z",
     "start_time": "2023-10-18T14:44:17.824180Z"
    }
   },
   "outputs": [
    {
     "name": "stdout",
     "output_type": "stream",
     "text": [
      "Enter n value:10\n",
      "Eneter number is Even!!!\n"
     ]
    }
   ],
   "source": [
    "odd_even()"
   ]
  },
  {
   "cell_type": "code",
   "execution_count": 10,
   "id": "e33d0b14",
   "metadata": {
    "ExecuteTime": {
     "end_time": "2023-10-18T15:10:06.673160Z",
     "start_time": "2023-10-18T15:10:06.652173Z"
    }
   },
   "outputs": [
    {
     "name": "stdout",
     "output_type": "stream",
     "text": [
      "101000\n"
     ]
    }
   ],
   "source": [
    "def salary(b_sal,da):\n",
    "    try:\n",
    "        print(b_sal+da)\n",
    "    except Exception as e:\n",
    "        print(e)\n",
    "salary(100000,1000)"
   ]
  },
  {
   "cell_type": "code",
   "execution_count": 11,
   "id": "b359abb5",
   "metadata": {
    "ExecuteTime": {
     "end_time": "2023-10-18T15:15:17.876047Z",
     "start_time": "2023-10-18T15:15:17.866051Z"
    }
   },
   "outputs": [
    {
     "name": "stdout",
     "output_type": "stream",
     "text": [
      "2.0\n"
     ]
    }
   ],
   "source": [
    "def average(n1,n2,n3):\n",
    "    try:\n",
    "        t=n1+n2+n3\n",
    "        average=t/3\n",
    "        print(average)\n",
    "    except exception as e:\n",
    "        print(e)\n",
    "average(1,2,3)"
   ]
  },
  {
   "cell_type": "code",
   "execution_count": 13,
   "id": "a7224159",
   "metadata": {
    "ExecuteTime": {
     "end_time": "2023-10-18T15:23:20.122282Z",
     "start_time": "2023-10-18T15:23:20.101296Z"
    }
   },
   "outputs": [
    {
     "name": "stdout",
     "output_type": "stream",
     "text": [
      "101.0\n"
     ]
    }
   ],
   "source": [
    "def average(n1,n2,n3=300):\n",
    "    try:\n",
    "        t=n1+n2+n3\n",
    "        average=t/3\n",
    "        print(average)\n",
    "    except exception as e:\n",
    "        print(e)\n",
    "average(1,2)"
   ]
  },
  {
   "cell_type": "code",
   "execution_count": null,
   "id": "fb6fbb09",
   "metadata": {},
   "outputs": [],
   "source": []
  }
 ],
 "metadata": {
  "kernelspec": {
   "display_name": "Python 3 (ipykernel)",
   "language": "python",
   "name": "python3"
  },
  "language_info": {
   "codemirror_mode": {
    "name": "ipython",
    "version": 3
   },
   "file_extension": ".py",
   "mimetype": "text/x-python",
   "name": "python",
   "nbconvert_exporter": "python",
   "pygments_lexer": "ipython3",
   "version": "3.9.7"
  }
 },
 "nbformat": 4,
 "nbformat_minor": 5
}
