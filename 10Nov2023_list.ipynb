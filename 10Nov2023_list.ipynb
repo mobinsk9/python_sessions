{
 "cells": [
  {
   "cell_type": "code",
   "execution_count": 1,
   "id": "2ab69e62",
   "metadata": {
    "ExecuteTime": {
     "end_time": "2023-11-10T14:14:05.514649Z",
     "start_time": "2023-11-10T14:14:05.499659Z"
    }
   },
   "outputs": [
    {
     "name": "stdout",
     "output_type": "stream",
     "text": [
      "Apple It is Good\n",
      "Ball It is Good\n",
      "Cat It is Better\n",
      "Dog It is Better\n",
      "Elephant It is Good\n"
     ]
    }
   ],
   "source": [
    "l1=[\"Apple\",\"Ball\",'Cat','Dog','Elephant']\n",
    "for i in l1:\n",
    "    if len(i)>3:\n",
    "        print(i,\"It is Good\")\n",
    "    else:\n",
    "        print(i,\"It is Better\")"
   ]
  },
  {
   "cell_type": "code",
   "execution_count": 3,
   "id": "5cb46053",
   "metadata": {
    "ExecuteTime": {
     "end_time": "2023-11-10T14:16:27.426222Z",
     "start_time": "2023-11-10T14:16:27.409235Z"
    }
   },
   "outputs": [
    {
     "name": "stdout",
     "output_type": "stream",
     "text": [
      "['Apple', 'Ball', 'Elephant'] ['Cat', 'Dog']\n"
     ]
    }
   ],
   "source": [
    "l1=[]\n",
    "l2=[]\n",
    "l3=[\"Apple\",\"Ball\",'Cat','Dog','Elephant']\n",
    "for i in l3:\n",
    "    if len(i)>3:\n",
    "        l1.append(i)\n",
    "    else:\n",
    "        l2.append(i)\n",
    "print(l1,l2)"
   ]
  },
  {
   "cell_type": "markdown",
   "id": "89743a52",
   "metadata": {},
   "source": [
    "$ clear$"
   ]
  },
  {
   "cell_type": "code",
   "execution_count": 5,
   "id": "76e39b3f",
   "metadata": {
    "ExecuteTime": {
     "end_time": "2023-11-10T14:21:02.621169Z",
     "start_time": "2023-11-10T14:21:02.598183Z"
    }
   },
   "outputs": [
    {
     "data": {
      "text/plain": [
       "[]"
      ]
     },
     "execution_count": 5,
     "metadata": {},
     "output_type": "execute_result"
    }
   ],
   "source": [
    "list1=[1,2,3,4,5]\n",
    "list1.clear()\n",
    "list1"
   ]
  },
  {
   "cell_type": "code",
   "execution_count": 9,
   "id": "654c221d",
   "metadata": {
    "ExecuteTime": {
     "end_time": "2023-11-10T14:25:20.547012Z",
     "start_time": "2023-11-10T14:25:20.535021Z"
    }
   },
   "outputs": [],
   "source": [
    "l1=[100,200,300,400]"
   ]
  },
  {
   "cell_type": "code",
   "execution_count": 8,
   "id": "33a6d47b",
   "metadata": {
    "ExecuteTime": {
     "end_time": "2023-11-10T14:24:21.302067Z",
     "start_time": "2023-11-10T14:24:21.291083Z"
    }
   },
   "outputs": [
    {
     "data": {
      "text/plain": [
       "['Apple']"
      ]
     },
     "execution_count": 8,
     "metadata": {},
     "output_type": "execute_result"
    }
   ],
   "source": [
    "l1"
   ]
  },
  {
   "cell_type": "code",
   "execution_count": 10,
   "id": "ca58545e",
   "metadata": {
    "ExecuteTime": {
     "end_time": "2023-11-10T14:25:30.115551Z",
     "start_time": "2023-11-10T14:25:30.097562Z"
    }
   },
   "outputs": [
    {
     "data": {
      "text/plain": [
       "400"
      ]
     },
     "execution_count": 10,
     "metadata": {},
     "output_type": "execute_result"
    }
   ],
   "source": [
    "l1.pop()"
   ]
  },
  {
   "cell_type": "code",
   "execution_count": 12,
   "id": "e255995d",
   "metadata": {
    "ExecuteTime": {
     "end_time": "2023-11-10T14:26:01.177547Z",
     "start_time": "2023-11-10T14:26:01.161557Z"
    }
   },
   "outputs": [],
   "source": [
    "l1.remove(100)"
   ]
  },
  {
   "cell_type": "code",
   "execution_count": 15,
   "id": "a0280c67",
   "metadata": {
    "ExecuteTime": {
     "end_time": "2023-11-10T14:27:07.203948Z",
     "start_time": "2023-11-10T14:27:07.186957Z"
    }
   },
   "outputs": [
    {
     "data": {
      "text/plain": [
       "[100, 200, 300]"
      ]
     },
     "execution_count": 15,
     "metadata": {},
     "output_type": "execute_result"
    }
   ],
   "source": [
    "l1=[100,100,200,300]\n",
    "l1.remove(100)\n",
    "l1"
   ]
  },
  {
   "cell_type": "code",
   "execution_count": 16,
   "id": "dc7f23e3",
   "metadata": {
    "ExecuteTime": {
     "end_time": "2023-11-10T14:32:07.346485Z",
     "start_time": "2023-11-10T14:32:07.322498Z"
    }
   },
   "outputs": [
    {
     "data": {
      "text/plain": [
       "[100, 100, 300]"
      ]
     },
     "execution_count": 16,
     "metadata": {},
     "output_type": "execute_result"
    }
   ],
   "source": [
    "l1=[100,100,200,300]\n",
    "l1.pop(2)\n",
    "l1"
   ]
  },
  {
   "cell_type": "code",
   "execution_count": 17,
   "id": "930bbd70",
   "metadata": {
    "ExecuteTime": {
     "end_time": "2023-11-10T14:34:07.244113Z",
     "start_time": "2023-11-10T14:34:07.230122Z"
    }
   },
   "outputs": [],
   "source": [
    "l1=[i for i in range(1,100,3)]"
   ]
  },
  {
   "cell_type": "code",
   "execution_count": 18,
   "id": "9c0204da",
   "metadata": {
    "ExecuteTime": {
     "end_time": "2023-11-10T14:34:09.879075Z",
     "start_time": "2023-11-10T14:34:09.859086Z"
    }
   },
   "outputs": [
    {
     "data": {
      "text/plain": [
       "[1,\n",
       " 4,\n",
       " 7,\n",
       " 10,\n",
       " 13,\n",
       " 16,\n",
       " 19,\n",
       " 22,\n",
       " 25,\n",
       " 28,\n",
       " 31,\n",
       " 34,\n",
       " 37,\n",
       " 40,\n",
       " 43,\n",
       " 46,\n",
       " 49,\n",
       " 52,\n",
       " 55,\n",
       " 58,\n",
       " 61,\n",
       " 64,\n",
       " 67,\n",
       " 70,\n",
       " 73,\n",
       " 76,\n",
       " 79,\n",
       " 82,\n",
       " 85,\n",
       " 88,\n",
       " 91,\n",
       " 94,\n",
       " 97]"
      ]
     },
     "execution_count": 18,
     "metadata": {},
     "output_type": "execute_result"
    }
   ],
   "source": [
    "l1"
   ]
  },
  {
   "cell_type": "code",
   "execution_count": 19,
   "id": "9beb0a32",
   "metadata": {
    "ExecuteTime": {
     "end_time": "2023-11-10T14:36:10.299000Z",
     "start_time": "2023-11-10T14:36:10.294003Z"
    }
   },
   "outputs": [],
   "source": [
    "l1.remove(55)"
   ]
  },
  {
   "cell_type": "code",
   "execution_count": 20,
   "id": "591c435c",
   "metadata": {
    "ExecuteTime": {
     "end_time": "2023-11-10T14:36:13.492221Z",
     "start_time": "2023-11-10T14:36:13.480232Z"
    }
   },
   "outputs": [
    {
     "data": {
      "text/plain": [
       "[1,\n",
       " 4,\n",
       " 7,\n",
       " 10,\n",
       " 13,\n",
       " 16,\n",
       " 19,\n",
       " 22,\n",
       " 25,\n",
       " 28,\n",
       " 31,\n",
       " 34,\n",
       " 37,\n",
       " 40,\n",
       " 43,\n",
       " 46,\n",
       " 49,\n",
       " 52,\n",
       " 58,\n",
       " 61,\n",
       " 64,\n",
       " 67,\n",
       " 70,\n",
       " 73,\n",
       " 76,\n",
       " 79,\n",
       " 82,\n",
       " 85,\n",
       " 88,\n",
       " 91,\n",
       " 94,\n",
       " 97]"
      ]
     },
     "execution_count": 20,
     "metadata": {},
     "output_type": "execute_result"
    }
   ],
   "source": [
    "l1"
   ]
  },
  {
   "cell_type": "code",
   "execution_count": 34,
   "id": "9ae78e34",
   "metadata": {
    "ExecuteTime": {
     "end_time": "2023-11-10T14:59:04.847710Z",
     "start_time": "2023-11-10T14:59:04.830721Z"
    }
   },
   "outputs": [
    {
     "data": {
      "text/plain": [
       "(['kl', 'virat', 'rohit'],\n",
       " ['rahul', 'kohli', 'sharma'],\n",
       " ['pune', 'blr', 'mumbai'])"
      ]
     },
     "execution_count": 34,
     "metadata": {},
     "output_type": "execute_result"
    }
   ],
   "source": [
    "l1=['kl.rahul@pune.com','virat.kohli@blr.com','rohit.sharma@mumbai.com']\n",
    "fname=[]\n",
    "sname=[]\n",
    "wname=[]\n",
    "for i in l1:\n",
    "    fname.append(i.split('.')[0])\n",
    "    sname.append(i[i.find('.')+1:i.find('@')])\n",
    "    wname.append(i[i.find('@')+1:i.find('.',i.find('.')+1)])\n",
    "fname,sname,wname"
   ]
  },
  {
   "cell_type": "code",
   "execution_count": 38,
   "id": "3caf3ec7",
   "metadata": {
    "ExecuteTime": {
     "end_time": "2023-11-10T15:08:07.759346Z",
     "start_time": "2023-11-10T15:08:07.746354Z"
    }
   },
   "outputs": [],
   "source": [
    "l1=['kl.rahul@pune.com','virat.kohli@blr.com','rohit.sharma@mumbai.com']\n",
    "fname=[i.split('.')[0] for i in l1]\n",
    "sname=[i[i.find('.')+1:i.find('@')] for i in l1]\n",
    "wname=[i[i.find('@')+1:i.find('.',i.find('.')+1)] for i in l1]"
   ]
  },
  {
   "cell_type": "code",
   "execution_count": 39,
   "id": "4e3cd37f",
   "metadata": {
    "ExecuteTime": {
     "end_time": "2023-11-10T15:08:15.797592Z",
     "start_time": "2023-11-10T15:08:15.789597Z"
    }
   },
   "outputs": [
    {
     "data": {
      "text/plain": [
       "(['kl', 'virat', 'rohit'],\n",
       " ['rahul', 'kohli', 'sharma'],\n",
       " ['pune', 'blr', 'mumbai'])"
      ]
     },
     "execution_count": 39,
     "metadata": {},
     "output_type": "execute_result"
    }
   ],
   "source": [
    "fname,sname,wname"
   ]
  },
  {
   "cell_type": "code",
   "execution_count": 45,
   "id": "7819c270",
   "metadata": {
    "ExecuteTime": {
     "end_time": "2023-11-10T15:11:53.120316Z",
     "start_time": "2023-11-10T15:11:53.109323Z"
    }
   },
   "outputs": [
    {
     "data": {
      "text/plain": [
       "['kl.rahul@pune.com', 'virat.kohli@blr.com', 'rohit.sharma@mumbai.com']"
      ]
     },
     "execution_count": 45,
     "metadata": {},
     "output_type": "execute_result"
    }
   ],
   "source": [
    "l2=l1.copy()\n",
    "l2"
   ]
  },
  {
   "cell_type": "code",
   "execution_count": 48,
   "id": "32649e22",
   "metadata": {
    "ExecuteTime": {
     "end_time": "2023-11-10T15:12:37.548934Z",
     "start_time": "2023-11-10T15:12:37.530945Z"
    }
   },
   "outputs": [
    {
     "data": {
      "text/plain": [
       "['kl.rahul@pune.com', 'virat.kohli@blr.com', 'rohit.sharma@mumbai.com']"
      ]
     },
     "execution_count": 48,
     "metadata": {},
     "output_type": "execute_result"
    }
   ],
   "source": [
    "l1.clear()\n",
    "l1\n",
    "l2"
   ]
  },
  {
   "cell_type": "code",
   "execution_count": 44,
   "id": "30f4cfe5",
   "metadata": {
    "ExecuteTime": {
     "end_time": "2023-11-10T15:11:24.377490Z",
     "start_time": "2023-11-10T15:11:24.354516Z"
    }
   },
   "outputs": [
    {
     "data": {
      "text/plain": [
       "['kl.rahul@pune.com', 'virat.kohli@blr.com', 'rohit.sharma@mumbai.com']"
      ]
     },
     "execution_count": 44,
     "metadata": {},
     "output_type": "execute_result"
    }
   ],
   "source": [
    "l2=l1\n",
    "l2"
   ]
  },
  {
   "cell_type": "code",
   "execution_count": 49,
   "id": "b683fd38",
   "metadata": {
    "ExecuteTime": {
     "end_time": "2023-11-10T15:13:13.876241Z",
     "start_time": "2023-11-10T15:13:13.863253Z"
    }
   },
   "outputs": [],
   "source": [
    "l1.clear()"
   ]
  },
  {
   "cell_type": "code",
   "execution_count": 50,
   "id": "6a90ab18",
   "metadata": {
    "ExecuteTime": {
     "end_time": "2023-11-10T15:13:18.572023Z",
     "start_time": "2023-11-10T15:13:18.563029Z"
    }
   },
   "outputs": [
    {
     "data": {
      "text/plain": [
       "[]"
      ]
     },
     "execution_count": 50,
     "metadata": {},
     "output_type": "execute_result"
    }
   ],
   "source": [
    "l1"
   ]
  },
  {
   "cell_type": "code",
   "execution_count": 51,
   "id": "0e54ed31",
   "metadata": {
    "ExecuteTime": {
     "end_time": "2023-11-10T15:13:21.112951Z",
     "start_time": "2023-11-10T15:13:21.089984Z"
    }
   },
   "outputs": [
    {
     "data": {
      "text/plain": [
       "['kl.rahul@pune.com', 'virat.kohli@blr.com', 'rohit.sharma@mumbai.com']"
      ]
     },
     "execution_count": 51,
     "metadata": {},
     "output_type": "execute_result"
    }
   ],
   "source": [
    "l2"
   ]
  },
  {
   "cell_type": "code",
   "execution_count": 58,
   "id": "cd6fcec6",
   "metadata": {
    "ExecuteTime": {
     "end_time": "2023-11-10T15:17:06.162014Z",
     "start_time": "2023-11-10T15:17:06.148022Z"
    }
   },
   "outputs": [
    {
     "name": "stdout",
     "output_type": "stream",
     "text": [
      "[1, 2, 3, 5]\n",
      "['a', 'b', 'c', 1, 2, 3, 5]\n"
     ]
    }
   ],
   "source": [
    "l1=[1,2,3,5]\n",
    "l2=['a','b','c']\n",
    "l2.extend(l1)\n",
    "print(l1)\n",
    "print(l2)"
   ]
  },
  {
   "cell_type": "code",
   "execution_count": 59,
   "id": "486c0308",
   "metadata": {
    "ExecuteTime": {
     "end_time": "2023-11-10T15:17:21.490060Z",
     "start_time": "2023-11-10T15:17:21.479066Z"
    }
   },
   "outputs": [
    {
     "name": "stdout",
     "output_type": "stream",
     "text": [
      "[1, 2, 3, 5, 'a', 'b', 'c']\n",
      "['a', 'b', 'c']\n"
     ]
    }
   ],
   "source": [
    "l1=[1,2,3,5]\n",
    "l2=['a','b','c']\n",
    "l1.extend(l2)\n",
    "print(l1)\n",
    "print(l2)"
   ]
  },
  {
   "cell_type": "markdown",
   "id": "d883d89a",
   "metadata": {},
   "source": [
    "ZIP"
   ]
  },
  {
   "cell_type": "code",
   "execution_count": 66,
   "id": "868f65a6",
   "metadata": {
    "ExecuteTime": {
     "end_time": "2023-11-10T15:24:09.724263Z",
     "start_time": "2023-11-10T15:24:09.710271Z"
    }
   },
   "outputs": [
    {
     "name": "stdout",
     "output_type": "stream",
     "text": [
      "ram age is: 20\n",
      "raheem age is: 25\n",
      "robbert age is: 30\n"
     ]
    }
   ],
   "source": [
    "list1=['ram','raheem','robbert']\n",
    "list2=[20,25,30]\n",
    "for i,j in zip(list1,list2):\n",
    "    print(i,'age is:',j)"
   ]
  },
  {
   "cell_type": "code",
   "execution_count": 68,
   "id": "a7b2c391",
   "metadata": {
    "ExecuteTime": {
     "end_time": "2023-11-10T15:27:10.255626Z",
     "start_time": "2023-11-10T15:27:10.232640Z"
    }
   },
   "outputs": [
    {
     "name": "stdout",
     "output_type": "stream",
     "text": [
      "ram age is: 20 Salary is: 20000\n",
      "raheem age is: 25 Salary is: 25000\n",
      "robbert age is: 30 Salary is: 3000\n"
     ]
    }
   ],
   "source": [
    "list1=['ram','raheem','robbert']\n",
    "list2=[20,25,30]\n",
    "list3=[20000,25000,3000]\n",
    "for i,j,k in zip(list1,list2,list3):\n",
    "    print(i,'age is:',j,'Salary is:',k)"
   ]
  },
  {
   "cell_type": "code",
   "execution_count": 70,
   "id": "23a9b46f",
   "metadata": {
    "ExecuteTime": {
     "end_time": "2023-11-10T15:28:18.669482Z",
     "start_time": "2023-11-10T15:28:18.648495Z"
    }
   },
   "outputs": [
    {
     "data": {
      "text/plain": [
       "['a', 'b', 'c', 'v']"
      ]
     },
     "execution_count": 70,
     "metadata": {},
     "output_type": "execute_result"
    }
   ],
   "source": [
    "l1=['v','c','a','b']\n",
    "l1.sort()  # Default ascending\n",
    "l1"
   ]
  },
  {
   "cell_type": "code",
   "execution_count": 72,
   "id": "73707d60",
   "metadata": {
    "ExecuteTime": {
     "end_time": "2023-11-10T15:28:35.302131Z",
     "start_time": "2023-11-10T15:28:35.289140Z"
    }
   },
   "outputs": [
    {
     "data": {
      "text/plain": [
       "['v', 'c', 'b', 'a']"
      ]
     },
     "execution_count": 72,
     "metadata": {},
     "output_type": "execute_result"
    }
   ],
   "source": [
    "l1.sort(reverse=True)\n",
    "l1"
   ]
  },
  {
   "cell_type": "code",
   "execution_count": 73,
   "id": "50f91f58",
   "metadata": {
    "ExecuteTime": {
     "end_time": "2023-11-10T15:30:50.809510Z",
     "start_time": "2023-11-10T15:30:50.798516Z"
    }
   },
   "outputs": [
    {
     "data": {
      "text/plain": [
       "['a', 'b', 'c', 'v']"
      ]
     },
     "execution_count": 73,
     "metadata": {},
     "output_type": "execute_result"
    }
   ],
   "source": [
    "sorted(l1)"
   ]
  },
  {
   "cell_type": "code",
   "execution_count": 75,
   "id": "9e2985c4",
   "metadata": {
    "ExecuteTime": {
     "end_time": "2023-11-10T15:31:53.717545Z",
     "start_time": "2023-11-10T15:31:53.707555Z"
    }
   },
   "outputs": [
    {
     "data": {
      "text/plain": [
       "['v', 'c', 'b', 'a']"
      ]
     },
     "execution_count": 75,
     "metadata": {},
     "output_type": "execute_result"
    }
   ],
   "source": [
    "sorted(l1,reverse=True)"
   ]
  },
  {
   "cell_type": "markdown",
   "id": "a900628b",
   "metadata": {
    "ExecuteTime": {
     "end_time": "2023-11-10T15:34:11.954786Z",
     "start_time": "2023-11-10T15:34:11.943793Z"
    }
   },
   "source": [
    "- In the sort method result will automatically save in the same list\n",
    "- In sorted keyword result will not saving"
   ]
  },
  {
   "cell_type": "code",
   "execution_count": 77,
   "id": "a6c55828",
   "metadata": {
    "ExecuteTime": {
     "end_time": "2023-11-10T15:38:29.540226Z",
     "start_time": "2023-11-10T15:38:29.521229Z"
    }
   },
   "outputs": [
    {
     "data": {
      "text/plain": [
       "'apple'"
      ]
     },
     "execution_count": 77,
     "metadata": {},
     "output_type": "execute_result"
    }
   ],
   "source": [
    "list1=['a','p','p','l','e']\n",
    "''.join(list1)"
   ]
  },
  {
   "cell_type": "code",
   "execution_count": 78,
   "id": "49aac37c",
   "metadata": {
    "ExecuteTime": {
     "end_time": "2023-11-10T15:40:45.320605Z",
     "start_time": "2023-11-10T15:40:45.304622Z"
    }
   },
   "outputs": [
    {
     "data": {
      "text/plain": [
       "['v', 'c', 'b', 'a']"
      ]
     },
     "execution_count": 78,
     "metadata": {},
     "output_type": "execute_result"
    }
   ],
   "source": [
    "l1"
   ]
  },
  {
   "cell_type": "code",
   "execution_count": 79,
   "id": "e55accfc",
   "metadata": {
    "ExecuteTime": {
     "end_time": "2023-11-10T15:40:59.587270Z",
     "start_time": "2023-11-10T15:40:59.572278Z"
    }
   },
   "outputs": [],
   "source": [
    "l1.insert(2,'H')"
   ]
  },
  {
   "cell_type": "code",
   "execution_count": 80,
   "id": "7e54aa25",
   "metadata": {
    "ExecuteTime": {
     "end_time": "2023-11-10T15:41:02.552437Z",
     "start_time": "2023-11-10T15:41:02.535447Z"
    }
   },
   "outputs": [
    {
     "data": {
      "text/plain": [
       "['v', 'c', 'H', 'b', 'a']"
      ]
     },
     "execution_count": 80,
     "metadata": {},
     "output_type": "execute_result"
    }
   ],
   "source": [
    "l1"
   ]
  },
  {
   "cell_type": "code",
   "execution_count": null,
   "id": "4786fb4a",
   "metadata": {},
   "outputs": [],
   "source": []
  },
  {
   "cell_type": "code",
   "execution_count": null,
   "id": "89c35e8e",
   "metadata": {},
   "outputs": [],
   "source": []
  }
 ],
 "metadata": {
  "kernelspec": {
   "display_name": "Python 3 (ipykernel)",
   "language": "python",
   "name": "python3"
  },
  "language_info": {
   "codemirror_mode": {
    "name": "ipython",
    "version": 3
   },
   "file_extension": ".py",
   "mimetype": "text/x-python",
   "name": "python",
   "nbconvert_exporter": "python",
   "pygments_lexer": "ipython3",
   "version": "3.9.7"
  }
 },
 "nbformat": 4,
 "nbformat_minor": 5
}
