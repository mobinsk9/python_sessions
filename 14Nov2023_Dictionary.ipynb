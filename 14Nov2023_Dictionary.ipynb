{
 "cells": [
  {
   "cell_type": "code",
   "execution_count": 5,
   "id": "91dca131",
   "metadata": {
    "ExecuteTime": {
     "end_time": "2023-11-14T14:16:33.109856Z",
     "start_time": "2023-11-14T14:16:33.098860Z"
    }
   },
   "outputs": [
    {
     "name": "stdout",
     "output_type": "stream",
     "text": [
      "The Ram age is 25\n",
      "The Raheem age is 30\n",
      "The Robert age is 35\n"
     ]
    }
   ],
   "source": [
    "names=['Ram','Raheem','Robert']\n",
    "age=[25,30,35]\n",
    "for i,j in zip(names,age):\n",
    "    print(\"The {} age is {}\".format(i,j))"
   ]
  },
  {
   "cell_type": "markdown",
   "id": "0b339925",
   "metadata": {},
   "source": [
    "**key-value** pair concept"
   ]
  },
  {
   "cell_type": "code",
   "execution_count": null,
   "id": "e9a1aa1e",
   "metadata": {},
   "outputs": [],
   "source": [
    "{key:value}"
   ]
  },
  {
   "cell_type": "code",
   "execution_count": 6,
   "id": "171f5dca",
   "metadata": {
    "ExecuteTime": {
     "end_time": "2023-11-14T14:19:48.220543Z",
     "start_time": "2023-11-14T14:19:48.211549Z"
    }
   },
   "outputs": [],
   "source": [
    "name_age={'Ram':25,\n",
    "          'Raheem':30,\n",
    "          'Robert':35}"
   ]
  },
  {
   "cell_type": "code",
   "execution_count": 7,
   "id": "df02d50d",
   "metadata": {
    "ExecuteTime": {
     "end_time": "2023-11-14T14:19:59.903011Z",
     "start_time": "2023-11-14T14:19:59.876025Z"
    }
   },
   "outputs": [
    {
     "data": {
      "text/plain": [
       "{'Ram': 25, 'Raheem': 30, 'Robert': 35}"
      ]
     },
     "execution_count": 7,
     "metadata": {},
     "output_type": "execute_result"
    }
   ],
   "source": [
    "name_age"
   ]
  },
  {
   "cell_type": "code",
   "execution_count": 8,
   "id": "654a09dd",
   "metadata": {
    "ExecuteTime": {
     "end_time": "2023-11-14T14:20:08.308669Z",
     "start_time": "2023-11-14T14:20:08.286683Z"
    }
   },
   "outputs": [
    {
     "data": {
      "text/plain": [
       "dict"
      ]
     },
     "execution_count": 8,
     "metadata": {},
     "output_type": "execute_result"
    }
   ],
   "source": [
    "type(name_age)"
   ]
  },
  {
   "cell_type": "code",
   "execution_count": 9,
   "id": "899bcdcc",
   "metadata": {
    "ExecuteTime": {
     "end_time": "2023-11-14T14:20:20.961583Z",
     "start_time": "2023-11-14T14:20:20.952592Z"
    }
   },
   "outputs": [
    {
     "data": {
      "text/plain": [
       "3"
      ]
     },
     "execution_count": 9,
     "metadata": {},
     "output_type": "execute_result"
    }
   ],
   "source": [
    "len(name_age)"
   ]
  },
  {
   "cell_type": "code",
   "execution_count": 10,
   "id": "f16f2de4",
   "metadata": {
    "ExecuteTime": {
     "end_time": "2023-11-14T14:20:31.272130Z",
     "start_time": "2023-11-14T14:20:31.251141Z"
    }
   },
   "outputs": [
    {
     "data": {
      "text/plain": [
       "'Raheem'"
      ]
     },
     "execution_count": 10,
     "metadata": {},
     "output_type": "execute_result"
    }
   ],
   "source": [
    "min(name_age)"
   ]
  },
  {
   "cell_type": "code",
   "execution_count": 11,
   "id": "007799ca",
   "metadata": {
    "ExecuteTime": {
     "end_time": "2023-11-14T14:20:40.160970Z",
     "start_time": "2023-11-14T14:20:40.152975Z"
    }
   },
   "outputs": [
    {
     "data": {
      "text/plain": [
       "'Robert'"
      ]
     },
     "execution_count": 11,
     "metadata": {},
     "output_type": "execute_result"
    }
   ],
   "source": [
    "max(name_age)"
   ]
  },
  {
   "cell_type": "code",
   "execution_count": 16,
   "id": "882c8f8c",
   "metadata": {
    "ExecuteTime": {
     "end_time": "2023-11-14T14:22:49.654655Z",
     "start_time": "2023-11-14T14:22:49.646659Z"
    }
   },
   "outputs": [
    {
     "name": "stdout",
     "output_type": "stream",
     "text": [
      "['False', 'None', 'True', '__peg_parser__', 'and', 'as', 'assert', 'async', 'await', 'break', 'class', 'continue', 'def', 'del', 'elif', 'else', 'except', 'finally', 'for', 'from', 'global', 'if', 'import', 'in', 'is', 'lambda', 'nonlocal', 'not', 'or', 'pass', 'raise', 'return', 'try', 'while', 'with', 'yield']\n"
     ]
    }
   ],
   "source": [
    "import keyword as kw\n",
    "print(kw.kwlist)"
   ]
  },
  {
   "cell_type": "markdown",
   "id": "7f22c519",
   "metadata": {},
   "source": [
    "- max and min values are based on keys only not values"
   ]
  },
  {
   "cell_type": "code",
   "execution_count": 21,
   "id": "b008cfdd",
   "metadata": {
    "ExecuteTime": {
     "end_time": "2023-11-14T14:27:45.462833Z",
     "start_time": "2023-11-14T14:27:45.450836Z"
    }
   },
   "outputs": [],
   "source": [
    "d1={'names':['Ram','Robert','Raheem'],\n",
    "    'age':[25,30,35]}"
   ]
  },
  {
   "cell_type": "code",
   "execution_count": 23,
   "id": "aa62ce25",
   "metadata": {
    "ExecuteTime": {
     "end_time": "2023-11-14T14:28:14.270050Z",
     "start_time": "2023-11-14T14:28:14.257058Z"
    }
   },
   "outputs": [
    {
     "data": {
      "text/plain": [
       "{25: 'Abc'}"
      ]
     },
     "execution_count": 23,
     "metadata": {},
     "output_type": "execute_result"
    }
   ],
   "source": [
    "d2={25:\"Abc\"}\n",
    "d2"
   ]
  },
  {
   "cell_type": "code",
   "execution_count": 24,
   "id": "5b1d7d1f",
   "metadata": {
    "ExecuteTime": {
     "end_time": "2023-11-14T14:28:57.208419Z",
     "start_time": "2023-11-14T14:28:57.181409Z"
    }
   },
   "outputs": [
    {
     "ename": "TypeError",
     "evalue": "unhashable type: 'list'",
     "output_type": "error",
     "traceback": [
      "\u001b[1;31m---------------------------------------------------------------------------\u001b[0m",
      "\u001b[1;31mTypeError\u001b[0m                                 Traceback (most recent call last)",
      "\u001b[1;32m~\\AppData\\Local\\Temp/ipykernel_6440/2058160983.py\u001b[0m in \u001b[0;36m<module>\u001b[1;34m\u001b[0m\n\u001b[1;32m----> 1\u001b[1;33m \u001b[0md4\u001b[0m\u001b[1;33m=\u001b[0m\u001b[1;33m{\u001b[0m\u001b[1;33m[\u001b[0m\u001b[1;34m'Ram'\u001b[0m\u001b[1;33m,\u001b[0m\u001b[1;34m'Robert'\u001b[0m\u001b[1;33m,\u001b[0m\u001b[1;34m'Raheem'\u001b[0m\u001b[1;33m]\u001b[0m\u001b[1;33m:\u001b[0m\u001b[1;34m'names'\u001b[0m\u001b[1;33m}\u001b[0m\u001b[1;33m\u001b[0m\u001b[1;33m\u001b[0m\u001b[0m\n\u001b[0m",
      "\u001b[1;31mTypeError\u001b[0m: unhashable type: 'list'"
     ]
    }
   ],
   "source": [
    "d4={['Ram','Robert','Raheem']:'names'}"
   ]
  },
  {
   "cell_type": "markdown",
   "id": "69e4bef7",
   "metadata": {},
   "source": [
    "- Key should be 1 and values many"
   ]
  },
  {
   "cell_type": "code",
   "execution_count": 25,
   "id": "d10434be",
   "metadata": {
    "ExecuteTime": {
     "end_time": "2023-11-14T14:30:02.708718Z",
     "start_time": "2023-11-14T14:30:02.703744Z"
    }
   },
   "outputs": [],
   "source": [
    "d5={25:35}"
   ]
  },
  {
   "cell_type": "code",
   "execution_count": 27,
   "id": "fcd50689",
   "metadata": {
    "ExecuteTime": {
     "end_time": "2023-11-14T14:32:14.780856Z",
     "start_time": "2023-11-14T14:32:14.758868Z"
    }
   },
   "outputs": [
    {
     "data": {
      "text/plain": [
       "{'A': 'Apple', 'B': 10.5, 'C': (10+2j), 12: ['A', 'B', 'C']}"
      ]
     },
     "execution_count": 27,
     "metadata": {},
     "output_type": "execute_result"
    }
   ],
   "source": [
    "d6={'A':\"Apple\",\n",
    "   'B':10.5,\n",
    "   'C':10+2j,\n",
    "   12:['A','B','C']}\n",
    "d6"
   ]
  },
  {
   "cell_type": "code",
   "execution_count": 28,
   "id": "8730b77e",
   "metadata": {
    "ExecuteTime": {
     "end_time": "2023-11-14T14:33:31.401582Z",
     "start_time": "2023-11-14T14:33:31.378594Z"
    }
   },
   "outputs": [
    {
     "ename": "TypeError",
     "evalue": "unhashable type: 'list'",
     "output_type": "error",
     "traceback": [
      "\u001b[1;31m---------------------------------------------------------------------------\u001b[0m",
      "\u001b[1;31mTypeError\u001b[0m                                 Traceback (most recent call last)",
      "\u001b[1;32m~\\AppData\\Local\\Temp/ipykernel_6440/1992476572.py\u001b[0m in \u001b[0;36m<module>\u001b[1;34m\u001b[0m\n\u001b[1;32m----> 1\u001b[1;33m d7={['A']:\"Apple\",\n\u001b[0m\u001b[0;32m      2\u001b[0m    \u001b[1;34m'B'\u001b[0m\u001b[1;33m:\u001b[0m\u001b[1;36m10.5\u001b[0m\u001b[1;33m,\u001b[0m\u001b[1;33m\u001b[0m\u001b[1;33m\u001b[0m\u001b[0m\n\u001b[0;32m      3\u001b[0m    \u001b[1;34m'C'\u001b[0m\u001b[1;33m:\u001b[0m\u001b[1;36m10\u001b[0m\u001b[1;33m+\u001b[0m\u001b[1;36m2j\u001b[0m\u001b[1;33m,\u001b[0m\u001b[1;33m\u001b[0m\u001b[1;33m\u001b[0m\u001b[0m\n\u001b[0;32m      4\u001b[0m    12:['A','B','C']}\n\u001b[0;32m      5\u001b[0m \u001b[0md7\u001b[0m\u001b[1;33m\u001b[0m\u001b[1;33m\u001b[0m\u001b[0m\n",
      "\u001b[1;31mTypeError\u001b[0m: unhashable type: 'list'"
     ]
    }
   ],
   "source": [
    "d7={['A']:\"Apple\",\n",
    "   'B':10.5,\n",
    "   'C':10+2j,\n",
    "   12:['A','B','C']}\n",
    "d7"
   ]
  },
  {
   "cell_type": "code",
   "execution_count": 29,
   "id": "87198e6b",
   "metadata": {
    "ExecuteTime": {
     "end_time": "2023-11-14T14:34:23.710713Z",
     "start_time": "2023-11-14T14:34:23.699722Z"
    }
   },
   "outputs": [
    {
     "data": {
      "text/plain": [
       "{'fruits': {'like': ['Apple', 'Cherry']}}"
      ]
     },
     "execution_count": 29,
     "metadata": {},
     "output_type": "execute_result"
    }
   ],
   "source": [
    "d8={\"fruits\":{'like':['Apple','Cherry']}}   \n",
    "d8"
   ]
  },
  {
   "cell_type": "markdown",
   "id": "e8867106",
   "metadata": {},
   "source": [
    "- Dict in Dict is known as JSON "
   ]
  },
  {
   "cell_type": "markdown",
   "id": "85d0dad3",
   "metadata": {},
   "source": [
    "- If you provide multiple values at Key position it fails"
   ]
  },
  {
   "cell_type": "code",
   "execution_count": 31,
   "id": "d8945505",
   "metadata": {
    "ExecuteTime": {
     "end_time": "2023-11-14T14:36:19.082657Z",
     "start_time": "2023-11-14T14:36:19.062669Z"
    }
   },
   "outputs": [
    {
     "data": {
      "text/plain": [
       "{'Mobin': 'Amazon'}"
      ]
     },
     "execution_count": 31,
     "metadata": {},
     "output_type": "execute_result"
    }
   ],
   "source": [
    "d9={'Mobin':'Amazon','Mobin':'Amazon'}\n",
    "d9"
   ]
  },
  {
   "cell_type": "markdown",
   "id": "eefb1ed9",
   "metadata": {},
   "source": [
    "- Duplicates are not allowed in Dictionary"
   ]
  },
  {
   "cell_type": "code",
   "execution_count": 33,
   "id": "e4d316db",
   "metadata": {
    "ExecuteTime": {
     "end_time": "2023-11-14T14:37:26.894488Z",
     "start_time": "2023-11-14T14:37:26.879494Z"
    }
   },
   "outputs": [
    {
     "data": {
      "text/plain": [
       "{'Ravi': 35}"
      ]
     },
     "execution_count": 33,
     "metadata": {},
     "output_type": "execute_result"
    }
   ],
   "source": [
    "d10={'Ravi':25,'Ravi':35}\n",
    "d10"
   ]
  },
  {
   "cell_type": "markdown",
   "id": "3aa58d8d",
   "metadata": {},
   "source": [
    "- If keys are same the last value will take"
   ]
  },
  {
   "cell_type": "code",
   "execution_count": 34,
   "id": "34ff8367",
   "metadata": {
    "ExecuteTime": {
     "end_time": "2023-11-14T14:39:27.882168Z",
     "start_time": "2023-11-14T14:39:27.873196Z"
    }
   },
   "outputs": [
    {
     "data": {
      "text/plain": [
       "{'Mobin': 'TCS'}"
      ]
     },
     "execution_count": 34,
     "metadata": {},
     "output_type": "execute_result"
    }
   ],
   "source": [
    "d11={'Mobin':'Amazon','Mobin':'TCS'}\n",
    "d11"
   ]
  },
  {
   "cell_type": "code",
   "execution_count": 36,
   "id": "f50481e3",
   "metadata": {
    "ExecuteTime": {
     "end_time": "2023-11-14T14:43:07.863852Z",
     "start_time": "2023-11-14T14:43:07.843862Z"
    }
   },
   "outputs": [],
   "source": [
    "d1={'Ram':25,'Raheem':30,'Robert':35}"
   ]
  },
  {
   "cell_type": "code",
   "execution_count": 37,
   "id": "126dcdb7",
   "metadata": {
    "ExecuteTime": {
     "end_time": "2023-11-14T14:43:16.930757Z",
     "start_time": "2023-11-14T14:43:16.916763Z"
    }
   },
   "outputs": [
    {
     "name": "stdout",
     "output_type": "stream",
     "text": [
      "Ram\n",
      "Raheem\n",
      "Robert\n"
     ]
    }
   ],
   "source": [
    "for i in d1:\n",
    "    print(i)"
   ]
  },
  {
   "cell_type": "code",
   "execution_count": 38,
   "id": "4c782f8e",
   "metadata": {
    "ExecuteTime": {
     "end_time": "2023-11-14T14:45:16.076821Z",
     "start_time": "2023-11-14T14:45:16.048839Z"
    }
   },
   "outputs": [
    {
     "ename": "KeyError",
     "evalue": "0",
     "output_type": "error",
     "traceback": [
      "\u001b[1;31m---------------------------------------------------------------------------\u001b[0m",
      "\u001b[1;31mKeyError\u001b[0m                                  Traceback (most recent call last)",
      "\u001b[1;32m~\\AppData\\Local\\Temp/ipykernel_6440/3367005619.py\u001b[0m in \u001b[0;36m<module>\u001b[1;34m\u001b[0m\n\u001b[1;32m----> 1\u001b[1;33m \u001b[0md1\u001b[0m\u001b[1;33m[\u001b[0m\u001b[1;36m0\u001b[0m\u001b[1;33m]\u001b[0m\u001b[1;33m\u001b[0m\u001b[1;33m\u001b[0m\u001b[0m\n\u001b[0m",
      "\u001b[1;31mKeyError\u001b[0m: 0"
     ]
    }
   ],
   "source": [
    "d1[0]"
   ]
  },
  {
   "cell_type": "markdown",
   "id": "6b27c273",
   "metadata": {},
   "source": [
    "- We can't fetch the data with index for dictionary"
   ]
  },
  {
   "cell_type": "code",
   "execution_count": 39,
   "id": "fcbbb272",
   "metadata": {
    "ExecuteTime": {
     "end_time": "2023-11-14T14:46:35.825161Z",
     "start_time": "2023-11-14T14:46:35.809149Z"
    }
   },
   "outputs": [
    {
     "data": {
      "text/plain": [
       "25"
      ]
     },
     "execution_count": 39,
     "metadata": {},
     "output_type": "execute_result"
    }
   ],
   "source": [
    "d1['Ram']"
   ]
  },
  {
   "cell_type": "markdown",
   "id": "718d418a",
   "metadata": {},
   "source": [
    "- Dictionary vales retrive based on Keys and with index it will fail"
   ]
  },
  {
   "cell_type": "code",
   "execution_count": 40,
   "id": "f5b08615",
   "metadata": {
    "ExecuteTime": {
     "end_time": "2023-11-14T14:47:59.193587Z",
     "start_time": "2023-11-14T14:47:59.179599Z"
    }
   },
   "outputs": [
    {
     "data": {
      "text/plain": [
       "(25, 30, 35)"
      ]
     },
     "execution_count": 40,
     "metadata": {},
     "output_type": "execute_result"
    }
   ],
   "source": [
    "d1['Ram'],d1['Raheem'],d1['Robert']"
   ]
  },
  {
   "cell_type": "code",
   "execution_count": 45,
   "id": "943f9315",
   "metadata": {
    "ExecuteTime": {
     "end_time": "2023-11-14T14:53:12.485103Z",
     "start_time": "2023-11-14T14:53:12.468114Z"
    }
   },
   "outputs": [
    {
     "name": "stdout",
     "output_type": "stream",
     "text": [
      "Ram 25\n",
      "Raheem 30\n",
      "Robert 35\n"
     ]
    }
   ],
   "source": [
    "for i in  d1:\n",
    "    print(i,d1[i])"
   ]
  },
  {
   "cell_type": "code",
   "execution_count": 43,
   "id": "d8b46180",
   "metadata": {
    "ExecuteTime": {
     "end_time": "2023-11-14T14:50:53.925124Z",
     "start_time": "2023-11-14T14:50:53.907133Z"
    }
   },
   "outputs": [],
   "source": [
    "number=20,30"
   ]
  },
  {
   "cell_type": "code",
   "execution_count": 44,
   "id": "755c426a",
   "metadata": {
    "ExecuteTime": {
     "end_time": "2023-11-14T14:50:56.959796Z",
     "start_time": "2023-11-14T14:50:56.948801Z"
    }
   },
   "outputs": [
    {
     "data": {
      "text/plain": [
       "(20, 30)"
      ]
     },
     "execution_count": 44,
     "metadata": {},
     "output_type": "execute_result"
    }
   ],
   "source": [
    "number"
   ]
  },
  {
   "cell_type": "code",
   "execution_count": 52,
   "id": "b5c6723c",
   "metadata": {
    "ExecuteTime": {
     "end_time": "2023-11-14T15:00:34.505976Z",
     "start_time": "2023-11-14T15:00:34.496959Z"
    }
   },
   "outputs": [],
   "source": [
    "d2={'names':[\"Ram\",\"Robert\",'Raheem'],\n",
    "   'ages':[25,30,35]}"
   ]
  },
  {
   "cell_type": "code",
   "execution_count": 54,
   "id": "99ea5338",
   "metadata": {
    "ExecuteTime": {
     "end_time": "2023-11-14T15:01:40.784795Z",
     "start_time": "2023-11-14T15:01:40.765805Z"
    }
   },
   "outputs": [
    {
     "ename": "TypeError",
     "evalue": "unhashable type: 'list'",
     "output_type": "error",
     "traceback": [
      "\u001b[1;31m---------------------------------------------------------------------------\u001b[0m",
      "\u001b[1;31mTypeError\u001b[0m                                 Traceback (most recent call last)",
      "\u001b[1;32m~\\AppData\\Local\\Temp/ipykernel_6440/2386092473.py\u001b[0m in \u001b[0;36m<module>\u001b[1;34m\u001b[0m\n\u001b[0;32m      1\u001b[0m \u001b[1;32mfor\u001b[0m \u001b[0mi\u001b[0m \u001b[1;32min\u001b[0m \u001b[0mrange\u001b[0m\u001b[1;33m(\u001b[0m\u001b[1;36m3\u001b[0m\u001b[1;33m)\u001b[0m\u001b[1;33m:\u001b[0m\u001b[1;33m\u001b[0m\u001b[1;33m\u001b[0m\u001b[0m\n\u001b[1;32m----> 2\u001b[1;33m     \u001b[0mprint\u001b[0m\u001b[1;33m(\u001b[0m\u001b[0md2\u001b[0m\u001b[1;33m[\u001b[0m\u001b[0mnames\u001b[0m\u001b[1;33m]\u001b[0m\u001b[1;33m[\u001b[0m\u001b[0mi\u001b[0m\u001b[1;33m]\u001b[0m\u001b[1;33m,\u001b[0m\u001b[0md2\u001b[0m\u001b[1;33m[\u001b[0m\u001b[1;34m'ages'\u001b[0m\u001b[1;33m]\u001b[0m\u001b[1;33m[\u001b[0m\u001b[0mi\u001b[0m\u001b[1;33m]\u001b[0m\u001b[1;33m)\u001b[0m\u001b[1;33m\u001b[0m\u001b[1;33m\u001b[0m\u001b[0m\n\u001b[0m",
      "\u001b[1;31mTypeError\u001b[0m: unhashable type: 'list'"
     ]
    }
   ],
   "source": [
    "for i in range(3):\n",
    "    print(d2[names][i],d2['ages'][i])"
   ]
  },
  {
   "cell_type": "code",
   "execution_count": 56,
   "id": "167ff451",
   "metadata": {
    "ExecuteTime": {
     "end_time": "2023-11-14T15:04:39.711624Z",
     "start_time": "2023-11-14T15:04:39.698632Z"
    }
   },
   "outputs": [],
   "source": [
    "d1={\"Hello\":{\"Hello\":{\"Hello\":{\"Hello\":'Python'}}}}"
   ]
  },
  {
   "cell_type": "code",
   "execution_count": 57,
   "id": "3bf9ec9e",
   "metadata": {
    "ExecuteTime": {
     "end_time": "2023-11-14T15:05:07.535636Z",
     "start_time": "2023-11-14T15:05:07.520645Z"
    }
   },
   "outputs": [
    {
     "data": {
      "text/plain": [
       "'Python'"
      ]
     },
     "execution_count": 57,
     "metadata": {},
     "output_type": "execute_result"
    }
   ],
   "source": [
    "d1[\"Hello\"][\"Hello\"][\"Hello\"][\"Hello\"]"
   ]
  },
  {
   "cell_type": "code",
   "execution_count": 59,
   "id": "56cf95c6",
   "metadata": {
    "ExecuteTime": {
     "end_time": "2023-11-14T15:07:36.309331Z",
     "start_time": "2023-11-14T15:07:36.296332Z"
    }
   },
   "outputs": [],
   "source": [
    "d2={'Hello':[{\"fruits\":['Apple','banana',{'like':[\"Cherry\"]}\n",
    "                       ]\n",
    "             }]}"
   ]
  },
  {
   "cell_type": "code",
   "execution_count": 75,
   "id": "788cab14",
   "metadata": {
    "ExecuteTime": {
     "end_time": "2023-11-14T15:09:50.303294Z",
     "start_time": "2023-11-14T15:09:50.281308Z"
    }
   },
   "outputs": [
    {
     "data": {
      "text/plain": [
       "'Cherry'"
      ]
     },
     "execution_count": 75,
     "metadata": {},
     "output_type": "execute_result"
    }
   ],
   "source": [
    "d2[\"Hello\"][0][\"fruits\"][2][\"like\"][0]"
   ]
  },
  {
   "cell_type": "code",
   "execution_count": null,
   "id": "626bba50",
   "metadata": {},
   "outputs": [],
   "source": []
  },
  {
   "cell_type": "code",
   "execution_count": null,
   "id": "67b2c6c8",
   "metadata": {},
   "outputs": [],
   "source": []
  },
  {
   "cell_type": "code",
   "execution_count": null,
   "id": "402eddb9",
   "metadata": {},
   "outputs": [],
   "source": []
  },
  {
   "cell_type": "code",
   "execution_count": null,
   "id": "978c300b",
   "metadata": {},
   "outputs": [],
   "source": []
  }
 ],
 "metadata": {
  "kernelspec": {
   "display_name": "Python 3 (ipykernel)",
   "language": "python",
   "name": "python3"
  },
  "language_info": {
   "codemirror_mode": {
    "name": "ipython",
    "version": 3
   },
   "file_extension": ".py",
   "mimetype": "text/x-python",
   "name": "python",
   "nbconvert_exporter": "python",
   "pygments_lexer": "ipython3",
   "version": "3.9.7"
  }
 },
 "nbformat": 4,
 "nbformat_minor": 5
}
