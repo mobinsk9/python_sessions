{
 "cells": [
  {
   "cell_type": "markdown",
   "id": "af119aa2",
   "metadata": {},
   "source": [
    "# Tuples"
   ]
  },
  {
   "cell_type": "markdown",
   "id": "f7741117",
   "metadata": {},
   "source": [
    "Python tuples are a type of data structure that is very similar to lists. The main difference between the two is that tuples are immutable, meaning they cannot be changed once they are created. This makes them ideal for storing data that should not be modified, such as database records."
   ]
  },
  {
   "cell_type": "markdown",
   "id": "77e73f9c",
   "metadata": {},
   "source": [
    "A tuple can have any number of items, which may be of different types, such as a string, integer, float, list, etc."
   ]
  },
  {
   "cell_type": "markdown",
   "id": "590632c2",
   "metadata": {},
   "source": [
    "## Creating a python Tuple"
   ]
  },
  {
   "cell_type": "markdown",
   "id": "e52722b5",
   "metadata": {},
   "source": [
    "Create a python tuple by wrap the items in parentheses."
   ]
  },
  {
   "cell_type": "markdown",
   "id": "cc2304a0",
   "metadata": {},
   "source": [
    "Ex:\n",
    "\n",
    "my_tuple=('Mobin',38,10000.50,4+2j)"
   ]
  },
  {
   "cell_type": "code",
   "execution_count": 1,
   "id": "34ea84d2",
   "metadata": {
    "ExecuteTime": {
     "end_time": "2023-11-28T12:31:30.209499Z",
     "start_time": "2023-11-28T12:31:30.195509Z"
    }
   },
   "outputs": [],
   "source": [
    "my_tuple=(\"Mobin\",38,1000.50,4+2j)"
   ]
  },
  {
   "cell_type": "code",
   "execution_count": 2,
   "id": "42b60795",
   "metadata": {
    "ExecuteTime": {
     "end_time": "2023-11-28T12:31:36.309394Z",
     "start_time": "2023-11-28T12:31:36.282414Z"
    }
   },
   "outputs": [
    {
     "data": {
      "text/plain": [
       "('Mobin', 38, 1000.5, (4+2j))"
      ]
     },
     "execution_count": 2,
     "metadata": {},
     "output_type": "execute_result"
    }
   ],
   "source": [
    "my_tuple"
   ]
  },
  {
   "cell_type": "code",
   "execution_count": 13,
   "id": "80bf8a56",
   "metadata": {
    "ExecuteTime": {
     "end_time": "2023-11-28T12:35:10.834740Z",
     "start_time": "2023-11-28T12:35:10.817730Z"
    }
   },
   "outputs": [
    {
     "data": {
      "text/plain": [
       "tuple"
      ]
     },
     "execution_count": 13,
     "metadata": {},
     "output_type": "execute_result"
    }
   ],
   "source": [
    "type(my_tuple)"
   ]
  },
  {
   "cell_type": "code",
   "execution_count": 3,
   "id": "6e525b5f",
   "metadata": {
    "ExecuteTime": {
     "end_time": "2023-11-28T12:32:10.604279Z",
     "start_time": "2023-11-28T12:32:10.587288Z"
    }
   },
   "outputs": [
    {
     "data": {
      "text/plain": [
       "'Mobin'"
      ]
     },
     "execution_count": 3,
     "metadata": {},
     "output_type": "execute_result"
    }
   ],
   "source": [
    "my_tuple[0]"
   ]
  },
  {
   "cell_type": "code",
   "execution_count": 4,
   "id": "57e5fb63",
   "metadata": {
    "ExecuteTime": {
     "end_time": "2023-11-28T12:32:19.356557Z",
     "start_time": "2023-11-28T12:32:19.337565Z"
    }
   },
   "outputs": [
    {
     "data": {
      "text/plain": [
       "(4+2j)"
      ]
     },
     "execution_count": 4,
     "metadata": {},
     "output_type": "execute_result"
    }
   ],
   "source": [
    "my_tuple[-1]"
   ]
  },
  {
   "cell_type": "code",
   "execution_count": 6,
   "id": "06ce2399",
   "metadata": {
    "ExecuteTime": {
     "end_time": "2023-11-28T12:32:37.839228Z",
     "start_time": "2023-11-28T12:32:37.832231Z"
    }
   },
   "outputs": [
    {
     "data": {
      "text/plain": [
       "(38, 1000.5, (4+2j))"
      ]
     },
     "execution_count": 6,
     "metadata": {},
     "output_type": "execute_result"
    }
   ],
   "source": [
    "my_tuple[1:]"
   ]
  },
  {
   "cell_type": "code",
   "execution_count": 7,
   "id": "8ec9fed2",
   "metadata": {
    "ExecuteTime": {
     "end_time": "2023-11-28T12:32:48.931500Z",
     "start_time": "2023-11-28T12:32:48.913510Z"
    }
   },
   "outputs": [
    {
     "data": {
      "text/plain": [
       "('Mobin', 38, 1000.5, (4+2j))"
      ]
     },
     "execution_count": 7,
     "metadata": {},
     "output_type": "execute_result"
    }
   ],
   "source": [
    "my_tuple[:4]"
   ]
  },
  {
   "cell_type": "code",
   "execution_count": 8,
   "id": "19814ea9",
   "metadata": {
    "ExecuteTime": {
     "end_time": "2023-11-28T12:32:59.648736Z",
     "start_time": "2023-11-28T12:32:59.626773Z"
    }
   },
   "outputs": [
    {
     "data": {
      "text/plain": [
       "((4+2j), 1000.5, 38, 'Mobin')"
      ]
     },
     "execution_count": 8,
     "metadata": {},
     "output_type": "execute_result"
    }
   ],
   "source": [
    "my_tuple[::-1]"
   ]
  },
  {
   "cell_type": "markdown",
   "id": "4c5566dd",
   "metadata": {},
   "source": [
    "### Immutable"
   ]
  },
  {
   "cell_type": "code",
   "execution_count": 9,
   "id": "dfc32712",
   "metadata": {
    "ExecuteTime": {
     "end_time": "2023-11-28T12:33:31.406472Z",
     "start_time": "2023-11-28T12:33:31.397479Z"
    }
   },
   "outputs": [
    {
     "data": {
      "text/plain": [
       "38"
      ]
     },
     "execution_count": 9,
     "metadata": {},
     "output_type": "execute_result"
    }
   ],
   "source": [
    "my_tuple[1]"
   ]
  },
  {
   "cell_type": "code",
   "execution_count": 10,
   "id": "a62f2c64",
   "metadata": {
    "ExecuteTime": {
     "end_time": "2023-11-28T12:33:47.258315Z",
     "start_time": "2023-11-28T12:33:46.980474Z"
    }
   },
   "outputs": [
    {
     "ename": "TypeError",
     "evalue": "'tuple' object does not support item assignment",
     "output_type": "error",
     "traceback": [
      "\u001b[1;31m---------------------------------------------------------------------------\u001b[0m",
      "\u001b[1;31mTypeError\u001b[0m                                 Traceback (most recent call last)",
      "\u001b[1;32m~\\AppData\\Local\\Temp/ipykernel_7488/1089676984.py\u001b[0m in \u001b[0;36m<module>\u001b[1;34m\u001b[0m\n\u001b[1;32m----> 1\u001b[1;33m \u001b[0mmy_tuple\u001b[0m\u001b[1;33m[\u001b[0m\u001b[1;36m1\u001b[0m\u001b[1;33m]\u001b[0m\u001b[1;33m=\u001b[0m\u001b[1;36m48\u001b[0m\u001b[1;33m\u001b[0m\u001b[1;33m\u001b[0m\u001b[0m\n\u001b[0m",
      "\u001b[1;31mTypeError\u001b[0m: 'tuple' object does not support item assignment"
     ]
    }
   ],
   "source": [
    "my_tuple[1]=48"
   ]
  },
  {
   "cell_type": "code",
   "execution_count": 11,
   "id": "a2e0c60a",
   "metadata": {
    "ExecuteTime": {
     "end_time": "2023-11-28T12:34:41.073265Z",
     "start_time": "2023-11-28T12:34:41.058295Z"
    }
   },
   "outputs": [],
   "source": [
    "my_tuple1=('Mobin',38,1000.50,'Mobin',38,1000.50,'4+2j')"
   ]
  },
  {
   "cell_type": "code",
   "execution_count": 12,
   "id": "10ed302d",
   "metadata": {
    "ExecuteTime": {
     "end_time": "2023-11-28T12:34:48.564268Z",
     "start_time": "2023-11-28T12:34:48.545258Z"
    }
   },
   "outputs": [
    {
     "data": {
      "text/plain": [
       "('Mobin', 38, 1000.5, 'Mobin', 38, 1000.5, '4+2j')"
      ]
     },
     "execution_count": 12,
     "metadata": {},
     "output_type": "execute_result"
    }
   ],
   "source": [
    "my_tuple1"
   ]
  },
  {
   "cell_type": "markdown",
   "id": "1b537a1f",
   "metadata": {},
   "source": [
    "- Ordered: Maintain the order of the data insertion\n",
    "- Unchangeable: Tuples are immutable and wecan't modify items\n",
    "- Heterogeneous: Tuples can contains data of types\n",
    "- Contains duplicate: Allows duplicates data"
   ]
  },
  {
   "cell_type": "markdown",
   "id": "c34d5743",
   "metadata": {},
   "source": [
    "### Methods on tuple"
   ]
  },
  {
   "cell_type": "code",
   "execution_count": 14,
   "id": "23f66b40",
   "metadata": {
    "ExecuteTime": {
     "end_time": "2023-11-28T12:36:48.453279Z",
     "start_time": "2023-11-28T12:36:48.436286Z"
    }
   },
   "outputs": [
    {
     "data": {
      "text/plain": [
       "['__add__',\n",
       " '__class__',\n",
       " '__class_getitem__',\n",
       " '__contains__',\n",
       " '__delattr__',\n",
       " '__dir__',\n",
       " '__doc__',\n",
       " '__eq__',\n",
       " '__format__',\n",
       " '__ge__',\n",
       " '__getattribute__',\n",
       " '__getitem__',\n",
       " '__getnewargs__',\n",
       " '__gt__',\n",
       " '__hash__',\n",
       " '__init__',\n",
       " '__init_subclass__',\n",
       " '__iter__',\n",
       " '__le__',\n",
       " '__len__',\n",
       " '__lt__',\n",
       " '__mul__',\n",
       " '__ne__',\n",
       " '__new__',\n",
       " '__reduce__',\n",
       " '__reduce_ex__',\n",
       " '__repr__',\n",
       " '__rmul__',\n",
       " '__setattr__',\n",
       " '__sizeof__',\n",
       " '__str__',\n",
       " '__subclasshook__',\n",
       " 'count',\n",
       " 'index']"
      ]
     },
     "execution_count": 14,
     "metadata": {},
     "output_type": "execute_result"
    }
   ],
   "source": [
    "dir(my_tuple)"
   ]
  },
  {
   "cell_type": "code",
   "execution_count": 16,
   "id": "95834547",
   "metadata": {
    "ExecuteTime": {
     "end_time": "2023-11-28T12:38:11.961503Z",
     "start_time": "2023-11-28T12:38:11.943536Z"
    }
   },
   "outputs": [
    {
     "name": "stdout",
     "output_type": "stream",
     "text": [
      "Help on built-in function count:\n",
      "\n",
      "count(value, /) method of builtins.tuple instance\n",
      "    Return number of occurrences of value.\n",
      "\n"
     ]
    }
   ],
   "source": [
    "help(my_tuple.count)"
   ]
  },
  {
   "cell_type": "code",
   "execution_count": 17,
   "id": "332c4ebb",
   "metadata": {
    "ExecuteTime": {
     "end_time": "2023-11-28T12:38:39.189938Z",
     "start_time": "2023-11-28T12:38:39.173971Z"
    }
   },
   "outputs": [
    {
     "data": {
      "text/plain": [
       "('Mobin', 38, 1000.5, 'Mobin', 38, 1000.5, '4+2j')"
      ]
     },
     "execution_count": 17,
     "metadata": {},
     "output_type": "execute_result"
    }
   ],
   "source": [
    "my_tuple1"
   ]
  },
  {
   "cell_type": "code",
   "execution_count": 18,
   "id": "694c296d",
   "metadata": {
    "ExecuteTime": {
     "end_time": "2023-11-28T12:38:51.958870Z",
     "start_time": "2023-11-28T12:38:51.943878Z"
    }
   },
   "outputs": [
    {
     "data": {
      "text/plain": [
       "2"
      ]
     },
     "execution_count": 18,
     "metadata": {},
     "output_type": "execute_result"
    }
   ],
   "source": [
    "my_tuple1.count('Mobin')"
   ]
  },
  {
   "cell_type": "code",
   "execution_count": 19,
   "id": "420b4d62",
   "metadata": {
    "ExecuteTime": {
     "end_time": "2023-11-28T12:39:17.378613Z",
     "start_time": "2023-11-28T12:39:17.358626Z"
    }
   },
   "outputs": [
    {
     "name": "stdout",
     "output_type": "stream",
     "text": [
      "Help on built-in function index:\n",
      "\n",
      "index(value, start=0, stop=9223372036854775807, /) method of builtins.tuple instance\n",
      "    Return first index of value.\n",
      "    \n",
      "    Raises ValueError if the value is not present.\n",
      "\n"
     ]
    }
   ],
   "source": [
    "help(my_tuple1.index)"
   ]
  },
  {
   "cell_type": "code",
   "execution_count": 24,
   "id": "a34a825b",
   "metadata": {
    "ExecuteTime": {
     "end_time": "2023-11-28T12:40:23.928370Z",
     "start_time": "2023-11-28T12:40:23.916378Z"
    }
   },
   "outputs": [
    {
     "data": {
      "text/plain": [
       "1"
      ]
     },
     "execution_count": 24,
     "metadata": {},
     "output_type": "execute_result"
    }
   ],
   "source": [
    "my_tuple1.index(38)"
   ]
  },
  {
   "cell_type": "code",
   "execution_count": 25,
   "id": "a877eb6a",
   "metadata": {
    "ExecuteTime": {
     "end_time": "2023-11-28T12:40:31.401150Z",
     "start_time": "2023-11-28T12:40:31.384153Z"
    }
   },
   "outputs": [
    {
     "data": {
      "text/plain": [
       "4"
      ]
     },
     "execution_count": 25,
     "metadata": {},
     "output_type": "execute_result"
    }
   ],
   "source": [
    "my_tuple1.index(38,2)"
   ]
  },
  {
   "cell_type": "code",
   "execution_count": 26,
   "id": "fc032bd0",
   "metadata": {
    "ExecuteTime": {
     "end_time": "2023-11-28T12:40:52.925885Z",
     "start_time": "2023-11-28T12:40:52.913913Z"
    }
   },
   "outputs": [
    {
     "data": {
      "text/plain": [
       "4"
      ]
     },
     "execution_count": 26,
     "metadata": {},
     "output_type": "execute_result"
    }
   ],
   "source": [
    "my_tuple1.index(38,2,5)"
   ]
  },
  {
   "cell_type": "markdown",
   "id": "18f6e4c7",
   "metadata": {},
   "source": [
    "Joining two tuples"
   ]
  },
  {
   "cell_type": "code",
   "execution_count": 27,
   "id": "7e1de12d",
   "metadata": {
    "ExecuteTime": {
     "end_time": "2023-11-28T13:08:29.391651Z",
     "start_time": "2023-11-28T13:08:29.377661Z"
    }
   },
   "outputs": [
    {
     "data": {
      "text/plain": [
       "('Mobin', 38, 1000.5, (4+2j), 'Mobin', 38, 1000.5, 'Mobin', 38, 1000.5, '4+2j')"
      ]
     },
     "execution_count": 27,
     "metadata": {},
     "output_type": "execute_result"
    }
   ],
   "source": [
    "my_tuple+my_tuple1"
   ]
  },
  {
   "cell_type": "markdown",
   "id": "83fb9d8c",
   "metadata": {},
   "source": [
    "Comparing two tuples"
   ]
  },
  {
   "cell_type": "code",
   "execution_count": 28,
   "id": "9788cacd",
   "metadata": {
    "ExecuteTime": {
     "end_time": "2023-11-28T13:09:48.963758Z",
     "start_time": "2023-11-28T13:09:48.945768Z"
    }
   },
   "outputs": [
    {
     "data": {
      "text/plain": [
       "False"
      ]
     },
     "execution_count": 28,
     "metadata": {},
     "output_type": "execute_result"
    }
   ],
   "source": [
    "my_tuple==my_tuple1"
   ]
  },
  {
   "cell_type": "markdown",
   "id": "d02e6df5",
   "metadata": {},
   "source": [
    "Nested tuples"
   ]
  },
  {
   "cell_type": "code",
   "execution_count": 30,
   "id": "4760da18",
   "metadata": {
    "ExecuteTime": {
     "end_time": "2023-11-28T13:11:07.210687Z",
     "start_time": "2023-11-28T13:11:07.193697Z"
    }
   },
   "outputs": [],
   "source": [
    "my_tuple2=((1,2),(100.50,40.5),('Abc','Mobin'),(2+4j,'5+6j'))"
   ]
  },
  {
   "cell_type": "code",
   "execution_count": 31,
   "id": "56e3aca9",
   "metadata": {
    "ExecuteTime": {
     "end_time": "2023-11-28T13:11:09.521537Z",
     "start_time": "2023-11-28T13:11:09.505543Z"
    }
   },
   "outputs": [
    {
     "data": {
      "text/plain": [
       "((1, 2), (100.5, 40.5), ('Abc', 'Mobin'), ((2+4j), '5+6j'))"
      ]
     },
     "execution_count": 31,
     "metadata": {},
     "output_type": "execute_result"
    }
   ],
   "source": [
    "my_tuple2"
   ]
  },
  {
   "cell_type": "markdown",
   "id": "98607179",
   "metadata": {},
   "source": [
    "Converting between tuple and list"
   ]
  },
  {
   "cell_type": "code",
   "execution_count": 32,
   "id": "9e47b9b9",
   "metadata": {
    "ExecuteTime": {
     "end_time": "2023-11-28T13:12:02.959835Z",
     "start_time": "2023-11-28T13:12:02.945820Z"
    }
   },
   "outputs": [],
   "source": [
    "my_list=[1,2,3,'Mobin',100.50,'4+5j']"
   ]
  },
  {
   "cell_type": "code",
   "execution_count": 34,
   "id": "7ec9f9a0",
   "metadata": {
    "ExecuteTime": {
     "end_time": "2023-11-28T13:12:42.942682Z",
     "start_time": "2023-11-28T13:12:42.927690Z"
    }
   },
   "outputs": [
    {
     "name": "stdout",
     "output_type": "stream",
     "text": [
      "(1, 2, 3, 'Mobin', 100.5, '4+5j')\n",
      "<class 'tuple'>\n"
     ]
    }
   ],
   "source": [
    "print(tuple(my_list))\n",
    "print(type(tuple(my_list)))"
   ]
  },
  {
   "cell_type": "code",
   "execution_count": 35,
   "id": "e59ec4d5",
   "metadata": {
    "ExecuteTime": {
     "end_time": "2023-11-28T13:12:52.742096Z",
     "start_time": "2023-11-28T13:12:52.725108Z"
    }
   },
   "outputs": [
    {
     "data": {
      "text/plain": [
       "((1, 2), (100.5, 40.5), ('Abc', 'Mobin'), ((2+4j), '5+6j'))"
      ]
     },
     "execution_count": 35,
     "metadata": {},
     "output_type": "execute_result"
    }
   ],
   "source": [
    "my_tuple2"
   ]
  },
  {
   "cell_type": "code",
   "execution_count": 37,
   "id": "d02c064c",
   "metadata": {
    "ExecuteTime": {
     "end_time": "2023-11-28T13:13:21.081252Z",
     "start_time": "2023-11-28T13:13:21.074257Z"
    }
   },
   "outputs": [
    {
     "name": "stdout",
     "output_type": "stream",
     "text": [
      "[(1, 2), (100.5, 40.5), ('Abc', 'Mobin'), ((2+4j), '5+6j')]\n",
      "<class 'list'>\n"
     ]
    }
   ],
   "source": [
    "print(list(my_tuple2))\n",
    "print(type(list(my_tuple2)))"
   ]
  },
  {
   "cell_type": "markdown",
   "id": "987ba471",
   "metadata": {},
   "source": [
    "Difference between tuple and list\n",
    "- The main difference is that tuples are immutable, while lists are mutable. This means that tuples cannot be changed once they are created, while lists can be modified after they are created.\n",
    "- Tuples can be used as keys in dictionaries, while lists cannot.\n",
    "- Another difference is that tuples are typically faster than lists. This is because Python knows that a tuple cannot be changed, so it doesn't need to allocate as much memory for it.\n"
   ]
  }
 ],
 "metadata": {
  "kernelspec": {
   "display_name": "Python 3 (ipykernel)",
   "language": "python",
   "name": "python3"
  },
  "language_info": {
   "codemirror_mode": {
    "name": "ipython",
    "version": 3
   },
   "file_extension": ".py",
   "mimetype": "text/x-python",
   "name": "python",
   "nbconvert_exporter": "python",
   "pygments_lexer": "ipython3",
   "version": "3.9.7"
  }
 },
 "nbformat": 4,
 "nbformat_minor": 5
}
