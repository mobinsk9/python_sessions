{
 "cells": [
  {
   "cell_type": "markdown",
   "id": "c61da572",
   "metadata": {},
   "source": [
    "# Type casting \n",
    "is known as Data Type Converstion\n",
    "\n",
    "Converting one data type to another data type"
   ]
  },
  {
   "cell_type": "markdown",
   "id": "935f955c",
   "metadata": {
    "ExecuteTime": {
     "end_time": "2023-10-09T14:53:38.401633Z",
     "start_time": "2023-10-09T14:53:38.378651Z"
    }
   },
   "source": [
    "**int to other data types**"
   ]
  },
  {
   "cell_type": "code",
   "execution_count": 2,
   "id": "1d15ad3d",
   "metadata": {
    "ExecuteTime": {
     "end_time": "2023-10-09T14:54:45.437808Z",
     "start_time": "2023-10-09T14:54:45.403825Z"
    }
   },
   "outputs": [
    {
     "data": {
      "text/plain": [
       "int"
      ]
     },
     "execution_count": 2,
     "metadata": {},
     "output_type": "execute_result"
    }
   ],
   "source": [
    "number=100\n",
    "type(number)"
   ]
  },
  {
   "cell_type": "code",
   "execution_count": 5,
   "id": "39aba691",
   "metadata": {
    "ExecuteTime": {
     "end_time": "2023-10-09T14:55:10.419166Z",
     "start_time": "2023-10-09T14:55:10.403175Z"
    }
   },
   "outputs": [
    {
     "data": {
      "text/plain": [
       "100.0"
      ]
     },
     "execution_count": 5,
     "metadata": {},
     "output_type": "execute_result"
    }
   ],
   "source": [
    "float_num=float(number)\n",
    "float_num"
   ]
  },
  {
   "cell_type": "code",
   "execution_count": 6,
   "id": "b07b9df2",
   "metadata": {
    "ExecuteTime": {
     "end_time": "2023-10-09T14:55:21.123603Z",
     "start_time": "2023-10-09T14:55:21.102593Z"
    }
   },
   "outputs": [
    {
     "data": {
      "text/plain": [
       "float"
      ]
     },
     "execution_count": 6,
     "metadata": {},
     "output_type": "execute_result"
    }
   ],
   "source": [
    "type(float_num)"
   ]
  },
  {
   "cell_type": "code",
   "execution_count": 9,
   "id": "656c6ef8",
   "metadata": {
    "ExecuteTime": {
     "end_time": "2023-10-09T14:58:18.065589Z",
     "start_time": "2023-10-09T14:58:18.048601Z"
    }
   },
   "outputs": [
    {
     "data": {
      "text/plain": [
       "'100'"
      ]
     },
     "execution_count": 9,
     "metadata": {},
     "output_type": "execute_result"
    }
   ],
   "source": [
    "str_num=str(number)\n",
    "str_num"
   ]
  },
  {
   "cell_type": "code",
   "execution_count": 10,
   "id": "cc6d293a",
   "metadata": {
    "ExecuteTime": {
     "end_time": "2023-10-09T14:58:28.794289Z",
     "start_time": "2023-10-09T14:58:28.784296Z"
    }
   },
   "outputs": [
    {
     "data": {
      "text/plain": [
       "str"
      ]
     },
     "execution_count": 10,
     "metadata": {},
     "output_type": "execute_result"
    }
   ],
   "source": [
    "type(str_num)"
   ]
  },
  {
   "cell_type": "code",
   "execution_count": 12,
   "id": "8aa3e7e7",
   "metadata": {
    "ExecuteTime": {
     "end_time": "2023-10-09T15:00:12.772015Z",
     "start_time": "2023-10-09T15:00:12.750027Z"
    }
   },
   "outputs": [
    {
     "data": {
      "text/plain": [
       "True"
      ]
     },
     "execution_count": 12,
     "metadata": {},
     "output_type": "execute_result"
    }
   ],
   "source": [
    "b_num=bool(number)\n",
    "b_num"
   ]
  },
  {
   "cell_type": "code",
   "execution_count": 15,
   "id": "2d85d856",
   "metadata": {
    "ExecuteTime": {
     "end_time": "2023-10-09T15:00:45.216554Z",
     "start_time": "2023-10-09T15:00:45.197562Z"
    }
   },
   "outputs": [
    {
     "data": {
      "text/plain": [
       "False"
      ]
     },
     "execution_count": 15,
     "metadata": {},
     "output_type": "execute_result"
    }
   ],
   "source": [
    "num=0\n",
    "bool(num)"
   ]
  },
  {
   "cell_type": "code",
   "execution_count": 16,
   "id": "7b3da08d",
   "metadata": {
    "ExecuteTime": {
     "end_time": "2023-10-09T15:01:19.883985Z",
     "start_time": "2023-10-09T15:01:19.872991Z"
    }
   },
   "outputs": [
    {
     "data": {
      "text/plain": [
       "bool"
      ]
     },
     "execution_count": 16,
     "metadata": {},
     "output_type": "execute_result"
    }
   ],
   "source": [
    "type(b_num)"
   ]
  },
  {
   "cell_type": "code",
   "execution_count": 17,
   "id": "fe3948df",
   "metadata": {
    "ExecuteTime": {
     "end_time": "2023-10-09T15:01:38.566658Z",
     "start_time": "2023-10-09T15:01:38.547669Z"
    }
   },
   "outputs": [
    {
     "data": {
      "text/plain": [
       "False"
      ]
     },
     "execution_count": 17,
     "metadata": {},
     "output_type": "execute_result"
    }
   ],
   "source": [
    "bool(0)"
   ]
  },
  {
   "cell_type": "markdown",
   "id": "1b49074d",
   "metadata": {},
   "source": [
    "**Other than Zero everything is true under the bool operation**"
   ]
  },
  {
   "cell_type": "code",
   "execution_count": 20,
   "id": "f047185c",
   "metadata": {
    "ExecuteTime": {
     "end_time": "2023-10-09T15:07:42.711754Z",
     "start_time": "2023-10-09T15:07:42.703762Z"
    }
   },
   "outputs": [
    {
     "data": {
      "text/plain": [
       "(100+0j)"
      ]
     },
     "execution_count": 20,
     "metadata": {},
     "output_type": "execute_result"
    }
   ],
   "source": [
    "com_num=complex(number)\n",
    "com_num"
   ]
  },
  {
   "cell_type": "code",
   "execution_count": 19,
   "id": "31249e50",
   "metadata": {
    "ExecuteTime": {
     "end_time": "2023-10-09T15:06:45.990644Z",
     "start_time": "2023-10-09T15:06:45.973655Z"
    }
   },
   "outputs": [
    {
     "data": {
      "text/plain": [
       "(100+200j)"
      ]
     },
     "execution_count": 19,
     "metadata": {},
     "output_type": "execute_result"
    }
   ],
   "source": [
    "a=100\n",
    "b=200\n",
    "complex(a,b)"
   ]
  },
  {
   "cell_type": "code",
   "execution_count": 21,
   "id": "5ab9ec84",
   "metadata": {
    "ExecuteTime": {
     "end_time": "2023-10-09T15:08:25.049127Z",
     "start_time": "2023-10-09T15:08:25.035136Z"
    }
   },
   "outputs": [
    {
     "data": {
      "text/plain": [
       "300j"
      ]
     },
     "execution_count": 21,
     "metadata": {},
     "output_type": "execute_result"
    }
   ],
   "source": [
    "a=0\n",
    "b=300\n",
    "complex(a,b)"
   ]
  },
  {
   "cell_type": "code",
   "execution_count": 22,
   "id": "c9912d65",
   "metadata": {
    "ExecuteTime": {
     "end_time": "2023-10-09T15:09:02.178047Z",
     "start_time": "2023-10-09T15:09:02.166054Z"
    }
   },
   "outputs": [
    {
     "ename": "SyntaxError",
     "evalue": "invalid syntax (Temp/ipykernel_10120/1443921872.py, line 1)",
     "output_type": "error",
     "traceback": [
      "\u001b[1;36m  File \u001b[1;32m\"C:\\Users\\admin\\AppData\\Local\\Temp/ipykernel_10120/1443921872.py\"\u001b[1;36m, line \u001b[1;32m1\u001b[0m\n\u001b[1;33m    complex(,300)\u001b[0m\n\u001b[1;37m            ^\u001b[0m\n\u001b[1;31mSyntaxError\u001b[0m\u001b[1;31m:\u001b[0m invalid syntax\n"
     ]
    }
   ],
   "source": [
    "complex(,300)"
   ]
  },
  {
   "cell_type": "markdown",
   "id": "04a5f814",
   "metadata": {},
   "source": [
    "**Float to other datatypes**"
   ]
  },
  {
   "cell_type": "code",
   "execution_count": 23,
   "id": "66a2f377",
   "metadata": {
    "ExecuteTime": {
     "end_time": "2023-10-09T15:10:57.825761Z",
     "start_time": "2023-10-09T15:10:57.802777Z"
    }
   },
   "outputs": [
    {
     "data": {
      "text/plain": [
       "10.5"
      ]
     },
     "execution_count": 23,
     "metadata": {},
     "output_type": "execute_result"
    }
   ],
   "source": [
    "n=10.5\n",
    "n"
   ]
  },
  {
   "cell_type": "code",
   "execution_count": 24,
   "id": "79214b16",
   "metadata": {
    "ExecuteTime": {
     "end_time": "2023-10-09T15:11:02.359189Z",
     "start_time": "2023-10-09T15:11:02.351197Z"
    }
   },
   "outputs": [
    {
     "data": {
      "text/plain": [
       "float"
      ]
     },
     "execution_count": 24,
     "metadata": {},
     "output_type": "execute_result"
    }
   ],
   "source": [
    "type(n)"
   ]
  },
  {
   "cell_type": "code",
   "execution_count": 25,
   "id": "d45a5468",
   "metadata": {
    "ExecuteTime": {
     "end_time": "2023-10-09T15:11:21.867921Z",
     "start_time": "2023-10-09T15:11:21.846934Z"
    }
   },
   "outputs": [
    {
     "data": {
      "text/plain": [
       "10"
      ]
     },
     "execution_count": 25,
     "metadata": {},
     "output_type": "execute_result"
    }
   ],
   "source": [
    "int_n=int(n)\n",
    "int_n"
   ]
  },
  {
   "cell_type": "code",
   "execution_count": 26,
   "id": "9447952e",
   "metadata": {
    "ExecuteTime": {
     "end_time": "2023-10-09T15:11:29.415482Z",
     "start_time": "2023-10-09T15:11:29.402491Z"
    }
   },
   "outputs": [
    {
     "data": {
      "text/plain": [
       "int"
      ]
     },
     "execution_count": 26,
     "metadata": {},
     "output_type": "execute_result"
    }
   ],
   "source": [
    "type(int_n)"
   ]
  },
  {
   "cell_type": "code",
   "execution_count": 27,
   "id": "e0615ba6",
   "metadata": {
    "ExecuteTime": {
     "end_time": "2023-10-09T15:11:44.482416Z",
     "start_time": "2023-10-09T15:11:44.472424Z"
    }
   },
   "outputs": [
    {
     "data": {
      "text/plain": [
       "'10.5'"
      ]
     },
     "execution_count": 27,
     "metadata": {},
     "output_type": "execute_result"
    }
   ],
   "source": [
    "str_n=str(n)\n",
    "str_n"
   ]
  },
  {
   "cell_type": "code",
   "execution_count": 28,
   "id": "aa45815b",
   "metadata": {
    "ExecuteTime": {
     "end_time": "2023-10-09T15:11:51.646416Z",
     "start_time": "2023-10-09T15:11:51.624428Z"
    }
   },
   "outputs": [
    {
     "data": {
      "text/plain": [
       "str"
      ]
     },
     "execution_count": 28,
     "metadata": {},
     "output_type": "execute_result"
    }
   ],
   "source": [
    "type(str_n)"
   ]
  },
  {
   "cell_type": "code",
   "execution_count": 29,
   "id": "3dccc609",
   "metadata": {
    "ExecuteTime": {
     "end_time": "2023-10-09T15:12:06.501840Z",
     "start_time": "2023-10-09T15:12:06.491847Z"
    }
   },
   "outputs": [
    {
     "data": {
      "text/plain": [
       "True"
      ]
     },
     "execution_count": 29,
     "metadata": {},
     "output_type": "execute_result"
    }
   ],
   "source": [
    "bool_n=bool(n)\n",
    "bool_n"
   ]
  },
  {
   "cell_type": "code",
   "execution_count": 30,
   "id": "4b90cc46",
   "metadata": {
    "ExecuteTime": {
     "end_time": "2023-10-09T15:12:15.599183Z",
     "start_time": "2023-10-09T15:12:15.582200Z"
    }
   },
   "outputs": [
    {
     "data": {
      "text/plain": [
       "bool"
      ]
     },
     "execution_count": 30,
     "metadata": {},
     "output_type": "execute_result"
    }
   ],
   "source": [
    "type(bool_n)"
   ]
  },
  {
   "cell_type": "code",
   "execution_count": 31,
   "id": "b509ae85",
   "metadata": {
    "ExecuteTime": {
     "end_time": "2023-10-09T15:12:36.947496Z",
     "start_time": "2023-10-09T15:12:36.927508Z"
    }
   },
   "outputs": [
    {
     "data": {
      "text/plain": [
       "(10.5+0j)"
      ]
     },
     "execution_count": 31,
     "metadata": {},
     "output_type": "execute_result"
    }
   ],
   "source": [
    "com_n=complex(n)\n",
    "com_n"
   ]
  },
  {
   "cell_type": "code",
   "execution_count": 32,
   "id": "1e8337fd",
   "metadata": {
    "ExecuteTime": {
     "end_time": "2023-10-09T15:12:45.849994Z",
     "start_time": "2023-10-09T15:12:45.838000Z"
    }
   },
   "outputs": [
    {
     "data": {
      "text/plain": [
       "complex"
      ]
     },
     "execution_count": 32,
     "metadata": {},
     "output_type": "execute_result"
    }
   ],
   "source": [
    "type(com_n)"
   ]
  },
  {
   "cell_type": "code",
   "execution_count": 33,
   "id": "7b1f05a9",
   "metadata": {
    "ExecuteTime": {
     "end_time": "2023-10-09T15:17:21.707956Z",
     "start_time": "2023-10-09T15:17:21.699965Z"
    }
   },
   "outputs": [],
   "source": [
    "str1='python'"
   ]
  },
  {
   "cell_type": "code",
   "execution_count": 34,
   "id": "a402b04a",
   "metadata": {
    "ExecuteTime": {
     "end_time": "2023-10-09T15:17:26.298681Z",
     "start_time": "2023-10-09T15:17:26.276686Z"
    }
   },
   "outputs": [
    {
     "ename": "ValueError",
     "evalue": "invalid literal for int() with base 10: 'python'",
     "output_type": "error",
     "traceback": [
      "\u001b[1;31m---------------------------------------------------------------------------\u001b[0m",
      "\u001b[1;31mValueError\u001b[0m                                Traceback (most recent call last)",
      "\u001b[1;32m~\\AppData\\Local\\Temp/ipykernel_10120/2000024900.py\u001b[0m in \u001b[0;36m<module>\u001b[1;34m\u001b[0m\n\u001b[1;32m----> 1\u001b[1;33m \u001b[0mint\u001b[0m\u001b[1;33m(\u001b[0m\u001b[0mstr1\u001b[0m\u001b[1;33m)\u001b[0m\u001b[1;33m\u001b[0m\u001b[1;33m\u001b[0m\u001b[0m\n\u001b[0m",
      "\u001b[1;31mValueError\u001b[0m: invalid literal for int() with base 10: 'python'"
     ]
    }
   ],
   "source": [
    "int(str1)"
   ]
  },
  {
   "cell_type": "code",
   "execution_count": null,
   "id": "84562565",
   "metadata": {},
   "outputs": [],
   "source": [
    "# English letter can not convert into maths"
   ]
  },
  {
   "cell_type": "code",
   "execution_count": 35,
   "id": "d2b62c29",
   "metadata": {
    "ExecuteTime": {
     "end_time": "2023-10-09T15:18:10.044432Z",
     "start_time": "2023-10-09T15:18:10.014450Z"
    }
   },
   "outputs": [
    {
     "ename": "ValueError",
     "evalue": "could not convert string to float: 'python'",
     "output_type": "error",
     "traceback": [
      "\u001b[1;31m---------------------------------------------------------------------------\u001b[0m",
      "\u001b[1;31mValueError\u001b[0m                                Traceback (most recent call last)",
      "\u001b[1;32m~\\AppData\\Local\\Temp/ipykernel_10120/724862111.py\u001b[0m in \u001b[0;36m<module>\u001b[1;34m\u001b[0m\n\u001b[1;32m----> 1\u001b[1;33m \u001b[0mfloat\u001b[0m\u001b[1;33m(\u001b[0m\u001b[0mstr1\u001b[0m\u001b[1;33m)\u001b[0m\u001b[1;33m\u001b[0m\u001b[1;33m\u001b[0m\u001b[0m\n\u001b[0m",
      "\u001b[1;31mValueError\u001b[0m: could not convert string to float: 'python'"
     ]
    }
   ],
   "source": [
    "float(str1)"
   ]
  },
  {
   "cell_type": "code",
   "execution_count": null,
   "id": "3ef43637",
   "metadata": {},
   "outputs": [],
   "source": [
    "# English letter can not convert into maths"
   ]
  },
  {
   "cell_type": "code",
   "execution_count": 36,
   "id": "8f6f2356",
   "metadata": {
    "ExecuteTime": {
     "end_time": "2023-10-09T15:18:20.940042Z",
     "start_time": "2023-10-09T15:18:20.928048Z"
    }
   },
   "outputs": [
    {
     "data": {
      "text/plain": [
       "True"
      ]
     },
     "execution_count": 36,
     "metadata": {},
     "output_type": "execute_result"
    }
   ],
   "source": [
    "bool(str1)"
   ]
  },
  {
   "cell_type": "code",
   "execution_count": 38,
   "id": "909abd5b",
   "metadata": {
    "ExecuteTime": {
     "end_time": "2023-10-09T15:23:19.755052Z",
     "start_time": "2023-10-09T15:23:19.733064Z"
    }
   },
   "outputs": [
    {
     "data": {
      "text/plain": [
       "False"
      ]
     },
     "execution_count": 38,
     "metadata": {},
     "output_type": "execute_result"
    }
   ],
   "source": [
    "# If string is empty the it will return false in bool\n",
    "str1=\"\"\n",
    "bool(str1)"
   ]
  },
  {
   "cell_type": "code",
   "execution_count": 37,
   "id": "ebb89a17",
   "metadata": {
    "ExecuteTime": {
     "end_time": "2023-10-09T15:18:31.851996Z",
     "start_time": "2023-10-09T15:18:31.824015Z"
    }
   },
   "outputs": [
    {
     "ename": "ValueError",
     "evalue": "complex() arg is a malformed string",
     "output_type": "error",
     "traceback": [
      "\u001b[1;31m---------------------------------------------------------------------------\u001b[0m",
      "\u001b[1;31mValueError\u001b[0m                                Traceback (most recent call last)",
      "\u001b[1;32m~\\AppData\\Local\\Temp/ipykernel_10120/954854099.py\u001b[0m in \u001b[0;36m<module>\u001b[1;34m\u001b[0m\n\u001b[1;32m----> 1\u001b[1;33m \u001b[0mcomplex\u001b[0m\u001b[1;33m(\u001b[0m\u001b[0mstr1\u001b[0m\u001b[1;33m)\u001b[0m\u001b[1;33m\u001b[0m\u001b[1;33m\u001b[0m\u001b[0m\n\u001b[0m",
      "\u001b[1;31mValueError\u001b[0m: complex() arg is a malformed string"
     ]
    }
   ],
   "source": [
    "complex(str1)"
   ]
  },
  {
   "cell_type": "code",
   "execution_count": null,
   "id": "b632f71e",
   "metadata": {},
   "outputs": [],
   "source": [
    "# English letter can not convert into maths"
   ]
  },
  {
   "cell_type": "code",
   "execution_count": 40,
   "id": "41b2758f",
   "metadata": {
    "ExecuteTime": {
     "end_time": "2023-10-09T15:29:09.335669Z",
     "start_time": "2023-10-09T15:29:09.318678Z"
    }
   },
   "outputs": [
    {
     "name": "stdout",
     "output_type": "stream",
     "text": [
      "10\n",
      "10.0\n",
      "True\n"
     ]
    },
    {
     "data": {
      "text/plain": [
       "(10+0j)"
      ]
     },
     "execution_count": 40,
     "metadata": {},
     "output_type": "execute_result"
    }
   ],
   "source": [
    "str3='10'\n",
    "print(int(str3))\n",
    "print(float(str3))\n",
    "print(bool(str3))\n",
    "complex(str3)"
   ]
  },
  {
   "cell_type": "code",
   "execution_count": 42,
   "id": "9d759eb1",
   "metadata": {
    "ExecuteTime": {
     "end_time": "2023-10-09T15:30:06.243773Z",
     "start_time": "2023-10-09T15:30:06.225782Z"
    }
   },
   "outputs": [
    {
     "name": "stdout",
     "output_type": "stream",
     "text": [
      "10.5\n",
      "True\n"
     ]
    },
    {
     "data": {
      "text/plain": [
       "(10.5+0j)"
      ]
     },
     "execution_count": 42,
     "metadata": {},
     "output_type": "execute_result"
    }
   ],
   "source": [
    "str4='10.5'\n",
    "print(int(str4))  #Value Error\n",
    "print(float(str4))\n",
    "print(bool(str4))\n",
    "complex(str4)"
   ]
  },
  {
   "cell_type": "code",
   "execution_count": 43,
   "id": "ede50865",
   "metadata": {
    "ExecuteTime": {
     "end_time": "2023-10-09T15:35:27.468118Z",
     "start_time": "2023-10-09T15:35:27.451125Z"
    }
   },
   "outputs": [],
   "source": [
    "str4='10+20j'"
   ]
  },
  {
   "cell_type": "code",
   "execution_count": 44,
   "id": "d0d14f27",
   "metadata": {
    "ExecuteTime": {
     "end_time": "2023-10-09T15:35:31.776890Z",
     "start_time": "2023-10-09T15:35:31.751901Z"
    }
   },
   "outputs": [
    {
     "ename": "ValueError",
     "evalue": "invalid literal for int() with base 10: '10+20j'",
     "output_type": "error",
     "traceback": [
      "\u001b[1;31m---------------------------------------------------------------------------\u001b[0m",
      "\u001b[1;31mValueError\u001b[0m                                Traceback (most recent call last)",
      "\u001b[1;32m~\\AppData\\Local\\Temp/ipykernel_10120/3389964239.py\u001b[0m in \u001b[0;36m<module>\u001b[1;34m\u001b[0m\n\u001b[1;32m----> 1\u001b[1;33m \u001b[0mint\u001b[0m\u001b[1;33m(\u001b[0m\u001b[0mstr4\u001b[0m\u001b[1;33m)\u001b[0m\u001b[1;33m\u001b[0m\u001b[1;33m\u001b[0m\u001b[0m\n\u001b[0m",
      "\u001b[1;31mValueError\u001b[0m: invalid literal for int() with base 10: '10+20j'"
     ]
    }
   ],
   "source": [
    "int(str4)"
   ]
  },
  {
   "cell_type": "code",
   "execution_count": 45,
   "id": "2fd03660",
   "metadata": {
    "ExecuteTime": {
     "end_time": "2023-10-09T15:35:39.469232Z",
     "start_time": "2023-10-09T15:35:39.449240Z"
    }
   },
   "outputs": [
    {
     "ename": "ValueError",
     "evalue": "could not convert string to float: '10+20j'",
     "output_type": "error",
     "traceback": [
      "\u001b[1;31m---------------------------------------------------------------------------\u001b[0m",
      "\u001b[1;31mValueError\u001b[0m                                Traceback (most recent call last)",
      "\u001b[1;32m~\\AppData\\Local\\Temp/ipykernel_10120/3202386163.py\u001b[0m in \u001b[0;36m<module>\u001b[1;34m\u001b[0m\n\u001b[1;32m----> 1\u001b[1;33m \u001b[0mfloat\u001b[0m\u001b[1;33m(\u001b[0m\u001b[0mstr4\u001b[0m\u001b[1;33m)\u001b[0m\u001b[1;33m\u001b[0m\u001b[1;33m\u001b[0m\u001b[0m\n\u001b[0m",
      "\u001b[1;31mValueError\u001b[0m: could not convert string to float: '10+20j'"
     ]
    }
   ],
   "source": [
    "float(str4)"
   ]
  },
  {
   "cell_type": "code",
   "execution_count": 48,
   "id": "02d42012",
   "metadata": {
    "ExecuteTime": {
     "end_time": "2023-10-09T15:36:03.694419Z",
     "start_time": "2023-10-09T15:36:03.685424Z"
    }
   },
   "outputs": [
    {
     "data": {
      "text/plain": [
       "True"
      ]
     },
     "execution_count": 48,
     "metadata": {},
     "output_type": "execute_result"
    }
   ],
   "source": [
    "bool(str4)"
   ]
  },
  {
   "cell_type": "code",
   "execution_count": 49,
   "id": "200bb5af",
   "metadata": {
    "ExecuteTime": {
     "end_time": "2023-10-09T15:36:10.835443Z",
     "start_time": "2023-10-09T15:36:10.816455Z"
    }
   },
   "outputs": [
    {
     "data": {
      "text/plain": [
       "(10+20j)"
      ]
     },
     "execution_count": 49,
     "metadata": {},
     "output_type": "execute_result"
    }
   ],
   "source": [
    "complex(str4)"
   ]
  },
  {
   "cell_type": "code",
   "execution_count": null,
   "id": "f2afe67b",
   "metadata": {},
   "outputs": [],
   "source": [
    "# Home work\n",
    "c_n=10+20j\n",
    "int(c_n)\n",
    "float(c_n)\n",
    "bool(c_n)\n",
    "str(c_n)"
   ]
  },
  {
   "cell_type": "code",
   "execution_count": 4,
   "id": "6dec1f0d",
   "metadata": {
    "ExecuteTime": {
     "end_time": "2023-10-10T06:34:26.366925Z",
     "start_time": "2023-10-10T06:34:26.344935Z"
    }
   },
   "outputs": [
    {
     "ename": "TypeError",
     "evalue": "can't convert complex to int",
     "output_type": "error",
     "traceback": [
      "\u001b[1;31m---------------------------------------------------------------------------\u001b[0m",
      "\u001b[1;31mTypeError\u001b[0m                                 Traceback (most recent call last)",
      "\u001b[1;32m~\\AppData\\Local\\Temp/ipykernel_14684/1699535650.py\u001b[0m in \u001b[0;36m<module>\u001b[1;34m\u001b[0m\n\u001b[0;32m      1\u001b[0m \u001b[0mc_n\u001b[0m\u001b[1;33m=\u001b[0m\u001b[1;36m10\u001b[0m\u001b[1;33m+\u001b[0m\u001b[1;36m20j\u001b[0m\u001b[1;33m\u001b[0m\u001b[1;33m\u001b[0m\u001b[0m\n\u001b[1;32m----> 2\u001b[1;33m \u001b[0mc_n1\u001b[0m\u001b[1;33m=\u001b[0m\u001b[0mint\u001b[0m\u001b[1;33m(\u001b[0m\u001b[0mc_n\u001b[0m\u001b[1;33m)\u001b[0m\u001b[1;33m\u001b[0m\u001b[1;33m\u001b[0m\u001b[0m\n\u001b[0m\u001b[0;32m      3\u001b[0m \u001b[0mprint\u001b[0m\u001b[1;33m(\u001b[0m\u001b[0mc_n\u001b[0m\u001b[1;33m,\u001b[0m\u001b[0mtype\u001b[0m\u001b[1;33m(\u001b[0m\u001b[0mc_n\u001b[0m\u001b[1;33m)\u001b[0m\u001b[1;33m)\u001b[0m\u001b[1;33m\u001b[0m\u001b[1;33m\u001b[0m\u001b[0m\n\u001b[0;32m      4\u001b[0m \u001b[0mprint\u001b[0m\u001b[1;33m(\u001b[0m\u001b[0mc_n1\u001b[0m\u001b[1;33m,\u001b[0m\u001b[0mtype\u001b[0m\u001b[1;33m(\u001b[0m\u001b[0mc_n1\u001b[0m\u001b[1;33m)\u001b[0m\u001b[1;33m)\u001b[0m\u001b[1;33m\u001b[0m\u001b[1;33m\u001b[0m\u001b[0m\n",
      "\u001b[1;31mTypeError\u001b[0m: can't convert complex to int"
     ]
    }
   ],
   "source": [
    "#Complex to Int\n",
    "c_n=10+20j\n",
    "c_n1=int(c_n)\n",
    "print(c_n,type(c_n))\n",
    "print(c_n1,type(c_n1))"
   ]
  },
  {
   "cell_type": "code",
   "execution_count": 6,
   "id": "e72390e4",
   "metadata": {
    "ExecuteTime": {
     "end_time": "2023-10-10T06:35:09.615786Z",
     "start_time": "2023-10-10T06:35:09.592798Z"
    }
   },
   "outputs": [
    {
     "ename": "TypeError",
     "evalue": "can't convert complex to float",
     "output_type": "error",
     "traceback": [
      "\u001b[1;31m---------------------------------------------------------------------------\u001b[0m",
      "\u001b[1;31mTypeError\u001b[0m                                 Traceback (most recent call last)",
      "\u001b[1;32m~\\AppData\\Local\\Temp/ipykernel_14684/599320277.py\u001b[0m in \u001b[0;36m<module>\u001b[1;34m\u001b[0m\n\u001b[1;32m----> 1\u001b[1;33m \u001b[0mf_n\u001b[0m\u001b[1;33m=\u001b[0m\u001b[0mfloat\u001b[0m\u001b[1;33m(\u001b[0m\u001b[0mc_n\u001b[0m\u001b[1;33m)\u001b[0m\u001b[1;33m\u001b[0m\u001b[1;33m\u001b[0m\u001b[0m\n\u001b[0m\u001b[0;32m      2\u001b[0m \u001b[0mprint\u001b[0m\u001b[1;33m(\u001b[0m\u001b[0mc_n\u001b[0m\u001b[1;33m,\u001b[0m\u001b[0mtype\u001b[0m\u001b[1;33m(\u001b[0m\u001b[0mc_n\u001b[0m\u001b[1;33m)\u001b[0m\u001b[1;33m)\u001b[0m\u001b[1;33m\u001b[0m\u001b[1;33m\u001b[0m\u001b[0m\n\u001b[0;32m      3\u001b[0m \u001b[0mprint\u001b[0m\u001b[1;33m(\u001b[0m\u001b[0mf_n\u001b[0m\u001b[1;33m,\u001b[0m\u001b[0mtype\u001b[0m\u001b[1;33m(\u001b[0m\u001b[0mf_n\u001b[0m\u001b[1;33m)\u001b[0m\u001b[1;33m)\u001b[0m\u001b[1;33m\u001b[0m\u001b[1;33m\u001b[0m\u001b[0m\n",
      "\u001b[1;31mTypeError\u001b[0m: can't convert complex to float"
     ]
    }
   ],
   "source": [
    "#Complex to Float\n",
    "f_n=float(c_n)\n",
    "print(c_n,type(c_n))\n",
    "print(f_n,type(f_n))"
   ]
  },
  {
   "cell_type": "code",
   "execution_count": 7,
   "id": "b1f0ae6b",
   "metadata": {
    "ExecuteTime": {
     "end_time": "2023-10-10T06:36:21.536067Z",
     "start_time": "2023-10-10T06:36:21.524074Z"
    }
   },
   "outputs": [
    {
     "name": "stdout",
     "output_type": "stream",
     "text": [
      "(10+20j) <class 'complex'>\n",
      "(10+20j) <class 'str'>\n"
     ]
    }
   ],
   "source": [
    "#Complex to Str\n",
    "s_n=str(c_n)\n",
    "print(c_n,type(c_n))\n",
    "print(s_n,type(s_n))"
   ]
  },
  {
   "cell_type": "code",
   "execution_count": 8,
   "id": "e70ecdf2",
   "metadata": {
    "ExecuteTime": {
     "end_time": "2023-10-10T06:37:01.388556Z",
     "start_time": "2023-10-10T06:37:01.380581Z"
    }
   },
   "outputs": [
    {
     "name": "stdout",
     "output_type": "stream",
     "text": [
      "(10+20j) <class 'complex'>\n",
      "True <class 'bool'>\n"
     ]
    }
   ],
   "source": [
    "# Complex to Bool\n",
    "b_n=bool(c_n)\n",
    "print(c_n,type(c_n))\n",
    "print(b_n,type(b_n))"
   ]
  }
 ],
 "metadata": {
  "kernelspec": {
   "display_name": "Python 3 (ipykernel)",
   "language": "python",
   "name": "python3"
  },
  "language_info": {
   "codemirror_mode": {
    "name": "ipython",
    "version": 3
   },
   "file_extension": ".py",
   "mimetype": "text/x-python",
   "name": "python",
   "nbconvert_exporter": "python",
   "pygments_lexer": "ipython3",
   "version": "3.9.7"
  }
 },
 "nbformat": 4,
 "nbformat_minor": 5
}
