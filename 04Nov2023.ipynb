{
 "cells": [
  {
   "cell_type": "code",
   "execution_count": 3,
   "id": "3ecd9fed",
   "metadata": {
    "ExecuteTime": {
     "end_time": "2023-11-04T14:35:11.742432Z",
     "start_time": "2023-11-04T14:35:11.721444Z"
    }
   },
   "outputs": [
    {
     "name": "stdout",
     "output_type": "stream",
     "text": [
      "1\n",
      "3\n",
      "5\n",
      "7\n",
      "9\n"
     ]
    }
   ],
   "source": [
    "for i in range(1,10,2):\n",
    "    print(i)"
   ]
  },
  {
   "cell_type": "code",
   "execution_count": 4,
   "id": "4c2ff49c",
   "metadata": {
    "ExecuteTime": {
     "end_time": "2023-11-04T14:36:57.703506Z",
     "start_time": "2023-11-04T14:36:57.691514Z"
    }
   },
   "outputs": [],
   "source": [
    "for i in range(1,10,-1):\n",
    "    print(i)"
   ]
  },
  {
   "cell_type": "code",
   "execution_count": null,
   "id": "6119fb51",
   "metadata": {},
   "outputs": [],
   "source": [
    "range(10,15,3)  ====> Possible\n",
    "range(10,15,-3) ====> Not Possible\n",
    "range(10,-15,3) ====> Not Possible\n",
    "range(10,-15,-3) ===> Possible\n"
   ]
  },
  {
   "cell_type": "code",
   "execution_count": 5,
   "id": "7a01b275",
   "metadata": {
    "ExecuteTime": {
     "end_time": "2023-11-04T14:44:49.417750Z",
     "start_time": "2023-11-04T14:44:49.392763Z"
    }
   },
   "outputs": [
    {
     "data": {
      "text/plain": [
       "['Formatter',\n",
       " 'Template',\n",
       " '_ChainMap',\n",
       " '__all__',\n",
       " '__builtins__',\n",
       " '__cached__',\n",
       " '__doc__',\n",
       " '__file__',\n",
       " '__loader__',\n",
       " '__name__',\n",
       " '__package__',\n",
       " '__spec__',\n",
       " '_re',\n",
       " '_sentinel_dict',\n",
       " '_string',\n",
       " 'ascii_letters',\n",
       " 'ascii_lowercase',\n",
       " 'ascii_uppercase',\n",
       " 'capwords',\n",
       " 'digits',\n",
       " 'hexdigits',\n",
       " 'octdigits',\n",
       " 'printable',\n",
       " 'punctuation',\n",
       " 'whitespace']"
      ]
     },
     "execution_count": 5,
     "metadata": {},
     "output_type": "execute_result"
    }
   ],
   "source": [
    "import string\n",
    "dir(string)"
   ]
  },
  {
   "cell_type": "code",
   "execution_count": 7,
   "id": "7809c34a",
   "metadata": {
    "ExecuteTime": {
     "end_time": "2023-11-04T15:01:11.162630Z",
     "start_time": "2023-11-04T15:01:11.143641Z"
    }
   },
   "outputs": [
    {
     "name": "stdout",
     "output_type": "stream",
     "text": [
      "p\n",
      "y\n",
      "t\n",
      "h\n",
      "o\n",
      "n\n",
      "0 p\n",
      "1 y\n",
      "2 t\n",
      "3 h\n",
      "4 o\n",
      "5 n\n"
     ]
    }
   ],
   "source": [
    "name='python'\n",
    "for i in name:\n",
    "    print(i)\n",
    "for i in range(len(name)):\n",
    "    print(i,name[i])"
   ]
  },
  {
   "cell_type": "markdown",
   "id": "262ed918",
   "metadata": {},
   "source": [
    "How many a's?\n",
    "Index of a's?\n",
    "Number of vowels in a given string?\n",
    "Unique vowels?"
   ]
  },
  {
   "cell_type": "code",
   "execution_count": 9,
   "id": "4b80c226",
   "metadata": {
    "ExecuteTime": {
     "end_time": "2023-11-04T15:06:45.216250Z",
     "start_time": "2023-11-04T15:06:38.377095Z"
    }
   },
   "outputs": [
    {
     "name": "stdout",
     "output_type": "stream",
     "text": [
      "Enter a String:Hi How are you?\n",
      "1\n"
     ]
    }
   ],
   "source": [
    "s1=input(\"Enter a String:\")\n",
    "count=0\n",
    "for i in s1:\n",
    "    if i=='a':\n",
    "        count+=1\n",
    "print(count)"
   ]
  },
  {
   "cell_type": "code",
   "execution_count": null,
   "id": "1c88669b",
   "metadata": {},
   "outputs": [],
   "source": []
  },
  {
   "cell_type": "code",
   "execution_count": null,
   "id": "7ead0383",
   "metadata": {},
   "outputs": [],
   "source": []
  },
  {
   "cell_type": "code",
   "execution_count": null,
   "id": "11586670",
   "metadata": {},
   "outputs": [],
   "source": []
  },
  {
   "cell_type": "code",
   "execution_count": null,
   "id": "638fc56c",
   "metadata": {},
   "outputs": [],
   "source": []
  },
  {
   "cell_type": "code",
   "execution_count": 10,
   "id": "1b90395b",
   "metadata": {
    "ExecuteTime": {
     "end_time": "2023-11-04T15:07:41.678420Z",
     "start_time": "2023-11-04T15:07:41.658433Z"
    }
   },
   "outputs": [
    {
     "name": "stdout",
     "output_type": "stream",
     "text": [
      "2\n",
      "2\n"
     ]
    }
   ],
   "source": [
    "string1='Hai Hai hi  hi'\n",
    "print(string1.count('H'))\n",
    "print(string1.count('h'))"
   ]
  },
  {
   "cell_type": "code",
   "execution_count": 21,
   "id": "0b3494fd",
   "metadata": {
    "ExecuteTime": {
     "end_time": "2023-11-04T15:14:06.725552Z",
     "start_time": "2023-11-04T15:14:06.718557Z"
    }
   },
   "outputs": [
    {
     "name": "stdout",
     "output_type": "stream",
     "text": [
      "4\n"
     ]
    }
   ],
   "source": [
    "print(string1.lower().count('h'))"
   ]
  },
  {
   "cell_type": "code",
   "execution_count": 28,
   "id": "a5adc0cd",
   "metadata": {
    "ExecuteTime": {
     "end_time": "2023-11-04T15:20:13.574070Z",
     "start_time": "2023-11-04T15:20:13.557078Z"
    }
   },
   "outputs": [
    {
     "name": "stdout",
     "output_type": "stream",
     "text": [
      "MOBIN\n"
     ]
    }
   ],
   "source": [
    "stri='MobiN'\n",
    "strin=''\n",
    "for i in stri:\n",
    "    if i.isupper==True:\n",
    "        strin+=i.lower()\n",
    "    else:\n",
    "        strin+=i.upper()\n",
    "print(strin)"
   ]
  },
  {
   "cell_type": "code",
   "execution_count": 4,
   "id": "75999715",
   "metadata": {
    "ExecuteTime": {
     "end_time": "2023-11-06T14:03:20.955875Z",
     "start_time": "2023-11-06T14:03:20.942882Z"
    }
   },
   "outputs": [],
   "source": [
    "def swap_case(s):\n",
    "    result=''\n",
    "    for i in s:\n",
    "        if i.isupper()==True:\n",
    "            result+=i.lower()\n",
    "        else:\n",
    "            result+=i.upper()\n",
    "    return result"
   ]
  },
  {
   "cell_type": "code",
   "execution_count": 5,
   "id": "9d85b7b2",
   "metadata": {
    "ExecuteTime": {
     "end_time": "2023-11-06T14:03:24.163783Z",
     "start_time": "2023-11-06T14:03:22.777873Z"
    }
   },
   "outputs": [
    {
     "name": "stdout",
     "output_type": "stream",
     "text": [
      "Enter s Value:Pythonist 2\n"
     ]
    },
    {
     "data": {
      "text/plain": [
       "'pYTHONIST 2'"
      ]
     },
     "execution_count": 5,
     "metadata": {},
     "output_type": "execute_result"
    }
   ],
   "source": [
    "swap_case(s=input(\"Enter s Value:\"))"
   ]
  },
  {
   "cell_type": "code",
   "execution_count": 12,
   "id": "2d85cda6",
   "metadata": {
    "ExecuteTime": {
     "end_time": "2023-11-06T14:10:15.741489Z",
     "start_time": "2023-11-06T14:10:15.730495Z"
    }
   },
   "outputs": [],
   "source": [
    "def split_join(line):\n",
    "    return line.replace(' ','-')"
   ]
  },
  {
   "cell_type": "code",
   "execution_count": 13,
   "id": "4611d7a3",
   "metadata": {
    "ExecuteTime": {
     "end_time": "2023-11-06T14:11:04.779052Z",
     "start_time": "2023-11-06T14:10:17.662679Z"
    }
   },
   "outputs": [
    {
     "name": "stdout",
     "output_type": "stream",
     "text": [
      "Enter a line:this is a string\n"
     ]
    },
    {
     "data": {
      "text/plain": [
       "'this-is-a-string'"
      ]
     },
     "execution_count": 13,
     "metadata": {},
     "output_type": "execute_result"
    }
   ],
   "source": [
    "split_join(line=input(\"Enter a line:\"))"
   ]
  },
  {
   "cell_type": "code",
   "execution_count": null,
   "id": "ca416fe5",
   "metadata": {},
   "outputs": [],
   "source": [
    "line='this is a string'\n",
    "return "
   ]
  },
  {
   "cell_type": "code",
   "execution_count": null,
   "id": "39e2a548",
   "metadata": {},
   "outputs": [],
   "source": []
  },
  {
   "cell_type": "code",
   "execution_count": null,
   "id": "fd889c15",
   "metadata": {},
   "outputs": [],
   "source": []
  }
 ],
 "metadata": {
  "kernelspec": {
   "display_name": "Python 3 (ipykernel)",
   "language": "python",
   "name": "python3"
  },
  "language_info": {
   "codemirror_mode": {
    "name": "ipython",
    "version": 3
   },
   "file_extension": ".py",
   "mimetype": "text/x-python",
   "name": "python",
   "nbconvert_exporter": "python",
   "pygments_lexer": "ipython3",
   "version": "3.9.7"
  }
 },
 "nbformat": 4,
 "nbformat_minor": 5
}
