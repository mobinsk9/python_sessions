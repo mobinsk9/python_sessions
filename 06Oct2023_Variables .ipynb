{
 "cells": [
  {
   "cell_type": "markdown",
   "id": "62a71385",
   "metadata": {},
   "source": [
    "**Session1**"
   ]
  },
  {
   "cell_type": "markdown",
   "id": "519fe4f4",
   "metadata": {},
   "source": [
    "**Variables**"
   ]
  },
  {
   "cell_type": "code",
   "execution_count": null,
   "id": "644d8f4a",
   "metadata": {},
   "outputs": [],
   "source": [
    "#Today I'm learning Python\n",
    "a=10"
   ]
  },
  {
   "cell_type": "markdown",
   "id": "41c26ed0",
   "metadata": {},
   "source": [
    "Variable === Some thing will vary"
   ]
  },
  {
   "cell_type": "code",
   "execution_count": 1,
   "id": "202d0123",
   "metadata": {
    "ExecuteTime": {
     "end_time": "2023-10-06T14:22:24.388188Z",
     "start_time": "2023-10-06T14:22:24.363198Z"
    }
   },
   "outputs": [
    {
     "data": {
      "text/plain": [
       "10"
      ]
     },
     "execution_count": 1,
     "metadata": {},
     "output_type": "execute_result"
    }
   ],
   "source": [
    "a=10\n",
    "a"
   ]
  },
  {
   "cell_type": "code",
   "execution_count": 2,
   "id": "29f68644",
   "metadata": {
    "ExecuteTime": {
     "end_time": "2023-10-06T14:22:27.135762Z",
     "start_time": "2023-10-06T14:22:27.125793Z"
    }
   },
   "outputs": [
    {
     "data": {
      "text/plain": [
       "50"
      ]
     },
     "execution_count": 2,
     "metadata": {},
     "output_type": "execute_result"
    }
   ],
   "source": [
    "a=50\n",
    "a"
   ]
  },
  {
   "cell_type": "code",
   "execution_count": 6,
   "id": "15c719e5",
   "metadata": {
    "ExecuteTime": {
     "end_time": "2023-10-06T14:24:36.062824Z",
     "start_time": "2023-10-06T14:24:36.044834Z"
    }
   },
   "outputs": [
    {
     "data": {
      "text/plain": [
       "100"
      ]
     },
     "execution_count": 6,
     "metadata": {},
     "output_type": "execute_result"
    }
   ],
   "source": [
    "number=100\n",
    "number"
   ]
  },
  {
   "cell_type": "code",
   "execution_count": 5,
   "id": "04ec7992",
   "metadata": {
    "ExecuteTime": {
     "end_time": "2023-10-06T14:24:32.901402Z",
     "start_time": "2023-10-06T14:24:32.885432Z"
    }
   },
   "outputs": [
    {
     "data": {
      "text/plain": [
       "200"
      ]
     },
     "execution_count": 5,
     "metadata": {},
     "output_type": "execute_result"
    }
   ],
   "source": [
    "NUMBER=200\n",
    "NUMBER"
   ]
  },
  {
   "cell_type": "code",
   "execution_count": 8,
   "id": "66fdf8d1",
   "metadata": {
    "ExecuteTime": {
     "end_time": "2023-10-06T14:24:54.872782Z",
     "start_time": "2023-10-06T14:24:54.855788Z"
    }
   },
   "outputs": [
    {
     "data": {
      "text/plain": [
       "300"
      ]
     },
     "execution_count": 8,
     "metadata": {},
     "output_type": "execute_result"
    }
   ],
   "source": [
    "NUMber=300\n",
    "NUMber"
   ]
  },
  {
   "cell_type": "code",
   "execution_count": 9,
   "id": "df452115",
   "metadata": {
    "ExecuteTime": {
     "end_time": "2023-10-06T14:25:34.416378Z",
     "start_time": "2023-10-06T14:25:34.406385Z"
    }
   },
   "outputs": [
    {
     "data": {
      "text/plain": [
       "500"
      ]
     },
     "execution_count": 9,
     "metadata": {},
     "output_type": "execute_result"
    }
   ],
   "source": [
    "number123=500\n",
    "number123"
   ]
  },
  {
   "cell_type": "code",
   "execution_count": 10,
   "id": "15d9482d",
   "metadata": {
    "ExecuteTime": {
     "end_time": "2023-10-06T14:26:07.136349Z",
     "start_time": "2023-10-06T14:26:07.122358Z"
    }
   },
   "outputs": [
    {
     "ename": "SyntaxError",
     "evalue": "invalid syntax (Temp/ipykernel_13684/2634384393.py, line 1)",
     "output_type": "error",
     "traceback": [
      "\u001b[1;36m  File \u001b[1;32m\"C:\\Users\\admin\\AppData\\Local\\Temp/ipykernel_13684/2634384393.py\"\u001b[1;36m, line \u001b[1;32m1\u001b[0m\n\u001b[1;33m    123number=600\u001b[0m\n\u001b[1;37m       ^\u001b[0m\n\u001b[1;31mSyntaxError\u001b[0m\u001b[1;31m:\u001b[0m invalid syntax\n"
     ]
    }
   ],
   "source": [
    "123number=600\n",
    "123number"
   ]
  },
  {
   "cell_type": "markdown",
   "id": "9d2e89fa",
   "metadata": {},
   "source": [
    "- Variables are case sensitive\n",
    "- Both UPPER case and Lower Case will used to intialize the variables\n",
    "- Letters are prefix and number as suffix will work\n",
    "- Numbers are prefix will not work\n",
    "- _ symbol will work other then _ all symbols will not work\n",
    "- keywords not used as variables\n"
   ]
  },
  {
   "cell_type": "code",
   "execution_count": null,
   "id": "839b92fb",
   "metadata": {},
   "outputs": [],
   "source": [
    "Keywords "
   ]
  },
  {
   "cell_type": "code",
   "execution_count": null,
   "id": "704677a1",
   "metadata": {},
   "outputs": [],
   "source": [
    "- Syntax\n",
    "- Conditional Statements  if else\n",
    "- Functions               def\n",
    "- Loop                    for while"
   ]
  },
  {
   "cell_type": "code",
   "execution_count": 11,
   "id": "260fb6b8",
   "metadata": {
    "ExecuteTime": {
     "end_time": "2023-10-06T14:35:40.861396Z",
     "start_time": "2023-10-06T14:35:40.847404Z"
    }
   },
   "outputs": [
    {
     "data": {
      "text/plain": [
       "100"
      ]
     },
     "execution_count": 11,
     "metadata": {},
     "output_type": "execute_result"
    }
   ],
   "source": [
    "sum=100\n",
    "sum"
   ]
  },
  {
   "cell_type": "code",
   "execution_count": null,
   "id": "4f82dd67",
   "metadata": {},
   "outputs": [],
   "source": []
  },
  {
   "cell_type": "code",
   "execution_count": null,
   "id": "82664da2",
   "metadata": {},
   "outputs": [],
   "source": []
  },
  {
   "cell_type": "code",
   "execution_count": null,
   "id": "48a0207d",
   "metadata": {},
   "outputs": [],
   "source": []
  },
  {
   "cell_type": "code",
   "execution_count": null,
   "id": "cc63eb79",
   "metadata": {},
   "outputs": [],
   "source": []
  },
  {
   "cell_type": "code",
   "execution_count": null,
   "id": "077d1ddf",
   "metadata": {},
   "outputs": [],
   "source": []
  },
  {
   "cell_type": "code",
   "execution_count": null,
   "id": "4920ddd2",
   "metadata": {},
   "outputs": [],
   "source": []
  },
  {
   "cell_type": "code",
   "execution_count": null,
   "id": "881f9d7d",
   "metadata": {},
   "outputs": [],
   "source": []
  },
  {
   "cell_type": "code",
   "execution_count": null,
   "id": "bb6690f9",
   "metadata": {},
   "outputs": [],
   "source": []
  },
  {
   "cell_type": "code",
   "execution_count": null,
   "id": "d256c8c9",
   "metadata": {},
   "outputs": [],
   "source": []
  }
 ],
 "metadata": {
  "kernelspec": {
   "display_name": "Python 3 (ipykernel)",
   "language": "python",
   "name": "python3"
  },
  "language_info": {
   "codemirror_mode": {
    "name": "ipython",
    "version": 3
   },
   "file_extension": ".py",
   "mimetype": "text/x-python",
   "name": "python",
   "nbconvert_exporter": "python",
   "pygments_lexer": "ipython3",
   "version": "3.9.7"
  }
 },
 "nbformat": 4,
 "nbformat_minor": 5
}
