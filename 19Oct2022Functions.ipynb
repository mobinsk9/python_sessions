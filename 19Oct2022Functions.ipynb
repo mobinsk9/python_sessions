{
 "cells": [
  {
   "cell_type": "code",
   "execution_count": 3,
   "id": "9b74bcbc",
   "metadata": {
    "ExecuteTime": {
     "end_time": "2023-10-19T14:12:49.065933Z",
     "start_time": "2023-10-19T14:12:45.950144Z"
    }
   },
   "outputs": [
    {
     "name": "stdout",
     "output_type": "stream",
     "text": [
      "Enter n1 value:10\n",
      "Enter n2 value:20\n",
      "Enter n3 value:30\n",
      "20.0\n"
     ]
    }
   ],
   "source": [
    "def avg():\n",
    "    try:\n",
    "        n1=eval(input(\"Enter n1 value:\"))\n",
    "        n2=eval(input(\"Enter n2 value:\"))\n",
    "        n3=eval(input(\"Enter n3 value:\"))\n",
    "        print((n1+n2+n3)/3)\n",
    "    except Exception as e:\n",
    "        print(e)\n",
    "\n",
    "avg()"
   ]
  },
  {
   "cell_type": "code",
   "execution_count": 7,
   "id": "9fb89e45",
   "metadata": {
    "ExecuteTime": {
     "end_time": "2023-10-19T14:14:03.330757Z",
     "start_time": "2023-10-19T14:14:03.320763Z"
    }
   },
   "outputs": [
    {
     "name": "stdout",
     "output_type": "stream",
     "text": [
      "20.0\n"
     ]
    }
   ],
   "source": [
    "def avg1(n1,n2,n3):\n",
    "        try:\n",
    "            print((n1+n2+n3)/3)\n",
    "        except Exception as e:\n",
    "            print(e)\n",
    "avg1(10,20,30)"
   ]
  },
  {
   "cell_type": "code",
   "execution_count": 8,
   "id": "43cd9493",
   "metadata": {
    "ExecuteTime": {
     "end_time": "2023-10-19T14:14:59.701756Z",
     "start_time": "2023-10-19T14:14:59.679792Z"
    }
   },
   "outputs": [
    {
     "name": "stdout",
     "output_type": "stream",
     "text": [
      "20.0\n"
     ]
    }
   ],
   "source": [
    "def avg2(n1,n2,n3=30):\n",
    "    try:\n",
    "        print((n1+n2+n3)/3)\n",
    "    except Exception as e:\n",
    "        print(e)\n",
    "avg2(10,20)"
   ]
  },
  {
   "cell_type": "code",
   "execution_count": 16,
   "id": "2121a2cb",
   "metadata": {
    "ExecuteTime": {
     "end_time": "2023-10-19T14:40:31.242892Z",
     "start_time": "2023-10-19T14:40:31.233898Z"
    }
   },
   "outputs": [],
   "source": [
    "def avg():\n",
    "    try:\n",
    "        n1=eval(input(\"Enter n1 value:\"))\n",
    "        n2=eval(input(\"Enter n2 value:\"))\n",
    "        n3=eval(input(\"Enter n3 value:\"))\n",
    "        add1=(n1+n2+n3)\n",
    "        avg=round(add1/3)\n",
    "        #print((n1+n2+n3)/3)\n",
    "        return(add1,avg)\n",
    "    except Exception as e:\n",
    "        print(e)"
   ]
  },
  {
   "cell_type": "code",
   "execution_count": 18,
   "id": "affc12a7",
   "metadata": {
    "ExecuteTime": {
     "end_time": "2023-10-19T14:44:38.336305Z",
     "start_time": "2023-10-19T14:44:32.921681Z"
    }
   },
   "outputs": [
    {
     "name": "stdout",
     "output_type": "stream",
     "text": [
      "Enter n1 value:10\n",
      "Enter n2 value:20\n",
      "Enter n3 value:30\n"
     ]
    }
   ],
   "source": [
    "add1,avg=avg()"
   ]
  },
  {
   "cell_type": "code",
   "execution_count": 19,
   "id": "d6041907",
   "metadata": {
    "ExecuteTime": {
     "end_time": "2023-10-19T14:52:28.953895Z",
     "start_time": "2023-10-19T14:52:28.941901Z"
    }
   },
   "outputs": [],
   "source": [
    "def tax_amt(sal,tax=10):\n",
    "    try:\n",
    "        tax_amount=(sal*tax)/100\n",
    "        return(tax_amount)\n",
    "    except Exception as e:\n",
    "        print(e)"
   ]
  },
  {
   "cell_type": "code",
   "execution_count": 20,
   "id": "dcecdb96",
   "metadata": {
    "ExecuteTime": {
     "end_time": "2023-10-19T14:52:40.098903Z",
     "start_time": "2023-10-19T14:52:40.091906Z"
    }
   },
   "outputs": [
    {
     "data": {
      "text/plain": [
       "10000.0"
      ]
     },
     "execution_count": 20,
     "metadata": {},
     "output_type": "execute_result"
    }
   ],
   "source": [
    "tax_amt(100000)"
   ]
  },
  {
   "cell_type": "code",
   "execution_count": 23,
   "id": "25c553ba",
   "metadata": {
    "ExecuteTime": {
     "end_time": "2023-10-19T15:01:30.227770Z",
     "start_time": "2023-10-19T15:01:30.212774Z"
    }
   },
   "outputs": [],
   "source": [
    "def cal(a,b):\n",
    "    try:\n",
    "        return(a+b,a-b,a*b,a/b)\n",
    "    except Exception as e:\n",
    "        print(e)"
   ]
  },
  {
   "cell_type": "code",
   "execution_count": 25,
   "id": "1b536dbe",
   "metadata": {
    "ExecuteTime": {
     "end_time": "2023-10-19T15:01:36.287444Z",
     "start_time": "2023-10-19T15:01:36.278449Z"
    }
   },
   "outputs": [
    {
     "data": {
      "text/plain": [
       "(22, 18, 40, 10.0)"
      ]
     },
     "execution_count": 25,
     "metadata": {},
     "output_type": "execute_result"
    }
   ],
   "source": [
    "cal(20,2)"
   ]
  },
  {
   "cell_type": "code",
   "execution_count": 26,
   "id": "a49df01e",
   "metadata": {
    "ExecuteTime": {
     "end_time": "2023-10-19T15:24:59.527336Z",
     "start_time": "2023-10-19T15:24:59.504348Z"
    }
   },
   "outputs": [],
   "source": [
    "def max_num():\n",
    "    try:\n",
    "        n1=eval(input(\"Enter n1 Value:\"))\n",
    "        n2=eval(input(\"Enter n2 Value:\"))\n",
    "        n3=eval(input(\"Enter n3 value:\"))\n",
    "        if n1>n2 and n1>n3:\n",
    "            return(n1)\n",
    "        elif n2>n3:\n",
    "            return(n2)\n",
    "        else:\n",
    "            return(n3)\n",
    "    except Exception as e:\n",
    "        print(e)"
   ]
  },
  {
   "cell_type": "code",
   "execution_count": 27,
   "id": "e4540abf",
   "metadata": {
    "ExecuteTime": {
     "end_time": "2023-10-19T15:25:14.265143Z",
     "start_time": "2023-10-19T15:25:11.304661Z"
    }
   },
   "outputs": [
    {
     "name": "stdout",
     "output_type": "stream",
     "text": [
      "Enter n1 Value:10\n",
      "Enter n2 Value:20\n",
      "Enter n3 value:30\n"
     ]
    },
    {
     "data": {
      "text/plain": [
       "30"
      ]
     },
     "execution_count": 27,
     "metadata": {},
     "output_type": "execute_result"
    }
   ],
   "source": [
    "max_num()"
   ]
  },
  {
   "cell_type": "code",
   "execution_count": 28,
   "id": "55ae8865",
   "metadata": {
    "ExecuteTime": {
     "end_time": "2023-10-19T15:25:39.963599Z",
     "start_time": "2023-10-19T15:25:39.942613Z"
    }
   },
   "outputs": [],
   "source": [
    "def max_num(n1,n2,n3):\n",
    "    try:\n",
    "        if n1>n2 and n1>n3:\n",
    "            return(n1)\n",
    "        elif n2>n3:\n",
    "            return(n2)\n",
    "        else:\n",
    "            return(n3)\n",
    "    except Exception as e:\n",
    "        print(e)"
   ]
  },
  {
   "cell_type": "code",
   "execution_count": 30,
   "id": "2942a7ea",
   "metadata": {
    "ExecuteTime": {
     "end_time": "2023-10-19T15:25:54.035577Z",
     "start_time": "2023-10-19T15:25:54.019588Z"
    }
   },
   "outputs": [
    {
     "data": {
      "text/plain": [
       "40"
      ]
     },
     "execution_count": 30,
     "metadata": {},
     "output_type": "execute_result"
    }
   ],
   "source": [
    "max_num(20,40,10)"
   ]
  },
  {
   "cell_type": "code",
   "execution_count": 31,
   "id": "03fb244b",
   "metadata": {
    "ExecuteTime": {
     "end_time": "2023-10-19T15:26:09.379436Z",
     "start_time": "2023-10-19T15:26:09.366466Z"
    }
   },
   "outputs": [],
   "source": [
    "def max_num(n1,n2,n3=30):\n",
    "    try:\n",
    "        if n1>n2 and n1>n3:\n",
    "            return(n1)\n",
    "        elif n2>n3:\n",
    "            return(n2)\n",
    "        else:\n",
    "            return(n3)\n",
    "    except Exception as e:\n",
    "        print(e)"
   ]
  },
  {
   "cell_type": "code",
   "execution_count": 33,
   "id": "bf21a14a",
   "metadata": {
    "ExecuteTime": {
     "end_time": "2023-10-19T15:26:24.282430Z",
     "start_time": "2023-10-19T15:26:24.261441Z"
    }
   },
   "outputs": [
    {
     "data": {
      "text/plain": [
       "50"
      ]
     },
     "execution_count": 33,
     "metadata": {},
     "output_type": "execute_result"
    }
   ],
   "source": [
    "max_num(10,50)"
   ]
  },
  {
   "cell_type": "code",
   "execution_count": 34,
   "id": "4ea30ce3",
   "metadata": {
    "ExecuteTime": {
     "end_time": "2023-10-19T15:28:17.016041Z",
     "start_time": "2023-10-19T15:28:12.650006Z"
    }
   },
   "outputs": [
    {
     "name": "stdout",
     "output_type": "stream",
     "text": [
      "Enter n1 Value:30\n",
      "Enter n2 Value:50\n",
      "Enter n3 value:10\n"
     ]
    }
   ],
   "source": [
    "n1=eval(input(\"Enter n1 Value:\"))\n",
    "n2=eval(input(\"Enter n2 Value:\"))\n",
    "n3=eval(input(\"Enter n3 value:\"))\n",
    "def max_num():\n",
    "    try:\n",
    "        if n1>n2 and n1>n3:\n",
    "            return(n1)\n",
    "        elif n2>n3:\n",
    "            return(n2)\n",
    "        else:\n",
    "            return(n3)\n",
    "    except Exception as e:\n",
    "        print(e)"
   ]
  },
  {
   "cell_type": "code",
   "execution_count": 35,
   "id": "68b95574",
   "metadata": {
    "ExecuteTime": {
     "end_time": "2023-10-19T15:28:23.122278Z",
     "start_time": "2023-10-19T15:28:23.105310Z"
    }
   },
   "outputs": [
    {
     "data": {
      "text/plain": [
       "50"
      ]
     },
     "execution_count": 35,
     "metadata": {},
     "output_type": "execute_result"
    }
   ],
   "source": [
    "max_num()"
   ]
  },
  {
   "cell_type": "code",
   "execution_count": null,
   "id": "c25a34b3",
   "metadata": {},
   "outputs": [],
   "source": []
  },
  {
   "cell_type": "code",
   "execution_count": null,
   "id": "a6ec62dc",
   "metadata": {},
   "outputs": [],
   "source": []
  },
  {
   "cell_type": "code",
   "execution_count": null,
   "id": "d6b5def7",
   "metadata": {},
   "outputs": [],
   "source": []
  },
  {
   "cell_type": "code",
   "execution_count": null,
   "id": "af7872d2",
   "metadata": {},
   "outputs": [],
   "source": []
  }
 ],
 "metadata": {
  "kernelspec": {
   "display_name": "Python 3 (ipykernel)",
   "language": "python",
   "name": "python3"
  },
  "language_info": {
   "codemirror_mode": {
    "name": "ipython",
    "version": 3
   },
   "file_extension": ".py",
   "mimetype": "text/x-python",
   "name": "python",
   "nbconvert_exporter": "python",
   "pygments_lexer": "ipython3",
   "version": "3.9.7"
  }
 },
 "nbformat": 4,
 "nbformat_minor": 5
}
