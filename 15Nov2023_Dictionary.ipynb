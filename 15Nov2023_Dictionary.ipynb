{
 "cells": [
  {
   "cell_type": "code",
   "execution_count": 32,
   "id": "2a5c2a35",
   "metadata": {
    "ExecuteTime": {
     "end_time": "2023-11-15T14:45:54.860849Z",
     "start_time": "2023-11-15T14:45:54.848856Z"
    }
   },
   "outputs": [
    {
     "data": {
      "text/plain": [
       "{'course_id1': 'DS',\n",
       " 'course_duration': 4,\n",
       " 'course_fee': 18000,\n",
       " 'institute': 'Naresh IT'}"
      ]
     },
     "execution_count": 32,
     "metadata": {},
     "output_type": "execute_result"
    }
   ],
   "source": [
    "dict1={\"course_id1\":'DS',\n",
    "      \"course_duration\":4,\n",
    "      \"course_fee\":18000,\n",
    "      \"institute\":\"Naresh IT\"}\n",
    "dict1"
   ]
  },
  {
   "cell_type": "markdown",
   "id": "2d9847f7",
   "metadata": {},
   "source": [
    "###  items-keys-values"
   ]
  },
  {
   "cell_type": "code",
   "execution_count": 4,
   "id": "46ad4991",
   "metadata": {
    "ExecuteTime": {
     "end_time": "2023-11-15T14:10:02.087768Z",
     "start_time": "2023-11-15T14:10:02.075769Z"
    }
   },
   "outputs": [
    {
     "data": {
      "text/plain": [
       "dict_items([('course_id1', 'DS'), ('course_duration', 4), ('course_fee', 18000), ('institute', 'Naresh IT')])"
      ]
     },
     "execution_count": 4,
     "metadata": {},
     "output_type": "execute_result"
    }
   ],
   "source": [
    "dict1.items() # All items"
   ]
  },
  {
   "cell_type": "code",
   "execution_count": 5,
   "id": "04833817",
   "metadata": {
    "ExecuteTime": {
     "end_time": "2023-11-15T14:10:04.154744Z",
     "start_time": "2023-11-15T14:10:04.131757Z"
    }
   },
   "outputs": [
    {
     "data": {
      "text/plain": [
       "dict_keys(['course_id1', 'course_duration', 'course_fee', 'institute'])"
      ]
     },
     "execution_count": 5,
     "metadata": {},
     "output_type": "execute_result"
    }
   ],
   "source": [
    "dict1.keys() # All Keys"
   ]
  },
  {
   "cell_type": "code",
   "execution_count": 6,
   "id": "8695fcdd",
   "metadata": {
    "ExecuteTime": {
     "end_time": "2023-11-15T14:10:07.730631Z",
     "start_time": "2023-11-15T14:10:07.715639Z"
    }
   },
   "outputs": [
    {
     "data": {
      "text/plain": [
       "dict_values(['DS', 4, 18000, 'Naresh IT'])"
      ]
     },
     "execution_count": 6,
     "metadata": {},
     "output_type": "execute_result"
    }
   ],
   "source": [
    "dict1.values()  #All Values"
   ]
  },
  {
   "cell_type": "code",
   "execution_count": 7,
   "id": "fbce7768",
   "metadata": {
    "ExecuteTime": {
     "end_time": "2023-11-15T14:10:58.814227Z",
     "start_time": "2023-11-15T14:10:58.803235Z"
    }
   },
   "outputs": [
    {
     "data": {
      "text/plain": [
       "dict_items"
      ]
     },
     "execution_count": 7,
     "metadata": {},
     "output_type": "execute_result"
    }
   ],
   "source": [
    "type(dict1.items())"
   ]
  },
  {
   "cell_type": "code",
   "execution_count": 8,
   "id": "92b9f085",
   "metadata": {
    "ExecuteTime": {
     "end_time": "2023-11-15T14:11:07.213977Z",
     "start_time": "2023-11-15T14:11:07.193989Z"
    }
   },
   "outputs": [
    {
     "data": {
      "text/plain": [
       "dict_keys"
      ]
     },
     "execution_count": 8,
     "metadata": {},
     "output_type": "execute_result"
    }
   ],
   "source": [
    "type(dict1.keys())"
   ]
  },
  {
   "cell_type": "code",
   "execution_count": 9,
   "id": "2cc6fd2c",
   "metadata": {
    "ExecuteTime": {
     "end_time": "2023-11-15T14:11:17.623330Z",
     "start_time": "2023-11-15T14:11:17.614337Z"
    }
   },
   "outputs": [
    {
     "data": {
      "text/plain": [
       "dict_values"
      ]
     },
     "execution_count": 9,
     "metadata": {},
     "output_type": "execute_result"
    }
   ],
   "source": [
    "type(dict1.values())"
   ]
  },
  {
   "cell_type": "code",
   "execution_count": 10,
   "id": "a191ca97",
   "metadata": {
    "ExecuteTime": {
     "end_time": "2023-11-15T14:11:36.086893Z",
     "start_time": "2023-11-15T14:11:36.062909Z"
    }
   },
   "outputs": [
    {
     "name": "stdout",
     "output_type": "stream",
     "text": [
      "('course_id1', 'DS')\n",
      "('course_duration', 4)\n",
      "('course_fee', 18000)\n",
      "('institute', 'Naresh IT')\n"
     ]
    }
   ],
   "source": [
    "for i in dict1.items():\n",
    "    print(i)"
   ]
  },
  {
   "cell_type": "code",
   "execution_count": 12,
   "id": "f2e964ec",
   "metadata": {
    "ExecuteTime": {
     "end_time": "2023-11-15T14:11:57.071803Z",
     "start_time": "2023-11-15T14:11:57.059832Z"
    }
   },
   "outputs": [
    {
     "name": "stdout",
     "output_type": "stream",
     "text": [
      "course_id1\n",
      "course_duration\n",
      "course_fee\n",
      "institute\n"
     ]
    }
   ],
   "source": [
    "for i in dict1.keys():\n",
    "    print(i)"
   ]
  },
  {
   "cell_type": "code",
   "execution_count": 13,
   "id": "59b3e2a6",
   "metadata": {
    "ExecuteTime": {
     "end_time": "2023-11-15T14:12:25.741281Z",
     "start_time": "2023-11-15T14:12:25.730290Z"
    }
   },
   "outputs": [
    {
     "name": "stdout",
     "output_type": "stream",
     "text": [
      "DS\n",
      "4\n",
      "18000\n",
      "Naresh IT\n"
     ]
    }
   ],
   "source": [
    "for i in dict1.values():\n",
    "    print(i)"
   ]
  },
  {
   "cell_type": "code",
   "execution_count": 14,
   "id": "0f46d19a",
   "metadata": {
    "ExecuteTime": {
     "end_time": "2023-11-15T14:12:52.795161Z",
     "start_time": "2023-11-15T14:12:52.777171Z"
    }
   },
   "outputs": [
    {
     "name": "stdout",
     "output_type": "stream",
     "text": [
      "course_id1 DS\n",
      "course_duration 4\n",
      "course_fee 18000\n",
      "institute Naresh IT\n"
     ]
    }
   ],
   "source": [
    "for i,j in dict1.items():\n",
    "    print(i,j)"
   ]
  },
  {
   "cell_type": "code",
   "execution_count": 15,
   "id": "a829d48e",
   "metadata": {
    "ExecuteTime": {
     "end_time": "2023-11-15T14:15:43.784697Z",
     "start_time": "2023-11-15T14:15:43.760704Z"
    }
   },
   "outputs": [
    {
     "data": {
      "text/plain": [
       "[('course_id1', 'DS'),\n",
       " ('course_duration', 4),\n",
       " ('course_fee', 18000),\n",
       " ('institute', 'Naresh IT')]"
      ]
     },
     "execution_count": 15,
     "metadata": {},
     "output_type": "execute_result"
    }
   ],
   "source": [
    "list(dict1.items())"
   ]
  },
  {
   "cell_type": "code",
   "execution_count": 16,
   "id": "72a95db3",
   "metadata": {
    "ExecuteTime": {
     "end_time": "2023-11-15T14:16:01.842748Z",
     "start_time": "2023-11-15T14:16:01.821738Z"
    }
   },
   "outputs": [
    {
     "data": {
      "text/plain": [
       "list"
      ]
     },
     "execution_count": 16,
     "metadata": {},
     "output_type": "execute_result"
    }
   ],
   "source": [
    "type(list(dict1.items()))"
   ]
  },
  {
   "cell_type": "code",
   "execution_count": 17,
   "id": "8e65f8a3",
   "metadata": {
    "ExecuteTime": {
     "end_time": "2023-11-15T14:25:06.867813Z",
     "start_time": "2023-11-15T14:25:06.849825Z"
    }
   },
   "outputs": [
    {
     "data": {
      "text/plain": [
       "['course_id1', 'course_duration', 'course_fee', 'institute']"
      ]
     },
     "execution_count": 17,
     "metadata": {},
     "output_type": "execute_result"
    }
   ],
   "source": [
    "l1=list(dict1.keys())\n",
    "l1"
   ]
  },
  {
   "cell_type": "code",
   "execution_count": 19,
   "id": "ac0ee485",
   "metadata": {
    "ExecuteTime": {
     "end_time": "2023-11-15T14:25:31.823035Z",
     "start_time": "2023-11-15T14:25:31.804048Z"
    }
   },
   "outputs": [
    {
     "data": {
      "text/plain": [
       "['DS', 4, 18000, 'Naresh IT']"
      ]
     },
     "execution_count": 19,
     "metadata": {},
     "output_type": "execute_result"
    }
   ],
   "source": [
    "l2=list(dict1.values())\n",
    "l2"
   ]
  },
  {
   "cell_type": "code",
   "execution_count": 20,
   "id": "7c7cdadb",
   "metadata": {
    "ExecuteTime": {
     "end_time": "2023-11-15T14:28:32.659114Z",
     "start_time": "2023-11-15T14:28:32.646121Z"
    }
   },
   "outputs": [
    {
     "data": {
      "text/plain": [
       "{'A': 1, 'B': 2, 'C': 3}"
      ]
     },
     "execution_count": 20,
     "metadata": {},
     "output_type": "execute_result"
    }
   ],
   "source": [
    "keys=[\"A\",\"B\",\"C\"]\n",
    "values=[1,2,3]\n",
    "dict1={}\n",
    "for i,j in zip(keys,values):\n",
    "    dict1[i]=j\n",
    "dict1"
   ]
  },
  {
   "cell_type": "markdown",
   "id": "05b3a66a",
   "metadata": {},
   "source": [
    "Dictionary comprehension"
   ]
  },
  {
   "cell_type": "code",
   "execution_count": 21,
   "id": "4d487513",
   "metadata": {
    "ExecuteTime": {
     "end_time": "2023-11-15T14:36:06.428404Z",
     "start_time": "2023-11-15T14:36:06.416419Z"
    }
   },
   "outputs": [
    {
     "data": {
      "text/plain": [
       "{'A': 1, 'B': 2, 'C': 3}"
      ]
     },
     "execution_count": 21,
     "metadata": {},
     "output_type": "execute_result"
    }
   ],
   "source": [
    "{i:j for i,j in zip(keys,values)}"
   ]
  },
  {
   "cell_type": "code",
   "execution_count": 28,
   "id": "9d116305",
   "metadata": {
    "ExecuteTime": {
     "end_time": "2023-11-15T14:42:43.657534Z",
     "start_time": "2023-11-15T14:42:43.644540Z"
    }
   },
   "outputs": [
    {
     "data": {
      "text/plain": [
       "3"
      ]
     },
     "execution_count": 28,
     "metadata": {},
     "output_type": "execute_result"
    }
   ],
   "source": [
    "dict1.get(\"C\")"
   ]
  },
  {
   "cell_type": "code",
   "execution_count": 29,
   "id": "621edc0e",
   "metadata": {
    "ExecuteTime": {
     "end_time": "2023-11-15T14:44:09.548843Z",
     "start_time": "2023-11-15T14:44:09.528853Z"
    }
   },
   "outputs": [
    {
     "ename": "KeyError",
     "evalue": "'a'",
     "output_type": "error",
     "traceback": [
      "\u001b[1;31m---------------------------------------------------------------------------\u001b[0m",
      "\u001b[1;31mKeyError\u001b[0m                                  Traceback (most recent call last)",
      "\u001b[1;32m~\\AppData\\Local\\Temp/ipykernel_9608/795442319.py\u001b[0m in \u001b[0;36m<module>\u001b[1;34m\u001b[0m\n\u001b[1;32m----> 1\u001b[1;33m \u001b[0mdict1\u001b[0m\u001b[1;33m[\u001b[0m\u001b[1;34m'a'\u001b[0m\u001b[1;33m]\u001b[0m\u001b[1;33m\u001b[0m\u001b[1;33m\u001b[0m\u001b[0m\n\u001b[0m",
      "\u001b[1;31mKeyError\u001b[0m: 'a'"
     ]
    }
   ],
   "source": [
    "dict1['a']"
   ]
  },
  {
   "cell_type": "code",
   "execution_count": 30,
   "id": "36954cea",
   "metadata": {
    "ExecuteTime": {
     "end_time": "2023-11-15T14:44:30.811709Z",
     "start_time": "2023-11-15T14:44:30.793720Z"
    }
   },
   "outputs": [],
   "source": [
    "dict1.get('a')"
   ]
  },
  {
   "cell_type": "code",
   "execution_count": 31,
   "id": "629df25e",
   "metadata": {
    "ExecuteTime": {
     "end_time": "2023-11-15T14:45:23.852271Z",
     "start_time": "2023-11-15T14:45:23.835278Z"
    }
   },
   "outputs": [],
   "source": [
    "dict1.clear()"
   ]
  },
  {
   "cell_type": "code",
   "execution_count": 33,
   "id": "9e3303f1",
   "metadata": {
    "ExecuteTime": {
     "end_time": "2023-11-15T14:46:10.492617Z",
     "start_time": "2023-11-15T14:46:10.480625Z"
    }
   },
   "outputs": [
    {
     "data": {
      "text/plain": [
       "{'course_id1': 'DS',\n",
       " 'course_duration': 4,\n",
       " 'course_fee': 18000,\n",
       " 'institute': 'Naresh IT'}"
      ]
     },
     "execution_count": 33,
     "metadata": {},
     "output_type": "execute_result"
    }
   ],
   "source": [
    "dict2=dict1.copy()\n",
    "dict2"
   ]
  },
  {
   "cell_type": "code",
   "execution_count": 34,
   "id": "c78c372a",
   "metadata": {
    "ExecuteTime": {
     "end_time": "2023-11-15T14:46:22.206605Z",
     "start_time": "2023-11-15T14:46:22.196613Z"
    }
   },
   "outputs": [
    {
     "data": {
      "text/plain": [
       "{'course_id1': 'DS',\n",
       " 'course_duration': 4,\n",
       " 'course_fee': 18000,\n",
       " 'institute': 'Naresh IT'}"
      ]
     },
     "execution_count": 34,
     "metadata": {},
     "output_type": "execute_result"
    }
   ],
   "source": [
    "dict1"
   ]
  },
  {
   "cell_type": "code",
   "execution_count": 35,
   "id": "2a39ef3e",
   "metadata": {
    "ExecuteTime": {
     "end_time": "2023-11-15T14:46:25.769944Z",
     "start_time": "2023-11-15T14:46:25.756951Z"
    }
   },
   "outputs": [
    {
     "data": {
      "text/plain": [
       "{'course_id1': 'DS',\n",
       " 'course_duration': 4,\n",
       " 'course_fee': 18000,\n",
       " 'institute': 'Naresh IT'}"
      ]
     },
     "execution_count": 35,
     "metadata": {},
     "output_type": "execute_result"
    }
   ],
   "source": [
    "dict2"
   ]
  },
  {
   "cell_type": "code",
   "execution_count": 36,
   "id": "9cadcbf6",
   "metadata": {
    "ExecuteTime": {
     "end_time": "2023-11-15T14:46:33.993988Z",
     "start_time": "2023-11-15T14:46:33.986990Z"
    }
   },
   "outputs": [],
   "source": [
    "dict2.clear()"
   ]
  },
  {
   "cell_type": "code",
   "execution_count": 37,
   "id": "aa225fd2",
   "metadata": {
    "ExecuteTime": {
     "end_time": "2023-11-15T14:46:39.018075Z",
     "start_time": "2023-11-15T14:46:39.002126Z"
    }
   },
   "outputs": [
    {
     "data": {
      "text/plain": [
       "{}"
      ]
     },
     "execution_count": 37,
     "metadata": {},
     "output_type": "execute_result"
    }
   ],
   "source": [
    "dict2"
   ]
  },
  {
   "cell_type": "code",
   "execution_count": 38,
   "id": "7d217e41",
   "metadata": {
    "ExecuteTime": {
     "end_time": "2023-11-15T14:46:42.792704Z",
     "start_time": "2023-11-15T14:46:42.772690Z"
    }
   },
   "outputs": [
    {
     "data": {
      "text/plain": [
       "{'course_id1': 'DS',\n",
       " 'course_duration': 4,\n",
       " 'course_fee': 18000,\n",
       " 'institute': 'Naresh IT'}"
      ]
     },
     "execution_count": 38,
     "metadata": {},
     "output_type": "execute_result"
    }
   ],
   "source": [
    "dict1"
   ]
  },
  {
   "cell_type": "code",
   "execution_count": 41,
   "id": "96a61695",
   "metadata": {
    "ExecuteTime": {
     "end_time": "2023-11-15T14:49:25.785055Z",
     "start_time": "2023-11-15T14:49:25.764065Z"
    }
   },
   "outputs": [
    {
     "data": {
      "text/plain": [
       "'DS'"
      ]
     },
     "execution_count": 41,
     "metadata": {},
     "output_type": "execute_result"
    }
   ],
   "source": [
    "dict1.pop(\"course_id1\")"
   ]
  },
  {
   "cell_type": "code",
   "execution_count": 42,
   "id": "922e76a5",
   "metadata": {
    "ExecuteTime": {
     "end_time": "2023-11-15T14:49:43.805361Z",
     "start_time": "2023-11-15T14:49:43.797366Z"
    }
   },
   "outputs": [
    {
     "data": {
      "text/plain": [
       "('institute', 'Naresh IT')"
      ]
     },
     "execution_count": 42,
     "metadata": {},
     "output_type": "execute_result"
    }
   ],
   "source": [
    "dict1.popitem()"
   ]
  },
  {
   "cell_type": "markdown",
   "id": "a50ca575",
   "metadata": {},
   "source": [
    "popitem\n",
    "  - Will not take any arguments\n",
    "  - It will return the output\n",
    "  - Last in first out"
   ]
  },
  {
   "cell_type": "markdown",
   "id": "10f367e2",
   "metadata": {},
   "source": [
    "pop\n",
    "  - will take one argument\n",
    "  - It will return the corresponding values also"
   ]
  },
  {
   "cell_type": "markdown",
   "id": "b2e06132",
   "metadata": {},
   "source": [
    "del\n",
    "  - "
   ]
  },
  {
   "cell_type": "code",
   "execution_count": null,
   "id": "ad54ef82",
   "metadata": {},
   "outputs": [],
   "source": [
    "del dict1['course_duration']\n",
    "dict1"
   ]
  },
  {
   "cell_type": "code",
   "execution_count": 47,
   "id": "f36d633b",
   "metadata": {
    "ExecuteTime": {
     "end_time": "2023-11-15T14:51:03.300830Z",
     "start_time": "2023-11-15T14:51:03.289815Z"
    }
   },
   "outputs": [],
   "source": [
    "del(dict1)"
   ]
  },
  {
   "cell_type": "code",
   "execution_count": 48,
   "id": "5e4ef74e",
   "metadata": {
    "ExecuteTime": {
     "end_time": "2023-11-15T14:51:08.251924Z",
     "start_time": "2023-11-15T14:51:08.231937Z"
    }
   },
   "outputs": [
    {
     "ename": "NameError",
     "evalue": "name 'dict1' is not defined",
     "output_type": "error",
     "traceback": [
      "\u001b[1;31m---------------------------------------------------------------------------\u001b[0m",
      "\u001b[1;31mNameError\u001b[0m                                 Traceback (most recent call last)",
      "\u001b[1;32m~\\AppData\\Local\\Temp/ipykernel_9608/1911420973.py\u001b[0m in \u001b[0;36m<module>\u001b[1;34m\u001b[0m\n\u001b[1;32m----> 1\u001b[1;33m \u001b[0mdict1\u001b[0m\u001b[1;33m\u001b[0m\u001b[1;33m\u001b[0m\u001b[0m\n\u001b[0m",
      "\u001b[1;31mNameError\u001b[0m: name 'dict1' is not defined"
     ]
    }
   ],
   "source": [
    "dict1"
   ]
  },
  {
   "cell_type": "markdown",
   "id": "e3675457",
   "metadata": {},
   "source": [
    "$setdifault$"
   ]
  },
  {
   "cell_type": "code",
   "execution_count": 49,
   "id": "4170d9e2",
   "metadata": {
    "ExecuteTime": {
     "end_time": "2023-11-15T14:59:41.068540Z",
     "start_time": "2023-11-15T14:59:41.046553Z"
    }
   },
   "outputs": [
    {
     "data": {
      "text/plain": [
       "{'course_id1': 'DS',\n",
       " 'course_duration': 4,\n",
       " 'course_fee': 18000,\n",
       " 'institute': 'Naresh IT'}"
      ]
     },
     "execution_count": 49,
     "metadata": {},
     "output_type": "execute_result"
    }
   ],
   "source": [
    "dict1={\"course_id1\":'DS',\n",
    "      \"course_duration\":4,\n",
    "      \"course_fee\":18000,\n",
    "      \"institute\":\"Naresh IT\"}\n",
    "dict1"
   ]
  },
  {
   "cell_type": "code",
   "execution_count": 50,
   "id": "ca85ea25",
   "metadata": {
    "ExecuteTime": {
     "end_time": "2023-11-15T15:00:03.568089Z",
     "start_time": "2023-11-15T15:00:03.562091Z"
    }
   },
   "outputs": [],
   "source": [
    "dict1['package']='10 Laks'"
   ]
  },
  {
   "cell_type": "code",
   "execution_count": 51,
   "id": "2afffd5b",
   "metadata": {
    "ExecuteTime": {
     "end_time": "2023-11-15T15:00:41.861415Z",
     "start_time": "2023-11-15T15:00:41.844423Z"
    }
   },
   "outputs": [
    {
     "data": {
      "text/plain": [
       "'10 Laks'"
      ]
     },
     "execution_count": 51,
     "metadata": {},
     "output_type": "execute_result"
    }
   ],
   "source": [
    "dict1['package']"
   ]
  },
  {
   "cell_type": "code",
   "execution_count": 53,
   "id": "2a4c803e",
   "metadata": {
    "ExecuteTime": {
     "end_time": "2023-11-15T15:01:25.299015Z",
     "start_time": "2023-11-15T15:01:25.284040Z"
    }
   },
   "outputs": [
    {
     "data": {
      "text/plain": [
       "'10 Laks'"
      ]
     },
     "execution_count": 53,
     "metadata": {},
     "output_type": "execute_result"
    }
   ],
   "source": [
    "dict1.setdefault('package')"
   ]
  },
  {
   "cell_type": "code",
   "execution_count": 55,
   "id": "421e1414",
   "metadata": {
    "ExecuteTime": {
     "end_time": "2023-11-15T15:02:02.222273Z",
     "start_time": "2023-11-15T15:02:02.212281Z"
    }
   },
   "outputs": [
    {
     "data": {
      "text/plain": [
       "{'course_id1': 'DS',\n",
       " 'course_duration': 4,\n",
       " 'course_fee': 18000,\n",
       " 'institute': 'Naresh IT',\n",
       " 'package': '10 Laks',\n",
       " 'certification': None}"
      ]
     },
     "execution_count": 55,
     "metadata": {},
     "output_type": "execute_result"
    }
   ],
   "source": [
    "dict1.setdefault('certification')\n",
    "dict1"
   ]
  },
  {
   "cell_type": "code",
   "execution_count": 57,
   "id": "9e2920d8",
   "metadata": {
    "ExecuteTime": {
     "end_time": "2023-11-15T15:02:33.470077Z",
     "start_time": "2023-11-15T15:02:33.454068Z"
    }
   },
   "outputs": [
    {
     "data": {
      "text/plain": [
       "{'course_id1': 'DS',\n",
       " 'course_duration': 4,\n",
       " 'course_fee': 18000,\n",
       " 'institute': 'Naresh IT',\n",
       " 'package': '10 Laks',\n",
       " 'certification': None,\n",
       " 'certification1': 'valid'}"
      ]
     },
     "execution_count": 57,
     "metadata": {},
     "output_type": "execute_result"
    }
   ],
   "source": [
    "dict1.setdefault('certification1','valid')\n",
    "dict1"
   ]
  },
  {
   "cell_type": "code",
   "execution_count": 59,
   "id": "3dacb5fa",
   "metadata": {
    "ExecuteTime": {
     "end_time": "2023-11-15T15:04:12.062193Z",
     "start_time": "2023-11-15T15:04:12.043199Z"
    }
   },
   "outputs": [
    {
     "data": {
      "text/plain": [
       "{'A': None, 'B': None, 'C': None}"
      ]
     },
     "execution_count": 59,
     "metadata": {},
     "output_type": "execute_result"
    }
   ],
   "source": [
    "dict1.fromkeys(keys)"
   ]
  },
  {
   "cell_type": "code",
   "execution_count": 60,
   "id": "bea7f273",
   "metadata": {
    "ExecuteTime": {
     "end_time": "2023-11-15T15:06:57.660431Z",
     "start_time": "2023-11-15T15:06:57.633441Z"
    }
   },
   "outputs": [
    {
     "data": {
      "text/plain": [
       "{'p': 10, 'y': 10, 't': 10, 'h': 10, 'o': 10, 'n': 10}"
      ]
     },
     "execution_count": 60,
     "metadata": {},
     "output_type": "execute_result"
    }
   ],
   "source": [
    "dict1.fromkeys('python',10)"
   ]
  },
  {
   "cell_type": "code",
   "execution_count": 61,
   "id": "1dcd4925",
   "metadata": {
    "ExecuteTime": {
     "end_time": "2023-11-15T15:10:18.253606Z",
     "start_time": "2023-11-15T15:10:18.238591Z"
    }
   },
   "outputs": [
    {
     "data": {
      "text/plain": [
       "{'p': 'a', 'y': 'a', 't': 'a', 'h': 'a', 'o': 'a', 'n': 'a'}"
      ]
     },
     "execution_count": 61,
     "metadata": {},
     "output_type": "execute_result"
    }
   ],
   "source": [
    "dict1.fromkeys('python','a')"
   ]
  },
  {
   "cell_type": "code",
   "execution_count": null,
   "id": "4624007c",
   "metadata": {},
   "outputs": [],
   "source": []
  }
 ],
 "metadata": {
  "kernelspec": {
   "display_name": "Python 3 (ipykernel)",
   "language": "python",
   "name": "python3"
  },
  "language_info": {
   "codemirror_mode": {
    "name": "ipython",
    "version": 3
   },
   "file_extension": ".py",
   "mimetype": "text/x-python",
   "name": "python",
   "nbconvert_exporter": "python",
   "pygments_lexer": "ipython3",
   "version": "3.9.7"
  }
 },
 "nbformat": 4,
 "nbformat_minor": 5
}
