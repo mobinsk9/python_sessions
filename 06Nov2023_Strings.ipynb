{
 "cells": [
  {
   "cell_type": "code",
   "execution_count": 1,
   "id": "9965384a",
   "metadata": {
    "ExecuteTime": {
     "end_time": "2023-11-06T14:18:17.258306Z",
     "start_time": "2023-11-06T14:18:17.253310Z"
    }
   },
   "outputs": [],
   "source": [
    "string1='welcome'"
   ]
  },
  {
   "cell_type": "code",
   "execution_count": 2,
   "id": "12e7f5a9",
   "metadata": {
    "ExecuteTime": {
     "end_time": "2023-11-06T14:18:41.806176Z",
     "start_time": "2023-11-06T14:18:41.486359Z"
    }
   },
   "outputs": [
    {
     "ename": "TypeError",
     "evalue": "'str' object does not support item assignment",
     "output_type": "error",
     "traceback": [
      "\u001b[1;31m---------------------------------------------------------------------------\u001b[0m",
      "\u001b[1;31mTypeError\u001b[0m                                 Traceback (most recent call last)",
      "\u001b[1;32m~\\AppData\\Local\\Temp/ipykernel_4268/1548692454.py\u001b[0m in \u001b[0;36m<module>\u001b[1;34m\u001b[0m\n\u001b[1;32m----> 1\u001b[1;33m \u001b[0mstring1\u001b[0m\u001b[1;33m[\u001b[0m\u001b[1;36m2\u001b[0m\u001b[1;33m]\u001b[0m\u001b[1;33m=\u001b[0m\u001b[1;34m'L'\u001b[0m\u001b[1;33m\u001b[0m\u001b[1;33m\u001b[0m\u001b[0m\n\u001b[0m\u001b[0;32m      2\u001b[0m \u001b[0mstring1\u001b[0m\u001b[1;33m\u001b[0m\u001b[1;33m\u001b[0m\u001b[0m\n",
      "\u001b[1;31mTypeError\u001b[0m: 'str' object does not support item assignment"
     ]
    }
   ],
   "source": [
    "string1[2]='L'  # Strings are immutable\n",
    "string1"
   ]
  },
  {
   "cell_type": "code",
   "execution_count": 5,
   "id": "085476d0",
   "metadata": {
    "ExecuteTime": {
     "end_time": "2023-11-06T14:19:43.980596Z",
     "start_time": "2023-11-06T14:19:43.963606Z"
    }
   },
   "outputs": [
    {
     "data": {
      "text/plain": [
       "'weLcome'"
      ]
     },
     "execution_count": 5,
     "metadata": {},
     "output_type": "execute_result"
    }
   ],
   "source": [
    "string1[:2]+'L'+string1[3:]   # By using index methods"
   ]
  },
  {
   "cell_type": "code",
   "execution_count": 6,
   "id": "3f538eba",
   "metadata": {
    "ExecuteTime": {
     "end_time": "2023-11-06T14:20:14.263293Z",
     "start_time": "2023-11-06T14:20:14.240299Z"
    }
   },
   "outputs": [
    {
     "data": {
      "text/plain": [
       "'weLcome'"
      ]
     },
     "execution_count": 6,
     "metadata": {},
     "output_type": "execute_result"
    }
   ],
   "source": [
    "string1.replace('l','L')"
   ]
  },
  {
   "cell_type": "markdown",
   "id": "262808be",
   "metadata": {},
   "source": [
    "string2=restart\n",
    "output1=$estart\n",
    "Output2=resta$t"
   ]
  },
  {
   "cell_type": "code",
   "execution_count": 10,
   "id": "52927587",
   "metadata": {
    "ExecuteTime": {
     "end_time": "2023-11-06T14:28:36.848831Z",
     "start_time": "2023-11-06T14:28:36.835840Z"
    }
   },
   "outputs": [],
   "source": [
    "def repl():\n",
    "    try:\n",
    "        string2=input(\"Enter a String to replace:\")\n",
    "        return '$'+string2[1:]\n",
    "    except Exception as e:\n",
    "        print(e)"
   ]
  },
  {
   "cell_type": "code",
   "execution_count": 11,
   "id": "7b033970",
   "metadata": {
    "ExecuteTime": {
     "end_time": "2023-11-06T14:28:41.752264Z",
     "start_time": "2023-11-06T14:28:39.008264Z"
    }
   },
   "outputs": [
    {
     "name": "stdout",
     "output_type": "stream",
     "text": [
      "Enter a String to replace:restart\n"
     ]
    },
    {
     "data": {
      "text/plain": [
       "'$estart'"
      ]
     },
     "execution_count": 11,
     "metadata": {},
     "output_type": "execute_result"
    }
   ],
   "source": [
    "repl()"
   ]
  },
  {
   "cell_type": "code",
   "execution_count": null,
   "id": "c3aae2ce",
   "metadata": {},
   "outputs": [],
   "source": [
    "def repl():\n",
    "    try:\n",
    "        string2=input(\"Enter a String to replace:\")\n",
    "        return string2.replace(string2[0],'$')\n",
    "    except Exception as e:\n",
    "        print(e)"
   ]
  },
  {
   "cell_type": "code",
   "execution_count": null,
   "id": "a683f496",
   "metadata": {},
   "outputs": [],
   "source": [
    "    string.replace()"
   ]
  },
  {
   "cell_type": "code",
   "execution_count": 18,
   "id": "a5878211",
   "metadata": {
    "ExecuteTime": {
     "end_time": "2023-11-06T14:34:21.016605Z",
     "start_time": "2023-11-06T14:34:18.132137Z"
    }
   },
   "outputs": [
    {
     "name": "stdout",
     "output_type": "stream",
     "text": [
      "Enter a String to replace:restart\n",
      "$estart\n"
     ]
    }
   ],
   "source": [
    "#output1=$estart\n",
    "string2=input(\"Enter a String to replace:\")\n",
    "print(string2.replace('r','$',1))"
   ]
  },
  {
   "cell_type": "code",
   "execution_count": 25,
   "id": "6c1179f8",
   "metadata": {
    "ExecuteTime": {
     "end_time": "2023-11-06T14:43:49.625872Z",
     "start_time": "2023-11-06T14:43:46.646606Z"
    }
   },
   "outputs": [
    {
     "name": "stdout",
     "output_type": "stream",
     "text": [
      "Enter a String to replace:restart\n"
     ]
    },
    {
     "data": {
      "text/plain": [
       "'resta$t'"
      ]
     },
     "execution_count": 25,
     "metadata": {},
     "output_type": "execute_result"
    }
   ],
   "source": [
    "#Output2=resta$t   Type1\n",
    "string2=input(\"Enter a String to replace:\")\n",
    "string2[:1]+string2[1:].replace('r','$',1)"
   ]
  },
  {
   "cell_type": "code",
   "execution_count": 27,
   "id": "5fc6be4d",
   "metadata": {
    "ExecuteTime": {
     "end_time": "2023-11-06T14:45:03.172477Z",
     "start_time": "2023-11-06T14:45:03.163504Z"
    }
   },
   "outputs": [
    {
     "data": {
      "text/plain": [
       "'resta$t'"
      ]
     },
     "execution_count": 27,
     "metadata": {},
     "output_type": "execute_result"
    }
   ],
   "source": [
    "#Type2\n",
    "string2[::-1].replace('r','$',1)[::-1]"
   ]
  },
  {
   "cell_type": "code",
   "execution_count": 34,
   "id": "68e305cf",
   "metadata": {
    "ExecuteTime": {
     "end_time": "2023-11-06T14:58:48.058440Z",
     "start_time": "2023-11-06T14:58:48.034454Z"
    }
   },
   "outputs": [
    {
     "data": {
      "text/plain": [
       "3"
      ]
     },
     "execution_count": 34,
     "metadata": {},
     "output_type": "execute_result"
    }
   ],
   "source": [
    "string1='restart'\n",
    "string1.index('t')"
   ]
  },
  {
   "cell_type": "code",
   "execution_count": 38,
   "id": "9dc80b55",
   "metadata": {
    "ExecuteTime": {
     "end_time": "2023-11-06T15:00:53.929445Z",
     "start_time": "2023-11-06T15:00:53.921449Z"
    }
   },
   "outputs": [
    {
     "data": {
      "text/plain": [
       "6"
      ]
     },
     "execution_count": 38,
     "metadata": {},
     "output_type": "execute_result"
    }
   ],
   "source": [
    "string1.index('t',string1.index('t')+1)"
   ]
  },
  {
   "cell_type": "code",
   "execution_count": 55,
   "id": "82c8ecff",
   "metadata": {
    "ExecuteTime": {
     "end_time": "2023-11-06T15:16:06.431785Z",
     "start_time": "2023-11-06T15:16:06.411797Z"
    }
   },
   "outputs": [
    {
     "data": {
      "text/plain": [
       "7"
      ]
     },
     "execution_count": 55,
     "metadata": {},
     "output_type": "execute_result"
    }
   ],
   "source": [
    "string1='how to restart'\n",
    "string1.index('re',1,11)"
   ]
  },
  {
   "cell_type": "code",
   "execution_count": 56,
   "id": "1ff7b4df",
   "metadata": {
    "ExecuteTime": {
     "end_time": "2023-11-06T15:20:01.773960Z",
     "start_time": "2023-11-06T15:20:01.758992Z"
    }
   },
   "outputs": [
    {
     "name": "stdout",
     "output_type": "stream",
     "text": [
      "4\n",
      "10\n",
      "10\n"
     ]
    }
   ],
   "source": [
    "st='How to restart t'\n",
    "print(st.index('t'))\n",
    "print(st.index('t',st.index('t')+1))\n",
    "print(st.index('t',((st.index('t')+1)+(st.index('t')+1))))"
   ]
  },
  {
   "cell_type": "code",
   "execution_count": 61,
   "id": "a0cab74c",
   "metadata": {
    "ExecuteTime": {
     "end_time": "2023-11-06T15:22:29.161126Z",
     "start_time": "2023-11-06T15:22:29.142162Z"
    }
   },
   "outputs": [
    {
     "name": "stdout",
     "output_type": "stream",
     "text": [
      "0\n",
      "how to restart\n"
     ]
    }
   ],
   "source": [
    "print(string1.count('T'))\n",
    "print(string1.index('T'))  #ValueError: substring not found\n",
    "print(string1.replace('T','&'))"
   ]
  },
  {
   "cell_type": "code",
   "execution_count": 62,
   "id": "82eb6c16",
   "metadata": {
    "ExecuteTime": {
     "end_time": "2023-11-06T15:23:36.796971Z",
     "start_time": "2023-11-06T15:23:36.773984Z"
    }
   },
   "outputs": [
    {
     "data": {
      "text/plain": [
       "4"
      ]
     },
     "execution_count": 62,
     "metadata": {},
     "output_type": "execute_result"
    }
   ],
   "source": [
    "string1.find('t')"
   ]
  },
  {
   "cell_type": "code",
   "execution_count": 64,
   "id": "963168f6",
   "metadata": {
    "ExecuteTime": {
     "end_time": "2023-11-06T15:24:05.399125Z",
     "start_time": "2023-11-06T15:24:05.388131Z"
    }
   },
   "outputs": [
    {
     "data": {
      "text/plain": [
       "10"
      ]
     },
     "execution_count": 64,
     "metadata": {},
     "output_type": "execute_result"
    }
   ],
   "source": [
    "string1.find('t',st.index('t')+1)"
   ]
  },
  {
   "cell_type": "code",
   "execution_count": null,
   "id": "2dff1abc",
   "metadata": {},
   "outputs": [],
   "source": [
    "print(string1.count('T'))\n",
    "print(string1.index('T'))  #ValueError: substring not found\n",
    "print(string1.replace('T','&'))\n",
    "string1.find('T')   # -1"
   ]
  },
  {
   "cell_type": "code",
   "execution_count": 68,
   "id": "ef3ba38e",
   "metadata": {
    "ExecuteTime": {
     "end_time": "2023-11-06T15:35:15.338929Z",
     "start_time": "2023-11-06T15:35:15.327930Z"
    }
   },
   "outputs": [
    {
     "data": {
      "text/plain": [
       "['hai', 'hello', 'how', 'are']"
      ]
     },
     "execution_count": 68,
     "metadata": {},
     "output_type": "execute_result"
    }
   ],
   "source": [
    "string1='hai hello how are'\n",
    "string1.split()"
   ]
  },
  {
   "cell_type": "code",
   "execution_count": 70,
   "id": "45e11052",
   "metadata": {
    "ExecuteTime": {
     "end_time": "2023-11-06T15:36:00.310913Z",
     "start_time": "2023-11-06T15:36:00.297925Z"
    }
   },
   "outputs": [
    {
     "data": {
      "text/plain": [
       "['hai hello', 'how are']"
      ]
     },
     "execution_count": 70,
     "metadata": {},
     "output_type": "execute_result"
    }
   ],
   "source": [
    "string2='hai hello,how are'\n",
    "string2.split(',')"
   ]
  },
  {
   "cell_type": "code",
   "execution_count": 73,
   "id": "b0befaa7",
   "metadata": {
    "ExecuteTime": {
     "end_time": "2023-11-06T15:38:59.899108Z",
     "start_time": "2023-11-06T15:38:59.889961Z"
    }
   },
   "outputs": [
    {
     "data": {
      "text/plain": [
       "['h', 'i how,', 're you']"
      ]
     },
     "execution_count": 73,
     "metadata": {},
     "output_type": "execute_result"
    }
   ],
   "source": [
    "string3='hai how,are you'\n",
    "string3.split('a')"
   ]
  },
  {
   "cell_type": "code",
   "execution_count": null,
   "id": "1847b82f",
   "metadata": {},
   "outputs": [],
   "source": []
  },
  {
   "cell_type": "code",
   "execution_count": null,
   "id": "f5ea5aab",
   "metadata": {},
   "outputs": [],
   "source": []
  },
  {
   "cell_type": "code",
   "execution_count": null,
   "id": "fd111827",
   "metadata": {},
   "outputs": [],
   "source": []
  },
  {
   "cell_type": "code",
   "execution_count": null,
   "id": "2aa7bf25",
   "metadata": {},
   "outputs": [],
   "source": []
  },
  {
   "cell_type": "code",
   "execution_count": null,
   "id": "25105c4d",
   "metadata": {},
   "outputs": [],
   "source": []
  }
 ],
 "metadata": {
  "kernelspec": {
   "display_name": "Python 3 (ipykernel)",
   "language": "python",
   "name": "python3"
  },
  "language_info": {
   "codemirror_mode": {
    "name": "ipython",
    "version": 3
   },
   "file_extension": ".py",
   "mimetype": "text/x-python",
   "name": "python",
   "nbconvert_exporter": "python",
   "pygments_lexer": "ipython3",
   "version": "3.9.7"
  }
 },
 "nbformat": 4,
 "nbformat_minor": 5
}
