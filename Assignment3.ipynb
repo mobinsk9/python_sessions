{
 "cells": [
  {
   "cell_type": "markdown",
   "id": "47ac5f0c",
   "metadata": {},
   "source": [
    "## Without arguments"
   ]
  },
  {
   "cell_type": "markdown",
   "id": "2394fa67",
   "metadata": {},
   "source": [
    "Ask the user to enter a number. Print out the square of the number,\n",
    "but use the sep optional argument to print it out in a full sentence that\n",
    "ends in a period.\n",
    "Sample output is shown below.\n",
    "Enter a number: 5\n",
    "The square of 5 is 25."
   ]
  },
  {
   "cell_type": "code",
   "execution_count": 2,
   "id": "77af00f9",
   "metadata": {
    "ExecuteTime": {
     "end_time": "2023-10-24T10:19:32.119389Z",
     "start_time": "2023-10-24T10:19:32.105397Z"
    }
   },
   "outputs": [],
   "source": [
    "def square():\n",
    "    try:\n",
    "        n=eval(input(\"Enter a number:\"))\n",
    "        print(\"The Square of entered number {} is {}\".format(n,n*n))\n",
    "    except Exception as e:\n",
    "        print(e)"
   ]
  },
  {
   "cell_type": "code",
   "execution_count": 4,
   "id": "804d1bfe",
   "metadata": {
    "ExecuteTime": {
     "end_time": "2023-10-24T10:19:45.952630Z",
     "start_time": "2023-10-24T10:19:42.984867Z"
    }
   },
   "outputs": [
    {
     "name": "stdout",
     "output_type": "stream",
     "text": [
      "Enter a number:4.5\n",
      "The Square of entered number 4.5 is 20.25\n"
     ]
    }
   ],
   "source": [
    "square()"
   ]
  },
  {
   "cell_type": "markdown",
   "id": "ab17874d",
   "metadata": {},
   "source": [
    "Ask the user to enter a number x. Use the sep optional argument to\n",
    "print out x, 2x, 3x, 4x, and 5x, each separated by three dashes, like\n",
    "below.\n",
    "Enter a number: 7\n",
    "7---14---21---28---35"
   ]
  },
  {
   "cell_type": "code",
   "execution_count": 7,
   "id": "02984388",
   "metadata": {
    "ExecuteTime": {
     "end_time": "2023-10-24T10:24:52.190970Z",
     "start_time": "2023-10-24T10:24:52.179975Z"
    }
   },
   "outputs": [],
   "source": [
    "def sep():\n",
    "    try:\n",
    "        x=eval(input(\"Enter x value:\"))\n",
    "        print(x*1,x*2,x*3,x*4,x*5,sep='---')\n",
    "    except Exception as e:\n",
    "        print(e)"
   ]
  },
  {
   "cell_type": "code",
   "execution_count": 8,
   "id": "9949d786",
   "metadata": {
    "ExecuteTime": {
     "end_time": "2023-10-24T10:24:56.189508Z",
     "start_time": "2023-10-24T10:24:54.064384Z"
    }
   },
   "outputs": [
    {
     "name": "stdout",
     "output_type": "stream",
     "text": [
      "Enter x value:7\n",
      "7---14---21---28---35\n"
     ]
    }
   ],
   "source": [
    "sep()"
   ]
  },
  {
   "cell_type": "markdown",
   "id": "724a27c1",
   "metadata": {},
   "source": [
    "Write a program that asks the user for a weight in kilograms and\n",
    "converts it to pounds. There are 2.2 pounds in a kilogram."
   ]
  },
  {
   "cell_type": "code",
   "execution_count": 13,
   "id": "8e58e3e2",
   "metadata": {
    "ExecuteTime": {
     "end_time": "2023-10-24T10:29:56.621075Z",
     "start_time": "2023-10-24T10:29:56.601085Z"
    }
   },
   "outputs": [],
   "source": [
    "def km2p():\n",
    "    try:\n",
    "        k=eval(input(\"Enter weight in kilograms:\"))\n",
    "        print(\"Entered weight in kilograms: {} and the equivalent pounds are: {}\".format(k,round(2.2*k)))\n",
    "    except Exception as e:\n",
    "        print(e)"
   ]
  },
  {
   "cell_type": "code",
   "execution_count": 17,
   "id": "9d19297b",
   "metadata": {
    "ExecuteTime": {
     "end_time": "2023-10-24T10:30:31.626321Z",
     "start_time": "2023-10-24T10:30:28.131724Z"
    }
   },
   "outputs": [
    {
     "name": "stdout",
     "output_type": "stream",
     "text": [
      "Enter weight in kilograms:14.1\n",
      "Entered weight in kilograms: 14.1 and the equivalent pounds are: 31\n"
     ]
    }
   ],
   "source": [
    "km2p()"
   ]
  },
  {
   "cell_type": "markdown",
   "id": "d54f06f2",
   "metadata": {},
   "source": [
    "Write a program that asks the user to enter three numbers (use three\n",
    "separate input statements).Create variables called total and average\n",
    "that hold the sum and average of the three numbers and print out the\n",
    "values of total and average."
   ]
  },
  {
   "cell_type": "code",
   "execution_count": 18,
   "id": "088c2d67",
   "metadata": {
    "ExecuteTime": {
     "end_time": "2023-10-24T10:36:43.055455Z",
     "start_time": "2023-10-24T10:36:43.042439Z"
    }
   },
   "outputs": [],
   "source": [
    "def tot_avg():\n",
    "    try:\n",
    "        n1=eval(input(\"Enter n1 Value:\"))\n",
    "        n2=eval(input(\"Enter n2 Value:\"))\n",
    "        n3=eval(input(\"Enter n3 Value:\"))\n",
    "        total=n1+n2+n3\n",
    "        average=round(total/3)\n",
    "        print(\"Entered numbers are {},{},{}: total is {} and average is {}\".format(n1,n2,n3,total,average))\n",
    "    except Exception as e:\n",
    "        print(e)"
   ]
  },
  {
   "cell_type": "code",
   "execution_count": 20,
   "id": "b27a12a3",
   "metadata": {
    "ExecuteTime": {
     "end_time": "2023-10-24T10:37:11.705247Z",
     "start_time": "2023-10-24T10:37:03.926960Z"
    }
   },
   "outputs": [
    {
     "name": "stdout",
     "output_type": "stream",
     "text": [
      "Enter n1 Value:120\n",
      "Enter n2 Value:60\n",
      "Enter n3 Value:20\n",
      "Entered numbers are 120,60,20: total is 200 and average is 67\n"
     ]
    }
   ],
   "source": [
    "tot_avg()"
   ]
  },
  {
   "cell_type": "markdown",
   "id": "83c48daf",
   "metadata": {},
   "source": [
    "A lot of cell phones have tip calculators. Write one. Ask the user for\n",
    "the price of the meal and the percent tip they want to leave. Then\n",
    "print both the tip amount and the total bill with the tip included."
   ]
  },
  {
   "cell_type": "code",
   "execution_count": 21,
   "id": "fbeab0fa",
   "metadata": {
    "ExecuteTime": {
     "end_time": "2023-10-24T12:41:14.122344Z",
     "start_time": "2023-10-24T12:41:14.102355Z"
    }
   },
   "outputs": [],
   "source": [
    "def tip_cal():\n",
    "    try:\n",
    "        mp=eval(input(\"Please let me know the Meal Price?\"))\n",
    "        tp=eval(input(\"Please let me know the Tip Percentage?\"))\n",
    "        tip_amount=round((mp*tp)/100)\n",
    "        print(\"Total bill amount is {} and Tip amount is {}\".format(mp+tip_amount,tip_amount))\n",
    "    except Exception as e:\n",
    "        print(e)"
   ]
  },
  {
   "cell_type": "code",
   "execution_count": 23,
   "id": "6d6ee300",
   "metadata": {
    "ExecuteTime": {
     "end_time": "2023-10-24T12:41:35.195698Z",
     "start_time": "2023-10-24T12:41:30.069696Z"
    }
   },
   "outputs": [
    {
     "name": "stdout",
     "output_type": "stream",
     "text": [
      "Please let me know the Meal Price?120\n",
      "Please let me know the Tip Percentage?10\n",
      "Total bill amount is 132 and Tip amount is 12\n"
     ]
    }
   ],
   "source": [
    "tip_cal()"
   ]
  },
  {
   "cell_type": "markdown",
   "id": "058f1541",
   "metadata": {},
   "source": [
    "Ramesh’s basic salary is input through the keyboard. His dearness allowance is 40% of\n",
    "basic salary, and house rent allowance is 20% of basic salary. Write a program to\n",
    "calculate his gross salary."
   ]
  },
  {
   "cell_type": "code",
   "execution_count": 24,
   "id": "fe6c4afd",
   "metadata": {
    "ExecuteTime": {
     "end_time": "2023-10-24T13:03:15.101803Z",
     "start_time": "2023-10-24T13:03:15.081825Z"
    }
   },
   "outputs": [],
   "source": [
    "def gross_sal():\n",
    "    try:\n",
    "        basic_sal=eval(input(\"Enter Ramesh's basic salary in INR:\"))\n",
    "        da=(basic_sal*40)/100\n",
    "        hra=(basic_sal*20)/100\n",
    "        gross_sal=basic_sal+da+hra\n",
    "        print(\"Ramesh's gross salary is: {}\".format(gross_sal))\n",
    "    except Exception as e:\n",
    "        print(e)"
   ]
  },
  {
   "cell_type": "code",
   "execution_count": 25,
   "id": "c87ee6c9",
   "metadata": {
    "ExecuteTime": {
     "end_time": "2023-10-24T13:03:27.501789Z",
     "start_time": "2023-10-24T13:03:22.430407Z"
    }
   },
   "outputs": [
    {
     "name": "stdout",
     "output_type": "stream",
     "text": [
      "Enter Ramesh's basic salaryin INR:100000\n",
      "Ramesh's gross salary is: 160000.0\n"
     ]
    }
   ],
   "source": [
    "gross_sal()"
   ]
  },
  {
   "cell_type": "markdown",
   "id": "9e287f40",
   "metadata": {},
   "source": [
    "The distance between two cities (in km.) is input through the keyboard. Write a program\n",
    "to convert and print this distance in meters, feet, inches and centimeters."
   ]
  },
  {
   "cell_type": "code",
   "execution_count": 26,
   "id": "7c598f0b",
   "metadata": {
    "ExecuteTime": {
     "end_time": "2023-10-24T13:12:52.624754Z",
     "start_time": "2023-10-24T13:12:52.611759Z"
    }
   },
   "outputs": [],
   "source": [
    "def d_bw_t():\n",
    "    try:\n",
    "        km=eval(input(\"Enter the distance between two cities in km.\"))\n",
    "        km_2_m=1000*km\n",
    "        km_2_f=3280.84*km\n",
    "        km_2_i=39370.1*km\n",
    "        km_2_cm=100000*km\n",
    "        print(\"The distance between two cities in km is: {}, in meters is: {}, in feets is: {}, in inches is: {} and in centimeters is: {}\".format(km,km_2_m,km_2_f,km_2_i,km_2_cm))\n",
    "    except Exception as e:\n",
    "        print(e)"
   ]
  },
  {
   "cell_type": "code",
   "execution_count": 27,
   "id": "43078824",
   "metadata": {
    "ExecuteTime": {
     "end_time": "2023-10-24T13:13:33.234648Z",
     "start_time": "2023-10-24T13:13:27.392477Z"
    }
   },
   "outputs": [
    {
     "name": "stdout",
     "output_type": "stream",
     "text": [
      "Enter the distance between two cities in km.20\n",
      "The distance between two cities in km is: 20, in meters is: 20000, in feets is: 65616.8, in inches is: 787402.0 and in centimeters is: 2000000\n"
     ]
    }
   ],
   "source": [
    "d_bw_t()"
   ]
  },
  {
   "cell_type": "markdown",
   "id": "afbfa546",
   "metadata": {},
   "source": [
    "If the marks obtained by a student in five different subjects are input through the\n",
    "keyboard, find out the aggregate marks and percentage marks obtained by the student.\n",
    "Assume that the maximum marks that can be obtained by a student in each subject is\n",
    "100."
   ]
  },
  {
   "cell_type": "code",
   "execution_count": 34,
   "id": "473d98a1",
   "metadata": {
    "ExecuteTime": {
     "end_time": "2023-10-24T13:29:28.162727Z",
     "start_time": "2023-10-24T13:29:28.142757Z"
    }
   },
   "outputs": [],
   "source": [
    "def std_avg_marks():\n",
    "    try:\n",
    "        eng=eval(input(\"Enter English marks of student:\"))\n",
    "        mat=eval(input(\"Enter Maths marks of student:\"))\n",
    "        phy=eval(input(\"Enter Physics marks of student:\"))\n",
    "        che=eval(input(\"Enter Chemistry marks of student:\"))\n",
    "        his=eval(input(\"Enter History marks of student:\"))\n",
    "        tot_marks=eng+mat+phy+che+his\n",
    "        max_marks=100*5\n",
    "        agg_marks=tot_marks/max_marks\n",
    "        per_marks=agg_marks/100\n",
    "        print(\"Aggregate marks of the students is: {} and the Percentage marks of the student is: {}\".format(agg_marks,per_marks))\n",
    "    except Exception as e:\n",
    "        print(e)"
   ]
  },
  {
   "cell_type": "code",
   "execution_count": 35,
   "id": "23e2bc86",
   "metadata": {
    "ExecuteTime": {
     "end_time": "2023-10-24T13:29:36.217067Z",
     "start_time": "2023-10-24T13:29:30.370249Z"
    }
   },
   "outputs": [
    {
     "name": "stdout",
     "output_type": "stream",
     "text": [
      "Enter English marks of student:90\n",
      "Enter Maths marks of student:80\n",
      "Enter Physics marks of student:70\n",
      "Enter Chemistry marks of student:65\n",
      "Enter History marks of student:55\n",
      "Aggregate marks of the students is: 0.72 and the Percentage marks of the student is: 0.0072\n"
     ]
    }
   ],
   "source": [
    "std_avg_marks()"
   ]
  },
  {
   "cell_type": "markdown",
   "id": "8f95d86f",
   "metadata": {},
   "source": [
    "Temperature of a city in Fahrenheit degrees is input through the keyboard. Write a\n",
    "program to convert this temperature into Centigrade degrees."
   ]
  },
  {
   "cell_type": "code",
   "execution_count": 36,
   "id": "1f33fa14",
   "metadata": {
    "ExecuteTime": {
     "end_time": "2023-10-24T13:37:56.485858Z",
     "start_time": "2023-10-24T13:37:56.477885Z"
    }
   },
   "outputs": [],
   "source": [
    "def temp_converter():\n",
    "    try:\n",
    "        temp_fahr=eval(input(\"Enter Temperature in Fahrenheit:\"))\n",
    "        fahr_2_cent=(temp_fahr-32)*5/9\n",
    "        print(\"The city temperature in Fahrenheit degrees is: {} and in Centigrade degrees is: {}\".format(temp_fahr,fahr_2_cent))\n",
    "    except Exception as e:\n",
    "        print(e)"
   ]
  },
  {
   "cell_type": "code",
   "execution_count": 37,
   "id": "08949da6",
   "metadata": {
    "ExecuteTime": {
     "end_time": "2023-10-24T13:38:10.680828Z",
     "start_time": "2023-10-24T13:38:04.952291Z"
    }
   },
   "outputs": [
    {
     "name": "stdout",
     "output_type": "stream",
     "text": [
      "Enter Temperature in Fahrenheit:100\n",
      "The city temperature in Fahrenheit degrees is: 100 and in Centigrade degrees is: 37.77777777777778\n"
     ]
    }
   ],
   "source": [
    "temp_converter()"
   ]
  },
  {
   "cell_type": "markdown",
   "id": "9734d521",
   "metadata": {},
   "source": [
    "The length & breadth of a rectangle and radius of a circle are input through the\n",
    "keyboard. Write a program to calculate the area & perimeter of the rectangle, and the\n",
    "area & circumference of the circle."
   ]
  },
  {
   "cell_type": "code",
   "execution_count": 40,
   "id": "2355c7fb",
   "metadata": {
    "ExecuteTime": {
     "end_time": "2023-10-24T14:07:16.510134Z",
     "start_time": "2023-10-24T14:07:16.490143Z"
    }
   },
   "outputs": [],
   "source": [
    "def rec_cer():\n",
    "    try:\n",
    "        l=eval(input(\"Enter Length of the Rectangle:\"))\n",
    "        b=eval(input(\"Enter Breadth of the Rectangle:\"))\n",
    "        r=eval(input(\"Enter Radius of the Circle:\"))\n",
    "        area_rec=l*b\n",
    "        peri_rec=2*(l+b)\n",
    "        import math\n",
    "        area_cir=math.pi*r*r\n",
    "        cir_cir=2*math.pi*r\n",
    "        print(\"Area of rectangle is: {} and Perimeter of rectangle is: {}\".format(area_rec,peri_rec))\n",
    "        print(\"Area of circle is: {} and Circumference of circle is: {}\".format(area_cir,cir_cir))\n",
    "    except Exception as e:\n",
    "        print(e)"
   ]
  },
  {
   "cell_type": "code",
   "execution_count": 42,
   "id": "43491953",
   "metadata": {
    "ExecuteTime": {
     "end_time": "2023-10-24T14:13:05.977184Z",
     "start_time": "2023-10-24T14:13:01.219045Z"
    }
   },
   "outputs": [
    {
     "name": "stdout",
     "output_type": "stream",
     "text": [
      "Enter Length of the Rectangle:10\n",
      "Enter Breadth of the Rectangle:20\n",
      "Enter Radius of the Circle:50\n",
      "Area of rectangle is: 200 and Perimeter of rectangle is: 60\n",
      "Area of circle is: 7853.981633974483 and Circumference of circle is: 314.1592653589793\n"
     ]
    }
   ],
   "source": [
    "rec_cer()"
   ]
  },
  {
   "cell_type": "markdown",
   "id": "3c6a80ab",
   "metadata": {},
   "source": [
    "Two numbers are input through the keyboard into two locations C and D. Write a\n",
    "program to interchange the contents of C and D."
   ]
  },
  {
   "cell_type": "code",
   "execution_count": 47,
   "id": "16be2083",
   "metadata": {
    "ExecuteTime": {
     "end_time": "2023-10-24T14:17:31.945053Z",
     "start_time": "2023-10-24T14:17:31.923068Z"
    }
   },
   "outputs": [],
   "source": [
    "def swap():\n",
    "    try:\n",
    "        C=eval(input(\"Enter C value:\"))\n",
    "        D=eval(input(\"Enter D value:\"))\n",
    "        print(\"Before swap values are {} and {}\".format(C,D))\n",
    "        C=C+D\n",
    "        D=C-D\n",
    "        C=C-D\n",
    "        print(\"After swap values are {} and {}\".format(C,D))\n",
    "    except Exception as e:\n",
    "        print(e)"
   ]
  },
  {
   "cell_type": "code",
   "execution_count": 48,
   "id": "a7b3614e",
   "metadata": {
    "ExecuteTime": {
     "end_time": "2023-10-24T14:17:36.252272Z",
     "start_time": "2023-10-24T14:17:34.292607Z"
    }
   },
   "outputs": [
    {
     "name": "stdout",
     "output_type": "stream",
     "text": [
      "Enter C value:10\n",
      "Enter D value:20\n",
      "Before swap values are 10 and 20\n",
      "After swap values are 20 and 10\n"
     ]
    }
   ],
   "source": [
    "swap()"
   ]
  },
  {
   "cell_type": "markdown",
   "id": "78545dd5",
   "metadata": {},
   "source": [
    "If a five-digit number is input through the keyboard, write a program to reverse the\n",
    "number."
   ]
  },
  {
   "cell_type": "code",
   "execution_count": 52,
   "id": "f167a318",
   "metadata": {
    "ExecuteTime": {
     "end_time": "2023-10-24T14:26:35.937051Z",
     "start_time": "2023-10-24T14:26:35.930054Z"
    }
   },
   "outputs": [],
   "source": [
    "def rev():\n",
    "    try:\n",
    "        n=eval(input(\"Enter 5 digit number:\"))\n",
    "        rev_n=0\n",
    "        rev_n+=n%10*10000\n",
    "        n//=10\n",
    "        rev_n+=n%10*1000\n",
    "        n//=10\n",
    "        rev_n+=n%10*100\n",
    "        n//=10\n",
    "        rev_n+=n%10*10\n",
    "        n//=10\n",
    "        rev_n+=n\n",
    "        print(\"Reverse number is: {}\".format(rev_n))\n",
    "    except Exception as e:\n",
    "        print(e)"
   ]
  },
  {
   "cell_type": "code",
   "execution_count": 53,
   "id": "b33bd51b",
   "metadata": {
    "ExecuteTime": {
     "end_time": "2023-10-24T14:26:40.244760Z",
     "start_time": "2023-10-24T14:26:37.889402Z"
    }
   },
   "outputs": [
    {
     "name": "stdout",
     "output_type": "stream",
     "text": [
      "Enter 5 digit number:12345\n",
      "Reverse number is: 54321\n"
     ]
    }
   ],
   "source": [
    "rev()"
   ]
  },
  {
   "cell_type": "markdown",
   "id": "531e9f2b",
   "metadata": {},
   "source": [
    "If a four-digit number is input through the keyboard, write a program to obtain the sum of\n",
    "the first and last digit of this number."
   ]
  },
  {
   "cell_type": "code",
   "execution_count": 65,
   "id": "df6a1b84",
   "metadata": {
    "ExecuteTime": {
     "end_time": "2023-10-24T14:36:45.851389Z",
     "start_time": "2023-10-24T14:36:45.845391Z"
    }
   },
   "outputs": [],
   "source": [
    "def FL_sum():\n",
    "    try:\n",
    "        n=eval(input(\"Enter 4 digit number:\"))\n",
    "        f_no=n//1000\n",
    "        l_no=n%10\n",
    "        print(\"Sum of First and Last number is {}\".format(f_no+l_no))\n",
    "    except Exception as e:\n",
    "        print(e)"
   ]
  },
  {
   "cell_type": "code",
   "execution_count": 69,
   "id": "43829355",
   "metadata": {
    "ExecuteTime": {
     "end_time": "2023-10-24T14:37:22.447970Z",
     "start_time": "2023-10-24T14:37:18.781854Z"
    }
   },
   "outputs": [
    {
     "name": "stdout",
     "output_type": "stream",
     "text": [
      "Enter 4 digit number:9875\n",
      "Sum of First and Last number is 14\n"
     ]
    }
   ],
   "source": [
    "FL_sum()"
   ]
  },
  {
   "cell_type": "markdown",
   "id": "30b174a3",
   "metadata": {},
   "source": [
    "In a town, the percentage of men is 52. The percentage of total literacy is 48. If total\n",
    "percentage of literate men is 35 of the total population, write a program to find the total\n",
    "number of illiterate men and women if the population of the town is 80,000."
   ]
  },
  {
   "cell_type": "code",
   "execution_count": 70,
   "id": "a156b308",
   "metadata": {
    "ExecuteTime": {
     "end_time": "2023-10-24T15:23:41.053478Z",
     "start_time": "2023-10-24T15:23:41.034487Z"
    }
   },
   "outputs": [],
   "source": [
    "def men_women():\n",
    "    try:\n",
    "        total_pop=80000\n",
    "        total_men_per=52\n",
    "        total_men=(total_pop*52)/100\n",
    "        literate_men_per=35\n",
    "        total_illiterate_men=(total_pop*(total_men_per-literate_men_per))/100\n",
    "        print(\"Total number of Illiterate Mens in the town are:\",total_illiterate_men)\n",
    "        total_women=total_pop-total_men\n",
    "        total_illiterate_women=(total_women-(total_pop*13)/100)\n",
    "        print(\"Total number of Illiterate Woments in the town are:\",total_illiterate_women)\n",
    "    except Exception as e:\n",
    "        print(e)"
   ]
  },
  {
   "cell_type": "code",
   "execution_count": 71,
   "id": "0caa142d",
   "metadata": {
    "ExecuteTime": {
     "end_time": "2023-10-24T15:23:47.687019Z",
     "start_time": "2023-10-24T15:23:47.667030Z"
    }
   },
   "outputs": [
    {
     "name": "stdout",
     "output_type": "stream",
     "text": [
      "Total number of Illiterate Mens in the town are: 13600.0\n",
      "Total number of Illiterate Woments in the town are: 28000.0\n"
     ]
    }
   ],
   "source": [
    "men_women()"
   ]
  },
  {
   "cell_type": "markdown",
   "id": "621e41d4",
   "metadata": {},
   "source": [
    "A cashier has currency notes of denominations 10, 50 and 100. If the amount to be\n",
    "withdrawn is input through the keyboard in hundreds, find the total number of currency\n",
    "notes of each denomination the cashier will have to give to the withdrawer."
   ]
  },
  {
   "cell_type": "code",
   "execution_count": 1,
   "id": "c52b64c3",
   "metadata": {
    "ExecuteTime": {
     "end_time": "2023-10-25T05:30:46.052395Z",
     "start_time": "2023-10-25T05:30:46.028408Z"
    }
   },
   "outputs": [],
   "source": [
    "def withdraw():\n",
    "    try:\n",
    "    #Please enter the amount to be withdrawn in hundres\n",
    "        amount=eval(input(\"Enter the amount in Hundres\"))\n",
    "        c_100=amount//100\n",
    "        amount=amount%100\n",
    "        c_50=amount//50\n",
    "        amount=amount%50\n",
    "        c_10=amount//10\n",
    "        print(\"The 100 denominations are: {}\".format(c_100))\n",
    "        print(\"The 50 denominations are: {}\".format(c_50))\n",
    "        print(\"The 10 denominations are: {}\".format(c_10))\n",
    "    except Exception as e:\n",
    "        print(e)"
   ]
  },
  {
   "cell_type": "code",
   "execution_count": 3,
   "id": "6f0f7879",
   "metadata": {
    "ExecuteTime": {
     "end_time": "2023-10-25T05:31:26.714792Z",
     "start_time": "2023-10-25T05:31:21.036043Z"
    }
   },
   "outputs": [
    {
     "name": "stdout",
     "output_type": "stream",
     "text": [
      "Enter the amount in Hundres1570\n",
      "The 100 denominations are: 15\n",
      "The 50 denominations are: 1\n",
      "The 10 denominations are: 2\n"
     ]
    }
   ],
   "source": [
    "withdraw()"
   ]
  },
  {
   "cell_type": "markdown",
   "id": "0ac3a558",
   "metadata": {},
   "source": [
    "## With arguments"
   ]
  },
  {
   "cell_type": "markdown",
   "id": "2503a1f5",
   "metadata": {},
   "source": [
    "Ask the user to enter a number. Print out the square of the number, but use the sep optional argument to print it out in a full sentence that ends in a period. Sample output is shown below. Enter a number: 5 The square of 5 is 25."
   ]
  },
  {
   "cell_type": "code",
   "execution_count": 7,
   "id": "b30a015c",
   "metadata": {
    "ExecuteTime": {
     "end_time": "2023-10-25T06:50:34.991757Z",
     "start_time": "2023-10-25T06:50:34.978774Z"
    }
   },
   "outputs": [],
   "source": [
    "def square(n):\n",
    "    try:\n",
    "        print(\"Entered number {} Square is {}\".format(n,n*n))\n",
    "    except Exception as e:\n",
    "        print(e)"
   ]
  },
  {
   "cell_type": "code",
   "execution_count": 9,
   "id": "b7897401",
   "metadata": {
    "ExecuteTime": {
     "end_time": "2023-10-25T06:50:51.111964Z",
     "start_time": "2023-10-25T06:50:49.667976Z"
    }
   },
   "outputs": [
    {
     "name": "stdout",
     "output_type": "stream",
     "text": [
      "Enter n value to find the Square!10\n",
      "Entered number 10 Square is 100\n"
     ]
    }
   ],
   "source": [
    "square(n=eval(input(\"Enter n value to find the Square!\")))"
   ]
  },
  {
   "cell_type": "markdown",
   "id": "9fdc15d6",
   "metadata": {},
   "source": [
    "Ask the user to enter a number x. Use the sep optional argument to print out x, 2x, 3x, 4x, and 5x, each separated by three dashes, like below. Enter a number: 7 7---14---21---28---35"
   ]
  },
  {
   "cell_type": "code",
   "execution_count": 11,
   "id": "cc002836",
   "metadata": {
    "ExecuteTime": {
     "end_time": "2023-10-25T07:05:16.344690Z",
     "start_time": "2023-10-25T07:05:16.330716Z"
    }
   },
   "outputs": [],
   "source": [
    "def sep(x):\n",
    "    try:\n",
    "        print(1*x,2*x,3*x,4*x,5*x,sep='---')\n",
    "    except Exception as e:\n",
    "        print(e)"
   ]
  },
  {
   "cell_type": "code",
   "execution_count": 12,
   "id": "3bb19e66",
   "metadata": {
    "ExecuteTime": {
     "end_time": "2023-10-25T07:05:35.581685Z",
     "start_time": "2023-10-25T07:05:34.066928Z"
    }
   },
   "outputs": [
    {
     "name": "stdout",
     "output_type": "stream",
     "text": [
      "Enter x value:7\n",
      "7---14---21---28---35\n"
     ]
    }
   ],
   "source": [
    "sep(x=eval(input(\"Enter x value:\")))"
   ]
  },
  {
   "cell_type": "markdown",
   "id": "9a8a996e",
   "metadata": {},
   "source": [
    "Write a program that asks the user for a weight in kilograms and converts it to pounds. There are 2.2 pounds in a kilogram."
   ]
  },
  {
   "cell_type": "code",
   "execution_count": 13,
   "id": "571a5fa9",
   "metadata": {
    "ExecuteTime": {
     "end_time": "2023-10-25T07:09:25.035814Z",
     "start_time": "2023-10-25T07:09:25.024821Z"
    }
   },
   "outputs": [],
   "source": [
    "def kg2p(w):\n",
    "    try:\n",
    "        print(\"Entered Weight in kilograms {} and the equivalent pounds are: {}\".format(w,2.2*w))\n",
    "    except Exception as e:\n",
    "        print(e)"
   ]
  },
  {
   "cell_type": "code",
   "execution_count": 15,
   "id": "d1de2130",
   "metadata": {
    "ExecuteTime": {
     "end_time": "2023-10-25T07:10:13.099940Z",
     "start_time": "2023-10-25T07:10:11.375927Z"
    }
   },
   "outputs": [
    {
     "name": "stdout",
     "output_type": "stream",
     "text": [
      "Please enter the weight in kilograms:10\n",
      "Entered Weight in kilograms 10 and the equivalent pounds are: 22.0\n"
     ]
    }
   ],
   "source": [
    "kg2p(w=eval(input(\"Please enter the weight in kilograms:\")))"
   ]
  },
  {
   "cell_type": "markdown",
   "id": "64722642",
   "metadata": {},
   "source": [
    "Write a program that asks the user to enter three numbers (use three separate input statements).Create variables called total and average that hold the sum and average of the three numbers and print out the values of total and average."
   ]
  },
  {
   "cell_type": "code",
   "execution_count": 16,
   "id": "44350992",
   "metadata": {
    "ExecuteTime": {
     "end_time": "2023-10-25T07:14:51.999284Z",
     "start_time": "2023-10-25T07:14:51.978290Z"
    }
   },
   "outputs": [],
   "source": [
    "def tot_aver(n1,n2,n3):\n",
    "    try:\n",
    "        total=n1+n2+n3\n",
    "        average=total/3\n",
    "        print(\"Sum of entered three numbers: {} and Average of entered three numbers: {}\".format(total,average))\n",
    "    except Exception as e:\n",
    "        print(e)"
   ]
  },
  {
   "cell_type": "code",
   "execution_count": 17,
   "id": "5ec35cbe",
   "metadata": {
    "ExecuteTime": {
     "end_time": "2023-10-25T07:18:10.098632Z",
     "start_time": "2023-10-25T07:18:06.275947Z"
    }
   },
   "outputs": [
    {
     "name": "stdout",
     "output_type": "stream",
     "text": [
      "Enter n1 value:10\n",
      "Enter n2 value:20\n",
      "Enter n3 value:30\n",
      "Sum of entered three numbers: 60 and Average of entered three numbers: 20.0\n"
     ]
    }
   ],
   "source": [
    "tot_aver(n1=eval(input(\"Enter n1 value:\")),\n",
    "        n2=eval(input(\"Enter n2 value:\")),\n",
    "        n3=eval(input(\"Enter n3 value:\")))"
   ]
  },
  {
   "cell_type": "markdown",
   "id": "81f7b2c2",
   "metadata": {},
   "source": [
    "A lot of cell phones have tip calculators. Write one. Ask the user for the price of the meal and the percent tip they want to leave. Then print both the tip amount and the total bill with the tip included."
   ]
  },
  {
   "cell_type": "code",
   "execution_count": 22,
   "id": "b028042e",
   "metadata": {
    "ExecuteTime": {
     "end_time": "2023-10-25T07:30:41.454381Z",
     "start_time": "2023-10-25T07:30:41.440389Z"
    }
   },
   "outputs": [],
   "source": [
    "def tip_cal(meal_price,tip_percent):\n",
    "    try:\n",
    "        tip_amount=(meal_price*tip_percent)/100\n",
    "        total_amount=tip_amount+meal_price\n",
    "        print(\"Tip amount is {} and Total amount is {}\".format(tip_amount,total_amount))\n",
    "    except Exception as e:\n",
    "        print(e)"
   ]
  },
  {
   "cell_type": "code",
   "execution_count": 23,
   "id": "50f64c03",
   "metadata": {
    "ExecuteTime": {
     "end_time": "2023-10-25T07:30:45.839410Z",
     "start_time": "2023-10-25T07:30:43.544394Z"
    }
   },
   "outputs": [
    {
     "name": "stdout",
     "output_type": "stream",
     "text": [
      "Please enter meal price:100\n",
      "Please enter the percent of tip yow want to leave10\n",
      "Tip amount is 10.0 and Total amount is 110.0\n"
     ]
    }
   ],
   "source": [
    "tip_cal(meal_price=eval(input(\"Please enter meal price:\")),\n",
    "        tip_percent=eval(input(\"Please enter the percent of tip yow want to leave\")))"
   ]
  },
  {
   "cell_type": "markdown",
   "id": "73c06e46",
   "metadata": {},
   "source": [
    "Ramesh’s basic salary is input through the keyboard. His dearness allowance is 40% of basic salary, and house rent allowance is 20% of basic salary. Write a program to calculate his gross salary."
   ]
  },
  {
   "cell_type": "code",
   "execution_count": 25,
   "id": "7959ad72",
   "metadata": {
    "ExecuteTime": {
     "end_time": "2023-10-25T07:36:57.408262Z",
     "start_time": "2023-10-25T07:36:57.398290Z"
    }
   },
   "outputs": [],
   "source": [
    "def gross_sal(basic_sal):\n",
    "    try:\n",
    "        print(\"Gross salary of Ramesh is: {}\".format(basic_sal+((basic_sal*40))/100+((basic_sal*20)/100)))\n",
    "    except Exception as e:\n",
    "        print(e)"
   ]
  },
  {
   "cell_type": "code",
   "execution_count": 27,
   "id": "fc34db19",
   "metadata": {
    "ExecuteTime": {
     "end_time": "2023-10-25T07:38:04.942434Z",
     "start_time": "2023-10-25T07:38:01.317840Z"
    }
   },
   "outputs": [
    {
     "name": "stdout",
     "output_type": "stream",
     "text": [
      "Enter Ramesh's basic salary: 40000\n",
      "Gross salary of Ramesh is: 64000.0\n"
     ]
    }
   ],
   "source": [
    "gross_sal(basic_sal=eval(input(\"Enter Ramesh's basic salary: \")))"
   ]
  },
  {
   "cell_type": "markdown",
   "id": "a0695bad",
   "metadata": {},
   "source": [
    "The distance between two cities (in km.) is input through the keyboard. Write a program\n",
    "to convert and print this distance in meters, feet, inches and centimeters."
   ]
  },
  {
   "cell_type": "code",
   "execution_count": 28,
   "id": "d8110831",
   "metadata": {
    "ExecuteTime": {
     "end_time": "2023-10-25T07:44:32.669587Z",
     "start_time": "2023-10-25T07:44:32.662594Z"
    }
   },
   "outputs": [],
   "source": [
    "def dis_bw_2cities(km):\n",
    "    try:\n",
    "        print(\"The distance between two cities in km is {}, in meters is {}, in feet is {}, in inches is {} and in centimeters is {}\".format(km,(1000*km),(3280.84*km),(39370.1*km),(100000*km)))\n",
    "    except Exception as e:\n",
    "        print(e)"
   ]
  },
  {
   "cell_type": "code",
   "execution_count": 29,
   "id": "419573f8",
   "metadata": {
    "ExecuteTime": {
     "end_time": "2023-10-25T07:45:11.777434Z",
     "start_time": "2023-10-25T07:45:08.738814Z"
    }
   },
   "outputs": [
    {
     "name": "stdout",
     "output_type": "stream",
     "text": [
      "Enter the distance between two cities in km,100\n",
      "The distance between two cities in km is 100, in meters is 100000, in feet is 328084.0, in inches is 3937010.0 and in centimeters is 10000000\n"
     ]
    }
   ],
   "source": [
    "dis_bw_2cities(km=eval(input(\"Enter the distance between two cities in km,\")))"
   ]
  },
  {
   "cell_type": "markdown",
   "id": "907d3050",
   "metadata": {},
   "source": [
    "If the marks obtained by a student in five different subjects are input through the\n",
    "keyboard, find out the aggregate marks and percentage marks obtained by the student.\n",
    "Assume that the maximum marks that can be obtained by a student in each subject is\n",
    "100."
   ]
  },
  {
   "cell_type": "code",
   "execution_count": 32,
   "id": "2d825859",
   "metadata": {
    "ExecuteTime": {
     "end_time": "2023-10-25T08:07:03.381141Z",
     "start_time": "2023-10-25T08:07:03.365173Z"
    }
   },
   "outputs": [],
   "source": [
    "def agg_per(eng,mat,sci,phy,his):\n",
    "    try:\n",
    "        agg_marks=((eng+mat+sci+phy+his)/(5*100))\n",
    "        per_marks=agg_marks/100\n",
    "        print(\"The aggregate marks of student is {} and percent marks of student is {}\".format(agg_marks,per_marks))\n",
    "    except Exception as e:\n",
    "        print(e)"
   ]
  },
  {
   "cell_type": "code",
   "execution_count": 33,
   "id": "15ee16b4",
   "metadata": {
    "ExecuteTime": {
     "end_time": "2023-10-25T08:07:10.780349Z",
     "start_time": "2023-10-25T08:07:05.334734Z"
    }
   },
   "outputs": [
    {
     "name": "stdout",
     "output_type": "stream",
     "text": [
      "Enter English marks:90\n",
      "Enter Math marks:90\n",
      "Enter Science marks:80\n",
      "Enter Physic marks:70\n",
      "Enter History marks:60\n",
      "The aggregate marks of student is 0.78 and percent marks of student is 0.0078000000000000005\n"
     ]
    }
   ],
   "source": [
    "agg_per(eng=eval(input(\"Enter English marks:\")),\n",
    "       mat=eval(input(\"Enter Math marks:\")),\n",
    "       sci=eval(input(\"Enter Science marks:\")),\n",
    "       phy=eval(input(\"Enter Physic marks:\")),\n",
    "       his=eval(input(\"Enter History marks:\")))"
   ]
  },
  {
   "cell_type": "markdown",
   "id": "e3cfa0a1",
   "metadata": {},
   "source": [
    "Temperature of a city in Fahrenheit degrees is input through the keyboard. Write a\n",
    "program to convert this temperature into Centigrade degrees."
   ]
  },
  {
   "cell_type": "code",
   "execution_count": 38,
   "id": "57d24f55",
   "metadata": {
    "ExecuteTime": {
     "end_time": "2023-10-25T08:31:22.969367Z",
     "start_time": "2023-10-25T08:31:22.951376Z"
    }
   },
   "outputs": [],
   "source": [
    "def f2c(temp):\n",
    "    try:\n",
    "        temp_f2c=round((temp-32)*(5/9))\n",
    "        print(\"City temperature in Fahrenheit is {} and in Centigrade is {}\".format(temp,temp_f2c))\n",
    "    except Exception as e:\n",
    "        print(e)"
   ]
  },
  {
   "cell_type": "code",
   "execution_count": 39,
   "id": "39162398",
   "metadata": {
    "ExecuteTime": {
     "end_time": "2023-10-25T08:31:27.430734Z",
     "start_time": "2023-10-25T08:31:25.446560Z"
    }
   },
   "outputs": [
    {
     "name": "stdout",
     "output_type": "stream",
     "text": [
      "Enter City Temperature in Fahrenheit:100\n",
      "City temperature in Fahrenheit is 100 and in Centigrade is 38\n"
     ]
    }
   ],
   "source": [
    "f2c(temp=eval(input(\"Enter City Temperature in Fahrenheit:\")))"
   ]
  },
  {
   "cell_type": "markdown",
   "id": "e215275a",
   "metadata": {},
   "source": [
    "The length & breadth of a rectangle and radius of a circle are input through the\n",
    "keyboard. Write a program to calculate the area & perimeter of the rectangle, and the\n",
    "area & circumference of the circle."
   ]
  },
  {
   "cell_type": "code",
   "execution_count": 42,
   "id": "34a43228",
   "metadata": {
    "ExecuteTime": {
     "end_time": "2023-10-25T08:53:23.198470Z",
     "start_time": "2023-10-25T08:53:23.187476Z"
    }
   },
   "outputs": [],
   "source": [
    "def len_bre_rec(l,b,r):\n",
    "    try:\n",
    "        area_rec=l*b\n",
    "        perimeter_rec=2*(l+b)\n",
    "        import math\n",
    "        area_circle=math.pi*r*r\n",
    "        perimeter_circle=2*math.pi*r\n",
    "        print(\"Area of the rectangle is {} and Perimeter of the rectangle {}\".format(area_rec,perimeter_rec))\n",
    "        print(\"Area of the circle is {} and Circumference of the circle is {}\".format(area_circle,perimeter_circle))\n",
    "    except Exception as e:\n",
    "        print(e)"
   ]
  },
  {
   "cell_type": "code",
   "execution_count": 43,
   "id": "2210a939",
   "metadata": {
    "ExecuteTime": {
     "end_time": "2023-10-25T08:53:28.948589Z",
     "start_time": "2023-10-25T08:53:26.203160Z"
    }
   },
   "outputs": [
    {
     "name": "stdout",
     "output_type": "stream",
     "text": [
      "Enter Length:10\n",
      "Enter Breadth:20\n",
      "Enter Radius:30\n",
      "Area of the rectangle is 200 and Perimeter of the rectangle 60\n",
      "Area of the circle is 2827.4333882308138 and Circumference of the circle is 188.49555921538757\n"
     ]
    }
   ],
   "source": [
    "len_bre_rec(l=eval(input(\"Enter Length:\")),\n",
    "           b=eval(input(\"Enter Breadth:\")),\n",
    "           r=eval(input(\"Enter Radius:\")))"
   ]
  },
  {
   "cell_type": "markdown",
   "id": "fc23d2f4",
   "metadata": {},
   "source": [
    "Two numbers are input through the keyboard into two locations C and D. Write a\n",
    "program to interchange the contents of C and D."
   ]
  },
  {
   "cell_type": "code",
   "execution_count": 54,
   "id": "d81d4bf1",
   "metadata": {
    "ExecuteTime": {
     "end_time": "2023-10-25T09:10:54.779029Z",
     "start_time": "2023-10-25T09:10:54.759041Z"
    }
   },
   "outputs": [],
   "source": [
    "def swap(a,b):\n",
    "    try:\n",
    "        print(\"Before swap the values are: {} {}\".format(a,b))\n",
    "        a+=b\n",
    "        b=a-b\n",
    "        a=a-b\n",
    "        print(\"After swap the values are: {} {}\".format(a,b))\n",
    "    except Exception as e:\n",
    "        print(e)"
   ]
  },
  {
   "cell_type": "code",
   "execution_count": 55,
   "id": "e6cb90f2",
   "metadata": {
    "ExecuteTime": {
     "end_time": "2023-10-25T09:10:58.231843Z",
     "start_time": "2023-10-25T09:10:56.280995Z"
    }
   },
   "outputs": [
    {
     "name": "stdout",
     "output_type": "stream",
     "text": [
      "Enter a Value:10\n",
      "Enter b Value:30\n",
      "Before swap the values are: 10 30\n",
      "After swap the values are: 30 10\n"
     ]
    }
   ],
   "source": [
    "swap(a=eval(input(\"Enter a Value:\")),\n",
    "    b=eval(input(\"Enter b Value:\")))"
   ]
  },
  {
   "cell_type": "markdown",
   "id": "808756c4",
   "metadata": {},
   "source": [
    "If a five-digit number is input through the keyboard, write a program to reverse the\n",
    "number."
   ]
  },
  {
   "cell_type": "code",
   "execution_count": 66,
   "id": "2ffd0db8",
   "metadata": {
    "ExecuteTime": {
     "end_time": "2023-10-25T09:20:52.004916Z",
     "start_time": "2023-10-25T09:20:51.984906Z"
    }
   },
   "outputs": [],
   "source": [
    "def reve(n):\n",
    "    try:\n",
    "        revnum=0\n",
    "        revnum+=n%10*10000\n",
    "        n=n//10\n",
    "        revnum+=n%10*1000\n",
    "        n//=10\n",
    "        revnum+=n%10*100\n",
    "        n//=10\n",
    "        revnum+=n%10*10\n",
    "        n//=10\n",
    "        revnum+=n\n",
    "        print(\"Reverse number is {}\".format(revnum))\n",
    "    except Exception as e:\n",
    "        print(e)"
   ]
  },
  {
   "cell_type": "code",
   "execution_count": 67,
   "id": "0c49875c",
   "metadata": {
    "ExecuteTime": {
     "end_time": "2023-10-25T09:21:25.554193Z",
     "start_time": "2023-10-25T09:21:21.552801Z"
    }
   },
   "outputs": [
    {
     "name": "stdout",
     "output_type": "stream",
     "text": [
      "Enter Five digit number:56789\n",
      "Reverse number is 98765\n"
     ]
    }
   ],
   "source": [
    "reve(n=eval(input(\"Enter Five digit number:\")))"
   ]
  },
  {
   "cell_type": "markdown",
   "id": "d8671a19",
   "metadata": {
    "ExecuteTime": {
     "end_time": "2023-10-25T09:15:58.946288Z",
     "start_time": "2023-10-25T09:15:58.931296Z"
    }
   },
   "source": [
    "If a four-digit number is input through the keyboard, write a program to obtain the sum of\n",
    "the first and last digit of this number."
   ]
  },
  {
   "cell_type": "code",
   "execution_count": 78,
   "id": "6086dbe4",
   "metadata": {
    "ExecuteTime": {
     "end_time": "2023-10-25T10:18:59.295182Z",
     "start_time": "2023-10-25T10:18:59.279169Z"
    }
   },
   "outputs": [],
   "source": [
    "def f_l_sum(n):\n",
    "    try:\n",
    "        sum_fl=0\n",
    "        sum_fl+=n%10\n",
    "        sum_fl+=n//1000\n",
    "        print(\"Addition of first and last numbers in four digits is {}\".format(sum_fl))\n",
    "    except Exception as e:\n",
    "        print(e)"
   ]
  },
  {
   "cell_type": "code",
   "execution_count": 79,
   "id": "e9e6f8cb",
   "metadata": {
    "ExecuteTime": {
     "end_time": "2023-10-25T10:19:03.616170Z",
     "start_time": "2023-10-25T10:19:01.253120Z"
    }
   },
   "outputs": [
    {
     "name": "stdout",
     "output_type": "stream",
     "text": [
      "Enter four digit number:9879\n",
      "Addition of first and last numbers in four digits is 18\n"
     ]
    }
   ],
   "source": [
    "f_l_sum(n=eval(input(\"Enter four digit number:\")))"
   ]
  },
  {
   "cell_type": "markdown",
   "id": "8920f79d",
   "metadata": {},
   "source": [
    "In a town, the percentage of men is 52. The percentage of total literacy is 48. If total\n",
    "percentage of literate men is 35 of the total population, write a program to find the total\n",
    "number of illiterate men and women if the population of the town is 80,000."
   ]
  },
  {
   "cell_type": "code",
   "execution_count": 82,
   "id": "b1ab9f9e",
   "metadata": {
    "ExecuteTime": {
     "end_time": "2023-10-25T10:43:38.822130Z",
     "start_time": "2023-10-25T10:43:38.807118Z"
    }
   },
   "outputs": [],
   "source": [
    "def lit_ill():\n",
    "    try:\n",
    "        tot_pop=80000\n",
    "        men_pop=(tot_pop*52)/100\n",
    "        lit_men=(men_pop*35)/100\n",
    "        ill_men=men_pop-lit_men\n",
    "        print(\"Number of illiterate men in the town {}\".format(ill_men))\n",
    "        tot_women=tot_pop-men_pop\n",
    "        lit_women=tot_women*(48-35)/100\n",
    "        ill_wommen=tot_women-lit_women\n",
    "        print(\"Total number of illiterate women in the town {}\".format(ill_wommen))\n",
    "    except Exception as e:\n",
    "        print(e)"
   ]
  },
  {
   "cell_type": "code",
   "execution_count": 83,
   "id": "9f03d4a2",
   "metadata": {
    "ExecuteTime": {
     "end_time": "2023-10-25T10:43:41.335673Z",
     "start_time": "2023-10-25T10:43:41.315685Z"
    }
   },
   "outputs": [
    {
     "name": "stdout",
     "output_type": "stream",
     "text": [
      "Number of illiterate men in the town 27040.0\n",
      "Total number of illiterate women in the town 33408.0\n"
     ]
    }
   ],
   "source": [
    "lit_ill()"
   ]
  },
  {
   "cell_type": "markdown",
   "id": "15ce6d95",
   "metadata": {},
   "source": [
    "A cashier has currency notes of denominations 10, 50 and 100. If the amount to be\n",
    "withdrawn is input through the keyboard in hundreds, find the total number of currency\n",
    "notes of each denomination the cashier will have to give to the withdrawer."
   ]
  },
  {
   "cell_type": "code",
   "execution_count": 88,
   "id": "88f449ce",
   "metadata": {
    "ExecuteTime": {
     "end_time": "2023-10-25T10:50:38.116308Z",
     "start_time": "2023-10-25T10:50:38.110313Z"
    }
   },
   "outputs": [],
   "source": [
    "def amount_wd(amount):\n",
    "    try:\n",
    "        den_100=amount//100\n",
    "        amount%=100\n",
    "        den_50=amount//50\n",
    "        amount%=50\n",
    "        den_10=amount//10\n",
    "        print(\"The 100 denominations are: {}\".format(den_100))\n",
    "        print(\"The 50 denominations are: {}\".format(den_50))\n",
    "        print(\"The 10 denominations are: {}\".format(den_10))\n",
    "    except Exception as e:\n",
    "        print(e)"
   ]
  },
  {
   "cell_type": "code",
   "execution_count": 90,
   "id": "2d50da81",
   "metadata": {
    "ExecuteTime": {
     "end_time": "2023-10-25T10:51:20.527726Z",
     "start_time": "2023-10-25T10:51:15.554194Z"
    }
   },
   "outputs": [
    {
     "name": "stdout",
     "output_type": "stream",
     "text": [
      "Enter the amount:370\n",
      "The 100 denominations are: 3\n",
      "The 50 denominations are: 1\n",
      "The 10 denominations are: 2\n"
     ]
    }
   ],
   "source": [
    "amount_wd(amount=eval(input(\"Enter the amount:\")))"
   ]
  },
  {
   "cell_type": "markdown",
   "id": "78a1de89",
   "metadata": {},
   "source": [
    "## Default arguments"
   ]
  },
  {
   "cell_type": "markdown",
   "id": "9954d9ca",
   "metadata": {},
   "source": [
    "Ask the user to enter a number. Print out the square of the number, but use the sep optional argument to print it out in a full sentence that ends in a period. Sample output is shown below. Enter a number: 5 The square of 5 is 25."
   ]
  },
  {
   "cell_type": "code",
   "execution_count": 99,
   "id": "22172e52",
   "metadata": {
    "ExecuteTime": {
     "end_time": "2023-10-25T10:56:13.271966Z",
     "start_time": "2023-10-25T10:56:13.260972Z"
    }
   },
   "outputs": [],
   "source": [
    "def square(n):\n",
    "    try:\n",
    "        n=5\n",
    "        print(\"Entered number {} Square is {}\".format(n,n*n))\n",
    "    except Exception as e:\n",
    "        print(e)"
   ]
  },
  {
   "cell_type": "code",
   "execution_count": 102,
   "id": "117492c2",
   "metadata": {
    "ExecuteTime": {
     "end_time": "2023-10-25T10:56:24.457416Z",
     "start_time": "2023-10-25T10:56:24.451419Z"
    }
   },
   "outputs": [
    {
     "name": "stdout",
     "output_type": "stream",
     "text": [
      "Entered number 5 Square is 25\n"
     ]
    }
   ],
   "source": [
    "square(n=7)"
   ]
  },
  {
   "cell_type": "markdown",
   "id": "b376f9f3",
   "metadata": {},
   "source": [
    "Ask the user to enter a number x. Use the sep optional argument to print out x, 2x, 3x, 4x, and 5x, each separated by three dashes, like below. Enter a number: 7 7---14---21---28---35"
   ]
  },
  {
   "cell_type": "code",
   "execution_count": 119,
   "id": "3a050848",
   "metadata": {
    "ExecuteTime": {
     "end_time": "2023-10-25T11:49:13.511630Z",
     "start_time": "2023-10-25T11:49:13.492638Z"
    }
   },
   "outputs": [],
   "source": [
    "def sep(x):\n",
    "    try:\n",
    "        x=7\n",
    "        print(1*x,2*x,3*x,4*x,5*x,sep='---')\n",
    "    except Exception as e:\n",
    "        print(e)"
   ]
  },
  {
   "cell_type": "code",
   "execution_count": 120,
   "id": "2f9cbe7d",
   "metadata": {
    "ExecuteTime": {
     "end_time": "2023-10-25T11:49:15.437164Z",
     "start_time": "2023-10-25T11:49:15.417194Z"
    }
   },
   "outputs": [
    {
     "name": "stdout",
     "output_type": "stream",
     "text": [
      "7---14---21---28---35\n"
     ]
    }
   ],
   "source": [
    "sep(x)"
   ]
  },
  {
   "cell_type": "markdown",
   "id": "608bfbfe",
   "metadata": {},
   "source": [
    "Write a program that asks the user for a weight in kilograms and converts it to pounds. There are 2.2 pounds in a kilogram."
   ]
  },
  {
   "cell_type": "code",
   "execution_count": 121,
   "id": "76ffc2d3",
   "metadata": {
    "ExecuteTime": {
     "end_time": "2023-10-25T11:49:28.669572Z",
     "start_time": "2023-10-25T11:49:28.654580Z"
    }
   },
   "outputs": [],
   "source": [
    "def kg2p(w):\n",
    "    try:\n",
    "        w=10\n",
    "        print(\"Entered Weight in kilograms {} and the equivalent pounds are: {}\".format(w,2.2*w))\n",
    "    except Exception as e:\n",
    "        print(e)"
   ]
  },
  {
   "cell_type": "code",
   "execution_count": 124,
   "id": "84bf3879",
   "metadata": {
    "ExecuteTime": {
     "end_time": "2023-10-25T11:49:50.909432Z",
     "start_time": "2023-10-25T11:49:50.895440Z"
    }
   },
   "outputs": [
    {
     "name": "stdout",
     "output_type": "stream",
     "text": [
      "Entered Weight in kilograms 10 and the equivalent pounds are: 22.0\n"
     ]
    }
   ],
   "source": [
    "kg2p(w=2)"
   ]
  },
  {
   "cell_type": "markdown",
   "id": "4b9bb865",
   "metadata": {},
   "source": [
    "Write a program that asks the user to enter three numbers (use three separate input statements).Create variables called total and average that hold the sum and average of the three numbers and print out the values of total and average."
   ]
  },
  {
   "cell_type": "code",
   "execution_count": 125,
   "id": "e0cf884a",
   "metadata": {
    "ExecuteTime": {
     "end_time": "2023-10-25T11:50:27.799868Z",
     "start_time": "2023-10-25T11:50:27.788894Z"
    }
   },
   "outputs": [],
   "source": [
    "def tot_aver(n1,n2,n3=10):\n",
    "    try:\n",
    "        total=n1+n2+n3\n",
    "        average=total/3\n",
    "        print(\"Sum of entered three numbers: {} and Average of entered three numbers: {}\".format(total,average))\n",
    "    except Exception as e:\n",
    "        print(e)"
   ]
  },
  {
   "cell_type": "code",
   "execution_count": 126,
   "id": "17e7992a",
   "metadata": {
    "ExecuteTime": {
     "end_time": "2023-10-25T11:50:43.043729Z",
     "start_time": "2023-10-25T11:50:43.026738Z"
    }
   },
   "outputs": [
    {
     "name": "stdout",
     "output_type": "stream",
     "text": [
      "Sum of entered three numbers: 40 and Average of entered three numbers: 13.333333333333334\n"
     ]
    }
   ],
   "source": [
    "tot_aver(10,20)"
   ]
  },
  {
   "cell_type": "markdown",
   "id": "034bf8f3",
   "metadata": {},
   "source": [
    "A lot of cell phones have tip calculators. Write one. Ask the user for the price of the meal and the percent tip they want to leave. Then print both the tip amount and the total bill with the tip included."
   ]
  },
  {
   "cell_type": "code",
   "execution_count": 128,
   "id": "fc077588",
   "metadata": {
    "ExecuteTime": {
     "end_time": "2023-10-25T11:52:21.031801Z",
     "start_time": "2023-10-25T11:52:21.015812Z"
    }
   },
   "outputs": [],
   "source": [
    "def tip_cal(meal_price,tip_percent=20):\n",
    "    try:\n",
    "        tip_amount=(meal_price*tip_percent)/100\n",
    "        total_amount=tip_amount+meal_price\n",
    "        print(\"Tip amount is {} and Total amount is {}\".format(tip_amount,total_amount))\n",
    "    except Exception as e:\n",
    "        print(e)"
   ]
  },
  {
   "cell_type": "code",
   "execution_count": 129,
   "id": "bf72471d",
   "metadata": {
    "ExecuteTime": {
     "end_time": "2023-10-25T11:52:26.445300Z",
     "start_time": "2023-10-25T11:52:23.555385Z"
    }
   },
   "outputs": [
    {
     "name": "stdout",
     "output_type": "stream",
     "text": [
      "Please enter meal price:100\n",
      "Tip amount is 20.0 and Total amount is 120.0\n"
     ]
    }
   ],
   "source": [
    "tip_cal(meal_price=eval(input(\"Please enter meal price:\")))"
   ]
  },
  {
   "cell_type": "markdown",
   "id": "f9f74e02",
   "metadata": {},
   "source": [
    "Ramesh’s basic salary is input through the keyboard. His dearness allowance is 40% of basic salary, and house rent allowance is 20% of basic salary. Write a program to calculate his gross salary."
   ]
  },
  {
   "cell_type": "code",
   "execution_count": 135,
   "id": "85742825",
   "metadata": {
    "ExecuteTime": {
     "end_time": "2023-10-25T11:53:51.466342Z",
     "start_time": "2023-10-25T11:53:51.446353Z"
    }
   },
   "outputs": [],
   "source": [
    "def gross_sal(basic_sal=100000):\n",
    "    try:\n",
    "        basic_sal=500\n",
    "        print(\"Gross salary of Ramesh is: {}\".format(basic_sal+((basic_sal*40))/100+((basic_sal*20)/100)))\n",
    "    except Exception as e:\n",
    "        print(e)"
   ]
  },
  {
   "cell_type": "code",
   "execution_count": 136,
   "id": "0b5dc96b",
   "metadata": {
    "ExecuteTime": {
     "end_time": "2023-10-25T11:53:53.340898Z",
     "start_time": "2023-10-25T11:53:53.333904Z"
    }
   },
   "outputs": [
    {
     "name": "stdout",
     "output_type": "stream",
     "text": [
      "Gross salary of Ramesh is: 800.0\n"
     ]
    }
   ],
   "source": [
    "gross_sal(basic_sal=100)"
   ]
  },
  {
   "cell_type": "markdown",
   "id": "18c61089",
   "metadata": {},
   "source": [
    "The distance between two cities (in km.) is input through the keyboard. Write a program to convert and print this distance in meters, feet, inches and centimeters."
   ]
  },
  {
   "cell_type": "code",
   "execution_count": 137,
   "id": "77ff36f6",
   "metadata": {
    "ExecuteTime": {
     "end_time": "2023-10-25T11:54:40.097099Z",
     "start_time": "2023-10-25T11:54:40.078108Z"
    }
   },
   "outputs": [],
   "source": [
    "def dis_bw_2cities(km):\n",
    "    try:\n",
    "        km=100\n",
    "        print(\"The distance between two cities in km is {}, in meters is {}, in feet is {}, in inches is {} and in centimeters is {}\".format(km,(1000*km),(3280.84*km),(39370.1*km),(100000*km)))\n",
    "    except Exception as e:\n",
    "        print(e)"
   ]
  },
  {
   "cell_type": "code",
   "execution_count": 139,
   "id": "2a60d2c3",
   "metadata": {
    "ExecuteTime": {
     "end_time": "2023-10-25T11:54:47.527917Z",
     "start_time": "2023-10-25T11:54:47.520920Z"
    }
   },
   "outputs": [
    {
     "name": "stdout",
     "output_type": "stream",
     "text": [
      "The distance between two cities in km is 100, in meters is 100000, in feet is 328084.0, in inches is 3937010.0 and in centimeters is 10000000\n"
     ]
    }
   ],
   "source": [
    "dis_bw_2cities(km=10)"
   ]
  },
  {
   "cell_type": "markdown",
   "id": "1abe446a",
   "metadata": {},
   "source": [
    "If the marks obtained by a student in five different subjects are input through the keyboard, find out the aggregate marks and percentage marks obtained by the student. Assume that the maximum marks that can be obtained by a student in each subject is 100."
   ]
  },
  {
   "cell_type": "code",
   "execution_count": 143,
   "id": "220043a2",
   "metadata": {
    "ExecuteTime": {
     "end_time": "2023-10-25T11:57:09.172291Z",
     "start_time": "2023-10-25T11:57:09.150304Z"
    }
   },
   "outputs": [],
   "source": [
    "def agg_per(eng,mat,sci,phy,his=85):\n",
    "    try:\n",
    "        eng=99\n",
    "        mat=89\n",
    "        sci=79\n",
    "        phy=80\n",
    "        agg_marks=((eng+mat+sci+phy+his)/(5*100))\n",
    "        per_marks=agg_marks/100\n",
    "        print(\"The aggregate marks of student is {} and percent marks of student is {}\".format(agg_marks,per_marks))\n",
    "    except Exception as e:\n",
    "        print(e)"
   ]
  },
  {
   "cell_type": "code",
   "execution_count": 145,
   "id": "c09485ae",
   "metadata": {
    "ExecuteTime": {
     "end_time": "2023-10-25T11:57:26.890916Z",
     "start_time": "2023-10-25T11:57:26.884919Z"
    }
   },
   "outputs": [
    {
     "name": "stdout",
     "output_type": "stream",
     "text": [
      "The aggregate marks of student is 0.864 and percent marks of student is 0.00864\n"
     ]
    }
   ],
   "source": [
    "agg_per(eng=10,mat=10,sci=10,phy=10)"
   ]
  },
  {
   "cell_type": "markdown",
   "id": "4dae8584",
   "metadata": {},
   "source": [
    "Temperature of a city in Fahrenheit degrees is input through the keyboard. Write a program to convert this temperature into Centigrade degrees."
   ]
  },
  {
   "cell_type": "code",
   "execution_count": 146,
   "id": "ec20d9ea",
   "metadata": {
    "ExecuteTime": {
     "end_time": "2023-10-25T11:58:15.442437Z",
     "start_time": "2023-10-25T11:58:15.426467Z"
    }
   },
   "outputs": [],
   "source": [
    "def f2c(temp):\n",
    "    try:\n",
    "        temp=100\n",
    "        temp_f2c=round((temp-32)*(5/9))\n",
    "        print(\"City temperature in Fahrenheit is {} and in Centigrade is {}\".format(temp,temp_f2c))\n",
    "    except Exception as e:\n",
    "        print(e)"
   ]
  },
  {
   "cell_type": "code",
   "execution_count": 147,
   "id": "4d5d760f",
   "metadata": {
    "ExecuteTime": {
     "end_time": "2023-10-25T11:58:24.918597Z",
     "start_time": "2023-10-25T11:58:24.911624Z"
    }
   },
   "outputs": [
    {
     "name": "stdout",
     "output_type": "stream",
     "text": [
      "City temperature in Fahrenheit is 100 and in Centigrade is 38\n"
     ]
    }
   ],
   "source": [
    "f2c(temp=10)"
   ]
  },
  {
   "cell_type": "markdown",
   "id": "f7bf76d7",
   "metadata": {},
   "source": [
    "The length & breadth of a rectangle and radius of a circle are input through the keyboard. Write a program to calculate the area & perimeter of the rectangle, and the area & circumference of the circle."
   ]
  },
  {
   "cell_type": "code",
   "execution_count": 148,
   "id": "45a4094f",
   "metadata": {
    "ExecuteTime": {
     "end_time": "2023-10-25T11:59:19.458563Z",
     "start_time": "2023-10-25T11:59:19.441550Z"
    }
   },
   "outputs": [],
   "source": [
    "def len_bre_rec(l,b,r=99):\n",
    "    try:\n",
    "        area_rec=l*b\n",
    "        perimeter_rec=2*(l+b)\n",
    "        import math\n",
    "        area_circle=math.pi*r*r\n",
    "        perimeter_circle=2*math.pi*r\n",
    "        print(\"Area of the rectangle is {} and Perimeter of the rectangle {}\".format(area_rec,perimeter_rec))\n",
    "        print(\"Area of the circle is {} and Circumference of the circle is {}\".format(area_circle,perimeter_circle))\n",
    "    except Exception as e:\n",
    "        print(e)"
   ]
  },
  {
   "cell_type": "code",
   "execution_count": 149,
   "id": "de2589a1",
   "metadata": {
    "ExecuteTime": {
     "end_time": "2023-10-25T11:59:22.845183Z",
     "start_time": "2023-10-25T11:59:22.828193Z"
    }
   },
   "outputs": [
    {
     "name": "stdout",
     "output_type": "stream",
     "text": [
      "Area of the rectangle is 200 and Perimeter of the rectangle 60\n",
      "Area of the circle is 30790.749597833565 and Circumference of the circle is 622.0353454107791\n"
     ]
    }
   ],
   "source": [
    "len_bre_rec(l=10,b=20)"
   ]
  },
  {
   "cell_type": "markdown",
   "id": "a606aa2c",
   "metadata": {},
   "source": [
    "Two numbers are input through the keyboard into two locations C and D. Write a program to interchange the contents of C and D."
   ]
  },
  {
   "cell_type": "code",
   "execution_count": 152,
   "id": "7471ca06",
   "metadata": {
    "ExecuteTime": {
     "end_time": "2023-10-25T12:00:27.385633Z",
     "start_time": "2023-10-25T12:00:27.375615Z"
    }
   },
   "outputs": [],
   "source": [
    "def swap(a,b=30):\n",
    "    try:\n",
    "        b=20\n",
    "        print(\"Before swap the values are: {} {}\".format(a,b))\n",
    "        a+=b\n",
    "        b=a-b\n",
    "        a=a-b\n",
    "        print(\"After swap the values are: {} {}\".format(a,b))\n",
    "    except Exception as e:\n",
    "        print(e)"
   ]
  },
  {
   "cell_type": "code",
   "execution_count": 153,
   "id": "b5719676",
   "metadata": {
    "ExecuteTime": {
     "end_time": "2023-10-25T12:00:29.308284Z",
     "start_time": "2023-10-25T12:00:29.300286Z"
    }
   },
   "outputs": [
    {
     "name": "stdout",
     "output_type": "stream",
     "text": [
      "Before swap the values are: 10 20\n",
      "After swap the values are: 20 10\n"
     ]
    }
   ],
   "source": [
    "swap(a=10)"
   ]
  },
  {
   "cell_type": "markdown",
   "id": "821f1fc7",
   "metadata": {},
   "source": [
    "If a five-digit number is input through the keyboard, write a program to reverse the number."
   ]
  },
  {
   "cell_type": "code",
   "execution_count": 156,
   "id": "ba9b0197",
   "metadata": {
    "ExecuteTime": {
     "end_time": "2023-10-25T12:02:21.944135Z",
     "start_time": "2023-10-25T12:02:21.926143Z"
    }
   },
   "outputs": [],
   "source": [
    "def reve(n=12345):\n",
    "    try:\n",
    "        n=12345\n",
    "        revnum=0\n",
    "        revnum+=n%10*10000\n",
    "        n=n//10\n",
    "        revnum+=n%10*1000\n",
    "        n//=10\n",
    "        revnum+=n%10*100\n",
    "        n//=10\n",
    "        revnum+=n%10*10\n",
    "        n//=10\n",
    "        revnum+=n\n",
    "        print(\"Reverse number is {}\".format(revnum))\n",
    "    except Exception as e:\n",
    "        print(e)"
   ]
  },
  {
   "cell_type": "code",
   "execution_count": 157,
   "id": "fb07d6bf",
   "metadata": {
    "ExecuteTime": {
     "end_time": "2023-10-25T12:02:25.118839Z",
     "start_time": "2023-10-25T12:02:25.107845Z"
    }
   },
   "outputs": [
    {
     "name": "stdout",
     "output_type": "stream",
     "text": [
      "Reverse number is 54321\n"
     ]
    }
   ],
   "source": [
    "reve(n)"
   ]
  },
  {
   "cell_type": "markdown",
   "id": "ece24f44",
   "metadata": {},
   "source": [
    "If a four-digit number is input through the keyboard, write a program to obtain the sum of the first and last digit of this number."
   ]
  },
  {
   "cell_type": "code",
   "execution_count": 159,
   "id": "82643d16",
   "metadata": {
    "ExecuteTime": {
     "end_time": "2023-10-25T12:03:26.637076Z",
     "start_time": "2023-10-25T12:03:26.626099Z"
    }
   },
   "outputs": [],
   "source": [
    "def f_l_sum(n):\n",
    "    try:\n",
    "        n=1234\n",
    "        sum_fl=0\n",
    "        sum_fl+=n%10\n",
    "        sum_fl+=n//1000\n",
    "        print(\"Addition of first and last numbers in four digits is {}\".format(sum_fl))\n",
    "    except Exception as e:\n",
    "        print(e)"
   ]
  },
  {
   "cell_type": "code",
   "execution_count": 160,
   "id": "31db5ba4",
   "metadata": {
    "ExecuteTime": {
     "end_time": "2023-10-25T12:03:28.497827Z",
     "start_time": "2023-10-25T12:03:28.486813Z"
    }
   },
   "outputs": [
    {
     "name": "stdout",
     "output_type": "stream",
     "text": [
      "Addition of first and last numbers in four digits is 5\n"
     ]
    }
   ],
   "source": [
    "f_l_sum(9876)"
   ]
  },
  {
   "cell_type": "markdown",
   "id": "ae83e0ec",
   "metadata": {},
   "source": [
    "In a town, the percentage of men is 52. The percentage of total literacy is 48. If total percentage of literate men is 35 of the total population, write a program to find the total number of illiterate men and women if the population of the town is 80,000."
   ]
  },
  {
   "cell_type": "code",
   "execution_count": 161,
   "id": "1ade10b6",
   "metadata": {
    "ExecuteTime": {
     "end_time": "2023-10-25T12:03:54.942109Z",
     "start_time": "2023-10-25T12:03:54.925100Z"
    }
   },
   "outputs": [],
   "source": [
    "def lit_ill():\n",
    "    try:\n",
    "        tot_pop=80000\n",
    "        men_pop=(tot_pop*52)/100\n",
    "        lit_men=(men_pop*35)/100\n",
    "        ill_men=men_pop-lit_men\n",
    "        print(\"Number of illiterate men in the town {}\".format(ill_men))\n",
    "        tot_women=tot_pop-men_pop\n",
    "        lit_women=tot_women*(48-35)/100\n",
    "        ill_wommen=tot_women-lit_women\n",
    "        print(\"Total number of illiterate women in the town {}\".format(ill_wommen))\n",
    "    except Exception as e:\n",
    "        print(e)"
   ]
  },
  {
   "cell_type": "code",
   "execution_count": 162,
   "id": "8f96889c",
   "metadata": {
    "ExecuteTime": {
     "end_time": "2023-10-25T12:04:02.987651Z",
     "start_time": "2023-10-25T12:04:02.975633Z"
    }
   },
   "outputs": [
    {
     "name": "stdout",
     "output_type": "stream",
     "text": [
      "Number of illiterate men in the town 27040.0\n",
      "Total number of illiterate women in the town 33408.0\n"
     ]
    }
   ],
   "source": [
    "lit_ill()"
   ]
  },
  {
   "cell_type": "markdown",
   "id": "0c79ec39",
   "metadata": {},
   "source": [
    "A cashier has currency notes of denominations 10, 50 and 100. If the amount to be withdrawn is input through the keyboard in hundreds, find the total number of currency notes of each denomination the cashier will have to give to the withdrawer."
   ]
  },
  {
   "cell_type": "code",
   "execution_count": 174,
   "id": "20c1d99b",
   "metadata": {
    "ExecuteTime": {
     "end_time": "2023-10-25T12:05:37.855189Z",
     "start_time": "2023-10-25T12:05:37.845176Z"
    }
   },
   "outputs": [],
   "source": [
    "def amount_wd(amount):\n",
    "    try:\n",
    "        amount=2770\n",
    "        den_100=amount//100\n",
    "        amount%=100\n",
    "        den_50=amount//50\n",
    "        amount%=50\n",
    "        den_10=amount//10\n",
    "        print(\"The 100 denominations are: {}\".format(den_100))\n",
    "        print(\"The 50 denominations are: {}\".format(den_50))\n",
    "        print(\"The 10 denominations are: {}\".format(den_10))\n",
    "    except Exception as e:\n",
    "        print(e)"
   ]
  },
  {
   "cell_type": "code",
   "execution_count": 175,
   "id": "f02acf8e",
   "metadata": {
    "ExecuteTime": {
     "end_time": "2023-10-25T12:05:40.243508Z",
     "start_time": "2023-10-25T12:05:40.236510Z"
    }
   },
   "outputs": [
    {
     "name": "stdout",
     "output_type": "stream",
     "text": [
      "The 100 denominations are: 27\n",
      "The 50 denominations are: 1\n",
      "The 10 denominations are: 2\n"
     ]
    }
   ],
   "source": [
    "amount_wd(amount)"
   ]
  },
  {
   "cell_type": "markdown",
   "id": "93578341",
   "metadata": {},
   "source": [
    "## Return "
   ]
  },
  {
   "cell_type": "markdown",
   "id": "52a66a01",
   "metadata": {},
   "source": [
    "Ask the user to enter a number. Print out the square of the number, but use the sep optional argument to print it out in a full sentence that ends in a period. Sample output is shown below. Enter a number: 5 The square of 5 is 25."
   ]
  },
  {
   "cell_type": "code",
   "execution_count": 176,
   "id": "1a88a6c3",
   "metadata": {
    "ExecuteTime": {
     "end_time": "2023-10-25T12:07:26.421770Z",
     "start_time": "2023-10-25T12:07:26.415771Z"
    }
   },
   "outputs": [],
   "source": [
    "def square(n):\n",
    "    try:\n",
    "        return n*n\n",
    "    except Exception as e:\n",
    "        print(e)"
   ]
  },
  {
   "cell_type": "code",
   "execution_count": 177,
   "id": "6a264063",
   "metadata": {
    "ExecuteTime": {
     "end_time": "2023-10-25T12:07:38.473505Z",
     "start_time": "2023-10-25T12:07:36.555567Z"
    }
   },
   "outputs": [
    {
     "name": "stdout",
     "output_type": "stream",
     "text": [
      "Enter n value to find the Square!10\n"
     ]
    },
    {
     "data": {
      "text/plain": [
       "100"
      ]
     },
     "execution_count": 177,
     "metadata": {},
     "output_type": "execute_result"
    }
   ],
   "source": [
    "square(n=eval(input(\"Enter n value to find the Square!\")))"
   ]
  },
  {
   "cell_type": "markdown",
   "id": "6f2a036d",
   "metadata": {},
   "source": [
    "Ask the user to enter a number x. Use the sep optional argument to print out x, 2x, 3x, 4x, and 5x, each separated by three dashes, like below. Enter a number: 7 7---14---21---28---35"
   ]
  },
  {
   "cell_type": "code",
   "execution_count": 188,
   "id": "1af8845c",
   "metadata": {
    "ExecuteTime": {
     "end_time": "2023-10-25T12:12:12.988229Z",
     "start_time": "2023-10-25T12:12:12.969218Z"
    }
   },
   "outputs": [],
   "source": [
    "def sep(x):\n",
    "    try:\n",
    "        print(1*x,2*x,3*x,4*x,5*x,sep='---')\n",
    "    except Exception as e:\n",
    "        print(e)"
   ]
  },
  {
   "cell_type": "code",
   "execution_count": 189,
   "id": "fb18cc93",
   "metadata": {
    "ExecuteTime": {
     "end_time": "2023-10-25T12:12:15.245449Z",
     "start_time": "2023-10-25T12:12:15.228436Z"
    }
   },
   "outputs": [
    {
     "name": "stdout",
     "output_type": "stream",
     "text": [
      "7---14---21---28---35\n"
     ]
    }
   ],
   "source": [
    "sep(7)"
   ]
  },
  {
   "cell_type": "markdown",
   "id": "9c34dab2",
   "metadata": {},
   "source": [
    "Write a program that asks the user for a weight in kilograms and converts it to pounds. There are 2.2 pounds in a kilogram."
   ]
  },
  {
   "cell_type": "code",
   "execution_count": 181,
   "id": "4df9bbbe",
   "metadata": {
    "ExecuteTime": {
     "end_time": "2023-10-25T12:09:12.015312Z",
     "start_time": "2023-10-25T12:09:11.997323Z"
    }
   },
   "outputs": [],
   "source": [
    "def kg2p(w):\n",
    "    try:\n",
    "        return 2.2*w\n",
    "    except Exception as e:\n",
    "        print(e)"
   ]
  },
  {
   "cell_type": "code",
   "execution_count": 182,
   "id": "71023119",
   "metadata": {
    "ExecuteTime": {
     "end_time": "2023-10-25T12:09:18.355555Z",
     "start_time": "2023-10-25T12:09:18.333567Z"
    }
   },
   "outputs": [
    {
     "data": {
      "text/plain": [
       "22.0"
      ]
     },
     "execution_count": 182,
     "metadata": {},
     "output_type": "execute_result"
    }
   ],
   "source": [
    "kg2p(10)"
   ]
  },
  {
   "cell_type": "markdown",
   "id": "731df7d5",
   "metadata": {},
   "source": [
    "Write a program that asks the user to enter three numbers (use three separate input statements).Create variables called total and average that hold the sum and average of the three numbers and print out the values of total and average."
   ]
  },
  {
   "cell_type": "code",
   "execution_count": 183,
   "id": "362e46ea",
   "metadata": {
    "ExecuteTime": {
     "end_time": "2023-10-25T12:10:33.739726Z",
     "start_time": "2023-10-25T12:10:33.729753Z"
    }
   },
   "outputs": [],
   "source": [
    "def tot_aver(n1,n2,n3):\n",
    "    try:\n",
    "        total=n1+n2+n3\n",
    "        average=total/3\n",
    "        return total,average\n",
    "    except Exception as e:\n",
    "        print(e)"
   ]
  },
  {
   "cell_type": "code",
   "execution_count": 184,
   "id": "50a8fca5",
   "metadata": {
    "ExecuteTime": {
     "end_time": "2023-10-25T12:10:47.397039Z",
     "start_time": "2023-10-25T12:10:42.331997Z"
    }
   },
   "outputs": [
    {
     "name": "stdout",
     "output_type": "stream",
     "text": [
      "Enter n1 value:10\n",
      "Enter n2 value:30\n",
      "Enter n3 value:90\n"
     ]
    },
    {
     "data": {
      "text/plain": [
       "(130, 43.333333333333336)"
      ]
     },
     "execution_count": 184,
     "metadata": {},
     "output_type": "execute_result"
    }
   ],
   "source": [
    "tot_aver(n1=eval(input(\"Enter n1 value:\")),\n",
    "        n2=eval(input(\"Enter n2 value:\")),\n",
    "        n3=eval(input(\"Enter n3 value:\")))"
   ]
  },
  {
   "cell_type": "markdown",
   "id": "0442fea2",
   "metadata": {},
   "source": [
    "A lot of cell phones have tip calculators. Write one. Ask the user for the price of the meal and the percent tip they want to leave. Then print both the tip amount and the total bill with the tip included."
   ]
  },
  {
   "cell_type": "code",
   "execution_count": 185,
   "id": "5b83eab6",
   "metadata": {
    "ExecuteTime": {
     "end_time": "2023-10-25T12:11:32.025647Z",
     "start_time": "2023-10-25T12:11:32.005659Z"
    }
   },
   "outputs": [],
   "source": [
    "def tip_cal(meal_price,tip_percent):\n",
    "    try:\n",
    "        tip_amount=(meal_price*tip_percent)/100\n",
    "        total_amount=tip_amount+meal_price\n",
    "        return tip_amount,total_amount\n",
    "    except Exception as e:\n",
    "        print(e)"
   ]
  },
  {
   "cell_type": "code",
   "execution_count": 186,
   "id": "ee95452e",
   "metadata": {
    "ExecuteTime": {
     "end_time": "2023-10-25T12:11:45.616366Z",
     "start_time": "2023-10-25T12:11:42.704264Z"
    }
   },
   "outputs": [
    {
     "name": "stdout",
     "output_type": "stream",
     "text": [
      "Please enter meal price:100\n",
      "Please enter the percent of tip yow want to leave20\n"
     ]
    },
    {
     "data": {
      "text/plain": [
       "(20.0, 120.0)"
      ]
     },
     "execution_count": 186,
     "metadata": {},
     "output_type": "execute_result"
    }
   ],
   "source": [
    "tip_cal(meal_price=eval(input(\"Please enter meal price:\")),\n",
    "        tip_percent=eval(input(\"Please enter the percent of tip yow want to leave\")))"
   ]
  },
  {
   "cell_type": "markdown",
   "id": "5b8f4543",
   "metadata": {},
   "source": [
    "Ramesh’s basic salary is input through the keyboard. His dearness allowance is 40% of basic salary, and house rent allowance is 20% of basic salary. Write a program to calculate his gross salary."
   ]
  },
  {
   "cell_type": "code",
   "execution_count": 190,
   "id": "92000a76",
   "metadata": {
    "ExecuteTime": {
     "end_time": "2023-10-25T12:18:20.559550Z",
     "start_time": "2023-10-25T12:18:20.548555Z"
    }
   },
   "outputs": [],
   "source": [
    "def gross_sal(basic_sal):\n",
    "    try:\n",
    "        return basic_sal+((basic_sal*40))/100+((basic_sal*20)/100)\n",
    "    except Exception as e:\n",
    "        print(e)"
   ]
  },
  {
   "cell_type": "code",
   "execution_count": 191,
   "id": "1cda6867",
   "metadata": {
    "ExecuteTime": {
     "end_time": "2023-10-25T12:18:35.393762Z",
     "start_time": "2023-10-25T12:18:33.128916Z"
    }
   },
   "outputs": [
    {
     "name": "stdout",
     "output_type": "stream",
     "text": [
      "Enter Ramesh's basic salary: 100000\n"
     ]
    },
    {
     "data": {
      "text/plain": [
       "160000.0"
      ]
     },
     "execution_count": 191,
     "metadata": {},
     "output_type": "execute_result"
    }
   ],
   "source": [
    "gross_sal(basic_sal=eval(input(\"Enter Ramesh's basic salary: \")))"
   ]
  },
  {
   "cell_type": "markdown",
   "id": "04c38d33",
   "metadata": {},
   "source": [
    "The distance between two cities (in km.) is input through the keyboard. Write a program to convert and print this distance in meters, feet, inches and centimeters."
   ]
  },
  {
   "cell_type": "code",
   "execution_count": 192,
   "id": "386675cf",
   "metadata": {
    "ExecuteTime": {
     "end_time": "2023-10-25T12:19:28.254580Z",
     "start_time": "2023-10-25T12:19:28.239564Z"
    }
   },
   "outputs": [],
   "source": [
    "def dis_bw_2cities(km):\n",
    "    try:\n",
    "        return km,(1000*km),(3280.84*km),(39370.1*km),(100000*km)\n",
    "    except Exception as e:\n",
    "        print(e)"
   ]
  },
  {
   "cell_type": "code",
   "execution_count": 193,
   "id": "b37b3a2d",
   "metadata": {
    "ExecuteTime": {
     "end_time": "2023-10-25T12:19:39.357796Z",
     "start_time": "2023-10-25T12:19:37.762072Z"
    }
   },
   "outputs": [
    {
     "name": "stdout",
     "output_type": "stream",
     "text": [
      "Enter the distance between two cities in km,100\n"
     ]
    },
    {
     "data": {
      "text/plain": [
       "(100, 100000, 328084.0, 3937010.0, 10000000)"
      ]
     },
     "execution_count": 193,
     "metadata": {},
     "output_type": "execute_result"
    }
   ],
   "source": [
    "dis_bw_2cities(km=eval(input(\"Enter the distance between two cities in km,\")))"
   ]
  },
  {
   "cell_type": "markdown",
   "id": "34a61e9e",
   "metadata": {},
   "source": [
    "If the marks obtained by a student in five different subjects are input through the keyboard, find out the aggregate marks and percentage marks obtained by the student. Assume that the maximum marks that can be obtained by a student in each subject is 100."
   ]
  },
  {
   "cell_type": "code",
   "execution_count": 194,
   "id": "fd9d4ff5",
   "metadata": {
    "ExecuteTime": {
     "end_time": "2023-10-25T12:20:26.409846Z",
     "start_time": "2023-10-25T12:20:26.393876Z"
    }
   },
   "outputs": [],
   "source": [
    "def agg_per(eng,mat,sci,phy,his):\n",
    "    try:\n",
    "        agg_marks=((eng+mat+sci+phy+his)/(5*100))\n",
    "        per_marks=agg_marks/100\n",
    "        return agg_marks,per_marks\n",
    "    except Exception as e:\n",
    "        print(e)"
   ]
  },
  {
   "cell_type": "code",
   "execution_count": 196,
   "id": "f5462591",
   "metadata": {
    "ExecuteTime": {
     "end_time": "2023-10-25T12:22:28.327170Z",
     "start_time": "2023-10-25T12:22:23.551632Z"
    }
   },
   "outputs": [
    {
     "name": "stdout",
     "output_type": "stream",
     "text": [
      "Enter English marks:10\n",
      "Enter Math marks:20\n",
      "Enter Science marks:30\n",
      "Enter Physic marks:40\n",
      "Enter History marks:50\n"
     ]
    },
    {
     "data": {
      "text/plain": [
       "(0.3, 0.003)"
      ]
     },
     "execution_count": 196,
     "metadata": {},
     "output_type": "execute_result"
    }
   ],
   "source": [
    "agg_per(eng=eval(input(\"Enter English marks:\")),\n",
    "       mat=eval(input(\"Enter Math marks:\")),\n",
    "       sci=eval(input(\"Enter Science marks:\")),\n",
    "       phy=eval(input(\"Enter Physic marks:\")),\n",
    "       his=eval(input(\"Enter History marks:\")))"
   ]
  },
  {
   "cell_type": "markdown",
   "id": "a3ba84d7",
   "metadata": {},
   "source": [
    "Temperature of a city in Fahrenheit degrees is input through the keyboard. Write a program to convert this temperature into Centigrade degrees."
   ]
  },
  {
   "cell_type": "code",
   "execution_count": 197,
   "id": "db5c1984",
   "metadata": {
    "ExecuteTime": {
     "end_time": "2023-10-25T12:23:14.117602Z",
     "start_time": "2023-10-25T12:23:14.101634Z"
    }
   },
   "outputs": [],
   "source": [
    "def f2c(temp):\n",
    "    try:\n",
    "        temp_f2c=round((temp-32)*(5/9))\n",
    "        return temp,temp_f2c\n",
    "    except Exception as e:\n",
    "        print(e)"
   ]
  },
  {
   "cell_type": "code",
   "execution_count": 198,
   "id": "b8b36df0",
   "metadata": {
    "ExecuteTime": {
     "end_time": "2023-10-25T12:23:25.519220Z",
     "start_time": "2023-10-25T12:23:23.604749Z"
    }
   },
   "outputs": [
    {
     "name": "stdout",
     "output_type": "stream",
     "text": [
      "Enter City Temperature in Fahrenheit:100\n"
     ]
    },
    {
     "data": {
      "text/plain": [
       "(100, 38)"
      ]
     },
     "execution_count": 198,
     "metadata": {},
     "output_type": "execute_result"
    }
   ],
   "source": [
    "f2c(temp=eval(input(\"Enter City Temperature in Fahrenheit:\")))"
   ]
  },
  {
   "cell_type": "markdown",
   "id": "fc07722d",
   "metadata": {},
   "source": [
    "The length & breadth of a rectangle and radius of a circle are input through the keyboard. Write a program to calculate the area & perimeter of the rectangle, and the area & circumference of the circle"
   ]
  },
  {
   "cell_type": "code",
   "execution_count": 199,
   "id": "521a87fe",
   "metadata": {
    "ExecuteTime": {
     "end_time": "2023-10-25T12:31:07.386845Z",
     "start_time": "2023-10-25T12:31:07.375850Z"
    }
   },
   "outputs": [],
   "source": [
    "def len_bre_rec(l,b,r):\n",
    "    try:\n",
    "        area_rec=l*b\n",
    "        perimeter_rec=2*(l+b)\n",
    "        import math\n",
    "        area_circle=math.pi*r*r\n",
    "        perimeter_circle=2*math.pi*r\n",
    "        return area_rec,perimeter_rec\n",
    "        return area_circle,perimeter_circle\n",
    "    except Exception as e:\n",
    "        print(e)"
   ]
  },
  {
   "cell_type": "code",
   "execution_count": 200,
   "id": "1dc78781",
   "metadata": {
    "ExecuteTime": {
     "end_time": "2023-10-25T12:31:17.507740Z",
     "start_time": "2023-10-25T12:31:14.893476Z"
    }
   },
   "outputs": [
    {
     "name": "stdout",
     "output_type": "stream",
     "text": [
      "Enter Length:10\n",
      "Enter Breadth:20\n",
      "Enter Radius:30\n"
     ]
    },
    {
     "data": {
      "text/plain": [
       "(200, 60)"
      ]
     },
     "execution_count": 200,
     "metadata": {},
     "output_type": "execute_result"
    }
   ],
   "source": [
    "len_bre_rec(l=eval(input(\"Enter Length:\")),\n",
    "           b=eval(input(\"Enter Breadth:\")),\n",
    "           r=eval(input(\"Enter Radius:\")))"
   ]
  },
  {
   "cell_type": "markdown",
   "id": "69d0b8a6",
   "metadata": {},
   "source": [
    "Two numbers are input through the keyboard into two locations C and D. Write a program to interchange the contents of C and D."
   ]
  },
  {
   "cell_type": "code",
   "execution_count": 203,
   "id": "cea4e031",
   "metadata": {
    "ExecuteTime": {
     "end_time": "2023-10-25T12:32:55.479351Z",
     "start_time": "2023-10-25T12:32:55.469356Z"
    }
   },
   "outputs": [],
   "source": [
    "def swap(a,b):\n",
    "    try:\n",
    "        a+=b\n",
    "        b=a-b\n",
    "        a=a-b\n",
    "        return a,b\n",
    "    except Exception as e:\n",
    "        print(e)"
   ]
  },
  {
   "cell_type": "code",
   "execution_count": 204,
   "id": "50ca1334",
   "metadata": {
    "ExecuteTime": {
     "end_time": "2023-10-25T12:32:59.800138Z",
     "start_time": "2023-10-25T12:32:57.436007Z"
    }
   },
   "outputs": [
    {
     "name": "stdout",
     "output_type": "stream",
     "text": [
      "Enter a Value:20\n",
      "Enter b Value:30\n"
     ]
    },
    {
     "data": {
      "text/plain": [
       "(30, 20)"
      ]
     },
     "execution_count": 204,
     "metadata": {},
     "output_type": "execute_result"
    }
   ],
   "source": [
    "swap(a=eval(input(\"Enter a Value:\")),\n",
    "    b=eval(input(\"Enter b Value:\")))"
   ]
  },
  {
   "cell_type": "markdown",
   "id": "d6837ba6",
   "metadata": {},
   "source": [
    "If a five-digit number is input through the keyboard, write a program to reverse the number."
   ]
  },
  {
   "cell_type": "code",
   "execution_count": 205,
   "id": "90b2769f",
   "metadata": {
    "ExecuteTime": {
     "end_time": "2023-10-25T12:33:33.239914Z",
     "start_time": "2023-10-25T12:33:33.224920Z"
    }
   },
   "outputs": [],
   "source": [
    "def reve(n):\n",
    "    try:\n",
    "        revnum=0\n",
    "        revnum+=n%10*10000\n",
    "        n=n//10\n",
    "        revnum+=n%10*1000\n",
    "        n//=10\n",
    "        revnum+=n%10*100\n",
    "        n//=10\n",
    "        revnum+=n%10*10\n",
    "        n//=10\n",
    "        revnum+=n\n",
    "        return revnum\n",
    "    except Exception as e:\n",
    "        print(e)"
   ]
  },
  {
   "cell_type": "code",
   "execution_count": 206,
   "id": "a4ee70f2",
   "metadata": {
    "ExecuteTime": {
     "end_time": "2023-10-25T12:33:43.581785Z",
     "start_time": "2023-10-25T12:33:41.170981Z"
    }
   },
   "outputs": [
    {
     "name": "stdout",
     "output_type": "stream",
     "text": [
      "Enter Five digit number:12345\n"
     ]
    },
    {
     "data": {
      "text/plain": [
       "54321"
      ]
     },
     "execution_count": 206,
     "metadata": {},
     "output_type": "execute_result"
    }
   ],
   "source": [
    "reve(n=eval(input(\"Enter Five digit number:\")))"
   ]
  },
  {
   "cell_type": "markdown",
   "id": "220d964d",
   "metadata": {},
   "source": [
    "If a four-digit number is input through the keyboard, write a program to obtain the sum of the first and last digit of this number."
   ]
  },
  {
   "cell_type": "code",
   "execution_count": 207,
   "id": "c61e21ac",
   "metadata": {
    "ExecuteTime": {
     "end_time": "2023-10-25T12:34:16.492132Z",
     "start_time": "2023-10-25T12:34:16.478137Z"
    }
   },
   "outputs": [],
   "source": [
    "def f_l_sum(n):\n",
    "    try:\n",
    "        sum_fl=0\n",
    "        sum_fl+=n%10\n",
    "        sum_fl+=n//1000\n",
    "        return sum_fl\n",
    "    except Exception as e:\n",
    "        print(e)"
   ]
  },
  {
   "cell_type": "code",
   "execution_count": 208,
   "id": "77bcc10d",
   "metadata": {
    "ExecuteTime": {
     "end_time": "2023-10-25T12:34:30.297942Z",
     "start_time": "2023-10-25T12:34:28.154313Z"
    }
   },
   "outputs": [
    {
     "name": "stdout",
     "output_type": "stream",
     "text": [
      "Enter four digit number:1234\n"
     ]
    },
    {
     "data": {
      "text/plain": [
       "5"
      ]
     },
     "execution_count": 208,
     "metadata": {},
     "output_type": "execute_result"
    }
   ],
   "source": [
    "f_l_sum(n=eval(input(\"Enter four digit number:\")))"
   ]
  },
  {
   "cell_type": "markdown",
   "id": "2f44e10f",
   "metadata": {},
   "source": [
    "In a town, the percentage of men is 52. The percentage of total literacy is 48. If total percentage of literate men is 35 of the total population, write a program to find the total number of illiterate men and women if the population of the town is 80,000."
   ]
  },
  {
   "cell_type": "code",
   "execution_count": 212,
   "id": "37d1ed66",
   "metadata": {
    "ExecuteTime": {
     "end_time": "2023-10-25T12:35:47.248673Z",
     "start_time": "2023-10-25T12:35:47.230680Z"
    }
   },
   "outputs": [],
   "source": [
    "def lit_ill():\n",
    "    try:\n",
    "        tot_pop=80000\n",
    "        men_pop=(tot_pop*52)/100\n",
    "        lit_men=(men_pop*35)/100\n",
    "        ill_men=men_pop-lit_men\n",
    "        tot_women=tot_pop-men_pop\n",
    "        lit_women=tot_women*(48-35)/100\n",
    "        ill_wommen=tot_women-lit_women\n",
    "        return ill_men,ill_wommen\n",
    "    except Exception as e:\n",
    "        print(e)"
   ]
  },
  {
   "cell_type": "code",
   "execution_count": 213,
   "id": "a767820c",
   "metadata": {
    "ExecuteTime": {
     "end_time": "2023-10-25T12:35:49.168440Z",
     "start_time": "2023-10-25T12:35:49.159443Z"
    }
   },
   "outputs": [
    {
     "data": {
      "text/plain": [
       "(27040.0, 33408.0)"
      ]
     },
     "execution_count": 213,
     "metadata": {},
     "output_type": "execute_result"
    }
   ],
   "source": [
    "lit_ill()"
   ]
  },
  {
   "cell_type": "markdown",
   "id": "b4ba66e5",
   "metadata": {},
   "source": [
    "A cashier has currency notes of denominations 10, 50 and 100. If the amount to be withdrawn is input through the keyboard in hundreds, find the total number of currency notes of each denomination the cashier will have to give to the withdrawer."
   ]
  },
  {
   "cell_type": "code",
   "execution_count": 214,
   "id": "80b09a1e",
   "metadata": {
    "ExecuteTime": {
     "end_time": "2023-10-25T12:36:24.858656Z",
     "start_time": "2023-10-25T12:36:24.842659Z"
    }
   },
   "outputs": [],
   "source": [
    "def amount_wd(amount):\n",
    "    try:\n",
    "        den_100=amount//100\n",
    "        amount%=100\n",
    "        den_50=amount//50\n",
    "        amount%=50\n",
    "        den_10=amount//10\n",
    "        return den_100,den_50,den_10\n",
    "    except Exception as e:\n",
    "        print(e)"
   ]
  },
  {
   "cell_type": "code",
   "execution_count": 216,
   "id": "73cbe5d6",
   "metadata": {
    "ExecuteTime": {
     "end_time": "2023-10-25T12:36:57.258754Z",
     "start_time": "2023-10-25T12:36:53.306005Z"
    }
   },
   "outputs": [
    {
     "name": "stdout",
     "output_type": "stream",
     "text": [
      "Enter the amount:1270\n"
     ]
    },
    {
     "data": {
      "text/plain": [
       "(12, 1, 2)"
      ]
     },
     "execution_count": 216,
     "metadata": {},
     "output_type": "execute_result"
    }
   ],
   "source": [
    "amount_wd(amount=eval(input(\"Enter the amount:\")))"
   ]
  }
 ],
 "metadata": {
  "kernelspec": {
   "display_name": "Python 3 (ipykernel)",
   "language": "python",
   "name": "python3"
  },
  "language_info": {
   "codemirror_mode": {
    "name": "ipython",
    "version": 3
   },
   "file_extension": ".py",
   "mimetype": "text/x-python",
   "name": "python",
   "nbconvert_exporter": "python",
   "pygments_lexer": "ipython3",
   "version": "3.9.7"
  }
 },
 "nbformat": 4,
 "nbformat_minor": 5
}
