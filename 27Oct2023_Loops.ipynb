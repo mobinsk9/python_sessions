{
 "cells": [
  {
   "cell_type": "code",
   "execution_count": 2,
   "id": "c9ef480b",
   "metadata": {
    "ExecuteTime": {
     "end_time": "2023-10-27T14:09:23.600150Z",
     "start_time": "2023-10-27T14:09:23.581157Z"
    }
   },
   "outputs": [
    {
     "name": "stdout",
     "output_type": "stream",
     "text": [
      "-5\n",
      "-6\n",
      "-7\n",
      "-8\n",
      "-9\n",
      "-10\n",
      "-11\n",
      "-12\n",
      "-13\n",
      "-14\n",
      "-15\n",
      "-16\n",
      "-17\n",
      "-18\n",
      "-19\n"
     ]
    }
   ],
   "source": [
    "for i in range (-5,-20,-1):\n",
    "    print(i)"
   ]
  },
  {
   "cell_type": "code",
   "execution_count": 3,
   "id": "257473a1",
   "metadata": {
    "ExecuteTime": {
     "end_time": "2023-10-27T14:10:17.851940Z",
     "start_time": "2023-10-27T14:10:17.843947Z"
    }
   },
   "outputs": [
    {
     "name": "stdout",
     "output_type": "stream",
     "text": [
      "Hello\n",
      "Hello\n",
      "Hello\n",
      "Hello\n",
      "Hello\n"
     ]
    }
   ],
   "source": [
    "for i in range(1,6):\n",
    "    print(\"Hello\")"
   ]
  },
  {
   "cell_type": "code",
   "execution_count": 6,
   "id": "4cc7a980",
   "metadata": {
    "ExecuteTime": {
     "end_time": "2023-10-27T14:16:22.457091Z",
     "start_time": "2023-10-27T14:16:22.432106Z"
    }
   },
   "outputs": [
    {
     "name": "stdout",
     "output_type": "stream",
     "text": [
      "10 is even number\n",
      "11 is Odd number\n",
      "12 is even number\n",
      "13 is Odd number\n",
      "14 is even number\n",
      "15 is Odd number\n",
      "16 is even number\n",
      "17 is Odd number\n",
      "18 is even number\n",
      "19 is Odd number\n",
      "20 is even number\n",
      "21 is Odd number\n",
      "22 is even number\n",
      "23 is Odd number\n",
      "24 is even number\n",
      "25 is Odd number\n",
      "26 is even number\n",
      "27 is Odd number\n",
      "28 is even number\n",
      "29 is Odd number\n",
      "30 is even number\n",
      "31 is Odd number\n",
      "32 is even number\n",
      "33 is Odd number\n",
      "34 is even number\n",
      "35 is Odd number\n",
      "36 is even number\n",
      "37 is Odd number\n",
      "38 is even number\n",
      "39 is Odd number\n",
      "40 is even number\n"
     ]
    }
   ],
   "source": [
    "#n=eval(input(\"Enter n value:\"))\n",
    "for n in range(10,41,1):\n",
    "    if n%2==0:\n",
    "        print(\"{} is even number\".format(n))\n",
    "    else:\n",
    "        print(\"{} is Odd number\".format(n))"
   ]
  },
  {
   "cell_type": "code",
   "execution_count": 7,
   "id": "cc3188ed",
   "metadata": {
    "ExecuteTime": {
     "end_time": "2023-10-27T14:21:30.532476Z",
     "start_time": "2023-10-27T14:21:30.497964Z"
    }
   },
   "outputs": [
    {
     "data": {
      "text/plain": [
       "2137648950800"
      ]
     },
     "execution_count": 7,
     "metadata": {},
     "output_type": "execute_result"
    }
   ],
   "source": [
    "id(n)"
   ]
  },
  {
   "cell_type": "code",
   "execution_count": 9,
   "id": "1653c845",
   "metadata": {
    "ExecuteTime": {
     "end_time": "2023-10-27T14:22:19.615991Z",
     "start_time": "2023-10-27T14:22:19.592003Z"
    }
   },
   "outputs": [
    {
     "name": "stdout",
     "output_type": "stream",
     "text": [
      "10 is even number\n",
      "11 is Odd number\n",
      "12 is even number\n",
      "13 is Odd number\n",
      "14 is even number\n",
      "15 is Odd number\n",
      "16 is even number\n",
      "17 is Odd number\n",
      "18 is even number\n",
      "19 is Odd number\n",
      "20 is even number\n",
      "21 is Odd number\n",
      "22 is even number\n",
      "23 is Odd number\n",
      "24 is even number\n",
      "25 is Odd number\n",
      "26 is even number\n",
      "27 is Odd number\n",
      "28 is even number\n",
      "29 is Odd number\n",
      "30 is even number\n",
      "31 is Odd number\n",
      "32 is even number\n",
      "33 is Odd number\n",
      "34 is even number\n",
      "35 is Odd number\n",
      "36 is even number\n",
      "37 is Odd number\n",
      "38 is even number\n",
      "39 is Odd number\n",
      "40 is even number\n"
     ]
    }
   ],
   "source": [
    "try:\n",
    "    for n in range(10,41,1):\n",
    "        if n%2==0:\n",
    "            print(\"{} is even number\".format(n))\n",
    "        else:\n",
    "            print(\"{} is Odd number\".format(n))\n",
    "except Exception as e:\n",
    "    print(e)"
   ]
  },
  {
   "cell_type": "code",
   "execution_count": 10,
   "id": "b4ea76ca",
   "metadata": {
    "ExecuteTime": {
     "end_time": "2023-10-27T14:23:05.922666Z",
     "start_time": "2023-10-27T14:23:05.902679Z"
    }
   },
   "outputs": [],
   "source": [
    "def even_odd():\n",
    "    try:\n",
    "        for n in range(10,41,1):\n",
    "            if n%2==0:\n",
    "                print(\"{} is even number\".format(n))\n",
    "            else:\n",
    "                print(\"{} is Odd number\".format(n))\n",
    "    except Exception as e:\n",
    "        print(e)"
   ]
  },
  {
   "cell_type": "code",
   "execution_count": 11,
   "id": "365c22d7",
   "metadata": {
    "ExecuteTime": {
     "end_time": "2023-10-27T14:23:12.324659Z",
     "start_time": "2023-10-27T14:23:12.311666Z"
    }
   },
   "outputs": [
    {
     "name": "stdout",
     "output_type": "stream",
     "text": [
      "10 is even number\n",
      "11 is Odd number\n",
      "12 is even number\n",
      "13 is Odd number\n",
      "14 is even number\n",
      "15 is Odd number\n",
      "16 is even number\n",
      "17 is Odd number\n",
      "18 is even number\n",
      "19 is Odd number\n",
      "20 is even number\n",
      "21 is Odd number\n",
      "22 is even number\n",
      "23 is Odd number\n",
      "24 is even number\n",
      "25 is Odd number\n",
      "26 is even number\n",
      "27 is Odd number\n",
      "28 is even number\n",
      "29 is Odd number\n",
      "30 is even number\n",
      "31 is Odd number\n",
      "32 is even number\n",
      "33 is Odd number\n",
      "34 is even number\n",
      "35 is Odd number\n",
      "36 is even number\n",
      "37 is Odd number\n",
      "38 is even number\n",
      "39 is Odd number\n",
      "40 is even number\n"
     ]
    }
   ],
   "source": [
    "even_odd()"
   ]
  },
  {
   "cell_type": "code",
   "execution_count": 12,
   "id": "bb90353d",
   "metadata": {
    "ExecuteTime": {
     "end_time": "2023-10-27T14:24:42.017235Z",
     "start_time": "2023-10-27T14:24:42.001248Z"
    }
   },
   "outputs": [],
   "source": [
    "def even_odd(i,j):\n",
    "    try:\n",
    "        for n in range(i,j):\n",
    "            if n%2==0:\n",
    "                print(\"{} is even number\".format(n))\n",
    "            else:\n",
    "                print(\"{} is Odd number\".format(n))\n",
    "    except Exception as e:\n",
    "        print(e)"
   ]
  },
  {
   "cell_type": "code",
   "execution_count": 15,
   "id": "9b69edc5",
   "metadata": {
    "ExecuteTime": {
     "end_time": "2023-10-27T14:26:34.974540Z",
     "start_time": "2023-10-27T14:26:29.359490Z"
    }
   },
   "outputs": [
    {
     "name": "stdout",
     "output_type": "stream",
     "text": [
      "Enter Start Value:10\n",
      "Enter Stop Value:21\n",
      "10 is even number\n",
      "11 is Odd number\n",
      "12 is even number\n",
      "13 is Odd number\n",
      "14 is even number\n",
      "15 is Odd number\n",
      "16 is even number\n",
      "17 is Odd number\n",
      "18 is even number\n",
      "19 is Odd number\n",
      "20 is even number\n"
     ]
    }
   ],
   "source": [
    "even_odd(i=eval(input(\"Enter Start Value:\")),\n",
    "        j=eval(input(\"Enter Stop Value:\")))"
   ]
  },
  {
   "cell_type": "code",
   "execution_count": 19,
   "id": "cd583c78",
   "metadata": {
    "ExecuteTime": {
     "end_time": "2023-10-27T14:42:40.699268Z",
     "start_time": "2023-10-27T14:42:40.681284Z"
    }
   },
   "outputs": [],
   "source": [
    "def get_values():\n",
    "    start=eval(input(\"Enter Start Value:\"))\n",
    "    stop=eval(input(\"Enter Stop Value:\"))\n",
    "    return(start,stop)\n",
    "def even_odd():\n",
    "    start,stop=get_values()\n",
    "    for n in range(start,stop):\n",
    "        if n%2==0:\n",
    "            print(\"{} is even number!!!\".format(n))\n",
    "        else:\n",
    "            print(\"{} is odd number!\".format(n))"
   ]
  },
  {
   "cell_type": "code",
   "execution_count": 20,
   "id": "8b5828c7",
   "metadata": {
    "ExecuteTime": {
     "end_time": "2023-10-27T14:42:46.599961Z",
     "start_time": "2023-10-27T14:42:42.812325Z"
    }
   },
   "outputs": [
    {
     "name": "stdout",
     "output_type": "stream",
     "text": [
      "Enter Start Value:20\n",
      "Enter Stop Value:30\n",
      "20 is even number!!!\n",
      "21 is odd number!\n",
      "22 is even number!!!\n",
      "23 is odd number!\n",
      "24 is even number!!!\n",
      "25 is odd number!\n",
      "26 is even number!!!\n",
      "27 is odd number!\n",
      "28 is even number!!!\n",
      "29 is odd number!\n"
     ]
    }
   ],
   "source": [
    "even_odd()"
   ]
  },
  {
   "cell_type": "code",
   "execution_count": 21,
   "id": "83677e93",
   "metadata": {
    "ExecuteTime": {
     "end_time": "2023-10-27T14:53:51.732742Z",
     "start_time": "2023-10-27T14:53:51.722748Z"
    }
   },
   "outputs": [
    {
     "name": "stdout",
     "output_type": "stream",
     "text": [
      "Hai\n",
      "Hello\n",
      "good\n",
      "morning\n",
      "good\n",
      "morning\n",
      "good\n",
      "morning\n",
      "Bye\n"
     ]
    }
   ],
   "source": [
    "print(\"Hai\")\n",
    "print(\"Hello\")\n",
    "for i in range(3):\n",
    "    print(\"good\")\n",
    "    print(\"morning\")\n",
    "print(\"Bye\")"
   ]
  },
  {
   "cell_type": "code",
   "execution_count": 29,
   "id": "39d72690",
   "metadata": {
    "ExecuteTime": {
     "end_time": "2023-10-27T15:02:23.228117Z",
     "start_time": "2023-10-27T15:02:23.216624Z"
    }
   },
   "outputs": [],
   "source": [
    "def get_rand_values():\n",
    "    import random\n",
    "    return(random.randint(100,1000))\n",
    "def rand_even_odd():\n",
    "    try: \n",
    "        for i in range(10):\n",
    "            n=get_rand_values()\n",
    "            if n%2==0:\n",
    "                print(\"{} is even number!\".format(n))\n",
    "            else:\n",
    "                print(\"{} is odd number!\".format(n))\n",
    "    except Exception as e:\n",
    "        print(e)"
   ]
  },
  {
   "cell_type": "code",
   "execution_count": 30,
   "id": "d27ebc53",
   "metadata": {
    "ExecuteTime": {
     "end_time": "2023-10-27T15:02:25.584516Z",
     "start_time": "2023-10-27T15:02:25.569527Z"
    }
   },
   "outputs": [
    {
     "name": "stdout",
     "output_type": "stream",
     "text": [
      "319 is odd number!\n",
      "223 is odd number!\n",
      "497 is odd number!\n",
      "103 is odd number!\n",
      "417 is odd number!\n",
      "586 is even number!\n",
      "341 is odd number!\n",
      "707 is odd number!\n",
      "841 is odd number!\n",
      "282 is even number!\n"
     ]
    }
   ],
   "source": [
    "rand_even_odd()"
   ]
  },
  {
   "cell_type": "code",
   "execution_count": 54,
   "id": "f02ad494",
   "metadata": {
    "ExecuteTime": {
     "end_time": "2023-10-27T15:30:54.601992Z",
     "start_time": "2023-10-27T15:30:49.371626Z"
    }
   },
   "outputs": [
    {
     "name": "stdout",
     "output_type": "stream",
     "text": [
      "Enter number of chances:3\n",
      "15\n",
      "Enetr u Value:15\n",
      "You Won\n"
     ]
    }
   ],
   "source": [
    "import random\n",
    "n=random.randint(1,20)\n",
    "chances=eval(input(\"Enter number of chances:\"))\n",
    "print(n)\n",
    "for i in range(chances):\n",
    "    u=eval(input(\"Enetr u Value:\"))\n",
    "    if n==u:\n",
    "        print(\"You Won\")\n",
    "        break\n",
    "    else:\n",
    "        print(\"You Lost\")\n",
    "        print(\"Number of chances left {}\".format(chances-1-i))\n",
    "    if chances-1-i==0:\n",
    "        print(\"All chances are done,better luck next time!!!\")"
   ]
  },
  {
   "cell_type": "code",
   "execution_count": 39,
   "id": "9daeba03",
   "metadata": {
    "ExecuteTime": {
     "end_time": "2023-10-27T15:19:32.815080Z",
     "start_time": "2023-10-27T15:19:32.805085Z"
    }
   },
   "outputs": [
    {
     "ename": "SyntaxError",
     "evalue": "invalid syntax (Temp/ipykernel_16796/877134772.py, line 1)",
     "output_type": "error",
     "traceback": [
      "\u001b[1;36m  File \u001b[1;32m\"C:\\Users\\admin\\AppData\\Local\\Temp/ipykernel_16796/877134772.py\"\u001b[1;36m, line \u001b[1;32m1\u001b[0m\n\u001b[1;33m    start,stop=for i in range(1,3):\u001b[0m\n\u001b[1;37m               ^\u001b[0m\n\u001b[1;31mSyntaxError\u001b[0m\u001b[1;31m:\u001b[0m invalid syntax\n"
     ]
    }
   ],
   "source": [
    "start,stop=for i in range(1,3):"
   ]
  }
 ],
 "metadata": {
  "kernelspec": {
   "display_name": "Python 3 (ipykernel)",
   "language": "python",
   "name": "python3"
  },
  "language_info": {
   "codemirror_mode": {
    "name": "ipython",
    "version": 3
   },
   "file_extension": ".py",
   "mimetype": "text/x-python",
   "name": "python",
   "nbconvert_exporter": "python",
   "pygments_lexer": "ipython3",
   "version": "3.9.7"
  }
 },
 "nbformat": 4,
 "nbformat_minor": 5
}
