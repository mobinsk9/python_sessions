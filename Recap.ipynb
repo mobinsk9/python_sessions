{
 "cells": [
  {
   "cell_type": "markdown",
   "id": "6e6aec4d",
   "metadata": {},
   "source": [
    "                                             28-09-2023"
   ]
  },
  {
   "cell_type": "markdown",
   "id": "43dffe25",
   "metadata": {},
   "source": [
    "Self driving cars\n",
    "    \n",
    "    They will keep cameras, Cameras will capture the data is known as IOT:  INTERNET OF THINGS\n",
    "    \n",
    "    The data will store some place : Cloud Computing\n",
    "    \n",
    "    Analyzing the data : Data Scientist\n",
    "    \n",
    "    To secure the data : Cyber Security"
   ]
  },
  {
   "cell_type": "markdown",
   "id": "8c5c5933",
   "metadata": {},
   "source": [
    "Technoligies\n",
    "\n",
    "1. IOT:  INTERNET OF THINGS\n",
    "2. Cloud Computing\n",
    "3. Data Scientist\n",
    "4. Cyber Security\n",
    "5. AR/VR  (Agument reality, virtual reality)\n",
    "6. Robotics/Cobots\n",
    "7. Block chain (Bitcoin Technology)"
   ]
  },
  {
   "cell_type": "markdown",
   "id": "9f3933fa",
   "metadata": {},
   "source": [
    "# Lifecycle of DS"
   ]
  },
  {
   "cell_type": "markdown",
   "id": "f9be3c6f",
   "metadata": {},
   "source": [
    "1. Understand the bussinesslogic\n",
    "2. Data gathering\n",
    "3. Data preprocessing\n",
    "4. EDA\n",
    "5. Developing ML models / Algorithms\n",
    "6. Evaluation of the model\n",
    "7. Model deployment"
   ]
  },
  {
   "cell_type": "markdown",
   "id": "627816e7",
   "metadata": {},
   "source": [
    "                                             29-09-2023"
   ]
  },
  {
   "cell_type": "markdown",
   "id": "5444f9a5",
   "metadata": {},
   "source": [
    "Platform to write the codes\n",
    "1. Jupyter Notebook\n",
    "2. Notepad++\n",
    "3. VSCode\n",
    "4. Pycharm\n",
    "5. Cloud\n",
    "6. Google Colab"
   ]
  },
  {
   "cell_type": "markdown",
   "id": "29cb5ef4",
   "metadata": {},
   "source": [
    "Ceritifactions\n",
    "1. From Naresh IT : Nasscom\n",
    "2. Generative AI\n",
    "3. Python Certifications\n",
    "4. Stanfor ml certifications\n",
    "5. Google ml engeneering\n",
    "6. Azure for students"
   ]
  },
  {
   "cell_type": "markdown",
   "id": "94056620",
   "metadata": {},
   "source": [
    "                                             02-10-2023"
   ]
  },
  {
   "cell_type": "markdown",
   "id": "f5d884ef",
   "metadata": {},
   "source": [
    "# Cloud platforms\n",
    "1. AWS    : Amazon Web Services\n",
    "2. AZURE  : Microsoft\n",
    "3. GCP    : Google Cloud Platform"
   ]
  },
  {
   "cell_type": "markdown",
   "id": "4997a7aa",
   "metadata": {},
   "source": [
    "Why data science is very important?\n",
    "1. It imulates human thinking (AI)\n",
    "2. Huge data is available Need to analyze the data to take important decisions\n",
    "3. Digital era\n"
   ]
  },
  {
   "cell_type": "markdown",
   "id": "7e1730ce",
   "metadata": {},
   "source": [
    "Tools like Cloud\n",
    "\n",
    "Technology like Sky"
   ]
  },
  {
   "cell_type": "markdown",
   "id": "8737c497",
   "metadata": {},
   "source": [
    "Under Data Science and AI\n",
    "1. ML   Machine Learning\n",
    "2. DL   Deep Learning\n",
    "3. NLP  Natural Language Processing\n",
    "4. Generative AI\n",
    "5. Large Language Models"
   ]
  },
  {
   "cell_type": "markdown",
   "id": "2896c12d",
   "metadata": {},
   "source": [
    "ML:\n",
    "    1. Understanding the past data ======Stats\n",
    "    2. Make some patterns ===============Modeling (ML\\DL\\NLP)\n",
    "    3. Prediction on new data"
   ]
  },
  {
   "cell_type": "markdown",
   "id": "8ebe54f7",
   "metadata": {},
   "source": [
    "                                             03-10-2023"
   ]
  },
  {
   "cell_type": "markdown",
   "id": "8870d0af",
   "metadata": {},
   "source": [
    "Life cycle\n",
    "1. Understanding the business problem\n",
    "2. Data Gathering ==========================> SQL\n",
    "3. Data preprocessing ======================> Python\n",
    "4. EDA                ======================> Python+Stats\n",
    "5. Model development =======================> Maths algorithms\n",
    "6. Model evoluation  =======================> Metrics\n",
    "7. Model deployment  =======================> Cloud Azure"
   ]
  },
  {
   "cell_type": "markdown",
   "id": "5c719281",
   "metadata": {},
   "source": [
    "Platforms\n",
    "1. Anacond ============> Jupyter Notebook                     .ipynb\n",
    "2. Google Colab =======> Jupyter Notebook ( 1 GPU 1 TPU)      .ipynb\n",
    "        CPU Central Processing Unit\n",
    "        GPU Graphical Processing Unit\n",
    "        TPU Tensor Processing Unit\n",
    "3. VS Code                                                    .py\n",
    "4. Pycharam                                                   .py\n",
    "\n",
    "5. Azure Data Bricks                                          .ipynb\n",
    "6. Google Work Bench                                          .ipynb"
   ]
  },
  {
   "cell_type": "markdown",
   "id": "ba637392",
   "metadata": {},
   "source": [
    "About python3 notbook\n",
    "\n",
    "code\n",
    "\n",
    "If want to write some write up ====> Need to change Markdown\n",
    "\n",
    "Headding      #\n",
    "\n",
    "Sub headding ##\n",
    "\n",
    "Bullet Points - "
   ]
  },
  {
   "cell_type": "markdown",
   "id": "c4c5f0e8",
   "metadata": {},
   "source": [
    "                                         04-10-2023"
   ]
  },
  {
   "cell_type": "markdown",
   "id": "c8a23d93",
   "metadata": {},
   "source": [
    "Machine Learning:\n",
    "    Analyze the past data and understand the patterns and predicting the future on new data\n",
    "    \n",
    "Types of ML algorithms\n",
    "    \n",
    "1. Supervised Learning:\n",
    "    Any data having both input and output columns then it is called as \"SL\".  Output is Yes or No  Categorical\n",
    "Eg: Loan defaulter or not \n",
    "    Getting VISA or not\n",
    "    Churn prediction\n",
    "\n",
    "Based on output divided into 2 types\n",
    "Output Label might be numerical (Number) Regression\n",
    "Output Label might be categorical (english) Classification\n",
    "\n",
    "Data sets available on \n",
    "1. UCI machine learning repository\n",
    "2. Analytics Vidhaya (Hackathon)\n",
    "3. Kaggle (Hackathon)\n",
    "\n",
    "2. Unsupervised Learning:\n",
    "    In the data If there is no end goal (output label) \n",
    "Eg: Segment the people, \n",
    "\n",
    "3. Reinformcement Learning:\n",
    "    Based on environmental conditions the agent will react\n",
    "Eg: Alexa"
   ]
  },
  {
   "cell_type": "markdown",
   "id": "af9d8d87",
   "metadata": {},
   "source": [
    "                                         05-10-2023"
   ]
  },
  {
   "cell_type": "markdown",
   "id": "14b244b3",
   "metadata": {},
   "source": [
    "Anaconda installation\n",
    "\n",
    "    Anaconda is a platform\n",
    "    \n",
    "1. In web browser anconda download\n",
    "2. Anconda free download\n",
    "3. Check the .exe file in downloads"
   ]
  },
  {
   "cell_type": "markdown",
   "id": "e25d05f7",
   "metadata": {},
   "source": [
    "To execute the code\n",
    "\n",
    "Select the cell and click on Run\n",
    "\n",
    "or\n",
    "\n",
    "Hit at time shift+enter"
   ]
  },
  {
   "cell_type": "markdown",
   "id": "5cc64e1b",
   "metadata": {},
   "source": [
    "Kernel colors\n",
    "\n",
    "Red - Dead\n",
    "\n",
    "Block - Busy\n",
    "\n",
    "White - Idle"
   ]
  },
  {
   "cell_type": "markdown",
   "id": "3affe1c8",
   "metadata": {},
   "source": [
    "                                         06-10-2023 Python Variables"
   ]
  },
  {
   "cell_type": "markdown",
   "id": "55372676",
   "metadata": {},
   "source": [
    "To create folder in windows\n",
    "\n",
    "ctrl+shift+n"
   ]
  },
  {
   "cell_type": "markdown",
   "id": "e9592cac",
   "metadata": {},
   "source": [
    "** --> For bold\n",
    "Eg \n",
    "\n",
    "**Variables**"
   ]
  },
  {
   "cell_type": "markdown",
   "id": "554006c6",
   "metadata": {},
   "source": [
    "What is the defination of Varibale?\n",
    "    Whose value is vary"
   ]
  },
  {
   "cell_type": "markdown",
   "id": "bfb970de",
   "metadata": {},
   "source": [
    "How to initialize the variables?"
   ]
  },
  {
   "cell_type": "code",
   "execution_count": 4,
   "id": "43125490",
   "metadata": {
    "ExecuteTime": {
     "end_time": "2023-11-20T11:12:03.143115Z",
     "start_time": "2023-11-20T11:12:03.126123Z"
    }
   },
   "outputs": [
    {
     "data": {
      "text/plain": [
       "100"
      ]
     },
     "execution_count": 4,
     "metadata": {},
     "output_type": "execute_result"
    }
   ],
   "source": [
    "number=100\n",
    "number"
   ]
  },
  {
   "cell_type": "code",
   "execution_count": 5,
   "id": "9170e899",
   "metadata": {
    "ExecuteTime": {
     "end_time": "2023-11-20T11:12:15.392654Z",
     "start_time": "2023-11-20T11:12:15.384660Z"
    }
   },
   "outputs": [
    {
     "data": {
      "text/plain": [
       "200"
      ]
     },
     "execution_count": 5,
     "metadata": {},
     "output_type": "execute_result"
    }
   ],
   "source": [
    "NUMBER=200\n",
    "NUMBER"
   ]
  },
  {
   "cell_type": "code",
   "execution_count": 6,
   "id": "a9e13a4d",
   "metadata": {
    "ExecuteTime": {
     "end_time": "2023-11-20T11:12:31.012658Z",
     "start_time": "2023-11-20T11:12:31.003664Z"
    }
   },
   "outputs": [
    {
     "data": {
      "text/plain": [
       "300"
      ]
     },
     "execution_count": 6,
     "metadata": {},
     "output_type": "execute_result"
    }
   ],
   "source": [
    "NUmbEr=300\n",
    "NUmbEr"
   ]
  },
  {
   "cell_type": "code",
   "execution_count": 7,
   "id": "8e0c7e8e",
   "metadata": {
    "ExecuteTime": {
     "end_time": "2023-11-20T11:12:56.702028Z",
     "start_time": "2023-11-20T11:12:56.686041Z"
    }
   },
   "outputs": [
    {
     "data": {
      "text/plain": [
       "300"
      ]
     },
     "execution_count": 7,
     "metadata": {},
     "output_type": "execute_result"
    }
   ],
   "source": [
    "number_123=300\n",
    "number_123"
   ]
  },
  {
   "cell_type": "code",
   "execution_count": 8,
   "id": "fb634c9d",
   "metadata": {
    "ExecuteTime": {
     "end_time": "2023-11-20T11:13:11.493241Z",
     "start_time": "2023-11-20T11:13:11.474252Z"
    }
   },
   "outputs": [
    {
     "ename": "SyntaxError",
     "evalue": "invalid decimal literal (Temp/ipykernel_13528/2562218649.py, line 1)",
     "output_type": "error",
     "traceback": [
      "\u001b[1;36m  File \u001b[1;32m\"C:\\Users\\admin\\AppData\\Local\\Temp/ipykernel_13528/2562218649.py\"\u001b[1;36m, line \u001b[1;32m1\u001b[0m\n\u001b[1;33m    123_number=400\u001b[0m\n\u001b[1;37m       ^\u001b[0m\n\u001b[1;31mSyntaxError\u001b[0m\u001b[1;31m:\u001b[0m invalid decimal literal\n"
     ]
    }
   ],
   "source": [
    "123_number=400\n",
    "123_number"
   ]
  },
  {
   "cell_type": "markdown",
   "id": "535c040e",
   "metadata": {},
   "source": [
    "- Variables are casesensitive\n",
    "- Both upper and lower case will use\n",
    "- Letters prefix and number suffix will work\n",
    "- Number prefix and letter suffix will not work\n",
    "- Underscore will work\n",
    "- All symbols other than underscore will not work\n",
    "- Keywords are not used as variables\n"
   ]
  },
  {
   "cell_type": "code",
   "execution_count": 9,
   "id": "c390a389",
   "metadata": {
    "ExecuteTime": {
     "end_time": "2023-11-20T11:16:18.503808Z",
     "start_time": "2023-11-20T11:16:18.487813Z"
    }
   },
   "outputs": [
    {
     "data": {
      "text/plain": [
       "10"
      ]
     },
     "execution_count": 9,
     "metadata": {},
     "output_type": "execute_result"
    }
   ],
   "source": [
    "sum=10\n",
    "sum"
   ]
  },
  {
   "cell_type": "markdown",
   "id": "fc469b01",
   "metadata": {},
   "source": [
    "                                         06-10-2023 Python Packages"
   ]
  },
  {
   "cell_type": "markdown",
   "id": "f3a5a10e",
   "metadata": {},
   "source": [
    "Packages, modules and libraries all are same"
   ]
  },
  {
   "cell_type": "code",
   "execution_count": 10,
   "id": "4a3a01b3",
   "metadata": {
    "ExecuteTime": {
     "end_time": "2023-11-20T11:23:31.715804Z",
     "start_time": "2023-11-20T11:23:31.697808Z"
    }
   },
   "outputs": [
    {
     "data": {
      "text/plain": [
       "['BPF',\n",
       " 'LOG4',\n",
       " 'NV_MAGICCONST',\n",
       " 'RECIP_BPF',\n",
       " 'Random',\n",
       " 'SG_MAGICCONST',\n",
       " 'SystemRandom',\n",
       " 'TWOPI',\n",
       " '_Sequence',\n",
       " '_Set',\n",
       " '__all__',\n",
       " '__builtins__',\n",
       " '__cached__',\n",
       " '__doc__',\n",
       " '__file__',\n",
       " '__loader__',\n",
       " '__name__',\n",
       " '__package__',\n",
       " '__spec__',\n",
       " '_accumulate',\n",
       " '_acos',\n",
       " '_bisect',\n",
       " '_ceil',\n",
       " '_cos',\n",
       " '_e',\n",
       " '_exp',\n",
       " '_floor',\n",
       " '_inst',\n",
       " '_log',\n",
       " '_os',\n",
       " '_pi',\n",
       " '_random',\n",
       " '_repeat',\n",
       " '_sha512',\n",
       " '_sin',\n",
       " '_sqrt',\n",
       " '_test',\n",
       " '_test_generator',\n",
       " '_urandom',\n",
       " '_warn',\n",
       " 'betavariate',\n",
       " 'choice',\n",
       " 'choices',\n",
       " 'expovariate',\n",
       " 'gammavariate',\n",
       " 'gauss',\n",
       " 'getrandbits',\n",
       " 'getstate',\n",
       " 'lognormvariate',\n",
       " 'normalvariate',\n",
       " 'paretovariate',\n",
       " 'randbytes',\n",
       " 'randint',\n",
       " 'random',\n",
       " 'randrange',\n",
       " 'sample',\n",
       " 'seed',\n",
       " 'setstate',\n",
       " 'shuffle',\n",
       " 'triangular',\n",
       " 'uniform',\n",
       " 'vonmisesvariate',\n",
       " 'weibullvariate']"
      ]
     },
     "execution_count": 10,
     "metadata": {},
     "output_type": "execute_result"
    }
   ],
   "source": [
    "import random   #importing package\n",
    "dir(random)     # to check the methods or use cases"
   ]
  },
  {
   "cell_type": "markdown",
   "id": "e1dfd31f",
   "metadata": {},
   "source": [
    "random is a package\n",
    "\n",
    "randint is a method"
   ]
  },
  {
   "cell_type": "code",
   "execution_count": 12,
   "id": "16bb944d",
   "metadata": {
    "ExecuteTime": {
     "end_time": "2023-11-20T11:47:26.483692Z",
     "start_time": "2023-11-20T11:47:26.457703Z"
    }
   },
   "outputs": [
    {
     "name": "stdout",
     "output_type": "stream",
     "text": [
      "Help on method randint in module random:\n",
      "\n",
      "randint(a, b) method of random.Random instance\n",
      "    Return random integer in range [a, b], including both end points.\n",
      "\n"
     ]
    }
   ],
   "source": [
    "help(random.randint)"
   ]
  },
  {
   "cell_type": "code",
   "execution_count": 13,
   "id": "3db29a7c",
   "metadata": {
    "ExecuteTime": {
     "end_time": "2023-11-20T11:49:34.645648Z",
     "start_time": "2023-11-20T11:49:34.632653Z"
    }
   },
   "outputs": [
    {
     "data": {
      "text/plain": [
       "3"
      ]
     },
     "execution_count": 13,
     "metadata": {},
     "output_type": "execute_result"
    }
   ],
   "source": [
    "random.randint(2,4)"
   ]
  },
  {
   "cell_type": "markdown",
   "id": "2a009034",
   "metadata": {},
   "source": [
    "import <package_name>\n",
    "\n",
    "dir(<package_name>)\n",
    "\n",
    "help(package_name>.<method_name>)"
   ]
  },
  {
   "cell_type": "code",
   "execution_count": 14,
   "id": "b0c3a305",
   "metadata": {
    "ExecuteTime": {
     "end_time": "2023-11-20T13:59:31.479750Z",
     "start_time": "2023-11-20T13:59:31.463759Z"
    }
   },
   "outputs": [
    {
     "data": {
      "text/plain": [
       "<module 'random' from 'C:\\\\Users\\\\admin\\\\anaconda3\\\\lib\\\\random.py'>"
      ]
     },
     "execution_count": 14,
     "metadata": {},
     "output_type": "execute_result"
    }
   ],
   "source": [
    "random"
   ]
  },
  {
   "cell_type": "code",
   "execution_count": null,
   "id": "3861df35",
   "metadata": {},
   "outputs": [],
   "source": []
  },
  {
   "cell_type": "code",
   "execution_count": null,
   "id": "080da1ad",
   "metadata": {},
   "outputs": [],
   "source": []
  },
  {
   "cell_type": "markdown",
   "id": "7b9b76e6",
   "metadata": {},
   "source": [
    "                                         07-10-2023"
   ]
  },
  {
   "cell_type": "markdown",
   "id": "36c99bcd",
   "metadata": {},
   "source": [
    "                                         08-10-2023"
   ]
  },
  {
   "cell_type": "markdown",
   "id": "7b0937b7",
   "metadata": {},
   "source": [
    "                                         09-10-2023"
   ]
  },
  {
   "cell_type": "markdown",
   "id": "a4c84585",
   "metadata": {},
   "source": [
    "                                         10-10-2023"
   ]
  },
  {
   "cell_type": "markdown",
   "id": "a39e9bf3",
   "metadata": {
    "ExecuteTime": {
     "end_time": "2023-11-20T05:07:37.365080Z",
     "start_time": "2023-11-20T05:07:37.329099Z"
    }
   },
   "source": [
    "                                         11-10-2023"
   ]
  },
  {
   "cell_type": "markdown",
   "id": "7ed45dad",
   "metadata": {},
   "source": [
    "                                         12-10-2023"
   ]
  },
  {
   "cell_type": "markdown",
   "id": "2aaeead2",
   "metadata": {},
   "source": [
    "                                         13-10-2023"
   ]
  },
  {
   "cell_type": "markdown",
   "id": "0dd74dc7",
   "metadata": {},
   "source": [
    "                                         14-10-2023"
   ]
  },
  {
   "cell_type": "markdown",
   "id": "9330e48a",
   "metadata": {},
   "source": [
    "                                         15-10-2023"
   ]
  }
 ],
 "metadata": {
  "kernelspec": {
   "display_name": "Python 3 (ipykernel)",
   "language": "python",
   "name": "python3"
  },
  "language_info": {
   "codemirror_mode": {
    "name": "ipython",
    "version": 3
   },
   "file_extension": ".py",
   "mimetype": "text/x-python",
   "name": "python",
   "nbconvert_exporter": "python",
   "pygments_lexer": "ipython3",
   "version": "3.9.7"
  }
 },
 "nbformat": 4,
 "nbformat_minor": 5
}
