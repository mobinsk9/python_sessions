{
 "cells": [
  {
   "cell_type": "markdown",
   "id": "a276dbfb",
   "metadata": {},
   "source": [
    "1. Write a program that asks the user to enter a string. The program should then print the following: \n",
    "\n",
    "(a) The total number of characters in the string \n",
    "\n",
    "(b) The string repeated 10 times \n",
    "\n",
    "(c) The first character of the string (remember that string indices start at 0)\n",
    "\n",
    "(d) The first three characters of the string \n",
    "\n",
    "(e) The last three characters of the string \n",
    "\n",
    "(f) The string backwards \n",
    "\n",
    "(g) The seventh character of the string if the string is long enough and a message otherwise \n",
    "\n",
    "(h) The string with its first and last characters removed\n",
    "\n",
    " (i) The string in all caps\n",
    " \n",
    " (j) The string with every a replaced with an e"
   ]
  },
  {
   "cell_type": "code",
   "execution_count": 1,
   "id": "2f46c204",
   "metadata": {
    "ExecuteTime": {
     "end_time": "2023-11-17T03:38:07.554369Z",
     "start_time": "2023-11-17T03:38:01.181483Z"
    }
   },
   "outputs": [
    {
     "name": "stdout",
     "output_type": "stream",
     "text": [
      "Enter a String:My name is Mobin\n"
     ]
    },
    {
     "data": {
      "text/plain": [
       "'My name is Mobin'"
      ]
     },
     "execution_count": 1,
     "metadata": {},
     "output_type": "execute_result"
    }
   ],
   "source": [
    "string1=input(\"Enter a String:\")\n",
    "string1"
   ]
  },
  {
   "cell_type": "code",
   "execution_count": 2,
   "id": "3b8bac5e",
   "metadata": {
    "ExecuteTime": {
     "end_time": "2023-11-17T03:38:31.793310Z",
     "start_time": "2023-11-17T03:38:31.784313Z"
    }
   },
   "outputs": [
    {
     "data": {
      "text/plain": [
       "16"
      ]
     },
     "execution_count": 2,
     "metadata": {},
     "output_type": "execute_result"
    }
   ],
   "source": [
    "# (a) The total number of characters in the string\n",
    "len(string1)"
   ]
  },
  {
   "cell_type": "code",
   "execution_count": 3,
   "id": "219a2d2d",
   "metadata": {
    "ExecuteTime": {
     "end_time": "2023-11-17T03:38:56.063967Z",
     "start_time": "2023-11-17T03:38:56.052973Z"
    }
   },
   "outputs": [
    {
     "data": {
      "text/plain": [
       "'My name is MobinMy name is MobinMy name is MobinMy name is MobinMy name is MobinMy name is MobinMy name is MobinMy name is MobinMy name is MobinMy name is Mobin'"
      ]
     },
     "execution_count": 3,
     "metadata": {},
     "output_type": "execute_result"
    }
   ],
   "source": [
    "# (b) The string repeated 10 times\n",
    "10*string1"
   ]
  },
  {
   "cell_type": "code",
   "execution_count": 4,
   "id": "3cdc283b",
   "metadata": {
    "ExecuteTime": {
     "end_time": "2023-11-17T03:39:24.781233Z",
     "start_time": "2023-11-17T03:39:24.761244Z"
    }
   },
   "outputs": [
    {
     "data": {
      "text/plain": [
       "'M'"
      ]
     },
     "execution_count": 4,
     "metadata": {},
     "output_type": "execute_result"
    }
   ],
   "source": [
    "# (c) The first character of the string (remember that string indices start at 0)\n",
    "string1[0]"
   ]
  },
  {
   "cell_type": "code",
   "execution_count": 5,
   "id": "2e44c4c0",
   "metadata": {
    "ExecuteTime": {
     "end_time": "2023-11-17T03:39:48.413556Z",
     "start_time": "2023-11-17T03:39:48.391569Z"
    }
   },
   "outputs": [
    {
     "data": {
      "text/plain": [
       "'My '"
      ]
     },
     "execution_count": 5,
     "metadata": {},
     "output_type": "execute_result"
    }
   ],
   "source": [
    "# (d) The first three characters of the string\n",
    "string1[:3]"
   ]
  },
  {
   "cell_type": "code",
   "execution_count": 14,
   "id": "f4cdad57",
   "metadata": {
    "ExecuteTime": {
     "end_time": "2023-11-17T03:44:33.903248Z",
     "start_time": "2023-11-17T03:44:33.885259Z"
    }
   },
   "outputs": [
    {
     "data": {
      "text/plain": [
       "'bin'"
      ]
     },
     "execution_count": 14,
     "metadata": {},
     "output_type": "execute_result"
    }
   ],
   "source": [
    "# (e) The last three characters of the string\n",
    "string1[-len(string1)+(len(string1)-3):]"
   ]
  },
  {
   "cell_type": "code",
   "execution_count": 16,
   "id": "839c4459",
   "metadata": {
    "ExecuteTime": {
     "end_time": "2023-11-17T03:45:47.200619Z",
     "start_time": "2023-11-17T03:45:47.185630Z"
    }
   },
   "outputs": [
    {
     "data": {
      "text/plain": [
       "'bin'"
      ]
     },
     "execution_count": 16,
     "metadata": {},
     "output_type": "execute_result"
    }
   ],
   "source": [
    "string1[len(string1)-3:]"
   ]
  },
  {
   "cell_type": "code",
   "execution_count": 29,
   "id": "ce8f40e3",
   "metadata": {
    "ExecuteTime": {
     "end_time": "2023-11-17T03:51:37.733203Z",
     "start_time": "2023-11-17T03:51:37.722208Z"
    }
   },
   "outputs": [
    {
     "name": "stdout",
     "output_type": "stream",
     "text": [
      "niboM si eman yM"
     ]
    }
   ],
   "source": [
    "#(f) The string backwards\n",
    "for i in range(1,len(string1)+1):\n",
    "    #print(i)\n",
    "    print(string1[-i],end='')"
   ]
  },
  {
   "cell_type": "code",
   "execution_count": 30,
   "id": "6dc776d6",
   "metadata": {
    "ExecuteTime": {
     "end_time": "2023-11-17T03:52:22.655790Z",
     "start_time": "2023-11-17T03:52:22.640924Z"
    }
   },
   "outputs": [
    {
     "data": {
      "text/plain": [
       "'niboM si eman yM'"
      ]
     },
     "execution_count": 30,
     "metadata": {},
     "output_type": "execute_result"
    }
   ],
   "source": [
    "string1[::-1]"
   ]
  },
  {
   "cell_type": "code",
   "execution_count": 34,
   "id": "495eacbd",
   "metadata": {
    "ExecuteTime": {
     "end_time": "2023-11-17T03:55:01.946524Z",
     "start_time": "2023-11-17T03:55:01.928554Z"
    }
   },
   "outputs": [
    {
     "name": "stdout",
     "output_type": "stream",
     "text": [
      "niboM si eman yM"
     ]
    }
   ],
   "source": [
    "for i in reversed(string1):\n",
    "    print(i,end='')"
   ]
  },
  {
   "cell_type": "code",
   "execution_count": 35,
   "id": "13b5003b",
   "metadata": {
    "ExecuteTime": {
     "end_time": "2023-11-17T03:56:36.881619Z",
     "start_time": "2023-11-17T03:56:34.661309Z"
    }
   },
   "outputs": [
    {
     "name": "stdout",
     "output_type": "stream",
     "text": [
      "Enter the number of character:7\n"
     ]
    },
    {
     "data": {
      "text/plain": [
       "'s'"
      ]
     },
     "execution_count": 35,
     "metadata": {},
     "output_type": "execute_result"
    }
   ],
   "source": [
    "# (g) The seventh character of the string if the string is long enough and a message otherwise\n",
    "n=eval(input(\"Enter the number of character:\"))\n",
    "string1[len(string1)-n]"
   ]
  },
  {
   "cell_type": "code",
   "execution_count": 38,
   "id": "15784c66",
   "metadata": {
    "ExecuteTime": {
     "end_time": "2023-11-17T03:58:10.449925Z",
     "start_time": "2023-11-17T03:58:10.442928Z"
    }
   },
   "outputs": [
    {
     "data": {
      "text/plain": [
       "'y name is Mobi'"
      ]
     },
     "execution_count": 38,
     "metadata": {},
     "output_type": "execute_result"
    }
   ],
   "source": [
    "# (h) The string with its first and last characters removed\n",
    "string1[1:-1]"
   ]
  },
  {
   "cell_type": "code",
   "execution_count": 42,
   "id": "d244adf9",
   "metadata": {
    "ExecuteTime": {
     "end_time": "2023-11-17T04:00:08.773516Z",
     "start_time": "2023-11-17T04:00:08.760546Z"
    }
   },
   "outputs": [
    {
     "data": {
      "text/plain": [
       "'MY NAME IS MOBIN'"
      ]
     },
     "execution_count": 42,
     "metadata": {},
     "output_type": "execute_result"
    }
   ],
   "source": [
    "# (i) The string in all caps\n",
    "string1.upper()"
   ]
  },
  {
   "cell_type": "code",
   "execution_count": 64,
   "id": "cd61069b",
   "metadata": {
    "ExecuteTime": {
     "end_time": "2023-11-17T04:15:48.127615Z",
     "start_time": "2023-11-17T04:15:48.117617Z"
    }
   },
   "outputs": [
    {
     "name": "stdout",
     "output_type": "stream",
     "text": [
      "My name is Mobin\n"
     ]
    },
    {
     "data": {
      "text/plain": [
       "'ey naee is eobin'"
      ]
     },
     "execution_count": 64,
     "metadata": {},
     "output_type": "execute_result"
    }
   ],
   "source": [
    "# (j) The string with every m replaced with an e\n",
    "print(string1)\n",
    "string1.lower().replace('m','e')"
   ]
  },
  {
   "cell_type": "code",
   "execution_count": 63,
   "id": "50dfb299",
   "metadata": {
    "ExecuteTime": {
     "end_time": "2023-11-17T04:15:37.555623Z",
     "start_time": "2023-11-17T04:15:37.540631Z"
    }
   },
   "outputs": [
    {
     "name": "stdout",
     "output_type": "stream",
     "text": [
      "My name is Mobin\n",
      "ey naee is eobin\n"
     ]
    }
   ],
   "source": [
    "print(string1)\n",
    "op=''\n",
    "for char in range(0, len(string1)):\n",
    "    if(string1[char] == 'm' or string1[char] == 'm'.upper()):\n",
    "        op+='e'\n",
    "    else:\n",
    "        op+=string1[char]\n",
    "print(op)"
   ]
  },
  {
   "cell_type": "code",
   "execution_count": 62,
   "id": "7670c4b1",
   "metadata": {
    "ExecuteTime": {
     "end_time": "2023-11-17T04:15:28.523750Z",
     "start_time": "2023-11-17T04:15:28.505762Z"
    }
   },
   "outputs": [
    {
     "name": "stdout",
     "output_type": "stream",
     "text": [
      "My name is Mobin\n",
      "ey naee is eobin\n"
     ]
    }
   ],
   "source": [
    "print(string1)\n",
    "op=''\n",
    "for char in string1:\n",
    "    if ((char=='m') or (char=='m'.upper())):\n",
    "        op+='e'\n",
    "    else:\n",
    "        op+=char\n",
    "print(op)"
   ]
  },
  {
   "cell_type": "markdown",
   "id": "a2285bfe",
   "metadata": {},
   "source": [
    "2. A simple way to estimate the number of words in a string is to count the number of spaces in the \n",
    "string. Write a program that asks the user for a string and returns an estimate of how many words \n",
    "are in the string.\n",
    "\n",
    "Tip: You need to count the number of words using spaces"
   ]
  },
  {
   "cell_type": "code",
   "execution_count": 67,
   "id": "304456ba",
   "metadata": {
    "ExecuteTime": {
     "end_time": "2023-11-17T04:19:00.373411Z",
     "start_time": "2023-11-17T04:19:00.358420Z"
    }
   },
   "outputs": [
    {
     "name": "stdout",
     "output_type": "stream",
     "text": [
      "My name is Mobin\n",
      "Number of Spaces: 3\n",
      "Number of Words: 4\n"
     ]
    }
   ],
   "source": [
    "print(string1)\n",
    "count=0\n",
    "for i in string1:\n",
    "    if i==' ':\n",
    "        count+=1\n",
    "print(\"Number of Spaces:\",count)\n",
    "print(\"Number of Words:\",count+1)"
   ]
  },
  {
   "cell_type": "code",
   "execution_count": null,
   "id": "4111c497",
   "metadata": {},
   "outputs": [],
   "source": []
  },
  {
   "cell_type": "code",
   "execution_count": 71,
   "id": "24de8e4d",
   "metadata": {
    "ExecuteTime": {
     "end_time": "2023-11-17T04:20:50.308087Z",
     "start_time": "2023-11-17T04:20:50.297094Z"
    }
   },
   "outputs": [
    {
     "name": "stdout",
     "output_type": "stream",
     "text": [
      "Number ofwords: 4\n"
     ]
    }
   ],
   "source": [
    "print(\"Number ofwords:\",len(string1.split()))"
   ]
  },
  {
   "cell_type": "markdown",
   "id": "761daff1",
   "metadata": {
    "ExecuteTime": {
     "end_time": "2023-11-17T04:25:06.227495Z",
     "start_time": "2023-11-17T04:25:06.213523Z"
    }
   },
   "source": [
    "3.Write a program that asks the user to enter a word and prints out whether that word contains any \n",
    "vowels"
   ]
  },
  {
   "cell_type": "code",
   "execution_count": 83,
   "id": "add412b2",
   "metadata": {
    "ExecuteTime": {
     "end_time": "2023-11-17T04:30:49.142665Z",
     "start_time": "2023-11-17T04:30:49.127688Z"
    }
   },
   "outputs": [
    {
     "name": "stdout",
     "output_type": "stream",
     "text": [
      "My name is Mobin\n",
      "a\n",
      "e\n",
      "i\n",
      "o\n",
      "i\n"
     ]
    }
   ],
   "source": [
    "print(string1)\n",
    "for i in string1:\n",
    "    if i in 'aeiou':\n",
    "        print(i)"
   ]
  },
  {
   "cell_type": "code",
   "execution_count": 84,
   "id": "b508b065",
   "metadata": {
    "ExecuteTime": {
     "end_time": "2023-11-17T04:32:09.019923Z",
     "start_time": "2023-11-17T04:32:09.007929Z"
    }
   },
   "outputs": [
    {
     "name": "stdout",
     "output_type": "stream",
     "text": [
      "My name is Mobin\n",
      "Number of vowels in My name is Mobin is 5\n"
     ]
    }
   ],
   "source": [
    "print(string1)\n",
    "count=0\n",
    "for i in string1:\n",
    "    if i in 'aeiou':\n",
    "        count+=1\n",
    "print(\"Number of vowels in {} is {}\".format(string1,count))"
   ]
  },
  {
   "cell_type": "markdown",
   "id": "d40b3fd0",
   "metadata": {},
   "source": [
    "4. Improvise above code by providing unique vowels"
   ]
  },
  {
   "cell_type": "code",
   "execution_count": 87,
   "id": "ed387e19",
   "metadata": {
    "ExecuteTime": {
     "end_time": "2023-11-17T04:34:53.820268Z",
     "start_time": "2023-11-17T04:34:53.799278Z"
    }
   },
   "outputs": [
    {
     "name": "stdout",
     "output_type": "stream",
     "text": [
      "My name is Mobin\n",
      "Unique owels are: aeio\n"
     ]
    }
   ],
   "source": [
    "print(string1)\n",
    "uv=''\n",
    "for i in string1:\n",
    "    if i in 'aeiou' and i not in uv:\n",
    "        uv+=i\n",
    "print(\"Unique owels are:\",uv)"
   ]
  },
  {
   "cell_type": "markdown",
   "id": "0420d64c",
   "metadata": {},
   "source": [
    "5. Write a program that asks the user to enter a string. The program should create a new string \n",
    "called new_string from the user’s string such that the second character is changed to an asterisk and \n",
    "three exclamation points are attached to the end of the string. Finally, print new_string. \n",
    "\n",
    "\n",
    "Typical output is shown below: \n",
    "\n",
    "Enter your string: Qbert \n",
    "\n",
    "Output: Q*ert!!!"
   ]
  },
  {
   "cell_type": "code",
   "execution_count": 100,
   "id": "1b7262cf",
   "metadata": {
    "ExecuteTime": {
     "end_time": "2023-11-17T04:44:54.195200Z",
     "start_time": "2023-11-17T04:44:54.184206Z"
    }
   },
   "outputs": [
    {
     "name": "stdout",
     "output_type": "stream",
     "text": [
      "My name is Mobin\n",
      "M* name is Mobin!!!\n"
     ]
    }
   ],
   "source": [
    "print(string1)\n",
    "print(string1[0]+'*'+string1[2:]+'!!!')"
   ]
  },
  {
   "cell_type": "code",
   "execution_count": 99,
   "id": "546a0ccb",
   "metadata": {
    "ExecuteTime": {
     "end_time": "2023-11-17T04:44:48.550700Z",
     "start_time": "2023-11-17T04:44:48.531710Z"
    }
   },
   "outputs": [
    {
     "name": "stdout",
     "output_type": "stream",
     "text": [
      "Q*ert!!!\n"
     ]
    }
   ],
   "source": [
    "string1='Qbert'\n",
    "new_string=string1[0]+'*'+string1[2:]+'!!!'\n",
    "print(new_string)"
   ]
  },
  {
   "cell_type": "markdown",
   "id": "3fff4793",
   "metadata": {},
   "source": [
    "6. Write a program that asks the user to enter a word and determines whether the word is a \n",
    "palindrome or not. A palindrome is a word that reads the same backwards as forwards"
   ]
  },
  {
   "cell_type": "code",
   "execution_count": 105,
   "id": "dd6ac1be",
   "metadata": {
    "ExecuteTime": {
     "end_time": "2023-11-17T04:49:18.062561Z",
     "start_time": "2023-11-17T04:49:10.065201Z"
    }
   },
   "outputs": [
    {
     "name": "stdout",
     "output_type": "stream",
     "text": [
      "Enter a word!!!malaYALAm\n",
      "malaYALAm is palindrome word\n"
     ]
    }
   ],
   "source": [
    "string2=input(\"Enter a word!!!\")\n",
    "if string2.lower()==string2[::-1].lower():\n",
    "    print(\"{} is palindrome word\".format(string2))\n",
    "else:\n",
    "    print(\"{} is not a palindrome word\".format(string2))"
   ]
  },
  {
   "cell_type": "markdown",
   "id": "9d1eda27",
   "metadata": {},
   "source": [
    "7. At a certain school, student email addresses end with @student.college.edu, \n",
    "while professor email addresses end with @prof.college.edu. \n",
    "\n",
    "Write a program that first asks the user how many email addresses they will be entering, and then has the user enter those addresses. \n",
    "\n",
    "After all the email addresses are entered, the program should print out a message indicating either that all the \n",
    "addresses are student addresses or that there were some professor addresses entered."
   ]
  },
  {
   "cell_type": "code",
   "execution_count": 109,
   "id": "bb830f1b",
   "metadata": {
    "ExecuteTime": {
     "end_time": "2023-11-17T05:04:55.156678Z",
     "start_time": "2023-11-17T05:04:27.808876Z"
    }
   },
   "outputs": [
    {
     "name": "stdout",
     "output_type": "stream",
     "text": [
      "Enter number of email address!!!5\n",
      "Enter email id:mobin@student.college.edu\n",
      "Enter email id:sk@prof.college.edu\n",
      "Enter email id:\n",
      "Enter email id:\n",
      "Enter email id:\n",
      "5 emails want to enter.\n",
      "5 emails entered.\n",
      "1 Student emails enterted.\n",
      "1 Professor emails entered.\n",
      "3 Other emails entered.\n"
     ]
    }
   ],
   "source": [
    "no_emails=eval(input(\"Enter number of email address!!!\"))\n",
    "count=0\n",
    "stu_email=0\n",
    "prof_email=0\n",
    "other_email=0\n",
    "for i in range(no_emails):\n",
    "    email_id=input(\"Enter email id:\")\n",
    "    count+=1\n",
    "    if email_id.endswith('@student.college.edu'):\n",
    "        stu_email+=1\n",
    "    elif email_id.endswith('@prof.college.edu'):\n",
    "        prof_email+=1\n",
    "    else:\n",
    "        other_email+=1\n",
    "print(\"{} emails want to enter.\".format(no_emails))\n",
    "print(\"{} emails entered.\".format(count))\n",
    "print(\"{} Student emails enterted.\".format(stu_email))\n",
    "print(\"{} Professor emails entered.\".format(prof_email))\n",
    "print(\"{} Other emails entered.\".format(other_email))"
   ]
  },
  {
   "cell_type": "markdown",
   "id": "16a2b760",
   "metadata": {},
   "source": [
    "8. Write a program that asks the user to enter a string, then prints out each letter of the string \n",
    "doubled and on a separate line. For instance,\n",
    "\n",
    "if the user entered HEY, \n",
    "\n",
    "the output would be \n",
    "\n",
    "HH \n",
    "\n",
    "EE \n",
    "\n",
    "YY"
   ]
  },
  {
   "cell_type": "code",
   "execution_count": 111,
   "id": "ba1eb1f7",
   "metadata": {
    "ExecuteTime": {
     "end_time": "2023-11-17T05:08:08.088016Z",
     "start_time": "2023-11-17T05:08:03.411650Z"
    }
   },
   "outputs": [
    {
     "name": "stdout",
     "output_type": "stream",
     "text": [
      "Enter a stringMobin\n",
      "Enter the number of times repeat the character5\n",
      "MMMMM\n",
      "ooooo\n",
      "bbbbb\n",
      "iiiii\n",
      "nnnnn\n"
     ]
    }
   ],
   "source": [
    "string3=input(\"Enter a string\")\n",
    "n=eval(input(\"Enter the number of times repeat the character\"))\n",
    "for i in string3:\n",
    "    print(i*n,end='\\n')"
   ]
  },
  {
   "cell_type": "markdown",
   "id": "83d720d4",
   "metadata": {},
   "source": [
    "9.Write a program that asks the user to enter a word that contains the letter a. The program should \n",
    "then print the following two lines: On the first line should be the part of the string up to and \n",
    "including the the first a, and on the second line should be the rest of the string. \n",
    "\n",
    "Sample output is shown below: \n",
    "\n",
    "Enter a word: buffalo \n",
    "\n",
    "buffa \n",
    "\n",
    "lo"
   ]
  },
  {
   "cell_type": "code",
   "execution_count": 124,
   "id": "c3128a61",
   "metadata": {
    "ExecuteTime": {
     "end_time": "2023-11-17T05:18:38.144415Z",
     "start_time": "2023-11-17T05:18:33.574154Z"
    }
   },
   "outputs": [
    {
     "name": "stdout",
     "output_type": "stream",
     "text": [
      "Enter a String:buffalo\n",
      "buffa \n",
      " lo\n"
     ]
    }
   ],
   "source": [
    "string4=input(\"Enter a String:\")\n",
    "split_char = 'a'\n",
    "index = string4.find(split_char)\n",
    "#print(index)\n",
    "left = string4[:index+1]\n",
    "#print(string4[:index+1])\n",
    "right = string4[-index+2:]\n",
    "#print(right)\n",
    "print(left, '\\n', right)"
   ]
  },
  {
   "cell_type": "code",
   "execution_count": 134,
   "id": "00b919ff",
   "metadata": {
    "ExecuteTime": {
     "end_time": "2023-11-17T05:27:36.146034Z",
     "start_time": "2023-11-17T05:27:36.129028Z"
    }
   },
   "outputs": [
    {
     "name": "stdout",
     "output_type": "stream",
     "text": [
      "Help on built-in function partition:\n",
      "\n",
      "partition(sep, /) method of builtins.str instance\n",
      "    Partition the string into three parts using the given separator.\n",
      "    \n",
      "    This will search for the separator in the string.  If the separator is found,\n",
      "    returns a 3-tuple containing the part before the separator, the separator\n",
      "    itself, and the part after it.\n",
      "    \n",
      "    If the separator is not found, returns a 3-tuple containing the original string\n",
      "    and two empty strings.\n",
      "\n"
     ]
    }
   ],
   "source": [
    "dir('')\n",
    "help(''.partition)"
   ]
  },
  {
   "cell_type": "code",
   "execution_count": 129,
   "id": "0441d9c3",
   "metadata": {
    "ExecuteTime": {
     "end_time": "2023-11-17T05:24:22.249655Z",
     "start_time": "2023-11-17T05:24:22.238660Z"
    }
   },
   "outputs": [
    {
     "name": "stdout",
     "output_type": "stream",
     "text": [
      "('Mobin', 'a', '123')\n",
      "Mobina\n",
      "123\n"
     ]
    }
   ],
   "source": [
    "string4='Mobina123'\n",
    "split_word='a'\n",
    "splitting=string4.partition(split_word)\n",
    "print(splitting)\n",
    "print(\"{}\\n{}\".format(splitting[0]+splitting[1],splitting[2]))"
   ]
  },
  {
   "cell_type": "markdown",
   "id": "d8f5a19d",
   "metadata": {},
   "source": [
    "10. Write a program that asks the user to enter a word and then capitalizes every other letter of that \n",
    "word. \n",
    "\n",
    "So if the user enters rhinoceros, \n",
    "\n",
    "the program should print rHiNoCeRoS."
   ]
  },
  {
   "cell_type": "code",
   "execution_count": 138,
   "id": "cda7f425",
   "metadata": {
    "ExecuteTime": {
     "end_time": "2023-11-17T05:35:10.478245Z",
     "start_time": "2023-11-17T05:35:05.311089Z"
    }
   },
   "outputs": [
    {
     "name": "stdout",
     "output_type": "stream",
     "text": [
      "Enter a word!!!rhinoceros\n",
      "rHiNoCeRoS\n"
     ]
    }
   ],
   "source": [
    "string5=input(\"Enter a word!!!\")\n",
    "op=''\n",
    "for i in range(len(string5)):\n",
    "    if i%2!=0:\n",
    "        op+=string5[i].upper()\n",
    "    else:\n",
    "        op+=string5[i]\n",
    "print(op)"
   ]
  },
  {
   "cell_type": "markdown",
   "id": "718ff977",
   "metadata": {},
   "source": [
    "11. Write a program that asks the user to enter two strings of the same length. The program should \n",
    "then check to see if the strings are of the same length. If they are not, the program should print an \n",
    "appropriate message and exit. If they are of the same length, the program should alternate the \n",
    "characters of the two strings. \n",
    "\n",
    "For example, \n",
    "\n",
    "if the user enters abcde and ABCDE\n",
    "\n",
    "the program should print out AaBbCcDdEe."
   ]
  },
  {
   "cell_type": "code",
   "execution_count": 154,
   "id": "1e57816c",
   "metadata": {
    "ExecuteTime": {
     "end_time": "2023-11-17T05:47:31.233494Z",
     "start_time": "2023-11-17T05:47:27.051870Z"
    }
   },
   "outputs": [
    {
     "name": "stdout",
     "output_type": "stream",
     "text": [
      "Enter  a string:Mobin\n",
      "Enter 2nd string:shaikkk\n",
      "Entered both string lengths are not equal, try again with same length words!!!\n"
     ]
    }
   ],
   "source": [
    "string6=input(\"Enter  a string:\")\n",
    "string7=input(\"Enter 2nd string:\")\n",
    "op=''\n",
    "if len(string6)==len(string7):\n",
    "    for i in range(len(string6)):\n",
    "        op+=string6[i]+string7[i]\n",
    "    print(op)\n",
    "else:\n",
    "    print(\"Entered both string lengths are not equal, try again with same length words!!!\")"
   ]
  },
  {
   "cell_type": "code",
   "execution_count": 155,
   "id": "cc9c8c6c",
   "metadata": {
    "ExecuteTime": {
     "end_time": "2023-11-17T05:47:46.663731Z",
     "start_time": "2023-11-17T05:47:39.632053Z"
    }
   },
   "outputs": [
    {
     "name": "stdout",
     "output_type": "stream",
     "text": [
      "Enter  a string:ABCDEF\n",
      "Enter 2nd string:abcdef\n",
      "AaBbCcDdEeFf\n"
     ]
    }
   ],
   "source": [
    "string6=input(\"Enter  a string:\")\n",
    "string7=input(\"Enter 2nd string:\")\n",
    "op=''\n",
    "if len(string6)==len(string7):\n",
    "    for i in range(len(string6)):\n",
    "        op+=string6[i]+string7[i]\n",
    "    print(op)\n",
    "else:\n",
    "    print(\"Entered both string lengths are not equal, try again with same length words!!!\")"
   ]
  },
  {
   "cell_type": "markdown",
   "id": "048d62a5",
   "metadata": {},
   "source": [
    "12. Write a program that asks the user to enter their name in lowercase and then capitalizes the first \n",
    "letter of each word of their name."
   ]
  },
  {
   "cell_type": "code",
   "execution_count": 162,
   "id": "b13cf12f",
   "metadata": {
    "ExecuteTime": {
     "end_time": "2023-11-17T08:53:40.843378Z",
     "start_time": "2023-11-17T08:53:25.774535Z"
    }
   },
   "outputs": [
    {
     "name": "stdout",
     "output_type": "stream",
     "text": [
      "Enter the name:Data science is having growth in feature\n",
      "Data Science Is Having Growth In Feature \n"
     ]
    }
   ],
   "source": [
    "name=input(\"Enter the name:\")\n",
    "output=''\n",
    "for i in (name.split()):\n",
    "    output+=i.capitalize()+' '\n",
    "print(output)\n",
    "        "
   ]
  },
  {
   "cell_type": "markdown",
   "id": "cc836173",
   "metadata": {},
   "source": [
    "13. The goal of this exercise is to see if you can mimic the behavior of the in operator and the count \n",
    "and index methods using only variables, for loops, and if statements. \n",
    "\n",
    "(a) Without using the in operator, write a program that asks the user for a string and a letter \n",
    "and prints out whether or not the letter appears in the string. \n",
    "\n",
    "(b) Without using the count method, write a program that asks the user for a string and a \n",
    "letter and counts how many occurrences there are of the letter in the string. \n",
    "\n",
    "(c) Without using the index method, write a program that asks the user for a string and a \n",
    "letter and prints out the index of the first occurrence of the letter in the string. If the letter is \n",
    "not in the string, the program should say so."
   ]
  },
  {
   "cell_type": "code",
   "execution_count": 173,
   "id": "db412f71",
   "metadata": {
    "ExecuteTime": {
     "end_time": "2023-11-17T09:05:43.382328Z",
     "start_time": "2023-11-17T09:05:24.347841Z"
    }
   },
   "outputs": [
    {
     "name": "stdout",
     "output_type": "stream",
     "text": [
      "Enter a String:a b c d e f g h i j k l m n o\n",
      "Enter a letter to check whether the letter is present in the string or not?p\n",
      "Provided letter p is not present in the given String a b c d e f g h i j k l m n o\n"
     ]
    }
   ],
   "source": [
    "#(a) Without using the in operator, write a program that asks the user for a string and a letter and prints out whether or not the letter appears in the string.\n",
    "string9=input(\"Enter a String:\")\n",
    "letter=input(\"Enter a letter to check whether the letter is present in the string or not?\")\n",
    "for i in string9:\n",
    "    if i==letter:\n",
    "        print(\"Provided letter {} is present in the given String {}\".format(letter,string9))\n",
    "        break\n",
    "if i !=letter:      \n",
    "    print(\"Provided letter {} is not present in the given String {}\".format(letter,string9))"
   ]
  },
  {
   "cell_type": "code",
   "execution_count": 181,
   "id": "f31437f2",
   "metadata": {
    "ExecuteTime": {
     "end_time": "2023-11-17T09:13:10.257076Z",
     "start_time": "2023-11-17T09:13:00.614576Z"
    }
   },
   "outputs": [
    {
     "name": "stdout",
     "output_type": "stream",
     "text": [
      "Enter a String:xyz xyz xyz xyz xyzwwww\n",
      "Enter a letter to check number of occurances in given string:xyz\n",
      "0\n"
     ]
    }
   ],
   "source": [
    "# (b) Without using the count method, write a program that asks the user for a string and a letter and counts how many occurrences there are of the letter in the string.\n",
    "string10=input(\"Enter a String:\")\n",
    "letter=input(\"Enter a letter to check number of occurances in given string:\")\n",
    "occurances=0\n",
    "for i in string10:\n",
    "    if i==letter:\n",
    "        occurances+=1\n",
    "print(occurances)"
   ]
  },
  {
   "cell_type": "code",
   "execution_count": 184,
   "id": "7a58fedd",
   "metadata": {
    "ExecuteTime": {
     "end_time": "2023-11-17T09:14:59.742691Z",
     "start_time": "2023-11-17T09:14:49.774444Z"
    }
   },
   "outputs": [
    {
     "name": "stdout",
     "output_type": "stream",
     "text": [
      "Enter a String:abc xxxxx abc xxxx yyy\n"
     ]
    },
    {
     "data": {
      "text/plain": [
       "9"
      ]
     },
     "execution_count": 184,
     "metadata": {},
     "output_type": "execute_result"
    }
   ],
   "source": [
    "string10=input(\"Enter a String:\")\n",
    "string10.count('x')"
   ]
  },
  {
   "cell_type": "code",
   "execution_count": 190,
   "id": "eb27ca61",
   "metadata": {
    "ExecuteTime": {
     "end_time": "2023-11-17T09:21:05.699768Z",
     "start_time": "2023-11-17T09:20:44.753841Z"
    }
   },
   "outputs": [
    {
     "name": "stdout",
     "output_type": "stream",
     "text": [
      "Enetr a String:Data science is having good feature\n",
      "Enter a letter to check number of occurances in given string:t\n",
      "The position first occrance in string is: 3\n"
     ]
    }
   ],
   "source": [
    "# (c) Without using the index method, write a program that asks the user for a string and a letter and prints out the index of the first occurrence of the letter in the string. If the letter is not in the string, the program should say so.\n",
    "string11=input(\"Enetr a String:\")\n",
    "letter=input(\"Enter a letter to check number of occurances in given string:\")\n",
    "for i in range(len(string11)):\n",
    "    if string11[i]==letter:\n",
    "        print(\"The position first occrance in string is:\",i+1)\n",
    "        break\n",
    "if string11[i]!=letter:\n",
    "    print(\"Provided letter is not present in the string!!!\")"
   ]
  },
  {
   "cell_type": "code",
   "execution_count": 191,
   "id": "cb083a92",
   "metadata": {
    "ExecuteTime": {
     "end_time": "2023-11-17T09:21:38.891017Z",
     "start_time": "2023-11-17T09:21:21.314484Z"
    }
   },
   "outputs": [
    {
     "name": "stdout",
     "output_type": "stream",
     "text": [
      "Enetr a String:Data science is having good feature\n",
      "Enter a letter to check number of occurances in given string:b\n",
      "Provided letter is not present in the string!!!\n"
     ]
    }
   ],
   "source": [
    "string11=input(\"Enetr a String:\")\n",
    "letter=input(\"Enter a letter to check number of occurances in given string:\")\n",
    "for i in range(len(string11)):\n",
    "    if string11[i]==letter:\n",
    "        print(\"The position first occrance in string is:\",i+1)\n",
    "        break\n",
    "if string11[i]!=letter:\n",
    "    print(\"Provided letter is not present in the string!!!\")"
   ]
  },
  {
   "cell_type": "markdown",
   "id": "86aefa9c",
   "metadata": {},
   "source": [
    "14. Finding a substring within a string\n",
    "For example, if we were presented a series of lines formatted as follows:\n",
    "\n",
    "From stephen.marquard@uct.ac.za Sat Jan 5 09:14:16 2008\n",
    "\n",
    "and we wanted to pull out only the second half of the address (i.e., uct.ac.za)"
   ]
  },
  {
   "cell_type": "code",
   "execution_count": 195,
   "id": "df7c7862",
   "metadata": {
    "ExecuteTime": {
     "end_time": "2023-11-17T09:24:13.197037Z",
     "start_time": "2023-11-17T09:24:12.307203Z"
    }
   },
   "outputs": [
    {
     "name": "stdout",
     "output_type": "stream",
     "text": [
      "Enter an email id:stephen.marquard@uct.ac.za\n"
     ]
    },
    {
     "data": {
      "text/plain": [
       "'uct.ac.za'"
      ]
     },
     "execution_count": 195,
     "metadata": {},
     "output_type": "execute_result"
    }
   ],
   "source": [
    "string12=input(\"Enter an email id:\")\n",
    "string12.split('@')[1]"
   ]
  },
  {
   "cell_type": "markdown",
   "id": "37f6f8f0",
   "metadata": {},
   "source": [
    "15. Write a Python program to add 'ing' at the end of a given string (length should be at least 3). \n",
    "\n",
    "If the given string already ends with 'ing' then add 'ly' instead. \n",
    "\n",
    "If the string length of the given string is less than 3, leave it unchanged. \n",
    "\n",
    "Go to the editor \n",
    "\n",
    "Sample String : 'abc' \n",
    "\n",
    "Expected Result : 'abcing' \n",
    "\n",
    "Sample String : 'string'\n",
    "\n",
    "Expected Result : 'stringly'"
   ]
  },
  {
   "cell_type": "code",
   "execution_count": 203,
   "id": "b7d8cdeb",
   "metadata": {
    "ExecuteTime": {
     "end_time": "2023-11-17T09:34:25.238731Z",
     "start_time": "2023-11-17T09:34:21.883750Z"
    }
   },
   "outputs": [
    {
     "name": "stdout",
     "output_type": "stream",
     "text": [
      "Enter a string:mobinly\n",
      "mobinlying\n"
     ]
    }
   ],
   "source": [
    "string13=input(\"Enter a string:\")\n",
    "if len(string13)>3:\n",
    "    if string13.endswith('ing'):\n",
    "        string13+='ly'\n",
    "        print(string13)\n",
    "    else:\n",
    "        string13+='ing'\n",
    "        print(string13)\n",
    "else:\n",
    "    print(string13)"
   ]
  },
  {
   "cell_type": "markdown",
   "id": "77c902f6",
   "metadata": {},
   "source": [
    "16. Take the following Python code that stores a string:‘\n",
    " \n",
    " string = 'X-DSPAM-Confidence: 0.8475'\n",
    " Extract the portion of the string after the colon character and then use the float function to convert \n",
    "the extracted string into a floating point number."
   ]
  },
  {
   "cell_type": "code",
   "execution_count": 207,
   "id": "34db5a90",
   "metadata": {
    "ExecuteTime": {
     "end_time": "2023-11-17T09:36:39.036516Z",
     "start_time": "2023-11-17T09:36:39.016508Z"
    }
   },
   "outputs": [
    {
     "data": {
      "text/plain": [
       "0.8475"
      ]
     },
     "execution_count": 207,
     "metadata": {},
     "output_type": "execute_result"
    }
   ],
   "source": [
    "string='X-DSPAM-Confidence: 0.8475'\n",
    "float(string.split(':')[1].lstrip())"
   ]
  }
 ],
 "metadata": {
  "kernelspec": {
   "display_name": "Python 3 (ipykernel)",
   "language": "python",
   "name": "python3"
  },
  "language_info": {
   "codemirror_mode": {
    "name": "ipython",
    "version": 3
   },
   "file_extension": ".py",
   "mimetype": "text/x-python",
   "name": "python",
   "nbconvert_exporter": "python",
   "pygments_lexer": "ipython3",
   "version": "3.9.7"
  }
 },
 "nbformat": 4,
 "nbformat_minor": 5
}
