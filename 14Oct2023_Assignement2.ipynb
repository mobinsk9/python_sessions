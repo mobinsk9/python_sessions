{
 "cells": [
  {
   "cell_type": "markdown",
   "id": "836ea115",
   "metadata": {},
   "source": [
    "1. Ramesh’s basic salary is input through the keyboard. His dearness allowance is 40% of\n",
    "basic salary, and house rent allowance is 20% of basic salary. Write a program to\n",
    "calculate his gross salary."
   ]
  },
  {
   "cell_type": "code",
   "execution_count": 2,
   "id": "40ceb288",
   "metadata": {
    "ExecuteTime": {
     "end_time": "2023-10-14T07:24:36.789510Z",
     "start_time": "2023-10-14T07:24:33.528482Z"
    }
   },
   "outputs": [
    {
     "name": "stdout",
     "output_type": "stream",
     "text": [
      "Please enter Ramesh's Basic Salary:python\n",
      "name 'python' is not defined\n"
     ]
    }
   ],
   "source": [
    "# case 1: Entering basic salary as String\n",
    "try:\n",
    "    #Entering Ramesh's basic salary\n",
    "    basic_sal=eval(input(\"Please enter Ramesh's Basic Salary:\"))\n",
    "    da=(basic_sal*40)/100\n",
    "    hra=(basic_sal*20)/100\n",
    "    #Gross salary = Basic salary + HRA + Other allowances\n",
    "    gross_sal=basic_sal+da+hra\n",
    "    print(\"Ramesh's gross salary is: {}\".format(gross_sal))\n",
    "except Exception as e:\n",
    "    print(e)"
   ]
  },
  {
   "cell_type": "code",
   "execution_count": 3,
   "id": "b1dc1194",
   "metadata": {
    "ExecuteTime": {
     "end_time": "2023-10-14T07:25:35.690267Z",
     "start_time": "2023-10-14T07:25:30.633231Z"
    }
   },
   "outputs": [
    {
     "name": "stdout",
     "output_type": "stream",
     "text": [
      "Please enter Ramesh's Basic Salary:1000.55\n",
      "Ramesh's gross salary is: 1600.88\n"
     ]
    }
   ],
   "source": [
    "# case 2: Entering basic salary as float\n",
    "try:\n",
    "    #Entering Ramesh's basic salary\n",
    "    basic_sal=eval(input(\"Please enter Ramesh's Basic Salary:\"))\n",
    "    da=(basic_sal*40)/100\n",
    "    hra=(basic_sal*20)/100\n",
    "    #Gross salary = Basic salary + HRA + Other allowances\n",
    "    gross_sal=basic_sal+da+hra\n",
    "    print(\"Ramesh's gross salary is: {}\".format(gross_sal))\n",
    "except Exception as e:\n",
    "    print(e)"
   ]
  },
  {
   "cell_type": "code",
   "execution_count": 4,
   "id": "493e3bcc",
   "metadata": {
    "ExecuteTime": {
     "end_time": "2023-10-14T07:25:57.332712Z",
     "start_time": "2023-10-14T07:25:53.713491Z"
    }
   },
   "outputs": [
    {
     "name": "stdout",
     "output_type": "stream",
     "text": [
      "Please enter Ramesh's Basic Salary:100000\n",
      "Ramesh's gross salary is: 160000.0\n"
     ]
    }
   ],
   "source": [
    "# case 3: Entering basic salary as Integer\n",
    "try:\n",
    "    #Entering Ramesh's basic salary\n",
    "    basic_sal=eval(input(\"Please enter Ramesh's Basic Salary:\"))\n",
    "    da=(basic_sal*40)/100\n",
    "    hra=(basic_sal*20)/100\n",
    "    #Gross salary = Basic salary + HRA + Other allowances\n",
    "    gross_sal=basic_sal+da+hra\n",
    "    print(\"Ramesh's gross salary is: {}\".format(gross_sal))\n",
    "except Exception as e:\n",
    "    print(e)"
   ]
  },
  {
   "cell_type": "code",
   "execution_count": 6,
   "id": "70b93b76",
   "metadata": {
    "ExecuteTime": {
     "end_time": "2023-10-14T07:26:44.644758Z",
     "start_time": "2023-10-14T07:26:40.939109Z"
    }
   },
   "outputs": [
    {
     "name": "stdout",
     "output_type": "stream",
     "text": [
      "Please enter Ramesh's Basic Salary:False\n",
      "Ramesh's gross salary is: 0.0\n"
     ]
    }
   ],
   "source": [
    "# case 4: Entering basic salary as boolean      Require clarity\n",
    "try:\n",
    "    #Entering Ramesh's basic salary\n",
    "    basic_sal=eval(input(\"Please enter Ramesh's Basic Salary:\"))\n",
    "    da=(basic_sal*40)/100\n",
    "    hra=(basic_sal*20)/100\n",
    "    #Gross salary = Basic salary + HRA + Other allowances\n",
    "    gross_sal=basic_sal+da+hra\n",
    "    print(\"Ramesh's gross salary is: {}\".format(gross_sal))\n",
    "except Exception as e:\n",
    "    print(e)"
   ]
  },
  {
   "cell_type": "code",
   "execution_count": 7,
   "id": "630a4017",
   "metadata": {
    "ExecuteTime": {
     "end_time": "2023-10-14T07:27:09.903465Z",
     "start_time": "2023-10-14T07:27:04.825941Z"
    }
   },
   "outputs": [
    {
     "name": "stdout",
     "output_type": "stream",
     "text": [
      "Please enter Ramesh's Basic Salary:100+2j\n",
      "Ramesh's gross salary is: (160+3.1999999999999997j)\n"
     ]
    }
   ],
   "source": [
    "# case 5: Entering basic salary as complex   Require clarity\n",
    "try:\n",
    "    #Entering Ramesh's basic salary\n",
    "    basic_sal=eval(input(\"Please enter Ramesh's Basic Salary:\"))\n",
    "    da=(basic_sal*40)/100\n",
    "    hra=(basic_sal*20)/100\n",
    "    #Gross salary = Basic salary + HRA + Other allowances\n",
    "    gross_sal=basic_sal+da+hra\n",
    "    print(\"Ramesh's gross salary is: {}\".format(gross_sal))\n",
    "except Exception as e:\n",
    "    print(e)"
   ]
  },
  {
   "cell_type": "markdown",
   "id": "77af8b25",
   "metadata": {},
   "source": [
    "2. The distance between two cities (in km.) is input through the keyboard. Write a program\n",
    "to convert and print this distance in meters, feet, inches and centimeters."
   ]
  },
  {
   "cell_type": "code",
   "execution_count": 10,
   "id": "cf305407",
   "metadata": {
    "ExecuteTime": {
     "end_time": "2023-10-14T07:41:22.666634Z",
     "start_time": "2023-10-14T07:41:19.438914Z"
    }
   },
   "outputs": [
    {
     "name": "stdout",
     "output_type": "stream",
     "text": [
      "Enter the distance between 2 cities in kms:5.5\n",
      "Distance between two cities in Kilo Meters is: 5.5\n",
      "Distance between two cities in Meters is: 5500.0\n",
      "Distance between two cities in Feets is: 18044.620000000003\n",
      "Distance between two cities in Inches is: 216535.55\n",
      "Distance between two cities in Centi Meters is: 550000.0\n"
     ]
    }
   ],
   "source": [
    "try:\n",
    "    #Providing distance between two cities in km.\n",
    "    dist_bw_2_cities=eval(input(\"Enter the distance between 2 cities in kms:\"))\n",
    "    #Formula to covert Kilo Meters to Meters M=1000*km here M--> Meter  KM-->KiloMeter\n",
    "    km_2_m=1000*dist_bw_2_cities\n",
    "    print(\"Distance between two cities in Kilo Meters is: {}\".format(dist_bw_2_cities))\n",
    "    print(\"Distance between two cities in Meters is: {}\".format(km_2_m))\n",
    "    #Formula to convert Kilo Meters to Feets f=3280.84*km  here f--> Feets  KM-->KiloMeter\n",
    "    km_2_f=3280.84*dist_bw_2_cities\n",
    "    print(\"Distance between two cities in Feets is: {}\".format(km_2_f))\n",
    "    #Formula to convert Kilo Meters to Inches  i=39370.1*km   here i--> Inches  KM-->KiloMeter\n",
    "    km_2_i=39370.1*dist_bw_2_cities\n",
    "    print(\"Distance between two cities in Inches is: {}\".format(km_2_i))\n",
    "    #Formula to convert Kilo Meters to Centi Meters   cm=100000*km   here  cm--> Centi Meters  KM-->KiloMeter\n",
    "    km_2_cm=100000*dist_bw_2_cities\n",
    "    print(\"Distance between two cities in Centi Meters is: {}\".format(km_2_cm))\n",
    "except Exception as e:\n",
    "    print(e)"
   ]
  },
  {
   "cell_type": "markdown",
   "id": "686ba6bd",
   "metadata": {},
   "source": [
    "3, If the marks obtained by a student in five different subjects are input through the\n",
    "keyboard, find out the aggregate marks and percentage marks obtained by the student.\n",
    "Assume that the maximum marks that can be obtained by a student in each subject is\n",
    "100."
   ]
  },
  {
   "cell_type": "code",
   "execution_count": 16,
   "id": "0f0b888f",
   "metadata": {
    "ExecuteTime": {
     "end_time": "2023-10-14T07:52:19.440852Z",
     "start_time": "2023-10-14T07:52:15.309212Z"
    }
   },
   "outputs": [
    {
     "name": "stdout",
     "output_type": "stream",
     "text": [
      "Enter English Marks of Mobin:10\n",
      "Enter Math Marks of Mobin:10\n",
      "Enter Physics Marks of Mobin:10\n",
      "Enetr Hindi Marks of Mobin:10\n",
      "Enter Chemistry Marks of Mobin:10\n",
      "Maximum marks of all subjects are: 500\n",
      "Total marks obtained by Mobin: 50\n",
      "Aggregate marks of Mobin is: 0.1\n",
      "Percentage marks of Mobin is: 10.0 %\n"
     ]
    }
   ],
   "source": [
    "try:\n",
    "    # Entering 5 subject marks\n",
    "    # Maximum marks of each subject is 100\n",
    "    eng_marks = eval(input(\"Enter English Marks of Mobin:\"))\n",
    "    math_marks = eval(input(\"Enter Math Marks of Mobin:\"))\n",
    "    phy_marks = eval(input(\"Enter Physics Marks of Mobin:\"))\n",
    "    hin_marks = eval(input(\"Enetr Hindi Marks of Mobin:\"))\n",
    "    che_marks = eval(input(\"Enter Chemistry Marks of Mobin:\"))\n",
    "    tot_marks = eng_marks+math_marks+phy_marks+hin_marks+che_marks\n",
    "    max_marks = 100*5  # 5 --> Number of subjects\n",
    "    agg_marks = tot_marks/max_marks\n",
    "    per_marks = agg_marks*100\n",
    "    print(\"Maximum marks of all subjects are: {}\".format(max_marks))\n",
    "    print(\"Total marks obtained by Mobin: {}\".format(tot_marks))\n",
    "    print(\"Aggregate marks of Mobin is: {}\".format(agg_marks))\n",
    "    print(\"Percentage marks of Mobin is: {} %\".format(per_marks))\n",
    "except Exception as e:\n",
    "    print(e)"
   ]
  },
  {
   "cell_type": "markdown",
   "id": "d980dcf4",
   "metadata": {},
   "source": [
    "4.Temperature of a city in Fahrenheit degrees is input through the keyboard. Write a\n",
    "program to convert this temperature into Centigrade degrees. "
   ]
  },
  {
   "cell_type": "code",
   "execution_count": 19,
   "id": "273ee5a2",
   "metadata": {
    "ExecuteTime": {
     "end_time": "2023-10-14T09:20:21.131322Z",
     "start_time": "2023-10-14T09:20:17.977644Z"
    }
   },
   "outputs": [
    {
     "name": "stdout",
     "output_type": "stream",
     "text": [
      "Enter the temperature of a city:100\n",
      "The city temperature in Fahrenheit degrees is: 100\n",
      "The city temperature in Centigrade degrees 1s: 37.77777777777778\n"
     ]
    }
   ],
   "source": [
    "try:\n",
    "    #Pelease enter the city temperature in Fahrenheit\n",
    "    temp_f=eval(input(\"Enter the temperature of a city:\"))\n",
    "    #Converting temperatute from Fahrenheit to Centigrade degrees and the formula is c=(f-32)*5/9   f--> Fahrenheit degrees and c-->Centigrade degrees \n",
    "    temp_c=(temp_f-32)*5/9\n",
    "    print(\"The city temperature in Fahrenheit degrees is: {}\".format(temp_f))\n",
    "    print(\"The city temperature in Centigrade degrees 1s: {}\".format(temp_c))\n",
    "except Exception as e:\n",
    "    print(e)"
   ]
  },
  {
   "cell_type": "markdown",
   "id": "d5f78e53",
   "metadata": {},
   "source": [
    "5. The length & breadth of a rectangle and radius of a circle are input through the\n",
    "keyboard. Write a program to calculate the area & perimeter of the rectangle, and the\n",
    "area & circumference of the circle.\n"
   ]
  },
  {
   "cell_type": "code",
   "execution_count": 20,
   "id": "d4d8b15d",
   "metadata": {
    "ExecuteTime": {
     "end_time": "2023-10-14T09:43:32.856397Z",
     "start_time": "2023-10-14T09:43:25.340998Z"
    }
   },
   "outputs": [
    {
     "name": "stdout",
     "output_type": "stream",
     "text": [
      "Enter the Rectangle length:10\n",
      "Enter the Rectangle Breadth:5\n",
      "Entered Length is 10 and the Breadth is 5, from this Area of the Rectangle is 50\n",
      "Entered Length is 10 and the Breadth is 5, from this Perimeter of the Rectangle is 30\n",
      "Entered Breadth is 5, from this Area of the Circle is 19.634954084936208\n",
      "Entered Breadth is 5, from this Circumference of the Circle is 15.707963267948966\n"
     ]
    }
   ],
   "source": [
    "try:\n",
    "    #Taking the Length (l) and Breath (b) of a rectangle from the user\n",
    "    l=eval(input(\"Enter the Rectangle length:\"))\n",
    "    b=eval(input(\"Enter the Rectangle Breadth:\"))\n",
    "    #Formula for are of Rectangle is a=lb   here a-->area of rectangle   l-->length and b-->breadth\n",
    "    a=l*b\n",
    "    print(\"Entered Length is {} and the Breadth is {}, from this Area of the Rectangle is {}\".format(l,b,a))\n",
    "    #Formula for perimeter of the Rectangle is p=2(l+b)  here p--> perimeter of rectangle   l-->length and b-->breadth\n",
    "    p=2*(l+b)\n",
    "    print(\"Entered Length is {} and the Breadth is {}, from this Perimeter of the Rectangle is {}\".format(l,b,p))\n",
    "    #Formula for area of circle A=pi*r*r   here A-->Area of circle, pi-->22/7 and r-->radius is half of breadth (B)\n",
    "    r=0.5*b\n",
    "    import math\n",
    "    A=math.pi*r*r\n",
    "    print(\"Entered Breadth is {}, from this Area of the Circle is {}\".format(b,A))\n",
    "    #Formula for Circumference of the Circle is C=2*pi*r   here C-->Circumference, pi-->22/7 and r-->radius is half of breadth (B)\n",
    "    C=2*math.pi*r\n",
    "    print(\"Entered Breadth is {}, from this Circumference of the Circle is {}\".format(b,C))\n",
    "except Exception as e:\n",
    "    print(e)"
   ]
  },
  {
   "cell_type": "markdown",
   "id": "d7a6fef8",
   "metadata": {
    "ExecuteTime": {
     "end_time": "2023-10-14T09:45:15.956204Z",
     "start_time": "2023-10-14T09:45:15.934185Z"
    }
   },
   "source": [
    "6. Two numbers are input through the keyboard into two locations C and D. Write a\n",
    "program to interchange the contents of C and D."
   ]
  },
  {
   "cell_type": "code",
   "execution_count": 32,
   "id": "b0896b6c",
   "metadata": {
    "ExecuteTime": {
     "end_time": "2023-10-14T09:51:31.166583Z",
     "start_time": "2023-10-14T09:51:28.231293Z"
    }
   },
   "outputs": [
    {
     "name": "stdout",
     "output_type": "stream",
     "text": [
      "Enter C value:10\n",
      "Enter D value:20\n",
      "The interchanged values are: 20 and 10\n"
     ]
    }
   ],
   "source": [
    "# First Way\n",
    "try:\n",
    "    #Taking two numbers from user\n",
    "    C=eval(input(\"Enter C value:\"))\n",
    "    D=eval(input(\"Enter D value:\"))\n",
    "    C+=D\n",
    "    D=C-D\n",
    "    C=C-D\n",
    "    print(\"The interchanged values are: {} and {}\".format(C,D))\n",
    "except Exception as e:\n",
    "    print(e)"
   ]
  },
  {
   "cell_type": "code",
   "execution_count": 33,
   "id": "8a6c03c2",
   "metadata": {
    "ExecuteTime": {
     "end_time": "2023-10-14T09:52:38.437265Z",
     "start_time": "2023-10-14T09:52:36.426130Z"
    }
   },
   "outputs": [
    {
     "name": "stdout",
     "output_type": "stream",
     "text": [
      "Enter C value:10\n",
      "Enter D value:20\n",
      "The interchanged values are: 20 and 10\n"
     ]
    }
   ],
   "source": [
    "#Second way\n",
    "try:\n",
    "    #Taking two numbers from user\n",
    "    C=eval(input(\"Enter C value:\"))\n",
    "    D=eval(input(\"Enter D value:\"))\n",
    "    E=C\n",
    "    C=D\n",
    "    D=E\n",
    "    print(\"The interchanged values are: {} and {}\".format(C,D))\n",
    "except Exception as e:\n",
    "    print(e)"
   ]
  },
  {
   "cell_type": "markdown",
   "id": "bd4ec5b8",
   "metadata": {
    "ExecuteTime": {
     "end_time": "2023-10-14T09:49:27.094561Z",
     "start_time": "2023-10-14T09:49:27.073572Z"
    }
   },
   "source": [
    "7. If a five-digit number is input through the keyboard, write a program to reverse the\n",
    "number."
   ]
  },
  {
   "cell_type": "code",
   "execution_count": 74,
   "id": "0b854531",
   "metadata": {
    "ExecuteTime": {
     "end_time": "2023-10-14T10:41:39.663097Z",
     "start_time": "2023-10-14T10:41:36.936196Z"
    }
   },
   "outputs": [
    {
     "name": "stdout",
     "output_type": "stream",
     "text": [
      "Enter five digit number10000\n",
      "1\n"
     ]
    }
   ],
   "source": [
    "# This code work's correctly for Five digit number only\n",
    "try:\n",
    "    #Take Five digit number from user\n",
    "    n=eval(input(\"Enter five digit number\"))\n",
    "    revnum=0\n",
    "    revnum+=n%10*10000\n",
    "    n=n//10\n",
    "    revnum+=n%10*1000\n",
    "    n=n//10\n",
    "    revnum+=n%10*100\n",
    "    n=n//10\n",
    "    revnum+=n%10*10\n",
    "    n=n//10\n",
    "    revnum+=n\n",
    "    print(revnum)\n",
    "except Exception as e:\n",
    "    print(e)"
   ]
  },
  {
   "cell_type": "markdown",
   "id": "5e0504c0",
   "metadata": {
    "ExecuteTime": {
     "end_time": "2023-10-14T09:57:38.134030Z",
     "start_time": "2023-10-14T09:57:37.862903Z"
    }
   },
   "source": [
    "8. If a four-digit number is input through the keyboard, write a program to obtain the sum of\n",
    "the first and last digit of this number."
   ]
  },
  {
   "cell_type": "code",
   "execution_count": 90,
   "id": "171fa6a7",
   "metadata": {
    "ExecuteTime": {
     "end_time": "2023-10-14T10:47:19.727974Z",
     "start_time": "2023-10-14T10:47:15.488135Z"
    }
   },
   "outputs": [
    {
     "name": "stdout",
     "output_type": "stream",
     "text": [
      "Enter four digit number:9876\n",
      "Addition of First and Last digit is: 15\n"
     ]
    }
   ],
   "source": [
    "# This code work's correctly for Four digit number only\n",
    "try:\n",
    "    #Ask user to enter four digit number\n",
    "    n=eval(input(\"Enter four digit number:\"))\n",
    "    f_no=n//1000\n",
    "    l_no=n%10\n",
    "    print(\"Addition of First and Last digit is: {}\".format(f_no+l_no))\n",
    "except Exception as e:\n",
    "    print(e)"
   ]
  },
  {
   "cell_type": "markdown",
   "id": "32d831a8",
   "metadata": {},
   "source": [
    "9. In a town, the percentage of men is 52. The percentage of total literacy is 48. If total\n",
    "percentage of literate men is 35 of the total population, write a program to find the total\n",
    "number of illiterate men and women if the population of the town is 80,000."
   ]
  },
  {
   "cell_type": "code",
   "execution_count": 105,
   "id": "0e4f2ff0",
   "metadata": {
    "ExecuteTime": {
     "end_time": "2023-10-14T11:13:24.768905Z",
     "start_time": "2023-10-14T11:13:24.747938Z"
    }
   },
   "outputs": [
    {
     "name": "stdout",
     "output_type": "stream",
     "text": [
      "Total number of Illiterate Mens in the town are: 13600.0\n",
      "Total number of Illiterate Woments in the town are: 28000.0\n"
     ]
    }
   ],
   "source": [
    "total_pop=80000\n",
    "total_men_per=52\n",
    "total_men=(total_pop*52)/100\n",
    "literate_men_per=35\n",
    "total_illiterate_men=(total_pop*(total_men_per-literate_men_per))/100\n",
    "print(\"Total number of Illiterate Mens in the town are:\",total_illiterate_men)\n",
    "total_women=total_pop-total_men\n",
    "total_illiterate_women=(total_women-(total_pop*13)/100)\n",
    "print(\"Total number of Illiterate Woments in the town are:\",total_illiterate_women)"
   ]
  },
  {
   "cell_type": "code",
   "execution_count": 110,
   "id": "ebd47603",
   "metadata": {
    "ExecuteTime": {
     "end_time": "2023-10-14T11:19:33.748482Z",
     "start_time": "2023-10-14T11:19:33.726499Z"
    }
   },
   "outputs": [
    {
     "name": "stdout",
     "output_type": "stream",
     "text": [
      "Percentage of Literate Men is: 35\n",
      "Percentage of Literate Women is: 13\n",
      "Percentage of Illiterate Men is: 17.0\n",
      "Percentage of Illiterate Women is: 35.0\n"
     ]
    }
   ],
   "source": [
    "#Cross verofication\n",
    "total_literacy=48\n",
    "per_literate_men=35\n",
    "per_literate_women=total_literacy-per_literate_men\n",
    "per_illiterate_men=(total_illiterate_men/total_pop)*100\n",
    "per_illiterate_women=(total_illiterate_women/total_pop)*100\n",
    "print(\"Percentage of Literate Men is:\",per_literate_men)\n",
    "print(\"Percentage of Literate Women is:\",per_literate_women)\n",
    "print(\"Percentage of Illiterate Men is:\",per_illiterate_men)\n",
    "print(\"Percentage of Illiterate Women is:\",per_illiterate_women)"
   ]
  },
  {
   "cell_type": "markdown",
   "id": "d37e5805",
   "metadata": {},
   "source": [
    "10. A cashier has currency notes of denominations 10, 50 and 100. If the amount to be\n",
    "withdrawn is input through the keyboard in hundreds, find the total number of currency\n",
    "notes of each denomination the cashier will have to give to the withdrawer."
   ]
  },
  {
   "cell_type": "code",
   "execution_count": 55,
   "id": "80d7d2cb",
   "metadata": {
    "ExecuteTime": {
     "end_time": "2023-10-14T10:18:07.307808Z",
     "start_time": "2023-10-14T10:18:02.438005Z"
    }
   },
   "outputs": [
    {
     "name": "stdout",
     "output_type": "stream",
     "text": [
      "Enter the amount in Hundres25580\n",
      "The 100 denominations are: 255\n",
      "The 50 denominations are: 1\n",
      "The 10 denominations are: 3\n"
     ]
    }
   ],
   "source": [
    "try:\n",
    "    #Please enter the amount to be withdrawn in hundres\n",
    "    amount=eval(input(\"Enter the amount in Hundres\"))\n",
    "    c_100=amount//100\n",
    "    amount=amount%100\n",
    "    c_50=amount//50\n",
    "    amount=amount%50\n",
    "    c_10=amount//10\n",
    "    print(\"The 100 denominations are: {}\".format(c_100))\n",
    "    print(\"The 50 denominations are: {}\".format(c_50))\n",
    "    print(\"The 10 denominations are: {}\".format(c_10))\n",
    "except Exception as e:\n",
    "    print(e)"
   ]
  }
 ],
 "metadata": {
  "kernelspec": {
   "display_name": "Python 3 (ipykernel)",
   "language": "python",
   "name": "python3"
  },
  "language_info": {
   "codemirror_mode": {
    "name": "ipython",
    "version": 3
   },
   "file_extension": ".py",
   "mimetype": "text/x-python",
   "name": "python",
   "nbconvert_exporter": "python",
   "pygments_lexer": "ipython3",
   "version": "3.9.7"
  }
 },
 "nbformat": 4,
 "nbformat_minor": 5
}
