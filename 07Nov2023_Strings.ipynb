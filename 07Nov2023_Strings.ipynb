{
 "cells": [
  {
   "cell_type": "code",
   "execution_count": 1,
   "id": "1c2ec572",
   "metadata": {
    "ExecuteTime": {
     "end_time": "2023-11-07T14:16:05.984049Z",
     "start_time": "2023-11-07T14:16:05.953069Z"
    }
   },
   "outputs": [
    {
     "data": {
      "text/plain": [
       "'my name is mobin'"
      ]
     },
     "execution_count": 1,
     "metadata": {},
     "output_type": "execute_result"
    }
   ],
   "source": [
    "s1='My Name is MOBIN'\n",
    "s1.casefold()"
   ]
  },
  {
   "cell_type": "code",
   "execution_count": 4,
   "id": "8cef3909",
   "metadata": {
    "ExecuteTime": {
     "end_time": "2023-11-07T14:16:25.528374Z",
     "start_time": "2023-11-07T14:16:25.509383Z"
    }
   },
   "outputs": [
    {
     "data": {
      "text/plain": [
       "'my name is mobin'"
      ]
     },
     "execution_count": 4,
     "metadata": {},
     "output_type": "execute_result"
    }
   ],
   "source": [
    "s1.lower()"
   ]
  },
  {
   "cell_type": "code",
   "execution_count": 38,
   "id": "a4ec554f",
   "metadata": {
    "ExecuteTime": {
     "end_time": "2023-11-07T14:31:40.897883Z",
     "start_time": "2023-11-07T14:31:40.887890Z"
    }
   },
   "outputs": [],
   "source": [
    "sent1='rashaad.omkar@gmail.com'"
   ]
  },
  {
   "cell_type": "code",
   "execution_count": 8,
   "id": "985f33cf",
   "metadata": {
    "ExecuteTime": {
     "end_time": "2023-11-07T14:18:23.981910Z",
     "start_time": "2023-11-07T14:18:23.964927Z"
    }
   },
   "outputs": [
    {
     "data": {
      "text/plain": [
       "'omkar'"
      ]
     },
     "execution_count": 8,
     "metadata": {},
     "output_type": "execute_result"
    }
   ],
   "source": [
    "s1[8:13]"
   ]
  },
  {
   "cell_type": "code",
   "execution_count": 9,
   "id": "e34dec68",
   "metadata": {
    "ExecuteTime": {
     "end_time": "2023-11-07T14:19:28.007265Z",
     "start_time": "2023-11-07T14:19:28.001270Z"
    }
   },
   "outputs": [],
   "source": [
    "sent2='mobin.sourav@Uma.com'"
   ]
  },
  {
   "cell_type": "code",
   "execution_count": 10,
   "id": "e10b46a2",
   "metadata": {
    "ExecuteTime": {
     "end_time": "2023-11-07T14:20:08.580795Z",
     "start_time": "2023-11-07T14:20:08.566805Z"
    }
   },
   "outputs": [
    {
     "data": {
      "text/plain": [
       "5"
      ]
     },
     "execution_count": 10,
     "metadata": {},
     "output_type": "execute_result"
    }
   ],
   "source": [
    "sent2.find('.')"
   ]
  },
  {
   "cell_type": "code",
   "execution_count": 17,
   "id": "b21ac8e9",
   "metadata": {
    "ExecuteTime": {
     "end_time": "2023-11-07T14:22:26.563816Z",
     "start_time": "2023-11-07T14:22:26.545850Z"
    }
   },
   "outputs": [],
   "source": [
    "x=sent2.split('@')"
   ]
  },
  {
   "cell_type": "code",
   "execution_count": 19,
   "id": "09f1b38d",
   "metadata": {
    "ExecuteTime": {
     "end_time": "2023-11-07T14:22:32.476739Z",
     "start_time": "2023-11-07T14:22:32.457749Z"
    }
   },
   "outputs": [
    {
     "data": {
      "text/plain": [
       "'Uma.com'"
      ]
     },
     "execution_count": 19,
     "metadata": {},
     "output_type": "execute_result"
    }
   ],
   "source": [
    "x[1]"
   ]
  },
  {
   "cell_type": "code",
   "execution_count": 21,
   "id": "0a7febdd",
   "metadata": {
    "ExecuteTime": {
     "end_time": "2023-11-07T14:23:07.852771Z",
     "start_time": "2023-11-07T14:23:07.844776Z"
    }
   },
   "outputs": [],
   "source": [
    "y=x[1].split('.')"
   ]
  },
  {
   "cell_type": "code",
   "execution_count": 23,
   "id": "0e504d80",
   "metadata": {
    "ExecuteTime": {
     "end_time": "2023-11-07T14:23:17.165493Z",
     "start_time": "2023-11-07T14:23:17.152500Z"
    }
   },
   "outputs": [
    {
     "data": {
      "text/plain": [
       "'Uma'"
      ]
     },
     "execution_count": 23,
     "metadata": {},
     "output_type": "execute_result"
    }
   ],
   "source": [
    "y[0]"
   ]
  },
  {
   "cell_type": "code",
   "execution_count": 40,
   "id": "b28d25f9",
   "metadata": {
    "ExecuteTime": {
     "end_time": "2023-11-07T14:34:14.277077Z",
     "start_time": "2023-11-07T14:34:14.265081Z"
    }
   },
   "outputs": [
    {
     "data": {
      "text/plain": [
       "'Uma'"
      ]
     },
     "execution_count": 40,
     "metadata": {},
     "output_type": "execute_result"
    }
   ],
   "source": [
    "sent2[sent2.index('@')+1:sent2.index('.',sent2.index('.')+1)]"
   ]
  },
  {
   "cell_type": "code",
   "execution_count": 44,
   "id": "330a20b4",
   "metadata": {
    "ExecuteTime": {
     "end_time": "2023-11-07T14:35:02.618959Z",
     "start_time": "2023-11-07T14:35:02.607964Z"
    }
   },
   "outputs": [
    {
     "data": {
      "text/plain": [
       "16"
      ]
     },
     "execution_count": 44,
     "metadata": {},
     "output_type": "execute_result"
    }
   ],
   "source": [
    "#sent2='mobin.sourav@Uma.com'\n",
    "sent2.index('.',sent2.index('.')+1)"
   ]
  },
  {
   "cell_type": "code",
   "execution_count": 39,
   "id": "66ff5400",
   "metadata": {
    "ExecuteTime": {
     "end_time": "2023-11-07T14:31:45.721678Z",
     "start_time": "2023-11-07T14:31:45.707686Z"
    }
   },
   "outputs": [
    {
     "data": {
      "text/plain": [
       "'omkar'"
      ]
     },
     "execution_count": 39,
     "metadata": {},
     "output_type": "execute_result"
    }
   ],
   "source": [
    "sent1[sent1.find('.')+1:sent1.find('@')]"
   ]
  },
  {
   "cell_type": "code",
   "execution_count": 42,
   "id": "072739f6",
   "metadata": {
    "ExecuteTime": {
     "end_time": "2023-11-07T14:34:29.846973Z",
     "start_time": "2023-11-07T14:34:29.837979Z"
    }
   },
   "outputs": [
    {
     "data": {
      "text/plain": [
       "13"
      ]
     },
     "execution_count": 42,
     "metadata": {},
     "output_type": "execute_result"
    }
   ],
   "source": [
    "sent2.index('@')+1"
   ]
  },
  {
   "cell_type": "code",
   "execution_count": 52,
   "id": "a88aee84",
   "metadata": {
    "ExecuteTime": {
     "end_time": "2023-11-07T14:48:31.156842Z",
     "start_time": "2023-11-07T14:48:31.150845Z"
    }
   },
   "outputs": [],
   "source": [
    "string1=' hai how are you:'\n",
    "string2='hai how are you: '\n",
    "string3=' hai how are you: '"
   ]
  },
  {
   "cell_type": "markdown",
   "id": "8f5885b1",
   "metadata": {},
   "source": [
    "strip \n",
    "\n",
    "lstrip\n",
    "\n",
    "rstrip"
   ]
  },
  {
   "cell_type": "code",
   "execution_count": 53,
   "id": "52e5ea3d",
   "metadata": {
    "ExecuteTime": {
     "end_time": "2023-11-07T14:48:33.556840Z",
     "start_time": "2023-11-07T14:48:33.533853Z"
    }
   },
   "outputs": [
    {
     "data": {
      "text/plain": [
       "'hai how are you:'"
      ]
     },
     "execution_count": 53,
     "metadata": {},
     "output_type": "execute_result"
    }
   ],
   "source": [
    "string3.strip()"
   ]
  },
  {
   "cell_type": "code",
   "execution_count": 56,
   "id": "0b062fad",
   "metadata": {
    "ExecuteTime": {
     "end_time": "2023-11-07T14:49:49.030807Z",
     "start_time": "2023-11-07T14:49:49.017286Z"
    }
   },
   "outputs": [
    {
     "data": {
      "text/plain": [
       "'hai how are you:'"
      ]
     },
     "execution_count": 56,
     "metadata": {},
     "output_type": "execute_result"
    }
   ],
   "source": [
    "string1.lstrip()"
   ]
  },
  {
   "cell_type": "code",
   "execution_count": 57,
   "id": "5d7e2057",
   "metadata": {
    "ExecuteTime": {
     "end_time": "2023-11-07T14:49:59.334874Z",
     "start_time": "2023-11-07T14:49:59.323878Z"
    }
   },
   "outputs": [
    {
     "data": {
      "text/plain": [
       "'hai how are you:'"
      ]
     },
     "execution_count": 57,
     "metadata": {},
     "output_type": "execute_result"
    }
   ],
   "source": [
    "string2.rstrip()"
   ]
  },
  {
   "cell_type": "code",
   "execution_count": 59,
   "id": "e85d51c0",
   "metadata": {
    "ExecuteTime": {
     "end_time": "2023-11-07T14:59:45.935810Z",
     "start_time": "2023-11-07T14:59:45.916794Z"
    }
   },
   "outputs": [],
   "source": [
    "string='&&&&&Helllo&&&&&'"
   ]
  },
  {
   "cell_type": "code",
   "execution_count": 60,
   "id": "61bd7d2c",
   "metadata": {
    "ExecuteTime": {
     "end_time": "2023-11-07T14:59:47.852030Z",
     "start_time": "2023-11-07T14:59:47.836042Z"
    }
   },
   "outputs": [
    {
     "data": {
      "text/plain": [
       "'Helllo'"
      ]
     },
     "execution_count": 60,
     "metadata": {},
     "output_type": "execute_result"
    }
   ],
   "source": [
    "string.strip('&')"
   ]
  },
  {
   "cell_type": "markdown",
   "id": "bcc604be",
   "metadata": {
    "ExecuteTime": {
     "end_time": "2023-11-07T15:02:20.916928Z",
     "start_time": "2023-11-07T15:02:20.896941Z"
    }
   },
   "source": [
    "Startswith\n",
    "\n",
    "endswith"
   ]
  },
  {
   "cell_type": "code",
   "execution_count": 62,
   "id": "940c1f1f",
   "metadata": {
    "ExecuteTime": {
     "end_time": "2023-11-07T15:02:27.415780Z",
     "start_time": "2023-11-07T15:02:27.410786Z"
    }
   },
   "outputs": [],
   "source": [
    "string1='Hai How are you'"
   ]
  },
  {
   "cell_type": "code",
   "execution_count": 64,
   "id": "e618095b",
   "metadata": {
    "ExecuteTime": {
     "end_time": "2023-11-07T15:02:41.807052Z",
     "start_time": "2023-11-07T15:02:41.796037Z"
    }
   },
   "outputs": [
    {
     "data": {
      "text/plain": [
       "True"
      ]
     },
     "execution_count": 64,
     "metadata": {},
     "output_type": "execute_result"
    }
   ],
   "source": [
    "string1.startswith('Hai')"
   ]
  },
  {
   "cell_type": "code",
   "execution_count": 65,
   "id": "dabc5cc6",
   "metadata": {
    "ExecuteTime": {
     "end_time": "2023-11-07T15:04:53.299182Z",
     "start_time": "2023-11-07T15:04:53.276195Z"
    }
   },
   "outputs": [
    {
     "data": {
      "text/plain": [
       "True"
      ]
     },
     "execution_count": 65,
     "metadata": {},
     "output_type": "execute_result"
    }
   ],
   "source": [
    "string1.startswith(string1)"
   ]
  },
  {
   "cell_type": "code",
   "execution_count": 67,
   "id": "9a7c6f91",
   "metadata": {
    "ExecuteTime": {
     "end_time": "2023-11-07T15:05:42.143391Z",
     "start_time": "2023-11-07T15:05:42.134418Z"
    }
   },
   "outputs": [
    {
     "data": {
      "text/plain": [
       "True"
      ]
     },
     "execution_count": 67,
     "metadata": {},
     "output_type": "execute_result"
    }
   ],
   "source": [
    "string1.endswith(string1)"
   ]
  },
  {
   "cell_type": "code",
   "execution_count": 68,
   "id": "9a7dfacd",
   "metadata": {
    "ExecuteTime": {
     "end_time": "2023-11-07T15:10:31.222519Z",
     "start_time": "2023-11-07T15:10:31.204528Z"
    }
   },
   "outputs": [
    {
     "data": {
      "text/plain": [
       "False"
      ]
     },
     "execution_count": 68,
     "metadata": {},
     "output_type": "execute_result"
    }
   ],
   "source": [
    "string1.isalpha()"
   ]
  },
  {
   "cell_type": "code",
   "execution_count": 69,
   "id": "c5c68f15",
   "metadata": {
    "ExecuteTime": {
     "end_time": "2023-11-07T15:10:59.008237Z",
     "start_time": "2023-11-07T15:10:58.990243Z"
    }
   },
   "outputs": [
    {
     "data": {
      "text/plain": [
       "False"
      ]
     },
     "execution_count": 69,
     "metadata": {},
     "output_type": "execute_result"
    }
   ],
   "source": [
    "string.isnumeric()"
   ]
  },
  {
   "cell_type": "code",
   "execution_count": 70,
   "id": "4c8b2283",
   "metadata": {
    "ExecuteTime": {
     "end_time": "2023-11-07T15:11:31.674999Z",
     "start_time": "2023-11-07T15:11:31.658009Z"
    }
   },
   "outputs": [
    {
     "data": {
      "text/plain": [
       "True"
      ]
     },
     "execution_count": 70,
     "metadata": {},
     "output_type": "execute_result"
    }
   ],
   "source": [
    "string1='Mobin'\n",
    "string1.isalpha()"
   ]
  },
  {
   "cell_type": "code",
   "execution_count": 71,
   "id": "59381eb7",
   "metadata": {
    "ExecuteTime": {
     "end_time": "2023-11-07T15:11:49.605792Z",
     "start_time": "2023-11-07T15:11:49.583805Z"
    }
   },
   "outputs": [
    {
     "data": {
      "text/plain": [
       "False"
      ]
     },
     "execution_count": 71,
     "metadata": {},
     "output_type": "execute_result"
    }
   ],
   "source": [
    "string1.isnumeric()"
   ]
  },
  {
   "cell_type": "code",
   "execution_count": 73,
   "id": "ca65faa9",
   "metadata": {
    "ExecuteTime": {
     "end_time": "2023-11-07T15:12:20.277148Z",
     "start_time": "2023-11-07T15:12:20.262157Z"
    }
   },
   "outputs": [
    {
     "data": {
      "text/plain": [
       "True"
      ]
     },
     "execution_count": 73,
     "metadata": {},
     "output_type": "execute_result"
    }
   ],
   "source": [
    "string2='12345'\n",
    "string2.isnumeric()"
   ]
  },
  {
   "cell_type": "code",
   "execution_count": 74,
   "id": "a8e04497",
   "metadata": {
    "ExecuteTime": {
     "end_time": "2023-11-07T15:12:50.005371Z",
     "start_time": "2023-11-07T15:12:49.983116Z"
    }
   },
   "outputs": [
    {
     "data": {
      "text/plain": [
       "True"
      ]
     },
     "execution_count": 74,
     "metadata": {},
     "output_type": "execute_result"
    }
   ],
   "source": [
    "string3='MY NAME IS MOBIN'\n",
    "string3.isupper()"
   ]
  },
  {
   "cell_type": "code",
   "execution_count": 76,
   "id": "6470f6fe",
   "metadata": {
    "ExecuteTime": {
     "end_time": "2023-11-07T15:13:33.587584Z",
     "start_time": "2023-11-07T15:13:33.563602Z"
    }
   },
   "outputs": [
    {
     "data": {
      "text/plain": [
       "True"
      ]
     },
     "execution_count": 76,
     "metadata": {},
     "output_type": "execute_result"
    }
   ],
   "source": [
    "string4='my name is mobin'\n",
    "string4.islower()"
   ]
  },
  {
   "cell_type": "code",
   "execution_count": 83,
   "id": "140f91fa",
   "metadata": {
    "ExecuteTime": {
     "end_time": "2023-11-07T15:15:37.662233Z",
     "start_time": "2023-11-07T15:15:37.643726Z"
    }
   },
   "outputs": [
    {
     "data": {
      "text/plain": [
       "False"
      ]
     },
     "execution_count": 83,
     "metadata": {},
     "output_type": "execute_result"
    }
   ],
   "source": [
    "string5='10.6'\n",
    "string5.isdecimal()"
   ]
  },
  {
   "cell_type": "code",
   "execution_count": 77,
   "id": "f5ed6a83",
   "metadata": {
    "ExecuteTime": {
     "end_time": "2023-11-07T15:14:06.749142Z",
     "start_time": "2023-11-07T15:14:06.730153Z"
    }
   },
   "outputs": [
    {
     "data": {
      "text/plain": [
       "['__add__',\n",
       " '__class__',\n",
       " '__contains__',\n",
       " '__delattr__',\n",
       " '__dir__',\n",
       " '__doc__',\n",
       " '__eq__',\n",
       " '__format__',\n",
       " '__ge__',\n",
       " '__getattribute__',\n",
       " '__getitem__',\n",
       " '__getnewargs__',\n",
       " '__gt__',\n",
       " '__hash__',\n",
       " '__init__',\n",
       " '__init_subclass__',\n",
       " '__iter__',\n",
       " '__le__',\n",
       " '__len__',\n",
       " '__lt__',\n",
       " '__mod__',\n",
       " '__mul__',\n",
       " '__ne__',\n",
       " '__new__',\n",
       " '__reduce__',\n",
       " '__reduce_ex__',\n",
       " '__repr__',\n",
       " '__rmod__',\n",
       " '__rmul__',\n",
       " '__setattr__',\n",
       " '__sizeof__',\n",
       " '__str__',\n",
       " '__subclasshook__',\n",
       " 'capitalize',\n",
       " 'casefold',\n",
       " 'center',\n",
       " 'count',\n",
       " 'encode',\n",
       " 'endswith',\n",
       " 'expandtabs',\n",
       " 'find',\n",
       " 'format',\n",
       " 'format_map',\n",
       " 'index',\n",
       " 'isalnum',\n",
       " 'isalpha',\n",
       " 'isascii',\n",
       " 'isdecimal',\n",
       " 'isdigit',\n",
       " 'isidentifier',\n",
       " 'islower',\n",
       " 'isnumeric',\n",
       " 'isprintable',\n",
       " 'isspace',\n",
       " 'istitle',\n",
       " 'isupper',\n",
       " 'join',\n",
       " 'ljust',\n",
       " 'lower',\n",
       " 'lstrip',\n",
       " 'maketrans',\n",
       " 'partition',\n",
       " 'removeprefix',\n",
       " 'removesuffix',\n",
       " 'replace',\n",
       " 'rfind',\n",
       " 'rindex',\n",
       " 'rjust',\n",
       " 'rpartition',\n",
       " 'rsplit',\n",
       " 'rstrip',\n",
       " 'split',\n",
       " 'splitlines',\n",
       " 'startswith',\n",
       " 'strip',\n",
       " 'swapcase',\n",
       " 'title',\n",
       " 'translate',\n",
       " 'upper',\n",
       " 'zfill']"
      ]
     },
     "execution_count": 77,
     "metadata": {},
     "output_type": "execute_result"
    }
   ],
   "source": [
    "dir('')"
   ]
  },
  {
   "cell_type": "code",
   "execution_count": 84,
   "id": "8d33eb8f",
   "metadata": {
    "ExecuteTime": {
     "end_time": "2023-11-07T15:29:48.709285Z",
     "start_time": "2023-11-07T15:29:48.690295Z"
    }
   },
   "outputs": [],
   "source": [
    "string1='Hai How are you you you hai'"
   ]
  },
  {
   "cell_type": "code",
   "execution_count": 89,
   "id": "f128252a",
   "metadata": {
    "ExecuteTime": {
     "end_time": "2023-11-07T15:31:06.527528Z",
     "start_time": "2023-11-07T15:31:06.510544Z"
    }
   },
   "outputs": [
    {
     "name": "stdout",
     "output_type": "stream",
     "text": [
      "3\n"
     ]
    }
   ],
   "source": [
    "if 'you' in  string1:\n",
    "    print(string1.count('you'))\n",
    "    "
   ]
  },
  {
   "cell_type": "code",
   "execution_count": null,
   "id": "0989826c",
   "metadata": {},
   "outputs": [],
   "source": []
  },
  {
   "cell_type": "code",
   "execution_count": null,
   "id": "ecee7639",
   "metadata": {},
   "outputs": [],
   "source": []
  },
  {
   "cell_type": "code",
   "execution_count": null,
   "id": "86c57113",
   "metadata": {},
   "outputs": [],
   "source": []
  },
  {
   "cell_type": "code",
   "execution_count": null,
   "id": "05c04bb8",
   "metadata": {},
   "outputs": [],
   "source": []
  }
 ],
 "metadata": {
  "kernelspec": {
   "display_name": "Python 3 (ipykernel)",
   "language": "python",
   "name": "python3"
  },
  "language_info": {
   "codemirror_mode": {
    "name": "ipython",
    "version": 3
   },
   "file_extension": ".py",
   "mimetype": "text/x-python",
   "name": "python",
   "nbconvert_exporter": "python",
   "pygments_lexer": "ipython3",
   "version": "3.9.7"
  }
 },
 "nbformat": 4,
 "nbformat_minor": 5
}
