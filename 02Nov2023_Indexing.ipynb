{
 "cells": [
  {
   "cell_type": "code",
   "execution_count": 1,
   "id": "84386568",
   "metadata": {
    "ExecuteTime": {
     "end_time": "2023-11-02T14:20:06.438653Z",
     "start_time": "2023-11-02T14:20:06.415667Z"
    }
   },
   "outputs": [
    {
     "name": "stdout",
     "output_type": "stream",
     "text": [
      "python"
     ]
    }
   ],
   "source": [
    "name='python'\n",
    "for i in range(6):\n",
    "    print(name[i],end='')"
   ]
  },
  {
   "cell_type": "code",
   "execution_count": 2,
   "id": "e36711dd",
   "metadata": {
    "ExecuteTime": {
     "end_time": "2023-11-02T14:21:44.993372Z",
     "start_time": "2023-11-02T14:21:44.650565Z"
    }
   },
   "outputs": [
    {
     "name": "stdout",
     "output_type": "stream",
     "text": [
      "python"
     ]
    },
    {
     "ename": "IndexError",
     "evalue": "string index out of range",
     "output_type": "error",
     "traceback": [
      "\u001b[1;31m---------------------------------------------------------------------------\u001b[0m",
      "\u001b[1;31mIndexError\u001b[0m                                Traceback (most recent call last)",
      "\u001b[1;32m~\\AppData\\Local\\Temp/ipykernel_9996/1318633728.py\u001b[0m in \u001b[0;36m<module>\u001b[1;34m\u001b[0m\n\u001b[0;32m      1\u001b[0m \u001b[0mname\u001b[0m\u001b[1;33m=\u001b[0m\u001b[1;34m'python'\u001b[0m\u001b[1;33m\u001b[0m\u001b[1;33m\u001b[0m\u001b[0m\n\u001b[0;32m      2\u001b[0m \u001b[1;32mfor\u001b[0m \u001b[0mi\u001b[0m \u001b[1;32min\u001b[0m \u001b[0mrange\u001b[0m\u001b[1;33m(\u001b[0m\u001b[1;36m7\u001b[0m\u001b[1;33m)\u001b[0m\u001b[1;33m:\u001b[0m\u001b[1;33m\u001b[0m\u001b[1;33m\u001b[0m\u001b[0m\n\u001b[1;32m----> 3\u001b[1;33m     \u001b[0mprint\u001b[0m\u001b[1;33m(\u001b[0m\u001b[0mname\u001b[0m\u001b[1;33m[\u001b[0m\u001b[0mi\u001b[0m\u001b[1;33m]\u001b[0m\u001b[1;33m,\u001b[0m\u001b[0mend\u001b[0m\u001b[1;33m=\u001b[0m\u001b[1;34m''\u001b[0m\u001b[1;33m)\u001b[0m\u001b[1;33m\u001b[0m\u001b[1;33m\u001b[0m\u001b[0m\n\u001b[0m",
      "\u001b[1;31mIndexError\u001b[0m: string index out of range"
     ]
    }
   ],
   "source": [
    "name='python'\n",
    "for i in range(7):\n",
    "    print(name[i],end='')"
   ]
  },
  {
   "cell_type": "code",
   "execution_count": 3,
   "id": "2335e8f2",
   "metadata": {
    "ExecuteTime": {
     "end_time": "2023-11-02T14:26:54.971991Z",
     "start_time": "2023-11-02T14:26:54.963995Z"
    }
   },
   "outputs": [
    {
     "name": "stdout",
     "output_type": "stream",
     "text": [
      "hello how are you"
     ]
    }
   ],
   "source": [
    "name1='hello how are you'\n",
    "for i in range(len(name1)):\n",
    "    print(name1[i],end='')"
   ]
  },
  {
   "cell_type": "code",
   "execution_count": 5,
   "id": "32822c34",
   "metadata": {
    "ExecuteTime": {
     "end_time": "2023-11-02T14:29:09.465854Z",
     "start_time": "2023-11-02T14:29:05.910791Z"
    }
   },
   "outputs": [
    {
     "name": "stdout",
     "output_type": "stream",
     "text": [
      "Enter the word!!!mobinshaik\n",
      "The index of m is 0\n",
      "The index of o is 1\n",
      "The index of b is 2\n",
      "The index of i is 3\n",
      "The index of n is 4\n",
      "The index of s is 5\n",
      "The index of h is 6\n",
      "The index of a is 7\n",
      "The index of i is 8\n",
      "The index of k is 9\n"
     ]
    }
   ],
   "source": [
    "w=input(\"Enter the word!!!\")\n",
    "for i in range(len(w)):\n",
    "    print(\"The index of {} is {}\".format(w[i],i))"
   ]
  },
  {
   "cell_type": "code",
   "execution_count": 6,
   "id": "b14f59dd",
   "metadata": {
    "ExecuteTime": {
     "end_time": "2023-11-02T14:32:49.779985Z",
     "start_time": "2023-11-02T14:32:46.446194Z"
    }
   },
   "outputs": [
    {
     "name": "stdout",
     "output_type": "stream",
     "text": [
      "Enter the word!!!python\n",
      "The index of p is 0\n",
      "The index of y is 1\n",
      "The index of t is 2\n",
      "The index of h is 3\n",
      "The index of o is 4\n",
      "The index of n is 5\n"
     ]
    }
   ],
   "source": [
    "i=0\n",
    "w=input(\"Enter the word!!!\")\n",
    "while i <(len(w)):\n",
    "    print(\"The index of {} is {}\".format(w[i],i))\n",
    "    i+=1"
   ]
  },
  {
   "cell_type": "code",
   "execution_count": 17,
   "id": "2741e38c",
   "metadata": {
    "ExecuteTime": {
     "end_time": "2023-11-02T14:44:05.418628Z",
     "start_time": "2023-11-02T14:44:03.334812Z"
    }
   },
   "outputs": [
    {
     "name": "stdout",
     "output_type": "stream",
     "text": [
      "Enter the word!!!mobin\n",
      "-5    -4    -3    -2    -1    "
     ]
    }
   ],
   "source": [
    "w=input(\"Enter the word!!!\")\n",
    "for i in range(-len(w),0):\n",
    "    #print(w[i],'   ',end='')\n",
    "    print(i,'   ',end='')"
   ]
  },
  {
   "cell_type": "code",
   "execution_count": 18,
   "id": "ed1b83e7",
   "metadata": {
    "ExecuteTime": {
     "end_time": "2023-11-02T14:45:52.905979Z",
     "start_time": "2023-11-02T14:45:50.845263Z"
    }
   },
   "outputs": [
    {
     "name": "stdout",
     "output_type": "stream",
     "text": [
      "Enter the word!!!mobin\n",
      "-5    -4    -3    -2    -1    "
     ]
    }
   ],
   "source": [
    "w=input(\"Enter the word!!!\")\n",
    "for i in range(len(w)):\n",
    "    #print(w[i],'   ',end='')\n",
    "    print(i-len(w),'   ',end='')"
   ]
  },
  {
   "cell_type": "code",
   "execution_count": 20,
   "id": "5cf4fd29",
   "metadata": {
    "ExecuteTime": {
     "end_time": "2023-11-02T14:49:35.263212Z",
     "start_time": "2023-11-02T14:49:33.389920Z"
    }
   },
   "outputs": [
    {
     "name": "stdout",
     "output_type": "stream",
     "text": [
      "Enter the word!!!mobin\n",
      "-5    -4    -3    -2    -1    "
     ]
    }
   ],
   "source": [
    "i=0\n",
    "w=input(\"Enter the word!!!\")\n",
    "while i <len(w):\n",
    "    #print(w[i],'   ',end='')\n",
    "    print(i-len(w),'   ',end='')\n",
    "    i+=1"
   ]
  },
  {
   "cell_type": "code",
   "execution_count": 21,
   "id": "e51d355c",
   "metadata": {
    "ExecuteTime": {
     "end_time": "2023-11-02T14:50:45.458774Z",
     "start_time": "2023-11-02T14:50:43.645380Z"
    }
   },
   "outputs": [
    {
     "name": "stdout",
     "output_type": "stream",
     "text": [
      "Enter the word!!!mobin\n",
      "-5    -4    -3    -2    -1    "
     ]
    }
   ],
   "source": [
    "i=-len(w)\n",
    "w=input(\"Enter the word!!!\")\n",
    "while i<0:\n",
    "    #print(w[i],'   ',end='')\n",
    "    print(i,'   ',end='')\n",
    "    i+=1"
   ]
  },
  {
   "cell_type": "code",
   "execution_count": 39,
   "id": "c05da566",
   "metadata": {
    "ExecuteTime": {
     "end_time": "2023-11-02T14:56:58.885239Z",
     "start_time": "2023-11-02T14:56:55.163249Z"
    }
   },
   "outputs": [
    {
     "name": "stdout",
     "output_type": "stream",
     "text": [
      "Enter the word!!!python\n",
      "-6    -5    -4    -3    -2    -1    "
     ]
    }
   ],
   "source": [
    "i=len(w)\n",
    "w=input(\"Enter the word!!!\")\n",
    "while i>0:\n",
    "    #print(w[i],'   ',end='')\n",
    "    print(-i-1+1,'   ',end='')\n",
    "    i-=1"
   ]
  },
  {
   "cell_type": "code",
   "execution_count": 41,
   "id": "f70d62fc",
   "metadata": {
    "ExecuteTime": {
     "end_time": "2023-11-02T14:58:47.965691Z",
     "start_time": "2023-11-02T14:58:45.166627Z"
    }
   },
   "outputs": [
    {
     "name": "stdout",
     "output_type": "stream",
     "text": [
      "Enter the word!!!mobin\n"
     ]
    }
   ],
   "source": [
    "w=input(\"Enter the word!!!\")\n",
    "for i in range(len(w),0):\n",
    "    print(\"The index of {} is {}\".format(w[i],i))"
   ]
  },
  {
   "cell_type": "code",
   "execution_count": 47,
   "id": "fdf3de1a",
   "metadata": {
    "ExecuteTime": {
     "end_time": "2023-11-02T15:04:18.177097Z",
     "start_time": "2023-11-02T15:04:16.456691Z"
    }
   },
   "outputs": [
    {
     "name": "stdout",
     "output_type": "stream",
     "text": [
      "Enter the word!!!mobin\n",
      "The postive index is 0 and negative index is -5 for m\n",
      "The postive index is 1 and negative index is -4 for o\n",
      "The postive index is 2 and negative index is -3 for b\n",
      "The postive index is 3 and negative index is -2 for i\n",
      "The postive index is 4 and negative index is -1 for n\n"
     ]
    }
   ],
   "source": [
    "w=input(\"Enter the word!!!\")\n",
    "for i in range(len(w)):\n",
    "    #print(w[i],'   ',end='')\n",
    "    print(\"The postive index is {} and negative index is {} for {}\".format(i,i-len(w),w[i]))"
   ]
  },
  {
   "cell_type": "code",
   "execution_count": 64,
   "id": "8dd2db01",
   "metadata": {
    "ExecuteTime": {
     "end_time": "2023-11-02T15:40:22.775792Z",
     "start_time": "2023-11-02T15:40:22.761803Z"
    }
   },
   "outputs": [
    {
     "name": "stdout",
     "output_type": "stream",
     "text": [
      "a index is: 1\n",
      "a index is: 8\n",
      "Sum of a's: 2\n",
      "Number of Vowels 7\n",
      "aioeu\n"
     ]
    }
   ],
   "source": [
    "w='hai how are you'\n",
    "sum3=0\n",
    "vowel=0\n",
    "str1=''\n",
    "for i in range(len(w)):\n",
    "    if w[i]=='a':\n",
    "        sum3+=1\n",
    "        print('a index is:',i)\n",
    "    if w[i] in('a','e','i','o','u'):\n",
    "        vowel+=1\n",
    "    if w[i] in ('aeiou'):\n",
    "        if w[i] not in str1:\n",
    "            str1+=w[i]\n",
    "     \n",
    "print(\"Sum of a's:\",sum3)\n",
    "print(\"Number of Vowels\",vowel)\n",
    "print(str1)"
   ]
  },
  {
   "cell_type": "code",
   "execution_count": null,
   "id": "3d882099",
   "metadata": {},
   "outputs": [],
   "source": []
  },
  {
   "cell_type": "code",
   "execution_count": null,
   "id": "7fe129b7",
   "metadata": {},
   "outputs": [],
   "source": []
  },
  {
   "cell_type": "code",
   "execution_count": null,
   "id": "fa6b0622",
   "metadata": {},
   "outputs": [],
   "source": []
  },
  {
   "cell_type": "code",
   "execution_count": null,
   "id": "bbed58be",
   "metadata": {},
   "outputs": [],
   "source": []
  },
  {
   "cell_type": "code",
   "execution_count": null,
   "id": "af486581",
   "metadata": {},
   "outputs": [],
   "source": []
  },
  {
   "cell_type": "code",
   "execution_count": null,
   "id": "5c21994b",
   "metadata": {},
   "outputs": [],
   "source": []
  }
 ],
 "metadata": {
  "kernelspec": {
   "display_name": "Python 3 (ipykernel)",
   "language": "python",
   "name": "python3"
  },
  "language_info": {
   "codemirror_mode": {
    "name": "ipython",
    "version": 3
   },
   "file_extension": ".py",
   "mimetype": "text/x-python",
   "name": "python",
   "nbconvert_exporter": "python",
   "pygments_lexer": "ipython3",
   "version": "3.9.7"
  }
 },
 "nbformat": 4,
 "nbformat_minor": 5
}
