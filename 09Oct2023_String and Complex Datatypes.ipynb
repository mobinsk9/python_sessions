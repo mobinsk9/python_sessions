{
 "cells": [
  {
   "cell_type": "markdown",
   "id": "d7a24ad1",
   "metadata": {},
   "source": [
    "# Strings\n",
    "- String means characters"
   ]
  },
  {
   "cell_type": "code",
   "execution_count": 1,
   "id": "3009636a",
   "metadata": {
    "ExecuteTime": {
     "end_time": "2023-10-09T14:13:36.049795Z",
     "start_time": "2023-10-09T14:13:35.699966Z"
    }
   },
   "outputs": [
    {
     "ename": "NameError",
     "evalue": "name 'python' is not defined",
     "output_type": "error",
     "traceback": [
      "\u001b[1;31m---------------------------------------------------------------------------\u001b[0m",
      "\u001b[1;31mNameError\u001b[0m                                 Traceback (most recent call last)",
      "\u001b[1;32m~\\AppData\\Local\\Temp/ipykernel_1672/3565536231.py\u001b[0m in \u001b[0;36m<module>\u001b[1;34m\u001b[0m\n\u001b[1;32m----> 1\u001b[1;33m \u001b[0mname\u001b[0m\u001b[1;33m=\u001b[0m\u001b[0mpython\u001b[0m\u001b[1;33m\u001b[0m\u001b[1;33m\u001b[0m\u001b[0m\n\u001b[0m",
      "\u001b[1;31mNameError\u001b[0m: name 'python' is not defined"
     ]
    }
   ],
   "source": [
    "name=python  #black color always a variable"
   ]
  },
  {
   "cell_type": "code",
   "execution_count": 2,
   "id": "2ac0ea95",
   "metadata": {
    "ExecuteTime": {
     "end_time": "2023-10-09T14:17:22.094020Z",
     "start_time": "2023-10-09T14:17:22.068055Z"
    }
   },
   "outputs": [
    {
     "data": {
      "text/plain": [
       "'python'"
      ]
     },
     "execution_count": 2,
     "metadata": {},
     "output_type": "execute_result"
    }
   ],
   "source": [
    "name1='python'  #Red color means Strings\n",
    "name1"
   ]
  },
  {
   "cell_type": "code",
   "execution_count": 3,
   "id": "abebd9c7",
   "metadata": {
    "ExecuteTime": {
     "end_time": "2023-10-09T14:17:32.696171Z",
     "start_time": "2023-10-09T14:17:32.683179Z"
    }
   },
   "outputs": [
    {
     "data": {
      "text/plain": [
       "str"
      ]
     },
     "execution_count": 3,
     "metadata": {},
     "output_type": "execute_result"
    }
   ],
   "source": [
    "type(name1)"
   ]
  },
  {
   "cell_type": "markdown",
   "id": "5134bf3d",
   "metadata": {},
   "source": [
    "- integer : int\n",
    "- float   : float\n",
    "- string  : str\n",
    "- complex : complex"
   ]
  },
  {
   "cell_type": "code",
   "execution_count": 4,
   "id": "46f0c2a2",
   "metadata": {
    "ExecuteTime": {
     "end_time": "2023-10-09T14:19:17.122524Z",
     "start_time": "2023-10-09T14:19:17.108999Z"
    }
   },
   "outputs": [
    {
     "data": {
      "text/plain": [
       "'python'"
      ]
     },
     "execution_count": 4,
     "metadata": {},
     "output_type": "execute_result"
    }
   ],
   "source": [
    "name2=\"python\"\n",
    "name2"
   ]
  },
  {
   "cell_type": "code",
   "execution_count": 6,
   "id": "19bcff6e",
   "metadata": {
    "ExecuteTime": {
     "end_time": "2023-10-09T14:19:30.063804Z",
     "start_time": "2023-10-09T14:19:30.053810Z"
    }
   },
   "outputs": [
    {
     "data": {
      "text/plain": [
       "str"
      ]
     },
     "execution_count": 6,
     "metadata": {},
     "output_type": "execute_result"
    }
   ],
   "source": [
    "type(name2)"
   ]
  },
  {
   "cell_type": "code",
   "execution_count": 10,
   "id": "4b70807d",
   "metadata": {
    "ExecuteTime": {
     "end_time": "2023-10-09T14:22:08.052587Z",
     "start_time": "2023-10-09T14:22:08.036618Z"
    }
   },
   "outputs": [
    {
     "ename": "SyntaxError",
     "evalue": "EOL while scanning string literal (Temp/ipykernel_1672/4247491355.py, line 1)",
     "output_type": "error",
     "traceback": [
      "\u001b[1;36m  File \u001b[1;32m\"C:\\Users\\admin\\AppData\\Local\\Temp/ipykernel_1672/4247491355.py\"\u001b[1;36m, line \u001b[1;32m1\u001b[0m\n\u001b[1;33m    print('hai\u001b[0m\n\u001b[1;37m               ^\u001b[0m\n\u001b[1;31mSyntaxError\u001b[0m\u001b[1;31m:\u001b[0m EOL while scanning string literal\n"
     ]
    }
   ],
   "source": [
    "print('hai \n",
    "how are you')"
   ]
  },
  {
   "cell_type": "code",
   "execution_count": 13,
   "id": "7c749ef5",
   "metadata": {
    "ExecuteTime": {
     "end_time": "2023-10-09T14:29:23.941751Z",
     "start_time": "2023-10-09T14:29:23.918758Z"
    }
   },
   "outputs": [
    {
     "data": {
      "text/plain": [
       "'hai                 \\nhow are you'"
      ]
     },
     "execution_count": 13,
     "metadata": {},
     "output_type": "execute_result"
    }
   ],
   "source": [
    "'''hai                 \n",
    "how are you'''\n",
    "#Doc string  In order to write some information about code"
   ]
  },
  {
   "cell_type": "markdown",
   "id": "8dda163d",
   "metadata": {},
   "source": []
  },
  {
   "cell_type": "code",
   "execution_count": 14,
   "id": "cfb04b13",
   "metadata": {
    "ExecuteTime": {
     "end_time": "2023-10-09T14:29:57.188470Z",
     "start_time": "2023-10-09T14:29:57.169484Z"
    }
   },
   "outputs": [
    {
     "data": {
      "text/plain": [
       "'hai                 \\nhow are you'"
      ]
     },
     "execution_count": 14,
     "metadata": {},
     "output_type": "execute_result"
    }
   ],
   "source": [
    "\"\"\"hai                 \n",
    "how are you\"\"\""
   ]
  },
  {
   "cell_type": "markdown",
   "id": "0ce15d69",
   "metadata": {
    "ExecuteTime": {
     "end_time": "2023-10-09T14:31:22.203040Z",
     "start_time": "2023-10-09T14:31:22.190048Z"
    }
   },
   "source": [
    "$Complex$ - $Conjugate$"
   ]
  },
  {
   "cell_type": "markdown",
   "id": "f88caf2c",
   "metadata": {},
   "source": [
    "- It represents a+jb\n",
    "- complex\n",
    "- Where a is real number\n",
    "- where b is imaginary number\n",
    "- j = sqrt(-1)"
   ]
  },
  {
   "cell_type": "code",
   "execution_count": 20,
   "id": "c0347d45",
   "metadata": {
    "ExecuteTime": {
     "end_time": "2023-10-09T14:39:13.394883Z",
     "start_time": "2023-10-09T14:39:13.370897Z"
    }
   },
   "outputs": [
    {
     "data": {
      "text/plain": [
       "0j"
      ]
     },
     "execution_count": 20,
     "metadata": {},
     "output_type": "execute_result"
    }
   ],
   "source": [
    "complex()  #Real=0 and Imaginary=0\n",
    "# Cursor should be inside the braces\n",
    "# Shift+tab for parameters\n",
    "#If we are not providing inside the bracket, default value will apply\n",
    "#0+0j python output is 0j"
   ]
  },
  {
   "cell_type": "code",
   "execution_count": 21,
   "id": "5107417c",
   "metadata": {
    "ExecuteTime": {
     "end_time": "2023-10-09T14:42:28.024135Z",
     "start_time": "2023-10-09T14:42:28.002149Z"
    }
   },
   "outputs": [
    {
     "data": {
      "text/plain": [
       "(3+5j)"
      ]
     },
     "execution_count": 21,
     "metadata": {},
     "output_type": "execute_result"
    }
   ],
   "source": [
    "complex(3,5)"
   ]
  },
  {
   "cell_type": "code",
   "execution_count": 22,
   "id": "c478e572",
   "metadata": {
    "ExecuteTime": {
     "end_time": "2023-10-09T14:48:41.710876Z",
     "start_time": "2023-10-09T14:48:41.689910Z"
    }
   },
   "outputs": [
    {
     "data": {
      "text/plain": [
       "(3+10j)"
      ]
     },
     "execution_count": 22,
     "metadata": {},
     "output_type": "execute_result"
    }
   ],
   "source": [
    "num=3+10j\n",
    "num"
   ]
  },
  {
   "cell_type": "code",
   "execution_count": 23,
   "id": "a15950fe",
   "metadata": {
    "ExecuteTime": {
     "end_time": "2023-10-09T14:48:49.520937Z",
     "start_time": "2023-10-09T14:48:49.506921Z"
    }
   },
   "outputs": [
    {
     "data": {
      "text/plain": [
       "complex"
      ]
     },
     "execution_count": 23,
     "metadata": {},
     "output_type": "execute_result"
    }
   ],
   "source": [
    "type(num)"
   ]
  },
  {
   "cell_type": "code",
   "execution_count": 24,
   "id": "5c165e38",
   "metadata": {
    "ExecuteTime": {
     "end_time": "2023-10-09T14:48:57.473781Z",
     "start_time": "2023-10-09T14:48:57.458813Z"
    }
   },
   "outputs": [
    {
     "data": {
      "text/plain": [
       "3.0"
      ]
     },
     "execution_count": 24,
     "metadata": {},
     "output_type": "execute_result"
    }
   ],
   "source": [
    "num.real"
   ]
  },
  {
   "cell_type": "code",
   "execution_count": 25,
   "id": "c65e79b5",
   "metadata": {
    "ExecuteTime": {
     "end_time": "2023-10-09T14:49:05.530168Z",
     "start_time": "2023-10-09T14:49:05.513177Z"
    }
   },
   "outputs": [
    {
     "data": {
      "text/plain": [
       "10.0"
      ]
     },
     "execution_count": 25,
     "metadata": {},
     "output_type": "execute_result"
    }
   ],
   "source": [
    "num.imag"
   ]
  },
  {
   "cell_type": "code",
   "execution_count": null,
   "id": "b67c2b40",
   "metadata": {},
   "outputs": [],
   "source": []
  },
  {
   "cell_type": "code",
   "execution_count": null,
   "id": "95f6c031",
   "metadata": {},
   "outputs": [],
   "source": []
  },
  {
   "cell_type": "code",
   "execution_count": null,
   "id": "82a58948",
   "metadata": {},
   "outputs": [],
   "source": []
  },
  {
   "cell_type": "code",
   "execution_count": null,
   "id": "793e59c1",
   "metadata": {},
   "outputs": [],
   "source": []
  },
  {
   "cell_type": "code",
   "execution_count": null,
   "id": "16a266f5",
   "metadata": {},
   "outputs": [],
   "source": []
  },
  {
   "cell_type": "code",
   "execution_count": null,
   "id": "e42a3c28",
   "metadata": {},
   "outputs": [],
   "source": []
  },
  {
   "cell_type": "code",
   "execution_count": null,
   "id": "c1df1319",
   "metadata": {},
   "outputs": [],
   "source": []
  },
  {
   "cell_type": "code",
   "execution_count": null,
   "id": "98883aec",
   "metadata": {},
   "outputs": [],
   "source": []
  },
  {
   "cell_type": "code",
   "execution_count": null,
   "id": "3e53b33d",
   "metadata": {},
   "outputs": [],
   "source": []
  },
  {
   "cell_type": "code",
   "execution_count": null,
   "id": "d6500643",
   "metadata": {},
   "outputs": [],
   "source": []
  },
  {
   "cell_type": "code",
   "execution_count": null,
   "id": "dde768e4",
   "metadata": {},
   "outputs": [],
   "source": []
  }
 ],
 "metadata": {
  "kernelspec": {
   "display_name": "Python 3 (ipykernel)",
   "language": "python",
   "name": "python3"
  },
  "language_info": {
   "codemirror_mode": {
    "name": "ipython",
    "version": 3
   },
   "file_extension": ".py",
   "mimetype": "text/x-python",
   "name": "python",
   "nbconvert_exporter": "python",
   "pygments_lexer": "ipython3",
   "version": "3.9.7"
  }
 },
 "nbformat": 4,
 "nbformat_minor": 5
}
