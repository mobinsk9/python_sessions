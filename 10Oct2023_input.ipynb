{
 "cells": [
  {
   "cell_type": "markdown",
   "id": "43517075",
   "metadata": {},
   "source": [
    "$Print$"
   ]
  },
  {
   "cell_type": "code",
   "execution_count": 1,
   "id": "8cf504ce",
   "metadata": {
    "ExecuteTime": {
     "end_time": "2023-10-11T00:53:40.264350Z",
     "start_time": "2023-10-11T00:53:40.247358Z"
    }
   },
   "outputs": [
    {
     "name": "stdout",
     "output_type": "stream",
     "text": [
      "Hi\n"
     ]
    }
   ],
   "source": [
    "print('Hi')"
   ]
  },
  {
   "cell_type": "code",
   "execution_count": 2,
   "id": "3049f88b",
   "metadata": {
    "ExecuteTime": {
     "end_time": "2023-10-11T00:53:47.921853Z",
     "start_time": "2023-10-11T00:53:47.901834Z"
    }
   },
   "outputs": [
    {
     "name": "stdout",
     "output_type": "stream",
     "text": [
      "Hi\n"
     ]
    }
   ],
   "source": [
    "print(\"Hi\")"
   ]
  },
  {
   "cell_type": "code",
   "execution_count": 4,
   "id": "d0b29d8c",
   "metadata": {
    "ExecuteTime": {
     "end_time": "2023-10-11T00:54:06.895510Z",
     "start_time": "2023-10-11T00:54:06.881534Z"
    }
   },
   "outputs": [
    {
     "name": "stdout",
     "output_type": "stream",
     "text": [
      "How are You\n"
     ]
    }
   ],
   "source": [
    "print (\"How are You\")"
   ]
  },
  {
   "cell_type": "code",
   "execution_count": 7,
   "id": "6b2a23f6",
   "metadata": {
    "ExecuteTime": {
     "end_time": "2023-10-11T00:54:56.465237Z",
     "start_time": "2023-10-11T00:54:56.455266Z"
    }
   },
   "outputs": [
    {
     "name": "stdout",
     "output_type": "stream",
     "text": [
      "Hi \n",
      "How are you?\n"
     ]
    }
   ],
   "source": [
    "print(\"\"\"Hi \n",
    "How are you?\"\"\")"
   ]
  },
  {
   "cell_type": "code",
   "execution_count": 10,
   "id": "8afc3c7f",
   "metadata": {
    "ExecuteTime": {
     "end_time": "2023-10-11T00:55:52.974094Z",
     "start_time": "2023-10-11T00:55:52.959082Z"
    }
   },
   "outputs": [
    {
     "name": "stdout",
     "output_type": "stream",
     "text": [
      "Hi How are you?\n"
     ]
    }
   ],
   "source": [
    "print(\"Hi\",end=' ')\n",
    "print(\"How are you?\")  # Combaining all values to single line"
   ]
  },
  {
   "cell_type": "code",
   "execution_count": 13,
   "id": "0a1de1e3",
   "metadata": {
    "ExecuteTime": {
     "end_time": "2023-10-11T00:58:46.308651Z",
     "start_time": "2023-10-11T00:58:46.288660Z"
    }
   },
   "outputs": [
    {
     "name": "stdout",
     "output_type": "stream",
     "text": [
      "Hi How are You?\n"
     ]
    }
   ],
   "source": [
    "print('Hi',end=' ')\n",
    "print('How',end=' ')\n",
    "print('are',end=' ')\n",
    "print('You?') #Combaining all values into single line"
   ]
  },
  {
   "cell_type": "code",
   "execution_count": 11,
   "id": "9fd3c4fa",
   "metadata": {
    "ExecuteTime": {
     "end_time": "2023-10-11T00:56:50.648150Z",
     "start_time": "2023-10-11T00:56:50.637179Z"
    }
   },
   "outputs": [
    {
     "name": "stdout",
     "output_type": "stream",
     "text": [
      "My name is python\n"
     ]
    }
   ],
   "source": [
    "name='python'\n",
    "print(\"My name is\",name)"
   ]
  },
  {
   "cell_type": "code",
   "execution_count": 12,
   "id": "6709b819",
   "metadata": {
    "ExecuteTime": {
     "end_time": "2023-10-11T00:57:17.155723Z",
     "start_time": "2023-10-11T00:57:17.138732Z"
    }
   },
   "outputs": [
    {
     "name": "stdout",
     "output_type": "stream",
     "text": [
      "My name is python\n"
     ]
    }
   ],
   "source": [
    "print(\"My name is {}\".format(name))"
   ]
  },
  {
   "cell_type": "code",
   "execution_count": 15,
   "id": "05fbc77d",
   "metadata": {
    "ExecuteTime": {
     "end_time": "2023-10-11T01:00:31.596725Z",
     "start_time": "2023-10-11T01:00:31.581738Z"
    }
   },
   "outputs": [
    {
     "name": "stdout",
     "output_type": "stream",
     "text": [
      "The entered value is 30\n",
      "The entered value is 30\n"
     ]
    }
   ],
   "source": [
    "num1=30\n",
    "print(\"The entered value is\",num1)\n",
    "print(\"The entered value is {}\".format(num1))"
   ]
  },
  {
   "cell_type": "code",
   "execution_count": 18,
   "id": "c58a57e8",
   "metadata": {
    "ExecuteTime": {
     "end_time": "2023-10-11T01:02:19.851957Z",
     "start_time": "2023-10-11T01:02:19.840967Z"
    }
   },
   "outputs": [
    {
     "name": "stdout",
     "output_type": "stream",
     "text": [
      "The addition of 10 and 20 is: 30\n",
      "The addition of 10 and 20 is: 30\n"
     ]
    }
   ],
   "source": [
    "a=10\n",
    "b=20\n",
    "c=a+b\n",
    "print(\"The addition of\",a,\"and\",b,\"is:\",c)\n",
    "print(\"The addition of {} and {} is: {}\".format(a,b,c))"
   ]
  },
  {
   "cell_type": "code",
   "execution_count": 20,
   "id": "c266cff0",
   "metadata": {
    "ExecuteTime": {
     "end_time": "2023-10-11T01:03:56.422564Z",
     "start_time": "2023-10-11T01:03:56.413572Z"
    }
   },
   "outputs": [
    {
     "name": "stdout",
     "output_type": "stream",
     "text": [
      "The multiplication of 20 and 30 is: 600\n",
      "The multiplication of 20 and 30 is: 600\n"
     ]
    }
   ],
   "source": [
    "a=20\n",
    "b=30\n",
    "mul=a*b\n",
    "print(\"The multiplication of\",a,\"and\",b,\"is:\",mul)\n",
    "print(\"The multiplication of {} and {} is: {}\".format(a,b,mul))"
   ]
  },
  {
   "cell_type": "code",
   "execution_count": 23,
   "id": "41a0b9c8",
   "metadata": {
    "ExecuteTime": {
     "end_time": "2023-10-11T01:04:51.555950Z",
     "start_time": "2023-10-11T01:04:49.874875Z"
    }
   },
   "outputs": [
    {
     "name": "stdout",
     "output_type": "stream",
     "text": [
      "Please enter a Value:20\n"
     ]
    },
    {
     "data": {
      "text/plain": [
       "'20'"
      ]
     },
     "execution_count": 23,
     "metadata": {},
     "output_type": "execute_result"
    }
   ],
   "source": [
    "a=input(\"Please enter a Value:\")\n",
    "a\n",
    "#Output is in string format"
   ]
  },
  {
   "cell_type": "code",
   "execution_count": 24,
   "id": "970d3540",
   "metadata": {
    "ExecuteTime": {
     "end_time": "2023-10-11T01:05:30.342601Z",
     "start_time": "2023-10-11T01:05:27.123754Z"
    }
   },
   "outputs": [
    {
     "name": "stdout",
     "output_type": "stream",
     "text": [
      "Enter name of the Student:Mobin\n"
     ]
    },
    {
     "data": {
      "text/plain": [
       "'Mobin'"
      ]
     },
     "execution_count": 24,
     "metadata": {},
     "output_type": "execute_result"
    }
   ],
   "source": [
    "name=input(\"Enter name of the Student:\")\n",
    "name\n",
    "# Output is in string format"
   ]
  },
  {
   "cell_type": "code",
   "execution_count": 25,
   "id": "41a5c064",
   "metadata": {
    "ExecuteTime": {
     "end_time": "2023-10-11T01:06:14.151293Z",
     "start_time": "2023-10-11T01:06:14.136304Z"
    }
   },
   "outputs": [
    {
     "data": {
      "text/plain": [
       "'20Mobin'"
      ]
     },
     "execution_count": 25,
     "metadata": {},
     "output_type": "execute_result"
    }
   ],
   "source": [
    "sum=a+name\n",
    "sum\n",
    "# Above both values are Strings"
   ]
  },
  {
   "cell_type": "code",
   "execution_count": null,
   "id": "b4dd9f81",
   "metadata": {},
   "outputs": [],
   "source": [
    "#If we want to convert the data types we need to use Data Connversion (Type Casting)"
   ]
  },
  {
   "cell_type": "code",
   "execution_count": 27,
   "id": "03e8f73d",
   "metadata": {
    "ExecuteTime": {
     "end_time": "2023-10-11T01:08:18.148605Z",
     "start_time": "2023-10-11T01:08:16.345633Z"
    }
   },
   "outputs": [
    {
     "name": "stdout",
     "output_type": "stream",
     "text": [
      "Please enter a value:30\n",
      "30\n"
     ]
    },
    {
     "data": {
      "text/plain": [
       "str"
      ]
     },
     "execution_count": 27,
     "metadata": {},
     "output_type": "execute_result"
    }
   ],
   "source": [
    "a=input(\"Please enter a value:\")\n",
    "print(a)\n",
    "type(a)"
   ]
  },
  {
   "cell_type": "code",
   "execution_count": 29,
   "id": "02d8dd38",
   "metadata": {
    "ExecuteTime": {
     "end_time": "2023-10-11T01:09:07.559313Z",
     "start_time": "2023-10-11T01:09:07.537323Z"
    }
   },
   "outputs": [
    {
     "name": "stdout",
     "output_type": "stream",
     "text": [
      "30\n"
     ]
    },
    {
     "data": {
      "text/plain": [
       "int"
      ]
     },
     "execution_count": 29,
     "metadata": {},
     "output_type": "execute_result"
    }
   ],
   "source": [
    "#If we want to change the same from Str to Int\n",
    "a=int(a)\n",
    "print(a)\n",
    "type(a)"
   ]
  },
  {
   "cell_type": "code",
   "execution_count": 30,
   "id": "a14f00ca",
   "metadata": {
    "ExecuteTime": {
     "end_time": "2023-10-11T01:09:46.084789Z",
     "start_time": "2023-10-11T01:09:43.403326Z"
    }
   },
   "outputs": [
    {
     "name": "stdout",
     "output_type": "stream",
     "text": [
      "Enter a Value:300\n",
      "300\n"
     ]
    },
    {
     "data": {
      "text/plain": [
       "int"
      ]
     },
     "execution_count": 30,
     "metadata": {},
     "output_type": "execute_result"
    }
   ],
   "source": [
    "# In another way\n",
    "a=int(input(\"Enter a Value:\"))\n",
    "print(a)\n",
    "type(a)"
   ]
  },
  {
   "cell_type": "code",
   "execution_count": 31,
   "id": "60fbc2dc",
   "metadata": {
    "ExecuteTime": {
     "end_time": "2023-10-11T01:12:20.109345Z",
     "start_time": "2023-10-11T01:12:16.076219Z"
    }
   },
   "outputs": [
    {
     "name": "stdout",
     "output_type": "stream",
     "text": [
      "Enter a Value:20\n",
      "Enter b Value:30\n",
      "Addition of 20 and 30 is: 50\n",
      "Addition of 20 and 30 is: 50\n"
     ]
    }
   ],
   "source": [
    "#Addition off two numbers\n",
    "# method1\n",
    "a=input(\"Enter a Value:\")\n",
    "b=input(\"Enter b Value:\")\n",
    "c=int(a)+int(b)\n",
    "print(\"Addition of\",a, \"and\",b,\"is:\",c)\n",
    "print(\"Addition of {} and {} is: {}\".format(a,b,c))"
   ]
  },
  {
   "cell_type": "code",
   "execution_count": 32,
   "id": "5dd7b4f9",
   "metadata": {
    "ExecuteTime": {
     "end_time": "2023-10-11T01:13:08.427467Z",
     "start_time": "2023-10-11T01:13:03.514798Z"
    }
   },
   "outputs": [
    {
     "name": "stdout",
     "output_type": "stream",
     "text": [
      "Enter a Value:300\n",
      "Enter b Value:500\n",
      "Addition of 300 and 500 is: 800\n",
      "Addition of 300 and 500 is: 800\n"
     ]
    }
   ],
   "source": [
    "#Method2\n",
    "a=int(input(\"Enter a Value:\"))\n",
    "b=int(input(\"Enter b Value:\"))\n",
    "c=a+b\n",
    "print(\"Addition of\",a, \"and\",b,\"is:\",c)\n",
    "print(\"Addition of {} and {} is: {}\".format(a,b,c))"
   ]
  },
  {
   "cell_type": "code",
   "execution_count": null,
   "id": "21ec7735",
   "metadata": {},
   "outputs": [],
   "source": []
  },
  {
   "cell_type": "code",
   "execution_count": null,
   "id": "c1853333",
   "metadata": {},
   "outputs": [],
   "source": []
  }
 ],
 "metadata": {
  "kernelspec": {
   "display_name": "Python 3 (ipykernel)",
   "language": "python",
   "name": "python3"
  },
  "language_info": {
   "codemirror_mode": {
    "name": "ipython",
    "version": 3
   },
   "file_extension": ".py",
   "mimetype": "text/x-python",
   "name": "python",
   "nbconvert_exporter": "python",
   "pygments_lexer": "ipython3",
   "version": "3.9.7"
  }
 },
 "nbformat": 4,
 "nbformat_minor": 5
}
