{
 "cells": [
  {
   "cell_type": "code",
   "execution_count": 1,
   "id": "931c503d",
   "metadata": {
    "ExecuteTime": {
     "end_time": "2023-11-16T14:05:17.209396Z",
     "start_time": "2023-11-16T14:05:17.203400Z"
    }
   },
   "outputs": [],
   "source": [
    "d1={'a':100,'b':200,'c':300}\n",
    "d2={'d':200,'e':400,'f':500}"
   ]
  },
  {
   "cell_type": "code",
   "execution_count": 2,
   "id": "f126ad41",
   "metadata": {
    "ExecuteTime": {
     "end_time": "2023-11-16T14:05:23.082265Z",
     "start_time": "2023-11-16T14:05:22.623526Z"
    }
   },
   "outputs": [
    {
     "ename": "TypeError",
     "evalue": "unsupported operand type(s) for +: 'dict' and 'dict'",
     "output_type": "error",
     "traceback": [
      "\u001b[1;31m---------------------------------------------------------------------------\u001b[0m",
      "\u001b[1;31mTypeError\u001b[0m                                 Traceback (most recent call last)",
      "\u001b[1;32m~\\AppData\\Local\\Temp/ipykernel_8020/833095442.py\u001b[0m in \u001b[0;36m<module>\u001b[1;34m\u001b[0m\n\u001b[1;32m----> 1\u001b[1;33m \u001b[0md1\u001b[0m\u001b[1;33m+\u001b[0m\u001b[0md2\u001b[0m\u001b[1;33m\u001b[0m\u001b[1;33m\u001b[0m\u001b[0m\n\u001b[0m",
      "\u001b[1;31mTypeError\u001b[0m: unsupported operand type(s) for +: 'dict' and 'dict'"
     ]
    }
   ],
   "source": [
    "d1+d2"
   ]
  },
  {
   "cell_type": "code",
   "execution_count": 3,
   "id": "6ecf408a",
   "metadata": {
    "ExecuteTime": {
     "end_time": "2023-11-16T14:05:49.957991Z",
     "start_time": "2023-11-16T14:05:49.937995Z"
    }
   },
   "outputs": [],
   "source": [
    "d1 = {'a': 100, 'b': 200, 'c':300}\n",
    "d2 = {'a': 300, 'b': 200, 'd':400}"
   ]
  },
  {
   "cell_type": "code",
   "execution_count": 6,
   "id": "9ac75148",
   "metadata": {
    "ExecuteTime": {
     "end_time": "2023-11-16T14:07:02.560299Z",
     "start_time": "2023-11-16T14:07:02.525318Z"
    }
   },
   "outputs": [
    {
     "data": {
      "text/plain": [
       "{'a': 100, 'b': 200, 'd': 400, 'c': 300}"
      ]
     },
     "execution_count": 6,
     "metadata": {},
     "output_type": "execute_result"
    }
   ],
   "source": [
    "d2.update(d1)\n",
    "d2"
   ]
  },
  {
   "cell_type": "code",
   "execution_count": 8,
   "id": "9b9ed045",
   "metadata": {
    "ExecuteTime": {
     "end_time": "2023-11-16T14:08:52.169522Z",
     "start_time": "2023-11-16T14:08:52.150534Z"
    }
   },
   "outputs": [
    {
     "data": {
      "text/plain": [
       "20"
      ]
     },
     "execution_count": 8,
     "metadata": {},
     "output_type": "execute_result"
    }
   ],
   "source": [
    "def add(x):\n",
    "    return x+10\n",
    "add(10)"
   ]
  },
  {
   "cell_type": "code",
   "execution_count": 13,
   "id": "db79bb2a",
   "metadata": {
    "ExecuteTime": {
     "end_time": "2023-11-16T14:12:28.937567Z",
     "start_time": "2023-11-16T14:12:28.924572Z"
    }
   },
   "outputs": [
    {
     "data": {
      "text/plain": [
       "20"
      ]
     },
     "execution_count": 13,
     "metadata": {},
     "output_type": "execute_result"
    }
   ],
   "source": [
    "# How many arguments are there\n",
    "# What are you returning\n",
    "\n",
    "#<function_name>=lambda <argument names>:<return>\n",
    "add=lambda x:x+10\n",
    "\n",
    "add(10)"
   ]
  },
  {
   "cell_type": "code",
   "execution_count": 15,
   "id": "60535411",
   "metadata": {
    "ExecuteTime": {
     "end_time": "2023-11-16T14:14:11.501732Z",
     "start_time": "2023-11-16T14:14:11.479742Z"
    }
   },
   "outputs": [],
   "source": [
    "def mul(num):\n",
    "    return(num*num)"
   ]
  },
  {
   "cell_type": "code",
   "execution_count": 14,
   "id": "4cdbade1",
   "metadata": {
    "ExecuteTime": {
     "end_time": "2023-11-16T14:13:43.613933Z",
     "start_time": "2023-11-16T14:13:43.590918Z"
    }
   },
   "outputs": [
    {
     "data": {
      "text/plain": [
       "25"
      ]
     },
     "execution_count": 14,
     "metadata": {},
     "output_type": "execute_result"
    }
   ],
   "source": [
    "mul=lambda num:num*num\n",
    "mul(5)"
   ]
  },
  {
   "cell_type": "code",
   "execution_count": null,
   "id": "7f1b9d2f",
   "metadata": {},
   "outputs": [],
   "source": [
    "def cube(val):\n",
    "    return(val*val*val)"
   ]
  },
  {
   "cell_type": "code",
   "execution_count": 16,
   "id": "6f91de5b",
   "metadata": {
    "ExecuteTime": {
     "end_time": "2023-11-16T14:15:04.419019Z",
     "start_time": "2023-11-16T14:15:04.396032Z"
    }
   },
   "outputs": [
    {
     "data": {
      "text/plain": [
       "27"
      ]
     },
     "execution_count": 16,
     "metadata": {},
     "output_type": "execute_result"
    }
   ],
   "source": [
    "cube=lambda val:val*val*val\n",
    "cube(3)"
   ]
  },
  {
   "cell_type": "code",
   "execution_count": null,
   "id": "f7d60999",
   "metadata": {},
   "outputs": [],
   "source": [
    "def sum1(a,b):\n",
    "    return(a+B)"
   ]
  },
  {
   "cell_type": "code",
   "execution_count": 18,
   "id": "e0c68b24",
   "metadata": {
    "ExecuteTime": {
     "end_time": "2023-11-16T14:18:14.461198Z",
     "start_time": "2023-11-16T14:18:14.448205Z"
    }
   },
   "outputs": [
    {
     "data": {
      "text/plain": [
       "30"
      ]
     },
     "execution_count": 18,
     "metadata": {},
     "output_type": "execute_result"
    }
   ],
   "source": [
    "sum1=lambda a,b:a+b\n",
    "sum1(10,20)"
   ]
  },
  {
   "cell_type": "code",
   "execution_count": 19,
   "id": "438dd713",
   "metadata": {
    "ExecuteTime": {
     "end_time": "2023-11-16T14:19:40.078071Z",
     "start_time": "2023-11-16T14:19:40.065083Z"
    }
   },
   "outputs": [
    {
     "data": {
      "text/plain": [
       "60"
      ]
     },
     "execution_count": 19,
     "metadata": {},
     "output_type": "execute_result"
    }
   ],
   "source": [
    "sum2=lambda a,b,c:a+b+c\n",
    "sum2(10,20,30)"
   ]
  },
  {
   "cell_type": "code",
   "execution_count": 20,
   "id": "fdd9ecbc",
   "metadata": {
    "ExecuteTime": {
     "end_time": "2023-11-16T14:20:12.089070Z",
     "start_time": "2023-11-16T14:20:12.074079Z"
    }
   },
   "outputs": [
    {
     "data": {
      "text/plain": [
       "20.0"
      ]
     },
     "execution_count": 20,
     "metadata": {},
     "output_type": "execute_result"
    }
   ],
   "source": [
    "avg=lambda a,b,c:(a+b+c)/3\n",
    "avg(10,20,30)"
   ]
  },
  {
   "cell_type": "code",
   "execution_count": 21,
   "id": "5b8fcda9",
   "metadata": {
    "ExecuteTime": {
     "end_time": "2023-11-16T14:21:07.701115Z",
     "start_time": "2023-11-16T14:21:07.677126Z"
    }
   },
   "outputs": [
    {
     "data": {
      "text/plain": [
       "43.333333333333336"
      ]
     },
     "execution_count": 21,
     "metadata": {},
     "output_type": "execute_result"
    }
   ],
   "source": [
    "avg=lambda a,b,c=100:(a+b+c)/3\n",
    "avg(10,20)"
   ]
  },
  {
   "cell_type": "code",
   "execution_count": 22,
   "id": "35d69649",
   "metadata": {
    "ExecuteTime": {
     "end_time": "2023-11-16T14:22:20.516449Z",
     "start_time": "2023-11-16T14:22:20.504454Z"
    }
   },
   "outputs": [
    {
     "data": {
      "text/plain": [
       "43.33"
      ]
     },
     "execution_count": 22,
     "metadata": {},
     "output_type": "execute_result"
    }
   ],
   "source": [
    "avg=lambda a,b,c=100:round((a+b+c)/3,2)\n",
    "avg(10,20)"
   ]
  },
  {
   "cell_type": "code",
   "execution_count": 23,
   "id": "3097498c",
   "metadata": {
    "ExecuteTime": {
     "end_time": "2023-11-16T14:23:46.899357Z",
     "start_time": "2023-11-16T14:23:46.886374Z"
    }
   },
   "outputs": [
    {
     "data": {
      "text/plain": [
       "100"
      ]
     },
     "execution_count": 23,
     "metadata": {},
     "output_type": "execute_result"
    }
   ],
   "source": [
    "def greater(num1,num2):\n",
    "    if num1>num2:\n",
    "        return num1\n",
    "    else:\n",
    "        return num2\n",
    "greater(50,100)"
   ]
  },
  {
   "cell_type": "code",
   "execution_count": null,
   "id": "83e0f5ad",
   "metadata": {},
   "outputs": [],
   "source": [
    "#<function_name>=lambda <arguments>: output if(condition) else output"
   ]
  },
  {
   "cell_type": "code",
   "execution_count": 30,
   "id": "59ae4a15",
   "metadata": {
    "ExecuteTime": {
     "end_time": "2023-11-16T14:27:12.919305Z",
     "start_time": "2023-11-16T14:27:12.893786Z"
    }
   },
   "outputs": [
    {
     "data": {
      "text/plain": [
       "100"
      ]
     },
     "execution_count": 30,
     "metadata": {},
     "output_type": "execute_result"
    }
   ],
   "source": [
    "greater=lambda num1,num2 : num1 if (num1>num2) else num2\n",
    "greater(50,100)"
   ]
  },
  {
   "cell_type": "code",
   "execution_count": 32,
   "id": "6f5030bb",
   "metadata": {
    "ExecuteTime": {
     "end_time": "2023-11-16T14:39:04.425466Z",
     "start_time": "2023-11-16T14:39:04.413477Z"
    }
   },
   "outputs": [
    {
     "ename": "SyntaxError",
     "evalue": "invalid syntax (Temp/ipykernel_8020/679182538.py, line 3)",
     "output_type": "error",
     "traceback": [
      "\u001b[1;36m  File \u001b[1;32m\"C:\\Users\\admin\\AppData\\Local\\Temp/ipykernel_8020/679182538.py\"\u001b[1;36m, line \u001b[1;32m3\u001b[0m\n\u001b[1;33m    op=lambda list1:op.append(i.capitalize) for i in list1\u001b[0m\n\u001b[1;37m                                            ^\u001b[0m\n\u001b[1;31mSyntaxError\u001b[0m\u001b[1;31m:\u001b[0m invalid syntax\n"
     ]
    }
   ],
   "source": [
    "list1=['hyd','blr','mum']\n",
    "op=[]\n",
    "op=lambda list1:op.append(i.capitalize) for i in list1"
   ]
  },
  {
   "cell_type": "code",
   "execution_count": 33,
   "id": "b846011e",
   "metadata": {
    "ExecuteTime": {
     "end_time": "2023-11-16T14:42:48.439117Z",
     "start_time": "2023-11-16T14:42:48.430137Z"
    }
   },
   "outputs": [
    {
     "data": {
      "text/plain": [
       "['Hyd', 'Blr', 'Mum']"
      ]
     },
     "execution_count": 33,
     "metadata": {},
     "output_type": "execute_result"
    }
   ],
   "source": [
    "list1=['hyd','blr','mum']\n",
    "output=[i.capitalize() for i in list1]\n",
    "output"
   ]
  },
  {
   "cell_type": "code",
   "execution_count": 41,
   "id": "7a2dd198",
   "metadata": {
    "ExecuteTime": {
     "end_time": "2023-11-16T14:55:50.577349Z",
     "start_time": "2023-11-16T14:55:50.556353Z"
    }
   },
   "outputs": [
    {
     "data": {
      "text/plain": [
       "['Hyd', 'Blr', 'Mum']"
      ]
     },
     "execution_count": 41,
     "metadata": {},
     "output_type": "execute_result"
    }
   ],
   "source": [
    "list(map(lambda i:i.capitalize(),list1))\n",
    "\n",
    "# Step1: Create a lambda function     lambda i:i.capitalize()\n",
    "# Step2: add your iterator   list1     Anything list/tuple/string\n",
    "# Step3: mapping\n",
    "# Stpe4 need to convert anything list or tuple"
   ]
  },
  {
   "cell_type": "code",
   "execution_count": 42,
   "id": "47aaa914",
   "metadata": {
    "ExecuteTime": {
     "end_time": "2023-11-16T14:56:03.330230Z",
     "start_time": "2023-11-16T14:56:03.322234Z"
    }
   },
   "outputs": [
    {
     "data": {
      "text/plain": [
       "('Hyd', 'Blr', 'Mum')"
      ]
     },
     "execution_count": 42,
     "metadata": {},
     "output_type": "execute_result"
    }
   ],
   "source": [
    "tuple(map(lambda i:i.capitalize(),list1))"
   ]
  },
  {
   "cell_type": "code",
   "execution_count": null,
   "id": "996f999d",
   "metadata": {},
   "outputs": [],
   "source": []
  },
  {
   "cell_type": "code",
   "execution_count": 35,
   "id": "4942236a",
   "metadata": {
    "ExecuteTime": {
     "end_time": "2023-11-16T14:49:08.785747Z",
     "start_time": "2023-11-16T14:49:08.777753Z"
    }
   },
   "outputs": [],
   "source": [
    "val=reversed('Python')"
   ]
  },
  {
   "cell_type": "code",
   "execution_count": 36,
   "id": "8ae0292f",
   "metadata": {
    "ExecuteTime": {
     "end_time": "2023-11-16T14:49:21.426474Z",
     "start_time": "2023-11-16T14:49:21.405485Z"
    }
   },
   "outputs": [
    {
     "name": "stdout",
     "output_type": "stream",
     "text": [
      "n\n",
      "o\n",
      "h\n",
      "t\n",
      "y\n",
      "P\n"
     ]
    }
   ],
   "source": [
    "for i in val:\n",
    "    print(i)"
   ]
  },
  {
   "cell_type": "code",
   "execution_count": 45,
   "id": "7d4f193c",
   "metadata": {
    "ExecuteTime": {
     "end_time": "2023-11-16T15:02:15.845825Z",
     "start_time": "2023-11-16T15:02:15.829854Z"
    }
   },
   "outputs": [
    {
     "data": {
      "text/plain": [
       "[1, 4, 9, 16]"
      ]
     },
     "execution_count": 45,
     "metadata": {},
     "output_type": "execute_result"
    }
   ],
   "source": [
    "list1=[1,2,3,4]\n",
    "list(map(lambda i:i*i,list1))"
   ]
  },
  {
   "cell_type": "code",
   "execution_count": 52,
   "id": "1a7d5aff",
   "metadata": {
    "ExecuteTime": {
     "end_time": "2023-11-16T15:07:09.049503Z",
     "start_time": "2023-11-16T15:07:03.896618Z"
    }
   },
   "outputs": [
    {
     "name": "stdout",
     "output_type": "stream",
     "text": [
      "Enter list value10,20,30,40,50\n",
      "[100, 400, 900, 1600, 2500]\n"
     ]
    }
   ],
   "source": [
    "def square():\n",
    "    op=[]\n",
    "    list=eval(input(\"Enter list value\"))\n",
    "    for i in list:\n",
    "        op.append(i*i)\n",
    "    print(op)\n",
    "square()"
   ]
  },
  {
   "cell_type": "code",
   "execution_count": 57,
   "id": "6076339e",
   "metadata": {
    "ExecuteTime": {
     "end_time": "2023-11-16T15:15:17.362768Z",
     "start_time": "2023-11-16T15:15:17.349778Z"
    }
   },
   "outputs": [
    {
     "data": {
      "text/plain": [
       "['biryani', 'Buvaneswar', 'rasagulla']"
      ]
     },
     "execution_count": 57,
     "metadata": {},
     "output_type": "execute_result"
    }
   ],
   "source": [
    "list1=['hyd','biryani','Buvaneswar','rasagulla']\n",
    "list(filter(lambda i:len(i)>5 ,list1))"
   ]
  },
  {
   "cell_type": "code",
   "execution_count": 58,
   "id": "12cb20cc",
   "metadata": {
    "ExecuteTime": {
     "end_time": "2023-11-16T15:21:53.468251Z",
     "start_time": "2023-11-16T15:21:53.442288Z"
    }
   },
   "outputs": [
    {
     "data": {
      "text/plain": [
       "['biry#ani', 'Buva#neswar', 'rasagu#lla']"
      ]
     },
     "execution_count": 58,
     "metadata": {},
     "output_type": "execute_result"
    }
   ],
   "source": [
    "list1=['hyd','biry#ani','Buva#neswar','rasagu#lla']\n",
    "list(filter(lambda i:'#' in i ,list1))\n"
   ]
  },
  {
   "cell_type": "code",
   "execution_count": null,
   "id": "78c8ebd7",
   "metadata": {},
   "outputs": [],
   "source": [
    "l1=[1,2,3,4,5,6]\n",
    "output: [{'even':[2,4,6]},{'odd':[1,3,5]}]\n",
    "output:[{1:'odd',2:'even'}]"
   ]
  },
  {
   "cell_type": "code",
   "execution_count": 71,
   "id": "f1185748",
   "metadata": {
    "ExecuteTime": {
     "end_time": "2023-11-16T15:36:28.652713Z",
     "start_time": "2023-11-16T15:36:28.633185Z"
    }
   },
   "outputs": [
    {
     "data": {
      "text/plain": [
       "[{1: 'odd'}, {2: 'even'}, {3: 'odd'}, {4: 'even'}, {5: 'odd'}, {6: 'even'}]"
      ]
     },
     "execution_count": 71,
     "metadata": {},
     "output_type": "execute_result"
    }
   ],
   "source": [
    "l1=[1,2,3,4,5,6]\n",
    "list(map(lambda i:{i:'even'} if i%2==0 else {i:'odd'},l1))"
   ]
  }
 ],
 "metadata": {
  "kernelspec": {
   "display_name": "Python 3 (ipykernel)",
   "language": "python",
   "name": "python3"
  },
  "language_info": {
   "codemirror_mode": {
    "name": "ipython",
    "version": 3
   },
   "file_extension": ".py",
   "mimetype": "text/x-python",
   "name": "python",
   "nbconvert_exporter": "python",
   "pygments_lexer": "ipython3",
   "version": "3.9.7"
  }
 },
 "nbformat": 4,
 "nbformat_minor": 5
}
