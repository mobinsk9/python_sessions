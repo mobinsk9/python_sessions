{
 "cells": [
  {
   "cell_type": "markdown",
   "id": "3fbc8747",
   "metadata": {},
   "source": [
    "In For loop we have two concepts\n",
    "    1. range\n",
    "    2. in"
   ]
  },
  {
   "cell_type": "markdown",
   "id": "569877e9",
   "metadata": {},
   "source": [
    "To check the ascii value"
   ]
  },
  {
   "cell_type": "code",
   "execution_count": 5,
   "id": "ffd17f26",
   "metadata": {
    "ExecuteTime": {
     "end_time": "2023-10-30T14:31:14.123132Z",
     "start_time": "2023-10-30T14:31:14.104146Z"
    }
   },
   "outputs": [
    {
     "data": {
      "text/plain": [
       "65"
      ]
     },
     "execution_count": 5,
     "metadata": {},
     "output_type": "execute_result"
    }
   ],
   "source": [
    "ord('A')"
   ]
  },
  {
   "cell_type": "code",
   "execution_count": 6,
   "id": "ec05e1b0",
   "metadata": {
    "ExecuteTime": {
     "end_time": "2023-10-30T14:31:18.631235Z",
     "start_time": "2023-10-30T14:31:18.615266Z"
    }
   },
   "outputs": [
    {
     "data": {
      "text/plain": [
       "97"
      ]
     },
     "execution_count": 6,
     "metadata": {},
     "output_type": "execute_result"
    }
   ],
   "source": [
    "ord('a')"
   ]
  },
  {
   "cell_type": "code",
   "execution_count": 9,
   "id": "c5283cfd",
   "metadata": {
    "ExecuteTime": {
     "end_time": "2023-10-30T14:31:58.011354Z",
     "start_time": "2023-10-30T14:31:57.995362Z"
    }
   },
   "outputs": [
    {
     "data": {
      "text/plain": [
       "'97'"
      ]
     },
     "execution_count": 9,
     "metadata": {},
     "output_type": "execute_result"
    }
   ],
   "source": [
    "ascii(97)"
   ]
  },
  {
   "cell_type": "code",
   "execution_count": 10,
   "id": "651ee956",
   "metadata": {
    "ExecuteTime": {
     "end_time": "2023-10-30T14:32:43.619779Z",
     "start_time": "2023-10-30T14:32:43.602789Z"
    }
   },
   "outputs": [
    {
     "ename": "TypeError",
     "evalue": "ord() expected a character, but string of length 5 found",
     "output_type": "error",
     "traceback": [
      "\u001b[1;31m---------------------------------------------------------------------------\u001b[0m",
      "\u001b[1;31mTypeError\u001b[0m                                 Traceback (most recent call last)",
      "\u001b[1;32m~\\AppData\\Local\\Temp/ipykernel_7864/2067675326.py\u001b[0m in \u001b[0;36m<module>\u001b[1;34m\u001b[0m\n\u001b[1;32m----> 1\u001b[1;33m \u001b[0mord\u001b[0m\u001b[1;33m(\u001b[0m\u001b[1;34m'Apple'\u001b[0m\u001b[1;33m)\u001b[0m\u001b[1;33m\u001b[0m\u001b[1;33m\u001b[0m\u001b[0m\n\u001b[0m",
      "\u001b[1;31mTypeError\u001b[0m: ord() expected a character, but string of length 5 found"
     ]
    }
   ],
   "source": [
    "ord('Apple')"
   ]
  },
  {
   "cell_type": "code",
   "execution_count": 11,
   "id": "c9a20bca",
   "metadata": {
    "ExecuteTime": {
     "end_time": "2023-10-30T14:33:09.009641Z",
     "start_time": "2023-10-30T14:33:08.993672Z"
    },
    "collapsed": true
   },
   "outputs": [
    {
     "data": {
      "text/plain": [
       "66"
      ]
     },
     "execution_count": 11,
     "metadata": {},
     "output_type": "execute_result"
    }
   ],
   "source": [
    "ord('B')"
   ]
  },
  {
   "cell_type": "code",
   "execution_count": 15,
   "id": "9f124d05",
   "metadata": {
    "ExecuteTime": {
     "end_time": "2023-10-30T14:35:06.074667Z",
     "start_time": "2023-10-30T14:35:06.061693Z"
    }
   },
   "outputs": [
    {
     "data": {
      "text/plain": [
       "(80, 112)"
      ]
     },
     "execution_count": 15,
     "metadata": {},
     "output_type": "execute_result"
    }
   ],
   "source": [
    "ord('P'),ord('p')"
   ]
  },
  {
   "cell_type": "code",
   "execution_count": 16,
   "id": "5ea79de6",
   "metadata": {
    "ExecuteTime": {
     "end_time": "2023-10-30T14:35:56.343189Z",
     "start_time": "2023-10-30T14:35:56.321200Z"
    }
   },
   "outputs": [
    {
     "data": {
      "text/plain": [
       "True"
      ]
     },
     "execution_count": 16,
     "metadata": {},
     "output_type": "execute_result"
    }
   ],
   "source": [
    "'Apple'>'APPle'"
   ]
  },
  {
   "cell_type": "code",
   "execution_count": 17,
   "id": "5839b519",
   "metadata": {
    "ExecuteTime": {
     "end_time": "2023-10-30T14:36:22.176496Z",
     "start_time": "2023-10-30T14:36:22.158507Z"
    }
   },
   "outputs": [
    {
     "data": {
      "text/plain": [
       "False"
      ]
     },
     "execution_count": 17,
     "metadata": {},
     "output_type": "execute_result"
    }
   ],
   "source": [
    "'Mobin'>'mobin'"
   ]
  },
  {
   "cell_type": "code",
   "execution_count": 18,
   "id": "e6a2cb98",
   "metadata": {
    "ExecuteTime": {
     "end_time": "2023-10-30T14:36:36.402254Z",
     "start_time": "2023-10-30T14:36:36.391265Z"
    }
   },
   "outputs": [
    {
     "data": {
      "text/plain": [
       "True"
      ]
     },
     "execution_count": 18,
     "metadata": {},
     "output_type": "execute_result"
    }
   ],
   "source": [
    "\"mobin\">\"Mobin\""
   ]
  },
  {
   "cell_type": "markdown",
   "id": "af9e26ad",
   "metadata": {},
   "source": [
    "ASCII  American Standard Code Information Interchange"
   ]
  },
  {
   "cell_type": "code",
   "execution_count": 20,
   "id": "968c2fd1",
   "metadata": {
    "ExecuteTime": {
     "end_time": "2023-10-30T14:39:37.094942Z",
     "start_time": "2023-10-30T14:39:37.074953Z"
    }
   },
   "outputs": [
    {
     "data": {
      "text/plain": [
       "('A', 65)"
      ]
     },
     "execution_count": 20,
     "metadata": {},
     "output_type": "execute_result"
    }
   ],
   "source": [
    "chr(65),ord('A')"
   ]
  },
  {
   "cell_type": "code",
   "execution_count": 36,
   "id": "165ea598",
   "metadata": {
    "ExecuteTime": {
     "end_time": "2023-10-30T14:48:48.269024Z",
     "start_time": "2023-10-30T14:48:48.243037Z"
    }
   },
   "outputs": [
    {
     "name": "stdout",
     "output_type": "stream",
     "text": [
      "33 ---> !\n",
      "34 ---> \"\n",
      "35 ---> #\n",
      "36 ---> $\n",
      "37 ---> %\n",
      "38 ---> &\n",
      "39 ---> '\n",
      "40 ---> (\n",
      "41 ---> )\n",
      "42 ---> *\n",
      "43 ---> +\n",
      "44 ---> ,\n",
      "45 ---> -\n",
      "46 ---> .\n",
      "47 ---> /\n",
      "48 ---> 0\n",
      "49 ---> 1\n",
      "50 ---> 2\n",
      "51 ---> 3\n",
      "52 ---> 4\n",
      "53 ---> 5\n",
      "54 ---> 6\n",
      "55 ---> 7\n",
      "56 ---> 8\n",
      "57 ---> 9\n",
      "58 ---> :\n",
      "59 ---> ;\n",
      "60 ---> <\n",
      "61 ---> =\n",
      "62 ---> >\n",
      "63 ---> ?\n",
      "64 ---> @\n",
      "65 ---> A\n",
      "66 ---> B\n",
      "67 ---> C\n",
      "68 ---> D\n",
      "69 ---> E\n",
      "70 ---> F\n",
      "71 ---> G\n",
      "72 ---> H\n",
      "73 ---> I\n",
      "74 ---> J\n",
      "75 ---> K\n",
      "76 ---> L\n",
      "77 ---> M\n",
      "78 ---> N\n",
      "79 ---> O\n",
      "80 ---> P\n",
      "81 ---> Q\n",
      "82 ---> R\n",
      "83 ---> S\n",
      "84 ---> T\n",
      "85 ---> U\n",
      "86 ---> V\n",
      "87 ---> W\n",
      "88 ---> X\n",
      "89 ---> Y\n",
      "90 ---> Z\n",
      "91 ---> [\n",
      "92 ---> \\\n",
      "93 ---> ]\n",
      "94 ---> ^\n",
      "95 ---> _\n",
      "96 ---> `\n",
      "97 ---> a\n",
      "98 ---> b\n",
      "99 ---> c\n",
      "100 ---> d\n",
      "101 ---> e\n",
      "102 ---> f\n",
      "103 ---> g\n",
      "104 ---> h\n",
      "105 ---> i\n",
      "106 ---> j\n",
      "107 ---> k\n",
      "108 ---> l\n",
      "109 ---> m\n",
      "110 ---> n\n",
      "111 ---> o\n",
      "112 ---> p\n",
      "113 ---> q\n",
      "114 ---> r\n",
      "115 ---> s\n",
      "116 ---> t\n",
      "117 ---> u\n",
      "118 ---> v\n",
      "119 ---> w\n",
      "120 ---> x\n",
      "121 ---> y\n",
      "122 ---> z\n",
      "123 ---> {\n",
      "124 ---> |\n",
      "125 ---> }\n",
      "126 ---> ~\n"
     ]
    }
   ],
   "source": [
    "for i in range(33,127):\n",
    "    print(i,'--->',chr(i))"
   ]
  },
  {
   "cell_type": "code",
   "execution_count": 47,
   "id": "6544131e",
   "metadata": {
    "ExecuteTime": {
     "end_time": "2023-10-30T14:55:59.370364Z",
     "start_time": "2023-10-30T14:55:59.353374Z"
    }
   },
   "outputs": [],
   "source": [
    "def ascii_checking(word):\n",
    "    try:\n",
    "        #word=input(\"Enter a Word to check the ASCII values\")\n",
    "        for i in (word):\n",
    "            print(i,'--->',ord(i))\n",
    "    except Exception as e:\n",
    "        print(e)"
   ]
  },
  {
   "cell_type": "code",
   "execution_count": 48,
   "id": "3ce0ebeb",
   "metadata": {
    "ExecuteTime": {
     "end_time": "2023-10-30T14:56:03.930802Z",
     "start_time": "2023-10-30T14:56:01.556200Z"
    }
   },
   "outputs": [
    {
     "name": "stdout",
     "output_type": "stream",
     "text": [
      "Enter a Word to check the ASCII valuesMOBIN\n",
      "M ---> 77\n",
      "O ---> 79\n",
      "B ---> 66\n",
      "I ---> 73\n",
      "N ---> 78\n"
     ]
    }
   ],
   "source": [
    "ascii_checking(word=input(\"Enter a Word to check the ASCII values\"))"
   ]
  },
  {
   "cell_type": "markdown",
   "id": "5005a18a",
   "metadata": {},
   "source": [
    "## Strings"
   ]
  },
  {
   "cell_type": "code",
   "execution_count": 52,
   "id": "58db84b7",
   "metadata": {
    "ExecuteTime": {
     "end_time": "2023-10-30T14:59:43.105681Z",
     "start_time": "2023-10-30T14:59:43.080695Z"
    }
   },
   "outputs": [
    {
     "name": "stdout",
     "output_type": "stream",
     "text": [
      "A ---> 65\n",
      "B ---> 66\n",
      "C ---> 67\n",
      "D ---> 68\n",
      "E ---> 69\n",
      "F ---> 70\n",
      "G ---> 71\n",
      "H ---> 72\n",
      "I ---> 73\n",
      "J ---> 74\n",
      "K ---> 75\n",
      "L ---> 76\n",
      "M ---> 77\n",
      "N ---> 78\n",
      "O ---> 79\n",
      "P ---> 80\n",
      "Q ---> 81\n",
      "R ---> 82\n",
      "S ---> 83\n",
      "T ---> 84\n",
      "U ---> 85\n",
      "V ---> 86\n",
      "W ---> 87\n",
      "X ---> 88\n",
      "Y ---> 89\n",
      "Z ---> 90\n"
     ]
    }
   ],
   "source": [
    "import string\n",
    "dir(string)\n",
    "string.ascii_uppercase\n",
    "for i in (string.ascii_uppercase):\n",
    "    print(i,'--->',ord(i))"
   ]
  },
  {
   "cell_type": "code",
   "execution_count": 53,
   "id": "ac6fc2a3",
   "metadata": {
    "ExecuteTime": {
     "end_time": "2023-10-30T15:00:29.348235Z",
     "start_time": "2023-10-30T15:00:29.333243Z"
    }
   },
   "outputs": [
    {
     "name": "stdout",
     "output_type": "stream",
     "text": [
      "a ---> 97\n",
      "b ---> 98\n",
      "c ---> 99\n",
      "d ---> 100\n",
      "e ---> 101\n",
      "f ---> 102\n",
      "g ---> 103\n",
      "h ---> 104\n",
      "i ---> 105\n",
      "j ---> 106\n",
      "k ---> 107\n",
      "l ---> 108\n",
      "m ---> 109\n",
      "n ---> 110\n",
      "o ---> 111\n",
      "p ---> 112\n",
      "q ---> 113\n",
      "r ---> 114\n",
      "s ---> 115\n",
      "t ---> 116\n",
      "u ---> 117\n",
      "v ---> 118\n",
      "w ---> 119\n",
      "x ---> 120\n",
      "y ---> 121\n",
      "z ---> 122\n"
     ]
    }
   ],
   "source": [
    "for i in (string.ascii_lowercase):\n",
    "    print(i,'--->',ord(i))"
   ]
  },
  {
   "cell_type": "code",
   "execution_count": 54,
   "id": "6e817002",
   "metadata": {
    "ExecuteTime": {
     "end_time": "2023-10-30T15:05:24.240523Z",
     "start_time": "2023-10-30T15:05:24.231527Z"
    }
   },
   "outputs": [
    {
     "data": {
      "text/plain": [
       "['Formatter',\n",
       " 'Template',\n",
       " '_ChainMap',\n",
       " '__all__',\n",
       " '__builtins__',\n",
       " '__cached__',\n",
       " '__doc__',\n",
       " '__file__',\n",
       " '__loader__',\n",
       " '__name__',\n",
       " '__package__',\n",
       " '__spec__',\n",
       " '_re',\n",
       " '_sentinel_dict',\n",
       " '_string',\n",
       " 'ascii_letters',\n",
       " 'ascii_lowercase',\n",
       " 'ascii_uppercase',\n",
       " 'capwords',\n",
       " 'digits',\n",
       " 'hexdigits',\n",
       " 'octdigits',\n",
       " 'printable',\n",
       " 'punctuation',\n",
       " 'whitespace']"
      ]
     },
     "execution_count": 54,
     "metadata": {},
     "output_type": "execute_result"
    }
   ],
   "source": [
    "dir(string)"
   ]
  },
  {
   "cell_type": "code",
   "execution_count": 56,
   "id": "d94aa87a",
   "metadata": {
    "ExecuteTime": {
     "end_time": "2023-10-30T15:05:46.023388Z",
     "start_time": "2023-10-30T15:05:46.005398Z"
    }
   },
   "outputs": [
    {
     "name": "stdout",
     "output_type": "stream",
     "text": [
      "No Python documentation found for 'ABCDEFGHIJKLMNOPQRSTUVWXYZ'.\n",
      "Use help() to get the interactive help utility.\n",
      "Use help(str) for help on the str class.\n",
      "\n"
     ]
    }
   ],
   "source": [
    "help(string.ascii_uppercase)"
   ]
  },
  {
   "cell_type": "code",
   "execution_count": 57,
   "id": "ace2ad99",
   "metadata": {
    "ExecuteTime": {
     "end_time": "2023-10-30T15:06:13.353147Z",
     "start_time": "2023-10-30T15:06:13.337175Z"
    }
   },
   "outputs": [
    {
     "name": "stdout",
     "output_type": "stream",
     "text": [
      "No Python documentation found for 'abcdefghijklmnopqrstuvwxyz'.\n",
      "Use help() to get the interactive help utility.\n",
      "Use help(str) for help on the str class.\n",
      "\n"
     ]
    }
   ],
   "source": [
    "help(string.ascii_lowercase)"
   ]
  },
  {
   "cell_type": "code",
   "execution_count": 58,
   "id": "4252ee7b",
   "metadata": {
    "ExecuteTime": {
     "end_time": "2023-10-30T15:11:23.521015Z",
     "start_time": "2023-10-30T15:11:23.511020Z"
    }
   },
   "outputs": [
    {
     "name": "stdout",
     "output_type": "stream",
     "text": [
      "0\n",
      "1\n",
      "2\n",
      "3\n",
      "4\n",
      "5\n",
      "6\n",
      "7\n",
      "8\n",
      "9\n"
     ]
    }
   ],
   "source": [
    "i=0\n",
    "for i in range(10):\n",
    "    print(i)"
   ]
  },
  {
   "cell_type": "code",
   "execution_count": 59,
   "id": "27be34fe",
   "metadata": {
    "ExecuteTime": {
     "end_time": "2023-10-30T15:11:46.083619Z",
     "start_time": "2023-10-30T15:11:46.064627Z"
    }
   },
   "outputs": [
    {
     "name": "stdout",
     "output_type": "stream",
     "text": [
      "0\n",
      "1\n",
      "2\n",
      "3\n",
      "4\n",
      "5\n",
      "6\n",
      "7\n",
      "8\n",
      "9\n"
     ]
    }
   ],
   "source": [
    "i=0\n",
    "while i<10:\n",
    "    print(i)\n",
    "    i+=1"
   ]
  },
  {
   "cell_type": "code",
   "execution_count": null,
   "id": "0c9bca6a",
   "metadata": {},
   "outputs": [],
   "source": [
    "for i in range (-5,-20,-1):\n",
    "    print(i)"
   ]
  },
  {
   "cell_type": "code",
   "execution_count": 62,
   "id": "ade557d3",
   "metadata": {
    "ExecuteTime": {
     "end_time": "2023-10-30T15:30:46.211549Z",
     "start_time": "2023-10-30T15:30:46.191555Z"
    }
   },
   "outputs": [
    {
     "name": "stdout",
     "output_type": "stream",
     "text": [
      "-5\n",
      "-6\n",
      "-7\n",
      "-8\n",
      "-9\n",
      "-10\n",
      "-11\n",
      "-12\n",
      "-13\n",
      "-14\n",
      "-15\n",
      "-16\n",
      "-17\n",
      "-18\n",
      "-19\n"
     ]
    }
   ],
   "source": [
    "i=-5\n",
    "while i>-20:\n",
    "    print(i)\n",
    "    i=i-1"
   ]
  },
  {
   "cell_type": "code",
   "execution_count": null,
   "id": "6879f9f3",
   "metadata": {},
   "outputs": [],
   "source": [
    "for i in range(1,6):\n",
    "    print(\"Hello\")"
   ]
  },
  {
   "cell_type": "code",
   "execution_count": 63,
   "id": "fd178ec5",
   "metadata": {
    "ExecuteTime": {
     "end_time": "2023-10-30T15:31:34.769158Z",
     "start_time": "2023-10-30T15:31:34.755167Z"
    }
   },
   "outputs": [
    {
     "name": "stdout",
     "output_type": "stream",
     "text": [
      "Hello\n",
      "Hello\n",
      "Hello\n",
      "Hello\n",
      "Hello\n"
     ]
    }
   ],
   "source": [
    "i=1\n",
    "while i<6:\n",
    "    print(\"Hello\")\n",
    "    i+=1"
   ]
  },
  {
   "cell_type": "code",
   "execution_count": 64,
   "id": "78f19df3",
   "metadata": {
    "ExecuteTime": {
     "end_time": "2023-10-30T15:31:57.154375Z",
     "start_time": "2023-10-30T15:31:57.137404Z"
    }
   },
   "outputs": [
    {
     "name": "stdout",
     "output_type": "stream",
     "text": [
      "10 is even number\n",
      "11 is Odd number\n",
      "12 is even number\n",
      "13 is Odd number\n",
      "14 is even number\n",
      "15 is Odd number\n",
      "16 is even number\n",
      "17 is Odd number\n",
      "18 is even number\n",
      "19 is Odd number\n",
      "20 is even number\n",
      "21 is Odd number\n",
      "22 is even number\n",
      "23 is Odd number\n",
      "24 is even number\n",
      "25 is Odd number\n",
      "26 is even number\n",
      "27 is Odd number\n",
      "28 is even number\n",
      "29 is Odd number\n",
      "30 is even number\n",
      "31 is Odd number\n",
      "32 is even number\n",
      "33 is Odd number\n",
      "34 is even number\n",
      "35 is Odd number\n",
      "36 is even number\n",
      "37 is Odd number\n",
      "38 is even number\n",
      "39 is Odd number\n",
      "40 is even number\n"
     ]
    }
   ],
   "source": [
    "#n=eval(input(\"Enter n value:\"))\n",
    "for n in range(10,41,1):\n",
    "    if n%2==0:\n",
    "        print(\"{} is even number\".format(n))\n",
    "    else:\n",
    "        print(\"{} is Odd number\".format(n))"
   ]
  },
  {
   "cell_type": "code",
   "execution_count": 67,
   "id": "1413e922",
   "metadata": {
    "ExecuteTime": {
     "end_time": "2023-10-30T15:34:47.854373Z",
     "start_time": "2023-10-30T15:34:47.830387Z"
    }
   },
   "outputs": [
    {
     "name": "stdout",
     "output_type": "stream",
     "text": [
      "-1\n",
      "-2\n",
      "-3\n",
      "-4\n",
      "-5\n",
      "-6\n",
      "-7\n",
      "-8\n",
      "-9\n",
      "-10\n"
     ]
    }
   ],
   "source": [
    "i=-1\n",
    "while i>=-10:\n",
    "    print(i)\n",
    "    i=i-1"
   ]
  },
  {
   "cell_type": "markdown",
   "id": "169fe312",
   "metadata": {},
   "source": [
    "for i in range(-10,0,1):"
   ]
  },
  {
   "cell_type": "code",
   "execution_count": null,
   "id": "683e4b0c",
   "metadata": {},
   "outputs": [],
   "source": [
    "for i in range(10,-1,-1)"
   ]
  },
  {
   "cell_type": "code",
   "execution_count": 68,
   "id": "583f2194",
   "metadata": {
    "ExecuteTime": {
     "end_time": "2023-10-30T15:36:06.930148Z",
     "start_time": "2023-10-30T15:36:06.917156Z"
    }
   },
   "outputs": [
    {
     "name": "stdout",
     "output_type": "stream",
     "text": [
      "-10\n",
      "-9\n",
      "-8\n",
      "-7\n",
      "-6\n",
      "-5\n",
      "-4\n",
      "-3\n",
      "-2\n",
      "-1\n"
     ]
    }
   ],
   "source": [
    "i=-10\n",
    "while i<0:\n",
    "    print(i)\n",
    "    i=i+1"
   ]
  },
  {
   "cell_type": "code",
   "execution_count": 70,
   "id": "d7527aaa",
   "metadata": {
    "ExecuteTime": {
     "end_time": "2023-10-30T15:37:37.022189Z",
     "start_time": "2023-10-30T15:37:37.001198Z"
    }
   },
   "outputs": [
    {
     "name": "stdout",
     "output_type": "stream",
     "text": [
      "10\n",
      "9\n",
      "8\n",
      "7\n",
      "6\n",
      "5\n",
      "4\n",
      "3\n",
      "2\n",
      "1\n",
      "0\n"
     ]
    }
   ],
   "source": [
    "i=10\n",
    "while i>-1:\n",
    "    print(i)\n",
    "    i=i-1"
   ]
  },
  {
   "cell_type": "code",
   "execution_count": 71,
   "id": "228b245f",
   "metadata": {
    "ExecuteTime": {
     "end_time": "2023-10-30T15:45:57.167938Z",
     "start_time": "2023-10-30T15:45:57.158945Z"
    }
   },
   "outputs": [
    {
     "data": {
      "text/plain": [
       "['Formatter',\n",
       " 'Template',\n",
       " '_ChainMap',\n",
       " '__all__',\n",
       " '__builtins__',\n",
       " '__cached__',\n",
       " '__doc__',\n",
       " '__file__',\n",
       " '__loader__',\n",
       " '__name__',\n",
       " '__package__',\n",
       " '__spec__',\n",
       " '_re',\n",
       " '_sentinel_dict',\n",
       " '_string',\n",
       " 'ascii_letters',\n",
       " 'ascii_lowercase',\n",
       " 'ascii_uppercase',\n",
       " 'capwords',\n",
       " 'digits',\n",
       " 'hexdigits',\n",
       " 'octdigits',\n",
       " 'printable',\n",
       " 'punctuation',\n",
       " 'whitespace']"
      ]
     },
     "execution_count": 71,
     "metadata": {},
     "output_type": "execute_result"
    }
   ],
   "source": [
    "dir(string)"
   ]
  },
  {
   "cell_type": "code",
   "execution_count": 72,
   "id": "9f8b53d0",
   "metadata": {
    "ExecuteTime": {
     "end_time": "2023-10-30T15:46:11.792892Z",
     "start_time": "2023-10-30T15:46:11.781899Z"
    }
   },
   "outputs": [
    {
     "name": "stdout",
     "output_type": "stream",
     "text": [
      "No Python documentation found for '0123456789abcdefghijklmnopqrstuvwxyzABCDEFGHIJKLMNOPQRSTUVWXYZ!\"#$%&\\'()*+,-./:;<=>?@[\\\\]^_`{|}~'.\n",
      "Use help() to get the interactive help utility.\n",
      "Use help(str) for help on the str class.\n",
      "\n"
     ]
    }
   ],
   "source": [
    "help(string.printable)"
   ]
  }
 ],
 "metadata": {
  "kernelspec": {
   "display_name": "Python 3 (ipykernel)",
   "language": "python",
   "name": "python3"
  },
  "language_info": {
   "codemirror_mode": {
    "name": "ipython",
    "version": 3
   },
   "file_extension": ".py",
   "mimetype": "text/x-python",
   "name": "python",
   "nbconvert_exporter": "python",
   "pygments_lexer": "ipython3",
   "version": "3.9.7"
  }
 },
 "nbformat": 4,
 "nbformat_minor": 5
}
