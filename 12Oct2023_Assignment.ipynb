{
 "cells": [
  {
   "cell_type": "code",
   "execution_count": 1,
   "id": "e4331e2e",
   "metadata": {
    "ExecuteTime": {
     "end_time": "2023-10-12T15:01:39.688444Z",
     "start_time": "2023-10-12T15:01:36.658610Z"
    }
   },
   "outputs": [
    {
     "name": "stdout",
     "output_type": "stream",
     "text": [
      "Enter a value:5\n",
      "The Square of 5 is 25.\n"
     ]
    }
   ],
   "source": [
    "a=eval(input(\"Enter a value:\"))\n",
    "print(\"The Square of {} is {}\".format(a,a*a),'.',sep='')"
   ]
  },
  {
   "cell_type": "code",
   "execution_count": 2,
   "id": "436aa4ad",
   "metadata": {
    "ExecuteTime": {
     "end_time": "2023-10-12T15:01:54.441409Z",
     "start_time": "2023-10-12T15:01:53.133236Z"
    }
   },
   "outputs": [
    {
     "name": "stdout",
     "output_type": "stream",
     "text": [
      "Enter x value:7\n",
      "7===14===21===28===35\n"
     ]
    }
   ],
   "source": [
    "x=eval(input(\"Enter x value:\"))\n",
    "print(x*1,x*2,x*3,x*4,x*5,sep='===')"
   ]
  },
  {
   "cell_type": "code",
   "execution_count": 3,
   "id": "b48dbb2f",
   "metadata": {
    "ExecuteTime": {
     "end_time": "2023-10-12T15:02:09.761637Z",
     "start_time": "2023-10-12T15:02:05.885664Z"
    }
   },
   "outputs": [
    {
     "name": "stdout",
     "output_type": "stream",
     "text": [
      "Enter weight in kgs10\n",
      "Enetered weight in 10 kgs and 22.0 pounds\n"
     ]
    }
   ],
   "source": [
    "w=eval(input(\"Enter weight in kgs\"))\n",
    "p=round(w*2.2)\n",
    "print(\"Enetered weight in {} kgs and {} pounds\".format(w,p))"
   ]
  },
  {
   "cell_type": "code",
   "execution_count": 4,
   "id": "4c035964",
   "metadata": {
    "ExecuteTime": {
     "end_time": "2023-10-12T15:02:28.840766Z",
     "start_time": "2023-10-12T15:02:24.927635Z"
    }
   },
   "outputs": [
    {
     "name": "stdout",
     "output_type": "stream",
     "text": [
      "Please enter n1 value:10\n",
      "Please enter n2 value:20\n",
      "Please enter n3 value:30\n",
      "Entered 10,20 and 30numbers SUM is 60 and AVG is 20\n"
     ]
    }
   ],
   "source": [
    "n1=eval(input(\"Please enter n1 value:\"))\n",
    "n2=eval(input(\"Please enter n2 value:\"))\n",
    "n3=eval(input(\"Please enter n3 value:\"))\n",
    "sum=n1+n2+n3\n",
    "avg=round(sum/3)\n",
    "print(\"Entered {},{} and {}numbers SUM is {} and AVG is {}\".format(n1,n2,n3,sum,avg))"
   ]
  },
  {
   "cell_type": "code",
   "execution_count": 5,
   "id": "e142a259",
   "metadata": {
    "ExecuteTime": {
     "end_time": "2023-10-12T15:02:47.191338Z",
     "start_time": "2023-10-12T15:02:42.349807Z"
    }
   },
   "outputs": [
    {
     "name": "stdout",
     "output_type": "stream",
     "text": [
      "Enter Meal price:100\n",
      "Please let me know the tip in %10\n",
      "The tip amount is 10.0 and total amount is 110.0\n"
     ]
    }
   ],
   "source": [
    "mp=eval(input(\"Enter Meal price:\"))\n",
    "tip=eval(input(\"Please let me know the tip in %\"))\n",
    "t_amount=(mp*tip)/100\n",
    "tot=mp+t_amount\n",
    "print(\"The tip amount is {} and total amount is {}\".format(t_amount,tot))"
   ]
  }
 ],
 "metadata": {
  "kernelspec": {
   "display_name": "Python 3 (ipykernel)",
   "language": "python",
   "name": "python3"
  },
  "language_info": {
   "codemirror_mode": {
    "name": "ipython",
    "version": 3
   },
   "file_extension": ".py",
   "mimetype": "text/x-python",
   "name": "python",
   "nbconvert_exporter": "python",
   "pygments_lexer": "ipython3",
   "version": "3.9.7"
  }
 },
 "nbformat": 4,
 "nbformat_minor": 5
}
