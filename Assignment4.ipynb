{
 "cells": [
  {
   "cell_type": "markdown",
   "id": "84349136",
   "metadata": {},
   "source": [
    "#### Problem 1\n",
    "Suppose that a Firm pays its employee at the rate of $12 per hour. An employee has worked for 37\n",
    "hours. How much should the firm pay the employee? (Do normal way directly takes the input)"
   ]
  },
  {
   "cell_type": "code",
   "execution_count": 1,
   "id": "5b7bab72",
   "metadata": {
    "ExecuteTime": {
     "end_time": "2023-11-03T13:08:35.287914Z",
     "start_time": "2023-11-03T13:08:27.505599Z"
    }
   },
   "outputs": [
    {
     "name": "stdout",
     "output_type": "stream",
     "text": [
      "Enter emp work hours:37\n",
      "Enter the amount per hour in Dollors:12\n",
      "Amount need to pay to the employee is 444\n"
     ]
    }
   ],
   "source": [
    "emp_work_hours=eval(input(\"Enter emp work hours:\"))\n",
    "amount_per_hour=eval(input(\"Enter the amount per hour in Dollors:\"))\n",
    "amount_need_2_pay=emp_work_hours*amount_per_hour\n",
    "print(\"Amount need to pay to the employee in Dollors is\",amount_need_2_pay)"
   ]
  },
  {
   "cell_type": "markdown",
   "id": "755ede90",
   "metadata": {},
   "source": [
    "#### Problem 2\n",
    "How about prompting the user for the number of hours and using the input value to compute the\n",
    "total pay? (Above problem use eval concept and sep concept)"
   ]
  },
  {
   "cell_type": "code",
   "execution_count": 3,
   "id": "ed39e3bf",
   "metadata": {
    "ExecuteTime": {
     "end_time": "2023-11-03T13:11:24.639631Z",
     "start_time": "2023-11-03T13:11:21.243615Z"
    }
   },
   "outputs": [
    {
     "name": "stdout",
     "output_type": "stream",
     "text": [
      "Enter emp work hours:10\n",
      "Enter the amount per hour in Dollors:23\n",
      "Amount need to pay to the employee in Dollors is 230\n"
     ]
    }
   ],
   "source": [
    "emp_work_hours=eval(input(\"Enter emp work hours:\"))\n",
    "amount_per_hour=eval(input(\"Enter the amount per hour in Dollors:\"))\n",
    "amount_need_2_pay=emp_work_hours*amount_per_hour\n",
    "print(\"Amount need to pay to the employee in Dollors is\",amount_need_2_pay)"
   ]
  },
  {
   "cell_type": "code",
   "execution_count": 2,
   "id": "fdc0e3a4",
   "metadata": {
    "ExecuteTime": {
     "end_time": "2023-11-03T13:10:17.435131Z",
     "start_time": "2023-11-03T13:10:17.425136Z"
    }
   },
   "outputs": [
    {
     "name": "stdout",
     "output_type": "stream",
     "text": [
      "GFG\n"
     ]
    }
   ],
   "source": [
    "print('G','F','G', sep='')"
   ]
  },
  {
   "cell_type": "markdown",
   "id": "f4c27496",
   "metadata": {},
   "source": [
    "#### Problem-3\n",
    "For a certain academic subject the students are evaluated based on five tests - \n",
    "* Quiz 1 (20 marks - 10% Weight), \n",
    "* Quiz 2 (20 marks - 10% Weight), \n",
    "* Class test (50 marks - 25% Weight), \n",
    "* Assignment (100 marks - 25% weight) and\n",
    "* Project (200 marks - 30% weight).\n",
    "Design a program that will prompt the user for marks for each of the tests and calculate the overall\n",
    "marks (out of 100)."
   ]
  },
  {
   "cell_type": "code",
   "execution_count": 8,
   "id": "27fbb4f7",
   "metadata": {
    "ExecuteTime": {
     "end_time": "2023-11-03T13:27:11.320880Z",
     "start_time": "2023-11-03T13:27:05.051347Z"
    }
   },
   "outputs": [
    {
     "name": "stdout",
     "output_type": "stream",
     "text": [
      "Enter Quiz1 marks of the student A out of 100:100\n",
      "Enter Quiz2 marks of the student A out of 100:100\n",
      "Enter Class Test marks of the student A out of 100:100\n",
      "Enter Assignment marks of the student A out of 100:100\n",
      "Enter Project marks of the student A out of 100:100\n",
      "Overall marks of student A is: 190.0\n"
     ]
    }
   ],
   "source": [
    "quiz1_marks=eval(input(\"Enter Quiz1 marks of the student A out of 100:\"))\n",
    "quiz2_marks=eval(input(\"Enter Quiz2 marks of the student A out of 100:\"))\n",
    "class_test=eval(input(\"Enter Class Test marks of the student A out of 100:\"))\n",
    "assignment=eval(input(\"Enter Assignment marks of the student A out of 100:\"))\n",
    "project=eval(input(\"Enter Project marks of the student A out of 100:\"))\n",
    "# Quiz1 weightage 10% for 20 marks, means 0.1 for 20 marks and 0.5 for 100 marks\n",
    "quiz1_weightage=0.5\n",
    "# Quiz2 weightage 10% for 20 marks, means 0.1 for 20 marks and 0.5 for 100 marks\n",
    "quiz2_weightage=0.5\n",
    "# Class test weightage 25% for 50 marks, means 0.25 for 50 marks and 0.5 for 100 marks\n",
    "class_test_weightage=0.5\n",
    "#Assignment weightage 25% for 100 marks, means 0.25 for 100 marks\n",
    "assignment_weightage=0.25\n",
    "#Project weightage 30% for 200 marks, means 15% for 100 marks i.e. 0.15 for 100 marks\n",
    "project_weightage=0.15\n",
    "overall_marks=(quiz1_marks*quiz1_weightage)+(quiz2_marks*quiz2_weightage)+(class_test*class_test_weightage)+(assignment*assignment_weightage)+(project*project_weightage)\n",
    "print(\"Overall marks of student A is:\",overall_marks)"
   ]
  },
  {
   "cell_type": "markdown",
   "id": "0e812056",
   "metadata": {
    "ExecuteTime": {
     "end_time": "2023-11-03T13:22:08.491467Z",
     "start_time": "2023-11-03T13:22:08.470101Z"
    }
   },
   "source": [
    "\n",
    "#### Problem-4\n",
    "If a five-digit number is input through the keyboard, write a program to calculate the sum of its\n",
    "digits."
   ]
  },
  {
   "cell_type": "code",
   "execution_count": 18,
   "id": "e044ca52",
   "metadata": {
    "ExecuteTime": {
     "end_time": "2023-11-03T13:35:43.160903Z",
     "start_time": "2023-11-03T13:35:36.848576Z"
    }
   },
   "outputs": [
    {
     "name": "stdout",
     "output_type": "stream",
     "text": [
      "Enter five digit number:98765\n",
      "35\n"
     ]
    }
   ],
   "source": [
    "n=eval(input(\"Enter five digit number:\"))\n",
    "sum1=0\n",
    "sum1=sum1+n%10\n",
    "n=n//10\n",
    "sum1+=n%10\n",
    "n=n//10\n",
    "sum1+=n%10\n",
    "n=n//10\n",
    "sum1+=n%10\n",
    "n=n//10\n",
    "sum1=sum1+n%10\n",
    "print(sum1)"
   ]
  },
  {
   "cell_type": "markdown",
   "id": "b75fb38f",
   "metadata": {
    "ExecuteTime": {
     "end_time": "2023-11-03T13:30:34.093528Z",
     "start_time": "2023-11-03T13:30:34.077554Z"
    }
   },
   "source": [
    "#### Problem-5\n",
    "If a five-digit number is input through the keyboard, write a program to print a new number by\n",
    "adding one to each of its digits. For example if the number that is input is 12371 then the output\n",
    "should be displayed as 23482."
   ]
  },
  {
   "cell_type": "code",
   "execution_count": 6,
   "id": "73132619",
   "metadata": {
    "ExecuteTime": {
     "end_time": "2023-11-05T14:17:15.889438Z",
     "start_time": "2023-11-05T14:17:13.556557Z"
    }
   },
   "outputs": [
    {
     "name": "stdout",
     "output_type": "stream",
     "text": [
      "Enter five digit number:12371\n",
      "23482\n"
     ]
    }
   ],
   "source": [
    "n=eval(input(\"Enter five digit number:\"))\n",
    "if n>9999 and n<100000:\n",
    "    new_num=n+11111\n",
    "    print(new_num)\n",
    "else:\n",
    "    print(\"Please enter five digit number:\")"
   ]
  },
  {
   "cell_type": "markdown",
   "id": "8c315af8",
   "metadata": {
    "ExecuteTime": {
     "end_time": "2023-11-03T13:44:35.175076Z",
     "start_time": "2023-11-03T13:44:35.160089Z"
    }
   },
   "source": [
    "#### Problem-6: (Use conditional statements)\n",
    "**Recall the problem:**\n",
    "For a certain academic subject the students are evaluated based on five tests - \n",
    "* Quiz 1 (20 marks - 10% Weight), \n",
    "* Quiz 2 (20 marks - 10% Weight), \n",
    "* Class test (50 marks - 25% Weight), \n",
    "* Assignment (100 marks - 25% weight) and\n",
    "* Project (200 marks - 30% weight).\n",
    "Design a program that will prompt the user for marks for each of the tests and calculate the overall\n",
    "marks (out of 100).\n",
    "#### Add an extension to the problem to display grades:\n",
    "Display the grades of students using the following table:\n",
    "Score Grade\n",
    ">= 60 First Class\n",
    "\n",
    ">= 40 Second Class\n",
    "\n",
    "< 40 Fail"
   ]
  },
  {
   "cell_type": "code",
   "execution_count": 11,
   "id": "8c04f53a",
   "metadata": {
    "ExecuteTime": {
     "end_time": "2023-11-05T14:23:38.067281Z",
     "start_time": "2023-11-05T14:23:30.689289Z"
    }
   },
   "outputs": [
    {
     "name": "stdout",
     "output_type": "stream",
     "text": [
      "Enter Quiz1 marks of the student A out of 100:100\n",
      "Enter Quiz2 marks of the student A out of 100:200\n",
      "Enter Class Test marks of the student A out of 100:300\n",
      "Enter Assignment marks of the student A out of 100:400\n",
      "Enter Project marks of the student A out of 100:500\n",
      "Overall marks of student A is: 475.0\n",
      "First class!!!\n"
     ]
    }
   ],
   "source": [
    "quiz1_marks=eval(input(\"Enter Quiz1 marks of the student A out of 100:\"))\n",
    "quiz2_marks=eval(input(\"Enter Quiz2 marks of the student A out of 100:\"))\n",
    "class_test=eval(input(\"Enter Class Test marks of the student A out of 100:\"))\n",
    "assignment=eval(input(\"Enter Assignment marks of the student A out of 100:\"))\n",
    "project=eval(input(\"Enter Project marks of the student A out of 100:\"))\n",
    "# Quiz1 weightage 10% for 20 marks, means 0.1 for 20 marks and 0.5 for 100 marks\n",
    "quiz1_weightage=0.5\n",
    "# Quiz2 weightage 10% for 20 marks, means 0.1 for 20 marks and 0.5 for 100 marks\n",
    "quiz2_weightage=0.5\n",
    "# Class test weightage 25% for 50 marks, means 0.25 for 50 marks and 0.5 for 100 marks\n",
    "class_test_weightage=0.5\n",
    "#Assignment weightage 25% for 100 marks, means 0.25 for 100 marks\n",
    "assignment_weightage=0.25\n",
    "#Project weightage 30% for 200 marks, means 15% for 100 marks i.e. 0.15 for 100 marks\n",
    "project_weightage=0.15\n",
    "overall_marks=(quiz1_marks*quiz1_weightage)+(quiz2_marks*quiz2_weightage)+(class_test*class_test_weightage)+(assignment*assignment_weightage)+(project*project_weightage)\n",
    "print(\"Overall marks of student A is:\",overall_marks)\n",
    "if (overall_marks/500)*100>=60:\n",
    "    print(\"First class!!!\")\n",
    "elif (overall_marks/500)*100<60 and (overall_marks/500)*100>=40:\n",
    "    print(\"Second class!!!\")\n",
    "else:\n",
    "    print(\"Fail\")"
   ]
  },
  {
   "cell_type": "markdown",
   "id": "12b07678",
   "metadata": {
    "ExecuteTime": {
     "end_time": "2023-11-05T14:20:57.524534Z",
     "start_time": "2023-11-05T14:20:57.506540Z"
    }
   },
   "source": [
    "#### Problem-7: (Use conditional statements)\n",
    "** Recall the problem:**\n",
    "How about prompting the user for the number of hours and using the input value to compute the\n",
    "total pay?"
   ]
  },
  {
   "cell_type": "code",
   "execution_count": 12,
   "id": "14f7b829",
   "metadata": {
    "ExecuteTime": {
     "end_time": "2023-11-05T14:25:20.538006Z",
     "start_time": "2023-11-05T14:25:16.038859Z"
    }
   },
   "outputs": [
    {
     "name": "stdout",
     "output_type": "stream",
     "text": [
      "Enter emp work hours:10\n",
      "Enter the amount per hour in Dollors:30\n",
      "Amount need to pay to the employee in Dollors is 300\n"
     ]
    }
   ],
   "source": [
    "emp_work_hours=eval(input(\"Enter emp work hours:\"))\n",
    "amount_per_hour=eval(input(\"Enter the amount per hour in Dollors:\"))\n",
    "amount_need_2_pay=emp_work_hours*amount_per_hour\n",
    "print(\"Amount need to pay to the employee in Dollors is\",amount_need_2_pay)"
   ]
  },
  {
   "cell_type": "markdown",
   "id": "7246e0de",
   "metadata": {},
   "source": [
    "#### Problem-8\n",
    "** try & except **\n",
    "Rewrite the pay program (refer problem 2) using try and expect so that the program handles non\u0002numeric input gracefully by printing a message and exiting the program. The following shows two\n",
    "executions of the program:\n",
    "Enter hours: 20\n",
    "Enter rate: nine\n",
    "Error, please enter numeric input"
   ]
  },
  {
   "cell_type": "code",
   "execution_count": 14,
   "id": "e646c066",
   "metadata": {
    "ExecuteTime": {
     "end_time": "2023-11-05T14:27:07.166784Z",
     "start_time": "2023-11-05T14:27:02.378353Z"
    }
   },
   "outputs": [
    {
     "name": "stdout",
     "output_type": "stream",
     "text": [
      "Enter emp work hours:10.5e\n",
      "Please enter numeric number!!!\n"
     ]
    }
   ],
   "source": [
    "try:\n",
    "    emp_work_hours=eval(input(\"Enter emp work hours:\"))\n",
    "    amount_per_hour=eval(input(\"Enter the amount per hour in Dollors:\"))\n",
    "    amount_need_2_pay=emp_work_hours*amount_per_hour\n",
    "    print(\"Amount need to pay to the employee in Dollors is\",amount_need_2_pay)\n",
    "except Exception as e:\n",
    "    print(\"Please enter numeric number!!!\")"
   ]
  },
  {
   "cell_type": "markdown",
   "id": "cfb56ae2",
   "metadata": {},
   "source": [
    "#### Problem-9(Use conditional statements)\n",
    "Write a program that asks the user to enter a length in centimeters. If the user enters a negative\n",
    "length, the program should tell the user that the entry is invalid. Otherwise, the program should\n",
    "convert the length to inches and print out the result. There are 2.54 centimeters in an inch."
   ]
  },
  {
   "cell_type": "code",
   "execution_count": 20,
   "id": "6ae6cff8",
   "metadata": {
    "ExecuteTime": {
     "end_time": "2023-11-05T14:31:11.286573Z",
     "start_time": "2023-11-05T14:31:08.211632Z"
    }
   },
   "outputs": [
    {
     "name": "stdout",
     "output_type": "stream",
     "text": [
      "Enter the length in centimeters:-9.8\n",
      "Entered values is negative number\n"
     ]
    }
   ],
   "source": [
    "cm=eval(input(\"Enter the length in centimeters:\"))\n",
    "if cm == 0:\n",
    "    print(\"Entered value is zero!!!\")\n",
    "elif cm > 0:\n",
    "    print(\"Converting {} CM to inches {} is\".format(cm,((2.54)*cm)))\n",
    "else:\n",
    "    print(\"Entered values is negative number\")"
   ]
  },
  {
   "cell_type": "markdown",
   "id": "ca11b7cf",
   "metadata": {},
   "source": [
    "#### Problem-10(Use conditional statements)\n",
    "Ask the user for a temperature. Then ask them what units, Celsius or Fahrenheit, the temperature is\n",
    "in. Your program should convert the temperature to the other unit. The conversions are F = 9 5 C +\n",
    "32 and C = 5 9 (F − 32)."
   ]
  },
  {
   "cell_type": "code",
   "execution_count": 22,
   "id": "95e934f0",
   "metadata": {
    "ExecuteTime": {
     "end_time": "2023-11-05T14:37:28.220370Z",
     "start_time": "2023-11-05T14:37:18.989427Z"
    }
   },
   "outputs": [
    {
     "name": "stdout",
     "output_type": "stream",
     "text": [
      "Enter the temperature:100\n",
      "Please tell me the units Celsius (C) or Fahrenheit (F) !!!C\n",
      "Entered temperature 100 in Celsius and converted Fahrenheit is 9532\n"
     ]
    }
   ],
   "source": [
    "temp=eval(input(\"Enter the temperature:\"))\n",
    "unit=input(\"Please tell me the units Celsius (C) or Fahrenheit (F) !!!\")\n",
    "if unit==\"C\":\n",
    "    print(\"Entered temperature {} in Celsius and converted Fahrenheit is {}\".format(temp,(95*temp)+32))\n",
    "else:\n",
    "    print(\"Entered temperature {} in Fahrenheit and converted Celsius is {}\".format(temp,(59*(temp-32))))"
   ]
  },
  {
   "cell_type": "markdown",
   "id": "2e6cec79",
   "metadata": {},
   "source": [
    "#### Problem-11(Use conditional statements)\n",
    "Ask the user to enter a temperature in Celsius. The program should print a message based on the\n",
    "temperature: \n",
    "\n",
    "• If the temperature is less than -273.15, print that the temperature is invalid because it is\n",
    "below absolute zero.\n",
    "\n",
    "• If it is exactly -273.15, print that the temperature is absolute 0. \n",
    "\n",
    "• If the temperature is between -273.15 and 0, print that the temperature is below freezing.\n",
    "\n",
    "• If it is 0, print that the temperature is at the freezing point. \n",
    "\n",
    "• If it is between 0 and 100, print that the temperature is in the normal range. \n",
    "\n",
    "• If it is 100, print that the temperature is at the boiling point. \n",
    "\n",
    "• If it is above 100, print that the temperature is above th"
   ]
  },
  {
   "cell_type": "code",
   "execution_count": 37,
   "id": "4ae87d37",
   "metadata": {
    "ExecuteTime": {
     "end_time": "2023-11-05T14:51:53.098955Z",
     "start_time": "2023-11-05T14:51:48.594776Z"
    }
   },
   "outputs": [
    {
     "name": "stdout",
     "output_type": "stream",
     "text": [
      "Entered the temperature in Celsius!!!-274\n",
      "The temperature is invalid because it is below absolute zero.\n"
     ]
    }
   ],
   "source": [
    "temp=eval(input(\"Entered the temperature in Celsius!!!\"))\n",
    "if temp<-273.15:\n",
    "    print(\"The temperature is invalid because it is below absolute zero.\")\n",
    "elif temp==-273.15:\n",
    "    print(\"The temperature is absolute 0.\")\n",
    "elif temp>-273.15 and temp<0:\n",
    "    print(\"The temperature is below freezing\")\n",
    "elif temp==0:\n",
    "    print(\"The temperature is at the freezing point\")\n",
    "elif temp>0 and temp<100:\n",
    "    print(\"The temperature is in the normal range\")\n",
    "elif temp==100:\n",
    "    print(\"The temperature is at the boiling point\")\n",
    "else:\n",
    "    print(\"The temperature is above boiling point\")"
   ]
  },
  {
   "cell_type": "markdown",
   "id": "6d61700d",
   "metadata": {},
   "source": [
    "#### Problem-12(Use conditional statements)\n",
    "Write a program that asks the user how many credits they have taken. If they have taken 23 or less,\n",
    "print that the student is a freshman. If they have taken between 24 and 53, print that they are a\n",
    "sophomore. The range for juniors is 54 to 83, and for seniors it is 84 and over."
   ]
  },
  {
   "cell_type": "code",
   "execution_count": 42,
   "id": "4fb830e1",
   "metadata": {
    "ExecuteTime": {
     "end_time": "2023-11-05T14:56:43.827162Z",
     "start_time": "2023-11-05T14:56:42.071794Z"
    }
   },
   "outputs": [
    {
     "name": "stdout",
     "output_type": "stream",
     "text": [
      "Enter the credits:84\n",
      "The students are Seniors\n"
     ]
    }
   ],
   "source": [
    "credits=eval(input(\"Enter the credits:\"))\n",
    "if credits <=23:\n",
    "    print(\"The student is a freshman.\")\n",
    "elif credits>24 and credits <=53:\n",
    "    print(\"The students are sophomore.\")\n",
    "elif credits >=54 and credits <=83:\n",
    "    print(\"The students are Juniors\")\n",
    "elif credits >=84:\n",
    "    print(\"The students are Seniors\")"
   ]
  },
  {
   "cell_type": "markdown",
   "id": "c1dbdf99",
   "metadata": {},
   "source": [
    "#### Problem-13(Use conditional statements)\n",
    "Generate a random number between 1 and 10. Ask the user to guess the number and print a\n",
    "message based on whether they get it right or not."
   ]
  },
  {
   "cell_type": "code",
   "execution_count": 49,
   "id": "6b7189ee",
   "metadata": {
    "ExecuteTime": {
     "end_time": "2023-11-05T15:00:32.052532Z",
     "start_time": "2023-11-05T15:00:31.047747Z"
    }
   },
   "outputs": [
    {
     "name": "stdout",
     "output_type": "stream",
     "text": [
      "Guess the number5\n",
      "The number guessed by the user is Wrong\n"
     ]
    }
   ],
   "source": [
    "import random\n",
    "n=random.randint(1,10)\n",
    "g_num=int(input(\"Guess the number\"))\n",
    "if n==g_num:\n",
    "    print(\"The number guessed by the user is right\")\n",
    "else:\n",
    "    print(\"The number guessed by the user is Wrong\")"
   ]
  },
  {
   "cell_type": "markdown",
   "id": "4e25ef3d",
   "metadata": {
    "ExecuteTime": {
     "end_time": "2023-11-05T15:00:57.676576Z",
     "start_time": "2023-11-05T15:00:57.664604Z"
    }
   },
   "source": [
    "#### Problem-14(Use conditional statements)\n",
    "A store charges $12 per item if you buy less than 10 items. If you buy between 10 and 99 items, the\n",
    "cost is $10 per item. If you buy 100 or more items, the cost is $7 per item. Write a program that asks\n",
    "the user how many items they are buying and prints the total cost."
   ]
  },
  {
   "cell_type": "code",
   "execution_count": 57,
   "id": "5dfde591",
   "metadata": {
    "ExecuteTime": {
     "end_time": "2023-11-05T15:05:45.338751Z",
     "start_time": "2023-11-05T15:05:43.348532Z"
    }
   },
   "outputs": [
    {
     "name": "stdout",
     "output_type": "stream",
     "text": [
      "Enter the number of Items Purchased:100\n",
      "Total Cost is 700$\n"
     ]
    }
   ],
   "source": [
    "num_of_itmes=eval(input(\"Enter the number of Items Purchased:\"))\n",
    "if num_of_itmes<10:\n",
    "    print(\"Total Cost is {}$\".format(num_of_itmes*12))\n",
    "if num_of_itmes>=10 and num_of_itmes<100:\n",
    "    print(\"Total Cost is {}$\".format(num_of_itmes*10))\n",
    "if num_of_itmes>=100:\n",
    "    print(\"Total Cost is {}$\".format(num_of_itmes*7))"
   ]
  },
  {
   "cell_type": "markdown",
   "id": "c26c432e",
   "metadata": {},
   "source": [
    "#### Problem-15(Use conditional statements)\n",
    "Write a program that asks the user for two numbers and prints Close if the numbers are within .001\n",
    "of each other and Not close otherwise."
   ]
  },
  {
   "cell_type": "code",
   "execution_count": 61,
   "id": "5a15d964",
   "metadata": {
    "ExecuteTime": {
     "end_time": "2023-11-05T15:08:36.517176Z",
     "start_time": "2023-11-05T15:08:22.632637Z"
    }
   },
   "outputs": [
    {
     "name": "stdout",
     "output_type": "stream",
     "text": [
      "Enter a value:2.001\n",
      "Enter b value:2.000\n",
      "Not close!!!\n"
     ]
    }
   ],
   "source": [
    "a=eval(input(\"Enter a value:\"))\n",
    "b=eval(input(\"Enter b value:\"))\n",
    "if a-b==0.001:\n",
    "    print(\"Both are close!!!\")\n",
    "else:\n",
    "    print(\"Not close!!!\")"
   ]
  },
  {
   "cell_type": "markdown",
   "id": "19c89dd0",
   "metadata": {
    "ExecuteTime": {
     "end_time": "2023-11-05T15:09:11.591976Z",
     "start_time": "2023-11-05T15:09:11.574985Z"
    }
   },
   "source": [
    "#### Problem-16(Use conditional statements)\n",
    "A year is a leap year if it is divisible by 4, except that years divisible by 100 are not leap years unless\n",
    "they are also divisible by 400. Write a program that asks the user for a year and prints out whether it\n",
    "is a leap year or not."
   ]
  },
  {
   "cell_type": "code",
   "execution_count": 69,
   "id": "eb2a09d5",
   "metadata": {
    "ExecuteTime": {
     "end_time": "2023-11-05T15:15:50.233084Z",
     "start_time": "2023-11-05T15:15:48.329608Z"
    }
   },
   "outputs": [
    {
     "name": "stdout",
     "output_type": "stream",
     "text": [
      "Enter the Year:2001\n",
      "Entered year is not aLeap year\n"
     ]
    }
   ],
   "source": [
    "year=eval(input(\"Enter the Year:\"))\n",
    "if year%4==0 and year%100==0 and year%400==0:\n",
    "    print(\"Entered year is Leap year\")\n",
    "else:\n",
    "    print(\"Entered year is not a Leap year\")"
   ]
  },
  {
   "cell_type": "markdown",
   "id": "23f7c1f6",
   "metadata": {},
   "source": [
    "#### Problem-17(Use conditional statements)\n",
    "Write a program that asks the user to enter a number and prints out all the divisors of that number.\n",
    "[Hint: the % operator is used to tell if a number is divisible by something"
   ]
  },
  {
   "cell_type": "code",
   "execution_count": 72,
   "id": "3dcdeff3",
   "metadata": {
    "ExecuteTime": {
     "end_time": "2023-11-05T15:18:55.094003Z",
     "start_time": "2023-11-05T15:18:53.418736Z"
    }
   },
   "outputs": [
    {
     "name": "stdout",
     "output_type": "stream",
     "text": [
      "Enter a number!!!8\n",
      "Entered number 8 and divisor is 1\n",
      "Entered number 8 and divisor is 2\n",
      "Entered number 8 and divisor is 4\n",
      "Entered number 8 and divisor is 8\n"
     ]
    }
   ],
   "source": [
    "n=eval(input(\"Enter a number!!!\"))\n",
    "for i in range(1,10):\n",
    "    if n%i==0:\n",
    "        print(\"Entered number {} and divisor is {}\".format(n,i))"
   ]
  },
  {
   "cell_type": "markdown",
   "id": "2eec780b",
   "metadata": {},
   "source": [
    "#### Problem-18(Use conditional statements)\n",
    "Write a program that asks the user for an hour between 1 and 12, asks them to enter am or pm, and\n",
    "asks them how many hours into the future they want to go.\n",
    "Print out what the hour will be that many hours into the future, printing am or pm as appropriate.\n",
    "An example is shown below.\n",
    "Enter hour: 8\n",
    "am (1) or pm (2)? 1\n",
    "How many hours ahead? 5\n",
    "New hour: 1 pm"
   ]
  },
  {
   "cell_type": "code",
   "execution_count": 77,
   "id": "b4c4bd91",
   "metadata": {
    "ExecuteTime": {
     "end_time": "2023-11-05T15:27:04.338486Z",
     "start_time": "2023-11-05T15:26:56.509432Z"
    }
   },
   "outputs": [
    {
     "name": "stdout",
     "output_type": "stream",
     "text": [
      "Enter an hour between 1 and 12!!!12\n",
      "Hour is am or pm:pm\n",
      "Enter future hours:4\n",
      "New Hour is: 4 AM\n"
     ]
    }
   ],
   "source": [
    "h=eval(input(\"Enter an hour between 1 and 12!!!\"))\n",
    "t=input(\"Hour is am or pm:\")\n",
    "f_h=eval(input(\"Enter future hours:\"))\n",
    "new_hour=h+f_h\n",
    "if t=='am':\n",
    "    if new_hour>12:\n",
    "        print(\"New Hour is:\",new_hour-12,\"PM\")\n",
    "    else:\n",
    "        print(\"New Hour is:\",new_hour,\"AM\")\n",
    "if t=='pm':\n",
    "    if new_hour>12:\n",
    "        print(\"New Hour is:\",new_hour-12,\"AM\")\n",
    "    else:\n",
    "        print(\"New Hour is:\",new_hour,\"PM\")  "
   ]
  },
  {
   "cell_type": "code",
   "execution_count": null,
   "id": "1131bd37",
   "metadata": {},
   "outputs": [],
   "source": []
  },
  {
   "cell_type": "code",
   "execution_count": null,
   "id": "1fcb5c05",
   "metadata": {},
   "outputs": [],
   "source": []
  }
 ],
 "metadata": {
  "kernelspec": {
   "display_name": "Python 3 (ipykernel)",
   "language": "python",
   "name": "python3"
  },
  "language_info": {
   "codemirror_mode": {
    "name": "ipython",
    "version": 3
   },
   "file_extension": ".py",
   "mimetype": "text/x-python",
   "name": "python",
   "nbconvert_exporter": "python",
   "pygments_lexer": "ipython3",
   "version": "3.9.7"
  }
 },
 "nbformat": 4,
 "nbformat_minor": 5
}
