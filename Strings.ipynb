{
 "cells": [
  {
   "cell_type": "markdown",
   "id": "80183bbe",
   "metadata": {},
   "source": [
    "# Strings"
   ]
  },
  {
   "cell_type": "markdown",
   "id": "7cec49fa",
   "metadata": {},
   "source": [
    "- A Python String is a sequence of characters. \n",
    "- Python Strings are immutable, meaning we can’t modify a string once we declare a string. \n",
    "- Python provides a built-in class “str” for handling text.\n",
    "- Strings in python are surrounded by either single quotation marks or double quotation marks\n",
    "        ex: 'hello' is the same as \"hello\"\n",
    "- We can display the string by print() function:"
   ]
  },
  {
   "cell_type": "code",
   "execution_count": 1,
   "id": "c1fe795c",
   "metadata": {
    "ExecuteTime": {
     "end_time": "2023-11-09T13:22:46.961000Z",
     "start_time": "2023-11-09T13:22:46.951007Z"
    }
   },
   "outputs": [
    {
     "name": "stdout",
     "output_type": "stream",
     "text": [
      "Hello\n"
     ]
    }
   ],
   "source": [
    "print(\"Hello\")"
   ]
  },
  {
   "cell_type": "code",
   "execution_count": 2,
   "id": "dd6d6b04",
   "metadata": {
    "ExecuteTime": {
     "end_time": "2023-11-09T13:22:55.417476Z",
     "start_time": "2023-11-09T13:22:55.406485Z"
    }
   },
   "outputs": [
    {
     "name": "stdout",
     "output_type": "stream",
     "text": [
      "Hello\n"
     ]
    }
   ],
   "source": [
    "print('Hello')"
   ]
  },
  {
   "cell_type": "markdown",
   "id": "5f0bdd6b",
   "metadata": {},
   "source": [
    "Operators which are used on Strings\n",
    "1. Assignment operator: “=”\n",
    "2. Concatenate operator: “+”\n",
    "3. String repetition operator: “*”\n",
    "4. String slicing operator: “[]”\n",
    "5. String comparison operator: “==” & “!=”\n",
    "6. Membership operator: “in” & “not in”\n",
    "7. Escape sequence operator: “\\”\n",
    "8. String formatting operator: “%” & “{}”"
   ]
  },
  {
   "cell_type": "markdown",
   "id": "de24a2a9",
   "metadata": {},
   "source": [
    "### 1. Assignment operator: “=” (Assigning string to a variable)"
   ]
  },
  {
   "cell_type": "markdown",
   "id": "ef9e109c",
   "metadata": {},
   "source": [
    "Assigning a string to a variable is done with the variable name followed by an equal sign and the string:"
   ]
  },
  {
   "cell_type": "code",
   "execution_count": 3,
   "id": "931bab2b",
   "metadata": {
    "ExecuteTime": {
     "end_time": "2023-11-09T13:24:20.772129Z",
     "start_time": "2023-11-09T13:24:20.752131Z"
    }
   },
   "outputs": [
    {
     "name": "stdout",
     "output_type": "stream",
     "text": [
      "Hello\n"
     ]
    }
   ],
   "source": [
    "a='Hello'\n",
    "print(a)"
   ]
  },
  {
   "cell_type": "markdown",
   "id": "65215944",
   "metadata": {},
   "source": [
    "### Multiline Strings"
   ]
  },
  {
   "cell_type": "markdown",
   "id": "84c15aed",
   "metadata": {},
   "source": [
    "We can assign a multiline string to a variable by using three quotes:\n",
    "Is also nown as Doc String"
   ]
  },
  {
   "cell_type": "code",
   "execution_count": 5,
   "id": "450e6991",
   "metadata": {
    "ExecuteTime": {
     "end_time": "2023-11-09T13:26:32.004484Z",
     "start_time": "2023-11-09T13:26:31.992494Z"
    }
   },
   "outputs": [
    {
     "name": "stdout",
     "output_type": "stream",
     "text": [
      "This is Mobin.\n",
      "Learning Python with Omkar Sir\n",
      "In Hyderabad\n"
     ]
    }
   ],
   "source": [
    "# With thriple double quotes\n",
    "a=\"\"\"This is Mobin.\n",
    "Learning Python with Omkar Sir\n",
    "In Hyderabad\"\"\"\n",
    "print(a)"
   ]
  },
  {
   "cell_type": "code",
   "execution_count": 6,
   "id": "bec41c77",
   "metadata": {
    "ExecuteTime": {
     "end_time": "2023-11-09T13:27:26.635923Z",
     "start_time": "2023-11-09T13:27:26.622932Z"
    }
   },
   "outputs": [
    {
     "name": "stdout",
     "output_type": "stream",
     "text": [
      "This is Mobin.\n",
      "Learning Python with Omkar Sir\n",
      "In Hyderabad\n"
     ]
    }
   ],
   "source": [
    "# With thriple single quotes\n",
    "a='''This is Mobin.\n",
    "Learning Python with Omkar Sir\n",
    "In Hyderabad'''\n",
    "print(a)"
   ]
  },
  {
   "cell_type": "markdown",
   "id": "75c38f24",
   "metadata": {},
   "source": [
    "Checking the datatype of variable"
   ]
  },
  {
   "cell_type": "code",
   "execution_count": 7,
   "id": "3cf374a2",
   "metadata": {
    "ExecuteTime": {
     "end_time": "2023-11-09T13:28:39.412645Z",
     "start_time": "2023-11-09T13:28:39.384681Z"
    }
   },
   "outputs": [
    {
     "data": {
      "text/plain": [
       "str"
      ]
     },
     "execution_count": 7,
     "metadata": {},
     "output_type": "execute_result"
    }
   ],
   "source": [
    "type(a)"
   ]
  },
  {
   "cell_type": "markdown",
   "id": "b3ecc5ec",
   "metadata": {},
   "source": [
    "Example of doc String:"
   ]
  },
  {
   "cell_type": "code",
   "execution_count": 22,
   "id": "92c3cb71",
   "metadata": {
    "ExecuteTime": {
     "end_time": "2023-11-09T13:39:54.302276Z",
     "start_time": "2023-11-09T13:39:54.295282Z"
    }
   },
   "outputs": [],
   "source": [
    "def addi(a,b):\n",
    "    \"\"\"\n",
    "    Below code related to adding two numbers\n",
    "    Written by Mobin\n",
    "    Written on 09-Nov-2023\n",
    "    \"\"\"\n",
    "    try:\n",
    "        return a+b \n",
    "    except Exception as e:\n",
    "        print(e)"
   ]
  },
  {
   "cell_type": "code",
   "execution_count": 23,
   "id": "6d4611c7",
   "metadata": {
    "ExecuteTime": {
     "end_time": "2023-11-09T13:39:59.354683Z",
     "start_time": "2023-11-09T13:39:56.843748Z"
    }
   },
   "outputs": [
    {
     "name": "stdout",
     "output_type": "stream",
     "text": [
      "Enter a Value:10\n",
      "Enter b Value:30\n"
     ]
    },
    {
     "data": {
      "text/plain": [
       "40"
      ]
     },
     "execution_count": 23,
     "metadata": {},
     "output_type": "execute_result"
    }
   ],
   "source": [
    "addi(a=eval(input(\"Enter a Value:\")),\n",
    "     b=eval(input(\"Enter b Value:\")))"
   ]
  },
  {
   "cell_type": "code",
   "execution_count": 24,
   "id": "d6e49053",
   "metadata": {
    "ExecuteTime": {
     "end_time": "2023-11-09T13:40:01.388105Z",
     "start_time": "2023-11-09T13:40:01.372432Z"
    }
   },
   "outputs": [
    {
     "name": "stdout",
     "output_type": "stream",
     "text": [
      "\n",
      "    Below code related to adding two numbers\n",
      "    Written by Mobin\n",
      "    Written on 09-Nov-2023\n",
      "    \n"
     ]
    }
   ],
   "source": [
    "print(addi.__doc__)"
   ]
  },
  {
   "cell_type": "markdown",
   "id": "de162b59",
   "metadata": {},
   "source": [
    "Different types of print statements with combination of single and double quotes:\n",
    "- entire string will be in double quotes, the highlited string in single quotes\n",
    "- entire string will be in single quotes, the highlited string in double quotes"
   ]
  },
  {
   "cell_type": "code",
   "execution_count": 25,
   "id": "1ee58ce5",
   "metadata": {
    "ExecuteTime": {
     "end_time": "2023-11-09T13:59:45.995125Z",
     "start_time": "2023-11-09T13:59:45.975137Z"
    }
   },
   "outputs": [
    {
     "name": "stdout",
     "output_type": "stream",
     "text": [
      "Hello 'python'\n"
     ]
    }
   ],
   "source": [
    "print(\"Hello 'python'\")"
   ]
  },
  {
   "cell_type": "code",
   "execution_count": 26,
   "id": "e725321b",
   "metadata": {
    "ExecuteTime": {
     "end_time": "2023-11-09T13:59:59.220846Z",
     "start_time": "2023-11-09T13:59:59.201001Z"
    }
   },
   "outputs": [
    {
     "name": "stdout",
     "output_type": "stream",
     "text": [
      "Hello \"Python\"\n"
     ]
    }
   ],
   "source": [
    "print('Hello \"Python\"')"
   ]
  },
  {
   "cell_type": "markdown",
   "id": "d8da388c",
   "metadata": {
    "ExecuteTime": {
     "end_time": "2023-11-10T13:59:21.688918Z",
     "start_time": "2023-11-10T13:59:21.678925Z"
    }
   },
   "source": [
    "### 2. Concatenate operator: “+” (Joining strings)\n",
    "\n",
    "We can join two or more strings with the help of + operator"
   ]
  },
  {
   "cell_type": "code",
   "execution_count": 19,
   "id": "7fa39929",
   "metadata": {
    "ExecuteTime": {
     "end_time": "2023-11-10T13:53:37.987375Z",
     "start_time": "2023-11-10T13:53:37.975387Z"
    }
   },
   "outputs": [
    {
     "name": "stdout",
     "output_type": "stream",
     "text": [
      "Hello PythonI love Python\n",
      "I love Python Hello Python\n"
     ]
    }
   ],
   "source": [
    "s1='Hello Python'\n",
    "s2='I love Python'\n",
    "print(s1+s2)\n",
    "print(s2+' '+ s1)  # concatenating two strings"
   ]
  },
  {
   "cell_type": "markdown",
   "id": "0f9522fd",
   "metadata": {},
   "source": [
    "### 3. String repetition operator: “*”\n",
    "The same string can be repeated in Python by n times using string*n, as explained in the below example."
   ]
  },
  {
   "cell_type": "code",
   "execution_count": 1,
   "id": "440fc331",
   "metadata": {
    "ExecuteTime": {
     "end_time": "2023-11-12T06:26:39.590295Z",
     "start_time": "2023-11-12T06:26:39.569327Z"
    }
   },
   "outputs": [
    {
     "name": "stdout",
     "output_type": "stream",
     "text": [
      "helloworld helloworld \n",
      "helloworld helloworld helloworld \n",
      "helloworld helloworld helloworld helloworld \n",
      "helloworld helloworld helloworld helloworld helloworld \n"
     ]
    }
   ],
   "source": [
    "string1 = \"helloworld \"\n",
    "print(string1*2)\n",
    "print(string1*3)\n",
    "print(string1*4)\n",
    "print(string1*5)"
   ]
  },
  {
   "cell_type": "markdown",
   "id": "198ddd4e",
   "metadata": {},
   "source": [
    "### 4. String slicing operator: “[]”"
   ]
  },
  {
   "cell_type": "markdown",
   "id": "1a88b115",
   "metadata": {},
   "source": [
    "Acessing string characters in Python"
   ]
  },
  {
   "cell_type": "code",
   "execution_count": 6,
   "id": "234c8567",
   "metadata": {
    "ExecuteTime": {
     "end_time": "2023-11-12T06:46:57.430382Z",
     "start_time": "2023-11-12T06:46:57.420365Z"
    }
   },
   "outputs": [
    {
     "name": "stdout",
     "output_type": "stream",
     "text": [
      "HELLO WORLD\n"
     ]
    },
    {
     "data": {
      "text/plain": [
       "str"
      ]
     },
     "execution_count": 6,
     "metadata": {},
     "output_type": "execute_result"
    }
   ],
   "source": [
    "s=\"HELLO WORLD\"\n",
    "print(s)\n",
    "type(s)"
   ]
  },
  {
   "cell_type": "markdown",
   "id": "ed602cb1",
   "metadata": {},
   "source": [
    "- To access the string characters i.e. elements we will use square [] brackets\n",
    "- Element position will starts from 0 in a string"
   ]
  },
  {
   "cell_type": "markdown",
   "id": "c9f73dd3",
   "metadata": {},
   "source": [
    "Characters from a specific string index can be accessed with the string[index] operator. The index is interpreted as a positive index starting from 0 from the left side and a negative index starting from -1 from the right side."
   ]
  },
  {
   "attachments": {
    "Index%20graph.PNG": {
     "image/png": "[encoded data removed]"
    }
   },
   "cell_type": "markdown",
   "id": "d3705585",
   "metadata": {},
   "source": [
    "![Index%20graph.PNG](attachment:Index%20graph.PNG)"
   ]
  },
  {
   "cell_type": "markdown",
   "id": "70abc4e1",
   "metadata": {},
   "source": [
    "string[a]: Returns a character from a positive index a of the string from the left side, as displayed in the index graph above.\n",
    "\n",
    "string[-a]: Returns a character from a negative index a of the string from the right side, as displayed in the index graph above.\n",
    "\n",
    "string[a:b]: Returns characters from positive index a to positive index b as displayed in the index graph above.\n",
    "\n",
    "string[a:-b]: Returns characters from positive index a to the negative index b of the string as displayed in the index graph above.\n",
    "\n",
    "string[a:]: Returns characters from positive index a to the end of the string.\n",
    "\n",
    "string[:b] Returns characters from the start of the string to the positive index b.\n",
    "\n",
    "string[-a:]: Returns characters from negative index a to the end of the string.\n",
    "\n",
    "string[:-b]: Returns characters from the start of the string to the negative index b.\n",
    "\n",
    "string[::-1]: Returns a string with reverse order."
   ]
  },
  {
   "cell_type": "code",
   "execution_count": 7,
   "id": "576f00e2",
   "metadata": {
    "ExecuteTime": {
     "end_time": "2023-11-12T06:47:02.261876Z",
     "start_time": "2023-11-12T06:47:02.251879Z"
    }
   },
   "outputs": [
    {
     "data": {
      "text/plain": [
       "'H'"
      ]
     },
     "execution_count": 7,
     "metadata": {},
     "output_type": "execute_result"
    }
   ],
   "source": [
    "# Find the first element in string s\n",
    "s[0]"
   ]
  },
  {
   "cell_type": "code",
   "execution_count": 8,
   "id": "f58dbf84",
   "metadata": {
    "ExecuteTime": {
     "end_time": "2023-11-12T06:47:03.979991Z",
     "start_time": "2023-11-12T06:47:03.967001Z"
    }
   },
   "outputs": [
    {
     "data": {
      "text/plain": [
       "'E'"
      ]
     },
     "execution_count": 8,
     "metadata": {},
     "output_type": "execute_result"
    }
   ],
   "source": [
    "# Find the second element in string s\n",
    "s[1]"
   ]
  },
  {
   "cell_type": "code",
   "execution_count": 9,
   "id": "66c7983e",
   "metadata": {
    "ExecuteTime": {
     "end_time": "2023-11-12T06:47:05.811524Z",
     "start_time": "2023-11-12T06:47:05.793554Z"
    }
   },
   "outputs": [
    {
     "data": {
      "text/plain": [
       "'D'"
      ]
     },
     "execution_count": 9,
     "metadata": {},
     "output_type": "execute_result"
    }
   ],
   "source": [
    "# find the last element in string s\n",
    "s[-1]"
   ]
  },
  {
   "cell_type": "markdown",
   "id": "79623d6b",
   "metadata": {},
   "source": [
    "String slicing"
   ]
  },
  {
   "cell_type": "markdown",
   "id": "1b2adb83",
   "metadata": {},
   "source": [
    "Access a range of characters in a string by using the slicing operator colon :"
   ]
  },
  {
   "cell_type": "code",
   "execution_count": 10,
   "id": "9a7c7f26",
   "metadata": {
    "ExecuteTime": {
     "end_time": "2023-11-12T06:47:17.960422Z",
     "start_time": "2023-11-12T06:47:17.949425Z"
    }
   },
   "outputs": [
    {
     "data": {
      "text/plain": [
       "'LLO W'"
      ]
     },
     "execution_count": 10,
     "metadata": {},
     "output_type": "execute_result"
    }
   ],
   "source": [
    "# printing the elements from 3 to 7 in string s and the position starts from 2 and ends at 6 (7-1)\n",
    "s[2:7] "
   ]
  },
  {
   "cell_type": "code",
   "execution_count": 11,
   "id": "e78cb9a0",
   "metadata": {
    "ExecuteTime": {
     "end_time": "2023-11-12T06:47:19.694278Z",
     "start_time": "2023-11-12T06:47:19.682285Z"
    }
   },
   "outputs": [
    {
     "data": {
      "text/plain": [
       "'WORL'"
      ]
     },
     "execution_count": 11,
     "metadata": {},
     "output_type": "execute_result"
    }
   ],
   "source": [
    "# We can use negative index in slicing\n",
    "s[-5:-1]"
   ]
  },
  {
   "cell_type": "markdown",
   "id": "6f4d2247",
   "metadata": {},
   "source": [
    "### 5. String comparison operator: “==” & “!=”\n",
    "\n",
    "The string comparison operator in Python is used to compare two strings.\n",
    "\n",
    "The “==” operator returns Boolean True if two strings are the same and Boolean False if two strings are different.\n",
    "\n",
    "The “!=” operator returns Boolean True if two strings are not the same and returns Boolean False if two strings are the same.\n",
    "\n",
    "These operators are mainly used along with the if condition to compare two strings where the decision will be taken based on string comparison."
   ]
  },
  {
   "cell_type": "code",
   "execution_count": 12,
   "id": "4afd5326",
   "metadata": {
    "ExecuteTime": {
     "end_time": "2023-11-12T06:50:52.292321Z",
     "start_time": "2023-11-12T06:50:52.282326Z"
    }
   },
   "outputs": [
    {
     "name": "stdout",
     "output_type": "stream",
     "text": [
      "False\n",
      "True\n",
      "True\n",
      "False\n"
     ]
    }
   ],
   "source": [
    "string1 = \"hello\"\n",
    "string2 = \"hello, world\"\n",
    "string3 = \"hello, world\"\n",
    "string4 = \"world\"\n",
    "print(string1==string4)\n",
    "print(string2==string3)\n",
    "print(string1!=string4)\n",
    "print(string2!=string3)"
   ]
  },
  {
   "cell_type": "markdown",
   "id": "917822f2",
   "metadata": {},
   "source": [
    "### 6. Membership operator: “in” & “not in”\n",
    "\n",
    "The membership operator searches whether the specific character is part/member of a given input Python string.\n",
    "\n",
    "“a” in the string: Returns boolean True if “a” is in the string and returns False if “a” is not in the string.\n",
    "\n",
    "“a” not in the string: Returns boolean True if “a” is not in the string and returns False if “a” is in the string.\n",
    "\n",
    "A membership operator is also useful to find whether a specific substring is part of a given string."
   ]
  },
  {
   "cell_type": "code",
   "execution_count": 13,
   "id": "68d9bc08",
   "metadata": {
    "ExecuteTime": {
     "end_time": "2023-11-12T06:53:32.633076Z",
     "start_time": "2023-11-12T06:53:32.623082Z"
    }
   },
   "outputs": [
    {
     "name": "stdout",
     "output_type": "stream",
     "text": [
      "True\n",
      "False\n",
      "False\n",
      "True\n",
      "True\n",
      "False\n",
      "False\n"
     ]
    }
   ],
   "source": [
    "string1 = \"helloworld\"\n",
    "print(\"w\" in string1)\n",
    "print(\"W\" in string1)\n",
    "print(\"t\" in string1)\n",
    "print(\"t\" not in string1)\n",
    "print(\"hello\" in string1)\n",
    "print(\"Hello\" in string1)\n",
    "print(\"hello\" not in string1)"
   ]
  },
  {
   "cell_type": "markdown",
   "id": "4e2689fc",
   "metadata": {},
   "source": [
    "### 7. Escape sequence operator: “\\”\n",
    "- An escape character is used to insert a non-allowed character in the given input string. \n",
    "- An escape character is a “\\” or “backslash” operator followed by a non-allowed character. \n",
    "- An example of a non-allowed character in a Python string is inserting double quotes in the string surrounded by double quotes."
   ]
  },
  {
   "cell_type": "code",
   "execution_count": 14,
   "id": "46b376e0",
   "metadata": {
    "ExecuteTime": {
     "end_time": "2023-11-12T06:55:46.527617Z",
     "start_time": "2023-11-12T06:55:46.509627Z"
    }
   },
   "outputs": [
    {
     "ename": "SyntaxError",
     "evalue": "invalid syntax (Temp/ipykernel_13624/282534270.py, line 1)",
     "output_type": "error",
     "traceback": [
      "\u001b[1;36m  File \u001b[1;32m\"C:\\Users\\admin\\AppData\\Local\\Temp/ipykernel_13624/282534270.py\"\u001b[1;36m, line \u001b[1;32m1\u001b[0m\n\u001b[1;33m    string = \"Hello world I am from \"India\"\"\u001b[0m\n\u001b[1;37m                                     ^\u001b[0m\n\u001b[1;31mSyntaxError\u001b[0m\u001b[1;31m:\u001b[0m invalid syntax\n"
     ]
    }
   ],
   "source": [
    "string = \"Hello world I am from \"India\"\"\n",
    "print(string)"
   ]
  },
  {
   "cell_type": "code",
   "execution_count": 16,
   "id": "c57bc732",
   "metadata": {
    "ExecuteTime": {
     "end_time": "2023-11-12T06:56:45.605450Z",
     "start_time": "2023-11-12T06:56:45.596478Z"
    }
   },
   "outputs": [
    {
     "name": "stdout",
     "output_type": "stream",
     "text": [
      "Hello world I am from \"India\" \n"
     ]
    }
   ],
   "source": [
    "string = \"Hello world I am from \\\"India\\\" \"\n",
    "print(string)"
   ]
  },
  {
   "cell_type": "markdown",
   "id": "0fe6d8c0",
   "metadata": {},
   "source": [
    "### 8. String formatting operator: “%” & “{}”\n",
    "- The string formatting operator is used to format a string as per requirement. \n",
    "- To insert another type of variable along with string, the “%” operator is used along with Python string. \n",
    "- “%” is prefixed to another character, indicating the type of value we want to insert along with the Python string. \n",
    "- Please refer to the table below for some of the commonly used different string formatting specifiers:"
   ]
  },
  {
   "attachments": {
    "Formatting%20Operator.PNG": {
     "image/png": "[encoded data removed]"
    }
   },
   "cell_type": "markdown",
   "id": "b38ccb5d",
   "metadata": {},
   "source": [
    "![Formatting%20Operator.PNG](attachment:Formatting%20Operator.PNG)"
   ]
  },
  {
   "cell_type": "code",
   "execution_count": 17,
   "id": "8b3d7764",
   "metadata": {
    "ExecuteTime": {
     "end_time": "2023-11-12T07:05:18.186267Z",
     "start_time": "2023-11-12T07:05:18.174272Z"
    }
   },
   "outputs": [
    {
     "name": "stdout",
     "output_type": "stream",
     "text": [
      "Hey india\n",
      "my age is 19\n",
      "Hey india, my age is 19\n",
      "Hey india, my subject mark is 20.560000\n"
     ]
    }
   ],
   "source": [
    "name = \"india\"\n",
    "age = 19\n",
    "marks = 20.56\n",
    "string1 = 'Hey %s' % (name)\n",
    "print(string1)\n",
    "string2 = 'my age is %d' % (age)\n",
    "print(string2)\n",
    "string3= 'Hey %s, my age is %d' % (name, age)\n",
    "print(string3)\n",
    "string3= 'Hey %s, my subject mark is %f' % (name, marks)\n",
    "print(string3)"
   ]
  },
  {
   "cell_type": "code",
   "execution_count": 20,
   "id": "8f5ed7fa",
   "metadata": {
    "ExecuteTime": {
     "end_time": "2023-11-12T07:07:37.995314Z",
     "start_time": "2023-11-12T07:07:23.949286Z"
    }
   },
   "outputs": [
    {
     "name": "stdout",
     "output_type": "stream",
     "text": [
      "Enter your name\n",
      "Mobin\n",
      "Hey !! Mobin, welcome to the party...\n",
      "\n",
      "\n",
      "Enter first number\n",
      "12\n",
      "Enter second number\n",
      "49\n",
      "sum of 12 and 49 is 61\n",
      "String will be printed in default order:\n",
      "Travelling is life\n",
      "Travelling is love\n",
      "Travelling is love\n",
      "\n",
      "\n",
      "Enter number of items\n",
      "9\n",
      "Mobin is carrying 9 items\n"
     ]
    }
   ],
   "source": [
    "# String formatting using f-strings\n",
    "print(\"Enter your name\")\n",
    "name = input()\n",
    "print(f\"Hey !! {name}, welcome to the party...\")\n",
    "print('\\n')\n",
    "print(\"Enter first number\")\n",
    "a = int(input())\n",
    "print(\"Enter second number\")\n",
    "b = int(input())\n",
    "print(f\"sum of {a} and {b} is {a+b}\")\n",
    "# String formatting using format() method\n",
    "str1 = \"{} {} {}\".format(\"Travelling\", 'is', 'life')\n",
    "print(\"String will be printed in default order:\")\n",
    "print(str1)\n",
    "str2 = \"{1} {2} {0}\".format(\"love\", \"Travelling\", \"is\")\n",
    "print(str2)\n",
    "str3 = \"{T} {i} {l}\".format(T='Travelling', l='love', i='is')\n",
    "print(str3)\n",
    "# String formatting using % operator\n",
    "print('\\n')\n",
    "print(\"Enter number of items\")\n",
    "item = int(input())\n",
    "print(\"%s is carrying %d items\"%(name, item))"
   ]
  },
  {
   "cell_type": "markdown",
   "id": "0ee0ae38",
   "metadata": {},
   "source": [
    "Immutable"
   ]
  },
  {
   "cell_type": "markdown",
   "id": "07b37d85",
   "metadata": {},
   "source": [
    "In Python, strings are immutable. That means the characters of a string cannot be changed"
   ]
  },
  {
   "cell_type": "code",
   "execution_count": 12,
   "id": "4f6c03de",
   "metadata": {
    "ExecuteTime": {
     "end_time": "2023-11-10T13:47:43.594090Z",
     "start_time": "2023-11-10T13:47:43.578120Z"
    }
   },
   "outputs": [
    {
     "ename": "TypeError",
     "evalue": "'str' object does not support item assignment",
     "output_type": "error",
     "traceback": [
      "\u001b[1;31m---------------------------------------------------------------------------\u001b[0m",
      "\u001b[1;31mTypeError\u001b[0m                                 Traceback (most recent call last)",
      "\u001b[1;32m~\\AppData\\Local\\Temp/ipykernel_10796/324621350.py\u001b[0m in \u001b[0;36m<module>\u001b[1;34m\u001b[0m\n\u001b[0;32m      1\u001b[0m \u001b[0ms1\u001b[0m\u001b[1;33m=\u001b[0m\u001b[1;34m'Python'\u001b[0m\u001b[1;33m\u001b[0m\u001b[1;33m\u001b[0m\u001b[0m\n\u001b[1;32m----> 2\u001b[1;33m \u001b[0ms1\u001b[0m\u001b[1;33m[\u001b[0m\u001b[1;36m1\u001b[0m\u001b[1;33m]\u001b[0m\u001b[1;33m=\u001b[0m\u001b[1;34m'M'\u001b[0m\u001b[1;33m\u001b[0m\u001b[1;33m\u001b[0m\u001b[0m\n\u001b[0m",
      "\u001b[1;31mTypeError\u001b[0m: 'str' object does not support item assignment"
     ]
    }
   ],
   "source": [
    "s1='Python'\n",
    "s1[1]='M'"
   ]
  },
  {
   "cell_type": "markdown",
   "id": "eed7cf13",
   "metadata": {},
   "source": [
    "We can assign a new string to the variable"
   ]
  },
  {
   "cell_type": "code",
   "execution_count": 13,
   "id": "48d19b8e",
   "metadata": {
    "ExecuteTime": {
     "end_time": "2023-11-10T13:48:51.697789Z",
     "start_time": "2023-11-10T13:48:51.681799Z"
    }
   },
   "outputs": [
    {
     "data": {
      "text/plain": [
       "'Learning Python'"
      ]
     },
     "execution_count": 13,
     "metadata": {},
     "output_type": "execute_result"
    }
   ],
   "source": [
    "s1='Learning Python'\n",
    "s1"
   ]
  },
  {
   "cell_type": "markdown",
   "id": "9e25dc77",
   "metadata": {},
   "source": [
    "#### String Functions\n",
    "\n",
    "There are many functions to operate on String. However, it’s not feasible to remember all of them. So here I am dividing them into different categories.\n",
    "\n",
    "1. Must Know String Functions\n",
    "2. Good to Know String Functions\n",
    "3. Miscellaneous String Functions\n",
    "4. Built-in Functions that work on String\n",
    "5. Useful String Operations"
   ]
  },
  {
   "attachments": {
    "Functions1.PNG": {
     "image/png": "[encoded data removed]"
    }
   },
   "cell_type": "markdown",
   "id": "eebdd53d",
   "metadata": {},
   "source": [
    "![Functions1.PNG](attachment:Functions1.PNG)"
   ]
  },
  {
   "cell_type": "code",
   "execution_count": 10,
   "id": "3accf938",
   "metadata": {
    "ExecuteTime": {
     "end_time": "2023-11-14T11:36:45.924269Z",
     "start_time": "2023-11-14T11:36:45.912276Z"
    }
   },
   "outputs": [
    {
     "name": "stdout",
     "output_type": "stream",
     "text": [
      "My name is Mobin and age is 39\n"
     ]
    }
   ],
   "source": [
    "# format()\n",
    "# syntax string.format(value1, value2...)\n",
    "name='Mobin'\n",
    "age=39\n",
    "print(\"My name is {} and age is {}\".format(name,age))"
   ]
  },
  {
   "cell_type": "code",
   "execution_count": 3,
   "id": "24e1f3ef",
   "metadata": {
    "ExecuteTime": {
     "end_time": "2023-11-14T11:31:45.031481Z",
     "start_time": "2023-11-14T11:31:45.012495Z"
    }
   },
   "outputs": [
    {
     "name": "stdout",
     "output_type": "stream",
     "text": [
      "['hello', 'my name is Peter', 'I am 26 years old']\n",
      "['apple', 'banana#cherry#orange']\n"
     ]
    }
   ],
   "source": [
    "# split()\n",
    "# syntax  string.split(separator, maxsplit)\n",
    "txt = \"hello, my name is Peter, I am 26 years old\"\n",
    "x = txt.split(\", \")\n",
    "print(x)\n",
    "\n",
    "txt1 = \"apple#banana#cherry#orange\"\n",
    "# setting the maxsplit parameter to 1, will return a list with 2 elements!\n",
    "x1 = txt1.split(\"#\", 1)\n",
    "print(x1)"
   ]
  },
  {
   "cell_type": "code",
   "execution_count": 9,
   "id": "502cee19",
   "metadata": {
    "ExecuteTime": {
     "end_time": "2023-11-14T11:35:34.874918Z",
     "start_time": "2023-11-14T11:35:34.863942Z"
    }
   },
   "outputs": [
    {
     "name": "stdout",
     "output_type": "stream",
     "text": [
      "John AS Norway\n",
      "name AS country\n"
     ]
    }
   ],
   "source": [
    "# join()\n",
    "# syntax string.join(iterable)\n",
    "myDict = {\"name\": \"John\", \"country\": \"Norway\"}\n",
    "mySeparator = \" AS \"\n",
    "x2 = mySeparator.join(myDict.values())\n",
    "print(x2)\n",
    "x3 = mySeparator.join(myDict.keys())\n",
    "print(x3)"
   ]
  },
  {
   "cell_type": "code",
   "execution_count": 15,
   "id": "f95a586c",
   "metadata": {
    "ExecuteTime": {
     "end_time": "2023-11-14T11:38:50.899513Z",
     "start_time": "2023-11-14T11:38:50.879503Z"
    }
   },
   "outputs": [
    {
     "name": "stdout",
     "output_type": "stream",
     "text": [
      "banana\n"
     ]
    }
   ],
   "source": [
    "# strip()\n",
    "# syntax string.strip(characters)\n",
    "txt01 = \",,,,,rrttgg.....banana....rrr\"\n",
    "x01 = txt01.strip(\",.grt\")\n",
    "print(x01)"
   ]
  },
  {
   "cell_type": "code",
   "execution_count": 17,
   "id": "14b5b7f4",
   "metadata": {
    "ExecuteTime": {
     "end_time": "2023-11-14T11:42:17.537918Z",
     "start_time": "2023-11-14T11:42:17.526922Z"
    }
   },
   "outputs": [
    {
     "name": "stdout",
     "output_type": "stream",
     "text": [
      "Mobin's last name is SK\n"
     ]
    }
   ],
   "source": [
    "# format_map()\n",
    "# syntax string.format_map(z)\n",
    "\n",
    "# input stored in variable a. \n",
    "a = {'x':'Mobin', 'y':'SK'} \n",
    "  \n",
    "# Use of format_map() function \n",
    "print(\"{x}'s last name is {y}\".format_map(a))"
   ]
  },
  {
   "cell_type": "code",
   "execution_count": 19,
   "id": "b36f27da",
   "metadata": {
    "ExecuteTime": {
     "end_time": "2023-11-14T11:44:14.620844Z",
     "start_time": "2023-11-14T11:44:11.731470Z"
    }
   },
   "outputs": [
    {
     "name": "stdout",
     "output_type": "stream",
     "text": [
      "Enter the name!!!Mobin\n"
     ]
    },
    {
     "data": {
      "text/plain": [
       "'MOBIN'"
      ]
     },
     "execution_count": 19,
     "metadata": {},
     "output_type": "execute_result"
    }
   ],
   "source": [
    "# upper()\n",
    "# syntax string.upper()\n",
    "name=input(\"Enter the name!!!\")\n",
    "name.upper()"
   ]
  },
  {
   "cell_type": "code",
   "execution_count": 20,
   "id": "72f0c519",
   "metadata": {
    "ExecuteTime": {
     "end_time": "2023-11-14T11:45:19.066847Z",
     "start_time": "2023-11-14T11:45:13.256125Z"
    }
   },
   "outputs": [
    {
     "name": "stdout",
     "output_type": "stream",
     "text": [
      "Enter the name!!!MOBIN IS MOBIN\n"
     ]
    },
    {
     "data": {
      "text/plain": [
       "'mobin is mobin'"
      ]
     },
     "execution_count": 20,
     "metadata": {},
     "output_type": "execute_result"
    }
   ],
   "source": [
    "# lower()\n",
    "# syntax string.lower()\n",
    "name=input(\"Enter the name!!!\")\n",
    "name.lower()"
   ]
  },
  {
   "cell_type": "code",
   "execution_count": 25,
   "id": "4ddc1dbb",
   "metadata": {
    "ExecuteTime": {
     "end_time": "2023-11-14T11:48:30.474806Z",
     "start_time": "2023-11-14T11:48:30.456837Z"
    }
   },
   "outputs": [
    {
     "name": "stdout",
     "output_type": "stream",
     "text": [
      "I Love APPLE!!!\n",
      "I Love APPLE APPLE BANANA BANANA\n"
     ]
    }
   ],
   "source": [
    "# replace()\n",
    "# syntax string.replace(oldvalue, newvalue, count)\n",
    "txt02=\"I Love BANANA!!!\"\n",
    "print(txt02.replace (\"BANANA\",\"APPLE\"))\n",
    "\n",
    "txt03=\"I Love BANANA BANANA BANANA BANANA\"\n",
    "print(txt03.replace (\"BANANA\",\"APPLE\",2))"
   ]
  },
  {
   "cell_type": "code",
   "execution_count": 28,
   "id": "3a51c5c0",
   "metadata": {
    "ExecuteTime": {
     "end_time": "2023-11-14T11:50:56.312452Z",
     "start_time": "2023-11-14T11:50:56.294463Z"
    }
   },
   "outputs": [
    {
     "name": "stdout",
     "output_type": "stream",
     "text": [
      "11\n",
      "8\n"
     ]
    }
   ],
   "source": [
    "# find()\n",
    "# syntax string.find(value, start, end)\n",
    "txt04='My name is Mobin'\n",
    "print(txt04.find(\"Mob\"))\n",
    "print(txt04.find(\"is\",5,10))  # find is between 5 to 10"
   ]
  },
  {
   "cell_type": "code",
   "execution_count": 31,
   "id": "771c7be1",
   "metadata": {
    "ExecuteTime": {
     "end_time": "2023-11-14T11:56:47.525898Z",
     "start_time": "2023-11-14T11:56:47.513928Z"
    }
   },
   "outputs": [
    {
     "name": "stdout",
     "output_type": "stream",
     "text": [
      "Hello Pam!\n"
     ]
    }
   ],
   "source": [
    "# translate()\n",
    "# syntax string.translate()\n",
    "#use a dictionary with ascii codes to replace 83 (S) with 80 (P):\n",
    "mydict = {83:  80}\n",
    "txt = \"Hello Sam!\"\n",
    "print(txt.translate(mydict))"
   ]
  },
  {
   "attachments": {
    "Functions2.PNG": {
     "image/png": "[encoded data removed]"
    }
   },
   "cell_type": "markdown",
   "id": "c5cef44c",
   "metadata": {},
   "source": [
    "![Functions2.PNG](attachment:Functions2.PNG)"
   ]
  },
  {
   "cell_type": "code",
   "execution_count": 42,
   "id": "09cc251f",
   "metadata": {
    "ExecuteTime": {
     "end_time": "2023-11-14T12:03:05.484152Z",
     "start_time": "2023-11-14T12:03:05.466185Z"
    }
   },
   "outputs": [
    {
     "name": "stdout",
     "output_type": "stream",
     "text": [
      "The encoded string in base64 format is :\n",
      "b'geeksforgeeks'\n",
      "The decoded string is :\n",
      "geeksforgeeks\n"
     ]
    }
   ],
   "source": [
    "# encode()\n",
    "# syntax string.encode()\n",
    "\n",
    "# initializing string \n",
    "String = \"geeksforgeeks\"\n",
    "  \n",
    "encoded_string = String.encode('utf-8') \n",
    "print('The encoded string in base64 format is :') \n",
    "print(encoded_string) \n",
    "  \n",
    "decoded_string = encoded_string.decode('utf-8') \n",
    "print('The decoded string is :') \n",
    "print(decoded_string)"
   ]
  },
  {
   "cell_type": "code",
   "execution_count": 51,
   "id": "3cb26fc8",
   "metadata": {
    "ExecuteTime": {
     "end_time": "2023-11-14T12:08:37.175299Z",
     "start_time": "2023-11-14T12:08:37.168303Z"
    }
   },
   "outputs": [
    {
     "name": "stdout",
     "output_type": "stream",
     "text": [
      "2\n",
      "1\n"
     ]
    }
   ],
   "source": [
    "# count()\n",
    "# syntax string.count(value, start, end)\n",
    "txt05 = \"I love apples, apple are my favorite fruit\"\n",
    "x05 = txt05.count(\"apple\")\n",
    "print(x05)\n",
    "\n",
    "txt06 = \"I love apples, apple are my favorite fruit\"\n",
    "x06 = txt06.count(\"apple\", 10, 25)\n",
    "print(x06)"
   ]
  },
  {
   "cell_type": "code",
   "execution_count": 54,
   "id": "19bb2913",
   "metadata": {
    "ExecuteTime": {
     "end_time": "2023-11-14T12:11:22.630350Z",
     "start_time": "2023-11-14T12:11:22.611385Z"
    }
   },
   "outputs": [
    {
     "name": "stdout",
     "output_type": "stream",
     "text": [
      "True\n",
      "False\n"
     ]
    }
   ],
   "source": [
    "# startswith()\n",
    "# syntax string.startswith(value, start, end)\n",
    "\n",
    "txt07 = \"Hello, welcome to my world.\"\n",
    "x07 = txt07.startswith(\"Hello\")\n",
    "print(x07)\n",
    "\n",
    "\n",
    "txt08 = \"Hello, welcome to my world.\"\n",
    "x08 = txt08.startswith(\"wel\", 10, 20)\n",
    "print(x08)"
   ]
  },
  {
   "cell_type": "code",
   "execution_count": 58,
   "id": "9b9906c6",
   "metadata": {
    "ExecuteTime": {
     "end_time": "2023-11-14T12:13:54.400057Z",
     "start_time": "2023-11-14T12:13:54.389085Z"
    }
   },
   "outputs": [
    {
     "name": "stdout",
     "output_type": "stream",
     "text": [
      "True\n",
      "False\n"
     ]
    }
   ],
   "source": [
    "# endswith()\n",
    "# syntax string.endswith(value, start, end)\n",
    "\n",
    "txt09 = \"Hello, welcome to my world.\"\n",
    "x09 = txt09.endswith(\".\")\n",
    "print(x09)\n",
    "\n",
    "txt10 = \"Hello, welcome to my world.\"\n",
    "x10 = txt10.endswith(\"t\",14,15)\n",
    "print(x10)"
   ]
  },
  {
   "cell_type": "code",
   "execution_count": 61,
   "id": "772eb8bc",
   "metadata": {
    "ExecuteTime": {
     "end_time": "2023-11-14T12:16:10.136596Z",
     "start_time": "2023-11-14T12:16:10.122582Z"
    }
   },
   "outputs": [
    {
     "name": "stdout",
     "output_type": "stream",
     "text": [
      "Hello, and welcome to my world.\n",
      "36 is my age.\n",
      "Python is fun!\n"
     ]
    }
   ],
   "source": [
    "# capitalize()\n",
    "# syntax string.capitalize()\n",
    "\n",
    "txt11 = \"hello, and welcome to my world.\"\n",
    "x11 = txt11.capitalize()\n",
    "print (x11)\n",
    "\n",
    "txt12 = \"36 is my age.\"\n",
    "x12 = txt12.capitalize()\n",
    "print (x12)\n",
    "\n",
    "txt13 = \"python is FUN!\"\n",
    "x13 = txt13.capitalize()\n",
    "print (x13)"
   ]
  },
  {
   "cell_type": "code",
   "execution_count": 63,
   "id": "e01cc515",
   "metadata": {
    "ExecuteTime": {
     "end_time": "2023-11-14T12:18:19.021351Z",
     "start_time": "2023-11-14T12:18:19.008336Z"
    }
   },
   "outputs": [
    {
     "name": "stdout",
     "output_type": "stream",
     "text": [
      "       banana       \n",
      "OOOOOOObananaOOOOOOO\n"
     ]
    }
   ],
   "source": [
    "# center()\n",
    "# syntax string.center(length, character)\n",
    "\n",
    "txt14 = \"banana\"\n",
    "x14 = txt14.center(20)\n",
    "print(x14)\n",
    "\n",
    "txt15 = \"banana\"\n",
    "x15 = txt15.center(20, \"O\")\n",
    "print(x15)"
   ]
  },
  {
   "cell_type": "code",
   "execution_count": 64,
   "id": "66f9b04b",
   "metadata": {
    "ExecuteTime": {
     "end_time": "2023-11-14T12:19:42.453097Z",
     "start_time": "2023-11-14T12:19:42.445120Z"
    }
   },
   "outputs": [
    {
     "name": "stdout",
     "output_type": "stream",
     "text": [
      "hello, and welcome to my world!\n"
     ]
    }
   ],
   "source": [
    "# casefold()\n",
    "# syntax string.casefold()\n",
    "\n",
    "txt16 = \"Hello, And Welcome To My World!\"\n",
    "x16 = txt16.casefold()\n",
    "print(x16)"
   ]
  },
  {
   "cell_type": "code",
   "execution_count": 66,
   "id": "1d088cdf",
   "metadata": {
    "ExecuteTime": {
     "end_time": "2023-11-14T12:21:51.602935Z",
     "start_time": "2023-11-14T12:21:51.591933Z"
    }
   },
   "outputs": [
    {
     "name": "stdout",
     "output_type": "stream",
     "text": [
      "H\te\tl\tl\to\n",
      "H       e       l       l       o\n",
      "H e l l o\n",
      "H   e   l   l   o\n",
      "H         e         l         l         o\n"
     ]
    }
   ],
   "source": [
    "# expandtabs()\n",
    "# syntax string.expandtabs(tabsize)\n",
    "\n",
    "txt17 = \"H\\te\\tl\\tl\\to\"\n",
    "\n",
    "print(txt17)\n",
    "print(txt17.expandtabs())\n",
    "print(txt17.expandtabs(2))\n",
    "print(txt17.expandtabs(4))\n",
    "print(txt17.expandtabs(10))"
   ]
  },
  {
   "cell_type": "code",
   "execution_count": 68,
   "id": "eb5389e1",
   "metadata": {
    "ExecuteTime": {
     "end_time": "2023-11-14T12:30:29.690017Z",
     "start_time": "2023-11-14T12:30:29.673049Z"
    }
   },
   "outputs": [
    {
     "name": "stdout",
     "output_type": "stream",
     "text": [
      "7\n",
      "10\n"
     ]
    }
   ],
   "source": [
    "# index()\n",
    "# syntax string.index(value, start, end)\n",
    "\n",
    "txt18 = \"Hello, welcome to my world.\"\n",
    "x18 = txt18.index(\"welcome\")\n",
    "print(x18)\n",
    "\n",
    "txt19 = \"Hello, Welcome to my world\"\n",
    "x19 = txt19.index(\"c\",10,15)\n",
    "print(x19)"
   ]
  },
  {
   "cell_type": "code",
   "execution_count": 70,
   "id": "a967eeff",
   "metadata": {
    "ExecuteTime": {
     "end_time": "2023-11-14T12:53:33.188183Z",
     "start_time": "2023-11-14T12:53:33.168195Z"
    }
   },
   "outputs": [
    {
     "name": "stdout",
     "output_type": "stream",
     "text": [
      "True\n",
      "False\n",
      "string abc contains a = True\n",
      "string abc contains A = False\n",
      "string abc contains X = False\n"
     ]
    }
   ],
   "source": [
    "# __contains__()\n",
    "# syntax string.__contains__()\n",
    "\n",
    "print(str.__contains__('ABC', 'A'))\n",
    "print(str.__contains__('ABC', 'D'))\n",
    "\n",
    "s = 'abc'\n",
    "print('string abc contains a =', s.__contains__('a'))\n",
    "print('string abc contains A =', s.__contains__('A'))\n",
    "print('string abc contains X =', s.__contains__('X'))"
   ]
  },
  {
   "attachments": {
    "Functions3.PNG": {
     "image/png": "[encoded data removed]"
    }
   },
   "cell_type": "markdown",
   "id": "2f9d682f",
   "metadata": {},
   "source": [
    "![Functions3.PNG](attachment:Functions3.PNG)"
   ]
  },
  {
   "cell_type": "code",
   "execution_count": 72,
   "id": "18d23773",
   "metadata": {
    "ExecuteTime": {
     "end_time": "2023-11-14T12:55:55.952471Z",
     "start_time": "2023-11-14T12:55:55.944475Z"
    }
   },
   "outputs": [
    {
     "name": "stdout",
     "output_type": "stream",
     "text": [
      "True\n",
      "False\n"
     ]
    }
   ],
   "source": [
    "# isalnum()\n",
    "# syntax string.isalnum()\n",
    "\n",
    "txt20 = \"Company12\"\n",
    "x20 = txt20.isalnum()\n",
    "print(x20)\n",
    "\n",
    "txt21 = \"Company 12\"\n",
    "x21 = txt21.isalnum()\n",
    "print(x21)"
   ]
  },
  {
   "cell_type": "code",
   "execution_count": 73,
   "id": "851365bc",
   "metadata": {
    "ExecuteTime": {
     "end_time": "2023-11-14T12:57:18.736398Z",
     "start_time": "2023-11-14T12:57:18.726406Z"
    }
   },
   "outputs": [
    {
     "name": "stdout",
     "output_type": "stream",
     "text": [
      "True\n",
      "False\n"
     ]
    }
   ],
   "source": [
    "# isalpha()\n",
    "# syntax string.isalpha()\n",
    "\n",
    "txt22 = \"CompanyX\"\n",
    "x22 = txt22.isalpha()\n",
    "print(x22)\n",
    "\n",
    "txt23 = \"Company10\"\n",
    "x23 = txt23.isalpha()\n",
    "print(x23)"
   ]
  },
  {
   "cell_type": "code",
   "execution_count": 76,
   "id": "6600b3f6",
   "metadata": {
    "ExecuteTime": {
     "end_time": "2023-11-14T13:02:36.688943Z",
     "start_time": "2023-11-14T13:02:36.667953Z"
    }
   },
   "outputs": [
    {
     "name": "stdout",
     "output_type": "stream",
     "text": [
      "True\n",
      "True\n",
      "False\n"
     ]
    }
   ],
   "source": [
    "# isdecimal()\n",
    "# syntax string.isdecimal()\n",
    "\n",
    "txt24 = \"1234\"\n",
    "x24 = txt24.isdecimal()\n",
    "print(x24)\n",
    "\n",
    "a = \"\\u0030\" #unicode for 0\n",
    "b = \"\\u0047\" #unicode for G\n",
    "print(a.isdecimal())\n",
    "print(b.isdecimal())"
   ]
  },
  {
   "cell_type": "code",
   "execution_count": 78,
   "id": "1b302435",
   "metadata": {
    "ExecuteTime": {
     "end_time": "2023-11-14T13:03:22.750197Z",
     "start_time": "2023-11-14T13:03:22.739203Z"
    }
   },
   "outputs": [
    {
     "name": "stdout",
     "output_type": "stream",
     "text": [
      "True\n",
      "True\n",
      "True\n"
     ]
    }
   ],
   "source": [
    "# isdigit()\n",
    "# syntax string.isdigit()\n",
    "\n",
    "txt25 = \"50800\"\n",
    "x25 = txt25.isdigit()\n",
    "print(x25)\n",
    "\n",
    "a = \"\\u0030\" #unicode for 0\n",
    "b = \"\\u00B2\" #unicode for ²\n",
    "print(a.isdigit())\n",
    "print(b.isdigit())"
   ]
  },
  {
   "cell_type": "code",
   "execution_count": 80,
   "id": "28d2aad9",
   "metadata": {
    "ExecuteTime": {
     "end_time": "2023-11-14T13:06:09.004325Z",
     "start_time": "2023-11-14T13:06:08.982055Z"
    }
   },
   "outputs": [
    {
     "name": "stdout",
     "output_type": "stream",
     "text": [
      "True\n",
      "True\n",
      "True\n",
      "False\n",
      "False\n"
     ]
    }
   ],
   "source": [
    "# isidentifier()\n",
    "# syntax string.isidentifier()\n",
    "\n",
    "txt26 = \"Demo\"\n",
    "x26 = txt26.isidentifier()\n",
    "print(x26)\n",
    "\n",
    "a = \"MyFolder\"\n",
    "b = \"Demo002\"\n",
    "c = \"2bring\"\n",
    "d = \"my demo\"\n",
    "\n",
    "print(a.isidentifier())\n",
    "print(b.isidentifier())\n",
    "print(c.isidentifier())\n",
    "print(d.isidentifier())"
   ]
  },
  {
   "cell_type": "code",
   "execution_count": 83,
   "id": "d11f2bc0",
   "metadata": {
    "ExecuteTime": {
     "end_time": "2023-11-14T13:09:03.940911Z",
     "start_time": "2023-11-14T13:09:03.922922Z"
    }
   },
   "outputs": [
    {
     "name": "stdout",
     "output_type": "stream",
     "text": [
      "True\n",
      "False\n",
      "False\n",
      "True\n",
      "False\n"
     ]
    }
   ],
   "source": [
    "# islower()\n",
    "# syntax string.islower()\n",
    "\n",
    "txt27 = \"hello world!\"\n",
    "x27 = txt27.islower()\n",
    "print(x27)\n",
    "\n",
    "txt28 = \"HELLO WORLD!\"\n",
    "x28 = txt28.islower()\n",
    "print(x28)\n",
    "\n",
    "a = \"Hello world!\"\n",
    "b = \"hello 123\"\n",
    "c = \"mynameisPeter\"\n",
    "\n",
    "print(a.islower())\n",
    "print(b.islower())\n",
    "print(c.islower())"
   ]
  },
  {
   "cell_type": "code",
   "execution_count": 85,
   "id": "f995b265",
   "metadata": {
    "ExecuteTime": {
     "end_time": "2023-11-14T13:11:56.670965Z",
     "start_time": "2023-11-14T13:11:56.655974Z"
    }
   },
   "outputs": [
    {
     "name": "stdout",
     "output_type": "stream",
     "text": [
      "True\n",
      "True\n",
      "True\n",
      "False\n",
      "False\n",
      "False\n"
     ]
    }
   ],
   "source": [
    "# isnumeric()\n",
    "# syntax string.isnumeric()\n",
    "\n",
    "txt29 = \"565543\"\n",
    "x29 = txt29.isnumeric()\n",
    "print(x29)\n",
    "\n",
    "a = \"\\u0030\" #unicode for 0\n",
    "b = \"\\u00B2\" #unicode for &sup2;\n",
    "c = \"10km2\"\n",
    "d = \"-1\"\n",
    "e = \"1.5\"\n",
    "\n",
    "print(a.isnumeric())\n",
    "print(b.isnumeric())\n",
    "print(c.isnumeric())\n",
    "print(d.isnumeric())\n",
    "print(e.isnumeric())"
   ]
  },
  {
   "cell_type": "code",
   "execution_count": 88,
   "id": "ee3630f6",
   "metadata": {
    "ExecuteTime": {
     "end_time": "2023-11-14T13:18:25.312323Z",
     "start_time": "2023-11-14T13:18:25.307321Z"
    }
   },
   "outputs": [
    {
     "name": "stdout",
     "output_type": "stream",
     "text": [
      "True\n"
     ]
    }
   ],
   "source": [
    "# isprintable()\n",
    "# syntax string.isprintable()\n",
    "\n",
    "txt30 = \"Hello! Are you #1?\"\n",
    "x30 = txt30.isprintable()\n",
    "print(x30)"
   ]
  },
  {
   "cell_type": "code",
   "execution_count": 90,
   "id": "763211f8",
   "metadata": {
    "ExecuteTime": {
     "end_time": "2023-11-14T13:21:46.846678Z",
     "start_time": "2023-11-14T13:21:46.837704Z"
    }
   },
   "outputs": [
    {
     "name": "stdout",
     "output_type": "stream",
     "text": [
      "False\n",
      "True\n"
     ]
    }
   ],
   "source": [
    "# isspace()\n",
    "# syntax string.isspace()\n",
    "\n",
    "txt31 = \"   s   \"\n",
    "x31 = txt31.isspace()\n",
    "print(x31)\n",
    "\n",
    "txt32 = \"   \"\n",
    "x32 = txt32.isspace()\n",
    "print(x32)"
   ]
  },
  {
   "cell_type": "code",
   "execution_count": 92,
   "id": "38cd9c9d",
   "metadata": {
    "ExecuteTime": {
     "end_time": "2023-11-14T13:23:25.060150Z",
     "start_time": "2023-11-14T13:23:25.043162Z"
    }
   },
   "outputs": [
    {
     "name": "stdout",
     "output_type": "stream",
     "text": [
      "False\n",
      "False\n",
      "True\n",
      "True\n",
      "True\n"
     ]
    }
   ],
   "source": [
    "# istitle()\n",
    "# syntax string.istitle()\n",
    "\n",
    "txt33 = \"Hello, And Welcome To My World!\"\n",
    "x33 = txt.istitle()\n",
    "print(x33)\n",
    "\n",
    "a = \"HELLO, AND WELCOME TO MY WORLD\"\n",
    "b = \"Hello\"\n",
    "c = \"22 Names\"\n",
    "d = \"This Is %'!?\"\n",
    "\n",
    "print(a.istitle())\n",
    "print(b.istitle())\n",
    "print(c.istitle())\n",
    "print(d.istitle())"
   ]
  },
  {
   "cell_type": "code",
   "execution_count": 94,
   "id": "0b65fc52",
   "metadata": {
    "ExecuteTime": {
     "end_time": "2023-11-14T13:25:38.268173Z",
     "start_time": "2023-11-14T13:25:38.246186Z"
    }
   },
   "outputs": [
    {
     "name": "stdout",
     "output_type": "stream",
     "text": [
      "True\n",
      "False\n",
      "False\n",
      "True\n"
     ]
    }
   ],
   "source": [
    "# isupper()\n",
    "# syntax string.isupper()\n",
    "\n",
    "txt34 = \"THIS IS NOW!\"\n",
    "x34 = txt34.isupper()\n",
    "print(x34)\n",
    "\n",
    "a = \"Hello World!\"\n",
    "b = \"hello 123\"\n",
    "c = \"MY NAME IS PETER\"\n",
    "\n",
    "print(a.isupper())\n",
    "print(b.isupper())\n",
    "print(c.isupper())"
   ]
  },
  {
   "cell_type": "code",
   "execution_count": 96,
   "id": "a73e4a4e",
   "metadata": {
    "ExecuteTime": {
     "end_time": "2023-11-14T13:29:53.186668Z",
     "start_time": "2023-11-14T13:29:53.167676Z"
    }
   },
   "outputs": [
    {
     "name": "stdout",
     "output_type": "stream",
     "text": [
      "              banana is my favorite fruit.\n",
      "OOOOOOOOOOOOOObanana\n"
     ]
    }
   ],
   "source": [
    "# rjust(), ljust()\n",
    "# syntax string.rjust(length, character)\n",
    "\n",
    "txt35 = \"banana\"\n",
    "x35 = txt35.rjust(20)\n",
    "print(x35, \"is my favorite fruit.\")\n",
    "\n",
    "txt36 = \"banana\"\n",
    "x36 = txt36.rjust(20, \"O\")\n",
    "print(x36)"
   ]
  },
  {
   "cell_type": "code",
   "execution_count": 97,
   "id": "b92f40a4",
   "metadata": {
    "ExecuteTime": {
     "end_time": "2023-11-14T13:32:18.044656Z",
     "start_time": "2023-11-14T13:32:18.023669Z"
    }
   },
   "outputs": [
    {
     "name": "stdout",
     "output_type": "stream",
     "text": [
      "banana               is my favorite fruit.\n",
      "bananaOOOOOOOOOOOOOO\n"
     ]
    }
   ],
   "source": [
    "# ljust()\n",
    "# syntax string.ljust(length, character)\n",
    "\n",
    "txt36 = \"banana\"\n",
    "x36 = txt36.ljust(20)\n",
    "print(x36, \"is my favorite fruit.\")\n",
    "\n",
    "txt37 = \"banana\"\n",
    "x37 = txt37.ljust(20, \"O\")\n",
    "print(x37)"
   ]
  },
  {
   "cell_type": "code",
   "execution_count": 98,
   "id": "afc02245",
   "metadata": {
    "ExecuteTime": {
     "end_time": "2023-11-14T13:34:36.765556Z",
     "start_time": "2023-11-14T13:34:36.751563Z"
    }
   },
   "outputs": [
    {
     "name": "stdout",
     "output_type": "stream",
     "text": [
      "       banana        is my favorite fruit.\n",
      "OOOOOOObananaOOOOOOO\n"
     ]
    }
   ],
   "source": [
    "# center()\n",
    "# syntax string.center(length, character)\n",
    "\n",
    "txt38 = \"banana\"\n",
    "x38 = txt38.center(20)\n",
    "print(x38, \"is my favorite fruit.\")\n",
    "\n",
    "txt39 = \"banana\"\n",
    "x39 = txt39.center(20, \"O\")\n",
    "print(x39)"
   ]
  },
  {
   "cell_type": "code",
   "execution_count": 102,
   "id": "3b40f5c0",
   "metadata": {
    "ExecuteTime": {
     "end_time": "2023-11-14T13:38:06.851273Z",
     "start_time": "2023-11-14T13:38:06.842278Z"
    }
   },
   "outputs": [
    {
     "name": "stdout",
     "output_type": "stream",
     "text": [
      "hELLO mY nAME iS mOBIN\n",
      "hello my name is mobin\n",
      "HELLO MY NAME IS MOBIN\n"
     ]
    }
   ],
   "source": [
    "# swapcase()\n",
    "# syntax string.swapcase()\n",
    "\n",
    "txt39 = \"Hello My Name Is Mobin\"\n",
    "x39 = txt39.swapcase()\n",
    "print(x39)\n",
    "\n",
    "txt40 = \"HELLO MY NAME IS MOBIN\"\n",
    "x40 = txt40.swapcase()\n",
    "print(x40)\n",
    "\n",
    "txt41 = \"hello my name is mobin\"\n",
    "x41 = txt41.swapcase()\n",
    "print(x41)"
   ]
  },
  {
   "cell_type": "code",
   "execution_count": 104,
   "id": "fafd9e06",
   "metadata": {
    "ExecuteTime": {
     "end_time": "2023-11-14T13:44:21.489807Z",
     "start_time": "2023-11-14T13:44:21.480811Z"
    }
   },
   "outputs": [
    {
     "name": "stdout",
     "output_type": "stream",
     "text": [
      "('I could eat ', 'bananas', ' all day')\n",
      "('I could eat bananas all day', '', '')\n"
     ]
    }
   ],
   "source": [
    "# partition()\n",
    "# syntax string.partition(value)\n",
    "\n",
    "txt42 = \"I could eat bananas all day\"\n",
    "x42 = txt42.partition(\"bananas\")\n",
    "print(x42)\n",
    "\n",
    "txt43 = \"I could eat bananas all day\"\n",
    "x43 = txt43.partition(\"apples\")\n",
    "print(x43)"
   ]
  },
  {
   "cell_type": "code",
   "execution_count": 107,
   "id": "8c775237",
   "metadata": {
    "ExecuteTime": {
     "end_time": "2023-11-14T13:47:24.354228Z",
     "start_time": "2023-11-14T13:47:24.340256Z"
    }
   },
   "outputs": [
    {
     "name": "stdout",
     "output_type": "stream",
     "text": [
      "['Thank you for the music', 'Welcome to the jungle']\n",
      "['Thank you for the music\\n', 'Welcome to the jungle']\n",
      "['Thank you for the music', 'Welcome to the jungle']\n"
     ]
    }
   ],
   "source": [
    "# splitlines()\n",
    "# syntax string.splitlines(keeplinebreaks)\n",
    "\n",
    "txt44 = \"Thank you for the music\\nWelcome to the jungle\"\n",
    "x44 = txt44.splitlines()\n",
    "print(x44)\n",
    "\n",
    "txt45 = \"Thank you for the music\\nWelcome to the jungle\"\n",
    "x45 = txt45.splitlines(True)\n",
    "print(x45)\n",
    "\n",
    "txt46 = \"Thank you for the music\\nWelcome to the jungle\"\n",
    "x46 = txt46.splitlines(False)\n",
    "print(x46)"
   ]
  },
  {
   "cell_type": "code",
   "execution_count": 109,
   "id": "13b3d238",
   "metadata": {
    "ExecuteTime": {
     "end_time": "2023-11-14T13:51:18.076506Z",
     "start_time": "2023-11-14T13:51:18.061513Z"
    }
   },
   "outputs": [
    {
     "name": "stdout",
     "output_type": "stream",
     "text": [
      "Welcome To My World\n",
      "Welcome To My 2Nd World\n"
     ]
    }
   ],
   "source": [
    "# title()\n",
    "# syntax string.title()\n",
    "\n",
    "txt46 = \"Welcome to my world\"\n",
    "x46 = txt46.title()\n",
    "print(x46)\n",
    "\n",
    "txt47 = \"Welcome to my 2nd world\"\n",
    "x47 = txt47.title()\n",
    "print(x47)"
   ]
  },
  {
   "cell_type": "code",
   "execution_count": 3,
   "id": "44cef1fd",
   "metadata": {
    "ExecuteTime": {
     "end_time": "2023-11-16T12:07:03.224388Z",
     "start_time": "2023-11-16T12:07:03.205817Z"
    }
   },
   "outputs": [
    {
     "name": "stdout",
     "output_type": "stream",
     "text": [
      "0000000050\n",
      "00000hello\n",
      "welcome to the jungle\n",
      "000010.000\n"
     ]
    }
   ],
   "source": [
    "# zfill\n",
    "# syntax string.zfill(len)\n",
    "\n",
    "txt48 = \"50\"\n",
    "x48 = txt48.zfill(10)\n",
    "print(x48)\n",
    "\n",
    "a = \"hello\"\n",
    "b = \"welcome to the jungle\"\n",
    "c = \"10.000\"\n",
    "print(a.zfill(10))\n",
    "print(b.zfill(10))\n",
    "print(c.zfill(10))"
   ]
  },
  {
   "attachments": {
    "Functions4.PNG": {
     "image/png": "[encoded data removed]"
    }
   },
   "cell_type": "markdown",
   "id": "1b0644c7",
   "metadata": {},
   "source": [
    "![Functions4.PNG](attachment:Functions4.PNG)"
   ]
  },
  {
   "cell_type": "code",
   "execution_count": 7,
   "id": "32880d1d",
   "metadata": {
    "ExecuteTime": {
     "end_time": "2023-11-16T12:11:06.995896Z",
     "start_time": "2023-11-16T12:11:06.987921Z"
    }
   },
   "outputs": [
    {
     "name": "stdout",
     "output_type": "stream",
     "text": [
      "3\n",
      "5\n"
     ]
    }
   ],
   "source": [
    "# len()\n",
    "# syntax len(object)\n",
    "\n",
    "mylist = [\"apple\", \"banana\", \"cherry\"]\n",
    "x49 = len(mylist)\n",
    "print(x49)\n",
    "\n",
    "mystr = \"Hello\"\n",
    "x50 = len(mystr)\n",
    "print(x50)"
   ]
  },
  {
   "cell_type": "code",
   "execution_count": 8,
   "id": "66206490",
   "metadata": {
    "ExecuteTime": {
     "end_time": "2023-11-16T12:13:21.119683Z",
     "start_time": "2023-11-16T12:13:21.113591Z"
    }
   },
   "outputs": [
    {
     "name": "stdout",
     "output_type": "stream",
     "text": [
      "'My name is St\\xe5le'\n"
     ]
    }
   ],
   "source": [
    "# ascii()\n",
    "# Sytax ascii(object)     object --> An object, like String, List, Tuple, Dictionary etc.\n",
    "x51 = ascii(\"My name is Ståle\")\n",
    "print(x51)"
   ]
  },
  {
   "cell_type": "code",
   "execution_count": 11,
   "id": "f2b15e06",
   "metadata": {
    "ExecuteTime": {
     "end_time": "2023-11-16T12:18:21.261548Z",
     "start_time": "2023-11-16T12:18:21.250709Z"
    }
   },
   "outputs": [
    {
     "name": "stdout",
     "output_type": "stream",
     "text": [
      "True\n",
      "False\n",
      "False\n"
     ]
    }
   ],
   "source": [
    "# bool()\n",
    "# Syntax bool(object)  object --> An object, like String, List, Tuple, Dictionary etc.\n",
    "\n",
    "x52 = bool(1)\n",
    "print(x52)\n",
    "\n",
    "x53=bool([])\n",
    "print(x53)\n",
    "\n",
    "x54=bool(0)\n",
    "print(x54)"
   ]
  },
  {
   "cell_type": "code",
   "execution_count": 12,
   "id": "eb8fe2d0",
   "metadata": {
    "ExecuteTime": {
     "end_time": "2023-11-16T12:20:41.866978Z",
     "start_time": "2023-11-16T12:20:41.848275Z"
    }
   },
   "outputs": [
    {
     "name": "stdout",
     "output_type": "stream",
     "text": [
      "bytearray(b'\\x00\\x00\\x00\\x00')\n"
     ]
    }
   ],
   "source": [
    "# bytearray()\n",
    "# Syntax bytearray(x, encoding, error)     x\tA source to use when creating the bytearray object.\n",
    "                             # If it is an integer, an empty bytearray object of the specified size will be created.\n",
    "                             # If it is a String, make sure you specify the encoding of the source.\n",
    "x55 = bytearray(4)\n",
    "print(x55)"
   ]
  },
  {
   "cell_type": "code",
   "execution_count": 14,
   "id": "a8177970",
   "metadata": {
    "ExecuteTime": {
     "end_time": "2023-11-16T12:24:27.823838Z",
     "start_time": "2023-11-16T12:24:27.817174Z"
    }
   },
   "outputs": [
    {
     "name": "stdout",
     "output_type": "stream",
     "text": [
      "b'\\x00\\x00\\x00\\x00'\n"
     ]
    }
   ],
   "source": [
    "# bytes()\n",
    "# Syntax bytes(x, encoding, error)\n",
    "\n",
    "x56 = bytes(4)\n",
    "print(x56)"
   ]
  },
  {
   "cell_type": "code",
   "execution_count": 16,
   "id": "ee018aea",
   "metadata": {
    "ExecuteTime": {
     "end_time": "2023-11-16T12:26:12.452219Z",
     "start_time": "2023-11-16T12:26:12.427544Z"
    }
   },
   "outputs": [
    {
     "name": "stdout",
     "output_type": "stream",
     "text": [
      "104\n"
     ]
    },
    {
     "ename": "TypeError",
     "evalue": "ord() expected a character, but string of length 5 found",
     "output_type": "error",
     "traceback": [
      "\u001b[1;31m---------------------------------------------------------------------------\u001b[0m",
      "\u001b[1;31mTypeError\u001b[0m                                 Traceback (most recent call last)",
      "\u001b[1;32m~\\AppData\\Local\\Temp/ipykernel_6476/1709767789.py\u001b[0m in \u001b[0;36m<module>\u001b[1;34m\u001b[0m\n\u001b[0;32m      5\u001b[0m \u001b[0mprint\u001b[0m\u001b[1;33m(\u001b[0m\u001b[0mx57\u001b[0m\u001b[1;33m)\u001b[0m\u001b[1;33m\u001b[0m\u001b[1;33m\u001b[0m\u001b[0m\n\u001b[0;32m      6\u001b[0m \u001b[1;33m\u001b[0m\u001b[0m\n\u001b[1;32m----> 7\u001b[1;33m \u001b[0mx58\u001b[0m\u001b[1;33m=\u001b[0m\u001b[0mord\u001b[0m\u001b[1;33m(\u001b[0m\u001b[1;34m\"Mobin\"\u001b[0m\u001b[1;33m)\u001b[0m\u001b[1;33m\u001b[0m\u001b[1;33m\u001b[0m\u001b[0m\n\u001b[0m\u001b[0;32m      8\u001b[0m \u001b[0mprint\u001b[0m\u001b[1;33m(\u001b[0m\u001b[0mx58\u001b[0m\u001b[1;33m)\u001b[0m\u001b[1;33m\u001b[0m\u001b[1;33m\u001b[0m\u001b[0m\n",
      "\u001b[1;31mTypeError\u001b[0m: ord() expected a character, but string of length 5 found"
     ]
    }
   ],
   "source": [
    "# ord()\n",
    "# Syntax ord(character)\n",
    "\n",
    "x57 = ord(\"h\")\n",
    "print(x57)\n",
    "\n",
    "x58=ord(\"Mobin\")\n",
    "print(x58)"
   ]
  },
  {
   "cell_type": "code",
   "execution_count": 17,
   "id": "c4f9a25b",
   "metadata": {
    "ExecuteTime": {
     "end_time": "2023-11-16T12:27:46.137288Z",
     "start_time": "2023-11-16T12:27:46.117299Z"
    }
   },
   "outputs": [
    {
     "name": "stdout",
     "output_type": "stream",
     "text": [
      "a\n"
     ]
    }
   ],
   "source": [
    "#chr()\n",
    "# Syntax chr(number)\n",
    "\n",
    "x59 = chr(97)\n",
    "print(x59)"
   ]
  },
  {
   "cell_type": "code",
   "execution_count": 18,
   "id": "21b42976",
   "metadata": {
    "ExecuteTime": {
     "end_time": "2023-11-16T12:29:15.951476Z",
     "start_time": "2023-11-16T12:29:15.944080Z"
    }
   },
   "outputs": [
    {
     "name": "stdout",
     "output_type": "stream",
     "text": [
      "<enumerate object at 0x000002273B795780>\n"
     ]
    }
   ],
   "source": [
    "# enumerate()\n",
    "# Syntax enumerate(iterable, start)\n",
    "\n",
    "x60 = ('apple', 'banana', 'cherry')\n",
    "y60 = enumerate(x60)\n",
    "print(y60)"
   ]
  },
  {
   "cell_type": "code",
   "execution_count": 20,
   "id": "d1d5f2a6",
   "metadata": {
    "ExecuteTime": {
     "end_time": "2023-11-16T12:31:02.463526Z",
     "start_time": "2023-11-16T12:31:02.457529Z"
    }
   },
   "outputs": [
    {
     "name": "stdout",
     "output_type": "stream",
     "text": [
      "3.0\n",
      "3.5\n"
     ]
    }
   ],
   "source": [
    "# float()\n",
    "# Syntax float(value)\n",
    "\n",
    "x61 = float(3)\n",
    "print(x61)\n",
    "\n",
    "x62 = float(\"3.500\")\n",
    "print(x62)"
   ]
  },
  {
   "cell_type": "code",
   "execution_count": 21,
   "id": "b6a33689",
   "metadata": {
    "ExecuteTime": {
     "end_time": "2023-11-16T12:32:53.757885Z",
     "start_time": "2023-11-16T12:32:53.732542Z"
    }
   },
   "outputs": [
    {
     "name": "stdout",
     "output_type": "stream",
     "text": [
      "The tuple hash value is : -5659871693760987716\n"
     ]
    },
    {
     "ename": "TypeError",
     "evalue": "unhashable type: 'list'",
     "output_type": "error",
     "traceback": [
      "\u001b[1;31m---------------------------------------------------------------------------\u001b[0m",
      "\u001b[1;31mTypeError\u001b[0m                                 Traceback (most recent call last)",
      "\u001b[1;32m~\\AppData\\Local\\Temp/ipykernel_6476/3331272354.py\u001b[0m in \u001b[0;36m<module>\u001b[1;34m\u001b[0m\n\u001b[0;32m     13\u001b[0m \u001b[1;31m# to convert mutable object\u001b[0m\u001b[1;33m\u001b[0m\u001b[1;33m\u001b[0m\u001b[0m\n\u001b[0;32m     14\u001b[0m \u001b[0mprint\u001b[0m\u001b[1;33m(\u001b[0m\u001b[1;34m\"The tuple hash value is : \"\u001b[0m \u001b[1;33m+\u001b[0m \u001b[0mstr\u001b[0m\u001b[1;33m(\u001b[0m\u001b[0mhash\u001b[0m\u001b[1;33m(\u001b[0m\u001b[0mtuple_val\u001b[0m\u001b[1;33m)\u001b[0m\u001b[1;33m)\u001b[0m\u001b[1;33m)\u001b[0m\u001b[1;33m\u001b[0m\u001b[1;33m\u001b[0m\u001b[0m\n\u001b[1;32m---> 15\u001b[1;33m \u001b[0mprint\u001b[0m\u001b[1;33m(\u001b[0m\u001b[1;34m\"The list hash value is : \"\u001b[0m \u001b[1;33m+\u001b[0m \u001b[0mstr\u001b[0m\u001b[1;33m(\u001b[0m\u001b[0mhash\u001b[0m\u001b[1;33m(\u001b[0m\u001b[0mlist_val\u001b[0m\u001b[1;33m)\u001b[0m\u001b[1;33m)\u001b[0m\u001b[1;33m)\u001b[0m\u001b[1;33m\u001b[0m\u001b[1;33m\u001b[0m\u001b[0m\n\u001b[0m",
      "\u001b[1;31mTypeError\u001b[0m: unhashable type: 'list'"
     ]
    }
   ],
   "source": [
    "# hash()\n",
    "# Syntax hash(object)\n",
    "\n",
    "# initializing objects\n",
    "# tuple are immutable\n",
    "tuple_val = (1, 2, 3, 4, 5)\n",
    " \n",
    "# list are mutable\n",
    "list_val = [1, 2, 3, 4, 5]\n",
    "\n",
    "# Printing the hash values.\n",
    "# Notice exception when trying\n",
    "# to convert mutable object\n",
    "print(\"The tuple hash value is : \" + str(hash(tuple_val)))\n",
    "print(\"The list hash value is : \" + str(hash(list_val)))"
   ]
  },
  {
   "cell_type": "code",
   "execution_count": 22,
   "id": "bf8c154c",
   "metadata": {
    "ExecuteTime": {
     "end_time": "2023-11-16T12:34:21.442569Z",
     "start_time": "2023-11-16T12:34:21.433366Z"
    }
   },
   "outputs": [
    {
     "name": "stdout",
     "output_type": "stream",
     "text": [
      "2367518761792\n"
     ]
    }
   ],
   "source": [
    "# id()\n",
    "# Syntax id(object)\n",
    "\n",
    "x63 = ('apple', 'banana', 'cherry')\n",
    "y63 = id(x63)\n",
    "print(y63)"
   ]
  },
  {
   "cell_type": "code",
   "execution_count": 24,
   "id": "47c5372e",
   "metadata": {
    "ExecuteTime": {
     "end_time": "2023-11-16T12:36:05.388415Z",
     "start_time": "2023-11-16T12:36:05.368053Z"
    }
   },
   "outputs": [
    {
     "name": "stdout",
     "output_type": "stream",
     "text": [
      "3\n",
      "12\n"
     ]
    }
   ],
   "source": [
    "# int()\n",
    "# Syntax  int(value, base)      value\tA number or a string that can be converted into an integer number\n",
    "                               # base\tA number representing the number format. Default value: 10\n",
    "\n",
    "x64 = int(3.5)\n",
    "print(x64)\n",
    "\n",
    "x65 = int(\"12\")\n",
    "print(x65)"
   ]
  },
  {
   "cell_type": "code",
   "execution_count": 32,
   "id": "415e4d3c",
   "metadata": {
    "ExecuteTime": {
     "end_time": "2023-11-16T12:39:30.031208Z",
     "start_time": "2023-11-16T12:39:30.013940Z"
    }
   },
   "outputs": [
    {
     "name": "stdout",
     "output_type": "stream",
     "text": [
      "<map object at 0x000002273B797D30>\n"
     ]
    },
    {
     "data": {
      "text/plain": [
       "<map at 0x2273b797760>"
      ]
     },
     "execution_count": 32,
     "metadata": {},
     "output_type": "execute_result"
    }
   ],
   "source": [
    "# map()\n",
    "# Syntax  map(function, iterables)    function\tRequired. The function to execute for each item\n",
    "                                    # iterable\tRequired. A sequence, collection or an iterator object. You can send as many iterables as you like, just make sure the function has one parameter for each iterable.\n",
    "\n",
    "\n",
    "def myfunc(n):\n",
    "  return len(n)\n",
    "\n",
    "x64 = map(myfunc, ('apple', 'banana', 'cherry'))\n",
    "print(x64)\n",
    "\n",
    "def myfunc1(a, b):\n",
    "  return a + b\n",
    "\n",
    "x65 = map(myfunc1, ('apple', 'banana', 'cherry'), ('orange', 'lemon', 'pineapple'))\n",
    "x65"
   ]
  },
  {
   "cell_type": "code",
   "execution_count": 37,
   "id": "7d9d2ade",
   "metadata": {
    "ExecuteTime": {
     "end_time": "2023-11-16T12:42:10.766839Z",
     "start_time": "2023-11-16T12:42:10.751824Z"
    }
   },
   "outputs": [
    {
     "name": "stdout",
     "output_type": "stream",
     "text": [
      "Hello World\n",
      "Hello how are you?\n",
      "('apple', 'banana', 'cherry')\n",
      "Hello---how are you?\n"
     ]
    }
   ],
   "source": [
    "# print()\n",
    "# Sytnatx print(object(s), sep=separator, end=end, file=file, flush=flush)\n",
    "        # object(s)\tAny object, and as many as you like. Will be converted to string before printed\n",
    "        # sep='separator'\tOptional. Specify how to separate the objects, if there is more than one. Default is ' '\n",
    "        # end='end'\tOptional. Specify what to print at the end. Default is '\\n' (line feed)\n",
    "        # file\tOptional. An object with a write method. Default is sys.stdout\n",
    "        # flush\tOptional. A Boolean, specifying if the output is flushed (True) or buffered (False). Default is False\n",
    "        \n",
    "print(\"Hello World\")\n",
    "print(\"Hello\", \"how are you?\")\n",
    "\n",
    "x66 = (\"apple\", \"banana\", \"cherry\")\n",
    "print(x66)\n",
    "\n",
    "print(\"Hello\", \"how are you?\", sep=\"---\")"
   ]
  },
  {
   "cell_type": "code",
   "execution_count": 41,
   "id": "2bef8061",
   "metadata": {
    "ExecuteTime": {
     "end_time": "2023-11-16T12:45:36.876895Z",
     "start_time": "2023-11-16T12:45:36.862899Z"
    }
   },
   "outputs": [
    {
     "name": "stdout",
     "output_type": "stream",
     "text": [
      "('a', 'b')\n",
      "('d', 'e')\n",
      "('a', 'd', 'g')\n"
     ]
    }
   ],
   "source": [
    "# slice()\n",
    "# Syntax slice(start, end, step)\n",
    "\n",
    "a = (\"a\", \"b\", \"c\", \"d\", \"e\", \"f\", \"g\", \"h\")\n",
    "x67= slice(2)\n",
    "print(a[x67])\n",
    "\n",
    "a1 = (\"a\", \"b\", \"c\", \"d\", \"e\", \"f\", \"g\", \"h\")\n",
    "x68 = slice(3, 5)\n",
    "print(a1[x68])\n",
    "\n",
    "a2 = (\"a\", \"b\", \"c\", \"d\", \"e\", \"f\", \"g\", \"h\")\n",
    "x69 = slice(0, 8, 3)\n",
    "print(a2[x69])"
   ]
  },
  {
   "cell_type": "code",
   "execution_count": 43,
   "id": "961daa39",
   "metadata": {
    "ExecuteTime": {
     "end_time": "2023-11-16T12:46:57.512909Z",
     "start_time": "2023-11-16T12:46:57.497977Z"
    }
   },
   "outputs": [
    {
     "name": "stdout",
     "output_type": "stream",
     "text": [
      "<class 'tuple'>\n",
      "<class 'str'>\n",
      "<class 'int'>\n"
     ]
    }
   ],
   "source": [
    "# type()\n",
    "# Syntax type(object, bases, dict)\n",
    "\n",
    "a = ('apple', 'banana', 'cherry')\n",
    "b = \"Hello World\"\n",
    "c = 33\n",
    "print(type(a))\n",
    "print(type(b))\n",
    "print(type(c))"
   ]
  },
  {
   "cell_type": "markdown",
   "id": "b8984c65",
   "metadata": {},
   "source": [
    "$Examples  on  Strings$"
   ]
  },
  {
   "cell_type": "code",
   "execution_count": 47,
   "id": "4f75d6ac",
   "metadata": {
    "ExecuteTime": {
     "end_time": "2023-11-16T12:51:22.593750Z",
     "start_time": "2023-11-16T12:51:22.584755Z"
    }
   },
   "outputs": [
    {
     "name": "stdout",
     "output_type": "stream",
     "text": [
      "python\n",
      "<class 'str'>\n",
      "6\n",
      "y\n",
      "h\n",
      "2367485242416\n"
     ]
    }
   ],
   "source": [
    "name='python'\n",
    "print(name)\n",
    "print(type(name))\n",
    "print(len(name))\n",
    "print(max(name))\n",
    "print(min(name))\n",
    "print(id(name))"
   ]
  },
  {
   "cell_type": "code",
   "execution_count": 48,
   "id": "b65c809b",
   "metadata": {
    "ExecuteTime": {
     "end_time": "2023-11-16T12:51:30.789685Z",
     "start_time": "2023-11-16T12:51:30.781711Z"
    }
   },
   "outputs": [
    {
     "name": "stdout",
     "output_type": "stream",
     "text": [
      "p 112\n",
      "y 121\n",
      "t 116\n",
      "h 104\n",
      "o 111\n",
      "n 110\n"
     ]
    }
   ],
   "source": [
    "for i in 'python':\n",
    "    print(i,ord(i))"
   ]
  },
  {
   "cell_type": "code",
   "execution_count": 51,
   "id": "0a5a7eef",
   "metadata": {
    "ExecuteTime": {
     "end_time": "2023-11-16T12:51:59.921199Z",
     "start_time": "2023-11-16T12:51:59.911182Z"
    }
   },
   "outputs": [
    {
     "data": {
      "text/plain": [
       "'hi hello'"
      ]
     },
     "execution_count": 51,
     "metadata": {},
     "output_type": "execute_result"
    }
   ],
   "source": [
    "str1='hi'\n",
    "str2='hello'\n",
    "str1 +' '+ str2"
   ]
  },
  {
   "cell_type": "code",
   "execution_count": 52,
   "id": "47ce4e9e",
   "metadata": {
    "ExecuteTime": {
     "end_time": "2023-11-16T12:54:20.659074Z",
     "start_time": "2023-11-16T12:54:20.636849Z"
    }
   },
   "outputs": [],
   "source": [
    "\"\"\"\n",
    "this program about infinite while loop\n",
    "the original password='python'\n",
    "function:\n",
    "      arguments: None\n",
    "      return: None\n",
    "\"\"\"\n",
    "def pwd():\n",
    "    password='python'  # random number  (1,10)\n",
    "    while True:\n",
    "        user_pwd=input(\"enter pwd\")  # user number= eval(input)\n",
    "        if password==user_pwd:\n",
    "            print('you won')\n",
    "            break\n",
    "        else:\n",
    "            print(\"the password is wrong\")"
   ]
  },
  {
   "cell_type": "code",
   "execution_count": 53,
   "id": "98aa42b9",
   "metadata": {
    "ExecuteTime": {
     "end_time": "2023-11-16T12:55:26.479667Z",
     "start_time": "2023-11-16T12:55:26.462522Z"
    }
   },
   "outputs": [
    {
     "data": {
      "text/plain": [
       "'python'"
      ]
     },
     "execution_count": 53,
     "metadata": {},
     "output_type": "execute_result"
    }
   ],
   "source": [
    "string1='python'\n",
    "string2=string1 # 'py'\n",
    "string3='hello' # 'he'\n",
    "string4=string3 # 'he'\n",
    "string4=string1 # 'py'\n",
    "string4=string2 # 'py'\n",
    "string5=string4 #'py'\n",
    "string5"
   ]
  },
  {
   "cell_type": "code",
   "execution_count": 56,
   "id": "aefc3dae",
   "metadata": {
    "ExecuteTime": {
     "end_time": "2023-11-16T12:58:38.260141Z",
     "start_time": "2023-11-16T12:58:38.244134Z"
    }
   },
   "outputs": [
    {
     "name": "stdout",
     "output_type": "stream",
     "text": [
      "hellopython\n",
      "hellohello\n",
      "hellohello\n"
     ]
    }
   ],
   "source": [
    "string1='hello'\n",
    "string2='python'\n",
    "print(string1+string2)\n",
    "print(2*string1)\n",
    "print(string1*2)"
   ]
  },
  {
   "cell_type": "code",
   "execution_count": 58,
   "id": "8ea3a615",
   "metadata": {
    "ExecuteTime": {
     "end_time": "2023-11-16T13:00:18.391425Z",
     "start_time": "2023-11-16T13:00:18.383062Z"
    }
   },
   "outputs": [
    {
     "name": "stdout",
     "output_type": "stream",
     "text": [
      "17\n",
      "h e l l o   h o w   a r e   y o u "
     ]
    }
   ],
   "source": [
    "name1='hello how are you'\n",
    "# spaces also consider one character\n",
    "print(len(name1))\n",
    "# i need to provide some number\n",
    "for i in range(len(name1)):\n",
    "    print(name1[i],end=' ')"
   ]
  },
  {
   "cell_type": "code",
   "execution_count": 59,
   "id": "560323d7",
   "metadata": {
    "ExecuteTime": {
     "end_time": "2023-11-16T13:01:59.471867Z",
     "start_time": "2023-11-16T13:01:57.180180Z"
    }
   },
   "outputs": [
    {
     "name": "stdout",
     "output_type": "stream",
     "text": [
      "Enter a name:Mobin\n",
      "the index of M is:0\n",
      "the index of o is:1\n",
      "the index of b is:2\n",
      "the index of i is:3\n",
      "the index of n is:4\n"
     ]
    }
   ],
   "source": [
    "# wap ask the user print the letters from a given word \n",
    "# using for loop\n",
    "# 'the index of p is:0'\n",
    "# 'the index of y is:1'\n",
    "# i want letter as well as attached index number\n",
    "\n",
    "name2=input(\"Enter a name:\")\n",
    "for i in range(len(name2)):\n",
    "    print('the index of {} is:{}'.format(name2[i],i))"
   ]
  },
  {
   "cell_type": "code",
   "execution_count": 60,
   "id": "3974f798",
   "metadata": {
    "ExecuteTime": {
     "end_time": "2023-11-16T13:02:17.585096Z",
     "start_time": "2023-11-16T13:02:17.578921Z"
    }
   },
   "outputs": [
    {
     "name": "stdout",
     "output_type": "stream",
     "text": [
      "the index of M is:0\n",
      "the index of o is:1\n",
      "the index of b is:2\n",
      "the index of i is:3\n",
      "the index of n is:4\n"
     ]
    }
   ],
   "source": [
    "# same code using while loop\n",
    "i=0\n",
    "name2='Mobin'\n",
    "while i<len(name2):\n",
    "    print('the index of {} is:{}'.format(name2[i],i)) \n",
    "    i+=1"
   ]
  },
  {
   "cell_type": "code",
   "execution_count": 61,
   "id": "7df21eea",
   "metadata": {
    "ExecuteTime": {
     "end_time": "2023-11-16T13:02:33.547940Z",
     "start_time": "2023-11-16T13:02:33.532949Z"
    }
   },
   "outputs": [
    {
     "data": {
      "text/plain": [
       "'p'"
      ]
     },
     "execution_count": 61,
     "metadata": {},
     "output_type": "execute_result"
    }
   ],
   "source": [
    "name3='python'\n",
    "name3[-6]"
   ]
  },
  {
   "cell_type": "code",
   "execution_count": 62,
   "id": "24176309",
   "metadata": {
    "ExecuteTime": {
     "end_time": "2023-11-16T13:03:04.325813Z",
     "start_time": "2023-11-16T13:03:04.318836Z"
    }
   },
   "outputs": [
    {
     "name": "stdout",
     "output_type": "stream",
     "text": [
      "the negative index of p is -6\n",
      "the negative index of y is -5\n",
      "the negative index of t is -4\n",
      "the negative index of h is -3\n",
      "the negative index of o is -2\n",
      "the negative index of n is -1\n"
     ]
    }
   ],
   "source": [
    "# wap ask the user print the letters from a given word \n",
    "# using for loop\n",
    "# 'the negative index of p is:-6'\n",
    "# 'the negative index of y is:-5'\n",
    "# i want letter as well as attached index number\n",
    "\n",
    "name3='python'\n",
    "for i in range(-len(name3),0):\n",
    "    print(\"the negative index of {} is {}\".format(name3[i],i))"
   ]
  },
  {
   "cell_type": "code",
   "execution_count": 63,
   "id": "8a63c776",
   "metadata": {
    "ExecuteTime": {
     "end_time": "2023-11-16T13:03:29.587680Z",
     "start_time": "2023-11-16T13:03:29.579382Z"
    }
   },
   "outputs": [
    {
     "name": "stdout",
     "output_type": "stream",
     "text": [
      "the negative index of p is -6\n",
      "the negative index of y is -5\n",
      "the negative index of t is -4\n",
      "the negative index of h is -3\n",
      "the negative index of o is -2\n",
      "the negative index of n is -1\n"
     ]
    }
   ],
   "source": [
    "name4='python'\n",
    "for i in range(len(name4)):\n",
    "    print(\"the negative index of {} is {}\".format(name4[i],i-len(name4)))   "
   ]
  },
  {
   "cell_type": "code",
   "execution_count": 64,
   "id": "d0933fa4",
   "metadata": {
    "ExecuteTime": {
     "end_time": "2023-11-16T13:03:45.716359Z",
     "start_time": "2023-11-16T13:03:45.701345Z"
    }
   },
   "outputs": [
    {
     "name": "stdout",
     "output_type": "stream",
     "text": [
      "the -ve index of p is : -6\n",
      "the -ve index of n is : -5\n",
      "the -ve index of o is : -4\n",
      "the -ve index of h is : -3\n",
      "the -ve index of t is : -2\n",
      "the -ve index of y is : -1\n"
     ]
    }
   ],
   "source": [
    "# how to print -6 -5 -4 -3 -2 -1 using while loop\n",
    "i=0\n",
    "name4='python'\n",
    "while i>-len(name4):\n",
    "    print('the -ve index of {} is : {}'.format(name4[i],-len(name4)-i))\n",
    "    i-=1"
   ]
  },
  {
   "cell_type": "code",
   "execution_count": 65,
   "id": "46dff622",
   "metadata": {
    "ExecuteTime": {
     "end_time": "2023-11-16T13:04:14.610763Z",
     "start_time": "2023-11-16T13:04:14.595770Z"
    }
   },
   "outputs": [
    {
     "name": "stdout",
     "output_type": "stream",
     "text": [
      "the positivr index is: 0 the negetive index is: -6 for p\n",
      "the positivr index is: 1 the negetive index is: -5 for y\n",
      "the positivr index is: 2 the negetive index is: -4 for t\n",
      "the positivr index is: 3 the negetive index is: -3 for h\n",
      "the positivr index is: 4 the negetive index is: -2 for o\n",
      "the positivr index is: 5 the negetive index is: -1 for n\n"
     ]
    }
   ],
   "source": [
    "name='python'\n",
    "for i in range(len(name)):\n",
    "    print('the positivr index is: {} the negetive index is: {} for {}'. format(i,i-len(name),name[i]))"
   ]
  },
  {
   "cell_type": "code",
   "execution_count": 66,
   "id": "11408a2f",
   "metadata": {
    "ExecuteTime": {
     "end_time": "2023-11-16T13:05:54.259890Z",
     "start_time": "2023-11-16T13:05:54.252328Z"
    }
   },
   "outputs": [
    {
     "name": "stdout",
     "output_type": "stream",
     "text": [
      "no of repated a are: 3\n"
     ]
    }
   ],
   "source": [
    "sent='hai hai how are you'\n",
    "# first iteratre letters\n",
    "count=0\n",
    "for i in range(len(sent)):\n",
    "    if sent[i]=='a':             \n",
    "        count=count+1\n",
    "        \n",
    "print(\"no of repated a are:\",count)"
   ]
  },
  {
   "cell_type": "code",
   "execution_count": 67,
   "id": "2d0d72d0",
   "metadata": {
    "ExecuteTime": {
     "end_time": "2023-11-16T13:06:17.469994Z",
     "start_time": "2023-11-16T13:06:17.459997Z"
    }
   },
   "outputs": [
    {
     "name": "stdout",
     "output_type": "stream",
     "text": [
      "1\n",
      "5\n",
      "12\n",
      "no of repated a are: 3\n"
     ]
    }
   ],
   "source": [
    "sent='hai hai how are you'\n",
    "# first iteratre letters\n",
    "count=0\n",
    "for i in range(len(sent)):\n",
    "    if sent[i]=='a':             \n",
    "        count=count+1\n",
    "        print(i)\n",
    "        \n",
    "print(\"no of repated a are:\",count)"
   ]
  },
  {
   "cell_type": "code",
   "execution_count": 68,
   "id": "69060991",
   "metadata": {
    "ExecuteTime": {
     "end_time": "2023-11-16T13:06:44.899712Z",
     "start_time": "2023-11-16T13:06:44.889718Z"
    }
   },
   "outputs": [
    {
     "name": "stdout",
     "output_type": "stream",
     "text": [
      "no of repated vowels are: 9\n"
     ]
    }
   ],
   "source": [
    "sent='hai hai how are you'\n",
    "# first iteratre letters\n",
    "count=0\n",
    "for i in range(len(sent)):\n",
    "    if sent[i] in 'aeiou':             \n",
    "        count=count+1\n",
    "        \n",
    "print(\"no of repated vowels are:\",count)"
   ]
  },
  {
   "cell_type": "code",
   "execution_count": 69,
   "id": "67a6e46f",
   "metadata": {
    "ExecuteTime": {
     "end_time": "2023-11-16T13:07:56.313607Z",
     "start_time": "2023-11-16T13:07:56.301613Z"
    }
   },
   "outputs": [],
   "source": [
    "string1='hello how are you'\n",
    "#string1[start:stop:step]         # range(start,stop,step)"
   ]
  },
  {
   "cell_type": "code",
   "execution_count": 70,
   "id": "cb11a5ed",
   "metadata": {
    "ExecuteTime": {
     "end_time": "2023-11-16T13:08:03.284741Z",
     "start_time": "2023-11-16T13:08:03.276303Z"
    }
   },
   "outputs": [
    {
     "data": {
      "text/plain": [
       "'llo how '"
      ]
     },
     "execution_count": 70,
     "metadata": {},
     "output_type": "execute_result"
    }
   ],
   "source": [
    "string1[2:10]\n",
    "# what is the direction:  postive\n",
    "# start=2\n",
    "# stop=10-1=9"
   ]
  },
  {
   "cell_type": "code",
   "execution_count": 71,
   "id": "d664ba45",
   "metadata": {
    "ExecuteTime": {
     "end_time": "2023-11-16T13:08:59.323335Z",
     "start_time": "2023-11-16T13:08:59.302444Z"
    }
   },
   "outputs": [
    {
     "name": "stdout",
     "output_type": "stream",
     "text": [
      "hello how are you\n",
      "hello how are you\n",
      "hello how are you\n",
      "hello how are you\n"
     ]
    }
   ],
   "source": [
    "print(string1[0:])\n",
    "print(string1[:len(string1)])\n",
    "print(string1[:])\n",
    "print(string1[::])"
   ]
  },
  {
   "cell_type": "code",
   "execution_count": 72,
   "id": "2d9233bf",
   "metadata": {
    "ExecuteTime": {
     "end_time": "2023-11-16T13:09:27.167299Z",
     "start_time": "2023-11-16T13:09:27.146508Z"
    }
   },
   "outputs": [
    {
     "data": {
      "text/plain": [
       "['__add__',\n",
       " '__class__',\n",
       " '__contains__',\n",
       " '__delattr__',\n",
       " '__dir__',\n",
       " '__doc__',\n",
       " '__eq__',\n",
       " '__format__',\n",
       " '__ge__',\n",
       " '__getattribute__',\n",
       " '__getitem__',\n",
       " '__getnewargs__',\n",
       " '__gt__',\n",
       " '__hash__',\n",
       " '__init__',\n",
       " '__init_subclass__',\n",
       " '__iter__',\n",
       " '__le__',\n",
       " '__len__',\n",
       " '__lt__',\n",
       " '__mod__',\n",
       " '__mul__',\n",
       " '__ne__',\n",
       " '__new__',\n",
       " '__reduce__',\n",
       " '__reduce_ex__',\n",
       " '__repr__',\n",
       " '__rmod__',\n",
       " '__rmul__',\n",
       " '__setattr__',\n",
       " '__sizeof__',\n",
       " '__str__',\n",
       " '__subclasshook__',\n",
       " 'capitalize',\n",
       " 'casefold',\n",
       " 'center',\n",
       " 'count',\n",
       " 'encode',\n",
       " 'endswith',\n",
       " 'expandtabs',\n",
       " 'find',\n",
       " 'format',\n",
       " 'format_map',\n",
       " 'index',\n",
       " 'isalnum',\n",
       " 'isalpha',\n",
       " 'isascii',\n",
       " 'isdecimal',\n",
       " 'isdigit',\n",
       " 'isidentifier',\n",
       " 'islower',\n",
       " 'isnumeric',\n",
       " 'isprintable',\n",
       " 'isspace',\n",
       " 'istitle',\n",
       " 'isupper',\n",
       " 'join',\n",
       " 'ljust',\n",
       " 'lower',\n",
       " 'lstrip',\n",
       " 'maketrans',\n",
       " 'partition',\n",
       " 'removeprefix',\n",
       " 'removesuffix',\n",
       " 'replace',\n",
       " 'rfind',\n",
       " 'rindex',\n",
       " 'rjust',\n",
       " 'rpartition',\n",
       " 'rsplit',\n",
       " 'rstrip',\n",
       " 'split',\n",
       " 'splitlines',\n",
       " 'startswith',\n",
       " 'strip',\n",
       " 'swapcase',\n",
       " 'title',\n",
       " 'translate',\n",
       " 'upper',\n",
       " 'zfill']"
      ]
     },
     "execution_count": 72,
     "metadata": {},
     "output_type": "execute_result"
    }
   ],
   "source": [
    "dir(' ')"
   ]
  },
  {
   "cell_type": "code",
   "execution_count": 73,
   "id": "1c5c191b",
   "metadata": {
    "ExecuteTime": {
     "end_time": "2023-11-16T13:10:54.855488Z",
     "start_time": "2023-11-16T13:10:54.842517Z"
    }
   },
   "outputs": [
    {
     "data": {
      "text/plain": [
       "4"
      ]
     },
     "execution_count": 73,
     "metadata": {},
     "output_type": "execute_result"
    }
   ],
   "source": [
    "# Method-1:\n",
    "string1='HAI HAI hai hai'\n",
    "string2=string1.lower()\n",
    "string2.count('h')\n",
    "\n",
    "# M-2:\n",
    "string1.lower().count('h')\n",
    "\n",
    "# M-3:\n",
    "'HAI HAI hai hai'.lower().count('h')\n",
    "\n",
    "# M-4:\n",
    "'hai hai hai hai'.count('h')"
   ]
  },
  {
   "cell_type": "code",
   "execution_count": 75,
   "id": "77018bef",
   "metadata": {
    "ExecuteTime": {
     "end_time": "2023-11-16T13:12:35.797110Z",
     "start_time": "2023-11-16T13:12:35.765794Z"
    }
   },
   "outputs": [
    {
     "data": {
      "text/plain": [
       "'weLcome'"
      ]
     },
     "execution_count": 75,
     "metadata": {},
     "output_type": "execute_result"
    }
   ],
   "source": [
    "# welcome =====\n",
    "string1='welcome'\n",
    "#we =string1[:2]    \n",
    "#come =string1[3:]\n",
    "# slice + concatenation\n",
    "string1[:2]+'L'+string1[3:]"
   ]
  },
  {
   "cell_type": "code",
   "execution_count": 76,
   "id": "795f78fe",
   "metadata": {
    "ExecuteTime": {
     "end_time": "2023-11-16T13:12:42.762551Z",
     "start_time": "2023-11-16T13:12:42.747392Z"
    }
   },
   "outputs": [
    {
     "data": {
      "text/plain": [
       "'weLcome'"
      ]
     },
     "execution_count": 76,
     "metadata": {},
     "output_type": "execute_result"
    }
   ],
   "source": [
    "string1.replace('l','L')"
   ]
  },
  {
   "cell_type": "code",
   "execution_count": 77,
   "id": "ee742905",
   "metadata": {
    "ExecuteTime": {
     "end_time": "2023-11-16T13:13:19.537691Z",
     "start_time": "2023-11-16T13:13:19.520220Z"
    }
   },
   "outputs": [
    {
     "name": "stdout",
     "output_type": "stream",
     "text": [
      "$esta$t\n",
      "$estart\n",
      "resta$t\n",
      "resta$t\n",
      "resta$t\n"
     ]
    }
   ],
   "source": [
    "string1='restart'\n",
    "print(string1.replace('r','$'))\n",
    "\n",
    "# in above code im not providing count value\n",
    "# what is default value=-1\n",
    "# replace maximum occurences\n",
    "\n",
    "print(string1.replace('r','$',1))\n",
    "\n",
    "# whenever you see '/' in the function inside\n",
    "# then dont provide variable name\n",
    "\n",
    "# 1 means what , only replace one occurence\n",
    "\n",
    "# Now I want to do second occurence\n",
    "# as of now we are counting the index\n",
    "str1=string1[1:]  #'estart'\n",
    "str2=string1[:1]  #'r'\n",
    "str3=str1.replace('r','$',1)\n",
    "print(str2+str3)\n",
    "\n",
    "print(string1[:1]+string1[1:].replace('r','$',1))\n",
    "print(string1[::-1].replace('r','$',1)[::-1])"
   ]
  },
  {
   "cell_type": "code",
   "execution_count": 78,
   "id": "7fab3133",
   "metadata": {
    "ExecuteTime": {
     "end_time": "2023-11-16T13:14:09.312486Z",
     "start_time": "2023-11-16T13:14:09.294037Z"
    }
   },
   "outputs": [
    {
     "data": {
      "text/plain": [
       "'uma'"
      ]
     },
     "execution_count": 78,
     "metadata": {},
     "output_type": "execute_result"
    }
   ],
   "source": [
    "sent1='rashaad.omkar@gmail.com'\n",
    "sent1='omkar.mobin@gmail.com'\n",
    "sent1[sent1.find('.')+1:sent1.find('@')] \n",
    "#extract only: omkar\n",
    "sent2='mobin.sourav@uma.com'  \n",
    "# extract: uma\n",
    "# Dont slice that, \n",
    "# you are count\n",
    "# index and find \n",
    "# use only methods\n",
    "#sent1.replace('rashaad.','').replace('@gmail.com','') # Bikas\n",
    "sent1[sent1.find('.')+1:sent1.find('@')]  # Find\n",
    "sent1[sent1.index('.')+1:sent1.index('@')]\n",
    "\n",
    "sent2 = 'mobin.sourav@uma.com'\n",
    "sent2.index('@')\n",
    "sent2[sent2.index('@')+1:sent2.index('.c')]"
   ]
  },
  {
   "cell_type": "markdown",
   "id": "58654dad",
   "metadata": {},
   "source": [
    "### Bullet points\n",
    "- triple quotes is means doc string\n",
    "- it is an informatiom about the code\n",
    "- entire string will be in double quotes, the highlited string in single quotes\n",
    "- entire string will be in single quotes, the highlited string in double quotes\n",
    "- nothing mentioned at start postition: simply satrting of letter\n",
    "- nothing mentioned at stop postion: simply last letter\n",
    "- nothing mentioned at step size: it is postive direction with step value +1\n",
    "- if you want remove the spaces we use method strip\n",
    "- strip: It will remove spaces both sides\n",
    "- lstrip: It will remove left side space\n",
    "- rstrip: It will remove right side space"
   ]
  },
  {
   "cell_type": "markdown",
   "id": "60ce1eeb",
   "metadata": {},
   "source": [
    "# notice the errors\n"
   ]
  },
  {
   "cell_type": "code",
   "execution_count": 55,
   "id": "818ffd57",
   "metadata": {
    "ExecuteTime": {
     "end_time": "2023-11-16T12:57:44.219588Z",
     "start_time": "2023-11-16T12:57:44.205576Z"
    }
   },
   "outputs": [
    {
     "name": "stdout",
     "output_type": "stream",
     "text": [
      "HiDS\n"
     ]
    },
    {
     "ename": "TypeError",
     "evalue": "unsupported operand type(s) for -: 'str' and 'str'",
     "output_type": "error",
     "traceback": [
      "\u001b[1;31m---------------------------------------------------------------------------\u001b[0m",
      "\u001b[1;31mTypeError\u001b[0m                                 Traceback (most recent call last)",
      "\u001b[1;32m~\\AppData\\Local\\Temp/ipykernel_6476/4248358750.py\u001b[0m in \u001b[0;36m<module>\u001b[1;34m\u001b[0m\n\u001b[0;32m      2\u001b[0m \u001b[0mstring2\u001b[0m\u001b[1;33m=\u001b[0m\u001b[1;34m'DS'\u001b[0m\u001b[1;33m\u001b[0m\u001b[1;33m\u001b[0m\u001b[0m\n\u001b[0;32m      3\u001b[0m \u001b[0mprint\u001b[0m\u001b[1;33m(\u001b[0m\u001b[0mstring1\u001b[0m\u001b[1;33m+\u001b[0m\u001b[0mstring2\u001b[0m\u001b[1;33m)\u001b[0m\u001b[1;33m\u001b[0m\u001b[1;33m\u001b[0m\u001b[0m\n\u001b[1;32m----> 4\u001b[1;33m \u001b[0mprint\u001b[0m\u001b[1;33m(\u001b[0m\u001b[0mstring1\u001b[0m\u001b[1;33m-\u001b[0m\u001b[0mstring2\u001b[0m\u001b[1;33m)\u001b[0m\u001b[1;33m\u001b[0m\u001b[1;33m\u001b[0m\u001b[0m\n\u001b[0m\u001b[0;32m      5\u001b[0m \u001b[0mprint\u001b[0m\u001b[1;33m(\u001b[0m\u001b[0mstring1\u001b[0m\u001b[1;33m*\u001b[0m\u001b[0mstring2\u001b[0m\u001b[1;33m)\u001b[0m\u001b[1;33m\u001b[0m\u001b[1;33m\u001b[0m\u001b[0m\n\u001b[0;32m      6\u001b[0m \u001b[0mprint\u001b[0m\u001b[1;33m(\u001b[0m\u001b[0mstring1\u001b[0m\u001b[1;33m/\u001b[0m\u001b[0mstring2\u001b[0m\u001b[1;33m)\u001b[0m\u001b[1;33m\u001b[0m\u001b[1;33m\u001b[0m\u001b[0m\n",
      "\u001b[1;31mTypeError\u001b[0m: unsupported operand type(s) for -: 'str' and 'str'"
     ]
    }
   ],
   "source": [
    "string1='Hi'\n",
    "string2='DS'\n",
    "print(string1+string2)\n",
    "print(string1-string2)\n",
    "print(string1*string2)\n",
    "print(string1/string2)"
   ]
  },
  {
   "cell_type": "code",
   "execution_count": 57,
   "id": "9ad68f5c",
   "metadata": {
    "ExecuteTime": {
     "end_time": "2023-11-16T12:59:47.828120Z",
     "start_time": "2023-11-16T12:59:47.798392Z"
    }
   },
   "outputs": [
    {
     "name": "stdout",
     "output_type": "stream",
     "text": [
      "p\n",
      "y\n",
      "t\n",
      "h\n",
      "o\n",
      "n\n"
     ]
    },
    {
     "ename": "IndexError",
     "evalue": "string index out of range",
     "output_type": "error",
     "traceback": [
      "\u001b[1;31m---------------------------------------------------------------------------\u001b[0m",
      "\u001b[1;31mIndexError\u001b[0m                                Traceback (most recent call last)",
      "\u001b[1;32m~\\AppData\\Local\\Temp/ipykernel_6476/715161518.py\u001b[0m in \u001b[0;36m<module>\u001b[1;34m\u001b[0m\n\u001b[0;32m      1\u001b[0m \u001b[0mname\u001b[0m\u001b[1;33m=\u001b[0m\u001b[1;34m'python'\u001b[0m\u001b[1;33m\u001b[0m\u001b[1;33m\u001b[0m\u001b[0m\n\u001b[0;32m      2\u001b[0m \u001b[1;32mfor\u001b[0m \u001b[0mi\u001b[0m \u001b[1;32min\u001b[0m \u001b[0mrange\u001b[0m\u001b[1;33m(\u001b[0m\u001b[1;36m7\u001b[0m\u001b[1;33m)\u001b[0m\u001b[1;33m:\u001b[0m\u001b[1;33m\u001b[0m\u001b[1;33m\u001b[0m\u001b[0m\n\u001b[1;32m----> 3\u001b[1;33m     \u001b[0mprint\u001b[0m\u001b[1;33m(\u001b[0m\u001b[0mname\u001b[0m\u001b[1;33m[\u001b[0m\u001b[0mi\u001b[0m\u001b[1;33m]\u001b[0m\u001b[1;33m)\u001b[0m   \u001b[1;31m#  0   1   2   3  4  5  name[6]\u001b[0m\u001b[1;33m\u001b[0m\u001b[1;33m\u001b[0m\u001b[0m\n\u001b[0m",
      "\u001b[1;31mIndexError\u001b[0m: string index out of range"
     ]
    }
   ],
   "source": [
    "name='python'\n",
    "for i in range(7):\n",
    "    print(name[i])   #  0   1   2   3  4  5  name[6]"
   ]
  }
 ],
 "metadata": {
  "kernelspec": {
   "display_name": "Python 3 (ipykernel)",
   "language": "python",
   "name": "python3"
  },
  "language_info": {
   "codemirror_mode": {
    "name": "ipython",
    "version": 3
   },
   "file_extension": ".py",
   "mimetype": "text/x-python",
   "name": "python",
   "nbconvert_exporter": "python",
   "pygments_lexer": "ipython3",
   "version": "3.9.7"
  }
 },
 "nbformat": 4,
 "nbformat_minor": 5
}
