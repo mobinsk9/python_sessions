{
 "cells": [
  {
   "cell_type": "code",
   "execution_count": 1,
   "id": "d0628ea5",
   "metadata": {
    "ExecuteTime": {
     "end_time": "2023-10-20T14:20:09.643716Z",
     "start_time": "2023-10-20T14:20:09.627747Z"
    }
   },
   "outputs": [],
   "source": [
    "a=20\n",
    "def val():\n",
    "    a=30\n",
    "    print(a)"
   ]
  },
  {
   "cell_type": "code",
   "execution_count": 2,
   "id": "712e2175",
   "metadata": {
    "ExecuteTime": {
     "end_time": "2023-10-20T14:20:53.854256Z",
     "start_time": "2023-10-20T14:20:53.833270Z"
    }
   },
   "outputs": [
    {
     "name": "stdout",
     "output_type": "stream",
     "text": [
      "30\n"
     ]
    }
   ],
   "source": [
    "val()"
   ]
  },
  {
   "cell_type": "code",
   "execution_count": 3,
   "id": "2ab85f8c",
   "metadata": {
    "ExecuteTime": {
     "end_time": "2023-10-20T14:21:00.586383Z",
     "start_time": "2023-10-20T14:21:00.580383Z"
    }
   },
   "outputs": [
    {
     "name": "stdout",
     "output_type": "stream",
     "text": [
      "20\n"
     ]
    }
   ],
   "source": [
    "print(a)"
   ]
  },
  {
   "cell_type": "code",
   "execution_count": 5,
   "id": "590e9cc0",
   "metadata": {
    "ExecuteTime": {
     "end_time": "2023-10-20T14:27:44.428418Z",
     "start_time": "2023-10-20T14:27:44.411426Z"
    }
   },
   "outputs": [],
   "source": [
    "a=20\n",
    "def val():\n",
    "    global a\n",
    "    a=30\n",
    "    print(a)"
   ]
  },
  {
   "cell_type": "code",
   "execution_count": 6,
   "id": "08b3cc59",
   "metadata": {
    "ExecuteTime": {
     "end_time": "2023-10-20T14:27:50.160232Z",
     "start_time": "2023-10-20T14:27:50.151237Z"
    }
   },
   "outputs": [
    {
     "name": "stdout",
     "output_type": "stream",
     "text": [
      "30\n"
     ]
    }
   ],
   "source": [
    "val()"
   ]
  },
  {
   "cell_type": "code",
   "execution_count": 7,
   "id": "cbd28440",
   "metadata": {
    "ExecuteTime": {
     "end_time": "2023-10-20T14:27:57.148062Z",
     "start_time": "2023-10-20T14:27:57.137068Z"
    }
   },
   "outputs": [
    {
     "name": "stdout",
     "output_type": "stream",
     "text": [
      "30\n"
     ]
    }
   ],
   "source": [
    "print(a)"
   ]
  },
  {
   "cell_type": "code",
   "execution_count": 10,
   "id": "2e217486",
   "metadata": {
    "ExecuteTime": {
     "end_time": "2023-10-20T14:39:26.723952Z",
     "start_time": "2023-10-20T14:39:26.702943Z"
    }
   },
   "outputs": [],
   "source": [
    "def add(a,b):\n",
    "    return b"
   ]
  },
  {
   "cell_type": "code",
   "execution_count": 11,
   "id": "2037026d",
   "metadata": {
    "ExecuteTime": {
     "end_time": "2023-10-20T14:39:29.862501Z",
     "start_time": "2023-10-20T14:39:29.837514Z"
    }
   },
   "outputs": [
    {
     "data": {
      "text/plain": [
       "20"
      ]
     },
     "execution_count": 11,
     "metadata": {},
     "output_type": "execute_result"
    }
   ],
   "source": [
    "add(10,20)"
   ]
  },
  {
   "cell_type": "markdown",
   "id": "d30e9ab9",
   "metadata": {},
   "source": [
    "Return will return parameters also \n",
    "\n",
    "Global will not work for parameters"
   ]
  },
  {
   "cell_type": "code",
   "execution_count": 12,
   "id": "3a228400",
   "metadata": {
    "ExecuteTime": {
     "end_time": "2023-10-20T14:50:48.837349Z",
     "start_time": "2023-10-20T14:50:48.817338Z"
    }
   },
   "outputs": [],
   "source": [
    "num1=30\n",
    "def add(num3):\n",
    "    global num1,num2\n",
    "    num2=eval(input(\"Enter n2:\"))\n",
    "    num1=num2+num3\n",
    "    print(num1)"
   ]
  },
  {
   "cell_type": "code",
   "execution_count": 14,
   "id": "f5c7f61b",
   "metadata": {
    "ExecuteTime": {
     "end_time": "2023-10-20T15:01:30.917129Z",
     "start_time": "2023-10-20T15:01:30.896164Z"
    }
   },
   "outputs": [],
   "source": [
    "bill=1000\n",
    "def t_bill(tip):\n",
    "    global t_bill\n",
    "    t_bill=bill+((bill*tip)/100)\n",
    "\n",
    "    "
   ]
  },
  {
   "cell_type": "code",
   "execution_count": 15,
   "id": "7b91fe39",
   "metadata": {
    "ExecuteTime": {
     "end_time": "2023-10-20T15:01:38.653584Z",
     "start_time": "2023-10-20T15:01:38.643587Z"
    }
   },
   "outputs": [],
   "source": [
    "t_bill(10)"
   ]
  },
  {
   "cell_type": "code",
   "execution_count": 16,
   "id": "64aeca06",
   "metadata": {
    "ExecuteTime": {
     "end_time": "2023-10-20T15:01:50.496908Z",
     "start_time": "2023-10-20T15:01:50.477921Z"
    }
   },
   "outputs": [
    {
     "name": "stdout",
     "output_type": "stream",
     "text": [
      "1100.0\n"
     ]
    }
   ],
   "source": [
    "print(t_bill)"
   ]
  },
  {
   "cell_type": "code",
   "execution_count": 19,
   "id": "cfd04e03",
   "metadata": {
    "ExecuteTime": {
     "end_time": "2023-10-20T15:13:46.193658Z",
     "start_time": "2023-10-20T15:13:46.183664Z"
    }
   },
   "outputs": [],
   "source": [
    "def greet():\n",
    "    print(\"Hello good morning!!!\")\n",
    "\n",
    "def hey():\n",
    "        greet()"
   ]
  },
  {
   "cell_type": "code",
   "execution_count": 20,
   "id": "b390a9dc",
   "metadata": {
    "ExecuteTime": {
     "end_time": "2023-10-20T15:13:48.110459Z",
     "start_time": "2023-10-20T15:13:48.098467Z"
    }
   },
   "outputs": [
    {
     "name": "stdout",
     "output_type": "stream",
     "text": [
      "Hello good morning!!!\n"
     ]
    }
   ],
   "source": [
    "hey()"
   ]
  },
  {
   "cell_type": "code",
   "execution_count": 21,
   "id": "1b134446",
   "metadata": {
    "ExecuteTime": {
     "end_time": "2023-10-20T15:18:41.389258Z",
     "start_time": "2023-10-20T15:18:41.383260Z"
    }
   },
   "outputs": [],
   "source": [
    "def greet1():\n",
    "    print(\"Hello\")\n",
    "    \n",
    "def greet2():\n",
    "    print('Good Morning:')\n",
    "    \n",
    "def greet3():\n",
    "    print(\"How much 3+5?\")\n",
    "\n",
    "def greet4():\n",
    "    print(\"I think I don't know\")\n",
    "    "
   ]
  },
  {
   "cell_type": "code",
   "execution_count": 22,
   "id": "7a5fecfe",
   "metadata": {
    "ExecuteTime": {
     "end_time": "2023-10-20T15:19:19.295020Z",
     "start_time": "2023-10-20T15:19:19.275032Z"
    }
   },
   "outputs": [],
   "source": [
    "def slove():\n",
    "    greet3()\n",
    "    greet2()\n",
    "    greet1()\n",
    "    greet4()\n",
    "    print(\"End the Story\")"
   ]
  },
  {
   "cell_type": "code",
   "execution_count": 23,
   "id": "2264672d",
   "metadata": {
    "ExecuteTime": {
     "end_time": "2023-10-20T15:19:26.175976Z",
     "start_time": "2023-10-20T15:19:26.157984Z"
    }
   },
   "outputs": [
    {
     "name": "stdout",
     "output_type": "stream",
     "text": [
      "How much 3+5?\n",
      "Good Morning:\n",
      "Hello\n",
      "I think I don't know\n",
      "End the Story\n"
     ]
    }
   ],
   "source": [
    "slove()"
   ]
  },
  {
   "cell_type": "code",
   "execution_count": 24,
   "id": "990e22fe",
   "metadata": {
    "ExecuteTime": {
     "end_time": "2023-10-20T15:20:57.901281Z",
     "start_time": "2023-10-20T15:20:57.885313Z"
    }
   },
   "outputs": [],
   "source": [
    "def greet1(name):\n",
    "    print(\"Hello\",name)\n",
    "    \n",
    "def greet2():\n",
    "    print('Good Morning:')\n",
    "    \n",
    "def greet3():\n",
    "    print(\"How much 3+5?\")\n",
    "\n",
    "def greet4():\n",
    "    print(\"I think I don't know\")\n",
    "    "
   ]
  },
  {
   "cell_type": "code",
   "execution_count": 31,
   "id": "1c221ed1",
   "metadata": {
    "ExecuteTime": {
     "end_time": "2023-10-20T15:23:54.011723Z",
     "start_time": "2023-10-20T15:23:54.002728Z"
    }
   },
   "outputs": [],
   "source": [
    "def slove():\n",
    "    greet3()\n",
    "    greet2()\n",
    "    greet1(\"Mobin\")\n",
    "    greet4()\n",
    "    print(\"End the Story\")"
   ]
  },
  {
   "cell_type": "code",
   "execution_count": 32,
   "id": "6aa5faae",
   "metadata": {
    "ExecuteTime": {
     "end_time": "2023-10-20T15:23:56.341296Z",
     "start_time": "2023-10-20T15:23:56.335300Z"
    }
   },
   "outputs": [
    {
     "name": "stdout",
     "output_type": "stream",
     "text": [
      "How much 3+5?\n",
      "Good Morning:\n",
      "Hello Mobin\n",
      "I think I don't know\n",
      "End the Story\n"
     ]
    }
   ],
   "source": [
    "slove()"
   ]
  },
  {
   "cell_type": "code",
   "execution_count": 44,
   "id": "b04e85c4",
   "metadata": {
    "ExecuteTime": {
     "end_time": "2023-10-20T15:38:20.967327Z",
     "start_time": "2023-10-20T15:38:20.956334Z"
    }
   },
   "outputs": [],
   "source": [
    "def add(a,b):\n",
    "    print(a+b)\n",
    "def sub(a,b):\n",
    "    print(a-b)\n",
    "def mul(a,b):\n",
    "    print(a*b)\n",
    "def div(a,b):\n",
    "    print(a/b)\n",
    "\n",
    "def cal(a,b):\n",
    "    num=eval(input(\"Enter a number between 1 to 4:\"))\n",
    "    if num==1:\n",
    "        add(a,b)\n",
    "    elif num==2:\n",
    "        sub(a,b)\n",
    "    elif num==3:\n",
    "        mul(a,b)\n",
    "    elif num==4:\n",
    "        div(a,b)"
   ]
  },
  {
   "cell_type": "code",
   "execution_count": 45,
   "id": "791fdaaa",
   "metadata": {
    "ExecuteTime": {
     "end_time": "2023-10-20T15:38:24.041467Z",
     "start_time": "2023-10-20T15:38:22.744665Z"
    }
   },
   "outputs": [
    {
     "name": "stdout",
     "output_type": "stream",
     "text": [
      "Enter a number between 1 to 4:1\n",
      "30\n"
     ]
    }
   ],
   "source": [
    "cal(20,10)"
   ]
  },
  {
   "cell_type": "code",
   "execution_count": null,
   "id": "5c5e5841",
   "metadata": {},
   "outputs": [],
   "source": []
  },
  {
   "cell_type": "code",
   "execution_count": null,
   "id": "3d64a638",
   "metadata": {},
   "outputs": [],
   "source": []
  },
  {
   "cell_type": "code",
   "execution_count": null,
   "id": "18551fd1",
   "metadata": {},
   "outputs": [],
   "source": []
  },
  {
   "cell_type": "code",
   "execution_count": null,
   "id": "97b9158d",
   "metadata": {},
   "outputs": [],
   "source": []
  }
 ],
 "metadata": {
  "kernelspec": {
   "display_name": "Python 3 (ipykernel)",
   "language": "python",
   "name": "python3"
  },
  "language_info": {
   "codemirror_mode": {
    "name": "ipython",
    "version": 3
   },
   "file_extension": ".py",
   "mimetype": "text/x-python",
   "name": "python",
   "nbconvert_exporter": "python",
   "pygments_lexer": "ipython3",
   "version": "3.9.7"
  }
 },
 "nbformat": 4,
 "nbformat_minor": 5
}
