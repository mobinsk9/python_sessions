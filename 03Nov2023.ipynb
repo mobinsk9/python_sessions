{
 "cells": [
  {
   "cell_type": "code",
   "execution_count": 2,
   "id": "9eebb6d3",
   "metadata": {
    "ExecuteTime": {
     "end_time": "2023-11-03T14:30:50.065173Z",
     "start_time": "2023-11-03T14:30:50.038187Z"
    }
   },
   "outputs": [
    {
     "data": {
      "text/plain": [
       "'hellohello'"
      ]
     },
     "execution_count": 2,
     "metadata": {},
     "output_type": "execute_result"
    }
   ],
   "source": [
    "str1='hello'\n",
    "str2='hi'\n",
    "str1*2"
   ]
  },
  {
   "cell_type": "markdown",
   "id": "a0994aff",
   "metadata": {
    "ExecuteTime": {
     "end_time": "2023-11-03T14:31:29.438989Z",
     "start_time": "2023-11-03T14:31:29.425996Z"
    }
   },
   "source": [
    "$ mutability - immutability$"
   ]
  },
  {
   "cell_type": "markdown",
   "id": "3a802df4",
   "metadata": {},
   "source": [
    "strings are immutable, we can't change it by using index operation"
   ]
  },
  {
   "cell_type": "code",
   "execution_count": 7,
   "id": "b0708b39",
   "metadata": {
    "ExecuteTime": {
     "end_time": "2023-11-03T14:36:43.486680Z",
     "start_time": "2023-11-03T14:36:43.459717Z"
    }
   },
   "outputs": [
    {
     "ename": "TypeError",
     "evalue": "'str' object does not support item assignment",
     "output_type": "error",
     "traceback": [
      "\u001b[1;31m---------------------------------------------------------------------------\u001b[0m",
      "\u001b[1;31mTypeError\u001b[0m                                 Traceback (most recent call last)",
      "\u001b[1;32m~\\AppData\\Local\\Temp/ipykernel_14380/1490637256.py\u001b[0m in \u001b[0;36m<module>\u001b[1;34m\u001b[0m\n\u001b[1;32m----> 1\u001b[1;33m \u001b[0mstr1\u001b[0m\u001b[1;33m[\u001b[0m\u001b[1;36m0\u001b[0m\u001b[1;33m]\u001b[0m\u001b[1;33m=\u001b[0m\u001b[1;34m'P'\u001b[0m\u001b[1;33m\u001b[0m\u001b[1;33m\u001b[0m\u001b[0m\n\u001b[0m",
      "\u001b[1;31mTypeError\u001b[0m: 'str' object does not support item assignment"
     ]
    }
   ],
   "source": [
    "str1[0]='P'"
   ]
  },
  {
   "cell_type": "markdown",
   "id": "8d8ab668",
   "metadata": {},
   "source": [
    "$ slicing$"
   ]
  },
  {
   "cell_type": "code",
   "execution_count": 8,
   "id": "36d69745",
   "metadata": {
    "ExecuteTime": {
     "end_time": "2023-11-03T14:42:26.980963Z",
     "start_time": "2023-11-03T14:42:26.964977Z"
    }
   },
   "outputs": [
    {
     "data": {
      "text/plain": [
       "'llo how '"
      ]
     },
     "execution_count": 8,
     "metadata": {},
     "output_type": "execute_result"
    }
   ],
   "source": [
    "string1='hello how are you!!!'\n",
    "string1[2:10]"
   ]
  },
  {
   "cell_type": "code",
   "execution_count": 9,
   "id": "aa2b192a",
   "metadata": {
    "ExecuteTime": {
     "end_time": "2023-11-03T14:44:22.840323Z",
     "start_time": "2023-11-03T14:44:22.820334Z"
    }
   },
   "outputs": [
    {
     "data": {
      "text/plain": [
       "'lohwaey'"
      ]
     },
     "execution_count": 9,
     "metadata": {},
     "output_type": "execute_result"
    }
   ],
   "source": [
    "string1[2:15:2]"
   ]
  },
  {
   "cell_type": "code",
   "execution_count": 10,
   "id": "407540f2",
   "metadata": {
    "ExecuteTime": {
     "end_time": "2023-11-03T14:45:23.145508Z",
     "start_time": "2023-11-03T14:45:23.137514Z"
    }
   },
   "outputs": [
    {
     "data": {
      "text/plain": [
       "''"
      ]
     },
     "execution_count": 10,
     "metadata": {},
     "output_type": "execute_result"
    }
   ],
   "source": [
    "string1[2:15:-2]"
   ]
  },
  {
   "cell_type": "code",
   "execution_count": 11,
   "id": "abb18afe",
   "metadata": {
    "ExecuteTime": {
     "end_time": "2023-11-03T14:51:27.889755Z",
     "start_time": "2023-11-03T14:51:27.867768Z"
    }
   },
   "outputs": [
    {
     "data": {
      "text/plain": [
       "'hello how are you!!!'"
      ]
     },
     "execution_count": 11,
     "metadata": {},
     "output_type": "execute_result"
    }
   ],
   "source": [
    "string1[0:]\n",
    "string1[:len(string1)]\n",
    "string1[:]\n",
    "string1[::]"
   ]
  },
  {
   "cell_type": "code",
   "execution_count": 12,
   "id": "36905013",
   "metadata": {
    "ExecuteTime": {
     "end_time": "2023-11-03T15:01:57.972517Z",
     "start_time": "2023-11-03T15:01:57.961522Z"
    }
   },
   "outputs": [
    {
     "data": {
      "text/plain": [
       "'woh'"
      ]
     },
     "execution_count": 12,
     "metadata": {},
     "output_type": "execute_result"
    }
   ],
   "source": [
    "string1[8:-15:-1]"
   ]
  },
  {
   "cell_type": "code",
   "execution_count": 13,
   "id": "6e581cb4",
   "metadata": {
    "ExecuteTime": {
     "end_time": "2023-11-03T15:19:08.215501Z",
     "start_time": "2023-11-03T15:19:08.197514Z"
    }
   },
   "outputs": [
    {
     "data": {
      "text/plain": [
       "'MOBIN'"
      ]
     },
     "execution_count": 13,
     "metadata": {},
     "output_type": "execute_result"
    }
   ],
   "source": [
    "name='Mobin'\n",
    "name.upper()"
   ]
  },
  {
   "cell_type": "code",
   "execution_count": 14,
   "id": "1cdaf711",
   "metadata": {
    "ExecuteTime": {
     "end_time": "2023-11-03T15:19:22.809383Z",
     "start_time": "2023-11-03T15:19:22.799392Z"
    }
   },
   "outputs": [
    {
     "data": {
      "text/plain": [
       "'mobin'"
      ]
     },
     "execution_count": 14,
     "metadata": {},
     "output_type": "execute_result"
    }
   ],
   "source": [
    "name.lower()"
   ]
  },
  {
   "cell_type": "code",
   "execution_count": 19,
   "id": "682ba9e7",
   "metadata": {
    "ExecuteTime": {
     "end_time": "2023-11-03T15:30:59.751948Z",
     "start_time": "2023-11-03T15:30:59.733956Z"
    }
   },
   "outputs": [
    {
     "data": {
      "text/plain": [
       "'Hello'"
      ]
     },
     "execution_count": 19,
     "metadata": {},
     "output_type": "execute_result"
    }
   ],
   "source": [
    "string1='hello'\n",
    "'H'+string1[1:]\n",
    "\n"
   ]
  },
  {
   "cell_type": "code",
   "execution_count": null,
   "id": "3684b339",
   "metadata": {},
   "outputs": [],
   "source": []
  },
  {
   "cell_type": "code",
   "execution_count": null,
   "id": "80d6ceca",
   "metadata": {},
   "outputs": [],
   "source": []
  },
  {
   "cell_type": "code",
   "execution_count": null,
   "id": "f851a54e",
   "metadata": {},
   "outputs": [],
   "source": []
  },
  {
   "cell_type": "code",
   "execution_count": null,
   "id": "8a561c2e",
   "metadata": {},
   "outputs": [],
   "source": []
  }
 ],
 "metadata": {
  "kernelspec": {
   "display_name": "Python 3 (ipykernel)",
   "language": "python",
   "name": "python3"
  },
  "language_info": {
   "codemirror_mode": {
    "name": "ipython",
    "version": 3
   },
   "file_extension": ".py",
   "mimetype": "text/x-python",
   "name": "python",
   "nbconvert_exporter": "python",
   "pygments_lexer": "ipython3",
   "version": "3.9.7"
  }
 },
 "nbformat": 4,
 "nbformat_minor": 5
}
